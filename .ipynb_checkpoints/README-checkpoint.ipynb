{
 "cells": [
  {
   "cell_type": "markdown",
   "id": "614a43b1",
   "metadata": {},
   "source": [
    "# Bases Computacionais          \n",
    "> **Um curso básico sobre análise de dados (Basic course on data analysis, in Portuguese)**  \n",
    "\n",
    "**Renato Naville Watanabe**  \n",
    "\n",
    "[![Colab](https://colab.research.google.com/assets/colab-badge.svg)](https://colab.research.google.com/github/BMClab/BasesComputacionais/) "
   ]
  },
  {
   "cell_type": "markdown",
   "id": "9a0a5563",
   "metadata": {},
   "source": [
    "\n",
    "\n",
    "### Semana 1: [Apresentação](./aula1/Apresenta%C3%A7%C3%A3o.ipynb#/)\n",
    "\n",
    "### Semana 2: [Variáveis e Algoritmos](./aula2/Vari%C3%A1veis%20e%20algoritmos.ipynb#/)\n",
    "\n",
    "### Semana 3: [Representação gráfica de funções](./aula3/Representa%C3%A7%C3%A3oGraficaDeFun%C3%A7%C3%B5es.ipynb#/)\n",
    "\n",
    "### Semana 4: [Estruturas Condicionais](./aula4/EstruturasCondicionais.ipynb#/)\n",
    "\n",
    "### Semana 5: [Bases de dados](./aula5/BasesDeDados.ipynb#/)\n",
    "\n",
    "### Semana 6: [Estruturas de repetição](./aula6/EstruturasDeRepeticao.ipynb#/)\n",
    "\n",
    "### Semana 7: [Noções de Estatística](./aula7/Estatistica.ipynb#/)\n",
    "\n",
    "### Semana 8: [Funções](./aula8/Funcoes.ipynb#/)\n",
    "\n",
    "### Semana 9: [Regressão](./aula9/Regress%C3%A3o.ipynb#/)\n",
    "\n",
    "### Semana 10: [Exemplos de modelagem](./aula10/Modelagem.ipynb#)\n"
   ]
  }
 ],
 "metadata": {
  "kernelspec": {
   "display_name": "Python 3 (ipykernel)",
   "language": "python",
   "name": "python3"
  },
  "language_info": {
   "codemirror_mode": {
    "name": "ipython",
    "version": 3
   },
   "file_extension": ".py",
   "mimetype": "text/x-python",
   "name": "python",
   "nbconvert_exporter": "python",
   "pygments_lexer": "ipython3",
   "version": "3.9.13"
  },
  "toc": {
   "base_numbering": 1,
   "nav_menu": {},
   "number_sections": true,
   "sideBar": true,
   "skip_h1_title": true,
   "title_cell": "Contents",
   "title_sidebar": "Contents",
   "toc_cell": true,
   "toc_position": {},
   "toc_section_display": true,
   "toc_window_display": false
  },
  "varInspector": {
   "cols": {
    "lenName": 16,
    "lenType": 16,
    "lenVar": 40
   },
   "kernels_config": {
    "python": {
     "delete_cmd_postfix": "",
     "delete_cmd_prefix": "del ",
     "library": "var_list.py",
     "varRefreshCmd": "print(var_dic_list())"
    },
    "r": {
     "delete_cmd_postfix": ") ",
     "delete_cmd_prefix": "rm(",
     "library": "var_list.r",
     "varRefreshCmd": "cat(var_dic_list()) "
    }
   },
   "types_to_exclude": [
    "module",
    "function",
    "builtin_function_or_method",
    "instance",
    "_Feature"
   ],
   "window_display": false
  }
 },
 "nbformat": 4,
 "nbformat_minor": 5
}
