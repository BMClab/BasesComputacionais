{
 "cells": [
  {
   "cell_type": "markdown",
   "id": "c7021029",
   "metadata": {
    "toc": true
   },
   "source": [
    "<h1>Contents<span class=\"tocSkip\"></span></h1>\n",
    "<div class=\"toc\"><ul class=\"toc-item\"><li><span><a href=\"#Semana-1:-Apresentação\" data-toc-modified-id=\"Semana-1:-Apresentação-1\"><span class=\"toc-item-num\">1&nbsp;&nbsp;</span>Semana 1: <a href=\"./aula1/Apresenta%C3%A7%C3%A3o.ipynb#/\" rel=\"nofollow\" target=\"_blank\">Apresentação</a></a></span></li><li><span><a href=\"#Semana-2:-Variáveis-e-Algoritmos\" data-toc-modified-id=\"Semana-2:-Variáveis-e-Algoritmos-2\"><span class=\"toc-item-num\">2&nbsp;&nbsp;</span>Semana 2: <a href=\"./aula2/Vari%C3%A1veis%20e%20algoritmos.ipynb#/\" rel=\"nofollow\" target=\"_blank\">Variáveis e Algoritmos</a></a></span></li><li><span><a href=\"#Semana-3:-Representação-gráfica-de-funções\" data-toc-modified-id=\"Semana-3:-Representação-gráfica-de-funções-3\"><span class=\"toc-item-num\">3&nbsp;&nbsp;</span>Semana 3: <a href=\"./aula3/Representa%C3%A7%C3%A3oGraficaDeFun%C3%A7%C3%B5es.ipynb#/\" rel=\"nofollow\" target=\"_blank\">Representação gráfica de funções</a></a></span></li><li><span><a href=\"#Semana-4:-Estruturas-Condicionais\" data-toc-modified-id=\"Semana-4:-Estruturas-Condicionais-4\"><span class=\"toc-item-num\">4&nbsp;&nbsp;</span>Semana 4: <a href=\"./aula4/EstruturasCondicionais.ipynb#/\" rel=\"nofollow\" target=\"_blank\">Estruturas Condicionais</a></a></span></li><li><span><a href=\"#Semana-5:-Bases-de-dados\" data-toc-modified-id=\"Semana-5:-Bases-de-dados-5\"><span class=\"toc-item-num\">5&nbsp;&nbsp;</span>Semana 5: <a href=\"./aula5/BasesDeDados.ipynb#/\" rel=\"nofollow\" target=\"_blank\">Bases de dados</a></a></span></li><li><span><a href=\"#Semana-6:-Estruturas-de-repetição\" data-toc-modified-id=\"Semana-6:-Estruturas-de-repetição-6\"><span class=\"toc-item-num\">6&nbsp;&nbsp;</span>Semana 6: <a href=\"./aula6/EstruturasDeRepeticao.ipynb#/\" rel=\"nofollow\" target=\"_blank\">Estruturas de repetição</a></a></span></li><li><span><a href=\"#Semana-7:-Noções-de-Estatística\" data-toc-modified-id=\"Semana-7:-Noções-de-Estatística-7\"><span class=\"toc-item-num\">7&nbsp;&nbsp;</span>Semana 7: <a href=\"./aula7/Estatistica.ipynb#/\" rel=\"nofollow\" target=\"_blank\">Noções de Estatística</a></a></span></li><li><span><a href=\"#Semana-8:-Funções\" data-toc-modified-id=\"Semana-8:-Funções-8\"><span class=\"toc-item-num\">8&nbsp;&nbsp;</span>Semana 8: <a href=\"./aula8/Funcoes.ipynb#/\" rel=\"nofollow\" target=\"_blank\">Funções</a></a></span></li><li><span><a href=\"#Semana-9:-Regressão\" data-toc-modified-id=\"Semana-9:-Regressão-9\"><span class=\"toc-item-num\">9&nbsp;&nbsp;</span>Semana 9: <a href=\"./aula9/Regress%C3%A3o.ipynb#/\" rel=\"nofollow\" target=\"_blank\">Regressão</a></a></span></li><li><span><a href=\"#Semana-10:-Exemplos-de-modelagem\" data-toc-modified-id=\"Semana-10:-Exemplos-de-modelagem-10\"><span class=\"toc-item-num\">10&nbsp;&nbsp;</span>Semana 10: <a href=\"./aula10/Modelagem.ipynb#\" rel=\"nofollow\" target=\"_blank\">Exemplos de modelagem</a></a></span></li></ul></div>"
   ]
  },
  {
   "cell_type": "markdown",
   "id": "614a43b1",
   "metadata": {},
   "source": [
    "# Bases Computacionais          \n",
    "> **Um curso básico sobre análise de dados (Basic course on data analysis, in Portuguese)**  \n",
    "\n",
    "**Renato Naville Watanabe**  "
   ]
  },
  {
   "cell_type": "markdown",
   "id": "9a0a5563",
   "metadata": {},
   "source": [
    "\n",
    "\n",
    "### Semana 1: [Apresentação](./aula1/Apresenta%C3%A7%C3%A3o.ipynb#/)\n",
    "\n",
    "### Semana 2: [Variáveis e Algoritmos](./aula2/Vari%C3%A1veis%20e%20algoritmos.ipynb#/)\n",
    "\n",
    "### Semana 3: [Representação gráfica de funções](./aula3/Representa%C3%A7%C3%A3oGraficaDeFun%C3%A7%C3%B5es.ipynb#/)\n",
    "\n",
    "### Semana 4: [Estruturas Condicionais](./aula4/EstruturasCondicionais.ipynb#/)\n",
    "\n",
    "### Semana 5: [Bases de dados](./aula5/BasesDeDados.ipynb#/)\n",
    "\n",
    "### Semana 6: [Estruturas de repetição](./aula6/EstruturasDeRepeticao.ipynb#/)\n",
    "\n",
    "### Semana 7: [Noções de Estatística](./aula7/Estatistica.ipynb#/)\n",
    "\n",
    "### Semana 8: [Funções](./aula8/Funcoes.ipynb#/)\n",
    "\n",
    "### Semana 9: [Regressão](./aula9/Regress%C3%A3o.ipynb#/)\n",
    "\n",
    "### Semana 10: [Exemplos de modelagem](./aula10/Modelagem.ipynb#)"
   ]
  },
  {
   "cell_type": "markdown",
   "id": "a81f4b94",
   "metadata": {},
   "source": [
    "[**Sorteio do projeto final**](./Sorteio.ipynb)"
   ]
  }
 ],
 "metadata": {
  "kernelspec": {
   "display_name": "Python 3 (ipykernel)",
   "language": "python",
   "name": "python3"
  },
  "language_info": {
   "codemirror_mode": {
    "name": "ipython",
    "version": 3
   },
   "file_extension": ".py",
   "mimetype": "text/x-python",
   "name": "python",
   "nbconvert_exporter": "python",
   "pygments_lexer": "ipython3",
   "version": "3.9.13"
  },
  "toc": {
   "base_numbering": 1,
   "nav_menu": {},
   "number_sections": true,
   "sideBar": true,
   "skip_h1_title": true,
   "title_cell": "Contents",
   "title_sidebar": "Contents",
   "toc_cell": true,
   "toc_position": {},
   "toc_section_display": true,
   "toc_window_display": false
  },
  "varInspector": {
   "cols": {
    "lenName": 16,
    "lenType": 16,
    "lenVar": 40
   },
   "kernels_config": {
    "python": {
     "delete_cmd_postfix": "",
     "delete_cmd_prefix": "del ",
     "library": "var_list.py",
     "varRefreshCmd": "print(var_dic_list())"
    },
    "r": {
     "delete_cmd_postfix": ") ",
     "delete_cmd_prefix": "rm(",
     "library": "var_list.r",
     "varRefreshCmd": "cat(var_dic_list()) "
    }
   },
   "types_to_exclude": [
    "module",
    "function",
    "builtin_function_or_method",
    "instance",
    "_Feature"
   ],
   "window_display": false
  }
 },
 "nbformat": 4,
 "nbformat_minor": 5
}
