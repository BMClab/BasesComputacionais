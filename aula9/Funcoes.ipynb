{
  "cells": [
    {
      "cell_type": "markdown",
      "metadata": {
        "id": "s6mOVzO7_Xhd"
      },
      "source": [
        "# Funções\n",
        "\n",
        "Renato Naville Watanabe"
      ]
    },
    {
      "cell_type": "markdown",
      "source": [
        "## Preparação do ambiente"
      ],
      "metadata": {
        "id": "cLFNnW4u_aqJ"
      }
    },
    {
      "cell_type": "code",
      "source": [
        "def increase_font(): # importante ao dar aula. aumenta o tamanho da fonte\n",
        "  from IPython.display import Javascript\n",
        "  display(Javascript('''\n",
        "  for (rule of document.styleSheets[0].cssRules){\n",
        "    if (rule.selectorText=='body') {\n",
        "      rule.style.fontSize = '36px'\n",
        "      break\n",
        "    }\n",
        "  }\n",
        "  '''))\n",
        "get_ipython().events.register('pre_run_cell', increase_font)"
      ],
      "metadata": {
        "id": "FQ_CdhnR_cm5",
        "outputId": "686d870a-4cc8-4900-cd56-466bc867a702",
        "colab": {
          "base_uri": "https://localhost:8080/",
          "height": 17
        }
      },
      "execution_count": 3,
      "outputs": [
        {
          "output_type": "display_data",
          "data": {
            "text/plain": [
              "<IPython.core.display.Javascript object>"
            ],
            "application/javascript": [
              "\n",
              "  for (rule of document.styleSheets[0].cssRules){\n",
              "    if (rule.selectorText=='body') {\n",
              "      rule.style.fontSize = '36px'\n",
              "      break\n",
              "    }\n",
              "  }\n",
              "  "
            ]
          },
          "metadata": {}
        }
      ]
    },
    {
      "cell_type": "markdown",
      "source": [
        "## Motivação"
      ],
      "metadata": {
        "id": "HRacZREmyXBV"
      }
    },
    {
      "cell_type": "markdown",
      "source": [
        "Vamos supor que você queira calcular a área de um triângulo, sendo que você conhece o tamanho de cada um dos lados $a$, $b$ e $c$ do triângulo. Você pode calcular a área do triângulo usando a fórmula de Heron:\n",
        "\n",
        "$$A = \\sqrt{s(s-a)(s-b)(s-c)}$$\n",
        "\n",
        "com $s = \\frac{a+b+c}{2}$\n",
        "\n",
        "então, um possível código para calcular essa área é (aqui exemplificado com $a=3$, $b = 4$ e $c=4.5$):"
      ],
      "metadata": {
        "id": "psYyrxkZAAfg"
      }
    },
    {
      "cell_type": "code",
      "source": [
        "import numpy as np\n",
        "a = 3\n",
        "b = 4\n",
        "c = 4.5\n",
        "s = (a+b+c)/2\n",
        "A = np.sqrt(s*(s-a)*(s-b)*(s-c))\n",
        "A"
      ],
      "metadata": {
        "id": "kbLUKrInrUOl",
        "outputId": "fe84093e-32b3-432b-d4b2-ac4925da9d21",
        "colab": {
          "base_uri": "https://localhost:8080/"
        }
      },
      "execution_count": 2,
      "outputs": [
        {
          "output_type": "execute_result",
          "data": {
            "text/plain": [
              "5.881313097429858"
            ]
          },
          "metadata": {},
          "execution_count": 2
        }
      ]
    },
    {
      "cell_type": "markdown",
      "source": [
        "Se eu quiser calcular de novo para um triângulo diferente, eu teria que repetir o código. Por exemplo, agora com $a = 5$, $b=4$, e $c=2$"
      ],
      "metadata": {
        "id": "zUjTzXCKrlH2"
      }
    },
    {
      "cell_type": "code",
      "source": [
        "a = 5\n",
        "b = 4\n",
        "c = 2\n",
        "s = (a+b+c)/2\n",
        "A = np.sqrt(s*(s-a)*(s-b)*(s-c))\n",
        "A"
      ],
      "metadata": {
        "id": "aRTnERE5slzY",
        "outputId": "535e3e35-678c-46c9-beb8-957fa901f869",
        "colab": {
          "base_uri": "https://localhost:8080/"
        }
      },
      "execution_count": 3,
      "outputs": [
        {
          "output_type": "execute_result",
          "data": {
            "text/plain": [
              "3.799671038392666"
            ]
          },
          "metadata": {},
          "execution_count": 3
        }
      ]
    },
    {
      "cell_type": "markdown",
      "source": [
        "É claro que para facilitar, poderíamos utilizar um laço de repetição, como um `for`, como no exemplo abaixo, que faz o cáculo da área para 3 triângulos diferentes:"
      ],
      "metadata": {
        "id": "8xwuQPwLssZo"
      }
    },
    {
      "cell_type": "code",
      "source": [
        "a = [3, 5,10]\n",
        "b = [4, 4, 4]\n",
        "c = [4.5,4, 7]\n",
        "for i in range(len(a)):\n",
        "    s = (a[i]+b[i]+c[i])/2\n",
        "    A = np.sqrt(s*(s-a[i])*(s-b[i])*(s-c[i]))\n",
        "    print(f'Área {i} é {A:.2f}')"
      ],
      "metadata": {
        "id": "whzVYSJfs0Qx",
        "outputId": "e8ac6ed0-6f8a-471b-b3e6-8b973b181d23",
        "colab": {
          "base_uri": "https://localhost:8080/"
        }
      },
      "execution_count": 4,
      "outputs": [
        {
          "output_type": "stream",
          "name": "stdout",
          "text": [
            "Área 0 é 5.88\n",
            "Área 1 é 7.81\n",
            "Área 2 é 10.93\n"
          ]
        }
      ]
    },
    {
      "cell_type": "markdown",
      "source": [
        "Ainda assim, poderia ocorrer de, por algum motivo qualquer (podem estar em dois arquivos CSV diferentes), termos que utilizar dois laços, em parte diferentes do código, para calcular áreas de triângulos diferentes."
      ],
      "metadata": {
        "id": "3GipVOZ_taY-"
      }
    },
    {
      "cell_type": "code",
      "source": [
        "a = [3, 5,10]\n",
        "b = [4, 4, 4]\n",
        "c = [4.5,4, 7]\n",
        "for i in range(len(a)):\n",
        "    s = (a[i]+b[i]+c[i])/2\n",
        "    A = np.sqrt(s*(s-a[i])*(s-b[i])*(s-c[i]))\n",
        "    print(f'Área {i} é {A:.2f}')\n",
        "\n",
        "\n",
        "a = [2.5, 11,3]\n",
        "b = [1, 5, 4]\n",
        "c = [2,13, 5]\n",
        "for i in range(len(a)):\n",
        "    s = (a[i]+b[i]+c[i])/2\n",
        "    A = np.sqrt(s*(s-a[i])*(s-b[i])*(s-c[i]))\n",
        "    print(f'Área {i} é {A:.2f}')"
      ],
      "metadata": {
        "id": "l2yGU9WqvrHT",
        "outputId": "c355a39a-4211-4dcd-8f8b-53d99fbaa7ee",
        "colab": {
          "base_uri": "https://localhost:8080/"
        }
      },
      "execution_count": 5,
      "outputs": [
        {
          "output_type": "stream",
          "name": "stdout",
          "text": [
            "Área 0 é 5.88\n",
            "Área 1 é 7.81\n",
            "Área 2 é 10.93\n",
            "Área 0 é 0.95\n",
            "Área 1 é 26.89\n",
            "Área 2 é 6.00\n"
          ]
        }
      ]
    },
    {
      "cell_type": "markdown",
      "source": [
        "A mesma sequência de instruções aparece dentro dos dois laços. É interessante ter algum modo para chamar uma sequência de instruções sem precisar escrevê-las novamente. Além disso, o cálculo da área envolve dois passos: o cáculo do $s$ e depois o cálculo da área:\n",
        "\n",
        "```\n",
        "s = (a[i]+b[i]+c[i])/2\n",
        "A = np.sqrt(s*(s-a[i])*(s-b[i])*(s-c[i]))\n",
        "```\n",
        "\n",
        "Para quem vê esse código pela primeira vez, é difícil de entender rapidamente o que essa sequência de instruções está fazendo. Por isso seria interessante que essa sequência de instruções fosse referenciada de uma outra maneira, que lembre o propósito da sequência de instruções (como por exemplo, `calcular_area_triangulo`).\n",
        "\n",
        "Essas duas coisas: reutilizar uma sequência de instruções e agrupar partes do código de uma maneira que facilite a nossa compreensão, são feitas utilizando **funções**.\n"
      ],
      "metadata": {
        "id": "dl8FaRDZy43x"
      }
    },
    {
      "cell_type": "markdown",
      "metadata": {
        "id": "wRH6H5rV_Xhf"
      },
      "source": [
        "### Função\n",
        "\n",
        "Uma função é um conjunto de instruções que são executadas quando a função é chamada."
      ]
    },
    {
      "cell_type": "markdown",
      "metadata": {
        "id": "aKXqBPH-_Xhi"
      },
      "source": [
        "Ao longo do curso já foram utilizadas diversas funções. Por exemplo, a função que calcula o seno de um ângulo em radianos:"
      ]
    },
    {
      "cell_type": "code",
      "execution_count": 6,
      "metadata": {
        "id": "1dnewcJY_Xhj",
        "outputId": "aae850f0-182f-4fde-9ec3-89c9483e23b6",
        "colab": {
          "base_uri": "https://localhost:8080/"
        }
      },
      "outputs": [
        {
          "output_type": "execute_result",
          "data": {
            "text/plain": [
              "0.49999999999999994"
            ]
          },
          "metadata": {},
          "execution_count": 6
        }
      ],
      "source": [
        "theta = np.pi/6\n",
        "senoTheta = np.sin(theta)\n",
        "senoTheta"
      ]
    },
    {
      "cell_type": "markdown",
      "source": [
        "A função `np.sin`, ao ser utilizada (\"chamada\"), executa uma série de instruções que ao final retorna o valor do seno do número que serviu como entrada (`theta`)."
      ],
      "metadata": {
        "id": "Rt51MVg2_h8v"
      }
    },
    {
      "cell_type": "markdown",
      "source": [
        "Para chamar uma função basta escrever o nome da função seguida pelos valores necessários para que essa função seja executada. Esses valores são chamados de **entradas** da função, ou **argumentos**. O valor (ou valores) que uma função retorna como saída é chamada de **saída**.\n",
        "\n",
        "![chamadafunção](https://github.com/BMClab/BasesComputacionais/blob/master/aula9/imagens/chamada_funcao.png?raw=1)\n",
        "\n",
        "No exemplo acima, `theta` é a entrada da função e o valor do seno de theta é a saída, que foi guardada na variável `senoTheta`."
      ],
      "metadata": {
        "id": "j6cBMyb4ECXx"
      }
    },
    {
      "cell_type": "markdown",
      "source": [
        "Uma outra maneira de representar uma função é como uma **caixa-preta**, que recebe os valores de entrada e retorna o valor de saída.\n",
        "\n",
        "![caixapreta_seno](https://github.com/BMClab/BasesComputacionais/blob/master/aula9/imagens/caixapretaseno.png?raw=1)\n",
        "\n",
        "O termo caixa-preta é utilizado por não sabermos o que tem \"dentro da caixa\" (nesse caso, as instruções utilizadas para calcular o seno). Sabemos apenas o que entra e o que sai."
      ],
      "metadata": {
        "id": "rxEqLQtHKvdU"
      }
    },
    {
      "cell_type": "markdown",
      "metadata": {
        "id": "v-Nxu6FW_Xhg"
      },
      "source": [
        "Uma função pode ter qualquer número de entradas e qualquer número de saídas.\n",
        "\n",
        "![função](https://github.com/BMClab/BasesComputacionais/blob/master/aula9/imagens/function.png?raw=1)"
      ]
    },
    {
      "cell_type": "markdown",
      "metadata": {
        "id": "zG-2SFkS_Xhh"
      },
      "source": [
        "Ao usar uma função não é necessário saber quais instruções a função executa. A única coisa que importa são os dados de entrada e o que a função retorna."
      ]
    },
    {
      "cell_type": "markdown",
      "metadata": {
        "id": "Ho1sbIXO_Xhl"
      },
      "source": [
        "### Definição de uma função no Python\n",
        "\n",
        "def NOME_DA_FUNÇÃO():  \n",
        "&nbsp;&nbsp;&nbsp;&nbsp;&nbsp;&nbsp;&nbsp;&nbsp;&nbsp;&nbsp;&nbsp;&nbsp;INSTRUÇÕES  \n",
        "\n",
        "Por exemplo, para definir uma função que imprime uma mensagem:"
      ]
    },
    {
      "cell_type": "code",
      "execution_count": null,
      "metadata": {
        "id": "mtK1bloe_Xhm"
      },
      "outputs": [],
      "source": [
        "def imprimeMensagemBoasVindas():\n",
        "    print('Bem vindo')"
      ]
    },
    {
      "cell_type": "markdown",
      "metadata": {
        "id": "uPChV_30_Xho"
      },
      "source": [
        "### Chamando uma função\n",
        "\n",
        "Ao definir a função a sequência de instruções da função não é executada. Para isso é necessário chamar essa função."
      ]
    },
    {
      "cell_type": "code",
      "execution_count": null,
      "metadata": {
        "id": "lcAqBr-S_Xhp"
      },
      "outputs": [],
      "source": [
        "imprimeMensagemBoasVindas()"
      ]
    },
    {
      "cell_type": "markdown",
      "metadata": {
        "id": "5V60xSqj_Xhq"
      },
      "source": [
        "### Definição de uma função no Python que recebe uma entrada como parâmetro\n",
        "\n",
        "Uma função pode receber parâmetros como entrada. Esses parâmetros podem ser usados dentro da função.\n",
        "\n",
        "\n",
        "def NOME_DA_FUNÇÃO(varIn1):  \n",
        "&nbsp;&nbsp;&nbsp;&nbsp;&nbsp;&nbsp;&nbsp;&nbsp;&nbsp;&nbsp;&nbsp;&nbsp;INSTRUÇÕES  \n",
        "\n",
        "Por exemplo, uma função que recebe um número inteiro e mostra se esse número é par ou ímpar."
      ]
    },
    {
      "cell_type": "code",
      "execution_count": null,
      "metadata": {
        "id": "46kzti73_Xhr"
      },
      "outputs": [],
      "source": [
        "def parOuImpar(n):\n",
        "    if n%2 == 0:\n",
        "        print(n, 'é par.')\n",
        "    else:\n",
        "        print(n, 'é ímpar.')"
      ]
    },
    {
      "cell_type": "markdown",
      "metadata": {
        "id": "xzk3eBka_Xht"
      },
      "source": [
        "Agora, para chamar a função para testar para os número 5 e 12"
      ]
    },
    {
      "cell_type": "code",
      "execution_count": null,
      "metadata": {
        "id": "taHsQFLa_Xhu"
      },
      "outputs": [],
      "source": [
        "n1 = 5\n",
        "parOuImpar(n1)\n",
        "n2 = 12\n",
        "parOuImpar(n2)"
      ]
    },
    {
      "cell_type": "markdown",
      "metadata": {
        "id": "M0ABomhp_Xhv"
      },
      "source": [
        "### Definição de uma função no Python que recebe entrada como parâmetro e retorna um número\n",
        "\n",
        "As funções também podem retornar uma variável para ser utilizada fora da função. Isso é feito com o comando 'return' seguido pela variável.\n",
        "\n",
        "def NOME_DA_FUNÇÃO(varIn1):  \n",
        "&nbsp;&nbsp;&nbsp;&nbsp;&nbsp;&nbsp;&nbsp;&nbsp;&nbsp;&nbsp;&nbsp;&nbsp;INSTRUÇÕES  \n",
        "&nbsp;&nbsp;&nbsp;&nbsp;&nbsp;&nbsp;&nbsp;&nbsp;&nbsp;&nbsp;&nbsp;&nbsp;return varOut1\n",
        "\n",
        "Por exemplo, uma função que calcula converte a temperatura de graus Celsius para Fahrenheit."
      ]
    },
    {
      "cell_type": "code",
      "execution_count": null,
      "metadata": {
        "id": "SENiZ7hO_Xhv"
      },
      "outputs": [],
      "source": [
        "import numpy as np\n",
        "def CelsiusParaFahrenheit(C):\n",
        "    F = C*9.0/5.0 + 32.0\n",
        "    print(C, 'Celsius é', F, 'Fahrenheit')\n",
        "    return F"
      ]
    },
    {
      "cell_type": "code",
      "execution_count": null,
      "metadata": {
        "id": "sJXtEjse_Xhv"
      },
      "outputs": [],
      "source": [
        "C1 = 11\n",
        "F1 = CelsiusParaFahrenheit(C1)\n",
        "C2 = 31\n",
        "F2 = CelsiusParaFahrenheit(C2)\n",
        "print(F2, ': esse print está fora da função')"
      ]
    },
    {
      "cell_type": "markdown",
      "metadata": {
        "id": "vT4tw6iE_Xhw"
      },
      "source": [
        "### Definição de uma função no Python que recebe mais de uma entrada como parâmetro e retorna mais de uma variável\n",
        "\n",
        "As variáveis de entrada e de saída são separadas por vírgula.\n",
        "\n",
        "def NOME_DA_FUNÇÃO(varIn1, varIn2, ..., varInn):  \n",
        "&nbsp;&nbsp;&nbsp;&nbsp;&nbsp;&nbsp;&nbsp;&nbsp;&nbsp;&nbsp;&nbsp;&nbsp;INSTRUÇÕES  \n",
        "&nbsp;&nbsp;&nbsp;&nbsp;&nbsp;&nbsp;&nbsp;&nbsp;&nbsp;&nbsp;&nbsp;&nbsp;return varOut1, varOut2, ..., varOutn\n",
        "\n",
        "Por exemplo, a seguinte função que calcula a área e a diagonal de um retângulo, com lados a e b:"
      ]
    },
    {
      "cell_type": "code",
      "execution_count": null,
      "metadata": {
        "id": "RV962rFN_Xhw"
      },
      "outputs": [],
      "source": [
        "def calculaAreaEDiagonal(a, b):\n",
        "    A = a*b # área\n",
        "    d = np.sqrt(a**2 + b**2) # diagonal\n",
        "    return A, d"
      ]
    },
    {
      "cell_type": "code",
      "execution_count": null,
      "metadata": {
        "id": "zKijXrf3_Xhx"
      },
      "outputs": [],
      "source": [
        "a1 = 3\n",
        "b1 = 4\n",
        "A1, d1 = calculaAreaEDiagonal(a1, b1)\n",
        "print('Área = ', A1, 'e diagonal = ', d1)"
      ]
    },
    {
      "cell_type": "markdown",
      "metadata": {
        "id": "0N9AUDs0_Xhx"
      },
      "source": [
        "### Uma variável que é criada dentro de uma função só existe dentro da função\n",
        "\n",
        "Uma variável criada dentro de uma função existe apenas enquanto a função está sendo executada. Se você quiser que um valor calculado seja usado fora da função ele deve ser retornado com o comando return."
      ]
    },
    {
      "cell_type": "code",
      "execution_count": null,
      "metadata": {
        "id": "na46syYS_Xhx"
      },
      "outputs": [],
      "source": [
        "def calculaAreaEDiagonal(a, b):\n",
        "    A = a*b # área\n",
        "    termo1quadrado = a**2\n",
        "    termo2quadrado = b**2\n",
        "    d = np.sqrt(termo1quadrado + termo2quadrado) # diagonal\n",
        "    return A, d"
      ]
    },
    {
      "cell_type": "code",
      "execution_count": null,
      "metadata": {
        "id": "m7Gu31dj_Xhy"
      },
      "outputs": [],
      "source": [
        "a3 = 2.4\n",
        "b3 = 5.3\n",
        "A3, d3 = calculaAreaEDiagonal(a3, b3)\n",
        "print(A3, 'm², ', d3, 'm')\n",
        "print(termo1quadrado)"
      ]
    },
    {
      "cell_type": "markdown",
      "metadata": {
        "id": "AeuxuRVg_Xhy"
      },
      "source": [
        "A variável termo1quadrado não existe fora da função 'calculaAreaEDiagonal'. Por isso esta variável não foi encontrada."
      ]
    },
    {
      "cell_type": "markdown",
      "metadata": {
        "id": "HfCOCcR3_Xhz"
      },
      "source": [
        "### Uma função chamando uma função\n",
        "\n",
        "Uma função pode chamar uma outra função. Por exemplo, no caso abaixo, a função 'aproximaPi', que calcula o valor de $\\pi$ utilizando a fórmula de Leibniz (ver [aula 6](https://nbviewer.jupyter.org/format/slides/github/rnwatanabe/BasesComputacionais2019/blob/master/aula6/EstruturasDeRepeticao.ipynb#/19)) com n termos, chama a função 'ePar' que retorna True se o número for par e False se o número for ímpar."
      ]
    },
    {
      "cell_type": "code",
      "execution_count": null,
      "metadata": {
        "id": "BWpFapPW_Xh0"
      },
      "outputs": [],
      "source": [
        "def ePar(n):\n",
        "    if n%2 == 0:\n",
        "        par = True\n",
        "    else:\n",
        "        par = False\n",
        "    return par\n",
        "\n",
        "def aproximaPi(n):\n",
        "    PI = 0\n",
        "    for i in range(n):\n",
        "        if ePar(i):\n",
        "            sinal = 1\n",
        "        else:\n",
        "            sinal = -1\n",
        "        PI = PI + sinal*4/(2*i+1)\n",
        "    return PI"
      ]
    },
    {
      "cell_type": "code",
      "execution_count": null,
      "metadata": {
        "id": "tRvIMNhF_Xh1"
      },
      "outputs": [],
      "source": [
        "PI = aproximaPi(100000)\n",
        "print(PI)"
      ]
    },
    {
      "cell_type": "markdown",
      "metadata": {
        "id": "IYZSIKeC_Xh1"
      },
      "source": [
        "### Comentário de uma função\n",
        "\n",
        "Ao fazer o comentário de uma função deve ser descrito o que ela faz (geralmente não se explica o como faz). Particularmente devem ser descritos os parâmetros de entrada e o que a função retorna. Por exemplo a função 'ePar' e 'aproximaPi':"
      ]
    },
    {
      "cell_type": "code",
      "execution_count": null,
      "metadata": {
        "id": "X0tLAL6w_Xh1"
      },
      "outputs": [],
      "source": [
        "def ePar(n):\n",
        "    '''\n",
        "    Retorna True se n é par e False se n é impar.\n",
        "\n",
        "    Parâmetros:\n",
        "    -----------------------------\n",
        "    n: int\n",
        "       número inteiro no qual será feita a verificação.\n",
        "\n",
        "    Retorna\n",
        "    ----------------------------\n",
        "    par: boolean\n",
        "         True indica que n é par. False indica que n é ímpar.\n",
        "    '''\n",
        "    if n%2 == 0:\n",
        "        par = True\n",
        "    else:\n",
        "        par = False\n",
        "    return par"
      ]
    },
    {
      "cell_type": "code",
      "execution_count": null,
      "metadata": {
        "id": "ZzViMmRG_Xh1"
      },
      "outputs": [],
      "source": [
        "def aproximaPi(n):\n",
        "    '''\n",
        "    Aproxima o valor de pi utilizando a fórmula de Leibniz.\n",
        "\n",
        "    Parâmetros:\n",
        "    -----------------------------\n",
        "    n: int\n",
        "       número de termos utilizados na fórmula de Leibniz\n",
        "\n",
        "    Retorna\n",
        "    ----------------------------\n",
        "    PI: float\n",
        "         Aproximação de pi.\n",
        "    '''\n",
        "    PI = 0\n",
        "    for i in range(n):\n",
        "        if ePar(i):\n",
        "            sinal = 1\n",
        "        else:\n",
        "            sinal = -1\n",
        "        PI = PI + sinal*4/(2*i+1)\n",
        "    return PI"
      ]
    },
    {
      "cell_type": "markdown",
      "metadata": {
        "id": "GgpSmjtS_Xh2"
      },
      "source": [
        "Você pode ler o comentário escrito na função com o comando 'help()'."
      ]
    },
    {
      "cell_type": "code",
      "execution_count": null,
      "metadata": {
        "id": "Pgxm3gxD_Xh3"
      },
      "outputs": [],
      "source": [
        "help(aproximaPi)"
      ]
    },
    {
      "cell_type": "markdown",
      "metadata": {
        "id": "QyV3u12i_Xh4"
      },
      "source": [
        "Você pode ler a documentação de qualquer função pré-existente no Python e suas bibliotecas com o comando 'help()'. Por exemplo, a função 'np.linspace()'."
      ]
    },
    {
      "cell_type": "code",
      "execution_count": null,
      "metadata": {
        "id": "68FLBOuG_Xh5"
      },
      "outputs": [],
      "source": [
        "help(np.linspace)"
      ]
    },
    {
      "cell_type": "markdown",
      "metadata": {
        "id": "sLbXVDco_Xh5"
      },
      "source": [
        "### Qual a utilidade de usar funções\n",
        "\n",
        "São duas as principais razões de usar funções ao escrever um programa de computador:\n",
        "\n",
        "- Reuso: você consegue usar o mesmo código diversas vezes. Isso te poupa de ficar reescrevendo a mesma coisa várias vezes. Além disso, se você encontrar um erro,  é necessário corrigi-lo em apenas um lugar.\n",
        "\n",
        "- Modularidade: cada pequena parte do código fica separada da outra. Isso torna mais fácil encontrar erros. Além disso é mais fácil a leitura do código por uma pessoa."
      ]
    },
    {
      "cell_type": "markdown",
      "metadata": {
        "id": "VKjwzyGZ_Xh5"
      },
      "source": [
        "### Tarefa (para agora)\n",
        "\n",
        "- Escrever um notebook do Colab para fazer o que pedido a seguir.\n",
        "\n",
        "- Colocar o seu nome na primeira célula do Notebook.\n",
        "\n",
        "- O notebook deve estar com texto explicando o Notebook.\n",
        "\n",
        "- Todos os resultados devem ser mostrados ao executar o notebook.\n",
        "\n",
        "- Coloque no seu repositório do Github o arquivo '.ipynb' contendo o notebook feito por você com o nome \"Tarefa15SeuNome.ipynb\".\n",
        "\n",
        "**1)** Faça uma função que receba um número **a**, um número **b** e um número **x**. Esta função deve retornar **True** se **x** estiver entre **a** e **b** e **False** caso contrário. Além disso a função deve mostrar uma mensagem dizendo se **x** está no intervalo entre **a** e **b** ou não.\n",
        "\n",
        "Teste para\n",
        "- a) a = -2.5, b = 6.3 e x = 9.1;\n",
        "- b) a = -10, b = 7 e x = 2.2\n",
        "- c) a = 67.2, b = 87.2 e x = 8.1\n",
        "\n",
        "Sugestão:\n",
        "\n",
        "a função pode ter a seguinte estrutura:\n",
        "```python\n",
        "def estaNoIntervalo(a, b, x):\n",
        "    ...\n",
        "    return resposta\n",
        "```"
      ]
    },
    {
      "cell_type": "markdown",
      "metadata": {
        "id": "BWz0Z63e_Xh6"
      },
      "source": [
        "### Tarefa (para antes da próxima aula)\n",
        "\n",
        "- Escrever um notebook do Colab para fazer o que pedido a seguir.\n",
        "\n",
        "- Colocar o seu nome na primeira célula do Notebook.\n",
        "\n",
        "- O notebook deve estar com texto explicando o Notebook.\n",
        "\n",
        "- Todos os resultados devem ser mostrados ao executar o notebook.\n",
        "\n",
        "- Não se esqueça de indicar o significado de cada eixo, colocando a unidade da abscissa e da ordenada nos gráficos.\n",
        "\n",
        "- Coloque no seu repositório do Github o arquivo '.ipynb' contendo o notebook feito por você com o nome \"Tarefa16SeuNome.ipynb\"."
      ]
    },
    {
      "cell_type": "markdown",
      "metadata": {
        "id": "ltKdwfGe_Xh7"
      },
      "source": [
        "**1)** Faça uma função que receba um vetor **t**,um valor **A**, um valor **b** e um valor **c** e retorne um outro vetor **x**.\n",
        "\n",
        "$$x(t)  = A\\sqrt{1+bt^2} + c$$\n",
        "\n",
        "Além disso a função deve plotar o gráfico de **x** em função de **t**.\n",
        "\n",
        "Teste para\n",
        "- *a)* t indo de 0 a 10 com 1000 pontos, A = 2, b = 0.5, c = 0;\n",
        "- *b)* t indo de 0 a 15 com intervalo de 0.2 entre os valores do vetor, A = 10, b = 0.2, c = 1\n",
        "- *c*) t indo de -0,5 a 0,5 com 500 pontos, A = -3, b = -1.5, c = -10;"
      ]
    },
    {
      "cell_type": "markdown",
      "metadata": {
        "id": "TUKxujT3_Xh7"
      },
      "source": [
        "**2)** Faça uma função que ao ser executada sorteia um número entre 0 e 1. Se esse número for menor do que 0,5 apareça na tela a mensagem 'Cara'. Se esse número for maior do que 0,5  apareça a mensagem 'Coroa'. Uma sugestão do nome da função é 'cara_ou_coroa'.\n",
        "\n",
        "Teste a função chamando 10 vezes a função que você fez.\n",
        "\n",
        "Dica: o comando 'np.random.rand(n)' gera n números aleatórios entre 0 e 1."
      ]
    },
    {
      "cell_type": "markdown",
      "metadata": {
        "id": "Hyfmar1b_Xh8"
      },
      "source": [
        "**3)** Faça uma função que retorne a renda média nos jogos em que determinado time seja o time da casa. As entradas devem ser o **DataFrame do Pandas** com os jogos e o **nome do time mandante**.\n",
        "\n",
        "Para testar a função, use o arquivo [com todos os resultados do campeonato Brasileiro de futebol de 2018](../dados/tabelaBrasileirao2018.csv) (dados obtidos [desta](<https://pt.wikipedia.org/wiki/Resultados_do_Campeonato_Brasileiro_de_Futebol_de_2018_-_S%C3%A9rie_A_(primeiro_turno)>) e [desta](<https://pt.wikipedia.org/wiki/Resultados_do_Campeonato_Brasileiro_de_Futebol_de_2018_-_S%C3%A9rie_A_(segundo_turno)>) página da Wikipedia) e escolha 4 times diferentes para saber quala renda média por jogo.\n",
        "\n",
        "Dica: para usar o valor de uma variável (que tenha o nome var, por exemplo) dentro da função `query`, usar @var.\n"
      ]
    },
    {
      "cell_type": "markdown",
      "metadata": {
        "id": "Ty__PeuQ_Xh9"
      },
      "source": [
        "**4)** Dados valores **x1**, **y1**, **x2**, **y2**, sendo esses valores das coordenadas $(x_1, y_1)$ e $(x_2, y_2)$ de dois pontos.\n",
        "\n",
        "Fazer uma função que encontre a inclinação da reta **m** e o ponto **b** em que a reta cruza o eixo y da reta $y = mx+b$ que passa pelos dois pontos. Além disso deve ser feito o gráfico da reta encontrada com **N** pontos, além de mostrar os dois pontos dados como entrada, indicados com marcadores quadrados.\n",
        "\n",
        "Essa função deve retornar **m** e **b** e receber como parâmetros **x1**, **y1**, **x2**, **y2** e **N**.\n",
        "\n",
        "Dica: a inclinação de uma reta, dados dois pontos é:\n",
        "\n",
        "$$m = \\frac{y_2-y_1}{x_2-x_1} $$\n",
        "\n",
        "e o ponto que cruza o eixo y é:\n",
        "\n",
        "$$b = y_1 - mx_1$$\n",
        "\n",
        "Teste para:\n",
        "\n",
        "- a) x1 = -19, y1 = 2, x2 = 10, y2 = -10, N = 1000\n",
        "- b) x1 = -2, y1 = 8, x2 = 20, y2 = 43, N = 2000\n",
        "- c) x1 = 7, y1 = 13, x2 = 1, y2 = 2, N = 500"
      ]
    },
    {
      "cell_type": "markdown",
      "metadata": {
        "id": "-cVU0ZSM_Xh9"
      },
      "source": [
        "### Referências\n",
        "\n",
        "- Chalco, JM, *Slides de Bases Computacionais da Ciência*, (2014)\n",
        "- Leite, S, *Slides de Bases Computacionais da Ciência*, (2018)\n",
        "- [Marietto, MGB et al.; **Bases computacionais da Ciência** (2013)](http://prograd.ufabc.edu.br/images/pdf/bases_computacionais_livro.pdf).\n",
        "- Miller, B, Ranum, D; [**Funções In:Como pensar como um Cientista da Computação**](https://panda.ime.usp.br/pensepy/static/pensepy/05-Funcoes/funcoes.html)\n",
        "- [Wikipedia](www.wikipedia.com.br)"
      ]
    }
  ],
  "metadata": {
    "kernelspec": {
      "display_name": "Python 3 (ipykernel)",
      "language": "python",
      "name": "python3"
    },
    "language_info": {
      "codemirror_mode": {
        "name": "ipython",
        "version": 3
      },
      "file_extension": ".py",
      "mimetype": "text/x-python",
      "name": "python",
      "nbconvert_exporter": "python",
      "pygments_lexer": "ipython3",
      "version": "3.9.15"
    },
    "latex_envs": {
      "LaTeX_envs_menu_present": true,
      "autoclose": false,
      "autocomplete": true,
      "bibliofile": "biblio.bib",
      "cite_by": "apalike",
      "current_citInitial": 1,
      "eqLabelWithNumbers": true,
      "eqNumInitial": 1,
      "hotkeys": {
        "equation": "Ctrl-E",
        "itemize": "Ctrl-I"
      },
      "labels_anchors": false,
      "latex_user_defs": false,
      "report_style_numbering": false,
      "user_envs_cfg": false
    },
    "livereveal": {
      "autolaunch": true
    },
    "nbTranslate": {
      "displayLangs": [
        "*"
      ],
      "hotkey": "alt-t",
      "langInMainMenu": true,
      "sourceLang": "en",
      "targetLang": "fr",
      "useGoogleTranslate": true
    },
    "toc": {
      "base_numbering": 1,
      "nav_menu": {},
      "number_sections": true,
      "sideBar": true,
      "skip_h1_title": true,
      "title_cell": "Contents",
      "title_sidebar": "Contents",
      "toc_cell": true,
      "toc_position": {},
      "toc_section_display": true,
      "toc_window_display": false
    },
    "varInspector": {
      "cols": {
        "lenName": 16,
        "lenType": 16,
        "lenVar": 40
      },
      "kernels_config": {
        "python": {
          "delete_cmd_postfix": "",
          "delete_cmd_prefix": "del ",
          "library": "var_list.py",
          "varRefreshCmd": "print(var_dic_list())"
        },
        "r": {
          "delete_cmd_postfix": ") ",
          "delete_cmd_prefix": "rm(",
          "library": "var_list.r",
          "varRefreshCmd": "cat(var_dic_list()) "
        }
      },
      "types_to_exclude": [
        "module",
        "function",
        "builtin_function_or_method",
        "instance",
        "_Feature"
      ],
      "window_display": false
    },
    "colab": {
      "provenance": []
    }
  },
  "nbformat": 4,
  "nbformat_minor": 0
}