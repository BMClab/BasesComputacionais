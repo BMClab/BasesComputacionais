{
  "cells": [
    {
      "cell_type": "markdown",
      "metadata": {
        "id": "OuQ2B5GpZSbO"
      },
      "source": [
        "# Estruturas condicionais\n",
        "\n",
        "Renato Naville Watanabe"
      ]
    },
    {
      "cell_type": "markdown",
      "metadata": {
        "id": "y4k_EHS3ZrsS"
      },
      "source": [
        "## Preparação do ambiente"
      ]
    },
    {
      "cell_type": "code",
      "execution_count": 1,
      "metadata": {
        "id": "aHuTv1IcZvwC"
      },
      "outputs": [],
      "source": [
        "def increase_font(): # importante ao dar aula. aumenta o tamanho da fonte\n",
        "  from IPython.display import Javascript\n",
        "  display(Javascript('''\n",
        "  for (rule of document.styleSheets[0].cssRules){\n",
        "    if (rule.selectorText=='body') {\n",
        "      rule.style.fontSize = '36px'\n",
        "      break\n",
        "    }\n",
        "  }\n",
        "  '''))\n",
        "get_ipython().events.register('pre_run_cell', increase_font)"
      ]
    },
    {
      "cell_type": "markdown",
      "metadata": {
        "id": "_wsFHyZ7ZSbS"
      },
      "source": [
        "### Tipos de variáveis\n",
        "\n",
        "**Inteiro (int)**\n",
        "\n",
        "Números inteiros. Não têm uma parte decimal."
      ]
    },
    {
      "cell_type": "code",
      "execution_count": 2,
      "metadata": {
        "colab": {
          "base_uri": "https://localhost:8080/",
          "height": 62
        },
        "id": "BTo-98dDZSbT",
        "outputId": "bdce7c5c-656e-4a31-87d7-005a145c613c"
      },
      "outputs": [
        {
          "data": {
            "application/javascript": "\n  for (rule of document.styleSheets[0].cssRules){\n    if (rule.selectorText=='body') {\n      rule.style.fontSize = '36px'\n      break\n    }\n  }\n  ",
            "text/plain": [
              "<IPython.core.display.Javascript object>"
            ]
          },
          "metadata": {},
          "output_type": "display_data"
        },
        {
          "data": {
            "text/plain": [
              "3"
            ]
          },
          "execution_count": 2,
          "metadata": {},
          "output_type": "execute_result"
        }
      ],
      "source": [
        "a = 3\n",
        "a"
      ]
    },
    {
      "cell_type": "markdown",
      "metadata": {
        "id": "00BhApC2ZSbV"
      },
      "source": [
        "**Ponto flutuante (float)**\n",
        "\n",
        "Usado para representar números reais. Têm uma parte decimal, indicada por um ponto."
      ]
    },
    {
      "cell_type": "code",
      "execution_count": 3,
      "metadata": {
        "colab": {
          "base_uri": "https://localhost:8080/",
          "height": 62
        },
        "id": "gl2a3GYbZSbW",
        "outputId": "adc56264-4937-47a9-fa10-52a4187b9757"
      },
      "outputs": [
        {
          "data": {
            "application/javascript": "\n  for (rule of document.styleSheets[0].cssRules){\n    if (rule.selectorText=='body') {\n      rule.style.fontSize = '36px'\n      break\n    }\n  }\n  ",
            "text/plain": [
              "<IPython.core.display.Javascript object>"
            ]
          },
          "metadata": {},
          "output_type": "display_data"
        },
        {
          "data": {
            "text/plain": [
              "3.0"
            ]
          },
          "execution_count": 3,
          "metadata": {},
          "output_type": "execute_result"
        }
      ],
      "source": [
        "x = 3.0\n",
        "x"
      ]
    },
    {
      "cell_type": "markdown",
      "metadata": {
        "id": "OMHA-YB5ZSbX"
      },
      "source": [
        "**Complexo (complex)**\n",
        "\n",
        "Usado para armazenar números complexos. Têm uma parte real e uma parte imaginária (indicada pela letra j)."
      ]
    },
    {
      "cell_type": "code",
      "execution_count": 4,
      "metadata": {
        "colab": {
          "base_uri": "https://localhost:8080/",
          "height": 62
        },
        "id": "bJAiKwcRZSbX",
        "outputId": "a37fa118-673d-4130-8c8b-91749dd7d12d"
      },
      "outputs": [
        {
          "data": {
            "application/javascript": "\n  for (rule of document.styleSheets[0].cssRules){\n    if (rule.selectorText=='body') {\n      rule.style.fontSize = '36px'\n      break\n    }\n  }\n  ",
            "text/plain": [
              "<IPython.core.display.Javascript object>"
            ]
          },
          "metadata": {},
          "output_type": "display_data"
        },
        {
          "data": {
            "text/plain": [
              "(4+3j)"
            ]
          },
          "execution_count": 4,
          "metadata": {},
          "output_type": "execute_result"
        }
      ],
      "source": [
        "d = 4 + 3j\n",
        "d"
      ]
    },
    {
      "cell_type": "markdown",
      "metadata": {
        "id": "oZdQOowzZSbZ"
      },
      "source": [
        "É possível fazer todas as operações comuns em números complexos, como a multiplicação:"
      ]
    },
    {
      "cell_type": "code",
      "execution_count": 5,
      "metadata": {
        "colab": {
          "base_uri": "https://localhost:8080/",
          "height": 62
        },
        "id": "Qvklmn0FZSbZ",
        "outputId": "8e7ef5e3-600b-4c46-eadd-5c370f044c77"
      },
      "outputs": [
        {
          "data": {
            "application/javascript": "\n  for (rule of document.styleSheets[0].cssRules){\n    if (rule.selectorText=='body') {\n      rule.style.fontSize = '36px'\n      break\n    }\n  }\n  ",
            "text/plain": [
              "<IPython.core.display.Javascript object>"
            ]
          },
          "metadata": {},
          "output_type": "display_data"
        },
        {
          "data": {
            "text/plain": [
              "(27-11j)"
            ]
          },
          "execution_count": 5,
          "metadata": {},
          "output_type": "execute_result"
        }
      ],
      "source": [
        "e = 3 - 5j\n",
        "\n",
        "d*e"
      ]
    },
    {
      "cell_type": "markdown",
      "metadata": {
        "id": "NsQjsNfCZSbb"
      },
      "source": [
        "**Sequência de caracteres (string)**\n",
        "\n",
        "Usado para guardar uma sequência de caracteres alfanuméricos. É definido escrevendo a sequência de caracteres entre aspas duplas ou simples."
      ]
    },
    {
      "cell_type": "code",
      "execution_count": 6,
      "metadata": {
        "colab": {
          "base_uri": "https://localhost:8080/",
          "height": 106
        },
        "id": "pqeoS1vHZSbb",
        "outputId": "ecb1b98c-4af9-4fbc-ac98-c91d92da0d79"
      },
      "outputs": [
        {
          "data": {
            "application/javascript": "\n  for (rule of document.styleSheets[0].cssRules){\n    if (rule.selectorText=='body') {\n      rule.style.fontSize = '36px'\n      break\n    }\n  }\n  ",
            "text/plain": [
              "<IPython.core.display.Javascript object>"
            ]
          },
          "metadata": {},
          "output_type": "display_data"
        },
        {
          "name": "stdout",
          "output_type": "stream",
          "text": [
            "isso é uma variável tipo string\n",
            "isso também é uma variável tipo string\n"
          ]
        }
      ],
      "source": [
        "f = 'isso é uma variável tipo string'\n",
        "print(f)\n",
        "\n",
        "g = \"isso também é uma variável tipo string\"\n",
        "print(g)"
      ]
    },
    {
      "cell_type": "markdown",
      "metadata": {
        "id": "QB10DTbaZSbc"
      },
      "source": [
        "É possível juntar várias strings com o sinal +. Com o sinal \\* é possível repetir uma string o número de vezes depois do \\*."
      ]
    },
    {
      "cell_type": "code",
      "execution_count": 7,
      "metadata": {
        "colab": {
          "base_uri": "https://localhost:8080/",
          "height": 106
        },
        "id": "OsedAnDgZSbd",
        "outputId": "09cdde38-f1c8-4b1a-a810-6c3a5aa9a315"
      },
      "outputs": [
        {
          "data": {
            "application/javascript": "\n  for (rule of document.styleSheets[0].cssRules){\n    if (rule.selectorText=='body') {\n      rule.style.fontSize = '36px'\n      break\n    }\n  }\n  ",
            "text/plain": [
              "<IPython.core.display.Javascript object>"
            ]
          },
          "metadata": {},
          "output_type": "display_data"
        },
        {
          "name": "stdout",
          "output_type": "stream",
          "text": [
            "Python\n",
            "PythonPythonPythonPythonPython\n"
          ]
        }
      ],
      "source": [
        "s = 'P' + 'y' + 't' + 'h' + 'o' + 'n'\n",
        "h = s*5\n",
        "\n",
        "print(s)\n",
        "print(h)"
      ]
    },
    {
      "cell_type": "markdown",
      "metadata": {
        "id": "za9lTf7jZSbd"
      },
      "source": [
        "### Variáveis booleanas (bool)\n",
        "\n",
        "Variáveis booleanas (em homenagem a [George Boole](https://pt.wikipedia.org/wiki/George_Boole)) podem assumir apenas dois valores.\n",
        "\n",
        "**Verdadeiro** ou **Falso**\n",
        "\n",
        "No Python esses valores são designados a uma variável com **True** ou **False**:"
      ]
    },
    {
      "cell_type": "code",
      "execution_count": 10,
      "metadata": {
        "colab": {
          "base_uri": "https://localhost:8080/",
          "height": 62
        },
        "id": "XRggEYSMZSbe",
        "outputId": "52f1e551-11f2-43bc-f442-13cfa865dfed"
      },
      "outputs": [
        {
          "data": {
            "application/javascript": "\n  for (rule of document.styleSheets[0].cssRules){\n    if (rule.selectorText=='body') {\n      rule.style.fontSize = '36px'\n      break\n    }\n  }\n  ",
            "text/plain": [
              "<IPython.core.display.Javascript object>"
            ]
          },
          "metadata": {},
          "output_type": "display_data"
        },
        {
          "data": {
            "text/plain": [
              "True"
            ]
          },
          "execution_count": 10,
          "metadata": {},
          "output_type": "execute_result"
        }
      ],
      "source": [
        "a = True\n",
        "a"
      ]
    },
    {
      "cell_type": "code",
      "execution_count": 11,
      "metadata": {
        "colab": {
          "base_uri": "https://localhost:8080/",
          "height": 62
        },
        "id": "Uq-pg2NJZSbf",
        "outputId": "b9b023f3-4105-406a-92a3-3ca7375626bf"
      },
      "outputs": [
        {
          "data": {
            "application/javascript": "\n  for (rule of document.styleSheets[0].cssRules){\n    if (rule.selectorText=='body') {\n      rule.style.fontSize = '36px'\n      break\n    }\n  }\n  ",
            "text/plain": [
              "<IPython.core.display.Javascript object>"
            ]
          },
          "metadata": {},
          "output_type": "display_data"
        },
        {
          "data": {
            "text/plain": [
              "False"
            ]
          },
          "execution_count": 11,
          "metadata": {},
          "output_type": "execute_result"
        }
      ],
      "source": [
        "b = False\n",
        "b"
      ]
    },
    {
      "cell_type": "markdown",
      "metadata": {
        "id": "VcOVbIg5ZSbf"
      },
      "source": [
        "### Operações com variáveis booleanas\n",
        "\n",
        "Existem três operações que se aplicam a variáveis booleanas:\n",
        "\n",
        "**E (and)**\n",
        "\n",
        "Operação entre duas variáveis booleanas. Seu resultado é verdadeiro apenas se as duas variáveis são verdadeiras, caso contrário o resultado será Falso.\n",
        "\n",
        "a **E** b = c\n",
        "\n",
        "\\begin{equation}\n",
        "    \\begin{array}{|c|c|c|}\n",
        "    \\hline\n",
        "     {\\bf a}&{\\bf b}&{\\bf c}\\\\\n",
        "     \\hline\n",
        "     F&F&F\\\\\n",
        "     \\hline\n",
        "     F&V&F\\\\\n",
        "     \\hline\n",
        "     V&F&F\\\\\n",
        "     \\hline\n",
        "     V&V&V\\\\\n",
        "     \\hline\n",
        "    \\end{array}\n",
        "\\end{equation}"
      ]
    },
    {
      "cell_type": "code",
      "execution_count": 12,
      "metadata": {
        "colab": {
          "base_uri": "https://localhost:8080/",
          "height": 62
        },
        "id": "Ok3QoGyXZSbg",
        "outputId": "a83b3dab-0606-49b6-da31-14a67bc56d26"
      },
      "outputs": [
        {
          "data": {
            "application/javascript": "\n  for (rule of document.styleSheets[0].cssRules){\n    if (rule.selectorText=='body') {\n      rule.style.fontSize = '36px'\n      break\n    }\n  }\n  ",
            "text/plain": [
              "<IPython.core.display.Javascript object>"
            ]
          },
          "metadata": {},
          "output_type": "display_data"
        },
        {
          "data": {
            "text/plain": [
              "False"
            ]
          },
          "execution_count": 12,
          "metadata": {},
          "output_type": "execute_result"
        }
      ],
      "source": [
        "a = True\n",
        "b = False\n",
        "c = True\n",
        "d = False\n",
        "\n",
        "e = a and b\n",
        "e"
      ]
    },
    {
      "cell_type": "code",
      "execution_count": 13,
      "metadata": {
        "colab": {
          "base_uri": "https://localhost:8080/",
          "height": 62
        },
        "id": "mgfGMVDxZSbh",
        "outputId": "372f7997-a370-4130-8888-f532071f8c08"
      },
      "outputs": [
        {
          "data": {
            "application/javascript": "\n  for (rule of document.styleSheets[0].cssRules){\n    if (rule.selectorText=='body') {\n      rule.style.fontSize = '36px'\n      break\n    }\n  }\n  ",
            "text/plain": [
              "<IPython.core.display.Javascript object>"
            ]
          },
          "metadata": {},
          "output_type": "display_data"
        },
        {
          "data": {
            "text/plain": [
              "False"
            ]
          },
          "execution_count": 13,
          "metadata": {},
          "output_type": "execute_result"
        }
      ],
      "source": [
        "f = b and d\n",
        "f"
      ]
    },
    {
      "cell_type": "code",
      "execution_count": 14,
      "metadata": {
        "colab": {
          "base_uri": "https://localhost:8080/",
          "height": 62
        },
        "id": "F3ahsmvTZSbi",
        "outputId": "3f5ee42d-38a3-4e13-a8f5-0251cfdb31e5"
      },
      "outputs": [
        {
          "data": {
            "application/javascript": "\n  for (rule of document.styleSheets[0].cssRules){\n    if (rule.selectorText=='body') {\n      rule.style.fontSize = '36px'\n      break\n    }\n  }\n  ",
            "text/plain": [
              "<IPython.core.display.Javascript object>"
            ]
          },
          "metadata": {},
          "output_type": "display_data"
        },
        {
          "data": {
            "text/plain": [
              "True"
            ]
          },
          "execution_count": 14,
          "metadata": {},
          "output_type": "execute_result"
        }
      ],
      "source": [
        "g = a and c\n",
        "g"
      ]
    },
    {
      "cell_type": "markdown",
      "metadata": {
        "id": "GUMg9oxZZSbi"
      },
      "source": [
        "**OU (or)**\n",
        "\n",
        "Operação entre duas variáveis booleanas. Seu resultado é verdadeiro  se pelo menos uma das duas variáveis é verdadeira, caso contrário o resultado será falso.\n",
        "\n",
        "\n",
        "a **OU** b = c\n",
        "\n",
        "\\begin{equation}\n",
        "    \\begin{array}{|c|c|c|}\n",
        "    \\hline\n",
        "     {\\bf a}&{\\bf b}&{\\bf c}\\\\\n",
        "     \\hline\n",
        "     F&F&F\\\\\n",
        "     \\hline\n",
        "     F&V&V\\\\\n",
        "     \\hline\n",
        "     V&F&V\\\\\n",
        "     \\hline\n",
        "     V&V&V\\\\\n",
        "     \\hline\n",
        "    \\end{array}\n",
        "\\end{equation}"
      ]
    },
    {
      "cell_type": "code",
      "execution_count": 15,
      "metadata": {
        "colab": {
          "base_uri": "https://localhost:8080/",
          "height": 62
        },
        "id": "dAxyA12HZSbj",
        "outputId": "a3ba9447-c3c7-427d-f1b9-3b5285fd7830"
      },
      "outputs": [
        {
          "data": {
            "application/javascript": "\n  for (rule of document.styleSheets[0].cssRules){\n    if (rule.selectorText=='body') {\n      rule.style.fontSize = '36px'\n      break\n    }\n  }\n  ",
            "text/plain": [
              "<IPython.core.display.Javascript object>"
            ]
          },
          "metadata": {},
          "output_type": "display_data"
        },
        {
          "data": {
            "text/plain": [
              "False"
            ]
          },
          "execution_count": 15,
          "metadata": {},
          "output_type": "execute_result"
        }
      ],
      "source": [
        "a = True\n",
        "b = False\n",
        "c = True\n",
        "d = False\n",
        "\n",
        "e = b or d\n",
        "e"
      ]
    },
    {
      "cell_type": "code",
      "execution_count": 16,
      "metadata": {
        "colab": {
          "base_uri": "https://localhost:8080/",
          "height": 62
        },
        "id": "k0T1isghZSbk",
        "outputId": "cdcd7ec2-923f-4c51-821d-5bd6b133cc4d"
      },
      "outputs": [
        {
          "data": {
            "application/javascript": "\n  for (rule of document.styleSheets[0].cssRules){\n    if (rule.selectorText=='body') {\n      rule.style.fontSize = '36px'\n      break\n    }\n  }\n  ",
            "text/plain": [
              "<IPython.core.display.Javascript object>"
            ]
          },
          "metadata": {},
          "output_type": "display_data"
        },
        {
          "data": {
            "text/plain": [
              "True"
            ]
          },
          "execution_count": 16,
          "metadata": {},
          "output_type": "execute_result"
        }
      ],
      "source": [
        "f = a or b\n",
        "f"
      ]
    },
    {
      "cell_type": "code",
      "execution_count": 17,
      "metadata": {
        "colab": {
          "base_uri": "https://localhost:8080/",
          "height": 62
        },
        "id": "AFtt_9a_ZSbl",
        "outputId": "559f8b29-7146-4ae4-fe23-632fd69dfa07"
      },
      "outputs": [
        {
          "data": {
            "application/javascript": "\n  for (rule of document.styleSheets[0].cssRules){\n    if (rule.selectorText=='body') {\n      rule.style.fontSize = '36px'\n      break\n    }\n  }\n  ",
            "text/plain": [
              "<IPython.core.display.Javascript object>"
            ]
          },
          "metadata": {},
          "output_type": "display_data"
        },
        {
          "data": {
            "text/plain": [
              "True"
            ]
          },
          "execution_count": 17,
          "metadata": {},
          "output_type": "execute_result"
        }
      ],
      "source": [
        "g = a or c\n",
        "g"
      ]
    },
    {
      "cell_type": "markdown",
      "metadata": {
        "id": "WI2aOZi2ZSbl"
      },
      "source": [
        "**NEGAÇÃO (not)**\n",
        "\n",
        "Operação em uma variável booleana. Seu resultado é verdadeiro se a variável for falsa. Seu resultado é falso se a variável for verdadeira.\n",
        "\n",
        "**NEGAÇÃO** a = c\n",
        "\n",
        "\n",
        "\\begin{equation}\n",
        "    \\begin{array}{|c|c|}\n",
        "    \\hline\n",
        "     {\\bf a}&{\\bf c}\\\\\n",
        "     \\hline\n",
        "     F&V\\\\\n",
        "     \\hline\n",
        "     V&F\\\\\n",
        "     \\hline\n",
        "    \\end{array}\n",
        "\\end{equation}\n"
      ]
    },
    {
      "cell_type": "code",
      "execution_count": 18,
      "metadata": {
        "colab": {
          "base_uri": "https://localhost:8080/",
          "height": 62
        },
        "id": "Rpny729ZZSbm",
        "outputId": "a41af03e-6090-482d-eafc-4067440313da"
      },
      "outputs": [
        {
          "data": {
            "application/javascript": "\n  for (rule of document.styleSheets[0].cssRules){\n    if (rule.selectorText=='body') {\n      rule.style.fontSize = '36px'\n      break\n    }\n  }\n  ",
            "text/plain": [
              "<IPython.core.display.Javascript object>"
            ]
          },
          "metadata": {},
          "output_type": "display_data"
        },
        {
          "data": {
            "text/plain": [
              "False"
            ]
          },
          "execution_count": 18,
          "metadata": {},
          "output_type": "execute_result"
        }
      ],
      "source": [
        "a = True\n",
        "b = False\n",
        "\n",
        "g = not a\n",
        "g"
      ]
    },
    {
      "cell_type": "code",
      "execution_count": 19,
      "metadata": {
        "colab": {
          "base_uri": "https://localhost:8080/",
          "height": 62
        },
        "id": "yLql37s2ZSbm",
        "outputId": "5365f919-072a-49af-9156-b880eeb4ef7f"
      },
      "outputs": [
        {
          "data": {
            "application/javascript": "\n  for (rule of document.styleSheets[0].cssRules){\n    if (rule.selectorText=='body') {\n      rule.style.fontSize = '36px'\n      break\n    }\n  }\n  ",
            "text/plain": [
              "<IPython.core.display.Javascript object>"
            ]
          },
          "metadata": {},
          "output_type": "display_data"
        },
        {
          "data": {
            "text/plain": [
              "True"
            ]
          },
          "execution_count": 19,
          "metadata": {},
          "output_type": "execute_result"
        }
      ],
      "source": [
        "f = not b\n",
        "f"
      ]
    },
    {
      "cell_type": "markdown",
      "metadata": {
        "id": "m9UHJ_O3ZSbm"
      },
      "source": [
        "### Valor booleano como resultado de uma comparação\n",
        "\n",
        "Existem seis operações de comparação:\n",
        "\n",
        "- **<**: menor que\n",
        "- **<=**: menor ou igual que\n",
        "- **>**: maior que\n",
        "- **>=**: maior ou igual que\n",
        "- **==**: igual a\n",
        "- **!=**: diferente de\n",
        "\n",
        "Estas operações atuam entre dois valores. Se a comparação for verdadeira, o resultado será um valor booleano **True**. Se a comparação for falsa, o resultado será um valor booleano **False**"
      ]
    },
    {
      "cell_type": "code",
      "execution_count": 20,
      "metadata": {
        "colab": {
          "base_uri": "https://localhost:8080/",
          "height": 62
        },
        "id": "FIBx3Wb-ZSbn",
        "outputId": "3e62ca12-61c4-4b79-dfe5-b1d229cc6ed4"
      },
      "outputs": [
        {
          "data": {
            "application/javascript": "\n  for (rule of document.styleSheets[0].cssRules){\n    if (rule.selectorText=='body') {\n      rule.style.fontSize = '36px'\n      break\n    }\n  }\n  ",
            "text/plain": [
              "<IPython.core.display.Javascript object>"
            ]
          },
          "metadata": {},
          "output_type": "display_data"
        },
        {
          "data": {
            "text/plain": [
              "True"
            ]
          },
          "execution_count": 20,
          "metadata": {},
          "output_type": "execute_result"
        }
      ],
      "source": [
        "a = 4.5\n",
        "b = 6\n",
        "c = -10.6\n",
        "d = 6\n",
        "f = 23.6\n",
        "\n",
        "a > c"
      ]
    },
    {
      "cell_type": "code",
      "execution_count": 21,
      "metadata": {
        "colab": {
          "base_uri": "https://localhost:8080/",
          "height": 62
        },
        "id": "DAWrEBQhZSbo",
        "outputId": "7f95aebe-67a0-439d-a0c2-42f69d9eb441"
      },
      "outputs": [
        {
          "data": {
            "application/javascript": "\n  for (rule of document.styleSheets[0].cssRules){\n    if (rule.selectorText=='body') {\n      rule.style.fontSize = '36px'\n      break\n    }\n  }\n  ",
            "text/plain": [
              "<IPython.core.display.Javascript object>"
            ]
          },
          "metadata": {},
          "output_type": "display_data"
        },
        {
          "data": {
            "text/plain": [
              "False"
            ]
          },
          "execution_count": 21,
          "metadata": {},
          "output_type": "execute_result"
        }
      ],
      "source": [
        "a == b"
      ]
    },
    {
      "cell_type": "code",
      "execution_count": 22,
      "metadata": {
        "colab": {
          "base_uri": "https://localhost:8080/",
          "height": 62
        },
        "id": "Bqu2ENsVZSbp",
        "outputId": "ccf37a0b-ef20-4ee8-bf2e-5dc2c3265212"
      },
      "outputs": [
        {
          "data": {
            "application/javascript": "\n  for (rule of document.styleSheets[0].cssRules){\n    if (rule.selectorText=='body') {\n      rule.style.fontSize = '36px'\n      break\n    }\n  }\n  ",
            "text/plain": [
              "<IPython.core.display.Javascript object>"
            ]
          },
          "metadata": {},
          "output_type": "display_data"
        },
        {
          "data": {
            "text/plain": [
              "True"
            ]
          },
          "execution_count": 22,
          "metadata": {},
          "output_type": "execute_result"
        }
      ],
      "source": [
        "b == d"
      ]
    },
    {
      "cell_type": "code",
      "execution_count": 23,
      "metadata": {
        "colab": {
          "base_uri": "https://localhost:8080/",
          "height": 62
        },
        "id": "VXmi07LKZSbq",
        "outputId": "80a13ccf-c56c-48bc-9216-8ff1c8d017ca"
      },
      "outputs": [
        {
          "data": {
            "application/javascript": "\n  for (rule of document.styleSheets[0].cssRules){\n    if (rule.selectorText=='body') {\n      rule.style.fontSize = '36px'\n      break\n    }\n  }\n  ",
            "text/plain": [
              "<IPython.core.display.Javascript object>"
            ]
          },
          "metadata": {},
          "output_type": "display_data"
        },
        {
          "data": {
            "text/plain": [
              "False"
            ]
          },
          "execution_count": 23,
          "metadata": {},
          "output_type": "execute_result"
        }
      ],
      "source": [
        "b != d"
      ]
    },
    {
      "cell_type": "code",
      "execution_count": 24,
      "metadata": {
        "colab": {
          "base_uri": "https://localhost:8080/",
          "height": 62
        },
        "id": "f5bsia99ZSbq",
        "outputId": "72ab3947-cc1d-4e35-ae8b-860b3888dce8"
      },
      "outputs": [
        {
          "data": {
            "application/javascript": "\n  for (rule of document.styleSheets[0].cssRules){\n    if (rule.selectorText=='body') {\n      rule.style.fontSize = '36px'\n      break\n    }\n  }\n  ",
            "text/plain": [
              "<IPython.core.display.Javascript object>"
            ]
          },
          "metadata": {},
          "output_type": "display_data"
        },
        {
          "data": {
            "text/plain": [
              "False"
            ]
          },
          "execution_count": 24,
          "metadata": {},
          "output_type": "execute_result"
        }
      ],
      "source": [
        "f <= d"
      ]
    },
    {
      "cell_type": "markdown",
      "metadata": {
        "id": "GuYh5Pq4ZSbq"
      },
      "source": [
        "É possível também combinar com várias comparações com as operações **not**, **and** e **or**."
      ]
    },
    {
      "cell_type": "code",
      "execution_count": 25,
      "metadata": {
        "colab": {
          "base_uri": "https://localhost:8080/",
          "height": 62
        },
        "id": "n7kHfFwdZSbr",
        "outputId": "0dc6e02e-4688-44c2-efb7-8882c0acc70a"
      },
      "outputs": [
        {
          "data": {
            "application/javascript": "\n  for (rule of document.styleSheets[0].cssRules){\n    if (rule.selectorText=='body') {\n      rule.style.fontSize = '36px'\n      break\n    }\n  }\n  ",
            "text/plain": [
              "<IPython.core.display.Javascript object>"
            ]
          },
          "metadata": {},
          "output_type": "display_data"
        },
        {
          "data": {
            "text/plain": [
              "False"
            ]
          },
          "execution_count": 25,
          "metadata": {},
          "output_type": "execute_result"
        }
      ],
      "source": [
        "a = 4.5\n",
        "b = 6\n",
        "c = -10.6\n",
        "d = 6\n",
        "f = 23.6\n",
        "\n",
        "c >= f or f == b"
      ]
    },
    {
      "cell_type": "code",
      "execution_count": 26,
      "metadata": {
        "colab": {
          "base_uri": "https://localhost:8080/",
          "height": 62
        },
        "id": "Pail9WGIZSbt",
        "outputId": "87b2bd7a-06a6-4e81-ad37-056365c417e4"
      },
      "outputs": [
        {
          "data": {
            "application/javascript": "\n  for (rule of document.styleSheets[0].cssRules){\n    if (rule.selectorText=='body') {\n      rule.style.fontSize = '36px'\n      break\n    }\n  }\n  ",
            "text/plain": [
              "<IPython.core.display.Javascript object>"
            ]
          },
          "metadata": {},
          "output_type": "display_data"
        },
        {
          "data": {
            "text/plain": [
              "True"
            ]
          },
          "execution_count": 26,
          "metadata": {},
          "output_type": "execute_result"
        }
      ],
      "source": [
        "a < b and d > c"
      ]
    },
    {
      "cell_type": "code",
      "execution_count": 27,
      "metadata": {
        "colab": {
          "base_uri": "https://localhost:8080/",
          "height": 62
        },
        "id": "u5D9zs91ZSbu",
        "outputId": "464a3066-f627-4683-cf28-387248c4ffca"
      },
      "outputs": [
        {
          "data": {
            "application/javascript": "\n  for (rule of document.styleSheets[0].cssRules){\n    if (rule.selectorText=='body') {\n      rule.style.fontSize = '36px'\n      break\n    }\n  }\n  ",
            "text/plain": [
              "<IPython.core.display.Javascript object>"
            ]
          },
          "metadata": {},
          "output_type": "display_data"
        },
        {
          "data": {
            "text/plain": [
              "False"
            ]
          },
          "execution_count": 27,
          "metadata": {},
          "output_type": "execute_result"
        }
      ],
      "source": [
        "not c != d"
      ]
    },
    {
      "cell_type": "markdown",
      "metadata": {
        "id": "qKaX4p6QZSbv"
      },
      "source": [
        "### Execução condicional: seleção binária\n",
        "\n",
        "Comando **if-else**.\n",
        "\n",
        "É usada quando se deseja executar uma sequência de instruções caso alguma condição for verdadeira e uma outra sequência caso alguma condição seja falsa.\n",
        "\n",
        "Tem a seguinte estrutura:\n",
        "\n",
        "if OPERAÇÃO_BOOLEANA:     \n",
        "    &nbsp;&nbsp;&nbsp;&nbsp;&nbsp;&nbsp;&nbsp;&nbsp;&nbsp;&nbsp;&nbsp;&nbsp;INSTRUÇÕES_CASO_OPERAÇÃO_BOOLEANA_SEJA_True  \n",
        "else:     \n",
        "&nbsp;&nbsp;&nbsp;&nbsp;&nbsp;&nbsp;&nbsp;&nbsp;&nbsp;&nbsp;&nbsp;&nbsp;INSTRUÇÕES_CASO_OPERAÇÃO_BOOLEANA_SEJA_False\n",
        "\n",
        "INSTRUÇÕES\n",
        "\n",
        "Repare que para indicar o que é executado se a condição for verdadeira está indentado (avanço de 4 espaços ou 1 tabulação) em relação à chamada do if."
      ]
    },
    {
      "cell_type": "code",
      "execution_count": null,
      "metadata": {
        "id": "klpk0XUTZSbv",
        "outputId": "6c91ce7a-8ccb-40b5-9193-f3006d62c65f"
      },
      "outputs": [
        {
          "name": "stdout",
          "output_type": "stream",
          "text": [
            "O número não está no intervalo [5 ,10]\n",
            "Agora o número é -20\n"
          ]
        }
      ],
      "source": [
        "a = -10\n",
        "if a >= 5 and a <= 10:\n",
        "    print(\"O número está no intervalo [5 ,10]\")\n",
        "    a = a + 5\n",
        "else:\n",
        "    print(\"O número não está no intervalo [5 ,10]\")\n",
        "    a = a - 10\n",
        "print('Agora o número é', a)"
      ]
    },
    {
      "cell_type": "markdown",
      "metadata": {
        "id": "D5BMtDO8ZSbv"
      },
      "source": [
        "### Execução condicional: seleção unária\n",
        "\n",
        "Comando **if**.\n",
        "\n",
        "É usada quando se deseja executar uma sequência de instruções apenas se uma condição for verdadeira.\n",
        "\n",
        "Tem a seguinte estrutura:\n",
        "\n",
        "if OPERAÇÃO_BOOLEANA:     \n",
        "    &nbsp;&nbsp;&nbsp;&nbsp;&nbsp;&nbsp;&nbsp;&nbsp;&nbsp;&nbsp;&nbsp;&nbsp;INSTRUÇÕES_CASO_OPERAÇÃO_BOOLEANA_SEJA_True  \n",
        "\n",
        "INSTRUÇÕES\n",
        "\n",
        "Repare que para indicar o que é executado se a condição for verdadeira está indentado (avanço de 4 espaços ou 1 tabulação) em relação à chamada do if."
      ]
    },
    {
      "cell_type": "code",
      "execution_count": null,
      "metadata": {
        "id": "AeeHKuPcZSbw",
        "outputId": "29d92a6e-fd77-44a2-f07c-21631f148fef"
      },
      "outputs": [
        {
          "name": "stdout",
          "output_type": "stream",
          "text": [
            "O if está sendo executado\n",
            "Esse print é executado sempre\n"
          ]
        }
      ],
      "source": [
        "y = -10\n",
        "x = 9\n",
        "\n",
        "if x > 0 and y < 0:\n",
        "    print('O if está sendo executado')\n",
        "\n",
        "print('Esse print é executado sempre')"
      ]
    },
    {
      "cell_type": "markdown",
      "metadata": {
        "id": "fub_9X1uZSbw"
      },
      "source": [
        "### Condicionais aninhados\n",
        "\n",
        "É possível colocar várias condições utilizando a estrutura elif.\n",
        "\n",
        "Por exemplo:"
      ]
    },
    {
      "cell_type": "code",
      "execution_count": null,
      "metadata": {
        "id": "84wo8xlTZSbw",
        "outputId": "466b1a70-fad9-468b-b524-9bb4bbf3c5f5"
      },
      "outputs": [
        {
          "name": "stdout",
          "output_type": "stream",
          "text": [
            "x é menor do que y\n"
          ]
        }
      ],
      "source": [
        "x = -4\n",
        "y = 1\n",
        "\n",
        "if x > y:\n",
        "    print('x é maior do que y')\n",
        "elif x < y:\n",
        "    print('x é menor do que y')\n",
        "else:\n",
        "    print('x é igual a y')\n"
      ]
    },
    {
      "cell_type": "markdown",
      "metadata": {
        "id": "1q_Jk17AZSb-"
      },
      "source": [
        "### Igualdade entre dois números float\n",
        "\n",
        "Aritmética de ponto flutuante (float) não é exatamente precisa. Isso faz com que não seja seguro testar números em ponto flutuante (float) para igualdade. Por exemplo, veja a situação abaixo:"
      ]
    },
    {
      "cell_type": "code",
      "execution_count": null,
      "metadata": {
        "id": "LcSFE9tsZSb_",
        "outputId": "f433b377-f2c3-4777-c034-9aa216012d5c"
      },
      "outputs": [
        {
          "name": "stdout",
          "output_type": "stream",
          "text": [
            "x = 0.3\n",
            "y = 0.30000000000000004\n",
            "x == y: False\n"
          ]
        }
      ],
      "source": [
        "x = 0.3\n",
        "y = 0.1 + 0.2\n",
        "print('x =', x)\n",
        "print('y =', y)\n",
        "print('x == y:', x == y)"
      ]
    },
    {
      "cell_type": "markdown",
      "metadata": {
        "id": "5MigcGS_ZScA"
      },
      "source": [
        "É claro que o que se espera é que as variáveis $x$ e $y$ sejam iguais (resultado True), mas devido à não precisão da aritmética de ponto flutuante o resultado é False."
      ]
    },
    {
      "cell_type": "markdown",
      "metadata": {
        "id": "5p85ZzApZScA"
      },
      "source": [
        "#### Teste se dois números float estão próximos\n",
        "\n",
        "Uma alternativa é em vez de usar a igualdade, testar se os números estão próximos (dentro de uma tolerância)"
      ]
    },
    {
      "cell_type": "code",
      "execution_count": null,
      "metadata": {
        "id": "TvsTxZEIZScB",
        "outputId": "e35b9bb0-d13f-488d-de7b-9bf0fc1f9847"
      },
      "outputs": [
        {
          "data": {
            "text/plain": [
              "True"
            ]
          },
          "execution_count": 37,
          "metadata": {},
          "output_type": "execute_result"
        }
      ],
      "source": [
        "np.isclose(x, y)"
      ]
    },
    {
      "cell_type": "markdown",
      "metadata": {
        "id": "kyaaxLxEZScB"
      },
      "source": [
        "### Exercícios\n",
        "\n",
        "- Escrever um notebook do Colab para fazer o que pedido a seguir.\n",
        "\n",
        "**1)** Faça um programa que mostre se o número inteiro guardado na variável $x$ é par ou ímpar. Caso seja par, deve aparecer na tela: \"O número x é par\". Caso seja ímpar deve aparecer \"O número x é ímpar\".\n",
        "\n",
        "Teste para a) $x$ = 1, b) $x$ = 24, c) $x$ = 10, d) $x$ = 5.\n",
        "\n",
        "    \n"
      ]
    },
    {
      "cell_type": "markdown",
      "metadata": {
        "id": "bRmhpZIxZScC"
      },
      "source": [
        "**2)** O índice de massa corporal (IMC) de uma pessoa é calculado por:\n",
        "    \n",
        "$$IMC = \\frac{m}{h^2} $$\n",
        "    \n",
        "em que $m$ é a massa corporal, em kg, e $h$ é a altura, em metros.\n",
        "\n",
        "O IMC tem a seguinte classificação:\n",
        "\n",
        "- menor que 17 kg/m$^2$ -- Muito abaixo do peso\n",
        "- 17 a 18,5 kg/m$^2$ -- Abaixo do peso\n",
        "- 18,5 a 25 kg/m$^2$ -- Peso normal\n",
        "- 25 a 30 kg/m$^2$ -- Acima do peso\n",
        "- 30 a 35 kg/m$^2$ -- Obesidade Grau I\n",
        "- 35 a 40 kg/m$^2$ -- Obesidade Grau II\n",
        "- maior que 40 kg/m$^2$ -- Obesidade Grau III\n",
        "\n",
        "Escreva um código em Python para calcular o IMC e mostrar a classificação do IMC. Teste para a) $m = 52$ kg e $h = 1,58$ m, b) $m = 83$ kg e $h = 1,75$ m, c) seu peso e altura."
      ]
    },
    {
      "cell_type": "markdown",
      "metadata": {
        "id": "g5EEhC97ZScD"
      },
      "source": [
        "### Referências\n",
        "\n",
        "- Chalco, JM, *Slides de Bases Computacionais da Ciência*, (2014)\n",
        "- Leite, S, *Slides de Bases Computacionais da Ciência*, (2018)\n",
        "- [Marietto, MGB et al.; **Bases computacionais da Ciência** (2013)](http://prograd.ufabc.edu.br/images/pdf/bases_computacionais_livro.pdf).\n",
        "- [Miller, B e Ranum, D; Decisões e Seleção, In: *Como Pensar Como um Cientista da Computação*](https://panda.ime.usp.br/pensepy/static/pensepy/06-Selecao/selecao.html)\n",
        "- [Duarte, M e Watanabe, R; Python Tutorial (2022)](https://nbviewer.jupyter.org/github/BMClab/bmc/blob/master/notebooks/PT-BR/PythonTutorial_PT-BR.ipynb)"
      ]
    }
  ],
  "metadata": {
    "colab": {
      "provenance": []
    },
    "kernelspec": {
      "display_name": "Python 3 (ipykernel)",
      "language": "python",
      "name": "python3"
    },
    "language_info": {
      "codemirror_mode": {
        "name": "ipython",
        "version": 3
      },
      "file_extension": ".py",
      "mimetype": "text/x-python",
      "name": "python",
      "nbconvert_exporter": "python",
      "pygments_lexer": "ipython3",
      "version": "3.9.13"
    },
    "latex_envs": {
      "LaTeX_envs_menu_present": true,
      "autoclose": false,
      "autocomplete": true,
      "bibliofile": "biblio.bib",
      "cite_by": "apalike",
      "current_citInitial": 1,
      "eqLabelWithNumbers": true,
      "eqNumInitial": 1,
      "hotkeys": {
        "equation": "Ctrl-E",
        "itemize": "Ctrl-I"
      },
      "labels_anchors": false,
      "latex_user_defs": false,
      "report_style_numbering": false,
      "user_envs_cfg": false
    },
    "livereveal": {
      "autolaunch": true
    },
    "nbTranslate": {
      "displayLangs": [
        "*"
      ],
      "hotkey": "alt-t",
      "langInMainMenu": true,
      "sourceLang": "en",
      "targetLang": "fr",
      "useGoogleTranslate": true
    },
    "toc": {
      "base_numbering": 1,
      "nav_menu": {},
      "number_sections": true,
      "sideBar": true,
      "skip_h1_title": true,
      "title_cell": "Contents",
      "title_sidebar": "Contents",
      "toc_cell": true,
      "toc_position": {},
      "toc_section_display": true,
      "toc_window_display": false
    },
    "varInspector": {
      "cols": {
        "lenName": 16,
        "lenType": 16,
        "lenVar": 40
      },
      "kernels_config": {
        "python": {
          "delete_cmd_postfix": "",
          "delete_cmd_prefix": "del ",
          "library": "var_list.py",
          "varRefreshCmd": "print(var_dic_list())"
        },
        "r": {
          "delete_cmd_postfix": ") ",
          "delete_cmd_prefix": "rm(",
          "library": "var_list.r",
          "varRefreshCmd": "cat(var_dic_list()) "
        }
      },
      "types_to_exclude": [
        "module",
        "function",
        "builtin_function_or_method",
        "instance",
        "_Feature"
      ],
      "window_display": false
    }
  },
  "nbformat": 4,
  "nbformat_minor": 0
}
