{
 "cells": [
  {
   "cell_type": "markdown",
   "metadata": {
    "slideshow": {
     "slide_type": "slide"
    }
   },
   "source": [
    "# Estruturas condicionais\n",
    "\n",
    "Renato Naville Watanabe"
   ]
  },
  {
   "cell_type": "markdown",
   "metadata": {
    "slideshow": {
     "slide_type": "slide"
    }
   },
   "source": [
    "### Tipos de variáveis\n",
    "\n",
    "**Inteiro (int)** \n",
    "\n",
    "Números inteiros. Não têm uma parte decimal."
   ]
  },
  {
   "cell_type": "code",
   "execution_count": 29,
   "metadata": {
    "slideshow": {
     "slide_type": "fragment"
    }
   },
   "outputs": [
    {
     "name": "stdout",
     "output_type": "stream",
     "text": [
      "3\n"
     ]
    }
   ],
   "source": [
    "a = 3\n",
    "print(a)"
   ]
  },
  {
   "cell_type": "markdown",
   "metadata": {
    "slideshow": {
     "slide_type": "fragment"
    }
   },
   "source": [
    "**Ponto flutuante (float)**\n",
    "\n",
    "Usado para representar números reais. Têm uma parte decimal, indicada por um ponto."
   ]
  },
  {
   "cell_type": "code",
   "execution_count": 37,
   "metadata": {
    "slideshow": {
     "slide_type": "fragment"
    }
   },
   "outputs": [
    {
     "name": "stdout",
     "output_type": "stream",
     "text": [
      "3.0\n"
     ]
    }
   ],
   "source": [
    "x = 3.0\n",
    "print(x)"
   ]
  },
  {
   "cell_type": "markdown",
   "metadata": {
    "slideshow": {
     "slide_type": "slide"
    }
   },
   "source": [
    "**Complexo (complex)**\n",
    "\n",
    "Usado para armazenar números complexos. Têm uma parte real e uma parte imaginária (indicada pela letra j)."
   ]
  },
  {
   "cell_type": "code",
   "execution_count": 49,
   "metadata": {
    "slideshow": {
     "slide_type": "fragment"
    }
   },
   "outputs": [
    {
     "name": "stdout",
     "output_type": "stream",
     "text": [
      "(4+3j)\n"
     ]
    }
   ],
   "source": [
    "d = 4 + 3j\n",
    "\n",
    "\n",
    "print(d)"
   ]
  },
  {
   "cell_type": "markdown",
   "metadata": {
    "slideshow": {
     "slide_type": "fragment"
    }
   },
   "source": [
    "É possível fazer todas as operações comuns em números complexos, como a multiplicação:"
   ]
  },
  {
   "cell_type": "code",
   "execution_count": 52,
   "metadata": {
    "slideshow": {
     "slide_type": "fragment"
    }
   },
   "outputs": [
    {
     "name": "stdout",
     "output_type": "stream",
     "text": [
      "(27-11j)\n"
     ]
    }
   ],
   "source": [
    "e = 3 - 5j\n",
    "\n",
    "print(d*e)"
   ]
  },
  {
   "cell_type": "markdown",
   "metadata": {
    "slideshow": {
     "slide_type": "slide"
    }
   },
   "source": [
    "**Sequência de caracteres (string)**\n",
    "\n",
    "Usado para guardar uma sequência de caracteres alfanuméricos. É definido escrevendo a sequência de caracteres entre aspas duplas ou simples."
   ]
  },
  {
   "cell_type": "code",
   "execution_count": 54,
   "metadata": {
    "slideshow": {
     "slide_type": "fragment"
    }
   },
   "outputs": [
    {
     "name": "stdout",
     "output_type": "stream",
     "text": [
      "isso é uma variável tipo string\n"
     ]
    }
   ],
   "source": [
    "f = 'isso é uma variável tipo string'\n",
    "print(f)"
   ]
  },
  {
   "cell_type": "markdown",
   "metadata": {
    "slideshow": {
     "slide_type": "fragment"
    }
   },
   "source": [
    "É possível juntar várias strings com o sinal +. Com o sinal * é possível repetir uma string o número de vezes depois do *."
   ]
  },
  {
   "cell_type": "code",
   "execution_count": 55,
   "metadata": {},
   "outputs": [
    {
     "name": "stdout",
     "output_type": "stream",
     "text": [
      "Python\n",
      "PythonPythonPythonPythonPython\n"
     ]
    }
   ],
   "source": [
    "s = 'P'+'y'+'t'+'h'+'o'+'n'\n",
    "h = s*5\n",
    "\n",
    "print(s)\n",
    "print(h)"
   ]
  },
  {
   "cell_type": "markdown",
   "metadata": {
    "slideshow": {
     "slide_type": "slide"
    }
   },
   "source": [
    "### Variáveis booleanas\n",
    "\n",
    "Variáveis booleanas (em homenagem a [George Boole](https://pt.wikipedia.org/wiki/George_Boole)) podem assumir apenas dois valores.\n",
    "\n",
    "**Verdadeiro** ou **Falso**\n",
    "\n",
    "No Python esses valores são designados a uma variável com **True** ou **False**:"
   ]
  },
  {
   "cell_type": "code",
   "execution_count": 1,
   "metadata": {
    "slideshow": {
     "slide_type": "fragment"
    }
   },
   "outputs": [
    {
     "name": "stdout",
     "output_type": "stream",
     "text": [
      "True\n"
     ]
    }
   ],
   "source": [
    "a = True\n",
    "print(a)"
   ]
  },
  {
   "cell_type": "code",
   "execution_count": 2,
   "metadata": {
    "slideshow": {
     "slide_type": "fragment"
    }
   },
   "outputs": [
    {
     "name": "stdout",
     "output_type": "stream",
     "text": [
      "False\n"
     ]
    }
   ],
   "source": [
    "b = False\n",
    "print(b)"
   ]
  },
  {
   "cell_type": "markdown",
   "metadata": {
    "slideshow": {
     "slide_type": "slide"
    }
   },
   "source": [
    "### Operações com variáveis booleanas\n",
    "\n",
    "Existem três operações que se aplicam a variáveis booleanas:\n",
    "\n",
    "**E**\n",
    "\n",
    "Operação entre duas variáveis booleanas. Seu resultado é verdadeiro apenas se as duas variáveis são verdadeiras, caso contrário o resultado será Falso.\n",
    "\n",
    "a **E** b = c\n",
    "\n",
    "\\begin{equation}\n",
    "    \\begin{array}{|c|c|c|}\n",
    "    \\hline\n",
    "     {\\bf a}&{\\bf b}&{\\bf c}\\\\\n",
    "     \\hline\n",
    "     F&F&F\\\\\n",
    "     \\hline\n",
    "     F&V&F\\\\\n",
    "     \\hline\n",
    "     V&F&F\\\\\n",
    "     \\hline\n",
    "     V&V&V\\\\\n",
    "     \\hline\n",
    "    \\end{array}\n",
    "\\end{equation}"
   ]
  },
  {
   "cell_type": "code",
   "execution_count": 4,
   "metadata": {
    "slideshow": {
     "slide_type": "slide"
    }
   },
   "outputs": [
    {
     "name": "stdout",
     "output_type": "stream",
     "text": [
      "False\n"
     ]
    }
   ],
   "source": [
    "a = True\n",
    "b = False\n",
    "c = True\n",
    "d = False\n",
    "\n",
    "e = a and b\n",
    "print(e)"
   ]
  },
  {
   "cell_type": "code",
   "execution_count": 6,
   "metadata": {
    "slideshow": {
     "slide_type": "fragment"
    }
   },
   "outputs": [
    {
     "name": "stdout",
     "output_type": "stream",
     "text": [
      "False\n"
     ]
    }
   ],
   "source": [
    "f = b and d\n",
    "print(False)"
   ]
  },
  {
   "cell_type": "code",
   "execution_count": 7,
   "metadata": {
    "slideshow": {
     "slide_type": "fragment"
    }
   },
   "outputs": [
    {
     "name": "stdout",
     "output_type": "stream",
     "text": [
      "True\n"
     ]
    }
   ],
   "source": [
    "g = a and c\n",
    "print(g)"
   ]
  },
  {
   "cell_type": "markdown",
   "metadata": {
    "slideshow": {
     "slide_type": "slide"
    }
   },
   "source": [
    "**OU**\n",
    "\n",
    "Operação entre duas variáveis booleanas. Seu resultado é verdadeiro  se pelo menos uma das duas variáveis é verdadeira, caso contrário o resultado será falso.\n",
    "\n",
    "\n",
    "a **OU** b = c\n",
    "\n",
    "\\begin{equation}\n",
    "    \\begin{array}{|c|c|c|}\n",
    "    \\hline\n",
    "     {\\bf a}&{\\bf b}&{\\bf c}\\\\\n",
    "     \\hline\n",
    "     F&F&F\\\\\n",
    "     \\hline\n",
    "     F&V&V\\\\\n",
    "     \\hline\n",
    "     V&F&V\\\\\n",
    "     \\hline\n",
    "     V&V&V\\\\\n",
    "     \\hline\n",
    "    \\end{array}\n",
    "\\end{equation}"
   ]
  },
  {
   "cell_type": "code",
   "execution_count": 13,
   "metadata": {
    "slideshow": {
     "slide_type": "slide"
    }
   },
   "outputs": [
    {
     "name": "stdout",
     "output_type": "stream",
     "text": [
      "False\n"
     ]
    }
   ],
   "source": [
    "a = True\n",
    "b = False\n",
    "c = True\n",
    "d = False\n",
    "\n",
    "e = b or d\n",
    "print(e)"
   ]
  },
  {
   "cell_type": "code",
   "execution_count": 15,
   "metadata": {
    "slideshow": {
     "slide_type": "fragment"
    }
   },
   "outputs": [
    {
     "name": "stdout",
     "output_type": "stream",
     "text": [
      "True\n"
     ]
    }
   ],
   "source": [
    "f = a or b\n",
    "print(f)"
   ]
  },
  {
   "cell_type": "code",
   "execution_count": 16,
   "metadata": {
    "slideshow": {
     "slide_type": "fragment"
    }
   },
   "outputs": [
    {
     "name": "stdout",
     "output_type": "stream",
     "text": [
      "True\n"
     ]
    }
   ],
   "source": [
    "g = a or c\n",
    "print(g)"
   ]
  },
  {
   "cell_type": "markdown",
   "metadata": {
    "slideshow": {
     "slide_type": "slide"
    }
   },
   "source": [
    "**NEGAÇÃO**\n",
    "\n",
    "Operação em uma variável booleana. Seu resultado é verdadeiro se a variável for falsa. Seu resultado é falso se a variável for verdadeira.\n",
    "\n",
    "**NEGAÇÃO** a = c\n",
    "\n",
    "\n",
    "\\begin{equation}\n",
    "    \\begin{array}{|c|c|}\n",
    "    \\hline\n",
    "     {\\bf a}&{\\bf c}\\\\\n",
    "     \\hline\n",
    "     F&V\\\\\n",
    "     \\hline\n",
    "     V&F\\\\\n",
    "     \\hline\n",
    "    \\end{array}\n",
    "\\end{equation}\n"
   ]
  },
  {
   "cell_type": "code",
   "execution_count": 17,
   "metadata": {
    "slideshow": {
     "slide_type": "slide"
    }
   },
   "outputs": [
    {
     "name": "stdout",
     "output_type": "stream",
     "text": [
      "False\n"
     ]
    }
   ],
   "source": [
    "a = True\n",
    "b = False\n",
    "\n",
    "g = not a\n",
    "print(g)"
   ]
  },
  {
   "cell_type": "code",
   "execution_count": 18,
   "metadata": {
    "slideshow": {
     "slide_type": "fragment"
    }
   },
   "outputs": [
    {
     "name": "stdout",
     "output_type": "stream",
     "text": [
      "True\n"
     ]
    }
   ],
   "source": [
    "f = not b\n",
    "print(f)"
   ]
  },
  {
   "cell_type": "markdown",
   "metadata": {
    "slideshow": {
     "slide_type": "slide"
    }
   },
   "source": [
    "### Valor booleano como resultado de uma comparação\n",
    "\n",
    "Existem seis operações de comparação:\n",
    "\n",
    "- **<**: menor que\n",
    "- **<=**: menor ou igual que\n",
    "- **>**: maior que\n",
    "- **>=**: maior ou igual que\n",
    "- **==**: igual a\n",
    "- **!=**: diferente de\n",
    "\n",
    "Estas operações atuam entre dois valores. Se a comparação for verdadeira, o resultado será um valor booleano **True**. Se a comparação for falsa, o resultado será um valor booleano **False**"
   ]
  },
  {
   "cell_type": "code",
   "execution_count": 20,
   "metadata": {
    "slideshow": {
     "slide_type": "slide"
    }
   },
   "outputs": [
    {
     "name": "stdout",
     "output_type": "stream",
     "text": [
      "True\n"
     ]
    }
   ],
   "source": [
    "a = 4.5\n",
    "b = 6\n",
    "c = -10.6\n",
    "d = 6\n",
    "f = 23.6\n",
    "\n",
    "print(a > c)"
   ]
  },
  {
   "cell_type": "code",
   "execution_count": 21,
   "metadata": {
    "slideshow": {
     "slide_type": "fragment"
    }
   },
   "outputs": [
    {
     "name": "stdout",
     "output_type": "stream",
     "text": [
      "False\n"
     ]
    }
   ],
   "source": [
    "print(a == b)"
   ]
  },
  {
   "cell_type": "code",
   "execution_count": 22,
   "metadata": {
    "slideshow": {
     "slide_type": "fragment"
    }
   },
   "outputs": [
    {
     "name": "stdout",
     "output_type": "stream",
     "text": [
      "True\n"
     ]
    }
   ],
   "source": [
    "print(b == d)"
   ]
  },
  {
   "cell_type": "code",
   "execution_count": 23,
   "metadata": {
    "slideshow": {
     "slide_type": "fragment"
    }
   },
   "outputs": [
    {
     "name": "stdout",
     "output_type": "stream",
     "text": [
      "False\n"
     ]
    }
   ],
   "source": [
    "print(b != d)"
   ]
  },
  {
   "cell_type": "code",
   "execution_count": 24,
   "metadata": {
    "slideshow": {
     "slide_type": "fragment"
    }
   },
   "outputs": [
    {
     "name": "stdout",
     "output_type": "stream",
     "text": [
      "False\n"
     ]
    }
   ],
   "source": [
    "print(f <= d)"
   ]
  },
  {
   "cell_type": "markdown",
   "metadata": {
    "slideshow": {
     "slide_type": "slide"
    }
   },
   "source": [
    "É possível também combinar com várias comparações com as operações **not**, **and** e **and**."
   ]
  },
  {
   "cell_type": "code",
   "execution_count": 25,
   "metadata": {
    "slideshow": {
     "slide_type": "slide"
    }
   },
   "outputs": [
    {
     "name": "stdout",
     "output_type": "stream",
     "text": [
      "False\n"
     ]
    }
   ],
   "source": [
    "a = 4.5\n",
    "b = 6\n",
    "c = -10.6\n",
    "d = 6\n",
    "f = 23.6\n",
    "\n",
    "print(c >= f or f==b)"
   ]
  },
  {
   "cell_type": "code",
   "execution_count": 26,
   "metadata": {
    "slideshow": {
     "slide_type": "fragment"
    }
   },
   "outputs": [
    {
     "name": "stdout",
     "output_type": "stream",
     "text": [
      "True\n"
     ]
    }
   ],
   "source": [
    "print(a < b and d > c)"
   ]
  },
  {
   "cell_type": "code",
   "execution_count": 27,
   "metadata": {
    "slideshow": {
     "slide_type": "fragment"
    }
   },
   "outputs": [
    {
     "name": "stdout",
     "output_type": "stream",
     "text": [
      "False\n"
     ]
    }
   ],
   "source": [
    "print(not c != d)"
   ]
  },
  {
   "cell_type": "markdown",
   "metadata": {
    "slideshow": {
     "slide_type": "slide"
    }
   },
   "source": [
    "### Estrutura **if**"
   ]
  },
  {
   "cell_type": "code",
   "execution_count": null,
   "metadata": {},
   "outputs": [],
   "source": []
  }
 ],
 "metadata": {
  "celltoolbar": "Slideshow",
  "kernelspec": {
   "display_name": "Python 3",
   "language": "python",
   "name": "python3"
  },
  "language_info": {
   "codemirror_mode": {
    "name": "ipython",
    "version": 3
   },
   "file_extension": ".py",
   "mimetype": "text/x-python",
   "name": "python",
   "nbconvert_exporter": "python",
   "pygments_lexer": "ipython3",
   "version": "3.6.8"
  },
  "nbTranslate": {
   "displayLangs": [
    "*"
   ],
   "hotkey": "alt-t",
   "langInMainMenu": true,
   "sourceLang": "en",
   "targetLang": "fr",
   "useGoogleTranslate": true
  }
 },
 "nbformat": 4,
 "nbformat_minor": 2
}
