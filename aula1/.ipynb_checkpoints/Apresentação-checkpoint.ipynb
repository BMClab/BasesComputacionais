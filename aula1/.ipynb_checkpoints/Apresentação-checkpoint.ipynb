{
 "cells": [
  {
   "cell_type": "markdown",
   "metadata": {
    "slideshow": {
     "slide_type": "slide"
    }
   },
   "source": [
    "# Apresentação\n",
    "\n",
    "Renato Naville Watanabe\n"
   ]
  },
  {
   "cell_type": "markdown",
   "metadata": {
    "slideshow": {
     "slide_type": "slide"
    }
   },
   "source": [
    "## Motivação\n",
    "\n",
    "- Cada vez mais os **computadores** estão presentes nas diferentes áreas da **Ciência e Tecnologia**.\n",
    "\n",
    "\n",
    "\n",
    "- A palavra **Ciência** está relacionada com a compreensão do comportamento da natureza.\n",
    "- A **Tecnologia** está relacionada com encontrar soluções práticas para problemas:\n",
    "    + especialmente criar algo que vá de encontro às necessidades humanas.\n"
   ]
  },
  {
   "cell_type": "markdown",
   "metadata": {
    "slideshow": {
     "slide_type": "slide"
    }
   },
   "source": [
    "- Ter um bom domínio sobre os computadores é uma competência importante para qualquer tipo de profissional.\n",
    "\n",
    "- Auxilia a resolver vários problemas durante a vida acadêmica e profissional."
   ]
  },
  {
   "cell_type": "markdown",
   "metadata": {
    "slideshow": {
     "slide_type": "slide"
    }
   },
   "source": [
    "## A computação está em todos os lugares\n",
    "\n",
    "- Cada vez mais, diversas áreas do conhecimento utilizam-se dos conceitos de Computação.\n",
    "\n",
    "- Atualmente é impensável fazer qualquer tipo de pesquisa científica sem o uso da Computação:\n",
    "    + Presença de instrumentos compuadorizados coletando dados a todo instante e em todo lugar.\n",
    "    + Geração de dados científicos em volumes que não podem mais ser entendidos apenas com cálculos simples.\n",
    "    + Fenômenos Big Data e Internet das Coisas (IoT)."
   ]
  },
  {
   "cell_type": "markdown",
   "metadata": {
    "slideshow": {
     "slide_type": "slide"
    }
   },
   "source": [
    "### Exemplos\n",
    "\n",
    "Em um acelerador de partículas são produzidos em torno de 30 petabytes (=10$^6$ GB) por ano.\n",
    "\n",
    "Para compreender estes dados, são necessários recursos e conhecimentos computacionais.\n",
    "\n",
    "\n",
    "<table><tr>\n",
    "<td>    <img src=\"https://www.extremetech.com/wp-content/uploads/2019/01/CERN-LHC-e1547737523306-640x360.jpg\" width=\"300\" /></td>\n",
    "<td>    <img src=\"http://mediaarchive.cern.ch/MediaArchive/Photo/Public/2012/1207154/1207154_04/1207154_04-A5-at-72-dpi.jpg\" width=\"300\" /></td>\n",
    "</tr></table>\n"
   ]
  },
  {
   "cell_type": "markdown",
   "metadata": {
    "slideshow": {
     "slide_type": "slide"
    }
   },
   "source": [
    "### Exemplos\n",
    "\n",
    "O objetivo deste projeto é Desenvolver robôs Humanóides sociáveis.\n",
    "\n",
    "Novos domínios de aplicação podem ser desenvolvidos  (doméstico, entretenimento, saúde, etc) com robôs fazendo parte atuante do dia-a-dia \n",
    "\n",
    "Projeto MIT:\n",
    "http://www.ai.mit.edu/projects/sociable/\n",
    "\n",
    "Hanson Robotics:\n",
    "http://www.hansonrobotics.com/\n",
    "\n",
    "\n",
    "<img src=\"http://www.ai.mit.edu/projects/sociable/images/KismetNBC.jpg\" width=\"300\" />"
   ]
  },
  {
   "cell_type": "markdown",
   "metadata": {
    "slideshow": {
     "slide_type": "slide"
    }
   },
   "source": [
    "### Exemplos\n",
    "\n",
    "[Análise clínica da marcha](http://demotu.org/servicos/rba/).\n",
    "\n",
    "<img src=\"http://demotu.org/wp-content/uploads/2019/01/animation.gif\" width=\"300\" /></td>\n"
   ]
  },
  {
   "cell_type": "markdown",
   "metadata": {
    "slideshow": {
     "slide_type": "slide"
    }
   },
   "source": [
    "### Exemplos\n",
    "\n",
    "Na indústria projetos de máquinas, processos e produtos são inicialmente desenvolvidos em ambientes controlados de simulação.\n",
    "\n",
    "<img src=\"https://i.ytimg.com/vi/a7LzGsemQ4E/maxresdefault.jpg\" width=\"300\" />\n"
   ]
  },
  {
   "cell_type": "markdown",
   "metadata": {
    "slideshow": {
     "slide_type": "slide"
    }
   },
   "source": [
    "### Exemplos\n",
    "\n",
    "Sequenciar o DNA consiste em determinar a ordem dos quatro blocos químicos - chamados \"bases\"  que compõem a molécula de DNA (“A”, “C”, “G”, “T”).\n",
    "Descobir causas de doenças, entender redes de regulação.\n",
    "\n",
    "<img src=\"https://www.genome.gov/sites/default/files/inline-images/dna_sequencing.jpg\" width=\"300\" />"
   ]
  },
  {
   "cell_type": "markdown",
   "metadata": {
    "slideshow": {
     "slide_type": "slide"
    }
   },
   "source": [
    "### Exemplos\n",
    "\n",
    "-Métodos computacionais são usados para fazer transações financeiras;\n",
    "\n",
    "-Dados de diversas fontes são usados para fazer análises de risco;\n",
    "\n",
    "-Inteligência computacional é usada para decidir quando comprar ou vender ações;\n",
    "\n",
    "-Cripto-Moedas. \n",
    "\n",
    "<table><tr>\n",
    "<td>    <img src=\"https://www.gtreview.com/wp-content/uploads/2014/11/Financial-diagrams-graphs-data-trading.jpg\" width=\"300\" /></td>\n",
    "<td>    <img src=\"https://www.coindesk.com/wp-content/uploads/2018/11/Bitcoins.jpg\" width=\"300\" /></td>\n",
    "</tr></table>"
   ]
  },
  {
   "cell_type": "markdown",
   "metadata": {
    "slideshow": {
     "slide_type": "slide"
    }
   },
   "source": [
    "### Exemplos\n",
    "\n",
    "-Simulações computacionais de neurônios para estudar o controle do movimento.\n",
    "\n",
    "[ReMoto](http://remoto.leb.usp.br/remoto/index.html)\n"
   ]
  },
  {
   "cell_type": "markdown",
   "metadata": {
    "slideshow": {
     "slide_type": "slide"
    }
   },
   "source": [
    "### Quem paga e quem realiza atividade de ciência e tecnologia no mundo.\n",
    "\n",
    "![pedpart](imagens/pedpart.png)\n",
    "[Fonte:relatório da ciência da Unesco](https://unesdoc.unesco.org/ark:/48223/pf0000235407_por)"
   ]
  },
  {
   "cell_type": "markdown",
   "metadata": {
    "slideshow": {
     "slide_type": "slide"
    }
   },
   "source": [
    "## Objetivos\n",
    "\n",
    "A disciplina *Bases Computacionais da Ciência* lança as bases para uma formação computacional.\n",
    "\n",
    "- Apresenta como a computação pode ser usada como apoio para o tratamento de conteudos presentes em todas as profissões:\n",
    "    + Funções, gráficos, estatística, programação\n",
    "    \n",
    "- Sugere formas de emprego da Computação para produção de conhecimento cientifíco e tecnológico."
   ]
  },
  {
   "cell_type": "markdown",
   "metadata": {
    "slideshow": {
     "slide_type": "slide"
    }
   },
   "source": [
    "## Programa da disciplina\n",
    "\n",
    "- **Fundamentos de Computação** \n",
    "- **Representação e análise de dados**\n",
    "    + Representação gráfica de funções\n",
    "    + Noções de Estatística\n",
    "    + Correlação e regressão\n",
    "    + Bases de dados\n",
    "- **Algoritmos**\n",
    "    + Variáveis e estruturas sequenciais\n",
    "    + Estruturas condicionais\n",
    "    + Estrutura de repetição\n",
    "    + Funções\n",
    "- **Modelagem e simulação computacional**"
   ]
  },
  {
   "cell_type": "markdown",
   "metadata": {
    "slideshow": {
     "slide_type": "slide"
    }
   },
   "source": [
    "## O computador\n",
    "\n",
    "Um sistema de computação é **uma coleção de componentes** que realizam operações lógicas e aritméticas (transformação) **sobre um conjunto de dados** (entrada) e fornecem uma saída (os dados transformados).\n",
    "\n",
    "Um computador é uma máquina capaz de executar automaticamente alguma transformação no conjunto de dados de entrada\n",
    "\n"
   ]
  },
  {
   "cell_type": "markdown",
   "metadata": {
    "slideshow": {
     "slide_type": "slide"
    }
   },
   "source": [
    "Um **programa** é uma **sequência de ordens** (comandos, instruções) dadas a um computador que, a partir de **dados inseridos**, obtem um **resultado** que será disponibilizado por algum dispositivo de saída.\n",
    "\n",
    "![calc](imagens/calc.png)"
   ]
  },
  {
   "cell_type": "markdown",
   "metadata": {
    "slideshow": {
     "slide_type": "slide"
    }
   },
   "source": [
    "## Turing\n",
    "\n",
    "- A idéia de um dispositivo de computação universal foi descrita, pela primeira vez, por Alan Turing, em 1937.\n",
    "\n",
    "- Turing propôs que toda a computação poderia ser realizada por um tipo especial de máquina, denominada Máquina de Turing\n",
    "<table><tr>\n",
    "<td>    <img src=\"https://www.biography.com/.image/ar_1:1%2Cc_fill%2Ccs_srgb%2Cg_face%2Cq_auto:good%2Cw_300/MTE5NDg0MDU1MTUzMTE2Njg3/alan-turing-9512017-1-402.jpg\" width=\"200\" /></td>\n",
    "<td>    <img src=\"imagens/turingMachine.png\" width=\"500\" /></td>\n",
    "</tr></table>\n"
   ]
  },
  {
   "cell_type": "markdown",
   "metadata": {
    "slideshow": {
     "slide_type": "slide"
    }
   },
   "source": [
    "## Bibliografia\n",
    "\n",
    "- [Marietto, MGB et al.; **Bases computacionais da Ciência** (2013)](http://prograd.ufabc.edu.br/images/pdf/bases_computacionais_livro.pdf)"
   ]
  },
  {
   "cell_type": "markdown",
   "metadata": {
    "slideshow": {
     "slide_type": "slide"
    }
   },
   "source": [
    "## Github\n",
    "\n",
    "![github](imagens/githubScreen.png)\n",
    "\n",
    "Este quadrinho do [xkcd](https://xkcd.com/1597/) faz uma brincadeira com o Github.\n",
    "![githubXkcd](https://imgs.xkcd.com/comics/git.png)\n"
   ]
  },
  {
   "cell_type": "markdown",
   "metadata": {
    "slideshow": {
     "slide_type": "slide"
    }
   },
   "source": [
    "## Avaliação\n",
    "\n",
    "- $M$ = Média de tarefas individuais e e perguntas sobre os textos indicados (durante a aula e extraclasse).\n"
   ]
  },
  {
   "cell_type": "markdown",
   "metadata": {
    "slideshow": {
     "slide_type": "slide"
    }
   },
   "source": [
    "## Conceitos\n",
    "\n",
    "- A: 8,5 $\\leqslant M \\leqslant$ 10\n",
    "- B: 7,0 $\\leqslant M <$ 8,5\n",
    "- C: 6,0 $\\leqslant M <$ 7,0\n",
    "- D: 5,0 $\\leqslant M <$ 6,0\n",
    "- F: $M <$ 5,0\n",
    "- O: frequência menor do que 75 %"
   ]
  },
  {
   "cell_type": "markdown",
   "metadata": {
    "slideshow": {
     "slide_type": "slide"
    }
   },
   "source": [
    "## Para a próxima aula\n",
    "\n",
    "Ler as seções 1.1, 1.2 e 1.3 do livro [Marietto, MGB et al.; **Bases computacionais da Ciência** (2013)](http://prograd.ufabc.edu.br/images/pdf/bases_computacionais_livro.pdf)."
   ]
  },
  {
   "cell_type": "markdown",
   "metadata": {
    "slideshow": {
     "slide_type": "slide"
    }
   },
   "source": [
    "## Tarefa 1 (para agora).\n",
    "\n",
    "- Abrir uma conta no [Github](https://www.github.com).\n",
    "- Abrir um novo repositório privado.\n",
    "- Compartilhar o repositório com o usuário [rnwatanabe](https://www.github.com/rnwatanabe). Este repositório será utilizado para entregar as demais tarefas."
   ]
  },
  {
   "cell_type": "code",
   "execution_count": null,
   "metadata": {},
   "outputs": [],
   "source": []
  }
 ],
 "metadata": {
  "celltoolbar": "Slideshow",
  "kernelspec": {
   "display_name": "Python 3",
   "language": "python",
   "name": "python3"
  },
  "language_info": {
   "codemirror_mode": {
    "name": "ipython",
    "version": 3
   },
   "file_extension": ".py",
   "mimetype": "text/x-python",
   "name": "python",
   "nbconvert_exporter": "python",
   "pygments_lexer": "ipython3",
   "version": "3.6.8"
  },
  "latex_envs": {
   "LaTeX_envs_menu_present": true,
   "autoclose": false,
   "autocomplete": true,
   "bibliofile": "biblio.bib",
   "cite_by": "apalike",
   "current_citInitial": 1,
   "eqLabelWithNumbers": true,
   "eqNumInitial": 1,
   "hotkeys": {
    "equation": "Ctrl-E",
    "itemize": "Ctrl-I"
   },
   "labels_anchors": false,
   "latex_user_defs": false,
   "report_style_numbering": false,
   "user_envs_cfg": false
  },
  "nbTranslate": {
   "displayLangs": [
    "*"
   ],
   "hotkey": "alt-t",
   "langInMainMenu": true,
   "sourceLang": "en",
   "targetLang": "pt",
   "useGoogleTranslate": true
  }
 },
 "nbformat": 4,
 "nbformat_minor": 2
}
