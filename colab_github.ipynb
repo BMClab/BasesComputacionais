{
  "nbformat": 4,
  "nbformat_minor": 0,
  "metadata": {
    "colab": {
      "provenance": [],
      "authorship_tag": "ABX9TyOASvfX1T97CINVuuUNKJtc",
      "include_colab_link": true
    },
    "kernelspec": {
      "name": "python3",
      "display_name": "Python 3"
    },
    "language_info": {
      "name": "python"
    }
  },
  "cells": [
    {
      "cell_type": "markdown",
      "metadata": {
        "id": "view-in-github",
        "colab_type": "text"
      },
      "source": [
        "<a href=\"https://colab.research.google.com/github/BMClab/BasesComputacionais/blob/master/colab_github.ipynb\" target=\"_parent\"><img src=\"https://colab.research.google.com/assets/colab-badge.svg\" alt=\"Open In Colab\"/></a>"
      ]
    },
    {
      "cell_type": "markdown",
      "source": [
        "testando a integração Colab e Github ..."
      ],
      "metadata": {
        "id": "7ItQMFjKrW48"
      }
    },
    {
      "cell_type": "markdown",
      "source": [
        "testando modificando no colab um notebook existente do github..."
      ],
      "metadata": {
        "id": "AsakPqu7sV1E"
      }
    },
    {
      "cell_type": "code",
      "source": [],
      "metadata": {
        "id": "XLzMdtwPuWVZ"
      },
      "execution_count": null,
      "outputs": []
    },
    {
      "cell_type": "markdown",
      "source": [
        "a integração funciona e é simples."
      ],
      "metadata": {
        "id": "upqsOHnws8ub"
      }
    },
    {
      "cell_type": "markdown",
      "source": [
        "Só é necessário ir em configurações do Colab e na aba GitHub, associar sua conta no GitHub à conta no Google Colab.\n",
        "\n",
        "Para coisas simples (como editar um notebook que está no github e salvar lá, como estou fazendo agora), não é necessário instalar o Git na sua máquina virtual no Colab, a menos que você queira executar comandos Git a partir do Colab.\n",
        "\n",
        "Se quiser instalar o Git ou ter maior controle/integração, veja:\n",
        "https://www.youtube.com/watch?v=eLhy3_d2UPo\n",
        "e\n",
        "https://medium.com/analytics-vidhya/how-to-use-google-colab-with-github-via-google-drive-68efb23a42d"
      ],
      "metadata": {
        "id": "sq04a4RyuIPD"
      }
    }
  ]
}