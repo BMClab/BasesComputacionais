{
  "nbformat": 4,
  "nbformat_minor": 0,
  "metadata": {
    "colab": {
      "provenance": [],
      "authorship_tag": "ABX9TyNSe7NlDzzP1JwJOzrC9OMZ",
      "include_colab_link": true
    },
    "kernelspec": {
      "name": "python3",
      "display_name": "Python 3"
    },
    "language_info": {
      "name": "python"
    }
  },
  "cells": [
    {
      "cell_type": "markdown",
      "metadata": {
        "id": "view-in-github",
        "colab_type": "text"
      },
      "source": [
        "<a href=\"https://colab.research.google.com/github/BMClab/BasesComputacionais/blob/master/colab_github.ipynb\" target=\"_parent\"><img src=\"https://colab.research.google.com/assets/colab-badge.svg\" alt=\"Open In Colab\"/></a>"
      ]
    },
    {
      "cell_type": "markdown",
      "source": [
        "1. testando a integração Colab e Github ..."
      ],
      "metadata": {
        "id": "7ItQMFjKrW48"
      }
    },
    {
      "cell_type": "markdown",
      "source": [
        "2. testando modificando no colab um notebook existente do github..."
      ],
      "metadata": {
        "id": "AsakPqu7sV1E"
      }
    },
    {
      "cell_type": "code",
      "source": [],
      "metadata": {
        "id": "S5KYyKa4siE-"
      },
      "execution_count": null,
      "outputs": []
    }
  ]
}