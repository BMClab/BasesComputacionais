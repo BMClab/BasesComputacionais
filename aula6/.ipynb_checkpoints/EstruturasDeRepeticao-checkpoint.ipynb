{
 "cells": [
  {
   "cell_type": "markdown",
   "metadata": {
    "slideshow": {
     "slide_type": "slide"
    }
   },
   "source": [
    "# Estruturas de repetição\n",
    "\n",
    "Renato Naville Watananbe"
   ]
  },
  {
   "cell_type": "markdown",
   "metadata": {
    "slideshow": {
     "slide_type": "slide"
    }
   },
   "source": [
    "### Laços\n",
    "\n",
    "Usado em situações em que é necessário repetir um determinado trecho de um programa várias vezes.\n",
    "\n",
    "Um exemplo bem simples: suponha que queiramos que uma variável $j$, que inicialmente tem o valor igual a 1, tenha o seu valor somado de 1 cinco vezes seguidas. O resultado de cada soma deve ser guardado na própria variável e ser mostrado na tela. Uma solução possível seria:"
   ]
  },
  {
   "cell_type": "code",
   "execution_count": 7,
   "metadata": {
    "slideshow": {
     "slide_type": "fragment"
    }
   },
   "outputs": [
    {
     "name": "stdout",
     "output_type": "stream",
     "text": [
      "1\n",
      "2\n",
      "3\n",
      "4\n",
      "5\n"
     ]
    }
   ],
   "source": [
    "i = 1\n",
    "print(i)\n",
    "i = i + 1\n",
    "print(i)\n",
    "i = i + 1\n",
    "print(i)\n",
    "i = i + 1\n",
    "print(i)\n",
    "i = i + 1\n",
    "print(i)"
   ]
  },
  {
   "cell_type": "markdown",
   "metadata": {
    "slideshow": {
     "slide_type": "slide"
    }
   },
   "source": [
    "### Laços\n",
    "\n",
    "De forma alternativa, podemos fazer isso com uma estrutura de repetição.\n",
    "\n",
    "Veremos duas formas de fazer repetições:\n",
    "\n",
    "- **while**: executa uma sequência de instruções *enquanto* uma condição (operação booleana) for verdadeira.\n",
    "\n",
    "- **for**: executa uma sequência de instruções *para* um número pré-determinado de valores."
   ]
  },
  {
   "cell_type": "markdown",
   "metadata": {
    "slideshow": {
     "slide_type": "slide"
    }
   },
   "source": [
    "### While\n",
    "\n",
    "while CONDIÇÃO_BOOLEANA:     \n",
    "    &nbsp;&nbsp;&nbsp;&nbsp;&nbsp;&nbsp;&nbsp;&nbsp;&nbsp;&nbsp;&nbsp;&nbsp;INSTRUÇÕES_QUE_SE_REPETIRÃO\n",
    "\n",
    "INSTRUÇÕES_EXECUTADAS_APENAS_UMA_VEZ\n",
    "\n",
    "Por exemplo:"
   ]
  },
  {
   "cell_type": "code",
   "execution_count": 17,
   "metadata": {
    "slideshow": {
     "slide_type": "fragment"
    }
   },
   "outputs": [
    {
     "name": "stdout",
     "output_type": "stream",
     "text": [
      "i = 1\n",
      "i = 2\n",
      "i = 3\n",
      "i = 4\n",
      "i = 5\n"
     ]
    }
   ],
   "source": [
    "i = 1\n",
    "while i <= 5:\n",
    "    print('i =', i)\n",
    "    i = i + 1"
   ]
  },
  {
   "cell_type": "markdown",
   "metadata": {
    "slideshow": {
     "slide_type": "fragment"
    }
   },
   "source": [
    "Repare em como a variável i muda de valor. Quando uma variável é utilizada desta forma, ela é conhecida como um **contador**."
   ]
  },
  {
   "cell_type": "markdown",
   "metadata": {
    "slideshow": {
     "slide_type": "slide"
    }
   },
   "source": [
    "### For\n",
    "\n",
    "A estrutura do comando for é:\n",
    "\n",
    "for VARIÁVEL in VETOR_COM_TODOS_OS_VALORES_QUE_VARIÁVEL_IRA_ASSUMIR:     \n",
    "    &nbsp;&nbsp;&nbsp;&nbsp;&nbsp;&nbsp;&nbsp;&nbsp;&nbsp;&nbsp;&nbsp;&nbsp;INSTRUÇÕES_QUE_SE_REPETIRÃO_PARA_CADA_VALOR_DA_VARIÁVEL \n",
    "\n",
    "INSTRUÇÕES_EXECUTADAS_APENAS_UMA_VEZ\n",
    "\n",
    "Por exemplo, o laço **for** a seguir irá imprimir o valor da variável **i** para cada valor que ela assumir."
   ]
  },
  {
   "cell_type": "code",
   "execution_count": 13,
   "metadata": {
    "slideshow": {
     "slide_type": "fragment"
    }
   },
   "outputs": [
    {
     "name": "stdout",
     "output_type": "stream",
     "text": [
      "i = 1\n",
      "i = 2\n",
      "i = 3\n",
      "i = 4\n",
      "i = 5\n"
     ]
    }
   ],
   "source": [
    "import numpy as np\n",
    "\n",
    "for i in np.array([1,2,3,4,5]):\n",
    "    print('i =', i)"
   ]
  },
  {
   "cell_type": "markdown",
   "metadata": {
    "slideshow": {
     "slide_type": "fragment"
    }
   },
   "source": [
    "O vetor também pode ser construído com o comando np.arange ou np.linspace. Por exemplo:"
   ]
  },
  {
   "cell_type": "code",
   "execution_count": 14,
   "metadata": {
    "slideshow": {
     "slide_type": "fragment"
    }
   },
   "outputs": [
    {
     "name": "stdout",
     "output_type": "stream",
     "text": [
      "i = 0\n",
      "i = 1\n",
      "i = 2\n",
      "i = 3\n",
      "i = 4\n",
      "i = 5\n"
     ]
    }
   ],
   "source": [
    "for i in np.arange(0,6,1):\n",
    "    print('i =', i)"
   ]
  },
  {
   "cell_type": "markdown",
   "metadata": {
    "slideshow": {
     "slide_type": "slide"
    }
   },
   "source": [
    "Um outro comando para a construção da lista de números que a variável irá adotar é o comando **range**. Esse comando funciona apenas dentro do **for**, e é a maneira mais comum para produzir essa lista de números. Por exemplo:"
   ]
  },
  {
   "cell_type": "code",
   "execution_count": 12,
   "metadata": {
    "slideshow": {
     "slide_type": "fragment"
    }
   },
   "outputs": [
    {
     "name": "stdout",
     "output_type": "stream",
     "text": [
      "i = 0\n",
      "i = 1\n",
      "i = 2\n",
      "i = 3\n",
      "i = 4\n",
      "i = 5\n"
     ]
    }
   ],
   "source": [
    "for i in range(0,6,1):\n",
    "    print('i =', i)"
   ]
  },
  {
   "cell_type": "markdown",
   "metadata": {
    "slideshow": {
     "slide_type": "slide"
    }
   },
   "source": [
    "### Somatória\n",
    "\n",
    "\n",
    "Se quisermos,por exemplo, fazer a seguinte somatória:\n",
    "\n",
    "\n",
    "$$ S = 1 + \\frac{1}{2} + \\frac{1}{4} + \\frac{1}{8} + ... $$"
   ]
  },
  {
   "cell_type": "markdown",
   "metadata": {
    "slideshow": {
     "slide_type": "fragment"
    }
   },
   "source": [
    "Pode-se notar que podemos escrever a somatória acima como:\n",
    "\n",
    "$$S = \\displaystyle\\sum_{i=0}^N \\frac{1}{2^i}$$\n",
    "\n",
    "Isso pode ser feito com um loop **for**. Considerando $N = 30$:"
   ]
  },
  {
   "cell_type": "code",
   "execution_count": 22,
   "metadata": {
    "slideshow": {
     "slide_type": "fragment"
    }
   },
   "outputs": [
    {
     "name": "stdout",
     "output_type": "stream",
     "text": [
      "S =  1.9999999990686774\n"
     ]
    }
   ],
   "source": [
    "N = 30\n",
    "S = 0\n",
    "for i in range(0, N+1, 1):\n",
    "    S = S + 1/2**i\n",
    "print('S = ',S)"
   ]
  },
  {
   "cell_type": "markdown",
   "metadata": {
    "slideshow": {
     "slide_type": "slide"
    }
   },
   "source": [
    "### Varrendo um vetor do Numpy\n",
    "\n"
   ]
  },
  {
   "cell_type": "markdown",
   "metadata": {
    "slideshow": {
     "slide_type": "slide"
    }
   },
   "source": [
    "### Gravando valores em um vetor do Numpy\n",
    "\n",
    "Suponhamos agora que queremos gravar vários elementos em um vetor"
   ]
  },
  {
   "cell_type": "code",
   "execution_count": 32,
   "metadata": {
    "slideshow": {
     "slide_type": "fragment"
    }
   },
   "outputs": [
    {
     "data": {
      "image/png": "[encoded data removed]",
      "text/plain": [
       "<Figure size 432x288 with 1 Axes>"
      ]
     },
     "metadata": {
      "needs_background": "light"
     },
     "output_type": "display_data"
    }
   ],
   "source": [
    "import numpy as np\n",
    "import matplotlib.pyplot as plt\n",
    "\n",
    "dt = 0.01\n",
    "t = np.arange(0, 4, dt)\n",
    "y = np.zeros_like(t)\n",
    "\n",
    "x1 = 10\n",
    "x2 = 0\n",
    "for i in range(0, len(t), 1):\n",
    "    x1 = x1 + dt*(-9.81/2)\n",
    "    x2 = x2 + dt*x1\n",
    "    \n",
    "    y[i] = x2 \n",
    "\n",
    "plt.figure()\n",
    "plt.plot(t, y)\n",
    "plt.show()\n",
    "    "
   ]
  },
  {
   "cell_type": "markdown",
   "metadata": {
    "slideshow": {
     "slide_type": "slide"
    }
   },
   "source": [
    "### Varrendo um DataFrame do Pandas"
   ]
  },
  {
   "cell_type": "markdown",
   "metadata": {
    "slideshow": {
     "slide_type": "slide"
    }
   },
   "source": [
    "### Gravando valores em um DataFrame do Pandas\n"
   ]
  },
  {
   "cell_type": "code",
   "execution_count": 22,
   "metadata": {
    "slideshow": {
     "slide_type": "fragment"
    }
   },
   "outputs": [],
   "source": [
    "import pandas as pd\n",
    "import numpy as np\n",
    "\n",
    "compras = pd.read_csv('dados/compras.csv')\n",
    "\n",
    "itens = ['Janeiro', 'Fevereiro', 'Março', 'Abril', 'Maio', 'Junho', \n",
    "         'Julho', 'Agosto', 'Setembro','Outubro', 'Novembro', 'Dezembro']\n",
    "\n",
    "colunas = ['Quantidade']\n",
    "data = pd.DataFrame(0, index=itens, columns=colunas)"
   ]
  },
  {
   "cell_type": "code",
   "execution_count": 23,
   "metadata": {
    "slideshow": {
     "slide_type": "fragment"
    }
   },
   "outputs": [
    {
     "data": {
      "text/html": [
       "<div>\n",
       "<style scoped>\n",
       "    .dataframe tbody tr th:only-of-type {\n",
       "        vertical-align: middle;\n",
       "    }\n",
       "\n",
       "    .dataframe tbody tr th {\n",
       "        vertical-align: top;\n",
       "    }\n",
       "\n",
       "    .dataframe thead th {\n",
       "        text-align: right;\n",
       "    }\n",
       "</style>\n",
       "<table border=\"1\" class=\"dataframe\">\n",
       "  <thead>\n",
       "    <tr style=\"text-align: right;\">\n",
       "      <th></th>\n",
       "      <th>Quantidade</th>\n",
       "    </tr>\n",
       "  </thead>\n",
       "  <tbody>\n",
       "    <tr>\n",
       "      <th>Janeiro</th>\n",
       "      <td>0</td>\n",
       "    </tr>\n",
       "    <tr>\n",
       "      <th>Fevereiro</th>\n",
       "      <td>0</td>\n",
       "    </tr>\n",
       "    <tr>\n",
       "      <th>Março</th>\n",
       "      <td>0</td>\n",
       "    </tr>\n",
       "    <tr>\n",
       "      <th>Abril</th>\n",
       "      <td>0</td>\n",
       "    </tr>\n",
       "    <tr>\n",
       "      <th>Maio</th>\n",
       "      <td>15</td>\n",
       "    </tr>\n",
       "    <tr>\n",
       "      <th>Junho</th>\n",
       "      <td>18</td>\n",
       "    </tr>\n",
       "    <tr>\n",
       "      <th>Julho</th>\n",
       "      <td>1</td>\n",
       "    </tr>\n",
       "    <tr>\n",
       "      <th>Agosto</th>\n",
       "      <td>0</td>\n",
       "    </tr>\n",
       "    <tr>\n",
       "      <th>Setembro</th>\n",
       "      <td>0</td>\n",
       "    </tr>\n",
       "    <tr>\n",
       "      <th>Outubro</th>\n",
       "      <td>0</td>\n",
       "    </tr>\n",
       "    <tr>\n",
       "      <th>Novembro</th>\n",
       "      <td>0</td>\n",
       "    </tr>\n",
       "    <tr>\n",
       "      <th>Dezembro</th>\n",
       "      <td>0</td>\n",
       "    </tr>\n",
       "  </tbody>\n",
       "</table>\n",
       "</div>"
      ],
      "text/plain": [
       "           Quantidade\n",
       "Janeiro             0\n",
       "Fevereiro           0\n",
       "Março               0\n",
       "Abril               0\n",
       "Maio               15\n",
       "Junho              18\n",
       "Julho               1\n",
       "Agosto              0\n",
       "Setembro            0\n",
       "Outubro             0\n",
       "Novembro            0\n",
       "Dezembro            0"
      ]
     },
     "execution_count": 23,
     "metadata": {},
     "output_type": "execute_result"
    }
   ],
   "source": [
    "compras['Data'] = pd.to_datetime(compras['Data'], format='%d/%m/%Y')\n",
    "\n",
    "for i in range(0, len(compras), 1):\n",
    "    if compras.iloc[i]['Data'].month == 1:\n",
    "        data.loc['Janeiro', 'Quantidade'] = (data.loc['Janeiro','Quantidade'] \n",
    "                                                   + compras.loc[i, 'Qtd'])\n",
    "    if compras.iloc[i]['Data'].month == 2:\n",
    "        data.loc['Fevereiro','Quantidade'] = (data.loc['Fevereiro', 'Quantidade'] + compras.loc[i, 'Qtd'])\n",
    "    \n",
    "    if compras.iloc[i]['Data'].month == 3:\n",
    "        data.loc['Março','Quantidade'] = (data.loc['Março', 'Quantidade'] + compras.loc[i, 'Qtd'])\n",
    "    \n",
    "    if compras.iloc[i]['Data'].month == 4:\n",
    "        data.loc['Abril','Quantidade'] = (data.loc['Abril', 'Quantidade'] + compras.loc[i, 'Qtd'])\n",
    "        \n",
    "    if compras.iloc[i]['Data'].month == 5:\n",
    "        data.loc['Maio','Quantidade'] = (data.loc['Maio', 'Quantidade'] + compras.loc[i, 'Qtd'])\n",
    "    \n",
    "    if compras.iloc[i]['Data'].month == 6:\n",
    "        data.loc['Junho','Quantidade'] = (data.loc['Junho', 'Quantidade'] + compras.loc[i, 'Qtd'])\n",
    "    \n",
    "    if compras.iloc[i]['Data'].month == 7:\n",
    "        data.loc['Julho','Quantidade'] = (data.loc['Julho', 'Quantidade'] + compras.loc[i, 'Qtd'])\n",
    "        \n",
    "    if compras.iloc[i]['Data'].month == 8:\n",
    "        data.loc['Agosto','Quantidade'] = (data.loc['Agosto', 'Quantidade'] + compras.loc[i, 'Qtd'])\n",
    "        \n",
    "    if compras.iloc[i]['Data'].month == 9:\n",
    "        data.loc['Setembro','Quantidade'] = (data.loc['Setembro', 'Quantidade'] + compras.loc[i, 'Qtd'])\n",
    "    \n",
    "    if compras.iloc[i]['Data'].month == 10:\n",
    "        data.loc['Outubro','Quantidade'] = (data.loc['Outubro', 'Quantidade'] + compras.loc[i, 'Qtd'])\n",
    "    \n",
    "    if compras.iloc[i]['Data'].month == 11:\n",
    "        data.loc['Novembro','Quantidade'] = (data.loc['Novembro', 'Quantidade'] + compras.loc[i, 'Qtd'])\n",
    "        \n",
    "    if compras.iloc[i]['Data'].month == 12:\n",
    "        data.loc['Dezembro','Quantidade'] = (data.loc['Dezembro', 'Quantidade'] + compras.loc[i, 'Qtd'])\n",
    "data"
   ]
  },
  {
   "cell_type": "markdown",
   "metadata": {
    "slideshow": {
     "slide_type": "slide"
    }
   },
   "source": [
    "### Tarefa (para agora)\n",
    "\n",
    "- Escrever um script de Python e executá-lo no Spyder para fazer o que pedido a seguir.\n",
    "\n",
    "- O script deve estar com comentários explicando as funções do script.\n",
    "\n",
    "- Todos os resultados devem ser mostrados no Console ao executar o script.\n",
    "\n",
    "- Coloque no seu repositório do Github o arquivo '.py' contendo o script feito por você com o nome \"Tarefa11SeuNome.py\".\n",
    "\n",
    "\n",
    "- **1)** "
   ]
  },
  {
   "cell_type": "markdown",
   "metadata": {
    "slideshow": {
     "slide_type": "slide"
    }
   },
   "source": [
    "### Tarefa (para antes da próxima aula)\n",
    "\n",
    "- Escrever um script de Python e executá-lo no Spyder para fazer o que é pedido a seguir.\n",
    "\n",
    "- O script deve estar com comentários explicando as funções do script.\n",
    "\n",
    "- Todos os resultados devem ser mostrados no Console e todos os gráficos devem ser mostrados na tela ao executar o script.\n",
    "\n",
    "- Não se esqueça de indicar o significado de cada eixo, colocando a unidade da abscissa e da ordenada nos gráficos.\n",
    "\n",
    "- Coloque no seu repositório do Github o arquivo '.py' contendo o script feito por você com o nome \"Tarefa12SeuNome.py\"."
   ]
  },
  {
   "cell_type": "markdown",
   "metadata": {
    "slideshow": {
     "slide_type": "slide"
    }
   },
   "source": [
    "**1)** Faça a aproximação de $\\pi$ usando a fórmula de Leibniz:\n",
    "\n",
    "$$\\pi \\approx 4 - \\frac{4}{3} + \\frac{4}{5} - \\frac{4}{7} + \\frac{4}{9}+...$$\n",
    "\n",
    "Calcule (e mostre na tela) a aproximação de $\\pi$ considerando a) 50 termos, b) 500 termos, c) 1000 termos e d) 10000 termos. Note que o sinal do termo muda a cada termo.\n"
   ]
  },
  {
   "cell_type": "markdown",
   "metadata": {
    "slideshow": {
     "slide_type": "slide"
    }
   },
   "source": [
    "**2)** Para este item você deverá usar o arquivo com a [taxa de inflação mensal (IGP-DI) no Brasil de fevereiro de 1944 a junho de 2019](dados/inflacaoMensal.csv) (dados disponibilizados por Ipeadata). \n",
    "\n",
    "- Faça um gráfico com a taxa de inflação anual em função dos anos, de 1945 a 2018.\n",
    "\n",
    "Sugestões: Crie um outro DataFrame com um campo com a inflação anual e um outro campo  com o ano.\n",
    "\n",
    "Lembre-se de que o dado da inflação mensal é o aumento de preço em relação ao mês anterior.\n",
    "\n",
    "Portanto, o índice de inflação anual, dado os índices de inflação mensais em %, é:\n",
    "\n",
    "$$\\text{Inf} = \\left[\\left(1+\\frac{\\text{Inf}_1}{100}\\right).\\left(1+\\frac{\\text{Inf}_2}{100}\\right)...\\left(1+\\frac{\\text{Inf}_{12}}{100}\\right) - 1\\right].100$$"
   ]
  },
  {
   "cell_type": "markdown",
   "metadata": {
    "slideshow": {
     "slide_type": "slide"
    }
   },
   "source": [
    "**3)** Calcular a aproximação de uma onda quadrada seguindo a seguinte expressão (a expressão abaixo é calculada utilizando uma teoria matemática conhecida como série de Fourier):\n",
    "\n",
    "$$x(t)  \\approx \\frac{4}{\\pi}\\displaystyle \\sum_{i = 1}^N \\frac{\\sin\\left[(2i - 1)t\\right]}{2i - 1}$$\n",
    "\n",
    "Faça a aproximação para $0 \\leqslant t \\leqslant 10$ (utilize um número suficiente de pontos para poder observar o gráfico de $x(t)$).\n",
    "\n",
    "Faça a aproximação para a) N = 10, b) N = 100, c) N = 1000 e d) N = 10000. Coloque todas as aproximações em um único gráfico, com a a aproximação de $x(t)$ em função de $t$.\n",
    "\n"
   ]
  },
  {
   "cell_type": "markdown",
   "metadata": {
    "slideshow": {
     "slide_type": "slide"
    }
   },
   "source": [
    "**4)**"
   ]
  },
  {
   "cell_type": "markdown",
   "metadata": {
    "slideshow": {
     "slide_type": "slide"
    }
   },
   "source": [
    "### Referências\n",
    "\n",
    "- Chalco, JM, *Slides de Bases Computacionais da Ciência*, (2014)\n",
    "- Leite, S, *Slides de Bases Computacionais da Ciência*, (2018)\n",
    "- [Marietto, MGB et al.; **Bases computacionais da Ciência** (2013)](http://prograd.ufabc.edu.br/images/pdf/bases_computacionais_livro.pdf).\n",
    "- [Ipeadata](http://www.ipeadata.gov.br)"
   ]
  },
  {
   "cell_type": "code",
   "execution_count": null,
   "metadata": {},
   "outputs": [],
   "source": []
  }
 ],
 "metadata": {
  "celltoolbar": "Slideshow",
  "kernelspec": {
   "display_name": "Python 3",
   "language": "python",
   "name": "python3"
  },
  "language_info": {
   "codemirror_mode": {
    "name": "ipython",
    "version": 3
   },
   "file_extension": ".py",
   "mimetype": "text/x-python",
   "name": "python",
   "nbconvert_exporter": "python",
   "pygments_lexer": "ipython3",
   "version": "3.6.8"
  },
  "latex_envs": {
   "LaTeX_envs_menu_present": true,
   "autoclose": false,
   "autocomplete": true,
   "bibliofile": "biblio.bib",
   "cite_by": "apalike",
   "current_citInitial": 1,
   "eqLabelWithNumbers": true,
   "eqNumInitial": 1,
   "hotkeys": {
    "equation": "Ctrl-E",
    "itemize": "Ctrl-I"
   },
   "labels_anchors": false,
   "latex_user_defs": false,
   "report_style_numbering": false,
   "user_envs_cfg": false
  },
  "nbTranslate": {
   "displayLangs": [
    "*"
   ],
   "hotkey": "alt-t",
   "langInMainMenu": true,
   "sourceLang": "en",
   "targetLang": "fr",
   "useGoogleTranslate": true
  }
 },
 "nbformat": 4,
 "nbformat_minor": 2
}
