{
 "cells": [
  {
   "cell_type": "markdown",
   "metadata": {
    "slideshow": {
     "slide_type": "slide"
    }
   },
   "source": [
    "# Estruturas de repetição\n",
    "\n",
    "Renato Naville Watananbe"
   ]
  },
  {
   "cell_type": "markdown",
   "metadata": {
    "slideshow": {
     "slide_type": "slide"
    }
   },
   "source": [
    "### Laços\n",
    "\n",
    "Usado em situações em que é necessário repetir um determinado trecho de um programa várias vezes.\n",
    "\n",
    "Um exemplo bem simples: suponha que queiramos que uma variável $i$, que inicialmente tem o valor igual a 1, tenha o seu valor somado de 1 cinco vezes seguidas. O resultado de cada soma deve ser guardado na própria variável e ser mostrado na tela. Uma solução possível seria:"
   ]
  },
  {
   "cell_type": "code",
   "execution_count": null,
   "metadata": {
    "slideshow": {
     "slide_type": "fragment"
    }
   },
   "outputs": [],
   "source": [
    "i = 0\n",
    "print(i)\n",
    "i = i + 1\n",
    "print(i)\n",
    "i = i + 1\n",
    "print(i)\n",
    "i = i + 1\n",
    "print(i)\n",
    "i = i + 1\n",
    "print(i)\n",
    "i = i + 1\n",
    "print(i)"
   ]
  },
  {
   "cell_type": "markdown",
   "metadata": {},
   "source": [
    "E se precisássemos realizar essa operação 100 vezes? Ou 1000 vezes? Seria impraticável repetir esse código tantas vezes."
   ]
  },
  {
   "cell_type": "markdown",
   "metadata": {
    "slideshow": {
     "slide_type": "slide"
    }
   },
   "source": [
    "### Laços\n",
    "\n",
    "De forma alternativa, podemos fazer isso com uma estrutura de repetição.\n",
    "\n",
    "Veremos duas formas de fazer repetições:\n",
    "\n",
    "- **while**: executa uma sequência de instruções *enquanto* uma condição (operação booleana) for verdadeira.\n",
    "\n",
    "- **for**: executa uma sequência de instruções *para* um número pré-determinado de valores."
   ]
  },
  {
   "cell_type": "markdown",
   "metadata": {
    "slideshow": {
     "slide_type": "slide"
    }
   },
   "source": [
    "### While\n",
    "\n",
    "while CONDIÇÃO_BOOLEANA:     \n",
    "    &nbsp;&nbsp;&nbsp;&nbsp;&nbsp;&nbsp;&nbsp;&nbsp;&nbsp;&nbsp;&nbsp;&nbsp;INSTRUÇÕES_QUE_SE_REPETIRÃO\n",
    "\n",
    "INSTRUÇÕES_EXECUTADAS_APENAS_UMA_VEZ\n",
    "\n",
    "Por exemplo:"
   ]
  },
  {
   "cell_type": "code",
   "execution_count": 2,
   "metadata": {
    "slideshow": {
     "slide_type": "fragment"
    }
   },
   "outputs": [
    {
     "name": "stdout",
     "output_type": "stream",
     "text": [
      "i = 0\n",
      "i = 1\n",
      "i = 2\n",
      "i = 3\n",
      "i = 4\n",
      "i = 5\n"
     ]
    }
   ],
   "source": [
    "i = 0\n",
    "while i <= 5:\n",
    "    print(f'i = {i}')\n",
    "    i = i + 1"
   ]
  },
  {
   "cell_type": "markdown",
   "metadata": {
    "slideshow": {
     "slide_type": "fragment"
    }
   },
   "source": [
    "Repare em como a variável i muda de valor. Quando uma variável é utilizada desta forma, ela é conhecida como um **contador**."
   ]
  },
  {
   "cell_type": "markdown",
   "metadata": {
    "slideshow": {
     "slide_type": "slide"
    }
   },
   "source": [
    "### For\n",
    "\n",
    "A estrutura do comando for é:\n",
    "\n",
    "for VARIÁVEL in VETOR_COM_TODOS_OS_VALORES_QUE_VARIÁVEL_IRA_ASSUMIR:     \n",
    "    &nbsp;&nbsp;&nbsp;&nbsp;&nbsp;&nbsp;&nbsp;&nbsp;&nbsp;&nbsp;&nbsp;&nbsp;INSTRUÇÕES_QUE_SE_REPETIRÃO_PARA_CADA_VALOR_DA_VARIÁVEL \n",
    "\n",
    "INSTRUÇÕES_EXECUTADAS_APENAS_UMA_VEZ\n",
    "\n",
    "Por exemplo, o laço **for** a seguir irá imprimir o valor da variável **i** para cada valor que ela assumir."
   ]
  },
  {
   "cell_type": "code",
   "execution_count": 3,
   "metadata": {
    "slideshow": {
     "slide_type": "fragment"
    }
   },
   "outputs": [
    {
     "name": "stdout",
     "output_type": "stream",
     "text": [
      "i =0\n",
      "i =1\n",
      "i =2\n",
      "i =3\n",
      "i =4\n",
      "i =5\n"
     ]
    }
   ],
   "source": [
    "import numpy as np\n",
    "\n",
    "for i in np.array([0, 1, 2, 3, 4, 5]):\n",
    "    print(f'i ={i}')"
   ]
  },
  {
   "cell_type": "markdown",
   "metadata": {
    "slideshow": {
     "slide_type": "slide"
    }
   },
   "source": [
    "O vetor também pode ser construído com o comando np.arange ou np.linspace. Por exemplo:"
   ]
  },
  {
   "cell_type": "code",
   "execution_count": 5,
   "metadata": {
    "slideshow": {
     "slide_type": "fragment"
    }
   },
   "outputs": [
    {
     "name": "stdout",
     "output_type": "stream",
     "text": [
      "i = 0\n",
      "i = 1\n",
      "i = 2\n",
      "i = 3\n",
      "i = 4\n",
      "i = 5\n"
     ]
    }
   ],
   "source": [
    "for i in np.arange(0, 6, 1):\n",
    "    print(f'i = {i}')"
   ]
  },
  {
   "cell_type": "markdown",
   "metadata": {
    "slideshow": {
     "slide_type": "slide"
    }
   },
   "source": [
    "Um outro comando para a construção da lista de números que a variável irá adotar é o comando **range**. Esse comando funciona apenas dentro do **for**, e é a maneira mais comum para produzir essa lista de números. Por exemplo:"
   ]
  },
  {
   "cell_type": "code",
   "execution_count": 7,
   "metadata": {
    "slideshow": {
     "slide_type": "fragment"
    }
   },
   "outputs": [
    {
     "name": "stdout",
     "output_type": "stream",
     "text": [
      "i = 0\n",
      "i = 1\n",
      "i = 2\n",
      "i = 3\n",
      "i = 4\n",
      "i = 5\n"
     ]
    }
   ],
   "source": [
    "for i in range(0, 6, 1):\n",
    "    print(f'i = {i}')"
   ]
  },
  {
   "cell_type": "markdown",
   "metadata": {
    "slideshow": {
     "slide_type": "slide"
    }
   },
   "source": [
    "Para simplificar o comando 'range', se a diferença entre um elemento e outro for 1, não é necessário colocar essa diferença."
   ]
  },
  {
   "cell_type": "code",
   "execution_count": 8,
   "metadata": {
    "slideshow": {
     "slide_type": "fragment"
    }
   },
   "outputs": [
    {
     "name": "stdout",
     "output_type": "stream",
     "text": [
      "i = 0\n",
      "i = 1\n",
      "i = 2\n",
      "i = 3\n",
      "i = 4\n",
      "i = 5\n"
     ]
    }
   ],
   "source": [
    "for i in range(0, 6):\n",
    "    print(f'i = {i}')"
   ]
  },
  {
   "cell_type": "markdown",
   "metadata": {
    "slideshow": {
     "slide_type": "fragment"
    }
   },
   "source": [
    "Além disso, se o primeiro elemento for 0, não é necessário especificar o primeiro elemento:"
   ]
  },
  {
   "cell_type": "code",
   "execution_count": 9,
   "metadata": {
    "slideshow": {
     "slide_type": "fragment"
    }
   },
   "outputs": [
    {
     "name": "stdout",
     "output_type": "stream",
     "text": [
      "i = 0\n",
      "i = 1\n",
      "i = 2\n",
      "i = 3\n",
      "i = 4\n",
      "i = 5\n"
     ]
    }
   ],
   "source": [
    "for i in range(6):\n",
    "    print(f'i = {i}')"
   ]
  },
  {
   "cell_type": "markdown",
   "metadata": {
    "slideshow": {
     "slide_type": "slide"
    }
   },
   "source": [
    "Se quisermos que o loop comece de um valor diferente de 0, devemos explicitar o primeiro elemento:"
   ]
  },
  {
   "cell_type": "code",
   "execution_count": 10,
   "metadata": {},
   "outputs": [
    {
     "name": "stdout",
     "output_type": "stream",
     "text": [
      "i = 2\n",
      "i = 3\n",
      "i = 4\n",
      "i = 5\n"
     ]
    }
   ],
   "source": [
    "for i in range(2, 6):\n",
    "    print(f'i = {i}')"
   ]
  },
  {
   "cell_type": "markdown",
   "metadata": {
    "slideshow": {
     "slide_type": "slide"
    }
   },
   "source": [
    "### Laços aninhados"
   ]
  },
  {
   "cell_type": "code",
   "execution_count": 11,
   "metadata": {
    "slideshow": {
     "slide_type": "fragment"
    }
   },
   "outputs": [
    {
     "name": "stdout",
     "output_type": "stream",
     "text": [
      "i = 0, j = 0\n",
      "i = 0, j = 1\n",
      "i = 0, j = 2\n",
      "i = 0, j = 3\n",
      "i = 0, j = 4\n",
      "i = 1, j = 0\n",
      "i = 1, j = 1\n",
      "i = 1, j = 2\n",
      "i = 1, j = 3\n",
      "i = 1, j = 4\n",
      "i = 2, j = 0\n",
      "i = 2, j = 1\n",
      "i = 2, j = 2\n",
      "i = 2, j = 3\n",
      "i = 2, j = 4\n",
      "i = 3, j = 0\n",
      "i = 3, j = 1\n",
      "i = 3, j = 2\n",
      "i = 3, j = 3\n",
      "i = 3, j = 4\n",
      "i = 4, j = 0\n",
      "i = 4, j = 1\n",
      "i = 4, j = 2\n",
      "i = 4, j = 3\n",
      "i = 4, j = 4\n",
      "i = 5, j = 0\n",
      "i = 5, j = 1\n",
      "i = 5, j = 2\n",
      "i = 5, j = 3\n",
      "i = 5, j = 4\n",
      "i = 6, j = 0\n",
      "i = 6, j = 1\n",
      "i = 6, j = 2\n",
      "i = 6, j = 3\n",
      "i = 6, j = 4\n",
      "i = 7, j = 0\n",
      "i = 7, j = 1\n",
      "i = 7, j = 2\n",
      "i = 7, j = 3\n",
      "i = 7, j = 4\n",
      "i = 8, j = 0\n",
      "i = 8, j = 1\n",
      "i = 8, j = 2\n",
      "i = 8, j = 3\n",
      "i = 8, j = 4\n",
      "i = 9, j = 0\n",
      "i = 9, j = 1\n",
      "i = 9, j = 2\n",
      "i = 9, j = 3\n",
      "i = 9, j = 4\n"
     ]
    }
   ],
   "source": [
    "for i in range(10):\n",
    "    for j in range(5):\n",
    "        print(f'i = {i}, j = {j}')"
   ]
  },
  {
   "cell_type": "markdown",
   "metadata": {
    "slideshow": {
     "slide_type": "slide"
    }
   },
   "source": [
    "### Somatória\n",
    "\n",
    "\n",
    "Se quisermos, por exemplo, fazer a seguinte somatória:\n",
    "\n",
    "\n",
    "$$ S = 1 + \\frac{1}{2} + \\frac{1}{4} + \\frac{1}{8} + ... $$"
   ]
  },
  {
   "cell_type": "markdown",
   "metadata": {
    "slideshow": {
     "slide_type": "fragment"
    }
   },
   "source": [
    "Pode-se notar que podemos escrever a somatória acima como:\n",
    "\n",
    "$$S = \\displaystyle\\sum_{i=0}^N \\frac{1}{2^i}$$\n",
    "\n",
    "Isso pode ser feito com um loop **for**. Considerando $N = 30$:"
   ]
  },
  {
   "cell_type": "code",
   "execution_count": 12,
   "metadata": {
    "slideshow": {
     "slide_type": "fragment"
    }
   },
   "outputs": [
    {
     "name": "stdout",
     "output_type": "stream",
     "text": [
      "S = 1.9999999990686774\n"
     ]
    }
   ],
   "source": [
    "N = 30\n",
    "S = 0\n",
    "for i in range(0, N+1, 1):\n",
    "    S = S + 1/2**i\n",
    "print(f'S = {S}')"
   ]
  },
  {
   "cell_type": "markdown",
   "metadata": {
    "slideshow": {
     "slide_type": "slide"
    }
   },
   "source": [
    "### Tarefa (para agora)\n",
    "\n",
    "- Escrever um notebook do Colab para fazer o que pedido a seguir.\n",
    "\n",
    "- Colocar o seu nome na primeira célula do Notebook.\n",
    "\n",
    "- O notebook deve estar com texto explicando o Notebook. \n",
    "\n",
    "- Todos os resultados devem ser mostrados ao executar o notebook.\n",
    "\n",
    "- Coloque no seu repositório do Github o arquivo '.ipynb' contendo o notebook feito por você com o nome \"Tarefa11SeuNome.ipynb\".\n",
    "\n",
    "- **1)** Faça a aproximação de $\\pi$ usando a fórmula de Leibniz:\n",
    "\n",
    "$$\\pi \\approx 4 - \\frac{4}{3} + \\frac{4}{5} - \\frac{4}{7} + \\frac{4}{9}+...$$\n",
    "\n",
    "Calcule (e mostre na tela) a aproximação de $\\pi$ considerando a) 50 termos, b) 500 termos, c) 1000 termos e d) 10000 termos. \n",
    "\n",
    "Dica: Note que o sinal do termo muda a cada termo. Talvez verificar se o $i$ é par ou ímpar ajude a decidir se para aquele i o sinal é mais ou menos.\n"
   ]
  },
  {
   "cell_type": "markdown",
   "metadata": {
    "slideshow": {
     "slide_type": "slide"
    }
   },
   "source": [
    "### Tarefa (para antes da próxima aula)\n",
    "\n",
    "- Escrever um notebook do Colab para fazer o que pedido a seguir.\n",
    "\n",
    "- Colocar o seu nome na primeira célula do Notebook.\n",
    "\n",
    "- O notebook deve estar com texto explicando o Notebook. \n",
    "\n",
    "- Todos os resultados devem ser mostrados ao executar o notebook.\n",
    "\n",
    "- Não se esqueça de indicar o significado de cada eixo, colocando a unidade da abscissa e da ordenada nos gráficos.\n",
    "\n",
    "- Coloque no seu repositório do Github o arquivo '.ipynb' contendo o notebook feito por você com o nome \"Tarefa12SeuNome.ipynb\"."
   ]
  },
  {
   "cell_type": "markdown",
   "metadata": {
    "slideshow": {
     "slide_type": "slide"
    }
   },
   "source": [
    "**1)**  Três séries, $v, y$ e $t$ seguem as seguintes regras:\n",
    "        \n",
    "$$v[i] = v[i-1] + 0,01.(-9,81)$$\n",
    "$$y[i] = y[i-1] + 0,01v[i-1]$$\n",
    "$$t[i] = t[i-1] + 0,01$$\n",
    "        \n",
    "Começando com v[0] = 10 m/s, y[0] = 0 m e t[0] = 0 s, calcule os 250 primeiros valores das três séries. \n",
    "\n",
    "Faça os gráficos com os valores encontrados de $y$ em função de $t$ e dos valores encontrados de $v$ em função de $t$.\n",
    "\n",
    "Observação: o cálculo destas três séries é uma simulação computacional para calcular a posição e velocidade de uma partícula lançada na vertical com velocidade inicial de 10 m/s. O método utilizado para realizar esta simulação é conhecido como método de Euler.\n"
   ]
  },
  {
   "cell_type": "markdown",
   "metadata": {
    "slideshow": {
     "slide_type": "slide"
    }
   },
   "source": [
    "**2)** O valor de $\\ln(1+x)$ pode ser aproximado por (apenas para $|x|<1$):\n",
    "\n",
    "$\\ln(1+x) = x - \\frac{x^2}{2} + \\frac{x^3}{3} ... = \\displaystyle\\sum_{i=1}^n (-1)^{i+1}\\frac{x^i}{i} $\n",
    "\n",
    "$\\ln$ é o logaritmo na base $e$ (conhecido como logaritmo natural).\n",
    "\n",
    "Use a expressão acima com n = 100 para encontrar $\\ln(0.5)$.\n",
    "\n",
    "Compare o resultado com a função do Numpy `np.log(0.5)`.\n",
    "\n"
   ]
  },
  {
   "cell_type": "markdown",
   "metadata": {
    "slideshow": {
     "slide_type": "slide"
    }
   },
   "source": [
    "**3)** Calcular a aproximação de uma onda quadrada seguindo a seguinte expressão (a expressão abaixo é calculada utilizando uma teoria matemática conhecida como série de Fourier):\n",
    "\n",
    "$$x(t)  \\approx \\frac{4}{\\pi}\\displaystyle \\sum_{i = 1}^N \\frac{\\sin\\left[(2i - 1)t\\right]}{2i - 1}$$\n",
    "\n",
    "Faça a aproximação para $0 \\leqslant t \\leqslant 10$ (utilize um número suficiente de pontos no vetor $t$ para poder observar o gráfico de $x(t)$, algo em torno de 100000 pontos).\n",
    "\n",
    "Faça a aproximação para a) N = 10, b) N = 100, c) N = 1000 e d) N = 10000. Coloque todas as aproximações em um único gráfico, com a aproximação de $x(t)$ em função de $t$.\n",
    "\n",
    "Dica: se você estiver com dificuldade, faça primeiro o gráfico considerando i = 1, sem nenhuma somatória (N = 1). Depois disso, coloque o código que você tiver escrito dentro de um for ou while para variar o valor de i e fazer a somatória.\n",
    "\n"
   ]
  },
  {
   "cell_type": "markdown",
   "metadata": {
    "slideshow": {
     "slide_type": "slide"
    }
   },
   "source": [
    "### Referências\n",
    "\n",
    "- Chalco, JM, *Slides de Bases Computacionais da Ciência*, (2014)\n",
    "- Leite, S, *Slides de Bases Computacionais da Ciência*, (2018)\n",
    "- [Marietto, MGB et al.; **Bases computacionais da Ciência** (2013)](http://prograd.ufabc.edu.br/images/pdf/bases_computacionais_livro.pdf).\n",
    "- [Ipeadata](http://www.ipeadata.gov.br)"
   ]
  }
 ],
 "metadata": {
  "kernelspec": {
   "display_name": "Python 3 (ipykernel)",
   "language": "python",
   "name": "python3"
  },
  "language_info": {
   "codemirror_mode": {
    "name": "ipython",
    "version": 3
   },
   "file_extension": ".py",
   "mimetype": "text/x-python",
   "name": "python",
   "nbconvert_exporter": "python",
   "pygments_lexer": "ipython3",
   "version": "3.9.13"
  },
  "latex_envs": {
   "LaTeX_envs_menu_present": true,
   "autoclose": false,
   "autocomplete": true,
   "bibliofile": "biblio.bib",
   "cite_by": "apalike",
   "current_citInitial": 1,
   "eqLabelWithNumbers": true,
   "eqNumInitial": 1,
   "hotkeys": {
    "equation": "Ctrl-E",
    "itemize": "Ctrl-I"
   },
   "labels_anchors": false,
   "latex_user_defs": false,
   "report_style_numbering": false,
   "user_envs_cfg": false
  },
  "livereveal": {
   "autolaunch": true
  },
  "nbTranslate": {
   "displayLangs": [
    "*"
   ],
   "hotkey": "alt-t",
   "langInMainMenu": true,
   "sourceLang": "en",
   "targetLang": "fr",
   "useGoogleTranslate": true
  },
  "toc": {
   "base_numbering": 1,
   "nav_menu": {},
   "number_sections": true,
   "sideBar": true,
   "skip_h1_title": true,
   "title_cell": "Contents",
   "title_sidebar": "Contents",
   "toc_cell": true,
   "toc_position": {},
   "toc_section_display": true,
   "toc_window_display": false
  },
  "varInspector": {
   "cols": {
    "lenName": 16,
    "lenType": 16,
    "lenVar": 40
   },
   "kernels_config": {
    "python": {
     "delete_cmd_postfix": "",
     "delete_cmd_prefix": "del ",
     "library": "var_list.py",
     "varRefreshCmd": "print(var_dic_list())"
    },
    "r": {
     "delete_cmd_postfix": ") ",
     "delete_cmd_prefix": "rm(",
     "library": "var_list.r",
     "varRefreshCmd": "cat(var_dic_list()) "
    }
   },
   "types_to_exclude": [
    "module",
    "function",
    "builtin_function_or_method",
    "instance",
    "_Feature"
   ],
   "window_display": false
  }
 },
 "nbformat": 4,
 "nbformat_minor": 4
}
