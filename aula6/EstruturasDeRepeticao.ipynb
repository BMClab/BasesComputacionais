{
  "cells": [
    {
      "cell_type": "markdown",
      "metadata": {
        "id": "Q4NjznenskEU"
      },
      "source": [
        "# Estruturas de repetição\n",
        "\n",
        "Renato Naville Watanabe"
      ]
    },
    {
      "cell_type": "markdown",
      "source": [
        "## Preparação do ambiente"
      ],
      "metadata": {
        "id": "FmQrV_HbtD7N"
      }
    },
    {
      "cell_type": "code",
      "source": [
        "def increase_font(): # importante ao dar aula. aumenta o tamanho da fonte\n",
        "  from IPython.display import Javascript\n",
        "  display(Javascript('''\n",
        "  for (rule of document.styleSheets[0].cssRules){\n",
        "    if (rule.selectorText=='body') {\n",
        "      rule.style.fontSize = '36px'\n",
        "      break\n",
        "    }\n",
        "  }\n",
        "  '''))\n",
        "get_ipython().events.register('pre_run_cell', increase_font)"
      ],
      "metadata": {
        "id": "4ESLrujctGvA"
      },
      "execution_count": 1,
      "outputs": []
    },
    {
      "cell_type": "markdown",
      "metadata": {
        "id": "FtERKVKMskEY"
      },
      "source": [
        "### Laços\n",
        "\n",
        "Usado em situações em que é necessário repetir um determinado trecho de um programa várias vezes.\n",
        "\n",
        "Um exemplo bem simples: suponha que queiramos que uma variável $i$, que inicialmente tem o valor igual a 1, tenha o seu valor somado de 1 cinco vezes seguidas. O resultado de cada soma deve ser guardado na própria variável e ser mostrado na tela. Uma solução possível seria:"
      ]
    },
    {
      "cell_type": "code",
      "execution_count": 2,
      "metadata": {
        "id": "eBLATa-2skEZ",
        "outputId": "efd0fa2c-c3c3-4641-d853-346196025bca",
        "colab": {
          "base_uri": "https://localhost:8080/",
          "height": 291
        }
      },
      "outputs": [
        {
          "output_type": "display_data",
          "data": {
            "text/plain": [
              "<IPython.core.display.Javascript object>"
            ],
            "application/javascript": [
              "\n",
              "  for (rule of document.styleSheets[0].cssRules){\n",
              "    if (rule.selectorText=='body') {\n",
              "      rule.style.fontSize = '36px'\n",
              "      break\n",
              "    }\n",
              "  }\n",
              "  "
            ]
          },
          "metadata": {}
        },
        {
          "output_type": "stream",
          "name": "stdout",
          "text": [
            "0\n",
            "1\n",
            "2\n",
            "3\n",
            "4\n",
            "5\n"
          ]
        }
      ],
      "source": [
        "i = 0\n",
        "print(i)\n",
        "i = i + 1\n",
        "print(i)\n",
        "i = i + 1\n",
        "print(i)\n",
        "i = i + 1\n",
        "print(i)\n",
        "i = i + 1\n",
        "print(i)\n",
        "i = i + 1\n",
        "print(i)"
      ]
    },
    {
      "cell_type": "markdown",
      "metadata": {
        "id": "JjhUAKzIskEa"
      },
      "source": [
        "E se precisássemos realizar essa operação 100 vezes? Ou 1000 vezes? Seria impraticável repetir esse código tantas vezes."
      ]
    },
    {
      "cell_type": "markdown",
      "metadata": {
        "id": "o2THb_nFskEa"
      },
      "source": [
        "### Laços\n",
        "\n",
        "De forma alternativa, podemos fazer isso com uma estrutura de repetição.\n",
        "\n",
        "Veremos duas formas de fazer repetições:\n",
        "\n",
        "- **while**: executa uma sequência de instruções *enquanto* uma condição (operação booleana) for verdadeira.\n",
        "\n",
        "- **for**: executa uma sequência de instruções *para* um número pré-determinado de valores."
      ]
    },
    {
      "cell_type": "markdown",
      "metadata": {
        "id": "wnlzdLPhskEb"
      },
      "source": [
        "### While\n",
        "\n",
        "while CONDIÇÃO_BOOLEANA:     \n",
        "    &nbsp;&nbsp;&nbsp;&nbsp;&nbsp;&nbsp;&nbsp;&nbsp;&nbsp;&nbsp;&nbsp;&nbsp;INSTRUÇÕES_QUE_SE_REPETIRÃO\n",
        "\n",
        "INSTRUÇÕES_EXECUTADAS_APENAS_UMA_VEZ\n",
        "\n",
        "Por exemplo:"
      ]
    },
    {
      "cell_type": "code",
      "execution_count": 3,
      "metadata": {
        "id": "NiykFJ_VskEc",
        "outputId": "5899e524-b7ad-4980-abce-2747e76ddc81",
        "colab": {
          "base_uri": "https://localhost:8080/",
          "height": 291
        }
      },
      "outputs": [
        {
          "output_type": "display_data",
          "data": {
            "text/plain": [
              "<IPython.core.display.Javascript object>"
            ],
            "application/javascript": [
              "\n",
              "  for (rule of document.styleSheets[0].cssRules){\n",
              "    if (rule.selectorText=='body') {\n",
              "      rule.style.fontSize = '36px'\n",
              "      break\n",
              "    }\n",
              "  }\n",
              "  "
            ]
          },
          "metadata": {}
        },
        {
          "output_type": "stream",
          "name": "stdout",
          "text": [
            "i = 0\n",
            "i = 1\n",
            "i = 2\n",
            "i = 3\n",
            "i = 4\n",
            "i = 5\n"
          ]
        }
      ],
      "source": [
        "i = 0\n",
        "while i <= 5:\n",
        "    print(f'i = {i}')\n",
        "    i = i + 1"
      ]
    },
    {
      "cell_type": "markdown",
      "metadata": {
        "id": "QbqvA9DHskEd"
      },
      "source": [
        "Repare em como a variável i muda de valor. Quando uma variável é utilizada desta forma, ela é conhecida como um **contador**."
      ]
    },
    {
      "cell_type": "markdown",
      "metadata": {
        "id": "R3mxD_VpskEd"
      },
      "source": [
        "### For\n",
        "\n",
        "A estrutura do comando for é:\n",
        "\n",
        "for VARIÁVEL in VETOR_COM_TODOS_OS_VALORES_QUE_VARIÁVEL_IRA_ASSUMIR:     \n",
        "    &nbsp;&nbsp;&nbsp;&nbsp;&nbsp;&nbsp;&nbsp;&nbsp;&nbsp;&nbsp;&nbsp;&nbsp;INSTRUÇÕES_QUE_SE_REPETIRÃO_PARA_CADA_VALOR_DA_VARIÁVEL\n",
        "\n",
        "INSTRUÇÕES_EXECUTADAS_APENAS_UMA_VEZ\n",
        "\n",
        "Por exemplo, o laço **for** a seguir irá imprimir o valor da variável **i** para cada valor que ela assumir."
      ]
    },
    {
      "cell_type": "code",
      "execution_count": 5,
      "metadata": {
        "id": "3f0TEt16skEe",
        "outputId": "6dc70d5f-dc0b-4d51-88b6-6240923f363f",
        "colab": {
          "base_uri": "https://localhost:8080/",
          "height": 291
        }
      },
      "outputs": [
        {
          "output_type": "display_data",
          "data": {
            "text/plain": [
              "<IPython.core.display.Javascript object>"
            ],
            "application/javascript": [
              "\n",
              "  for (rule of document.styleSheets[0].cssRules){\n",
              "    if (rule.selectorText=='body') {\n",
              "      rule.style.fontSize = '36px'\n",
              "      break\n",
              "    }\n",
              "  }\n",
              "  "
            ]
          },
          "metadata": {}
        },
        {
          "output_type": "stream",
          "name": "stdout",
          "text": [
            "i =0\n",
            "i =1\n",
            "i =2\n",
            "i =3\n",
            "i =4\n",
            "i =5\n"
          ]
        }
      ],
      "source": [
        "import numpy as np\n",
        "\n",
        "for i in np.array([0, 1, 2, 3, 4, 5]):\n",
        "    print(f'i ={i}')"
      ]
    },
    {
      "cell_type": "markdown",
      "metadata": {
        "id": "76AF0RxyskEe"
      },
      "source": [
        "O vetor também pode ser construído com o comando np.arange ou np.linspace. Por exemplo:"
      ]
    },
    {
      "cell_type": "code",
      "execution_count": 6,
      "metadata": {
        "id": "MQwgZ93ZskEf",
        "outputId": "2a336649-5bc5-45f3-95f9-22a48e1ed9d0",
        "colab": {
          "base_uri": "https://localhost:8080/",
          "height": 291
        }
      },
      "outputs": [
        {
          "output_type": "display_data",
          "data": {
            "text/plain": [
              "<IPython.core.display.Javascript object>"
            ],
            "application/javascript": [
              "\n",
              "  for (rule of document.styleSheets[0].cssRules){\n",
              "    if (rule.selectorText=='body') {\n",
              "      rule.style.fontSize = '36px'\n",
              "      break\n",
              "    }\n",
              "  }\n",
              "  "
            ]
          },
          "metadata": {}
        },
        {
          "output_type": "stream",
          "name": "stdout",
          "text": [
            "i = 0\n",
            "i = 1\n",
            "i = 2\n",
            "i = 3\n",
            "i = 4\n",
            "i = 5\n"
          ]
        }
      ],
      "source": [
        "for i in np.arange(0, 6, 1):\n",
        "    print(f'i = {i}')"
      ]
    },
    {
      "cell_type": "markdown",
      "metadata": {
        "id": "GSDrErB8skEf"
      },
      "source": [
        "Um outro comando para a construção da lista de números que a variável irá adotar é o comando **range**. Esse comando funciona apenas dentro do **for**, e é a maneira mais comum para produzir essa lista de números. Por exemplo:"
      ]
    },
    {
      "cell_type": "code",
      "execution_count": 7,
      "metadata": {
        "id": "h-ElZqDjskEf",
        "outputId": "6d59349c-348d-4750-df9b-f84cf9cc8a63",
        "colab": {
          "base_uri": "https://localhost:8080/",
          "height": 291
        }
      },
      "outputs": [
        {
          "output_type": "display_data",
          "data": {
            "text/plain": [
              "<IPython.core.display.Javascript object>"
            ],
            "application/javascript": [
              "\n",
              "  for (rule of document.styleSheets[0].cssRules){\n",
              "    if (rule.selectorText=='body') {\n",
              "      rule.style.fontSize = '36px'\n",
              "      break\n",
              "    }\n",
              "  }\n",
              "  "
            ]
          },
          "metadata": {}
        },
        {
          "output_type": "stream",
          "name": "stdout",
          "text": [
            "i = 0\n",
            "i = 1\n",
            "i = 2\n",
            "i = 3\n",
            "i = 4\n",
            "i = 5\n"
          ]
        }
      ],
      "source": [
        "for i in range(0, 6, 1):\n",
        "    print(f'i = {i}')"
      ]
    },
    {
      "cell_type": "markdown",
      "metadata": {
        "id": "Jmm89KsmskEf"
      },
      "source": [
        "Para simplificar o comando 'range', se a diferença entre um elemento e outro for 1, não é necessário colocar essa diferença."
      ]
    },
    {
      "cell_type": "code",
      "execution_count": 8,
      "metadata": {
        "id": "Aaf8JErUskEf",
        "outputId": "905ca3bf-0eb7-4f05-850a-e15b3d7d2797",
        "colab": {
          "base_uri": "https://localhost:8080/",
          "height": 291
        }
      },
      "outputs": [
        {
          "output_type": "display_data",
          "data": {
            "text/plain": [
              "<IPython.core.display.Javascript object>"
            ],
            "application/javascript": [
              "\n",
              "  for (rule of document.styleSheets[0].cssRules){\n",
              "    if (rule.selectorText=='body') {\n",
              "      rule.style.fontSize = '36px'\n",
              "      break\n",
              "    }\n",
              "  }\n",
              "  "
            ]
          },
          "metadata": {}
        },
        {
          "output_type": "stream",
          "name": "stdout",
          "text": [
            "i = 0\n",
            "i = 1\n",
            "i = 2\n",
            "i = 3\n",
            "i = 4\n",
            "i = 5\n"
          ]
        }
      ],
      "source": [
        "for i in range(0, 6):\n",
        "    print(f'i = {i}')"
      ]
    },
    {
      "cell_type": "markdown",
      "metadata": {
        "id": "MgmobQEHskEg"
      },
      "source": [
        "Além disso, se o primeiro elemento for 0, não é necessário especificar o primeiro elemento:"
      ]
    },
    {
      "cell_type": "code",
      "execution_count": 9,
      "metadata": {
        "id": "VqGGVNZ4skEg",
        "outputId": "8465c3c7-b2bd-4827-99a2-5aa4ac4c26fc",
        "colab": {
          "base_uri": "https://localhost:8080/",
          "height": 291
        }
      },
      "outputs": [
        {
          "output_type": "display_data",
          "data": {
            "text/plain": [
              "<IPython.core.display.Javascript object>"
            ],
            "application/javascript": [
              "\n",
              "  for (rule of document.styleSheets[0].cssRules){\n",
              "    if (rule.selectorText=='body') {\n",
              "      rule.style.fontSize = '36px'\n",
              "      break\n",
              "    }\n",
              "  }\n",
              "  "
            ]
          },
          "metadata": {}
        },
        {
          "output_type": "stream",
          "name": "stdout",
          "text": [
            "i = 0\n",
            "i = 1\n",
            "i = 2\n",
            "i = 3\n",
            "i = 4\n",
            "i = 5\n"
          ]
        }
      ],
      "source": [
        "for i in range(6):\n",
        "    print(f'i = {i}')"
      ]
    },
    {
      "cell_type": "markdown",
      "metadata": {
        "id": "yW6NAfKGskEg"
      },
      "source": [
        "Se quisermos que o loop comece de um valor diferente de 0, devemos explicitar o primeiro elemento:"
      ]
    },
    {
      "cell_type": "code",
      "execution_count": 10,
      "metadata": {
        "id": "N4H8t2UyskEg",
        "outputId": "2582af0b-47b7-43d6-f00a-5a56d2771f68",
        "colab": {
          "base_uri": "https://localhost:8080/",
          "height": 200
        }
      },
      "outputs": [
        {
          "output_type": "display_data",
          "data": {
            "text/plain": [
              "<IPython.core.display.Javascript object>"
            ],
            "application/javascript": [
              "\n",
              "  for (rule of document.styleSheets[0].cssRules){\n",
              "    if (rule.selectorText=='body') {\n",
              "      rule.style.fontSize = '36px'\n",
              "      break\n",
              "    }\n",
              "  }\n",
              "  "
            ]
          },
          "metadata": {}
        },
        {
          "output_type": "stream",
          "name": "stdout",
          "text": [
            "i = 2\n",
            "i = 3\n",
            "i = 4\n",
            "i = 5\n"
          ]
        }
      ],
      "source": [
        "for i in range(2, 6):\n",
        "    print(f'i = {i}')"
      ]
    },
    {
      "cell_type": "markdown",
      "metadata": {
        "id": "xYssxjLCskEg"
      },
      "source": [
        "### Laços aninhados"
      ]
    },
    {
      "cell_type": "code",
      "execution_count": 11,
      "metadata": {
        "id": "7-3G0vgUskEh",
        "outputId": "69ebac34-4e96-4e56-ffc4-a0e834e729c7",
        "colab": {
          "base_uri": "https://localhost:8080/",
          "height": 1000
        }
      },
      "outputs": [
        {
          "output_type": "display_data",
          "data": {
            "text/plain": [
              "<IPython.core.display.Javascript object>"
            ],
            "application/javascript": [
              "\n",
              "  for (rule of document.styleSheets[0].cssRules){\n",
              "    if (rule.selectorText=='body') {\n",
              "      rule.style.fontSize = '36px'\n",
              "      break\n",
              "    }\n",
              "  }\n",
              "  "
            ]
          },
          "metadata": {}
        },
        {
          "output_type": "stream",
          "name": "stdout",
          "text": [
            "i = 0, j = 0\n",
            "i = 0, j = 1\n",
            "i = 0, j = 2\n",
            "i = 0, j = 3\n",
            "i = 0, j = 4\n",
            "i = 1, j = 0\n",
            "i = 1, j = 1\n",
            "i = 1, j = 2\n",
            "i = 1, j = 3\n",
            "i = 1, j = 4\n",
            "i = 2, j = 0\n",
            "i = 2, j = 1\n",
            "i = 2, j = 2\n",
            "i = 2, j = 3\n",
            "i = 2, j = 4\n",
            "i = 3, j = 0\n",
            "i = 3, j = 1\n",
            "i = 3, j = 2\n",
            "i = 3, j = 3\n",
            "i = 3, j = 4\n",
            "i = 4, j = 0\n",
            "i = 4, j = 1\n",
            "i = 4, j = 2\n",
            "i = 4, j = 3\n",
            "i = 4, j = 4\n",
            "i = 5, j = 0\n",
            "i = 5, j = 1\n",
            "i = 5, j = 2\n",
            "i = 5, j = 3\n",
            "i = 5, j = 4\n",
            "i = 6, j = 0\n",
            "i = 6, j = 1\n",
            "i = 6, j = 2\n",
            "i = 6, j = 3\n",
            "i = 6, j = 4\n",
            "i = 7, j = 0\n",
            "i = 7, j = 1\n",
            "i = 7, j = 2\n",
            "i = 7, j = 3\n",
            "i = 7, j = 4\n",
            "i = 8, j = 0\n",
            "i = 8, j = 1\n",
            "i = 8, j = 2\n",
            "i = 8, j = 3\n",
            "i = 8, j = 4\n",
            "i = 9, j = 0\n",
            "i = 9, j = 1\n",
            "i = 9, j = 2\n",
            "i = 9, j = 3\n",
            "i = 9, j = 4\n"
          ]
        }
      ],
      "source": [
        "for i in range(10):\n",
        "    for j in range(5):\n",
        "        print(f'i = {i}, j = {j}')"
      ]
    },
    {
      "cell_type": "markdown",
      "metadata": {
        "id": "1VWz6rCkskEh"
      },
      "source": [
        "### Somatória\n",
        "\n",
        "\n",
        "Se quisermos, por exemplo, fazer a seguinte somatória:\n",
        "\n",
        "\n",
        "$$ S = 1 + \\frac{1}{2} + \\frac{1}{4} + \\frac{1}{8} + ... $$"
      ]
    },
    {
      "cell_type": "markdown",
      "metadata": {
        "id": "fmI6x-IsskEh"
      },
      "source": [
        "Pode-se notar que podemos escrever a somatória acima como:\n",
        "\n",
        "$$S = \\displaystyle\\sum_{i=0}^N \\frac{1}{2^i}$$\n",
        "\n",
        "Isso pode ser feito com um loop **for**. Considerando $N = 30$:"
      ]
    },
    {
      "cell_type": "code",
      "execution_count": null,
      "metadata": {
        "id": "_-Qe34uhskEh",
        "outputId": "444e1e01-3906-41dc-a773-7cf2dab48a22"
      },
      "outputs": [
        {
          "name": "stdout",
          "output_type": "stream",
          "text": [
            "S = 1.9999999990686774\n"
          ]
        }
      ],
      "source": [
        "N = 30\n",
        "S = 0\n",
        "for i in range(0, N+1, 1):\n",
        "    S = S + 1/2**i\n",
        "print(f'S = {S}')"
      ]
    },
    {
      "cell_type": "markdown",
      "metadata": {
        "id": "7L7WFFdWskEh"
      },
      "source": [
        "### Exercícios\n",
        "\n",
        "- Escrever um notebook do Colab para fazer o que pedido a seguir.\n",
        "\n",
        "\n",
        "**1)** Faça a aproximação de $\\mathrm{sen}(x)$ usando a seguinte aproximação:\n",
        "\n",
        "$$\\mathrm{sen}(x) \\approx x - \\frac{x^3}{3!} + \\frac{x^5}{5!} - \\frac{x^7}{7!} + \\frac{x^9}{9!}+...$$\n",
        "\n",
        "Calcule (e mostre na tela) a aproximação de $\\mathrm{sen}\\left(x\\right)$ considerando 50 termos, para a) $x=\\frac{\\pi}{6}$, b) $x=\\frac{\\pi}{3}$ e c) $x=0.7$ Compare com o resultado da função `np.sin`\n",
        "\n",
        "\n",
        "Dica: Note que o sinal do termo muda a cada termo. Talvez verificar se o $i$ é par ou ímpar ajude a decidir se para aquele i o sinal é mais ou menos.\n"
      ]
    },
    {
      "cell_type": "markdown",
      "metadata": {
        "id": "LeRtXrZnskEi"
      },
      "source": [
        "**2)** O valor de $\\ln(1+x)$ pode ser aproximado por (apenas para $|x|<1$):\n",
        "\n",
        "$\\ln(1+x) = x - \\frac{x^2}{2} + \\frac{x^3}{3} ... = \\displaystyle\\sum_{i=1}^n (-1)^{i+1}\\frac{x^i}{i} $\n",
        "\n",
        "$\\ln$ é o logaritmo na base $e$ (conhecido como logaritmo natural).\n",
        "\n",
        "Use a expressão acima com n = 100 para encontrar $\\ln(0.5)$.\n",
        "\n",
        "Compare o resultado com a função do Numpy `np.log(0.5)`.\n",
        "\n"
      ]
    },
    {
      "cell_type": "markdown",
      "metadata": {
        "id": "tsU-fPs4skEi"
      },
      "source": [
        "### Referências\n",
        "\n",
        "- Chalco, JM, *Slides de Bases Computacionais da Ciência*, (2014)\n",
        "- Leite, S, *Slides de Bases Computacionais da Ciência*, (2018)\n",
        "- [Marietto, MGB et al.; **Bases computacionais da Ciência** (2013)](http://prograd.ufabc.edu.br/images/pdf/bases_computacionais_livro.pdf).\n",
        "- [Ipeadata](http://www.ipeadata.gov.br)"
      ]
    }
  ],
  "metadata": {
    "kernelspec": {
      "display_name": "Python 3 (ipykernel)",
      "language": "python",
      "name": "python3"
    },
    "language_info": {
      "codemirror_mode": {
        "name": "ipython",
        "version": 3
      },
      "file_extension": ".py",
      "mimetype": "text/x-python",
      "name": "python",
      "nbconvert_exporter": "python",
      "pygments_lexer": "ipython3",
      "version": "3.9.13"
    },
    "latex_envs": {
      "LaTeX_envs_menu_present": true,
      "autoclose": false,
      "autocomplete": true,
      "bibliofile": "biblio.bib",
      "cite_by": "apalike",
      "current_citInitial": 1,
      "eqLabelWithNumbers": true,
      "eqNumInitial": 1,
      "hotkeys": {
        "equation": "Ctrl-E",
        "itemize": "Ctrl-I"
      },
      "labels_anchors": false,
      "latex_user_defs": false,
      "report_style_numbering": false,
      "user_envs_cfg": false
    },
    "livereveal": {
      "autolaunch": true
    },
    "nbTranslate": {
      "displayLangs": [
        "*"
      ],
      "hotkey": "alt-t",
      "langInMainMenu": true,
      "sourceLang": "en",
      "targetLang": "fr",
      "useGoogleTranslate": true
    },
    "toc": {
      "base_numbering": 1,
      "nav_menu": {},
      "number_sections": true,
      "sideBar": true,
      "skip_h1_title": true,
      "title_cell": "Contents",
      "title_sidebar": "Contents",
      "toc_cell": true,
      "toc_position": {},
      "toc_section_display": true,
      "toc_window_display": false
    },
    "varInspector": {
      "cols": {
        "lenName": 16,
        "lenType": 16,
        "lenVar": 40
      },
      "kernels_config": {
        "python": {
          "delete_cmd_postfix": "",
          "delete_cmd_prefix": "del ",
          "library": "var_list.py",
          "varRefreshCmd": "print(var_dic_list())"
        },
        "r": {
          "delete_cmd_postfix": ") ",
          "delete_cmd_prefix": "rm(",
          "library": "var_list.r",
          "varRefreshCmd": "cat(var_dic_list()) "
        }
      },
      "types_to_exclude": [
        "module",
        "function",
        "builtin_function_or_method",
        "instance",
        "_Feature"
      ],
      "window_display": false
    },
    "colab": {
      "provenance": []
    }
  },
  "nbformat": 4,
  "nbformat_minor": 0
}