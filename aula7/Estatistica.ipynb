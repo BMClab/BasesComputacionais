{
 "cells": [
  {
   "cell_type": "markdown",
   "metadata": {
    "slideshow": {
     "slide_type": "slide"
    }
   },
   "source": [
    "# Noções de Estatística\n",
    "\n",
    "Renato Naville Watanabe"
   ]
  },
  {
   "cell_type": "markdown",
   "metadata": {
    "slideshow": {
     "slide_type": "slide"
    }
   },
   "source": [
    "### Estatítisca\n",
    "\n",
    "A análise estatística pode ser dividida em duas áreas:\n",
    "\n",
    "- 1) **Estatística descritiva**: Esta interessada na redução, análise e\n",
    "interpretação dos dados. Pode incluir a construção de gráficos,\n",
    "tabelas, e computação de várias medidas:medidas de tendência\n",
    "central (ex. a média), de dispersão (ex. a variância), de\n",
    "frequência (ex. percentagem), etc.\n",
    "    + Gráfico com a distribuição da idade dos ingressantes nos bacharelados interdisciplinares da UFABC. "
   ]
  },
  {
   "cell_type": "markdown",
   "metadata": {
    "slideshow": {
     "slide_type": "fragment"
    }
   },
   "source": [
    "- 2) **Estatística indutiva / inferencial**: Voltada a realizar\n",
    "estimativas a partir de uma amostra ou testar ideias teóricas\n",
    "(hipóteses) com dados experimentais.\n",
    "    + Estimação da porcentagem da população que votará para um determinado candidato em uma eleição, junto com uma margem de erro (“intervalo de confiança”);\n",
    "    "
   ]
  },
  {
   "cell_type": "markdown",
   "metadata": {
    "slideshow": {
     "slide_type": "slide"
    }
   },
   "source": [
    "### Conceitos básicos\n",
    "\n",
    "- **População**: População pode ser definido como o conjunto de elementos que têm em comum uma determinada característica.\n",
    "    + indivíduos com dengue;\n",
    "    + aparelhos de televisão fabricados em uma fábrica;\n",
    "- **Amostra**: Uma amostra é um subgrupo de uma população, ou seja, é todo subconjunto com menor número de elementos que o conjunto definido como população.\n",
    "\n",
    "- **Variáveis**: É toda característica que, observada em uma unidade experimental, pode variar de um indivíduo para outro.\n",
    "    + Exemplos: gênero, cor da pele, altura, idade, salário, nível de hemoglobina no sangue.\n",
    "    + Podem ser divididas em: Qualitativas e Quantitativas"
   ]
  },
  {
   "cell_type": "markdown",
   "metadata": {
    "slideshow": {
     "slide_type": "slide"
    }
   },
   "source": [
    "### Tipos de variáveis\n",
    "\n",
    "- Qualitativas:\n",
    "    + **Nominal**: Uma categoria se diferencia da outra somente pela denominação que recebem. Ex.: gênero feminino ou masculino, estado civil, nacionalidade.\n",
    "    + **Ordinal**: É possível reconhecer graus de intensidade entre as categorias. Ex.: nível sócio-econômico (baixo, médio, alto), avaliação de um serviço (ruim, regular, bom).\n",
    "\n",
    "- Quantitativas:\n",
    "    + **Discretas**: São aquelas em que os dados somente podem apresentar determinados valores, em geral, números inteiros.\n",
    "    Ex.: número de filhos, número de baixas hospitalares.\n",
    "    + **Contínuas**: Aquelas cujos dados somente podem apresentar qualquer valor dentro de um intervalo de variação possível. \n",
    "    Ex.: altura, peso, níveis de hemoglobina no sangue."
   ]
  },
  {
   "cell_type": "markdown",
   "metadata": {
    "slideshow": {
     "slide_type": "slide"
    }
   },
   "source": [
    "\n",
    "É conveniente dispor de medidas que informem sobre a amostra de maneira mais resumida do que os dados brutos são capazes de fazer. Dão uma visão global dos dados, podendo ser:\n",
    "\n",
    "- **Tendência central**: São aquelas que produzem um valor em torno do qual os dados observados se distribuem, e que visam sintetizar em um único número o conjunto de dados.\n",
    "    Ex: Média aritmética, Mediana e Moda.\n",
    "- **Dispersão**: É a variabilidade que os dados apresentam entre si.\n",
    "    Ex: Variância e Desvio-padrão."
   ]
  },
  {
   "cell_type": "markdown",
   "metadata": {
    "slideshow": {
     "slide_type": "slide"
    }
   },
   "source": [
    "### Média\n",
    "\n",
    "$$\\mu = \\frac{x[0]+x[1]+x[2]+...+x[n-1]}{n} = \\frac{\\displaystyle\\sum_{i = 0}^{n-1}x[i]}{n}$$"
   ]
  },
  {
   "cell_type": "code",
   "execution_count": 2,
   "metadata": {
    "slideshow": {
     "slide_type": "slide"
    }
   },
   "outputs": [
    {
     "name": "stdout",
     "output_type": "stream",
     "text": [
      "3.957142857142857\n"
     ]
    }
   ],
   "source": [
    "import numpy as np\n",
    "\n",
    "x = np.array([1.2, 1.7, -0.6, 9, 5.3, 9.2, 1.9])\n",
    "\n",
    "mediaX = np.mean(x)\n",
    "print(mediaX)"
   ]
  },
  {
   "cell_type": "code",
   "execution_count": 3,
   "metadata": {},
   "outputs": [
    {
     "data": {
      "text/html": [
       "<div>\n",
       "<style scoped>\n",
       "    .dataframe tbody tr th:only-of-type {\n",
       "        vertical-align: middle;\n",
       "    }\n",
       "\n",
       "    .dataframe tbody tr th {\n",
       "        vertical-align: top;\n",
       "    }\n",
       "\n",
       "    .dataframe thead th {\n",
       "        text-align: right;\n",
       "    }\n",
       "</style>\n",
       "<table border=\"1\" class=\"dataframe\">\n",
       "  <thead>\n",
       "    <tr style=\"text-align: right;\">\n",
       "      <th></th>\n",
       "      <th>Produto</th>\n",
       "      <th>Fabricante</th>\n",
       "      <th>Qtd</th>\n",
       "      <th>Medida</th>\n",
       "      <th>Preço</th>\n",
       "      <th>Supermercado</th>\n",
       "      <th>Data</th>\n",
       "    </tr>\n",
       "  </thead>\n",
       "  <tbody>\n",
       "    <tr>\n",
       "      <th>0</th>\n",
       "      <td>Suco</td>\n",
       "      <td>ValeSuco</td>\n",
       "      <td>1</td>\n",
       "      <td>l</td>\n",
       "      <td>3.00</td>\n",
       "      <td>Arpoador</td>\n",
       "      <td>12/05/2011</td>\n",
       "    </tr>\n",
       "    <tr>\n",
       "      <th>1</th>\n",
       "      <td>Suco</td>\n",
       "      <td>Flash</td>\n",
       "      <td>1</td>\n",
       "      <td>l</td>\n",
       "      <td>4.50</td>\n",
       "      <td>Arpoador</td>\n",
       "      <td>18/05/2011</td>\n",
       "    </tr>\n",
       "    <tr>\n",
       "      <th>2</th>\n",
       "      <td>Tomate</td>\n",
       "      <td>-</td>\n",
       "      <td>1</td>\n",
       "      <td>kg</td>\n",
       "      <td>3.50</td>\n",
       "      <td>Noite</td>\n",
       "      <td>14/05/2011</td>\n",
       "    </tr>\n",
       "    <tr>\n",
       "      <th>3</th>\n",
       "      <td>Arroz</td>\n",
       "      <td>Tio José</td>\n",
       "      <td>4</td>\n",
       "      <td>kg</td>\n",
       "      <td>8.64</td>\n",
       "      <td>Noite</td>\n",
       "      <td>14/05/2011</td>\n",
       "    </tr>\n",
       "    <tr>\n",
       "      <th>4</th>\n",
       "      <td>Arroz</td>\n",
       "      <td>Sem Broto</td>\n",
       "      <td>5</td>\n",
       "      <td>kg</td>\n",
       "      <td>9.99</td>\n",
       "      <td>Arpoador</td>\n",
       "      <td>10/06/2011</td>\n",
       "    </tr>\n",
       "    <tr>\n",
       "      <th>5</th>\n",
       "      <td>Arroz</td>\n",
       "      <td>Da TV</td>\n",
       "      <td>1</td>\n",
       "      <td>kg</td>\n",
       "      <td>1.99</td>\n",
       "      <td>Noite</td>\n",
       "      <td>14/06/2011</td>\n",
       "    </tr>\n",
       "    <tr>\n",
       "      <th>6</th>\n",
       "      <td>Feijão</td>\n",
       "      <td>Sem Broto</td>\n",
       "      <td>1</td>\n",
       "      <td>kg</td>\n",
       "      <td>4.00</td>\n",
       "      <td>Arpoador</td>\n",
       "      <td>12/05/2011</td>\n",
       "    </tr>\n",
       "    <tr>\n",
       "      <th>7</th>\n",
       "      <td>Tomate</td>\n",
       "      <td>-</td>\n",
       "      <td>1</td>\n",
       "      <td>kg</td>\n",
       "      <td>2.99</td>\n",
       "      <td>Noite</td>\n",
       "      <td>16/05/2011</td>\n",
       "    </tr>\n",
       "    <tr>\n",
       "      <th>8</th>\n",
       "      <td>Ovo</td>\n",
       "      <td>A Granja</td>\n",
       "      <td>12</td>\n",
       "      <td>u</td>\n",
       "      <td>3.19</td>\n",
       "      <td>Arpoador</td>\n",
       "      <td>12/06/2011</td>\n",
       "    </tr>\n",
       "    <tr>\n",
       "      <th>9</th>\n",
       "      <td>Ovo</td>\n",
       "      <td>Caseiro</td>\n",
       "      <td>6</td>\n",
       "      <td>u</td>\n",
       "      <td>1.45</td>\n",
       "      <td>Noite</td>\n",
       "      <td>14/05/2011</td>\n",
       "    </tr>\n",
       "    <tr>\n",
       "      <th>10</th>\n",
       "      <td>Suco</td>\n",
       "      <td>Flash</td>\n",
       "      <td>1</td>\n",
       "      <td>l</td>\n",
       "      <td>3.99</td>\n",
       "      <td>Noite</td>\n",
       "      <td>21/07/2011</td>\n",
       "    </tr>\n",
       "  </tbody>\n",
       "</table>\n",
       "</div>"
      ],
      "text/plain": [
       "   Produto Fabricante  Qtd Medida  Preço Supermercado        Data\n",
       "0     Suco   ValeSuco    1      l   3.00     Arpoador  12/05/2011\n",
       "1     Suco      Flash    1      l   4.50     Arpoador  18/05/2011\n",
       "2   Tomate         -     1     kg   3.50        Noite  14/05/2011\n",
       "3    Arroz   Tio José    4     kg   8.64        Noite  14/05/2011\n",
       "4    Arroz  Sem Broto    5     kg   9.99     Arpoador  10/06/2011\n",
       "5    Arroz      Da TV    1     kg   1.99        Noite  14/06/2011\n",
       "6   Feijão  Sem Broto    1     kg   4.00     Arpoador  12/05/2011\n",
       "7   Tomate         -     1     kg   2.99        Noite  16/05/2011\n",
       "8      Ovo   A Granja   12      u   3.19     Arpoador  12/06/2011\n",
       "9      Ovo    Caseiro    6      u   1.45        Noite  14/05/2011\n",
       "10    Suco      Flash    1      l   3.99        Noite  21/07/2011"
      ]
     },
     "execution_count": 3,
     "metadata": {},
     "output_type": "execute_result"
    }
   ],
   "source": [
    "import pandas as pd\n",
    "\n",
    "compras = pd.read_csv('dados/compras.csv')\n",
    "compras"
   ]
  },
  {
   "cell_type": "code",
   "execution_count": 8,
   "metadata": {
    "slideshow": {
     "slide_type": "fragment"
    }
   },
   "outputs": [
    {
     "name": "stdout",
     "output_type": "stream",
     "text": [
      "4.294545454545455\n"
     ]
    }
   ],
   "source": [
    "mediaPreco = compras['Preço'].mean()\n",
    "print(mediaPreco)"
   ]
  },
  {
   "cell_type": "code",
   "execution_count": 14,
   "metadata": {
    "slideshow": {
     "slide_type": "fragment"
    }
   },
   "outputs": [
    {
     "name": "stdout",
     "output_type": "stream",
     "text": [
      "3.83\n"
     ]
    }
   ],
   "source": [
    "mediaPrecoSuco = compras[compras['Produto']=='Suco']['Preço'].mean()\n",
    "print(mediaPreco)"
   ]
  },
  {
   "cell_type": "markdown",
   "metadata": {
    "slideshow": {
     "slide_type": "slide"
    }
   },
   "source": [
    "### Mediana"
   ]
  },
  {
   "cell_type": "code",
   "execution_count": 15,
   "metadata": {
    "slideshow": {
     "slide_type": "slide"
    }
   },
   "outputs": [
    {
     "name": "stdout",
     "output_type": "stream",
     "text": [
      "1.9\n"
     ]
    }
   ],
   "source": [
    "import numpy as np\n",
    "\n",
    "x = np.array([1.2, 1.7, -0.6, 9, 5.3, 9.2, 1.9])\n",
    "\n",
    "medianaX = np.median(x)\n",
    "\n",
    "print(medianaX)"
   ]
  },
  {
   "cell_type": "code",
   "execution_count": 16,
   "metadata": {
    "slideshow": {
     "slide_type": "slide"
    }
   },
   "outputs": [
    {
     "name": "stdout",
     "output_type": "stream",
     "text": [
      "3.5\n"
     ]
    }
   ],
   "source": [
    "import pandas as pd\n",
    "\n",
    "compras = pd.read_csv('dados/compras.csv')\n",
    "\n",
    "medianaPreco = compras['Preço'].median()\n",
    "print(medianaPreco)"
   ]
  },
  {
   "cell_type": "code",
   "execution_count": 17,
   "metadata": {},
   "outputs": [
    {
     "name": "stdout",
     "output_type": "stream",
     "text": [
      "8.64\n"
     ]
    }
   ],
   "source": [
    "medianaPrecoArroz = compras[compras['Produto']=='Arroz']['Preço'].median()\n",
    "print(medianaPrecoArroz)"
   ]
  },
  {
   "cell_type": "markdown",
   "metadata": {
    "slideshow": {
     "slide_type": "slide"
    }
   },
   "source": [
    "### Moda"
   ]
  },
  {
   "cell_type": "markdown",
   "metadata": {
    "slideshow": {
     "slide_type": "slide"
    }
   },
   "source": [
    "### Histograma"
   ]
  },
  {
   "cell_type": "code",
   "execution_count": 24,
   "metadata": {
    "slideshow": {
     "slide_type": "slide"
    }
   },
   "outputs": [
    {
     "data": {
      "image/png": "[encoded data removed]",
      "text/plain": [
       "<Figure size 432x288 with 1 Axes>"
      ]
     },
     "metadata": {
      "needs_background": "light"
     },
     "output_type": "display_data"
    }
   ],
   "source": [
    "import matplotlib.pyplot as plt\n",
    "\n",
    "x = np.random.randn(10000)\n",
    "\n",
    "plt.figure()\n",
    "plt.hist(x)\n",
    "plt.show()"
   ]
  },
  {
   "cell_type": "markdown",
   "metadata": {
    "slideshow": {
     "slide_type": "slide"
    }
   },
   "source": [
    "### Desvio Padrão"
   ]
  },
  {
   "cell_type": "markdown",
   "metadata": {
    "slideshow": {
     "slide_type": "slide"
    }
   },
   "source": [
    "### Variância"
   ]
  },
  {
   "cell_type": "markdown",
   "metadata": {
    "slideshow": {
     "slide_type": "slide"
    }
   },
   "source": [
    "### Tarefa (para agora)"
   ]
  },
  {
   "cell_type": "markdown",
   "metadata": {
    "slideshow": {
     "slide_type": "slide"
    }
   },
   "source": [
    "### Tarefa (para antes da próxima aula)"
   ]
  },
  {
   "cell_type": "markdown",
   "metadata": {
    "slideshow": {
     "slide_type": "slide"
    }
   },
   "source": [
    "### Referências\n",
    "\n",
    "- Chalco, JM, *Slides de Bases Computacionais da Ciência*, (2014)\n",
    "- Leite, S, *Slides de Bases Computacionais da Ciência*, (2018)\n",
    "- [Marietto, MGB et al.; **Bases computacionais da Ciência** (2013)](http://prograd.ufabc.edu.br/images/pdf/bases_computacionais_livro.pdf)."
   ]
  }
 ],
 "metadata": {
  "celltoolbar": "Slideshow",
  "kernelspec": {
   "display_name": "Python 3",
   "language": "python",
   "name": "python3"
  },
  "language_info": {
   "codemirror_mode": {
    "name": "ipython",
    "version": 3
   },
   "file_extension": ".py",
   "mimetype": "text/x-python",
   "name": "python",
   "nbconvert_exporter": "python",
   "pygments_lexer": "ipython3",
   "version": "3.6.6"
  },
  "latex_envs": {
   "LaTeX_envs_menu_present": true,
   "autoclose": false,
   "autocomplete": true,
   "bibliofile": "biblio.bib",
   "cite_by": "apalike",
   "current_citInitial": 1,
   "eqLabelWithNumbers": true,
   "eqNumInitial": 1,
   "hotkeys": {
    "equation": "Ctrl-E",
    "itemize": "Ctrl-I"
   },
   "labels_anchors": false,
   "latex_user_defs": false,
   "report_style_numbering": false,
   "user_envs_cfg": false
  },
  "nbTranslate": {
   "displayLangs": [
    "*"
   ],
   "hotkey": "alt-t",
   "langInMainMenu": true,
   "sourceLang": "en",
   "targetLang": "fr",
   "useGoogleTranslate": true
  }
 },
 "nbformat": 4,
 "nbformat_minor": 2
}
