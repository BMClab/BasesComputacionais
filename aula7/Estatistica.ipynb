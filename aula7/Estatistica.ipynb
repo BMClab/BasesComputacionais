{
 "cells": [
  {
   "cell_type": "markdown",
   "metadata": {
    "slideshow": {
     "slide_type": "slide"
    }
   },
   "source": [
    "# Noções de Estatística\n",
    "\n",
    "Renato Naville Watanabe"
   ]
  },
  {
   "cell_type": "markdown",
   "metadata": {
    "slideshow": {
     "slide_type": "slide"
    }
   },
   "source": [
    "### Estatística\n",
    "\n",
    "A análise estatística pode ser dividida em duas áreas:\n",
    "\n",
    "- 1) **Estatística descritiva**: Esta interessada na redução, análise e\n",
    "interpretação dos dados. Pode incluir a construção de gráficos,\n",
    "tabelas, e computação de várias medidas:medidas de tendência\n",
    "central (ex. a média), de dispersão (ex. a variância), de\n",
    "frequência (ex. percentagem), etc.\n",
    "    + Gráfico com a distribuição da idade dos ingressantes nos bacharelados interdisciplinares da UFABC. "
   ]
  },
  {
   "cell_type": "markdown",
   "metadata": {
    "slideshow": {
     "slide_type": "fragment"
    }
   },
   "source": [
    "- 2) **Estatística indutiva / inferencial**: Voltada a realizar\n",
    "estimativas a partir de uma amostra ou testar ideias teóricas\n",
    "(hipóteses) com dados experimentais.\n",
    "    + Estimação da porcentagem da população que votará para um determinado candidato em uma eleição, junto com uma margem de erro (“intervalo de confiança”);\n",
    "    "
   ]
  },
  {
   "cell_type": "markdown",
   "metadata": {
    "slideshow": {
     "slide_type": "slide"
    }
   },
   "source": [
    "### Conceitos básicos\n",
    "\n",
    "- **População**: População pode ser definido como o conjunto de elementos que têm em comum uma determinada característica.\n",
    "    + indivíduos com dengue;\n",
    "    + aparelhos de televisão fabricados em uma fábrica;\n",
    "   "
   ]
  },
  {
   "cell_type": "markdown",
   "metadata": {
    "slideshow": {
     "slide_type": "fragment"
    }
   },
   "source": [
    "- **Amostra**: Uma amostra é um subgrupo de uma população, ou seja, é todo subconjunto com menor número de elementos que o conjunto definido como população."
   ]
  },
  {
   "cell_type": "markdown",
   "metadata": {
    "slideshow": {
     "slide_type": "fragment"
    }
   },
   "source": [
    "- **Variáveis**: É toda característica que, observada em uma unidade experimental, pode variar de um indivíduo para outro.\n",
    "    + Exemplos: gênero, cor da pele, altura, idade, salário, nível de hemoglobina no sangue.\n",
    "    + Podem ser divididas em: Qualitativas e Quantitativas"
   ]
  },
  {
   "cell_type": "markdown",
   "metadata": {
    "slideshow": {
     "slide_type": "slide"
    }
   },
   "source": [
    "### Tipos de variáveis\n",
    "\n",
    "- Qualitativas:\n",
    "    + **Nominal**: Uma categoria se diferencia da outra somente pela denominação que recebem. Ex.: gênero feminino ou masculino, estado civil, nacionalidade.\n",
    "    + **Ordinal**: É possível reconhecer graus de intensidade entre as categorias. Ex.: nível sócio-econômico (baixo, médio, alto), avaliação de um serviço (ruim, regular, bom)."
   ]
  },
  {
   "cell_type": "markdown",
   "metadata": {
    "slideshow": {
     "slide_type": "fragment"
    }
   },
   "source": [
    "- Quantitativas:\n",
    "    + **Discretas**: São aquelas em que os dados somente podem apresentar determinados valores, em geral, números inteiros.\n",
    "    Ex.: número de filhos, número de baixas hospitalares.\n",
    "    + **Contínuas**: Aquelas cujos dados somente podem apresentar qualquer valor dentro de um intervalo de variação possível. \n",
    "    Ex.: altura, peso, níveis de hemoglobina no sangue."
   ]
  },
  {
   "cell_type": "markdown",
   "metadata": {
    "slideshow": {
     "slide_type": "slide"
    }
   },
   "source": [
    "### Medidas estatísticas\n",
    "\n",
    "É conveniente dispor de medidas que informem sobre a amostra de maneira mais resumida do que os dados brutos são capazes de fazer. Dão uma visão global dos dados, podendo ser:\n",
    "\n",
    "- **Tendência central**: São aquelas que produzem um valor em torno do qual os dados observados se distribuem, e que visam sintetizar em um único número o conjunto de dados.\n",
    "    Ex: Média aritmética, Mediana e Moda.\n",
    "- **Dispersão**: É a variabilidade que os dados apresentam entre si.\n",
    "    Ex: Variância e Desvio-padrão."
   ]
  },
  {
   "cell_type": "markdown",
   "metadata": {
    "slideshow": {
     "slide_type": "slide"
    }
   },
   "source": [
    "### Média\n",
    "\n",
    "É a medida de tendência central mais conhecida e usada. É definida com a somatória de todas as amostras e a divisão pelo número de elementos. Normalmente é representada pela letra grega $\\mu$ ou ccom uma barra em cima do nome da variável ($\\bar{x}$).\n",
    "\n",
    "$$\\mu_x = \\frac{x[0]+x[1]+x[2]+...+x[N-1]}{N} = \\frac{\\displaystyle\\sum_{i = 0}^{N-1}x[i]}{N}$$"
   ]
  },
  {
   "cell_type": "code",
   "execution_count": 96,
   "metadata": {
    "slideshow": {
     "slide_type": "slide"
    }
   },
   "outputs": [
    {
     "name": "stdout",
     "output_type": "stream",
     "text": [
      "3.957142857142857\n"
     ]
    }
   ],
   "source": [
    "import numpy as np\n",
    "\n",
    "x = np.array([1.2, 1.7, -0.6, 9, 5.3, 9.2, 1.9])\n",
    "mediaX = np.mean(x)\n",
    "print(mediaX)"
   ]
  },
  {
   "cell_type": "code",
   "execution_count": 97,
   "metadata": {},
   "outputs": [
    {
     "data": {
      "text/html": [
       "<div>\n",
       "<style scoped>\n",
       "    .dataframe tbody tr th:only-of-type {\n",
       "        vertical-align: middle;\n",
       "    }\n",
       "\n",
       "    .dataframe tbody tr th {\n",
       "        vertical-align: top;\n",
       "    }\n",
       "\n",
       "    .dataframe thead th {\n",
       "        text-align: right;\n",
       "    }\n",
       "</style>\n",
       "<table border=\"1\" class=\"dataframe\">\n",
       "  <thead>\n",
       "    <tr style=\"text-align: right;\">\n",
       "      <th></th>\n",
       "      <th>Produto</th>\n",
       "      <th>Fabricante</th>\n",
       "      <th>Qtd</th>\n",
       "      <th>Medida</th>\n",
       "      <th>Preço</th>\n",
       "      <th>Supermercado</th>\n",
       "      <th>Data</th>\n",
       "    </tr>\n",
       "  </thead>\n",
       "  <tbody>\n",
       "    <tr>\n",
       "      <th>0</th>\n",
       "      <td>Suco</td>\n",
       "      <td>ValeSuco</td>\n",
       "      <td>1</td>\n",
       "      <td>l</td>\n",
       "      <td>3.00</td>\n",
       "      <td>Arpoador</td>\n",
       "      <td>12/05/2011</td>\n",
       "    </tr>\n",
       "    <tr>\n",
       "      <th>1</th>\n",
       "      <td>Suco</td>\n",
       "      <td>Flash</td>\n",
       "      <td>1</td>\n",
       "      <td>l</td>\n",
       "      <td>4.50</td>\n",
       "      <td>Arpoador</td>\n",
       "      <td>18/05/2011</td>\n",
       "    </tr>\n",
       "    <tr>\n",
       "      <th>2</th>\n",
       "      <td>Tomate</td>\n",
       "      <td>-</td>\n",
       "      <td>1</td>\n",
       "      <td>kg</td>\n",
       "      <td>3.50</td>\n",
       "      <td>Noite</td>\n",
       "      <td>14/05/2011</td>\n",
       "    </tr>\n",
       "    <tr>\n",
       "      <th>3</th>\n",
       "      <td>Arroz</td>\n",
       "      <td>Tio José</td>\n",
       "      <td>4</td>\n",
       "      <td>kg</td>\n",
       "      <td>8.64</td>\n",
       "      <td>Noite</td>\n",
       "      <td>14/05/2011</td>\n",
       "    </tr>\n",
       "    <tr>\n",
       "      <th>4</th>\n",
       "      <td>Arroz</td>\n",
       "      <td>Sem Broto</td>\n",
       "      <td>5</td>\n",
       "      <td>kg</td>\n",
       "      <td>9.99</td>\n",
       "      <td>Arpoador</td>\n",
       "      <td>10/06/2011</td>\n",
       "    </tr>\n",
       "    <tr>\n",
       "      <th>5</th>\n",
       "      <td>Arroz</td>\n",
       "      <td>Da TV</td>\n",
       "      <td>1</td>\n",
       "      <td>kg</td>\n",
       "      <td>1.99</td>\n",
       "      <td>Noite</td>\n",
       "      <td>14/06/2011</td>\n",
       "    </tr>\n",
       "    <tr>\n",
       "      <th>6</th>\n",
       "      <td>Feijão</td>\n",
       "      <td>Sem Broto</td>\n",
       "      <td>1</td>\n",
       "      <td>kg</td>\n",
       "      <td>4.00</td>\n",
       "      <td>Arpoador</td>\n",
       "      <td>12/05/2011</td>\n",
       "    </tr>\n",
       "    <tr>\n",
       "      <th>7</th>\n",
       "      <td>Tomate</td>\n",
       "      <td>-</td>\n",
       "      <td>1</td>\n",
       "      <td>kg</td>\n",
       "      <td>2.99</td>\n",
       "      <td>Noite</td>\n",
       "      <td>16/05/2011</td>\n",
       "    </tr>\n",
       "    <tr>\n",
       "      <th>8</th>\n",
       "      <td>Ovo</td>\n",
       "      <td>A Granja</td>\n",
       "      <td>12</td>\n",
       "      <td>u</td>\n",
       "      <td>3.19</td>\n",
       "      <td>Arpoador</td>\n",
       "      <td>12/06/2011</td>\n",
       "    </tr>\n",
       "    <tr>\n",
       "      <th>9</th>\n",
       "      <td>Ovo</td>\n",
       "      <td>Caseiro</td>\n",
       "      <td>6</td>\n",
       "      <td>u</td>\n",
       "      <td>1.45</td>\n",
       "      <td>Noite</td>\n",
       "      <td>14/05/2011</td>\n",
       "    </tr>\n",
       "    <tr>\n",
       "      <th>10</th>\n",
       "      <td>Suco</td>\n",
       "      <td>Flash</td>\n",
       "      <td>1</td>\n",
       "      <td>l</td>\n",
       "      <td>3.99</td>\n",
       "      <td>Noite</td>\n",
       "      <td>21/07/2011</td>\n",
       "    </tr>\n",
       "  </tbody>\n",
       "</table>\n",
       "</div>"
      ],
      "text/plain": [
       "   Produto Fabricante  Qtd Medida  Preço Supermercado        Data\n",
       "0     Suco   ValeSuco    1      l   3.00     Arpoador  12/05/2011\n",
       "1     Suco      Flash    1      l   4.50     Arpoador  18/05/2011\n",
       "2   Tomate         -     1     kg   3.50        Noite  14/05/2011\n",
       "3    Arroz   Tio José    4     kg   8.64        Noite  14/05/2011\n",
       "4    Arroz  Sem Broto    5     kg   9.99     Arpoador  10/06/2011\n",
       "5    Arroz      Da TV    1     kg   1.99        Noite  14/06/2011\n",
       "6   Feijão  Sem Broto    1     kg   4.00     Arpoador  12/05/2011\n",
       "7   Tomate         -     1     kg   2.99        Noite  16/05/2011\n",
       "8      Ovo   A Granja   12      u   3.19     Arpoador  12/06/2011\n",
       "9      Ovo    Caseiro    6      u   1.45        Noite  14/05/2011\n",
       "10    Suco      Flash    1      l   3.99        Noite  21/07/2011"
      ]
     },
     "execution_count": 97,
     "metadata": {},
     "output_type": "execute_result"
    }
   ],
   "source": [
    "import pandas as pd\n",
    "\n",
    "compras = pd.read_csv('dados/compras.csv')\n",
    "compras"
   ]
  },
  {
   "cell_type": "code",
   "execution_count": 68,
   "metadata": {
    "slideshow": {
     "slide_type": "fragment"
    }
   },
   "outputs": [
    {
     "name": "stdout",
     "output_type": "stream",
     "text": [
      "4.294545454545455\n"
     ]
    }
   ],
   "source": [
    "mediaPreco = compras['Preço'].mean()\n",
    "print(mediaPreco)"
   ]
  },
  {
   "cell_type": "code",
   "execution_count": 133,
   "metadata": {
    "slideshow": {
     "slide_type": "fragment"
    }
   },
   "outputs": [
    {
     "name": "stdout",
     "output_type": "stream",
     "text": [
      "6.873333333333334\n"
     ]
    }
   ],
   "source": [
    "mediaPrecoArroz = compras[compras['Produto']=='Arroz']['Preço'].mean()\n",
    "print(mediaPrecoArroz)"
   ]
  },
  {
   "cell_type": "markdown",
   "metadata": {
    "slideshow": {
     "slide_type": "slide"
    }
   },
   "source": [
    "### Mediana\n",
    "\n",
    "É definida como o valor que divide as amostras na metade. É necessário que as amostras estejam ordenadas.\n",
    "\n",
    "Por exemplo, no caso do vetor abaixo:"
   ]
  },
  {
   "cell_type": "code",
   "execution_count": 70,
   "metadata": {
    "slideshow": {
     "slide_type": "fragment"
    }
   },
   "outputs": [],
   "source": [
    "import numpy as np\n",
    "\n",
    "x = np.array([1.2, 1.7, -0.6, 9, 5.3, 9.2, 1.9])"
   ]
  },
  {
   "cell_type": "markdown",
   "metadata": {
    "slideshow": {
     "slide_type": "fragment"
    }
   },
   "source": [
    "Ordenando: "
   ]
  },
  {
   "cell_type": "code",
   "execution_count": 72,
   "metadata": {
    "slideshow": {
     "slide_type": "fragment"
    }
   },
   "outputs": [
    {
     "name": "stdout",
     "output_type": "stream",
     "text": [
      "[-0.6  1.2  1.7  1.9  5.3  9.   9.2]\n"
     ]
    }
   ],
   "source": [
    "print(np.sort(x))"
   ]
  },
  {
   "cell_type": "markdown",
   "metadata": {
    "slideshow": {
     "slide_type": "fragment"
    }
   },
   "source": [
    "O número que divide as amostras em dois é o 1.9 (três elementos à esquerda e três elementos à direita).\n",
    "\n",
    "Isso é possível fazer com o comando 'np.median()'."
   ]
  },
  {
   "cell_type": "code",
   "execution_count": 74,
   "metadata": {
    "slideshow": {
     "slide_type": "fragment"
    }
   },
   "outputs": [
    {
     "name": "stdout",
     "output_type": "stream",
     "text": [
      "1.9\n"
     ]
    }
   ],
   "source": [
    "medianaX = np.median(x)\n",
    "\n",
    "print(medianaX)"
   ]
  },
  {
   "cell_type": "markdown",
   "metadata": {
    "slideshow": {
     "slide_type": "slide"
    }
   },
   "source": [
    "Se o número de amostras for par, a mediana é a média dos dois elementos centrais."
   ]
  },
  {
   "cell_type": "code",
   "execution_count": 76,
   "metadata": {
    "slideshow": {
     "slide_type": "fragment"
    }
   },
   "outputs": [
    {
     "name": "stdout",
     "output_type": "stream",
     "text": [
      "[-3.2 -0.6  1.2  1.7  1.9  5.3  9.   9.2]\n"
     ]
    }
   ],
   "source": [
    "x = np.array([1.2, 1.7, -0.6, 9, 5.3,-3.2, 9.2, 1.9])\n",
    "\n",
    "print(np.sort(x))"
   ]
  },
  {
   "cell_type": "markdown",
   "metadata": {
    "slideshow": {
     "slide_type": "fragment"
    }
   },
   "source": [
    "A mediana será a média entre 1.7 e 1.9 (1.8)."
   ]
  },
  {
   "cell_type": "code",
   "execution_count": 78,
   "metadata": {
    "slideshow": {
     "slide_type": "fragment"
    }
   },
   "outputs": [
    {
     "name": "stdout",
     "output_type": "stream",
     "text": [
      "1.7999999999999998\n"
     ]
    }
   ],
   "source": [
    "medianaX = np.median(x)\n",
    "print(medianaX)"
   ]
  },
  {
   "cell_type": "markdown",
   "metadata": {
    "slideshow": {
     "slide_type": "slide"
    }
   },
   "source": [
    "É possível calcular a mediana de um DataFrame do Pandas."
   ]
  },
  {
   "cell_type": "code",
   "execution_count": 79,
   "metadata": {
    "slideshow": {
     "slide_type": "fragment"
    }
   },
   "outputs": [],
   "source": [
    "import pandas as pd\n",
    "compras = pd.read_csv('dados/compras.csv')"
   ]
  },
  {
   "cell_type": "markdown",
   "metadata": {
    "slideshow": {
     "slide_type": "fragment"
    }
   },
   "source": [
    "Para calcular a mediana de uma coluna, basta acrescentar '.median()' após a chamada da coluna. Por exemplo, para calcular a mediana da coluna 'Preços':"
   ]
  },
  {
   "cell_type": "code",
   "execution_count": 80,
   "metadata": {
    "slideshow": {
     "slide_type": "fragment"
    }
   },
   "outputs": [
    {
     "name": "stdout",
     "output_type": "stream",
     "text": [
      "3.5\n"
     ]
    }
   ],
   "source": [
    "medianaPreco = compras['Preço'].median()\n",
    "print(medianaPreco)"
   ]
  },
  {
   "cell_type": "markdown",
   "metadata": {
    "slideshow": {
     "slide_type": "fragment"
    }
   },
   "source": [
    "Um outro exemplo, para calcular a mediana da coluna 'Preços' nos itens em que a coluna 'Produto' seja 'Arroz':"
   ]
  },
  {
   "cell_type": "code",
   "execution_count": 162,
   "metadata": {
    "slideshow": {
     "slide_type": "fragment"
    }
   },
   "outputs": [
    {
     "name": "stdout",
     "output_type": "stream",
     "text": [
      "8.64\n"
     ]
    }
   ],
   "source": [
    "medianaPrecoArroz = compras[compras['Produto']=='Arroz']['Preço'].median()\n",
    "print(medianaPrecoArroz)"
   ]
  },
  {
   "cell_type": "markdown",
   "metadata": {
    "slideshow": {
     "slide_type": "slide"
    }
   },
   "source": [
    "### Quando não usar a média\n",
    "\n",
    "Quando temos valores que distoam muito da maioria (esses pontos são conhecidos como 'outliers'). \n",
    "\n",
    "Por exemplo, se tivermos os seguintes valores:"
   ]
  },
  {
   "cell_type": "code",
   "execution_count": 174,
   "metadata": {
    "slideshow": {
     "slide_type": "fragment"
    }
   },
   "outputs": [],
   "source": [
    "x = np.array([-2.5, -4.3, -7.1, -6.2, -4.1, 0.2])"
   ]
  },
  {
   "cell_type": "markdown",
   "metadata": {
    "slideshow": {
     "slide_type": "fragment"
    }
   },
   "source": [
    "A média e a mediana são muito próximas uma da outra. Qualquer uma das medidas poderiam ser utilizadas como medida de tendência central."
   ]
  },
  {
   "cell_type": "code",
   "execution_count": 179,
   "metadata": {
    "slideshow": {
     "slide_type": "fragment"
    }
   },
   "outputs": [
    {
     "name": "stdout",
     "output_type": "stream",
     "text": [
      "Média de x é  11.614285714285714\n",
      "Mediana de x é -4.1\n"
     ]
    }
   ],
   "source": [
    "print('Média de x é ', np.mean(x))\n",
    "print('Mediana de x é', np.median(x))"
   ]
  },
  {
   "cell_type": "markdown",
   "metadata": {
    "slideshow": {
     "slide_type": "fragment"
    }
   },
   "source": [
    "Agora, acrescentando um valor muito diferente do resto do conjunto:"
   ]
  },
  {
   "cell_type": "code",
   "execution_count": 177,
   "metadata": {
    "slideshow": {
     "slide_type": "fragment"
    }
   },
   "outputs": [],
   "source": [
    "x = np.array([-2.5, -4.3, -7.1, -6.2, -4.1, 0.2, 105.3])"
   ]
  },
  {
   "cell_type": "markdown",
   "metadata": {
    "slideshow": {
     "slide_type": "fragment"
    }
   },
   "source": [
    "A média e a mediana são valores muito diferentes. Nesse caso, a média não é representativa do conjunto enquanto a mediana é."
   ]
  },
  {
   "cell_type": "code",
   "execution_count": 178,
   "metadata": {
    "slideshow": {
     "slide_type": "fragment"
    }
   },
   "outputs": [
    {
     "name": "stdout",
     "output_type": "stream",
     "text": [
      "Média de x é  11.614285714285714\n",
      "Mediana de x é -4.1\n"
     ]
    }
   ],
   "source": [
    "print('Média de x é ', np.mean(x))\n",
    "print('Mediana de x é', np.median(x))"
   ]
  },
  {
   "cell_type": "markdown",
   "metadata": {
    "slideshow": {
     "slide_type": "slide"
    }
   },
   "source": [
    "### Moda\n",
    "\n",
    "É o elemento mais comum entre as amostras. É a única medida de tendência central que pode ser usada em variáveis qualitativas.\n"
   ]
  },
  {
   "cell_type": "markdown",
   "metadata": {
    "slideshow": {
     "slide_type": "fragment"
    }
   },
   "source": [
    "Não existe um comando específico para calcular a moda de uma coluna de um DataFrame do Pandas. Mas a moda de uma coluna pode ser calculada acrescentando 'value_counts().index[0]' após a coluna. Por exemplo, para calcular a moda da coluna 'Produto':"
   ]
  },
  {
   "cell_type": "code",
   "execution_count": 95,
   "metadata": {
    "slideshow": {
     "slide_type": "fragment"
    }
   },
   "outputs": [
    {
     "data": {
      "text/plain": [
       "'Arroz'"
      ]
     },
     "execution_count": 95,
     "metadata": {},
     "output_type": "execute_result"
    }
   ],
   "source": [
    "compras['Produto'].value_counts().index[0]"
   ]
  },
  {
   "cell_type": "markdown",
   "metadata": {
    "slideshow": {
     "slide_type": "slide"
    }
   },
   "source": [
    "### Histograma"
   ]
  },
  {
   "cell_type": "code",
   "execution_count": 191,
   "metadata": {
    "slideshow": {
     "slide_type": "fragment"
    }
   },
   "outputs": [
    {
     "data": {
      "image/png": "[encoded data removed]",
      "text/plain": [
       "<Figure size 432x288 with 1 Axes>"
      ]
     },
     "metadata": {
      "needs_background": "light"
     },
     "output_type": "display_data"
    }
   ],
   "source": [
    "import matplotlib.pyplot as plt\n",
    "\n",
    "x = np.random.randn(10000)\n",
    "\n",
    "plt.figure()\n",
    "plt.hist(x)\n",
    "plt.show()"
   ]
  },
  {
   "cell_type": "markdown",
   "metadata": {
    "slideshow": {
     "slide_type": "slide"
    }
   },
   "source": [
    "Outra maneira de construir um histograma é, a partir de um DataFrame do Pandas, adicionar '.plot.hist()'."
   ]
  },
  {
   "cell_type": "code",
   "execution_count": 199,
   "metadata": {
    "slideshow": {
     "slide_type": "fragment"
    }
   },
   "outputs": [
    {
     "data": {
      "text/plain": [
       "<matplotlib.axes._subplots.AxesSubplot at 0x7f53b245feb8>"
      ]
     },
     "execution_count": 199,
     "metadata": {},
     "output_type": "execute_result"
    },
    {
     "data": {
      "image/png": "[encoded data removed]",
      "text/plain": [
       "<Figure size 432x288 with 1 Axes>"
      ]
     },
     "metadata": {
      "needs_background": "light"
     },
     "output_type": "display_data"
    }
   ],
   "source": [
    "df = pd.DataFrame({'valores':x})\n",
    "df['valores'].plot.hist()"
   ]
  },
  {
   "cell_type": "markdown",
   "metadata": {
    "slideshow": {
     "slide_type": "slide"
    }
   },
   "source": [
    "### Medidas de dispersão\n",
    "\n",
    "O processo de trabalhar com dados introduz uma variabilidade nos resultados obtidos,  pois cada individuo de uma amostra vai ter características ligeiramente diferentes. \n",
    "\n",
    "Essa variabilidade é medida através das medidas de dispersão.\n",
    "\n",
    "Dentre as medidas de dispersão tem-se:\n",
    "\n",
    "- **Variância**\n",
    "- **Desvio-padrão**"
   ]
  },
  {
   "cell_type": "markdown",
   "metadata": {
    "slideshow": {
     "slide_type": "slide"
    }
   },
   "source": [
    "### Variância\n",
    "\n",
    "Variância é definida como a somatória dos desvios da média elevados ao quadrado dividia pelo número de elementos menos um.\n",
    "\n",
    "Exemplo:\n",
    "\n",
    "$$\n",
    "\\begin{array}{|c|c|c|}\n",
    "    \\hline\n",
    "    \\text{Valores de } x&\\text{Desvio } (x - \\mu_x)&\\text{Desvio ao quadrado } (x-\\mu_x)^2\\\\\n",
    "    \\hline\n",
    "    0&-0.5&0.25\\\\\n",
    "    5&4.5&20.25\\\\\n",
    "    8&7.5&56.25\\\\\n",
    "    -2&-2.5&6.25\\\\\n",
    "    -10&-10.5&110.25\\\\\n",
    "    2&1.5&2.25\\\\\n",
    "    \\hline\n",
    "    \\hline \n",
    "    \\mu_x = 0.5&\\displaystyle\\sum (x-\\mu_x) = 0&\\displaystyle\\sum (x-\\mu_x)^2 = 195.5\\\\\n",
    "    \\hline\n",
    "\\end{array}\n",
    "$$\n",
    "\n",
    "Observe que a soma dos desvios é igual a zero. Isso aconteceu pelo cancelamento que os desvios negativos causam nos desvios positivos. Por isso a necessidade de elevar ao quadrado para ter uma real medida dos desvios das amostras."
   ]
  },
  {
   "cell_type": "code",
   "execution_count": 230,
   "metadata": {
    "slideshow": {
     "slide_type": "slide"
    }
   },
   "outputs": [
    {
     "data": {
      "image/png": "[encoded data removed]",
      "text/plain": [
       "<Figure size 432x288 with 1 Axes>"
      ]
     },
     "metadata": {
      "needs_background": "light"
     },
     "output_type": "display_data"
    }
   ],
   "source": [
    "import numpy as np\n",
    "import pandas as pd\n",
    "\n",
    "\n",
    "x = np.array([0,5,8,-2,-10,2])\n",
    "mediaX = np.mean(x)\n",
    "\n",
    "plt.figure()\n",
    "plt.plot(np.linspace(0,5,6), x, marker = 'o', linestyle = '', label='amostras')\n",
    "plt.plot(np.linspace(0,5,6), mediaX*np.ones((6)), marker = '', \n",
    "         linestyle = '-', color = 'r', label='média')\n",
    "plt.legend()\n",
    "plt.show()"
   ]
  },
  {
   "cell_type": "markdown",
   "metadata": {
    "slideshow": {
     "slide_type": "fragment"
    }
   },
   "source": [
    "Então, a expressão da variância, representada por $\\sigma^2$, é:\n",
    "\n",
    "$$\\sigma^2 = \\frac{\\displaystyle\\sum_{i=0}^{N-1}(x-\\mu)^2}{N-1} $$"
   ]
  },
  {
   "cell_type": "code",
   "execution_count": 231,
   "metadata": {
    "slideshow": {
     "slide_type": "slide"
    }
   },
   "outputs": [
    {
     "data": {
      "text/html": [
       "<div>\n",
       "<style scoped>\n",
       "    .dataframe tbody tr th:only-of-type {\n",
       "        vertical-align: middle;\n",
       "    }\n",
       "\n",
       "    .dataframe tbody tr th {\n",
       "        vertical-align: top;\n",
       "    }\n",
       "\n",
       "    .dataframe thead th {\n",
       "        text-align: right;\n",
       "    }\n",
       "</style>\n",
       "<table border=\"1\" class=\"dataframe\">\n",
       "  <thead>\n",
       "    <tr style=\"text-align: right;\">\n",
       "      <th></th>\n",
       "      <th>valores</th>\n",
       "    </tr>\n",
       "  </thead>\n",
       "  <tbody>\n",
       "    <tr>\n",
       "      <th>0</th>\n",
       "      <td>0</td>\n",
       "    </tr>\n",
       "    <tr>\n",
       "      <th>1</th>\n",
       "      <td>5</td>\n",
       "    </tr>\n",
       "    <tr>\n",
       "      <th>2</th>\n",
       "      <td>8</td>\n",
       "    </tr>\n",
       "    <tr>\n",
       "      <th>3</th>\n",
       "      <td>-2</td>\n",
       "    </tr>\n",
       "    <tr>\n",
       "      <th>4</th>\n",
       "      <td>-10</td>\n",
       "    </tr>\n",
       "    <tr>\n",
       "      <th>5</th>\n",
       "      <td>2</td>\n",
       "    </tr>\n",
       "  </tbody>\n",
       "</table>\n",
       "</div>"
      ],
      "text/plain": [
       "   valores\n",
       "0        0\n",
       "1        5\n",
       "2        8\n",
       "3       -2\n",
       "4      -10\n",
       "5        2"
      ]
     },
     "execution_count": 231,
     "metadata": {},
     "output_type": "execute_result"
    }
   ],
   "source": [
    "X = pd.DataFrame({'valores': x})\n",
    "X"
   ]
  },
  {
   "cell_type": "markdown",
   "metadata": {
    "slideshow": {
     "slide_type": "fragment"
    }
   },
   "source": [
    "Para calcular a variância dos valores de uma coluna de um DataFrame do Pandas basta acrescentar '.var()' ao nome da coluna."
   ]
  },
  {
   "cell_type": "code",
   "execution_count": 232,
   "metadata": {
    "slideshow": {
     "slide_type": "fragment"
    }
   },
   "outputs": [
    {
     "data": {
      "text/plain": [
       "39.1"
      ]
     },
     "execution_count": 232,
     "metadata": {},
     "output_type": "execute_result"
    }
   ],
   "source": [
    "X['valores'].var()"
   ]
  },
  {
   "cell_type": "markdown",
   "metadata": {
    "slideshow": {
     "slide_type": "slide"
    }
   },
   "source": [
    "### Desvio-padrão\n",
    "\n",
    "O desvio-padrão é a raiz quadrada da variância.\n",
    "\n",
    "$$\\sigma = \\sqrt{\\frac{\\displaystyle\\sum_{i=0}^{N-1}(x-\\mu)^2}{N-1}}$$\n",
    "\n",
    "A medida mais utilizada para dispersão das amostras é o desvio-padrão, já que ele tem a mesma unidade das amostras (a variância tem a unidade das amostras ao quadrado)."
   ]
  },
  {
   "cell_type": "markdown",
   "metadata": {
    "slideshow": {
     "slide_type": "fragment"
    }
   },
   "source": [
    "Para calcular o desvio-padrão dos valores de uma coluna de um DataFrame do Pandas basta acrescentar '.std()' ao nome da coluna."
   ]
  },
  {
   "cell_type": "code",
   "execution_count": 233,
   "metadata": {
    "slideshow": {
     "slide_type": "fragment"
    }
   },
   "outputs": [
    {
     "data": {
      "text/plain": [
       "6.252999280345393"
      ]
     },
     "execution_count": 233,
     "metadata": {},
     "output_type": "execute_result"
    }
   ],
   "source": [
    "X['valores'].std()"
   ]
  },
  {
   "cell_type": "code",
   "execution_count": 235,
   "metadata": {
    "slideshow": {
     "slide_type": "slide"
    }
   },
   "outputs": [
    {
     "data": {
      "image/png": "[encoded data removed]",
      "text/plain": [
       "<Figure size 432x288 with 1 Axes>"
      ]
     },
     "metadata": {
      "needs_background": "light"
     },
     "output_type": "display_data"
    }
   ],
   "source": [
    "stdX = X['valores'].std()\n",
    "\n",
    "plt.figure()\n",
    "plt.plot(np.linspace(0,5,6), x, marker = 'o', linestyle = '', label='amostras')\n",
    "plt.plot(np.linspace(0,5,6), mediaX*np.ones((6)), marker = '', \n",
    "         linestyle = '-', color = 'r', label='média')\n",
    "plt.plot(np.linspace(0,5,6), (mediaX + stdX)*np.ones((6)), \n",
    "         marker = '', linestyle = '--', color = 'g', label='desvio-padrão')\n",
    "plt.plot(np.linspace(0,5,6), (mediaX - stdX)*np.ones((6)), \n",
    "         marker = '', linestyle = '--', color = 'g')\n",
    "plt.legend()\n",
    "plt.show()"
   ]
  },
  {
   "cell_type": "markdown",
   "metadata": {
    "slideshow": {
     "slide_type": "slide"
    }
   },
   "source": [
    "### Tarefa (para agora)\n",
    "\n",
    "- Escrever um script de Python e executá-lo no Spyder para fazer o que é pedido a seguir.\n",
    "\n",
    "- O script deve estar com comentários explicando as funções do script.\n",
    "\n",
    "- Todos os resultados devem ser mostrados no Console ao executar o script.\n",
    "\n",
    "- Coloque no seu repositório do Github o arquivo '.py' contendo o script feito por você com o nome \"Tarefa13SeuNome.py\".\n",
    "\n",
    "\n",
    "**1)** Para este item você deverá usar o arquivo [com todos os resultados do campeonato Brasileiro de futebol de 2018 (tabelaBrasileirao2018.csv encontrado na pasta aula7/dados)](dados/tabelaBrasileirao2018.csv) (dados obtidos [desta](<https://pt.wikipedia.org/wiki/Resultados_do_Campeonato_Brasileiro_de_Futebol_de_2018_-_S%C3%A9rie_A_(primeiro_turno)>) e [desta](<https://pt.wikipedia.org/wiki/Resultados_do_Campeonato_Brasileiro_de_Futebol_de_2018_-_S%C3%A9rie_A_(segundo_turno)>) página da Wikipedia).\n",
    "\n",
    "\n",
    "- Escolha um time e faça o histograma da distribuição do público nos jogos em que este time foi o mandante.\n",
    "\n",
    "- Calcule qual foi o público médio nos jogos em que o time escolhido foi o mandante."
   ]
  },
  {
   "cell_type": "markdown",
   "metadata": {
    "slideshow": {
     "slide_type": "slide"
    }
   },
   "source": [
    "### Tarefa (para antes da próxima aula)\n",
    "\n",
    "- Escrever um script de Python e executá-lo no Spyder para fazer o que é pedido a seguir.\n",
    "\n",
    "- O script deve estar com comentários explicando as funções do script.\n",
    "\n",
    "- Todos os resultados devem ser mostrados no Console e todos os gráficos devem ser mostrados na tela ao executar o script.\n",
    "\n",
    "- Não se esqueça de indicar o significado de cada eixo, colocando a unidade da abscissa e da ordenada nos gráficos.\n",
    "\n",
    "- Coloque no seu repositório do Github o arquivo '.py' contendo o script feito por você com o nome \"Tarefa14SeuNome.py\"."
   ]
  },
  {
   "cell_type": "markdown",
   "metadata": {
    "slideshow": {
     "slide_type": "slide"
    }
   },
   "source": [
    "**1)** Para este item você deverá usar o arquivo [com dados de força e torque medidos no chão enquanto uma pessoa tenta ficar em pé o mais parada possível durante um minuto](dados/balance.csv).\n",
    "\n",
    "- Faça o gráfico do torque na direção y (My [Nm]) em função do tempo (Time [s]).\n",
    "\n",
    "- Mostre na tela a média e o desvio-padrão do torque na direção y."
   ]
  },
  {
   "cell_type": "markdown",
   "metadata": {
    "slideshow": {
     "slide_type": "slide"
    }
   },
   "source": [
    "**2)**  Para este item você deverá usar o arquivo com a [taxa de inflação mensal (IGP-DI) no Brasil de fevereiro de 1944 a junho de 2019](dados/inflacaoMensal.csv) (dados disponibilizados por Ipeadata). \n",
    "\n",
    "- Calcule a mediana da inflação mensal nos meses de março.\n",
    "\n",
    "- Calcule a média da inflação mensal nos meses de março.\n",
    "\n",
    "- Calcule o desvio-padrão da inflação mensal nos meses de março.\n",
    "\n",
    "- Faça o histograma da inflação mensal nos meses de março.\n"
   ]
  },
  {
   "cell_type": "markdown",
   "metadata": {
    "slideshow": {
     "slide_type": "slide"
    }
   },
   "source": [
    "**3)**  Para este item você deverá usar o arquivo com a [taxa de inflação mensal (IGP-DI) no Brasil de fevereiro de 1944 a junho de 2019](dados/inflacaoMensal.csv) (dados disponibilizados por Ipeadata). \n",
    "\n",
    "- Calcule a mediana da inflação mensal nos meses de março a partir de 1995.\n",
    "\n",
    "- Calcule a média da inflação mensal nos meses de março a partir de 1995.\n",
    "\n",
    "- Calcule o desvio-padrão da inflação mensal nos meses de março a partir de 1995.\n",
    "\n",
    "- Faça o histograma da inflação mensal nos meses de março a partir de 1995.\n",
    "\n",
    "- Coloque um comentário no seu script comentando a razão da diferença entre a média e a mediana ser alta no segundo item e baixa no terceiro item."
   ]
  },
  {
   "cell_type": "markdown",
   "metadata": {
    "slideshow": {
     "slide_type": "slide"
    }
   },
   "source": [
    "**4)** Use o comando 'np.random.rand(N)' para gerar N números aleatórios entre 0 e 1. \n",
    "\n",
    "Faça o histograma e calcule (e mostre na tela) a média dos valores gerados.\n",
    "\n",
    "Faça isso para a) N = 100, N = 1000, c) N = 10000, d) N = 100000"
   ]
  },
  {
   "cell_type": "markdown",
   "metadata": {
    "slideshow": {
     "slide_type": "slide"
    }
   },
   "source": [
    "### Referências\n",
    "\n",
    "- Chalco, JM, *Slides de Bases Computacionais da Ciência*, (2014)\n",
    "- Leite, S, *Slides de Bases Computacionais da Ciência*, (2018)\n",
    "- [Marietto, MGB et al.; **Bases computacionais da Ciência** (2013)](http://prograd.ufabc.edu.br/images/pdf/bases_computacionais_livro.pdf).\n",
    "- [BDS: Balance Data Set](https://github.com/BMClab/datasets/tree/master/Balance)\n",
    "- [Ipeadata](http://www.ipeadata.gov.br)"
   ]
  },
  {
   "cell_type": "code",
   "execution_count": null,
   "metadata": {},
   "outputs": [],
   "source": []
  }
 ],
 "metadata": {
  "celltoolbar": "Slideshow",
  "kernelspec": {
   "display_name": "Python 3",
   "language": "python",
   "name": "python3"
  },
  "language_info": {
   "codemirror_mode": {
    "name": "ipython",
    "version": 3
   },
   "file_extension": ".py",
   "mimetype": "text/x-python",
   "name": "python",
   "nbconvert_exporter": "python",
   "pygments_lexer": "ipython3",
   "version": "3.6.6"
  },
  "latex_envs": {
   "LaTeX_envs_menu_present": true,
   "autoclose": false,
   "autocomplete": true,
   "bibliofile": "biblio.bib",
   "cite_by": "apalike",
   "current_citInitial": 1,
   "eqLabelWithNumbers": true,
   "eqNumInitial": 1,
   "hotkeys": {
    "equation": "Ctrl-E",
    "itemize": "Ctrl-I"
   },
   "labels_anchors": false,
   "latex_user_defs": false,
   "report_style_numbering": false,
   "user_envs_cfg": false
  },
  "nbTranslate": {
   "displayLangs": [
    "*"
   ],
   "hotkey": "alt-t",
   "langInMainMenu": true,
   "sourceLang": "en",
   "targetLang": "fr",
   "useGoogleTranslate": true
  }
 },
 "nbformat": 4,
 "nbformat_minor": 2
}
