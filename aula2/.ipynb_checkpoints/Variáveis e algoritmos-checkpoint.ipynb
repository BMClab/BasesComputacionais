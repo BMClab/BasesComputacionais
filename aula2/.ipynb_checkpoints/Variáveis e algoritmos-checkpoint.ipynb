{
 "cells": [
  {
   "cell_type": "markdown",
   "metadata": {
    "slideshow": {
     "slide_type": "slide"
    }
   },
   "source": [
    "# Variáveis e algoritmos\n",
    "\n",
    "Renato Naville Watanabe"
   ]
  },
  {
   "cell_type": "markdown",
   "metadata": {
    "slideshow": {
     "slide_type": "slide"
    }
   },
   "source": [
    "## Algoritmo\n",
    "\n",
    "\n",
    "Sequência lógica de passos executados até atingir um objetivo ou solução de um problema."
   ]
  },
  {
   "cell_type": "markdown",
   "metadata": {
    "slideshow": {
     "slide_type": "fragment"
    }
   },
   "source": [
    "Exemplos de situações onde uma sequência lógica (algoritmo) de passos é necessária:\n",
    "\n",
    "- Fazer um bolo\n",
    "\n",
    "- Construir um robô para explorar um local desconhecido\n",
    "\n",
    "- Trocar uma lâmpada"
   ]
  },
  {
   "cell_type": "markdown",
   "metadata": {
    "slideshow": {
     "slide_type": "fragment"
    }
   },
   "source": [
    "Um **programa** de computador é a realização (ou implementação) de um **algoritmo** em um computador específico."
   ]
  },
  {
   "cell_type": "markdown",
   "metadata": {
    "slideshow": {
     "slide_type": "slide"
    }
   },
   "source": [
    "## Ferramentas de computação científica\n",
    "\n",
    "Existem diversas ferramentas para utilizadas em calculos matemáticos avançados.\n",
    "- Matlab\n",
    "- Mathematica\n",
    "- Octave\n",
    "- Scilab\n",
    "- R\n",
    "- [**Python**](https://nbviewer.jupyter.org/github/BMClab/bmc/blob/master/notebooks/PT-BR/PythonForScientificComputing_PT-BR.ipynb)\n",
    "- Fortran\n",
    "- Julia\n",
    "\n",
    "Geralmente contam com bibliotecas de funções matemáticas prontas e recursos avançados."
   ]
  },
  {
   "cell_type": "markdown",
   "metadata": {
    "slideshow": {
     "slide_type": "slide"
    }
   },
   "source": [
    "## Spyder \n",
    "Ambiente de programação Python que permite a criação de novas funções/bibliotecas do usuário.\n",
    "\n",
    "<img src=\"imagens/spyder.png\" width=\"500\">\n",
    "\n",
    "O Spyder pode ser obtido com o pacote [Anaconda](https://www.anaconda.com/distribution/). A versão Python usada neste curso é a 3.x (no momento de escrita do curso versão 3.7)."
   ]
  },
  {
   "cell_type": "markdown",
   "metadata": {
    "slideshow": {
     "slide_type": "slide"
    }
   },
   "source": [
    "## Spyder\n",
    "\n",
    "A interação do usuário com o Spyder pode ocorrer de duas formas distintas:\n",
    "\n",
    "- Na **primeira forma**, os comando são digitados diretamente no *console* do Spyder:\n",
    "    + Ao ser pressionada a tecla Enter, os comandos digitados são interpretados e imediatamente executados.\n",
    "    + O Spyder (Python) funciona como uma  calculadora sofisticada.\n",
    "\n",
    "- Na **segunda forma**, um conjunto de comandos é digitado em um arquivo texto:\n",
    "    + Este arquivo  (script) pode ser  executado.\n",
    "    + Neste modo, o Spyder funciona como um ambiente de programação."
   ]
  },
  {
   "cell_type": "markdown",
   "metadata": {
    "slideshow": {
     "slide_type": "slide"
    }
   },
   "source": [
    "## Spyder\n",
    "\n",
    "Digitando o seguinte comando no console:"
   ]
  },
  {
   "cell_type": "code",
   "execution_count": 11,
   "metadata": {
    "slideshow": {
     "slide_type": "fragment"
    }
   },
   "outputs": [],
   "source": [
    "x = 2"
   ]
  },
  {
   "cell_type": "markdown",
   "metadata": {
    "slideshow": {
     "slide_type": "fragment"
    }
   },
   "source": [
    "estaremos criando uma variável real chamada $x$ cujo valor é igual a 2."
   ]
  },
  {
   "cell_type": "markdown",
   "metadata": {
    "slideshow": {
     "slide_type": "slide"
    }
   },
   "source": [
    "## Variável\n",
    "\n",
    "Uma variável é um endereço da memória de acesso randômico (RAM), representada por um nome \n",
    "(rótulo), criado pelo usuário, cujo conteúdo pode se alterar no decorrer do programa.\n",
    "\n",
    "Uma variável é composta por dois elementos:\n",
    "    \n",
    "  - **Identificador**: nome dado pelo programador à variável\n",
    "  - **Conteúdo**: valor da variável\n",
    "<img src=\"imagens/memvar2.png\" width=\"400\">\n",
    "\n",
    "No caso anterior, x é o identificador (nome da variável) e 2 é o conteúdo (valor)."
   ]
  },
  {
   "cell_type": "markdown",
   "metadata": {
    "slideshow": {
     "slide_type": "slide"
    }
   },
   "source": [
    "## Variável\n",
    "\n",
    "Cada vez que mencionarmos o nome de uma variável, estaremos na verdade utilizando o seu conteúdo"
   ]
  },
  {
   "cell_type": "code",
   "execution_count": 2,
   "metadata": {
    "slideshow": {
     "slide_type": "fragment"
    }
   },
   "outputs": [
    {
     "data": {
      "text/plain": [
       "7"
      ]
     },
     "execution_count": 2,
     "metadata": {},
     "output_type": "execute_result"
    }
   ],
   "source": [
    "y = x + 5\n",
    "y"
   ]
  },
  {
   "cell_type": "markdown",
   "metadata": {
    "slideshow": {
     "slide_type": "fragment"
    }
   },
   "source": [
    "Esta operação define $y$ como sendo uma variável com valor igual ao valor de $x$ **mais** (+) cinco. Ou seja, $y$ tem um valor igual a 7"
   ]
  },
  {
   "cell_type": "code",
   "execution_count": 3,
   "metadata": {
    "slideshow": {
     "slide_type": "fragment"
    }
   },
   "outputs": [
    {
     "data": {
      "text/plain": [
       "14"
      ]
     },
     "execution_count": 3,
     "metadata": {},
     "output_type": "execute_result"
    }
   ],
   "source": [
    "z = x*y\n",
    "z"
   ]
  },
  {
   "cell_type": "markdown",
   "metadata": {
    "slideshow": {
     "slide_type": "fragment"
    }
   },
   "source": [
    "Neste caso, $z$ é igual à **multiplicação** (\\*) dos valores guardados em $x$ e $y$, ou seja, $z$ é igual a 14."
   ]
  },
  {
   "cell_type": "code",
   "execution_count": 4,
   "metadata": {
    "slideshow": {
     "slide_type": "fragment"
    }
   },
   "outputs": [
    {
     "data": {
      "text/plain": [
       "7.0"
      ]
     },
     "execution_count": 4,
     "metadata": {},
     "output_type": "execute_result"
    }
   ],
   "source": [
    "w = z/x\n",
    "w"
   ]
  },
  {
   "cell_type": "markdown",
   "metadata": {
    "slideshow": {
     "slide_type": "fragment"
    }
   },
   "source": [
    "Aqui, $w$ é igual à **divisão** (/) dos valores guardados em $z$ e $x$, ou seja, $w$\n",
    "é igual a 7."
   ]
  },
  {
   "cell_type": "code",
   "execution_count": 5,
   "metadata": {
    "slideshow": {
     "slide_type": "fragment"
    }
   },
   "outputs": [
    {
     "data": {
      "text/plain": [
       "5.0"
      ]
     },
     "execution_count": 5,
     "metadata": {},
     "output_type": "execute_result"
    }
   ],
   "source": [
    "k = w-x\n",
    "k"
   ]
  },
  {
   "cell_type": "markdown",
   "metadata": {
    "slideshow": {
     "slide_type": "fragment"
    }
   },
   "source": [
    "Aqui, $k$ é igual à **subtração** (-) do valor guardado em $x$ de $w$. Ou seja, $k$\n",
    "é igual a 5."
   ]
  },
  {
   "cell_type": "code",
   "execution_count": 6,
   "metadata": {
    "slideshow": {
     "slide_type": "fragment"
    }
   },
   "outputs": [
    {
     "data": {
      "text/plain": [
       "125.0"
      ]
     },
     "execution_count": 6,
     "metadata": {},
     "output_type": "execute_result"
    }
   ],
   "source": [
    "m = k**3\n",
    "m"
   ]
  },
  {
   "cell_type": "markdown",
   "metadata": {
    "slideshow": {
     "slide_type": "fragment"
    }
   },
   "source": [
    "Aqui, $m$ é igual ao valor guardado em $k$ **elevado** (\\**) ao cubo. Ou seja, $m$ é igual a 125."
   ]
  },
  {
   "cell_type": "code",
   "execution_count": 7,
   "metadata": {
    "slideshow": {
     "slide_type": "fragment"
    }
   },
   "outputs": [
    {
     "data": {
      "text/plain": [
       "1"
      ]
     },
     "execution_count": 7,
     "metadata": {},
     "output_type": "execute_result"
    }
   ],
   "source": [
    "n = 10%3\n",
    "n"
   ]
  },
  {
   "cell_type": "markdown",
   "metadata": {
    "slideshow": {
     "slide_type": "fragment"
    }
   },
   "source": [
    "Neste caso, $n$ tem o valor do **resto** (\\%) da divisão entre 10 e 3."
   ]
  },
  {
   "cell_type": "markdown",
   "metadata": {
    "slideshow": {
     "slide_type": "slide"
    }
   },
   "source": [
    "## O símbolo '=' de designação\n",
    "\n",
    "Em matemática '=' é o símbolo da identidade, mas na programação de computadores '=' é usado para designação. Isso significa que a parte direita da expressão é atribuída à sua parte esquerda. \n",
    "\n",
    "Por exemplo, 'x = x + 1' não faz sentido na matemática, mas na programação de computadores sim:\n",
    "\n"
   ]
  },
  {
   "cell_type": "code",
   "execution_count": 12,
   "metadata": {
    "slideshow": {
     "slide_type": "fragment"
    }
   },
   "outputs": [
    {
     "data": {
      "text/plain": [
       "3"
      ]
     },
     "execution_count": 12,
     "metadata": {},
     "output_type": "execute_result"
    }
   ],
   "source": [
    "x = x + 1\n",
    "x"
   ]
  },
  {
   "cell_type": "markdown",
   "metadata": {
    "slideshow": {
     "slide_type": "slide"
    }
   },
   "source": [
    "## Operações aritméticas básicas\n",
    "\n",
    "Portanto, as operações aritméticas básicas são:\n",
    "\n",
    "- **multiplicação**: \\*\n",
    "- **divisão**: /\n",
    "- **adição**: +\n",
    "- **subtração**: -\n",
    "- **potência**: \\**\n",
    "- **resto**: \\%"
   ]
  },
  {
   "cell_type": "markdown",
   "metadata": {
    "slideshow": {
     "slide_type": "slide"
    }
   },
   "source": [
    "## Ordem de operações\n",
    "\n",
    "Assim como na matemática, em linguagens de programação a multiplicação e a divisão tem precedência sobre soma e subtração.\n",
    "\n",
    "Assim, na operação:\n",
    "\n",
    "$$\\underbrace{\\underbrace{4+\\underbrace{3*4}_{12}}_{16}-2}_{14}$$\n",
    "\n",
    "primeiramente é executada a multiplicação e depois a soma e a subtração na ordem em que elas aparecem."
   ]
  },
  {
   "cell_type": "code",
   "execution_count": 14,
   "metadata": {
    "slideshow": {
     "slide_type": "fragment"
    }
   },
   "outputs": [
    {
     "data": {
      "text/plain": [
       "14"
      ]
     },
     "execution_count": 14,
     "metadata": {},
     "output_type": "execute_result"
    }
   ],
   "source": [
    "4+3*4-2"
   ]
  },
  {
   "cell_type": "markdown",
   "metadata": {
    "slideshow": {
     "slide_type": "slide"
    }
   },
   "source": [
    "A ordem de precedência das operações aritméticas básicas é:\n",
    "\n",
    "- \\** : potência\n",
    "- \\*, /, \\% : multiplicação, divisão e resto\n",
    "- +, - : adição, subtração\n",
    "\n",
    "No caso de operações com a mesma precedência, prevalece a ordem na qual as operações foram escritas."
   ]
  },
  {
   "cell_type": "markdown",
   "metadata": {
    "slideshow": {
     "slide_type": "slide"
    }
   },
   "source": [
    "Uma maneira de mudar a ordem de execução das operações é utilizando parênteses. As operações dentro de parênteses tem precedência:"
   ]
  },
  {
   "cell_type": "code",
   "execution_count": 15,
   "metadata": {
    "slideshow": {
     "slide_type": "fragment"
    }
   },
   "outputs": [
    {
     "data": {
      "text/plain": [
       "26"
      ]
     },
     "execution_count": 15,
     "metadata": {},
     "output_type": "execute_result"
    }
   ],
   "source": [
    "(4+3)*4-2"
   ]
  },
  {
   "cell_type": "markdown",
   "metadata": {
    "slideshow": {
     "slide_type": "slide"
    }
   },
   "source": [
    "## Função\n",
    "\n",
    "- O estudo de funções decorre da necessidade de:\n",
    "    + Analisar fenômenos, visualizando o comportamento de um sistema.\n",
    "    + Interpretar interdependências, entendendo como uma variável comporta-se com relação à outra.\n",
    "    + Encontrar soluções de problemas.\n",
    "    + Descrever regularidades.\n",
    "    + Generalizar."
   ]
  },
  {
   "cell_type": "markdown",
   "metadata": {
    "slideshow": {
     "slide_type": "slide"
    }
   },
   "source": [
    "## Definição de uma função\n",
    "\n",
    "- Uma função é uma regra segundo a qual, para cada elemento $x$ pertencente a um conjunto $A$ corresponde um único elemento $y$ pertencente a um conjunto $B$.\n",
    "\n",
    "$$y = f(x)$$\n",
    "\n",
    "- O conjunto $A$ é chamado domínio da função e o conjunto $B$ é o contra-domínio, ou imagem.\n",
    "\n",
    "\n"
   ]
  },
  {
   "cell_type": "markdown",
   "metadata": {
    "slideshow": {
     "slide_type": "slide"
    }
   },
   "source": [
    "## Representação de uma função\n",
    "\n",
    "- Uma função pode ser representada das seguintes formas: \n",
    "    + **Verbalmente** (descrevendo-a com palavras)\n",
    "    + **Numericamente** (utilizando tabela de valores)\n",
    "    + **Visualmente** (utilizando gráficos)\n",
    "    + **Algebricamente** (utilizando uma fórmula explícita)"
   ]
  },
  {
   "cell_type": "markdown",
   "metadata": {
    "slideshow": {
     "slide_type": "slide"
    }
   },
   "source": [
    "## Funções matemáticas\n",
    "\n",
    "Para usar funções mais complexas, é necessário utilizar a biblioteca Numpy. Para poder utilizar esta biblioteca, é necessário importá-la:"
   ]
  },
  {
   "cell_type": "code",
   "execution_count": 16,
   "metadata": {
    "slideshow": {
     "slide_type": "fragment"
    }
   },
   "outputs": [],
   "source": [
    "import numpy as np"
   ]
  },
  {
   "cell_type": "markdown",
   "metadata": {
    "slideshow": {
     "slide_type": "fragment"
    }
   },
   "source": [
    "Esta biblioteca tem diversas funções que são facilmente utilizadas colocando 'np.' antes da função desejada. Por exemplo, a função logaritmo na base 10 é chamada com: "
   ]
  },
  {
   "cell_type": "code",
   "execution_count": 17,
   "metadata": {
    "slideshow": {
     "slide_type": "fragment"
    }
   },
   "outputs": [
    {
     "data": {
      "text/plain": [
       "1.2041199826559248"
      ]
     },
     "execution_count": 17,
     "metadata": {},
     "output_type": "execute_result"
    }
   ],
   "source": [
    "np.log10(16)"
   ]
  },
  {
   "cell_type": "markdown",
   "metadata": {
    "slideshow": {
     "slide_type": "fragment"
    }
   },
   "source": [
    "Se você quiser guardar o resultado em uma variável também é possível:"
   ]
  },
  {
   "cell_type": "code",
   "execution_count": 18,
   "metadata": {
    "slideshow": {
     "slide_type": "fragment"
    }
   },
   "outputs": [
    {
     "data": {
      "text/plain": [
       "1.2041199826559248"
      ]
     },
     "execution_count": 18,
     "metadata": {},
     "output_type": "execute_result"
    }
   ],
   "source": [
    "a = np.log10(16)\n",
    "a"
   ]
  },
  {
   "cell_type": "markdown",
   "metadata": {
    "slideshow": {
     "slide_type": "fragment"
    }
   },
   "source": [
    "E se quiser calcular o valor da função para uma variável é simples:"
   ]
  },
  {
   "cell_type": "code",
   "execution_count": 19,
   "metadata": {
    "slideshow": {
     "slide_type": "fragment"
    }
   },
   "outputs": [
    {
     "data": {
      "text/plain": [
       "0.69897000433601886"
      ]
     },
     "execution_count": 19,
     "metadata": {},
     "output_type": "execute_result"
    }
   ],
   "source": [
    "b = np.log10(k)\n",
    "b"
   ]
  },
  {
   "cell_type": "markdown",
   "metadata": {
    "slideshow": {
     "slide_type": "slide"
    }
   },
   "source": [
    "## Funções matemáticas\n",
    "\n",
    "Alguns exemplos de funções são:\n"
   ]
  },
  {
   "cell_type": "markdown",
   "metadata": {
    "slideshow": {
     "slide_type": "fragment"
    }
   },
   "source": [
    "**Exponencial**: exp($x$)=$e^x$ em que $e=2,7182...$ "
   ]
  },
  {
   "cell_type": "code",
   "execution_count": 20,
   "metadata": {
    "slideshow": {
     "slide_type": "fragment"
    }
   },
   "outputs": [
    {
     "data": {
      "text/plain": [
       "0.1353352832366127"
      ]
     },
     "execution_count": 20,
     "metadata": {},
     "output_type": "execute_result"
    }
   ],
   "source": [
    "np.exp(-2)"
   ]
  },
  {
   "cell_type": "markdown",
   "metadata": {
    "slideshow": {
     "slide_type": "fragment"
    }
   },
   "source": [
    "**Raiz quadrada**"
   ]
  },
  {
   "cell_type": "code",
   "execution_count": 21,
   "metadata": {
    "slideshow": {
     "slide_type": "fragment"
    }
   },
   "outputs": [
    {
     "data": {
      "text/plain": [
       "5.0"
      ]
     },
     "execution_count": 21,
     "metadata": {},
     "output_type": "execute_result"
    }
   ],
   "source": [
    "s = np.sqrt(25)\n",
    "s"
   ]
  },
  {
   "cell_type": "markdown",
   "metadata": {
    "slideshow": {
     "slide_type": "fragment"
    }
   },
   "source": [
    "**Funções trigonométricas**\n",
    "\n",
    "Em todas as funções trigonométricas, o ângulo deve estar em radianos."
   ]
  },
  {
   "cell_type": "code",
   "execution_count": 22,
   "metadata": {
    "slideshow": {
     "slide_type": "fragment"
    }
   },
   "outputs": [
    {
     "name": "stdout",
     "output_type": "stream",
     "text": [
      "1.0\n",
      "0.707106781187\n"
     ]
    }
   ],
   "source": [
    "d = np.sin(np.pi/2)\n",
    "g = np.cos(np.pi/4)\n",
    "print(d)\n",
    "print(g)"
   ]
  },
  {
   "cell_type": "markdown",
   "metadata": {
    "slideshow": {
     "slide_type": "fragment"
    }
   },
   "source": [
    "Nos dois últimos casos, para representar o valor de $\\pi$, foi utilizado 'np.pi'."
   ]
  },
  {
   "cell_type": "markdown",
   "metadata": {
    "slideshow": {
     "slide_type": "slide"
    }
   },
   "source": [
    "## Scripts\n",
    "\n",
    "Todos os comandos que podem ser colocados no Console do Spyder podem também ser colocados em um arquivo com extensão '.py'. Esse arquivo '.py' pode ser executado no Spyder utilizando o Editor e clicando no botão 'Run file' (triângulo verde com uma das pontas apontada para a direita) ou apertando a tecla F5 no teclado. Os resultados serão mostrados no Console.\n",
    "\n",
    "A principal diferença quando é executado um script é que para mostra o conteúdo de uma variável, é necessário usar o comando print():"
   ]
  },
  {
   "cell_type": "code",
   "execution_count": 23,
   "metadata": {
    "slideshow": {
     "slide_type": "fragment"
    }
   },
   "outputs": [
    {
     "name": "stdout",
     "output_type": "stream",
     "text": [
      "3\n"
     ]
    }
   ],
   "source": [
    "print(x)"
   ]
  },
  {
   "cell_type": "markdown",
   "metadata": {
    "slideshow": {
     "slide_type": "fragment"
    }
   },
   "source": [
    "A execução de um script é a maneira preferencial para executar comandos em Python no Spyder."
   ]
  },
  {
   "cell_type": "markdown",
   "metadata": {
    "slideshow": {
     "slide_type": "slide"
    }
   },
   "source": [
    "## Comentários\n",
    "\n",
    "Comentários são expressões que não têm nenhuma função na execução do código, mas servem para auxiliar na compreensão do código.\n",
    "\n",
    "É muito importante que o código esteja comentado. É muito comum acontecer de um programador ler o seu próprio código dias depois dele ter sido escrito e não entender o que o código faz.\n",
    "\n",
    "No Python, um comentário é iniciado pelo caracter '#'. Tudo que for escrito após o # não é executado pelo Python"
   ]
  },
  {
   "cell_type": "code",
   "execution_count": 26,
   "metadata": {
    "slideshow": {
     "slide_type": "fragment"
    }
   },
   "outputs": [
    {
     "data": {
      "text/plain": [
       "4"
      ]
     },
     "execution_count": 26,
     "metadata": {},
     "output_type": "execute_result"
    }
   ],
   "source": [
    "x = x + 1 # Incremento de 1 na variável x\n",
    "x"
   ]
  },
  {
   "cell_type": "markdown",
   "metadata": {
    "slideshow": {
     "slide_type": "fragment"
    }
   },
   "source": [
    "Uma outra maneira de fazer comentários seria com blocos de comentários, iniciados e finalizados com `'''` ou `\"\"\"`. Esta é a maneira preferencial para fazer comentários no Python.\n",
    "\n",
    "### Exemplo"
   ]
  },
  {
   "cell_type": "code",
   "execution_count": 30,
   "metadata": {
    "slideshow": {
     "slide_type": "fragment"
    }
   },
   "outputs": [
    {
     "name": "stdout",
     "output_type": "stream",
     "text": [
      "m = 4.535147392290249 kg\n"
     ]
    }
   ],
   "source": [
    "'''\n",
    "Este script transforma uma medida de massa descrita em libras para kilogramas.\n",
    "A medida da massa em libras está na variável ml e a massa em kilogramas está na \n",
    "variável mk\n",
    "'''\n",
    "\n",
    "ml = 10\n",
    "mk = ml/2.205\n",
    "print('m =',mk,'kg')\n"
   ]
  },
  {
   "cell_type": "markdown",
   "metadata": {
    "slideshow": {
     "slide_type": "slide"
    }
   },
   "source": [
    "## Tarefa (para agora)\n",
    "\n",
    "- Escrever um script de Python e executá-lo no Spyder para calcular o número de segundos $s$, dado o número de horas contida em uma variável $h$.\n",
    "\n",
    "- O script deve estar com comentários explicando a função do script.\n",
    "\n",
    "- Use o script para encontrar o número de segundos para 1) uma hora e meia; 2) 12 horas; 3) 24 horas.\n",
    "\n",
    "- Os três resultados devem ser mostrados no Console ao executar o script.\n",
    "\n",
    "- Coloque no seu repositório do Github o arquivo '.py' contendo o script feito por você com o nome \"Tarefa3SeuNome.py\"."
   ]
  },
  {
   "cell_type": "markdown",
   "metadata": {
    "slideshow": {
     "slide_type": "slide"
    }
   },
   "source": [
    "## Tarefa (para antes da próxima aula)\n",
    "\n",
    "- Escrever um script de Python e executá-lo no Spyder para calcular as expressões abaixo.\n",
    "\n",
    "- O script deve estar com comentários explicando a função do script.\n",
    "\n",
    "- Todos os resultados devem ser mostrados no Console ao executar o script.\n",
    "\n",
    "- 1) O volume de uma esfera com raio contida em uma variável $R$. Teste para a) $R = 0.32 $ m, b) $R = 1$ m, c) $R = 1.9$ m.\n",
    "\n",
    "- 2) Temperatura em Fahrenheit dada a temperatura em Celsius contida em uma variavel $T_c$. Teste para a) $T_c = -10 ^\\circ C$  , b) $T_c = 30^\\circ C$ , c) $T_c = 5^\\circ C$ \n",
    "\n",
    "- 3) O tamanho do lado $c$ de um triângulo com lados $a, b$ e  ângulo $\\theta$ entre os lados $a$ e $b$ conhecidos. $a$, $b$ e $\\theta$ devem estar gravadas em variáveis. A expressão para isso é conhecida como lei dos cossenos:\n",
    "\n",
    "$$c = \\sqrt{a^2+b^2-2ab\\cos(\\theta)} $$\n",
    "\n",
    "Teste para a) $a = 1$, $b = 2$ e $\\theta = 30^\\circ$, b) $a = 3$, $b = 1$ e $\\theta = 45^\\circ$, c) $a = 10$, $b = 11$ e $\\theta = 15^\\circ$\n",
    "\n",
    "- Coloque no seu repositório do Github o arquivo '.py' contendo o script feito por você com o nome \"Tarefa4SeuNome.py\"."
   ]
  },
  {
   "cell_type": "markdown",
   "metadata": {
    "slideshow": {
     "slide_type": "slide"
    }
   },
   "source": [
    "## Referências\n",
    "\n",
    "- Chalco, JM, *Slides de Bases Computacionais da Ciência*, (2014)\n",
    "- Leite, S, *Slides de Bases Computacionais da Ciência*, (2018)\n",
    "- [Marietto, MGB et al.; **Bases computacionais da Ciência** (2013)](http://prograd.ufabc.edu.br/images/pdf/bases_computacionais_livro.pdf).\n",
    "- [Duarte, M, *Python para computação científica* (2017)](https://nbviewer.jupyter.org/github/BMClab/bmc/blob/master/notebooks/PT-BR/PythonForScientificComputing_PT-BR.ipynb)\n",
    "- [NumPy Reference¶](https://docs.scipy.org/doc/numpy/reference/index.html)"
   ]
  }
 ],
 "metadata": {
  "celltoolbar": "Slideshow",
  "kernelspec": {
   "display_name": "Python 3",
   "language": "python",
   "name": "python3"
  },
  "language_info": {
   "codemirror_mode": {
    "name": "ipython",
    "version": 3
   },
   "file_extension": ".py",
   "mimetype": "text/x-python",
   "name": "python",
   "nbconvert_exporter": "python",
   "pygments_lexer": "ipython3",
   "version": "3.6.8"
  },
  "latex_envs": {
   "LaTeX_envs_menu_present": true,
   "autoclose": false,
   "autocomplete": true,
   "bibliofile": "biblio.bib",
   "cite_by": "apalike",
   "current_citInitial": 1,
   "eqLabelWithNumbers": true,
   "eqNumInitial": 1,
   "hotkeys": {
    "equation": "Ctrl-E",
    "itemize": "Ctrl-I"
   },
   "labels_anchors": false,
   "latex_user_defs": false,
   "report_style_numbering": false,
   "user_envs_cfg": false
  },
  "nbTranslate": {
   "displayLangs": [
    "*"
   ],
   "hotkey": "alt-t",
   "langInMainMenu": true,
   "sourceLang": "en",
   "targetLang": "fr",
   "useGoogleTranslate": true
  }
 },
 "nbformat": 4,
 "nbformat_minor": 2
}
