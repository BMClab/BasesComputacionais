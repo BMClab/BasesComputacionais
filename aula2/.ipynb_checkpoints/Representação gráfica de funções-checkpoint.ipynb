{
 "cells": [
  {
   "cell_type": "markdown",
   "metadata": {
    "slideshow": {
     "slide_type": "slide"
    }
   },
   "source": [
    "# Representação gráfica de funções\n",
    "\n",
    "Renato Naville Watanabe"
   ]
  },
  {
   "cell_type": "markdown",
   "metadata": {
    "slideshow": {
     "slide_type": "slide"
    }
   },
   "source": [
    "## Modelando fenômenos\n",
    "\n",
    "- Em diferentes áreas da Ciência busca-se modelar fenômenos por médio de funções matemáticas a fim de reproduzir os comportamentos observados na natureza.\n",
    "\n",
    "- Dado um modelo, muitas vezes, temos a necessidade de visualizar o comportamento do mesmo.\n",
    "\n",
    "- Gráficos de funções auxiliam o entendimento dos  fenômenos.\n",
    "\n",
    "![lorentz](https://upload.wikimedia.org/wikipedia/commons/e/ef/Lorenz_Ro28-200px.png)"
   ]
  },
  {
   "cell_type": "markdown",
   "metadata": {
    "slideshow": {
     "slide_type": "slide"
    }
   },
   "source": [
    "## Função\n",
    "\n",
    "- O estudo de funções decorre da necessidade de:\n",
    "    + Analisar fenômenos, visualizando o comportamento de um sistema.\n",
    "    + Interpretar interdependências, entendendo como uma variável comporta-se com relação à outra.\n",
    "    + Encontrar soluções de problemas.\n",
    "    + Descrever regularidades.\n",
    "    + Generalizar."
   ]
  },
  {
   "cell_type": "markdown",
   "metadata": {
    "slideshow": {
     "slide_type": "slide"
    }
   },
   "source": [
    "## Definição de uma função\n",
    "\n",
    "- Uma função é uma regra segundo a qual, para cada elemento $x$ pertencente a um conjunto $A$ corresponde um único elemento $y$ pertencente a um conjunto $B$.\n",
    "\n",
    "$$y = f(x)$$\n",
    "\n",
    "- O conjunto $A$ é chamado domínio da função e o conjunto $B$ é o contra-domínio, ou imagem.\n",
    "\n",
    "\n"
   ]
  },
  {
   "cell_type": "markdown",
   "metadata": {
    "slideshow": {
     "slide_type": "slide"
    }
   },
   "source": [
    "## Representação de uma função\n",
    "\n",
    "- Uma função pode ser representada das seguintes formas: \n",
    "    + **Verbalmente** (descrevendo-a com palavras)\n",
    "    + **Numericamente** (utilizando tabela de valores)\n",
    "    + **Visualmente** (utilizando gráficos)\n",
    "    + **Algebricamente** (utilizando uma fórmula explícita)"
   ]
  },
  {
   "cell_type": "markdown",
   "metadata": {
    "slideshow": {
     "slide_type": "slide"
    }
   },
   "source": [
    "## Ferramentas de visualização\n",
    "\n",
    "Existem diversas ferramentas para utilizadas em calculos matemáticos avançados.\n",
    "- Matlab\n",
    "- Mathematica\n",
    "- Octave\n",
    "- Scilab\n",
    "- R\n",
    "- [**Python**](https://nbviewer.jupyter.org/github/BMClab/bmc/blob/master/notebooks/PT-BR/PythonForScientificComputing_PT-BR.ipynb)\n",
    "- Fortran\n",
    "- Julia\n",
    "\n",
    "Geralmente contam com bibliotecas de funções matemáticas prontas e recursos avançados."
   ]
  },
  {
   "cell_type": "markdown",
   "metadata": {
    "slideshow": {
     "slide_type": "slide"
    }
   },
   "source": [
    "## Spyder \n",
    "Ambiente de programação Python que permite a criação de novas funções/bibliotecas do usuário.\n",
    "\n",
    "<img src=\"imagens/spyder.png\" width=\"400\">\n",
    "\n",
    "O Spyder pode ser obtido com o pacote [Anaconda](https://www.anaconda.com/distribution/)."
   ]
  },
  {
   "cell_type": "markdown",
   "metadata": {
    "slideshow": {
     "slide_type": "slide"
    }
   },
   "source": [
    "## Spyder\n",
    "\n",
    "A interação do usuário com o Spyder pode ocorrer de duas formas distintas:\n",
    "\n",
    "- Na **primeira forma**, os comando são digitados diretamente no *console* do Spyder:\n",
    "    + Ao ser pressionada a tecla Enter, os comandos digitados são interpretados e imediatamente executados.\n",
    "    + O Spyder (Python) funciona como uma  calculadora sofisticada.\n",
    "\n",
    "- Na **segunda forma**, um conjunto de comandos é digitado em um arquivo texto:\n",
    "    + Este arquivo  (script) pode ser  executado.\n",
    "    + Neste modo, o Spyder funciona como um ambiente de programação."
   ]
  },
  {
   "cell_type": "markdown",
   "metadata": {
    "slideshow": {
     "slide_type": "slide"
    }
   },
   "source": [
    "## Spyder\n",
    "\n",
    "Digitando o seguinte comando no console:"
   ]
  },
  {
   "cell_type": "code",
   "execution_count": 4,
   "metadata": {
    "slideshow": {
     "slide_type": "fragment"
    }
   },
   "outputs": [],
   "source": [
    "x = 2"
   ]
  },
  {
   "cell_type": "markdown",
   "metadata": {
    "slideshow": {
     "slide_type": "fragment"
    }
   },
   "source": [
    "estaremos criando uma variável real chamada $x$ cujo valor é igual a 2."
   ]
  },
  {
   "cell_type": "markdown",
   "metadata": {
    "slideshow": {
     "slide_type": "slide"
    }
   },
   "source": [
    "## Variável\n",
    "\n",
    "Uma variável é um endereço da memória de acesso randômico (RAM), representada por um nome \n",
    "(rótulo), criado pelo usuário, cujo conteúdo pode se alterar no decorrer do programa.\n",
    "\n",
    "Uma variável é composta por dois elementos:\n",
    "    \n",
    "  - **Identificador**: nome dado pelo programador à variável\n",
    "  - **Conteúdo**: valor da variável\n",
    "<img src=\"imagens/memvar2.png\" width=\"400\">\n",
    "\n",
    "No caso anterior, x é o identificador (nome da variável) e 2 é o conteúdo (valor)."
   ]
  },
  {
   "cell_type": "markdown",
   "metadata": {
    "slideshow": {
     "slide_type": "slide"
    }
   },
   "source": [
    "## Variável\n",
    "\n",
    "Cada vez que mencionarmos o nome de uma variável, estaremos na verdade utilizando o seu conteúdo"
   ]
  },
  {
   "cell_type": "code",
   "execution_count": 16,
   "metadata": {
    "slideshow": {
     "slide_type": "fragment"
    }
   },
   "outputs": [
    {
     "data": {
      "text/plain": [
       "7"
      ]
     },
     "execution_count": 16,
     "metadata": {},
     "output_type": "execute_result"
    }
   ],
   "source": [
    "y = x + 5\n",
    "y"
   ]
  },
  {
   "cell_type": "markdown",
   "metadata": {
    "slideshow": {
     "slide_type": "fragment"
    }
   },
   "source": [
    "Esta operação define $y$ como sendo uma variável com valor igual ao valor de $x$ mais cinco. Ou seja, $y$ tem um valor igual a 7"
   ]
  },
  {
   "cell_type": "code",
   "execution_count": 17,
   "metadata": {
    "slideshow": {
     "slide_type": "fragment"
    }
   },
   "outputs": [
    {
     "data": {
      "text/plain": [
       "14"
      ]
     },
     "execution_count": 17,
     "metadata": {},
     "output_type": "execute_result"
    }
   ],
   "source": [
    "z = x*y\n",
    "z"
   ]
  },
  {
   "cell_type": "markdown",
   "metadata": {
    "slideshow": {
     "slide_type": "fragment"
    }
   },
   "source": [
    "Neste caso, $z$ é igual à multiplicação dos valores guardados em $x$ e $y$, ou seja, $z$ é igual a 14."
   ]
  },
  {
   "cell_type": "code",
   "execution_count": 18,
   "metadata": {
    "slideshow": {
     "slide_type": "fragment"
    }
   },
   "outputs": [
    {
     "data": {
      "text/plain": [
       "7.0"
      ]
     },
     "execution_count": 18,
     "metadata": {},
     "output_type": "execute_result"
    }
   ],
   "source": [
    "w = z/x\n",
    "w"
   ]
  },
  {
   "cell_type": "markdown",
   "metadata": {
    "slideshow": {
     "slide_type": "fragment"
    }
   },
   "source": [
    "Aqui, $w$ é igual à divisão dos valores guardados em $z$ e $x$, ou seja, $w$\n",
    "é igual a 7."
   ]
  },
  {
   "cell_type": "code",
   "execution_count": 19,
   "metadata": {
    "slideshow": {
     "slide_type": "fragment"
    }
   },
   "outputs": [
    {
     "data": {
      "text/plain": [
       "5.0"
      ]
     },
     "execution_count": 19,
     "metadata": {},
     "output_type": "execute_result"
    }
   ],
   "source": [
    "k = w-x\n",
    "k"
   ]
  },
  {
   "cell_type": "markdown",
   "metadata": {
    "slideshow": {
     "slide_type": "fragment"
    }
   },
   "source": [
    "Aqui, $k$ é igual à subtração do valor guardado em $x$ de $w$. Ou seja, $k$\n",
    "é igual a 5."
   ]
  },
  {
   "cell_type": "code",
   "execution_count": 21,
   "metadata": {
    "slideshow": {
     "slide_type": "fragment"
    }
   },
   "outputs": [
    {
     "data": {
      "text/plain": [
       "125.0"
      ]
     },
     "execution_count": 21,
     "metadata": {},
     "output_type": "execute_result"
    }
   ],
   "source": [
    "m = k**3\n",
    "m"
   ]
  },
  {
   "cell_type": "markdown",
   "metadata": {
    "slideshow": {
     "slide_type": "fragment"
    }
   },
   "source": [
    "Aqui, $m$ é igual ao valor guardado em $k$ elevado ao cubo. Ou seja, $m$ é igual a 125."
   ]
  },
  {
   "cell_type": "markdown",
   "metadata": {
    "slideshow": {
     "slide_type": "slide"
    }
   },
   "source": [
    "## Funções matemáticas\n",
    "\n",
    "Para usar funções mais complexas, é necessário utilizar a biblioteca Numpy. Para poder utilizar esta biblioteca, é necessário importá-la:"
   ]
  },
  {
   "cell_type": "code",
   "execution_count": 25,
   "metadata": {
    "slideshow": {
     "slide_type": "fragment"
    }
   },
   "outputs": [],
   "source": [
    "import numpy as np"
   ]
  },
  {
   "cell_type": "markdown",
   "metadata": {
    "slideshow": {
     "slide_type": "fragment"
    }
   },
   "source": [
    "Esta biblioteca tem diversas funções que são facilmente utilizadas colocando 'np.' antes da função desejada. Por exemplo, a função logaritmo na base 10 é chamada com: "
   ]
  },
  {
   "cell_type": "code",
   "execution_count": 27,
   "metadata": {
    "slideshow": {
     "slide_type": "fragment"
    }
   },
   "outputs": [
    {
     "data": {
      "text/plain": [
       "1.2041199826559248"
      ]
     },
     "execution_count": 27,
     "metadata": {},
     "output_type": "execute_result"
    }
   ],
   "source": [
    "np.log10(16)"
   ]
  },
  {
   "cell_type": "markdown",
   "metadata": {
    "slideshow": {
     "slide_type": "fragment"
    }
   },
   "source": [
    "Se você quiser guardar o resultado em uma variável também é possível:"
   ]
  },
  {
   "cell_type": "code",
   "execution_count": 30,
   "metadata": {
    "slideshow": {
     "slide_type": "fragment"
    }
   },
   "outputs": [
    {
     "data": {
      "text/plain": [
       "1.2041199826559248"
      ]
     },
     "execution_count": 30,
     "metadata": {},
     "output_type": "execute_result"
    }
   ],
   "source": [
    "a = np.log10(16)\n",
    "a"
   ]
  },
  {
   "cell_type": "markdown",
   "metadata": {
    "slideshow": {
     "slide_type": "fragment"
    }
   },
   "source": [
    "E se quiser calcular o valor da função para uma variável é simples:"
   ]
  },
  {
   "cell_type": "code",
   "execution_count": 32,
   "metadata": {
    "slideshow": {
     "slide_type": "fragment"
    }
   },
   "outputs": [
    {
     "data": {
      "text/plain": [
       "0.69897000433601886"
      ]
     },
     "execution_count": 32,
     "metadata": {},
     "output_type": "execute_result"
    }
   ],
   "source": [
    "b = np.log10(k)\n",
    "b"
   ]
  },
  {
   "cell_type": "markdown",
   "metadata": {
    "slideshow": {
     "slide_type": "slide"
    }
   },
   "source": [
    "## Funções matemáticas\n",
    "\n",
    "Alguns exemplos de funções são:\n"
   ]
  },
  {
   "cell_type": "markdown",
   "metadata": {
    "slideshow": {
     "slide_type": "fragment"
    }
   },
   "source": [
    "**Exponencial**: exp(x)=$e^x$ em que $e=2,7182...$ "
   ]
  },
  {
   "cell_type": "code",
   "execution_count": 35,
   "metadata": {
    "slideshow": {
     "slide_type": "fragment"
    }
   },
   "outputs": [
    {
     "data": {
      "text/plain": [
       "0.1353352832366127"
      ]
     },
     "execution_count": 35,
     "metadata": {},
     "output_type": "execute_result"
    }
   ],
   "source": [
    "np.exp(-2)"
   ]
  },
  {
   "cell_type": "markdown",
   "metadata": {
    "slideshow": {
     "slide_type": "fragment"
    }
   },
   "source": [
    "**Raiz quadrada**"
   ]
  },
  {
   "cell_type": "code",
   "execution_count": 37,
   "metadata": {
    "slideshow": {
     "slide_type": "fragment"
    }
   },
   "outputs": [
    {
     "data": {
      "text/plain": [
       "5.0"
      ]
     },
     "execution_count": 37,
     "metadata": {},
     "output_type": "execute_result"
    }
   ],
   "source": [
    "s = np.sqrt(25)\n",
    "s"
   ]
  },
  {
   "cell_type": "markdown",
   "metadata": {
    "slideshow": {
     "slide_type": "fragment"
    }
   },
   "source": [
    "**Funções trigonométricas**"
   ]
  },
  {
   "cell_type": "code",
   "execution_count": 39,
   "metadata": {
    "slideshow": {
     "slide_type": "fragment"
    }
   },
   "outputs": [
    {
     "name": "stdout",
     "output_type": "stream",
     "text": [
      "1.0\n",
      "0.707106781187\n"
     ]
    }
   ],
   "source": [
    "d = np.sin(np.pi/2)\n",
    "g = np.cos(np.pi/4)\n",
    "print(d)\n",
    "print(g)"
   ]
  },
  {
   "cell_type": "markdown",
   "metadata": {
    "slideshow": {
     "slide_type": "fragment"
    }
   },
   "source": [
    "Nos dois últimos casos, para representar o valor de $\\pi$, foi utilizado 'np.pi'."
   ]
  },
  {
   "cell_type": "markdown",
   "metadata": {
    "slideshow": {
     "slide_type": "slide"
    }
   },
   "source": [
    "## Referências\n",
    "\n",
    "- Chalco, JM, *Slides de Bases Computacionais da Ciência*, (2014)\n",
    "- Leite, S, *Slides de Bases Computacionais da Ciência*, (2018)\n",
    "- [Marietto, MGB et al.; **Bases computacionais da Ciência** (2013)](http://prograd.ufabc.edu.br/images/pdf/bases_computacionais_livro.pdf).\n",
    "- [Duarte, M, *Python para computação científica* (2017)](https://nbviewer.jupyter.org/github/BMClab/bmc/blob/master/notebooks/PT-BR/PythonForScientificComputing_PT-BR.ipynb)"
   ]
  },
  {
   "cell_type": "code",
   "execution_count": null,
   "metadata": {},
   "outputs": [],
   "source": []
  }
 ],
 "metadata": {
  "celltoolbar": "Slideshow",
  "kernelspec": {
   "display_name": "Python 3",
   "language": "python",
   "name": "python3"
  },
  "language_info": {
   "codemirror_mode": {
    "name": "ipython",
    "version": 3
   },
   "file_extension": ".py",
   "mimetype": "text/x-python",
   "name": "python",
   "nbconvert_exporter": "python",
   "pygments_lexer": "ipython3",
   "version": "3.6.8"
  },
  "latex_envs": {
   "LaTeX_envs_menu_present": true,
   "autoclose": false,
   "autocomplete": true,
   "bibliofile": "biblio.bib",
   "cite_by": "apalike",
   "current_citInitial": 1,
   "eqLabelWithNumbers": true,
   "eqNumInitial": 1,
   "hotkeys": {
    "equation": "Ctrl-E",
    "itemize": "Ctrl-I"
   },
   "labels_anchors": false,
   "latex_user_defs": false,
   "report_style_numbering": false,
   "user_envs_cfg": false
  },
  "nbTranslate": {
   "displayLangs": [
    "*"
   ],
   "hotkey": "alt-t",
   "langInMainMenu": true,
   "sourceLang": "en",
   "targetLang": "fr",
   "useGoogleTranslate": true
  }
 },
 "nbformat": 4,
 "nbformat_minor": 2
}
