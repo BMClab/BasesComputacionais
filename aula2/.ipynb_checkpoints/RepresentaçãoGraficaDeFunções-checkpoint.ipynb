{
 "cells": [
  {
   "cell_type": "markdown",
   "metadata": {},
   "source": [
    "# Representação gráfica de funções\n",
    "\n",
    "Renato Naville Watanabe"
   ]
  },
  {
   "cell_type": "markdown",
   "metadata": {
    "slideshow": {
     "slide_type": "slide"
    }
   },
   "source": [
    "## Modelando fenômenos\n",
    "\n",
    "- Em diferentes áreas da Ciência busca-se modelar fenômenos por médio de funções matemáticas a fim de reproduzir os comportamentos observados na natureza.\n",
    "\n",
    "- Dado um modelo, muitas vezes, temos a necessidade de visualizar o comportamento do mesmo.\n",
    "\n",
    "- Gráficos de funções auxiliam o entendimento dos  fenômenos.\n",
    "\n",
    "![lorentz](https://upload.wikimedia.org/wikipedia/commons/e/ef/Lorenz_Ro28-200px.png)"
   ]
  },
  {
   "cell_type": "markdown",
   "metadata": {
    "slideshow": {
     "slide_type": "slide"
    }
   },
   "source": [
    "## Vetores\n",
    "\n",
    "Com o Numpy você pode criar vetores. \n",
    "Com o comando 'np.array' você cria vetores digitando cada elemento pertencente ao vetor:"
   ]
  },
  {
   "cell_type": "code",
   "execution_count": 14,
   "metadata": {
    "slideshow": {
     "slide_type": "fragment"
    }
   },
   "outputs": [
    {
     "data": {
      "text/plain": [
       "array([1, 2, 3, 4, 5])"
      ]
     },
     "execution_count": 14,
     "metadata": {},
     "output_type": "execute_result"
    }
   ],
   "source": [
    "x = np.array([1,2,3,4,5])\n",
    "x"
   ]
  },
  {
   "cell_type": "markdown",
   "metadata": {
    "slideshow": {
     "slide_type": "fragment"
    }
   },
   "source": [
    "Com o comando 'np.arange', você cria vetores especificando os limites e o intervalo entre os elementos. Por exemplo, para criar um vetor que vai de 0 a 12 com intervalo entre os elementos de 0,2, deve-se digitar:"
   ]
  },
  {
   "cell_type": "code",
   "execution_count": 15,
   "metadata": {
    "slideshow": {
     "slide_type": "fragment"
    }
   },
   "outputs": [
    {
     "data": {
      "text/plain": [
       "array([  0. ,   0.2,   0.4,   0.6,   0.8,   1. ,   1.2,   1.4,   1.6,\n",
       "         1.8,   2. ,   2.2,   2.4,   2.6,   2.8,   3. ,   3.2,   3.4,\n",
       "         3.6,   3.8,   4. ,   4.2,   4.4,   4.6,   4.8,   5. ,   5.2,\n",
       "         5.4,   5.6,   5.8,   6. ,   6.2,   6.4,   6.6,   6.8,   7. ,\n",
       "         7.2,   7.4,   7.6,   7.8,   8. ,   8.2,   8.4,   8.6,   8.8,\n",
       "         9. ,   9.2,   9.4,   9.6,   9.8,  10. ,  10.2,  10.4,  10.6,\n",
       "        10.8,  11. ,  11.2,  11.4,  11.6,  11.8])"
      ]
     },
     "execution_count": 15,
     "metadata": {},
     "output_type": "execute_result"
    }
   ],
   "source": [
    "y = np.arange(0, 12, 0.2)\n",
    "y"
   ]
  },
  {
   "cell_type": "markdown",
   "metadata": {
    "slideshow": {
     "slide_type": "fragment"
    }
   },
   "source": [
    "Com o comando 'np.linspace', você cria vetores especificando os limites e o número de elementos. Por exemplo, para criar um vetor que vai de 0 a 11 com 130 elementos, deve-se digitar:"
   ]
  },
  {
   "cell_type": "code",
   "execution_count": 16,
   "metadata": {
    "scrolled": false,
    "slideshow": {
     "slide_type": "fragment"
    }
   },
   "outputs": [
    {
     "data": {
      "text/plain": [
       "array([  0.        ,   0.08527132,   0.17054264,   0.25581395,\n",
       "         0.34108527,   0.42635659,   0.51162791,   0.59689922,\n",
       "         0.68217054,   0.76744186,   0.85271318,   0.9379845 ,\n",
       "         1.02325581,   1.10852713,   1.19379845,   1.27906977,\n",
       "         1.36434109,   1.4496124 ,   1.53488372,   1.62015504,\n",
       "         1.70542636,   1.79069767,   1.87596899,   1.96124031,\n",
       "         2.04651163,   2.13178295,   2.21705426,   2.30232558,\n",
       "         2.3875969 ,   2.47286822,   2.55813953,   2.64341085,\n",
       "         2.72868217,   2.81395349,   2.89922481,   2.98449612,\n",
       "         3.06976744,   3.15503876,   3.24031008,   3.3255814 ,\n",
       "         3.41085271,   3.49612403,   3.58139535,   3.66666667,\n",
       "         3.75193798,   3.8372093 ,   3.92248062,   4.00775194,\n",
       "         4.09302326,   4.17829457,   4.26356589,   4.34883721,\n",
       "         4.43410853,   4.51937984,   4.60465116,   4.68992248,\n",
       "         4.7751938 ,   4.86046512,   4.94573643,   5.03100775,\n",
       "         5.11627907,   5.20155039,   5.28682171,   5.37209302,\n",
       "         5.45736434,   5.54263566,   5.62790698,   5.71317829,\n",
       "         5.79844961,   5.88372093,   5.96899225,   6.05426357,\n",
       "         6.13953488,   6.2248062 ,   6.31007752,   6.39534884,\n",
       "         6.48062016,   6.56589147,   6.65116279,   6.73643411,\n",
       "         6.82170543,   6.90697674,   6.99224806,   7.07751938,\n",
       "         7.1627907 ,   7.24806202,   7.33333333,   7.41860465,\n",
       "         7.50387597,   7.58914729,   7.6744186 ,   7.75968992,\n",
       "         7.84496124,   7.93023256,   8.01550388,   8.10077519,\n",
       "         8.18604651,   8.27131783,   8.35658915,   8.44186047,\n",
       "         8.52713178,   8.6124031 ,   8.69767442,   8.78294574,\n",
       "         8.86821705,   8.95348837,   9.03875969,   9.12403101,\n",
       "         9.20930233,   9.29457364,   9.37984496,   9.46511628,\n",
       "         9.5503876 ,   9.63565891,   9.72093023,   9.80620155,\n",
       "         9.89147287,   9.97674419,  10.0620155 ,  10.14728682,\n",
       "        10.23255814,  10.31782946,  10.40310078,  10.48837209,\n",
       "        10.57364341,  10.65891473,  10.74418605,  10.82945736,\n",
       "        10.91472868,  11.        ])"
      ]
     },
     "execution_count": 16,
     "metadata": {},
     "output_type": "execute_result"
    }
   ],
   "source": [
    "z = np.linspace(0, 11, 130)\n",
    "z"
   ]
  },
  {
   "cell_type": "markdown",
   "metadata": {
    "slideshow": {
     "slide_type": "fragment"
    }
   },
   "source": [
    "Para saber qual o tamanho de um vetor, use o comando 'len'."
   ]
  },
  {
   "cell_type": "code",
   "execution_count": 17,
   "metadata": {
    "slideshow": {
     "slide_type": "fragment"
    }
   },
   "outputs": [
    {
     "data": {
      "text/plain": [
       "130"
      ]
     },
     "execution_count": 17,
     "metadata": {},
     "output_type": "execute_result"
    }
   ],
   "source": [
    "len(z)"
   ]
  },
  {
   "cell_type": "markdown",
   "metadata": {
    "slideshow": {
     "slide_type": "slide"
    }
   },
   "source": [
    "## Gráfico de funções\n",
    "\n",
    "Para fazer um gráfico no Python, deve-se importar a biblioteca matplotlib:"
   ]
  },
  {
   "cell_type": "code",
   "execution_count": 1,
   "metadata": {
    "slideshow": {
     "slide_type": "fragment"
    }
   },
   "outputs": [],
   "source": [
    "import matplotlib.pyplot as plt"
   ]
  },
  {
   "cell_type": "markdown",
   "metadata": {
    "slideshow": {
     "slide_type": "fragment"
    }
   },
   "source": [
    "Vamos considerar a função $y = x^2$.  Todas as operações vistas anteriormente se aplicam a vetores. Os comandos operam em cada elemento do vetor e retornam um vetor do mesmo tamanho do vetor no qual a operação foi aplicada."
   ]
  },
  {
   "cell_type": "code",
   "execution_count": 2,
   "metadata": {
    "slideshow": {
     "slide_type": "fragment"
    }
   },
   "outputs": [
    {
     "ename": "NameError",
     "evalue": "name 'x' is not defined",
     "output_type": "error",
     "traceback": [
      "\u001b[0;31m---------------------------------------------------------------------------\u001b[0m",
      "\u001b[0;31mNameError\u001b[0m                                 Traceback (most recent call last)",
      "\u001b[0;32m<ipython-input-2-e453531e0c4d>\u001b[0m in \u001b[0;36m<module>\u001b[0;34m\u001b[0m\n\u001b[0;32m----> 1\u001b[0;31m \u001b[0my\u001b[0m \u001b[0;34m=\u001b[0m \u001b[0mx\u001b[0m\u001b[0;34m**\u001b[0m\u001b[0;36m2\u001b[0m\u001b[0;34m\u001b[0m\u001b[0;34m\u001b[0m\u001b[0m\n\u001b[0m",
      "\u001b[0;31mNameError\u001b[0m: name 'x' is not defined"
     ]
    }
   ],
   "source": [
    "y = x**2"
   ]
  },
  {
   "cell_type": "markdown",
   "metadata": {
    "slideshow": {
     "slide_type": "fragment"
    }
   },
   "source": [
    "Para fazer o gráfico, utilizamos a sequência de comandos plt.figure(), plt.plot e plt.show().\n",
    "\n",
    "Na chamada do comando plt.plot, deve ser colocado entre os parênteses o vetor contendo os dados da abscissa e depois o vetor contendo os dados da ordenada."
   ]
  },
  {
   "cell_type": "code",
   "execution_count": 3,
   "metadata": {
    "slideshow": {
     "slide_type": "fragment"
    }
   },
   "outputs": [
    {
     "ename": "NameError",
     "evalue": "name 'x' is not defined",
     "output_type": "error",
     "traceback": [
      "\u001b[0;31m---------------------------------------------------------------------------\u001b[0m",
      "\u001b[0;31mNameError\u001b[0m                                 Traceback (most recent call last)",
      "\u001b[0;32m<ipython-input-3-7474292187e8>\u001b[0m in \u001b[0;36m<module>\u001b[0;34m\u001b[0m\n\u001b[1;32m      1\u001b[0m \u001b[0mplt\u001b[0m\u001b[0;34m.\u001b[0m\u001b[0mfigure\u001b[0m\u001b[0;34m(\u001b[0m\u001b[0;34m)\u001b[0m\u001b[0;34m\u001b[0m\u001b[0;34m\u001b[0m\u001b[0m\n\u001b[0;32m----> 2\u001b[0;31m \u001b[0mplt\u001b[0m\u001b[0;34m.\u001b[0m\u001b[0mplot\u001b[0m\u001b[0;34m(\u001b[0m\u001b[0mx\u001b[0m\u001b[0;34m,\u001b[0m \u001b[0my\u001b[0m\u001b[0;34m)\u001b[0m\u001b[0;34m\u001b[0m\u001b[0;34m\u001b[0m\u001b[0m\n\u001b[0m\u001b[1;32m      3\u001b[0m \u001b[0mplt\u001b[0m\u001b[0;34m.\u001b[0m\u001b[0mshow\u001b[0m\u001b[0;34m(\u001b[0m\u001b[0;34m)\u001b[0m\u001b[0;34m\u001b[0m\u001b[0;34m\u001b[0m\u001b[0m\n",
      "\u001b[0;31mNameError\u001b[0m: name 'x' is not defined"
     ]
    },
    {
     "data": {
      "text/plain": [
       "<Figure size 432x288 with 0 Axes>"
      ]
     },
     "metadata": {},
     "output_type": "display_data"
    }
   ],
   "source": [
    "plt.figure()\n",
    "plt.plot(x, y)\n",
    "plt.show()"
   ]
  },
  {
   "cell_type": "markdown",
   "metadata": {
    "slideshow": {
     "slide_type": "fragment"
    }
   },
   "source": [
    "É possível também controlar a aparência do gráfico. Por exemplo, para "
   ]
  },
  {
   "cell_type": "code",
   "execution_count": null,
   "metadata": {
    "slideshow": {
     "slide_type": "fragment"
    }
   },
   "outputs": [],
   "source": [
    "plt.figure()\n",
    "plt.plot(x, y, 'd-', color='crimson')\n",
    "plt.show()"
   ]
  },
  {
   "cell_type": "markdown",
   "metadata": {
    "slideshow": {
     "slide_type": "slide"
    }
   },
   "source": [
    "## Referências\n",
    "\n",
    "- Chalco, JM, *Slides de Bases Computacionais da Ciência*, (2014)\n",
    "- Leite, S, *Slides de Bases Computacionais da Ciência*, (2018)\n",
    "- [Marietto, MGB et al.; **Bases computacionais da Ciência** (2013)](http://prograd.ufabc.edu.br/images/pdf/bases_computacionais_livro.pdf).\n",
    "- [Duarte, M, *Python para computação científica* (2017)](https://nbviewer.jupyter.org/github/BMClab/bmc/blob/master/notebooks/PT-BR/PythonForScientificComputing_PT-BR.ipynb)"
   ]
  }
 ],
 "metadata": {
  "celltoolbar": "Slideshow",
  "kernelspec": {
   "display_name": "Python 3",
   "language": "python",
   "name": "python3"
  },
  "language_info": {
   "codemirror_mode": {
    "name": "ipython",
    "version": 3
   },
   "file_extension": ".py",
   "mimetype": "text/x-python",
   "name": "python",
   "nbconvert_exporter": "python",
   "pygments_lexer": "ipython3",
   "version": "3.6.8"
  },
  "nbTranslate": {
   "displayLangs": [
    "*"
   ],
   "hotkey": "alt-t",
   "langInMainMenu": true,
   "sourceLang": "en",
   "targetLang": "fr",
   "useGoogleTranslate": true
  }
 },
 "nbformat": 4,
 "nbformat_minor": 2
}
