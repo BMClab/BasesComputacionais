{
 "cells": [
  {
   "cell_type": "markdown",
   "metadata": {
    "slideshow": {
     "slide_type": "slide"
    }
   },
   "source": [
    "# Representação gráfica de funções\n",
    "\n",
    "Renato Naville Watanabe"
   ]
  },
  {
   "cell_type": "markdown",
   "metadata": {
    "slideshow": {
     "slide_type": "slide"
    }
   },
   "source": [
    "## Modelando fenômenos\n",
    "\n",
    "- Em diferentes áreas da Ciência busca-se modelar fenômenos por médio de funções matemáticas a fim de reproduzir os comportamentos observados na natureza.\n",
    "\n",
    "- Dado um modelo, muitas vezes, temos a necessidade de visualizar o comportamento do mesmo.\n",
    "\n",
    "- Gráficos de funções auxiliam o entendimento dos  fenômenos.\n",
    "\n",
    "![lorentz](https://upload.wikimedia.org/wikipedia/commons/e/ef/Lorenz_Ro28-200px.png)"
   ]
  },
  {
   "cell_type": "markdown",
   "metadata": {},
   "source": [
    "## Função\n",
    "\n",
    "- O estudo de funções decorre da necessidade de:\n",
    "    + Analisar fenômenos, visualizando o comportamento de um sistema.\n",
    "    + Interpretar interdependências, entendendo como uma variável comporta-se com relação à outra.\n",
    "    + Encontrar soluções de problemas.\n",
    "    + Descrever regularidades.\n",
    "    + Generalizar."
   ]
  },
  {
   "cell_type": "markdown",
   "metadata": {},
   "source": [
    "## Definição de uma função\n",
    "\n",
    "- Uma função é uma regra segundo a qual, para cada elemento $x$ pertencente a um conjunto $A$ corresponde um único elemento $y$ pertencente a um conjunto $B$.\n",
    "\n",
    "$$y = f(x)$$\n",
    "\n",
    "- O conjunto $A$ é chamado domínio da função e o conjunto $B$ é o contra-domínio, ou imagem.\n",
    "\n",
    "\n"
   ]
  },
  {
   "cell_type": "markdown",
   "metadata": {},
   "source": [
    "## Representação de uma função\n",
    "\n",
    "- Uma função pode ser representada das seguintes formas: \n",
    "    + **Verbalmente** (descrevendo-a com palavras)\n",
    "    + **Numericamente** (utilizando tabela de valores)\n",
    "    + **Visualmente** (utilizando gráficos)\n",
    "    + **Algebricamente** (utilizando uma fórmula explícita)"
   ]
  },
  {
   "cell_type": "markdown",
   "metadata": {
    "slideshow": {
     "slide_type": "slide"
    }
   },
   "source": [
    "## Ferramentas de visualização\n",
    "\n",
    "Existem diversas ferramentas para utilizadas em calculos matemáticos avançados.\n",
    "- Matlab\n",
    "- Mathematica\n",
    "- Octave\n",
    "- Scilab\n",
    "- R\n",
    "- [**Python**](https://nbviewer.jupyter.org/github/BMClab/bmc/blob/master/notebooks/PT-BR/PythonForScientificComputing_PT-BR.ipynb)\n",
    "- Fortran\n",
    "- Julia\n",
    "\n",
    "Geralmente contam com bibliotecas de funções matemáticas prontas e recursos avançados."
   ]
  },
  {
   "cell_type": "markdown",
   "metadata": {
    "slideshow": {
     "slide_type": "slide"
    }
   },
   "source": [
    "## Spyder \n",
    "Ambiente de programação Python que permite a criação de novas funções/bibliotecas do usuário.\n",
    "\n",
    "<img src=\"imagens/spyder.png\" width=\"400\">\n",
    "\n",
    "O Spyder pode ser obtido com o pacote [Anaconda](https://www.anaconda.com/distribution/)."
   ]
  },
  {
   "cell_type": "markdown",
   "metadata": {
    "slideshow": {
     "slide_type": "slide"
    }
   },
   "source": [
    "## Spyder\n",
    "\n",
    "A interação do usuário com o Spyder pode ocorrer de duas formas distintas:\n",
    "\n",
    "- Na **primeira forma**, os comando são digitados diretamente no *console* do Spyder:\n",
    "    + Ao ser pressionada a tecla Enter, os comandos digitados são interpretados e imediatamente executados.\n",
    "    + O Spyder (Python) funciona como uma  calculadora sofisticada.\n",
    "\n",
    "- Na **segunda forma**, um conjunto de comandos é digitado em um arquivo texto:\n",
    "    + Este arquivo  (script) pode ser  executado.\n",
    "    + Neste modo, o Spyder funciona como um ambiente de programação."
   ]
  },
  {
   "cell_type": "markdown",
   "metadata": {
    "slideshow": {
     "slide_type": "slide"
    }
   },
   "source": [
    "## Spyder\n",
    "\n",
    "Digitando o comando:"
   ]
  },
  {
   "cell_type": "code",
   "execution_count": 4,
   "metadata": {
    "slideshow": {
     "slide_type": "fragment"
    }
   },
   "outputs": [],
   "source": [
    "x = 2"
   ]
  },
  {
   "cell_type": "markdown",
   "metadata": {
    "slideshow": {
     "slide_type": "fragment"
    }
   },
   "source": [
    "estaremos criando uma variável real chamada $x$ cujo valor é igual a 2."
   ]
  },
  {
   "cell_type": "code",
   "execution_count": 2,
   "metadata": {
    "slideshow": {
     "slide_type": "slide"
    },
    "tags": [
     "remove_input"
    ]
   },
   "outputs": [
    {
     "data": {
      "text/plain": [
       "<Figure size 640x480 with 1 Axes>"
      ]
     },
     "metadata": {},
     "output_type": "display_data"
    }
   ],
   "source": [
    "import matplotlib.pyplot as plt\n",
    "import numpy as np\n",
    "\n",
    "x = np.arange(0, 10, 0.1)\n",
    "y = x**2\n",
    "plt.figure()\n",
    "plt.plot(x,y)\n",
    "plt.show()\n"
   ]
  },
  {
   "cell_type": "markdown",
   "metadata": {
    "slideshow": {
     "slide_type": "slide"
    }
   },
   "source": [
    "## Referências\n",
    "\n",
    "- Chalco, JM, *Slides de Bases Computacionais da Ciência*, (2014)\n",
    "- Leite, S, *Slides de Bases Computacionais da Ciência*, (2017)\n",
    "- [Marietto, MGB et al.; **Bases computacionais da Ciência** (2013)](http://prograd.ufabc.edu.br/images/pdf/bases_computacionais_livro.pdf)."
   ]
  }
 ],
 "metadata": {
  "celltoolbar": "Slideshow",
  "kernelspec": {
   "display_name": "Python 3",
   "language": "python",
   "name": "python3"
  },
  "language_info": {
   "codemirror_mode": {
    "name": "ipython",
    "version": 3
   },
   "file_extension": ".py",
   "mimetype": "text/x-python",
   "name": "python",
   "nbconvert_exporter": "python",
   "pygments_lexer": "ipython3",
   "version": "3.6.8"
  },
  "latex_envs": {
   "LaTeX_envs_menu_present": true,
   "autoclose": false,
   "autocomplete": true,
   "bibliofile": "biblio.bib",
   "cite_by": "apalike",
   "current_citInitial": 1,
   "eqLabelWithNumbers": true,
   "eqNumInitial": 1,
   "hotkeys": {
    "equation": "Ctrl-E",
    "itemize": "Ctrl-I"
   },
   "labels_anchors": false,
   "latex_user_defs": false,
   "report_style_numbering": false,
   "user_envs_cfg": false
  },
  "nbTranslate": {
   "displayLangs": [
    "*"
   ],
   "hotkey": "alt-t",
   "langInMainMenu": true,
   "sourceLang": "en",
   "targetLang": "fr",
   "useGoogleTranslate": true
  }
 },
 "nbformat": 4,
 "nbformat_minor": 2
}
