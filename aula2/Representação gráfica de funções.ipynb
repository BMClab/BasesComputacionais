{
 "cells": [
  {
   "cell_type": "markdown",
   "metadata": {
    "slideshow": {
     "slide_type": "slide"
    }
   },
   "source": [
    "# Representação gráfica de funções\n",
    "\n",
    "Renato Naville Watanabe"
   ]
  },
  {
   "cell_type": "markdown",
   "metadata": {
    "slideshow": {
     "slide_type": "slide"
    }
   },
   "source": [
    "## Modelando fenômenos\n",
    "\n",
    "- Em diferentes áreas da Ciência busca-se modelar fenômenos por médio de funções matemáticas a fim de reproduzir os comportamentos observados na natureza.\n",
    "\n",
    "- Dado um modelo, muitas vezes, temos a necessidade de visualizar o comportamento do mesmo.\n",
    "\n",
    "- Gráficos de funções auxiliam o entendimento dos  fenômenos.\n",
    "\n",
    "![lorentz](https://upload.wikimedia.org/wikipedia/commons/e/ef/Lorenz_Ro28-200px.png)"
   ]
  },
  {
   "cell_type": "markdown",
   "metadata": {
    "slideshow": {
     "slide_type": "slide"
    }
   },
   "source": [
    "## Função\n",
    "\n",
    "- O estudo de funções decorre da necessidade de:\n",
    "    + Analisar fenômenos, visualizando o comportamento de um sistema.\n",
    "    + Interpretar interdependências, entendendo como uma variável comporta-se com relação à outra.\n",
    "    + Encontrar soluções de problemas.\n",
    "    + Descrever regularidades.\n",
    "    + Generalizar."
   ]
  },
  {
   "cell_type": "markdown",
   "metadata": {
    "slideshow": {
     "slide_type": "slide"
    }
   },
   "source": [
    "## Definição de uma função\n",
    "\n",
    "- Uma função é uma regra segundo a qual, para cada elemento $x$ pertencente a um conjunto $A$ corresponde um único elemento $y$ pertencente a um conjunto $B$.\n",
    "\n",
    "$$y = f(x)$$\n",
    "\n",
    "- O conjunto $A$ é chamado domínio da função e o conjunto $B$ é o contra-domínio, ou imagem.\n",
    "\n",
    "\n"
   ]
  },
  {
   "cell_type": "markdown",
   "metadata": {
    "slideshow": {
     "slide_type": "slide"
    }
   },
   "source": [
    "## Representação de uma função\n",
    "\n",
    "- Uma função pode ser representada das seguintes formas: \n",
    "    + **Verbalmente** (descrevendo-a com palavras)\n",
    "    + **Numericamente** (utilizando tabela de valores)\n",
    "    + **Visualmente** (utilizando gráficos)\n",
    "    + **Algebricamente** (utilizando uma fórmula explícita)"
   ]
  },
  {
   "cell_type": "markdown",
   "metadata": {
    "slideshow": {
     "slide_type": "slide"
    }
   },
   "source": [
    "## Ferramentas de visualização\n",
    "\n",
    "Existem diversas ferramentas para utilizadas em calculos matemáticos avançados.\n",
    "- Matlab\n",
    "- Mathematica\n",
    "- Octave\n",
    "- Scilab\n",
    "- R\n",
    "- [**Python**](https://nbviewer.jupyter.org/github/BMClab/bmc/blob/master/notebooks/PT-BR/PythonForScientificComputing_PT-BR.ipynb)\n",
    "- Fortran\n",
    "- Julia\n",
    "\n",
    "Geralmente contam com bibliotecas de funções matemáticas prontas e recursos avançados."
   ]
  },
  {
   "cell_type": "markdown",
   "metadata": {
    "slideshow": {
     "slide_type": "slide"
    }
   },
   "source": [
    "## Spyder \n",
    "Ambiente de programação Python que permite a criação de novas funções/bibliotecas do usuário.\n",
    "\n",
    "<img src=\"imagens/spyder.png\" width=\"400\">\n",
    "\n",
    "O Spyder pode ser obtido com o pacote [Anaconda](https://www.anaconda.com/distribution/)."
   ]
  },
  {
   "cell_type": "markdown",
   "metadata": {
    "slideshow": {
     "slide_type": "slide"
    }
   },
   "source": [
    "## Spyder\n",
    "\n",
    "A interação do usuário com o Spyder pode ocorrer de duas formas distintas:\n",
    "\n",
    "- Na **primeira forma**, os comando são digitados diretamente no *console* do Spyder:\n",
    "    + Ao ser pressionada a tecla Enter, os comandos digitados são interpretados e imediatamente executados.\n",
    "    + O Spyder (Python) funciona como uma  calculadora sofisticada.\n",
    "\n",
    "- Na **segunda forma**, um conjunto de comandos é digitado em um arquivo texto:\n",
    "    + Este arquivo  (script) pode ser  executado.\n",
    "    + Neste modo, o Spyder funciona como um ambiente de programação."
   ]
  },
  {
   "cell_type": "markdown",
   "metadata": {
    "slideshow": {
     "slide_type": "slide"
    }
   },
   "source": [
    "## Spyder\n",
    "\n",
    "Digitando o seguinte comando no console:"
   ]
  },
  {
   "cell_type": "code",
   "execution_count": 4,
   "metadata": {
    "slideshow": {
     "slide_type": "fragment"
    }
   },
   "outputs": [],
   "source": [
    "x = 2"
   ]
  },
  {
   "cell_type": "markdown",
   "metadata": {
    "slideshow": {
     "slide_type": "fragment"
    }
   },
   "source": [
    "estaremos criando uma variável real chamada $x$ cujo valor é igual a 2."
   ]
  },
  {
   "cell_type": "markdown",
   "metadata": {
    "slideshow": {
     "slide_type": "slide"
    }
   },
   "source": [
    "## Variável\n",
    "\n",
    "Uma variável é um endereço da memória de acesso randômico (RAM), representada por um nome \n",
    "(rótulo), criado pelo usuário, cujo conteúdo pode se alterar no decorrer do programa.\n",
    "\n",
    "Uma variável é composta por dois elementos:\n",
    "    \n",
    "  - **Identificador**: nome dado pelo programador à variável\n",
    "  - **Conteúdo**: valor da variável\n",
    "<img src=\"imagens/memvar2.png\" width=\"400\">\n",
    "\n",
    "No caso anterior, x é o identificador (nome da variável) e 2 é o conteúdo (valor)."
   ]
  },
  {
   "cell_type": "markdown",
   "metadata": {
    "slideshow": {
     "slide_type": "slide"
    }
   },
   "source": [
    "## Variável\n",
    "\n",
    "Cada vez que mencionarmos o nome de uma variável, estaremos na verdade utilizando o seu conteúdo"
   ]
  },
  {
   "cell_type": "code",
   "execution_count": 16,
   "metadata": {
    "slideshow": {
     "slide_type": "fragment"
    }
   },
   "outputs": [
    {
     "data": {
      "text/plain": [
       "7"
      ]
     },
     "execution_count": 16,
     "metadata": {},
     "output_type": "execute_result"
    }
   ],
   "source": [
    "y = x + 5\n",
    "y"
   ]
  },
  {
   "cell_type": "markdown",
   "metadata": {
    "slideshow": {
     "slide_type": "fragment"
    }
   },
   "source": [
    "Esta operação define $y$ como sendo uma variável com valor igual ao valor de $x$ mais cinco. Ou seja, $y$ tem um valor igual a 7"
   ]
  },
  {
   "cell_type": "code",
   "execution_count": 17,
   "metadata": {
    "slideshow": {
     "slide_type": "fragment"
    }
   },
   "outputs": [
    {
     "data": {
      "text/plain": [
       "14"
      ]
     },
     "execution_count": 17,
     "metadata": {},
     "output_type": "execute_result"
    }
   ],
   "source": [
    "z = x*y\n",
    "z"
   ]
  },
  {
   "cell_type": "markdown",
   "metadata": {
    "slideshow": {
     "slide_type": "fragment"
    }
   },
   "source": [
    "Neste caso, $z$ é igual à multiplicação dos valores guardados em $x$ e $y$, ou seja, $z$ é igual a 14."
   ]
  },
  {
   "cell_type": "code",
   "execution_count": 18,
   "metadata": {
    "slideshow": {
     "slide_type": "fragment"
    }
   },
   "outputs": [
    {
     "data": {
      "text/plain": [
       "7.0"
      ]
     },
     "execution_count": 18,
     "metadata": {},
     "output_type": "execute_result"
    }
   ],
   "source": [
    "w = z/x\n",
    "w"
   ]
  },
  {
   "cell_type": "markdown",
   "metadata": {
    "slideshow": {
     "slide_type": "fragment"
    }
   },
   "source": [
    "Aqui, $w$ é igual à divisão dos valores guardados em $z$ e $x$, ou seja, $w$\n",
    "é igual a 7."
   ]
  },
  {
   "cell_type": "code",
   "execution_count": 19,
   "metadata": {
    "slideshow": {
     "slide_type": "fragment"
    }
   },
   "outputs": [
    {
     "data": {
      "text/plain": [
       "5.0"
      ]
     },
     "execution_count": 19,
     "metadata": {},
     "output_type": "execute_result"
    }
   ],
   "source": [
    "k = w-x\n",
    "k"
   ]
  },
  {
   "cell_type": "markdown",
   "metadata": {
    "slideshow": {
     "slide_type": "fragment"
    }
   },
   "source": [
    "Aqui, $k$ é igual à subtração do valor guardado em $x$ de $w$. Ou seja, $k$\n",
    "é igual a 5."
   ]
  },
  {
   "cell_type": "code",
   "execution_count": 21,
   "metadata": {
    "slideshow": {
     "slide_type": "fragment"
    }
   },
   "outputs": [
    {
     "data": {
      "text/plain": [
       "125.0"
      ]
     },
     "execution_count": 21,
     "metadata": {},
     "output_type": "execute_result"
    }
   ],
   "source": [
    "m = k**3\n",
    "m"
   ]
  },
  {
   "cell_type": "markdown",
   "metadata": {
    "slideshow": {
     "slide_type": "fragment"
    }
   },
   "source": [
    "Aqui, $m$ é igual ao valor guardado em $k$ elevado ao cubo. Ou seja, $m$ é igual a 125."
   ]
  },
  {
   "cell_type": "markdown",
   "metadata": {
    "slideshow": {
     "slide_type": "slide"
    }
   },
   "source": [
    "## Funções matemáticas\n",
    "\n",
    "Para usar funções mais complexas, é necessário utilizar a biblioteca Numpy. Para poder utilizar esta biblioteca, é necessário importá-la:"
   ]
  },
  {
   "cell_type": "code",
   "execution_count": 25,
   "metadata": {
    "slideshow": {
     "slide_type": "fragment"
    }
   },
   "outputs": [],
   "source": [
    "import numpy as np"
   ]
  },
  {
   "cell_type": "markdown",
   "metadata": {
    "slideshow": {
     "slide_type": "fragment"
    }
   },
   "source": [
    "Esta biblioteca tem diversas funções que são facilmente utilizadas colocando 'np.' antes da função desejada. Por exemplo, a função logaritmo na base 10 é chamada com: "
   ]
  },
  {
   "cell_type": "code",
   "execution_count": 27,
   "metadata": {
    "slideshow": {
     "slide_type": "fragment"
    }
   },
   "outputs": [
    {
     "data": {
      "text/plain": [
       "1.2041199826559248"
      ]
     },
     "execution_count": 27,
     "metadata": {},
     "output_type": "execute_result"
    }
   ],
   "source": [
    "np.log10(16)"
   ]
  },
  {
   "cell_type": "markdown",
   "metadata": {
    "slideshow": {
     "slide_type": "fragment"
    }
   },
   "source": [
    "Se você quiser guardar o resultado em uma variável também é possível:"
   ]
  },
  {
   "cell_type": "code",
   "execution_count": 30,
   "metadata": {
    "slideshow": {
     "slide_type": "fragment"
    }
   },
   "outputs": [
    {
     "data": {
      "text/plain": [
       "1.2041199826559248"
      ]
     },
     "execution_count": 30,
     "metadata": {},
     "output_type": "execute_result"
    }
   ],
   "source": [
    "a = np.log10(16)\n",
    "a"
   ]
  },
  {
   "cell_type": "markdown",
   "metadata": {
    "slideshow": {
     "slide_type": "fragment"
    }
   },
   "source": [
    "E se quiser calcular o valor da função para uma variável é simples:"
   ]
  },
  {
   "cell_type": "code",
   "execution_count": 32,
   "metadata": {
    "slideshow": {
     "slide_type": "fragment"
    }
   },
   "outputs": [
    {
     "data": {
      "text/plain": [
       "0.69897000433601886"
      ]
     },
     "execution_count": 32,
     "metadata": {},
     "output_type": "execute_result"
    }
   ],
   "source": [
    "b = np.log10(k)\n",
    "b"
   ]
  },
  {
   "cell_type": "markdown",
   "metadata": {
    "slideshow": {
     "slide_type": "slide"
    }
   },
   "source": [
    "## Funções matemáticas\n",
    "\n",
    "Alguns exemplos de funções são:\n"
   ]
  },
  {
   "cell_type": "markdown",
   "metadata": {
    "slideshow": {
     "slide_type": "fragment"
    }
   },
   "source": [
    "**Exponencial**: exp($x$)=$e^x$ em que $e=2,7182...$ "
   ]
  },
  {
   "cell_type": "code",
   "execution_count": 35,
   "metadata": {
    "slideshow": {
     "slide_type": "fragment"
    }
   },
   "outputs": [
    {
     "data": {
      "text/plain": [
       "0.1353352832366127"
      ]
     },
     "execution_count": 35,
     "metadata": {},
     "output_type": "execute_result"
    }
   ],
   "source": [
    "np.exp(-2)"
   ]
  },
  {
   "cell_type": "markdown",
   "metadata": {
    "slideshow": {
     "slide_type": "fragment"
    }
   },
   "source": [
    "**Raiz quadrada**"
   ]
  },
  {
   "cell_type": "code",
   "execution_count": 37,
   "metadata": {
    "slideshow": {
     "slide_type": "fragment"
    }
   },
   "outputs": [
    {
     "data": {
      "text/plain": [
       "5.0"
      ]
     },
     "execution_count": 37,
     "metadata": {},
     "output_type": "execute_result"
    }
   ],
   "source": [
    "s = np.sqrt(25)\n",
    "s"
   ]
  },
  {
   "cell_type": "markdown",
   "metadata": {
    "slideshow": {
     "slide_type": "fragment"
    }
   },
   "source": [
    "**Funções trigonométricas**"
   ]
  },
  {
   "cell_type": "code",
   "execution_count": 39,
   "metadata": {
    "slideshow": {
     "slide_type": "fragment"
    }
   },
   "outputs": [
    {
     "name": "stdout",
     "output_type": "stream",
     "text": [
      "1.0\n",
      "0.707106781187\n"
     ]
    }
   ],
   "source": [
    "d = np.sin(np.pi/2)\n",
    "g = np.cos(np.pi/4)\n",
    "print(d)\n",
    "print(g)"
   ]
  },
  {
   "cell_type": "markdown",
   "metadata": {
    "slideshow": {
     "slide_type": "fragment"
    }
   },
   "source": [
    "Nos dois últimos casos, para representar o valor de $\\pi$, foi utilizado 'np.pi'."
   ]
  },
  {
   "cell_type": "markdown",
   "metadata": {
    "slideshow": {
     "slide_type": "slide"
    }
   },
   "source": [
    "## Vetores\n",
    "\n",
    "Com o Numpy você pode criar vetores. \n",
    "Com o comando 'np.array' você cria vetores digitando cada elemento pertencente ao vetor:"
   ]
  },
  {
   "cell_type": "code",
   "execution_count": 41,
   "metadata": {
    "slideshow": {
     "slide_type": "fragment"
    }
   },
   "outputs": [
    {
     "data": {
      "text/plain": [
       "array([1, 2, 3, 4, 5])"
      ]
     },
     "execution_count": 41,
     "metadata": {},
     "output_type": "execute_result"
    }
   ],
   "source": [
    "x = np.array([1,2,3,4,5])\n",
    "x"
   ]
  },
  {
   "cell_type": "markdown",
   "metadata": {
    "slideshow": {
     "slide_type": "fragment"
    }
   },
   "source": [
    "Com o comando 'np.arange', você cria vetores especificando os limites e o intervalo entre os elementos. Por exemplo, para criar um vetor que vai de 0 a 12 com intervalo entre os elementos de 0,2, deve-se digitar:"
   ]
  },
  {
   "cell_type": "code",
   "execution_count": 45,
   "metadata": {
    "slideshow": {
     "slide_type": "fragment"
    }
   },
   "outputs": [
    {
     "data": {
      "text/plain": [
       "array([  0. ,   0.2,   0.4,   0.6,   0.8,   1. ,   1.2,   1.4,   1.6,\n",
       "         1.8,   2. ,   2.2,   2.4,   2.6,   2.8,   3. ,   3.2,   3.4,\n",
       "         3.6,   3.8,   4. ,   4.2,   4.4,   4.6,   4.8,   5. ,   5.2,\n",
       "         5.4,   5.6,   5.8,   6. ,   6.2,   6.4,   6.6,   6.8,   7. ,\n",
       "         7.2,   7.4,   7.6,   7.8,   8. ,   8.2,   8.4,   8.6,   8.8,\n",
       "         9. ,   9.2,   9.4,   9.6,   9.8,  10. ,  10.2,  10.4,  10.6,\n",
       "        10.8,  11. ,  11.2,  11.4,  11.6,  11.8])"
      ]
     },
     "execution_count": 45,
     "metadata": {},
     "output_type": "execute_result"
    }
   ],
   "source": [
    "y = np.arange(0, 12, 0.2)\n",
    "y"
   ]
  },
  {
   "cell_type": "markdown",
   "metadata": {
    "slideshow": {
     "slide_type": "fragment"
    }
   },
   "source": [
    "Com o comando 'np.linspace', você cria vetores especificando os limites e o número de elementos. Por exemplo, para criar um vetor que vai de 0 a 11 com 130 elementos, deve-se digitar:"
   ]
  },
  {
   "cell_type": "code",
   "execution_count": 46,
   "metadata": {
    "slideshow": {
     "slide_type": "fragment"
    }
   },
   "outputs": [
    {
     "data": {
      "text/plain": [
       "array([  0.        ,   0.08527132,   0.17054264,   0.25581395,\n",
       "         0.34108527,   0.42635659,   0.51162791,   0.59689922,\n",
       "         0.68217054,   0.76744186,   0.85271318,   0.9379845 ,\n",
       "         1.02325581,   1.10852713,   1.19379845,   1.27906977,\n",
       "         1.36434109,   1.4496124 ,   1.53488372,   1.62015504,\n",
       "         1.70542636,   1.79069767,   1.87596899,   1.96124031,\n",
       "         2.04651163,   2.13178295,   2.21705426,   2.30232558,\n",
       "         2.3875969 ,   2.47286822,   2.55813953,   2.64341085,\n",
       "         2.72868217,   2.81395349,   2.89922481,   2.98449612,\n",
       "         3.06976744,   3.15503876,   3.24031008,   3.3255814 ,\n",
       "         3.41085271,   3.49612403,   3.58139535,   3.66666667,\n",
       "         3.75193798,   3.8372093 ,   3.92248062,   4.00775194,\n",
       "         4.09302326,   4.17829457,   4.26356589,   4.34883721,\n",
       "         4.43410853,   4.51937984,   4.60465116,   4.68992248,\n",
       "         4.7751938 ,   4.86046512,   4.94573643,   5.03100775,\n",
       "         5.11627907,   5.20155039,   5.28682171,   5.37209302,\n",
       "         5.45736434,   5.54263566,   5.62790698,   5.71317829,\n",
       "         5.79844961,   5.88372093,   5.96899225,   6.05426357,\n",
       "         6.13953488,   6.2248062 ,   6.31007752,   6.39534884,\n",
       "         6.48062016,   6.56589147,   6.65116279,   6.73643411,\n",
       "         6.82170543,   6.90697674,   6.99224806,   7.07751938,\n",
       "         7.1627907 ,   7.24806202,   7.33333333,   7.41860465,\n",
       "         7.50387597,   7.58914729,   7.6744186 ,   7.75968992,\n",
       "         7.84496124,   7.93023256,   8.01550388,   8.10077519,\n",
       "         8.18604651,   8.27131783,   8.35658915,   8.44186047,\n",
       "         8.52713178,   8.6124031 ,   8.69767442,   8.78294574,\n",
       "         8.86821705,   8.95348837,   9.03875969,   9.12403101,\n",
       "         9.20930233,   9.29457364,   9.37984496,   9.46511628,\n",
       "         9.5503876 ,   9.63565891,   9.72093023,   9.80620155,\n",
       "         9.89147287,   9.97674419,  10.0620155 ,  10.14728682,\n",
       "        10.23255814,  10.31782946,  10.40310078,  10.48837209,\n",
       "        10.57364341,  10.65891473,  10.74418605,  10.82945736,\n",
       "        10.91472868,  11.        ])"
      ]
     },
     "execution_count": 46,
     "metadata": {},
     "output_type": "execute_result"
    }
   ],
   "source": [
    "z = np.linspace(0, 11, 130)\n",
    "z"
   ]
  },
  {
   "cell_type": "markdown",
   "metadata": {
    "slideshow": {
     "slide_type": "slide"
    }
   },
   "source": [
    "## Gráfico de funções\n",
    "\n",
    "Para fazer o gráfico de funções no Python, deve-se importar a biblioteca matplotlib."
   ]
  },
  {
   "cell_type": "code",
   "execution_count": 47,
   "metadata": {
    "slideshow": {
     "slide_type": "fragment"
    }
   },
   "outputs": [],
   "source": [
    "import matplotlib.pyplot as plt"
   ]
  },
  {
   "cell_type": "code",
   "execution_count": null,
   "metadata": {},
   "outputs": [],
   "source": []
  },
  {
   "cell_type": "markdown",
   "metadata": {
    "slideshow": {
     "slide_type": "slide"
    }
   },
   "source": [
    "## Referências\n",
    "\n",
    "- Chalco, JM, *Slides de Bases Computacionais da Ciência*, (2014)\n",
    "- Leite, S, *Slides de Bases Computacionais da Ciência*, (2018)\n",
    "- [Marietto, MGB et al.; **Bases computacionais da Ciência** (2013)](http://prograd.ufabc.edu.br/images/pdf/bases_computacionais_livro.pdf).\n",
    "- [Duarte, M, *Python para computação científica* (2017)](https://nbviewer.jupyter.org/github/BMClab/bmc/blob/master/notebooks/PT-BR/PythonForScientificComputing_PT-BR.ipynb)"
   ]
  },
  {
   "cell_type": "code",
   "execution_count": null,
   "metadata": {},
   "outputs": [],
   "source": []
  }
 ],
 "metadata": {
  "celltoolbar": "Slideshow",
  "kernelspec": {
   "display_name": "Python 3",
   "language": "python",
   "name": "python3"
  },
  "language_info": {
   "codemirror_mode": {
    "name": "ipython",
    "version": 3
   },
   "file_extension": ".py",
   "mimetype": "text/x-python",
   "name": "python",
   "nbconvert_exporter": "python",
   "pygments_lexer": "ipython3",
   "version": "3.6.8"
  },
  "latex_envs": {
   "LaTeX_envs_menu_present": true,
   "autoclose": false,
   "autocomplete": true,
   "bibliofile": "biblio.bib",
   "cite_by": "apalike",
   "current_citInitial": 1,
   "eqLabelWithNumbers": true,
   "eqNumInitial": 1,
   "hotkeys": {
    "equation": "Ctrl-E",
    "itemize": "Ctrl-I"
   },
   "labels_anchors": false,
   "latex_user_defs": false,
   "report_style_numbering": false,
   "user_envs_cfg": false
  },
  "nbTranslate": {
   "displayLangs": [
    "*"
   ],
   "hotkey": "alt-t",
   "langInMainMenu": true,
   "sourceLang": "en",
   "targetLang": "fr",
   "useGoogleTranslate": true
  }
 },
 "nbformat": 4,
 "nbformat_minor": 2
}
