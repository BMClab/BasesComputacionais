{
 "cells": [
  {
   "cell_type": "markdown",
   "metadata": {
    "slideshow": {
     "slide_type": "slide"
    }
   },
   "source": [
    "# Modelagem\n",
    "\n",
    "Renato Naville Watanabe"
   ]
  },
  {
   "cell_type": "markdown",
   "metadata": {
    "slideshow": {
     "slide_type": "slide"
    }
   },
   "source": [
    "A Modelagem e Simulação Computacional está cada vez mais presente em diversas áreas. \n",
    "Permitem estudar sistemas reais de maneira aproximada, através modelos matemáticos que os representam. \n",
    "\n",
    "Tais modelos são implementados em simulações computacionais, que são executadas visando obter um melhor entendimento do sistema real."
   ]
  },
  {
   "cell_type": "markdown",
   "metadata": {
    "slideshow": {
     "slide_type": "slide"
    }
   },
   "source": [
    "Desta forma, a Modelagem e Simulação Computacional configuram-se como uma poderosa ferramenta para:\n",
    "\n",
    "- Observar comportamentos;\n",
    "- Testar teorias e hipóteses;\n",
    "- Predizer comportamentos e ações futuras;"
   ]
  },
  {
   "cell_type": "markdown",
   "metadata": {
    "slideshow": {
     "slide_type": "slide"
    }
   },
   "source": [
    "### Sistema\n",
    "\n",
    "Um sistema é uma combinação de componentes agindo em conjunto para realizar um objetivo específico. \n",
    "\n",
    "Não é limitado ao reino dos fenômenos físicos. O conceito de um sistema pode ser estendido a fenômenos abstratos, tais como aqueles encontrados em economia, transporte, crescimento populacional e biologia."
   ]
  },
  {
   "cell_type": "markdown",
   "metadata": {
    "slideshow": {
     "slide_type": "slide"
    }
   },
   "source": [
    "Há algumas formas de se estudar um sistema:\n",
    "    \n",
    "- Experimentos com o Sistema Real.\n",
    "- Experimentos com Modelos Físicos.\n",
    "- Experimentos com Modelos Matemáticos."
   ]
  },
  {
   "cell_type": "markdown",
   "metadata": {
    "slideshow": {
     "slide_type": "slide"
    }
   },
   "source": [
    "### Experimentos com o Sistema Real\n",
    "\n",
    "Podem ser empregados quando é possível trabalhar diretamente com o sistema real, atuando em seus elementos e/ou alterando sua configuração. \n",
    "\n",
    "Como exemplo tem-se um experimento real de teste de impacto (ou crash-test).\n",
    "\n",
    "![crash](figuras/crash2.jpg)"
   ]
  },
  {
   "cell_type": "markdown",
   "metadata": {
    "slideshow": {
     "slide_type": "slide"
    }
   },
   "source": [
    "Tratar diretamente com o sistema real pode não ser possível:\n",
    "O experimento pode ser muito caro ou perigoso. Por exemplo, analisar pessoas em uma situação de incêndio.\n",
    "\n",
    "![figuras/fogo.png](figuras/fogo.png)"
   ]
  },
  {
   "cell_type": "markdown",
   "metadata": {
    "slideshow": {
     "slide_type": "slide"
    }
   },
   "source": [
    "Pode ser impossível tratar diretamente com sistemas reais. \n",
    "\n",
    "Exemplo: a análise dos buracos negros, ou situações onde não há evidências da existência do sistema.\n",
    "\n",
    "![figuras/black_hole.png](figuras/black_hole.jpg)"
   ]
  },
  {
   "cell_type": "markdown",
   "metadata": {
    "slideshow": {
     "slide_type": "slide"
    }
   },
   "source": [
    "Em muitas situações é necessário construir um modelo que represente parcialmente o sistema e realizar experimento com este modelo.\n",
    "\n",
    "Desta forma, é possível estudar o sistema real de maneira indireta, deixando-o inalterado.\n",
    "\n",
    "Um **modelo** é uma representação parcial de um objeto, sistema ou ideia."
   ]
  },
  {
   "cell_type": "markdown",
   "metadata": {
    "slideshow": {
     "slide_type": "slide"
    }
   },
   "source": [
    "### Modelos físicos\n",
    "\n",
    "Os modelos físicos consideram: experimentos com objetos reais\n",
    "tais objetos atuam como representações parciais do sistema que se\n",
    "deseja estudar\n",
    "\n",
    "Como exemplo: mapas, maquetes e modelos animais.\n",
    "    \n",
    "<table><tr>\n",
    "<td>    <img src=\"figuras/model.jpg\" width=\"300\" /></td>\n",
    "<td>    <img src=\"figuras/plane_model.jpg\" width=\"300\" /></td>\n",
    "<td>    <img src=\"figuras/animal.jpg\" width=\"300\" /></td>\n",
    "</tr></table>"
   ]
  },
  {
   "cell_type": "markdown",
   "metadata": {
    "slideshow": {
     "slide_type": "slide"
    }
   },
   "source": [
    "### Modelo matemático\n",
    "\n",
    "Modelos matemáticos usam símbolos em lugar de dispositivos físicos, procurando representar  as principais características e comportamentos do sistema alvo que se deseja analisar.\n",
    "\n",
    "Há duas formas de solução de modelos matemáticos:\n",
    "\n",
    "- Solução analítica;\n",
    "- Solução numérica (via simulação computacional)."
   ]
  },
  {
   "cell_type": "markdown",
   "metadata": {
    "slideshow": {
     "slide_type": "slide"
    }
   },
   "source": [
    "### Exemplo: dinâmica populacional\n",
    "\n",
    "Um modelo simples muito usado para o estudo da dinâmica populacional é o modelo de **Lotka-Volterra**, também conhecido como modelo **presa-predador**. Ele modela como a população de duas espécies que interagem entre si, sendo uma a presa e a outra predadora, evoluem ao longo do tempo.\n",
    "\n",
    "Esse modelo tem duas variáveis: \n",
    "\n",
    "- A população de presas, por exemplo de coelhos.\n",
    "- A população de predadores, por exemplo de raposas.\n",
    "\n",
    "<span style=\"color:red\"> **Obs: o modelo de Lotka-Volterra utiliza equações diferenciais. A abordagem a seguir é uma abordagem simplificada, que não utiliza conceitos de cálculo diferencial e equações diferenciais.** </span>"
   ]
  },
  {
   "cell_type": "markdown",
   "metadata": {
    "slideshow": {
     "slide_type": "slide"
    }
   },
   "source": [
    "A cada instante o número de coelhos e o número de raposas muda.\n",
    "\n",
    "$$C[i] = C[i-1] + \\Delta t \\frac{\\Delta C}{\\Delta t}$$\n",
    "\n",
    "$$R[i] = R[i-1] + \\Delta t \\frac{\\Delta R}{\\Delta t}$$\n",
    "\n",
    "em que $C$ representa o número de coelhos e $R$ representa o número de raposas. $\\Delta t$ representa o intervalo de tempo entre os índices $i$ e $i-1$, $\\Delta C$ representa a variação do número de coelhos nesse intervalo de tempo e $\\Delta R$ representa a variação do número de raposas nesse intervalo de tempo."
   ]
  },
  {
   "cell_type": "markdown",
   "metadata": {
    "slideshow": {
     "slide_type": "slide"
    }
   },
   "source": [
    "Precisamos de uma expressão para a variação do número de coelhos e número de raposas. Isso é descrito pelas equações abaixo e é o modelo de Lotka-Volterra.\n",
    "\n",
    "$$\\frac{\\Delta C}{\\Delta t} = \\alpha C[i-1] - \\beta R[i-1]C[i-1]$$\n",
    "\n",
    "$$\\frac{\\Delta R}{\\Delta t} = \\gamma R[i-1]C[i-1] - \\delta R[i-1]$$\n",
    "\n",
    "em que $\\alpha, \\beta, \\gamma$ e $\\delta$ são constantes reais positivas.\n",
    "\n",
    "- $\\alpha$: taxa de reprodução dos coelhos. \n",
    "- $\\beta$: taxa de morte de coelhos devido às raposas. Se não exixtirem raposas não há mortes de coelhos.\n",
    "- $\\gamma$: taxa de reprodução das raposas. Como a alimentação de raposas são os coelhos, este termo depende da existência de coelhos.\n",
    "- $\\delta$: taxa de morte das raposas.\n"
   ]
  },
  {
   "cell_type": "markdown",
   "metadata": {
    "slideshow": {
     "slide_type": "slide"
    }
   },
   "source": [
    "Conhecendo o número de coelhos e raposas no instante inicial ($i=0$), as equações acima podem ser computadas repetidamente para saber a população de cada espécie a cada instante."
   ]
  },
  {
   "cell_type": "markdown",
   "metadata": {
    "slideshow": {
     "slide_type": "slide"
    }
   },
   "source": [
    "### Exemplo: Imunização de população\n",
    "\n",
    "Uma população que está sujeita a uma determinada doença com uma vacina capaz de imunizar a pessoa vacinada pode ser modelada da seguinte forma. \n",
    "\n",
    "A população saudável não imunizada $P$ varia a cada dia com:\n",
    "\n",
    "$$P[i] = P[i-1] - \\alpha P[i-1] - \\beta P[i-1] + N$$\n",
    "\n",
    "A população infectada $I$ varia a cada dia com:\n",
    "\n",
    "$$I[i] = I[i-1] + \\alpha P[i-1] - \\gamma I[i-1] - \\delta I[i-1] $$\n",
    "\n",
    "A população imunizada $C$ varia a cada dia com:\n",
    "\n",
    "$$C[i] = C[i-1] + \\beta P[i-1] + \\gamma I[i-1]$$\n",
    "\n",
    "E o número de mortes $M$ devido à doença varia com:\n",
    "\n",
    "$$M[i] = M[i-1] + \\delta I[i-1]$$"
   ]
  },
  {
   "cell_type": "markdown",
   "metadata": {
    "slideshow": {
     "slide_type": "slide"
    }
   },
   "source": [
    "em que $\\alpha$, $\\beta$,  $\\gamma$ e $\\delta$ são parâmetros reais entre 0 e 1:\n",
    "\n",
    "$\\alpha$: taxa de contaminação da população saudável a cada dia.  \n",
    "$\\beta$: taxa de população não infectada que é vacinada por dia.  \n",
    "$\\gamma$: taxa da população infectada que se cura da doença e passa a ficar imunizada.  \n",
    "$\\delta$: taxa da população infectada que morre devido à doença.   \n",
    "$N$: número de novos habitantes. "
   ]
  },
  {
   "cell_type": "markdown",
   "metadata": {
    "slideshow": {
     "slide_type": "slide"
    }
   },
   "source": [
    "Conhecendo o número inicial (i=0) de pessoas em cada um dos grupos ($P, M, I$ e $C$) e os parâmetros $\\alpha$, $\\beta$,  $\\gamma$ e $\\delta$ (que vai depender da doença), basta repetir as quatro expressões acima para saber o número de pessoas em cada um dos grupos a cada dia. "
   ]
  },
  {
   "cell_type": "markdown",
   "metadata": {
    "slideshow": {
     "slide_type": "slide"
    }
   },
   "source": [
    "### Exemplo: Monte Carlo\n",
    "\n",
    "Iremos ilustrar simulação computacional com o \"Método de Monte Carlo\" para estimar o\n",
    "valor de $\\pi$.\n",
    "\n",
    "O Métodos Monte Carlo foi primeiro usado por Metropolis, Von Neumann, e Ulam em 1940,\n",
    "durante o projeto Manhattan (bomba atômica).\n",
    "\n",
    "Consiste na geração de números aleatórios para calcular propriedades de interesse."
   ]
  },
  {
   "cell_type": "markdown",
   "metadata": {
    "slideshow": {
     "slide_type": "slide"
    }
   },
   "source": [
    "Considere um quadrado com um circulo circunscrito:\n",
    "\n",
    "![circ](figuras/circulo.png)\n",
    "\n",
    "Sabe-se que:\n",
    "\n",
    "(Área do quadrado): \n",
    "$$A_Q = l^2 = (2r)^2 = 4r^2$$\n",
    "\n",
    "(Área do círculo): \n",
    "\n",
    "$$A_C = \\pi r^2$$\n",
    "\n",
    "Desta forma, temos:\n",
    "\n",
    "$$\\frac{A_C}{A_Q} = \\frac{\\pi r^2}{4r^2} \\rightarrow \\pi = 4\\frac{A_C}{A_Q} $$"
   ]
  },
  {
   "cell_type": "markdown",
   "metadata": {
    "slideshow": {
     "slide_type": "slide"
    }
   },
   "source": [
    "O método de Monte Carlo é utilizado para estimar a relação entre as áreas da circunferência e do quadrado. Ou seja, para estimar:\n",
    "\n",
    "$$\\frac{A_C}{A_Q}$$\n",
    "\n",
    "Para tornar os cálculos mais simples, assume-se que o quadrado tenha um lado de tamanho $l = 1$. Assim, o raio da circunferência é $r = \\frac{1}{2}$."
   ]
  },
  {
   "cell_type": "markdown",
   "metadata": {
    "slideshow": {
     "slide_type": "slide"
    }
   },
   "source": [
    "Utilizando um computador sorteamos aleatoriamente alguns pares de números aleatórios no intervalo [0, 1]. \n",
    "\n",
    "Cada par de números representará as coordenadas x e y de um ponto que pertence à área do quadrado.\n",
    "\n",
    "\n",
    "\n",
    "Podemos estimar as áreas do quadrado contando quantos pontos caem sobre cada uma das figuras.\n",
    "\n",
    "$$\\frac{A_C}{A_Q} \\approx \\frac{\\text{número de pontos dentro do círculo}}{\\text{total de pontos}}$$"
   ]
  },
  {
   "cell_type": "markdown",
   "metadata": {
    "slideshow": {
     "slide_type": "slide"
    }
   },
   "source": [
    "Dadas as coordenadas $(x, y)$ de um ponto A qualquer, oriundas de um sorteio aleatório, podemos saber se o ponto está dentro ou fora do círculo, calculando a distância Euclideana entre A e o centro do círculo C (com coordenadas $x_C = 0.5$ e $y_C = 0.5$).\n",
    "\n",
    "![dist](figuras/circ4.png)\n",
    "\n",
    "$$d = \\sqrt{\\Delta x^2 + \\Delta y^2} = \\sqrt{(x_C-x_A)^2 + (y_C-y_A)^2}$$\n",
    "\n",
    "\n",
    "\n",
    "Se a distância $d$ for menor ou igual a $r$, o ponto está dentro do círculo. "
   ]
  },
  {
   "cell_type": "markdown",
   "metadata": {
    "slideshow": {
     "slide_type": "slide"
    }
   },
   "source": [
    "### Tarefa (para agora)\n",
    "\n",
    "- Escrever um script de Python e executá-lo no Spyder para fazer o que é pedido a seguir.\n",
    "\n",
    "- As funções  e o script devem estar comentados.\n",
    "\n",
    "- Todos os resultados devem ser mostrados no Console ao executar o script.\n",
    "\n",
    "- Coloque no seu repositório do Github o arquivo '.py' contendo o script feito por você com o nome \"Tarefa19SeuNome.py\".\n",
    "\n",
    "- **1)** Faça um script para estimar o valor de $\\pi$ utilizando o método de Monte Carlo."
   ]
  },
  {
   "cell_type": "markdown",
   "metadata": {
    "slideshow": {
     "slide_type": "slide"
    }
   },
   "source": [
    "### Tarefa (para 30/08/2019)\n",
    "\n",
    "- Escrever um script de Python e executá-lo no Spyder para fazer o que é pedido a seguir.\n",
    "\n",
    "- Todas as funções devem estar comentadas de forma apropriada.\n",
    "\n",
    "- Todos os resultados devem ser mostrados no Console e todos os gráficos devem ser mostrados na tela ao executar o script.\n",
    "\n",
    "- Não se esqueça de indicar o significado de cada eixo, colocando a unidade da abscissa e da ordenada nos gráficos.\n",
    "\n",
    "- O arquivo com as funções que calcula a regressão e a correlação devem ser importados no script. \n",
    "\n",
    "- Coloque no seu repositório do Github o arquivo '.py' contendo o script feito por você com o nome \"Tarefa20SeuNome.py\"."
   ]
  },
  {
   "cell_type": "markdown",
   "metadata": {
    "slideshow": {
     "slide_type": "slide"
    }
   },
   "source": [
    "**1)** Sabe-se que inicialmente a população de coelhos em um ecossistema é de 1000 coelhos. Deseja-se saber quantas raposas é necessário colocar neste ecossistema para que a população de coelhos não ultrapasse 1500 e não fique abaixo de 500. \n",
    "\n",
    "Utilize o modelo de Lotka-Volterra para isso. \n",
    "\n",
    "Os parâmetros são:\n",
    "\n",
    "- $\\alpha = 0.0001 \\text{1/dia}$, \n",
    "- $\\beta = 0.00001$ 1/(raposas.dia), \n",
    "- $\\delta = 0.00007$ 1/(coelhos.dia)\n",
    "- $\\gamma = 0.00000009$ 1/dia.\n",
    "\n",
    "Faça o gráfico de 0 a 1000 dias da população das duas espécies. Utilize $\\Delta t = 0.01$ dias."
   ]
  },
  {
   "cell_type": "markdown",
   "metadata": {
    "slideshow": {
     "slide_type": "slide"
    }
   },
   "source": [
    "### Tarefa substitutiva (para 02/09/2019, substituirá a pior nota) \n",
    "\n",
    "\n",
    "- Escrever um script de Python e executá-lo no Spyder para fazer o que é pedido a seguir.\n",
    "\n",
    "- Todas as funções devem estar comentadas de forma apropriada.\n",
    "\n",
    "- Todos os resultados devem ser mostrados no Console e todos os gráficos devem ser mostrados na tela ao executar o script.\n",
    "\n",
    "- Não se esqueça de indicar o significado de cada eixo, colocando a unidade da abscissa e da ordenada nos gráficos.\n",
    "\n",
    "- O arquivo com as funções que calcula a regressão e a correlação devem ser importados no script. \n",
    "\n",
    "- Coloque no seu repositório do Github o arquivo '.py' contendo o script feito por você com o nome \"TarefaSubSeuNome.py\"."
   ]
  },
  {
   "cell_type": "markdown",
   "metadata": {
    "slideshow": {
     "slide_type": "slide"
    }
   },
   "source": [
    "**1)** A simulação a seguir deve ser feita ao longo de 365 dias, utilizando o modelo de imunização de população mostrado anteriormente. \n",
    "\n",
    "A taxa de contaminação $\\alpha$ é de 0,2% da população saudável por dia.  \n",
    "A doença mata 0,005% da população infectada ($\\delta$) por dia.  \n",
    "15% da população infectada se cura ($\\gamma$) por dia.  \n",
    "A cada dia chega $N=3$ novos habitantes na cidade. \n",
    "\n",
    "Qual a taxa $\\beta$ da população saudável e não imunizada deve ser vacinada por dia para que o número de mortos devido à doença não ultrapasse 10 em ano?\n",
    "\n",
    "Inicialmente a população da cidade é totalmente saudável e não imunizada e é composta por 10000 pessoas.\n",
    "\n"
   ]
  },
  {
   "cell_type": "markdown",
   "metadata": {
    "slideshow": {
     "slide_type": "slide"
    }
   },
   "source": [
    "### Referências\n",
    "\n",
    "- Chalco, JM, *Slides de Bases Computacionais da Ciência*, (2014)\n",
    "- Leite, S, *Slides de Bases Computacionais da Ciência*, (2018)\n",
    "- [Marietto, MGB et al.; **Bases computacionais da Ciência** (2013)](http://prograd.ufabc.edu.br/images/pdf/bases_computacionais_livro.pdf).\n",
    "- Ogata, K; *Dynamical systems* (2014) "
   ]
  }
 ],
 "metadata": {
  "celltoolbar": "Slideshow",
  "kernelspec": {
   "display_name": "Python 3",
   "language": "python",
   "name": "python3"
  },
  "language_info": {
   "codemirror_mode": {
    "name": "ipython",
    "version": 3
   },
   "file_extension": ".py",
   "mimetype": "text/x-python",
   "name": "python",
   "nbconvert_exporter": "python",
   "pygments_lexer": "ipython3",
   "version": "3.6.2"
  },
  "nbTranslate": {
   "displayLangs": [
    "*"
   ],
   "hotkey": "alt-t",
   "langInMainMenu": true,
   "sourceLang": "en",
   "targetLang": "fr",
   "useGoogleTranslate": true
  }
 },
 "nbformat": 4,
 "nbformat_minor": 2
}
