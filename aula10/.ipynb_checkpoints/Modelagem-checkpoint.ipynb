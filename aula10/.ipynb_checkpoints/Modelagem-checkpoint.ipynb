{
 "cells": [
  {
   "cell_type": "markdown",
   "metadata": {
    "slideshow": {
     "slide_type": "slide"
    }
   },
   "source": [
    "# Bases Computacionais: exemplos de Modelagem Computacional\n",
    "\n",
    "Renato Naville Watanabe"
   ]
  },
  {
   "cell_type": "markdown",
   "metadata": {
    "slideshow": {
     "slide_type": "slide"
    },
    "toc": true
   },
   "source": [
    "<h1>Contents<span class=\"tocSkip\"></span></h1>\n",
    "<div class=\"toc\"><ul class=\"toc-item\"><li><span><a href=\"#Motivação\" data-toc-modified-id=\"Motivação-1\"><span class=\"toc-item-num\">1&nbsp;&nbsp;</span>Motivação</a></span></li><li><span><a href=\"#Sistema\" data-toc-modified-id=\"Sistema-2\"><span class=\"toc-item-num\">2&nbsp;&nbsp;</span>Sistema</a></span></li><li><span><a href=\"#Formas-de-se-estudar-um-sistema\" data-toc-modified-id=\"Formas-de-se-estudar-um-sistema-3\"><span class=\"toc-item-num\">3&nbsp;&nbsp;</span>Formas de se estudar um sistema</a></span></li><li><span><a href=\"#Experimentos-com-o-Sistema-Real\" data-toc-modified-id=\"Experimentos-com-o-Sistema-Real-4\"><span class=\"toc-item-num\">4&nbsp;&nbsp;</span>Experimentos com o Sistema Real</a></span></li><li><span><a href=\"#Modelos-físicos\" data-toc-modified-id=\"Modelos-físicos-5\"><span class=\"toc-item-num\">5&nbsp;&nbsp;</span>Modelos físicos</a></span></li><li><span><a href=\"#Modelo-matemático\" data-toc-modified-id=\"Modelo-matemático-6\"><span class=\"toc-item-num\">6&nbsp;&nbsp;</span>Modelo matemático</a></span></li><li><span><a href=\"#Exemplo:-dinâmica-populacional\" data-toc-modified-id=\"Exemplo:-dinâmica-populacional-7\"><span class=\"toc-item-num\">7&nbsp;&nbsp;</span>Exemplo: dinâmica populacional</a></span></li><li><span><a href=\"#Exemplo:-Imunização-de-população\" data-toc-modified-id=\"Exemplo:-Imunização-de-população-8\"><span class=\"toc-item-num\">8&nbsp;&nbsp;</span>Exemplo: Imunização de população</a></span></li><li><span><a href=\"#Exemplo:-Monte-Carlo\" data-toc-modified-id=\"Exemplo:-Monte-Carlo-9\"><span class=\"toc-item-num\">9&nbsp;&nbsp;</span>Exemplo: Monte Carlo</a></span></li><li><span><a href=\"#Tarefa-(para-agora)\" data-toc-modified-id=\"Tarefa-(para-agora)-10\"><span class=\"toc-item-num\">10&nbsp;&nbsp;</span>Tarefa (para agora)</a></span></li><li><span><a href=\"#Tarefa-(para-30/08/2019)\" data-toc-modified-id=\"Tarefa-(para-30/08/2019)-11\"><span class=\"toc-item-num\">11&nbsp;&nbsp;</span>Tarefa (para 30/08/2019)</a></span></li><li><span><a href=\"#Tarefa-substitutiva-(substituirá-a-pior-nota)\" data-toc-modified-id=\"Tarefa-substitutiva-(substituirá-a-pior-nota)-12\"><span class=\"toc-item-num\">12&nbsp;&nbsp;</span>Tarefa substitutiva (substituirá a pior nota)</a></span></li><li><span><a href=\"#Referências\" data-toc-modified-id=\"Referências-13\"><span class=\"toc-item-num\">13&nbsp;&nbsp;</span>Referências</a></span></li></ul></div>"
   ]
  },
  {
   "cell_type": "markdown",
   "metadata": {
    "slideshow": {
     "slide_type": "slide"
    }
   },
   "source": [
    "### Motivação\n",
    "\n",
    "A Modelagem e Simulação Computacional está cada vez mais presente em diversas áreas. \n",
    "Permitem estudar sistemas reais de maneira aproximada, através modelos matemáticos que os representam. \n",
    "\n",
    "Tais modelos são implementados em simulações computacionais, que são executadas visando obter um melhor entendimento do sistema real."
   ]
  },
  {
   "cell_type": "markdown",
   "metadata": {
    "slideshow": {
     "slide_type": "slide"
    }
   },
   "source": [
    "Desta forma, a Modelagem e Simulação Computacional configuram-se como uma poderosa ferramenta para:\n",
    "\n",
    "- Observar comportamentos;\n",
    "- Testar teorias e hipóteses;\n",
    "- Predizer comportamentos e ações futuras;"
   ]
  },
  {
   "cell_type": "markdown",
   "metadata": {
    "slideshow": {
     "slide_type": "slide"
    }
   },
   "source": [
    "### Sistema\n",
    "\n",
    "Um sistema é uma combinação de componentes agindo em conjunto para realizar um objetivo específico. \n",
    "\n",
    "Não é limitado aos fenômenos físicos. O conceito de um sistema pode ser estendido a fenômenos abstratos, tais como aqueles encontrados em economia, transporte, crescimento populacional e biologia."
   ]
  },
  {
   "cell_type": "markdown",
   "metadata": {
    "slideshow": {
     "slide_type": "slide"
    }
   },
   "source": [
    "### Formas de se estudar um sistema\n",
    "\n",
    "Há algumas formas de se estudar um sistema:\n",
    "    \n",
    "- Experimentos com o Sistema Real.\n",
    "- Experimentos com Modelos Físicos.\n",
    "- Experimentos com Modelos Matemáticos."
   ]
  },
  {
   "cell_type": "markdown",
   "metadata": {
    "slideshow": {
     "slide_type": "slide"
    }
   },
   "source": [
    "### Experimentos com o Sistema Real\n",
    "\n",
    "Podem ser empregados quando é possível trabalhar diretamente com o sistema real, atuando em seus elementos e/ou alterando sua configuração. \n",
    "\n",
    "Como exemplo tem-se um experimento real de teste de impacto (ou crash-test).\n",
    "<table><tr>\n",
    "<td>    <img src=\"figuras/crash2.jpg\" width=\"400\" /></td>\n",
    "</tr></table>\n"
   ]
  },
  {
   "cell_type": "markdown",
   "metadata": {
    "slideshow": {
     "slide_type": "slide"
    }
   },
   "source": [
    "Tratar diretamente com o sistema real pode não ser possível:\n",
    "O experimento pode ser muito caro ou perigoso. Por exemplo, analisar pessoas em uma situação de incêndio.\n",
    "\n",
    "<table><tr>\n",
    "<td>    <img src=\"figuras/fogo.png\" width=\"400\" /></td>\n",
    "</tr></table>\n"
   ]
  },
  {
   "cell_type": "markdown",
   "metadata": {
    "slideshow": {
     "slide_type": "slide"
    }
   },
   "source": [
    "Pode ser impossível tratar diretamente com sistemas reais. \n",
    "\n",
    "Exemplo: a análise dos buracos negros, ou situações onde não há evidências da existência do sistema.\n",
    "\n",
    "<table><tr>\n",
    "<td>    <img src=\"figuras/black_hole.jpg\" width=\"400\" /></td>\n",
    "</tr></table>\n"
   ]
  },
  {
   "cell_type": "markdown",
   "metadata": {
    "slideshow": {
     "slide_type": "slide"
    }
   },
   "source": [
    "Em muitas situações é necessário construir um modelo que represente parcialmente o sistema e realizar experimento com este modelo.\n",
    "\n",
    "Desta forma, é possível estudar o sistema real de maneira indireta, deixando-o inalterado.\n",
    "\n",
    "Um **modelo** é uma representação parcial de um objeto, sistema ou ideia."
   ]
  },
  {
   "cell_type": "markdown",
   "metadata": {
    "slideshow": {
     "slide_type": "slide"
    }
   },
   "source": [
    "### Modelos físicos\n",
    "\n",
    "Os modelos físicos consideram: experimentos com objetos reais\n",
    "tais objetos atuam como representações parciais do sistema que se\n",
    "deseja estudar\n",
    "\n",
    "Como exemplo: mapas, maquetes e modelos animais.\n",
    "    \n",
    "<table><tr>\n",
    "<td>    <img src=\"figuras/model.jpg\" width=\"300\" /></td>\n",
    "<td>    <img src=\"figuras/plane_model.jpg\" width=\"300\" /></td>\n",
    "<td>    <img src=\"figuras/animal.jpg\" width=\"300\" /></td>\n",
    "</tr></table>"
   ]
  },
  {
   "cell_type": "markdown",
   "metadata": {
    "slideshow": {
     "slide_type": "slide"
    }
   },
   "source": [
    "### Modelo matemático\n",
    "\n",
    "Modelos matemáticos usam símbolos em lugar de dispositivos físicos, procurando representar  as principais características e comportamentos do sistema alvo que se deseja analisar.\n",
    "\n",
    "Há duas formas de solução de modelos matemáticos:\n",
    "\n",
    "- Solução analítica;\n",
    "- Solução numérica (via simulação computacional)."
   ]
  },
  {
   "cell_type": "markdown",
   "metadata": {
    "slideshow": {
     "slide_type": "slide"
    }
   },
   "source": [
    "### Exemplo: dinâmica populacional\n",
    "\n",
    "Um modelo simples muito usado para o estudo da dinâmica populacional é o modelo de **Lotka-Volterra**, também conhecido como modelo **presa-predador**. Ele modela como a população de duas espécies que interagem entre si, sendo uma a presa e a outra predadora, evoluem ao longo do tempo.\n",
    "\n",
    "Esse modelo tem duas variáveis: \n",
    "\n",
    "- A população de presas, por exemplo de coelhos.\n",
    "- A população de predadores, por exemplo de raposas.\n",
    "\n",
    "**<span style=\"color:red\"> Obs: o modelo de Lotka-Volterra utiliza equações diferenciais. A abordagem a seguir é uma abordagem simplificada, que não utiliza conceitos de cálculo diferencial e equações diferenciais. </span>**"
   ]
  },
  {
   "cell_type": "markdown",
   "metadata": {
    "slideshow": {
     "slide_type": "slide"
    }
   },
   "source": [
    "A cada instante o número de coelhos e o número de raposas muda.\n",
    "\n",
    "$$C[i] = C[i-1] + \\Delta t \\frac{\\Delta C}{\\Delta t}$$\n",
    "\n",
    "$$R[i] = R[i-1] + \\Delta t \\frac{\\Delta R}{\\Delta t}$$\n",
    "\n",
    "em que $C$ representa o número de coelhos e $R$ representa o número de raposas. $\\Delta t$ representa o intervalo de tempo entre os índices $i$ e $i-1$, $\\Delta C$ representa a variação do número de coelhos nesse intervalo de tempo e $\\Delta R$ representa a variação do número de raposas nesse intervalo de tempo."
   ]
  },
  {
   "cell_type": "markdown",
   "metadata": {
    "slideshow": {
     "slide_type": "slide"
    }
   },
   "source": [
    "Precisamos de uma expressão para a variação do número de coelhos e número de raposas. Isso é descrito pelas equações abaixo e é o modelo de Lotka-Volterra.\n",
    "\n",
    "$$\\frac{\\Delta C}{\\Delta t} = \\alpha C[i-1] - \\beta R[i-1]C[i-1]$$\n",
    "\n",
    "$$\\frac{\\Delta R}{\\Delta t} = \\gamma R[i-1]C[i-1] - \\delta R[i-1]$$\n",
    "\n",
    "em que $\\alpha, \\beta, \\gamma$ e $\\delta$ são constantes reais positivas.\n",
    "\n",
    "- $\\alpha$: taxa de reprodução dos coelhos. \n",
    "- $\\beta$: taxa de morte de coelhos devido às raposas. Se não exixtirem raposas não há mortes de coelhos.\n",
    "- $\\gamma$: taxa de reprodução das raposas. Como a alimentação de raposas são os coelhos, este termo depende da existência de coelhos.\n",
    "- $\\delta$: taxa de morte das raposas.\n"
   ]
  },
  {
   "cell_type": "markdown",
   "metadata": {
    "slideshow": {
     "slide_type": "slide"
    }
   },
   "source": [
    "Conhecendo o número de coelhos e raposas no instante inicial ($i=0$), as equações acima podem ser computadas repetidamente para saber a população de cada espécie a cada instante."
   ]
  },
  {
   "cell_type": "markdown",
   "metadata": {
    "slideshow": {
     "slide_type": "slide"
    }
   },
   "source": [
    "### Exemplo: Imunização de população\n",
    "\n",
    "Uma população que está sujeita a uma determinada doença com uma vacina capaz de imunizar a pessoa vacinada pode ser modelada de forma simplificada da seguinte forma. \n",
    "\n",
    "A população saudável não imunizada $P$ varia a cada dia com:\n",
    "\n",
    "$$P[i] = P[i-1] - \\alpha P[i-1] - \\beta P[i-1] + N$$\n",
    "\n",
    "A população infectada $I$ varia a cada dia com:\n",
    "\n",
    "$$I[i] = I[i-1] + \\alpha P[i-1] - \\gamma I[i-1] - \\delta I[i-1] $$\n",
    "\n",
    "A população imunizada $C$ varia a cada dia com:\n",
    "\n",
    "$$C[i] = C[i-1] + \\beta P[i-1] + \\gamma I[i-1]$$\n",
    "\n",
    "E o número de mortes $M$ devido à doença varia com:\n",
    "\n",
    "$$M[i] = M[i-1] + \\delta I[i-1]$$"
   ]
  },
  {
   "cell_type": "markdown",
   "metadata": {
    "slideshow": {
     "slide_type": "slide"
    }
   },
   "source": [
    "em que $\\alpha$, $\\beta$,  $\\gamma$ e $\\delta$ são parâmetros reais entre 0 e 1:\n",
    "\n",
    "$\\alpha$: taxa de contaminação da população saudável a cada dia.  \n",
    "$\\beta$: taxa de população não infectada que é vacinada por dia.  \n",
    "$\\gamma$: taxa da população infectada que se cura da doença e passa a ficar imunizada.  \n",
    "$\\delta$: taxa da população infectada que morre devido à doença.   \n",
    "$N$: número de novos habitantes. "
   ]
  },
  {
   "cell_type": "markdown",
   "metadata": {
    "slideshow": {
     "slide_type": "slide"
    }
   },
   "source": [
    "Conhecendo o número inicial (i=0) de pessoas em cada um dos grupos ($P, M, I$ e $C$) e os parâmetros $\\alpha$, $\\beta$,  $\\gamma$ e $\\delta$ (que vai depender da doença), basta repetir as quatro expressões acima para saber o número de pessoas em cada um dos grupos a cada dia. "
   ]
  },
  {
   "cell_type": "markdown",
   "metadata": {
    "slideshow": {
     "slide_type": "slide"
    }
   },
   "source": [
    "### Exemplo: Monte Carlo\n",
    "\n",
    "Iremos ilustrar simulação computacional com o \"Método de Monte Carlo\" para estimar o\n",
    "valor de $\\pi$.\n",
    "\n",
    "O Métodos Monte Carlo foi primeiro usado por Metropolis, Von Neumann, e Ulam em 1940,\n",
    "durante o projeto Manhattan (bomba atômica).\n",
    "\n",
    "Consiste na geração de números aleatórios para calcular propriedades de interesse."
   ]
  },
  {
   "cell_type": "markdown",
   "metadata": {
    "slideshow": {
     "slide_type": "slide"
    }
   },
   "source": [
    "Considere um quadrado com um circulo circunscrito:\n",
    "\n",
    "![circ](figuras/circulo.png)\n",
    "\n",
    "Sabe-se que:\n",
    "\n",
    "- **Área do quadrado**: \n",
    "$$A_Q = l^2 = (2r)^2 = 4r^2$$\n",
    "\n",
    "- **Área do círculo**: \n",
    "\n",
    "$$A_C = \\pi r^2$$\n",
    "\n",
    "Desta forma, temos:\n",
    "\n",
    "$$\\frac{A_C}{A_Q} = \\frac{\\pi r^2}{4r^2} \\rightarrow \\pi = 4\\frac{A_C}{A_Q} $$"
   ]
  },
  {
   "cell_type": "markdown",
   "metadata": {
    "slideshow": {
     "slide_type": "slide"
    }
   },
   "source": [
    "O método de Monte Carlo é utilizado para estimar a relação entre as áreas da circunferência e do quadrado. Ou seja, para estimar:\n",
    "\n",
    "$$\\frac{A_C}{A_Q}$$\n",
    "\n",
    "Para tornar os cálculos mais simples, assume-se que o quadrado tenha um lado de tamanho $l = 1$. Assim, o raio da circunferência é $r = \\frac{1}{2}$."
   ]
  },
  {
   "cell_type": "markdown",
   "metadata": {
    "slideshow": {
     "slide_type": "slide"
    }
   },
   "source": [
    "Utilizando um computador sorteamos aleatoriamente alguns pares de números aleatórios no intervalo [0, 1]. \n",
    "\n",
    "Cada par de números representará as coordenadas x e y de um ponto que pertence à área do quadrado.\n",
    "\n",
    "\n",
    "\n",
    "Podemos estimar a proporção entre as áreas do círculo e do quadrado contando quantos pontos caem sobre cada uma das figuras.\n",
    "\n",
    "$$\\frac{A_C}{A_Q} \\approx \\frac{\\text{número de pontos dentro do círculo}}{\\text{total de pontos}}$$\n",
    "\n",
    "\n",
    "<table><tr>\n",
    "<td>   <img src=\"figuras/circ3.png\" width=\"400\" /></td>\n",
    "</tr></table>\n",
    "\n"
   ]
  },
  {
   "cell_type": "markdown",
   "metadata": {
    "slideshow": {
     "slide_type": "slide"
    }
   },
   "source": [
    "Dadas as coordenadas $(x, y)$ de um ponto A qualquer, oriundas de um sorteio aleatório, podemos saber se o ponto está dentro ou fora do círculo, calculando a distância Euclideana entre A e o centro do círculo C (com coordenadas $x_C = 0.5$ e $y_C = 0.5$).\n",
    "\n",
    "![dist](figuras/circ4.png)\n",
    "\n",
    "$$d = \\sqrt{\\Delta x^2 + \\Delta y^2} = \\sqrt{(x_C-x_A)^2 + (y_C-y_A)^2}$$\n",
    "\n",
    "\n",
    "\n",
    "Se a distância $d$ for menor ou igual a $r$, o ponto está dentro do círculo. "
   ]
  },
  {
   "cell_type": "markdown",
   "metadata": {
    "slideshow": {
     "slide_type": "slide"
    }
   },
   "source": [
    "### Tarefa (para agora)\n",
    "\n",
    "- Escrever um notebook do Colab para fazer o que pedido a seguir.\n",
    "\n",
    "- Colocar o seu nome na primeira célula do Notebook.\n",
    "\n",
    "- O notebook deve estar com texto explicando o Notebook. \n",
    "\n",
    "- Todos os resultados devem ser mostrados ao executar o notebook.\n",
    "\n",
    "- Coloque no seu repositório do Github o arquivo '.ipynb' contendo o notebook feito por você com o nome \"Tarefa19SeuNome.ipynb\".\n",
    "\n",
    "- **1)** Faça um notebook para estimar o valor de $\\pi$ utilizando o método de Monte Carlo."
   ]
  },
  {
   "cell_type": "markdown",
   "metadata": {
    "slideshow": {
     "slide_type": "slide"
    }
   },
   "source": [
    "### Tarefa (para 30/08/2019)\n",
    "\n",
    "- Escrever um notebook do Colab para fazer o que pedido a seguir.\n",
    "\n",
    "- Colocar o seu nome na primeira célula do Notebook.\n",
    "\n",
    "- O notebook deve estar com texto explicando o Notebook. \n",
    "\n",
    "- Todos os resultados devem ser mostrados ao executar o notebook.\n",
    "\n",
    "- Não se esqueça de indicar o significado de cada eixo, colocando a unidade da abscissa e da ordenada nos gráficos.\n",
    "\n",
    "- Coloque no seu repositório do Github o arquivo '.ipynb' contendo o notebook feito por você com o nome \"Tarefa20SeuNome.ipynb\"."
   ]
  },
  {
   "cell_type": "markdown",
   "metadata": {
    "slideshow": {
     "slide_type": "slide"
    }
   },
   "source": [
    "**1)** Sabe-se que inicialmente a população de coelhos em um ecossistema é de 1000 coelhos.\n",
    "Deseja-se saber quantas raposas são necessárias colocar inicialmente neste ecossistema para que a população de coelhos não ultrapasse 1500 e não fique abaixo de 500. \n",
    "\n",
    "Utilize o modelo de Lotka-Volterra para isso. \n",
    "\n",
    "Os parâmetros são:\n",
    "\n",
    "- $\\alpha = 0.0001 \\text{1/dia}$, \n",
    "- $\\beta = 0.00001$ 1/(raposas.dia), \n",
    "- $\\delta = 0.00007$ 1/(coelhos.dia)\n",
    "- $\\gamma = 0.00000009$ 1/dia.\n",
    "\n",
    "Faça o gráfico de 0 a 999 dias da população das duas espécies com o número de raposas encontrado. Utilize $\\Delta t = 0.01$ dias para a simulação."
   ]
  },
  {
   "cell_type": "markdown",
   "metadata": {
    "slideshow": {
     "slide_type": "slide"
    }
   },
   "source": [
    "### Tarefa substitutiva (substituirá a pior nota) \n",
    "\n",
    "\n",
    "- Escrever um notebook do Colab para fazer o que pedido a seguir.\n",
    "\n",
    "- Colocar o seu nome na primeira célula do Notebook.\n",
    "\n",
    "- O notebook deve estar com texto explicando o Notebook. \n",
    "\n",
    "- Todos os resultados devem ser mostrados ao executar o notebook.\n",
    "\n",
    "- Não se esqueça de indicar o significado de cada eixo, colocando a unidade da abscissa e da ordenada nos gráficos.\n",
    "\n",
    "- Coloque no seu repositório do Github o arquivo '.ipynb' contendo o notebook feito por você com o nome \"TarefaSubSeuNome.ipynb\"."
   ]
  },
  {
   "cell_type": "markdown",
   "metadata": {
    "slideshow": {
     "slide_type": "slide"
    }
   },
   "source": [
    "**1)** A simulação a seguir deve ser feita ao longo de 365 dias, utilizando o modelo de imunização de população mostrado anteriormente. \n",
    "\n",
    "A taxa de contaminação é de 0,2% da população saudável por dia ($\\alpha = 0,002$ 1/dia).  \n",
    "A doença mata 0,005% da população infectada por dia ($\\delta=0,00005$ 1/dia).  \n",
    "15% da população infectada se cura por dia ($\\gamma=0,15$ /dia).  \n",
    "A cada dia chega $N=3$ novos habitantes na cidade. \n",
    "\n",
    "Deseja-se saber a taxa $\\beta$ da população saudável e não imunizada deve ser vacinada por dia para que o número de mortos devido à doença não ultrapasse 10 em um ano.\n",
    "\n",
    "Inicialmente a população da cidade é totalmente saudável e não imunizada e é composta por 10000 pessoas.\n",
    "\n",
    "Faça o gráfico de 0 a 364 dias da população de cada um dos grupos com o valor de $\\beta$ encontrado. \n"
   ]
  },
  {
   "cell_type": "markdown",
   "metadata": {
    "slideshow": {
     "slide_type": "slide"
    }
   },
   "source": [
    "### Referências\n",
    "\n",
    "- Chalco, JM, *Slides de Bases Computacionais da Ciência*, (2014)\n",
    "- Leite, S, *Slides de Bases Computacionais da Ciência*, (2018)\n",
    "- [Marietto, MGB et al.; **Bases computacionais da Ciência** (2013)](http://prograd.ufabc.edu.br/images/pdf/bases_computacionais_livro.pdf).\n",
    "- Ogata, K; *Dynamical systems* (2014) "
   ]
  }
 ],
 "metadata": {
  "kernelspec": {
   "display_name": "Python 3 (ipykernel)",
   "language": "python",
   "name": "python3"
  },
  "language_info": {
   "codemirror_mode": {
    "name": "ipython",
    "version": 3
   },
   "file_extension": ".py",
   "mimetype": "text/x-python",
   "name": "python",
   "nbconvert_exporter": "python",
   "pygments_lexer": "ipython3",
   "version": "3.9.13"
  },
  "latex_envs": {
   "LaTeX_envs_menu_present": true,
   "autoclose": false,
   "autocomplete": true,
   "bibliofile": "biblio.bib",
   "cite_by": "apalike",
   "current_citInitial": 1,
   "eqLabelWithNumbers": true,
   "eqNumInitial": 1,
   "hotkeys": {
    "equation": "Ctrl-E",
    "itemize": "Ctrl-I"
   },
   "labels_anchors": false,
   "latex_user_defs": false,
   "report_style_numbering": false,
   "user_envs_cfg": false
  },
  "livereveal": {
   "autolaunch": true
  },
  "nbTranslate": {
   "displayLangs": [
    "*"
   ],
   "hotkey": "alt-t",
   "langInMainMenu": true,
   "sourceLang": "en",
   "targetLang": "fr",
   "useGoogleTranslate": true
  },
  "toc": {
   "base_numbering": 1,
   "nav_menu": {},
   "number_sections": true,
   "sideBar": true,
   "skip_h1_title": true,
   "title_cell": "Contents",
   "title_sidebar": "Contents",
   "toc_cell": true,
   "toc_position": {},
   "toc_section_display": true,
   "toc_window_display": false
  },
  "varInspector": {
   "cols": {
    "lenName": 16,
    "lenType": 16,
    "lenVar": 40
   },
   "kernels_config": {
    "python": {
     "delete_cmd_postfix": "",
     "delete_cmd_prefix": "del ",
     "library": "var_list.py",
     "varRefreshCmd": "print(var_dic_list())"
    },
    "r": {
     "delete_cmd_postfix": ") ",
     "delete_cmd_prefix": "rm(",
     "library": "var_list.r",
     "varRefreshCmd": "cat(var_dic_list()) "
    }
   },
   "types_to_exclude": [
    "module",
    "function",
    "builtin_function_or_method",
    "instance",
    "_Feature"
   ],
   "window_display": false
  }
 },
 "nbformat": 4,
 "nbformat_minor": 4
}
