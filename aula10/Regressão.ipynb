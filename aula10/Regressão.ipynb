{
  "cells": [
    {
      "cell_type": "markdown",
      "metadata": {
        "id": "v3w09k9QKewt",
        "tags": []
      },
      "source": [
        "# Regressão e correlação\n",
        "\n",
        "Renato Naville Watanabe"
      ]
    },
    {
      "cell_type": "markdown",
      "source": [
        "## Preparação do ambiente"
      ],
      "metadata": {
        "id": "MYZIO_I4HvSt"
      }
    },
    {
      "cell_type": "code",
      "source": [
        "def increase_font(): # importante ao dar aula. aumenta o tamanho da fonte\n",
        "  from IPython.display import Javascript\n",
        "  display(Javascript('''\n",
        "  for (rule of document.styleSheets[0].cssRules){\n",
        "    if (rule.selectorText=='body') {\n",
        "      rule.style.fontSize = '36px'\n",
        "      break\n",
        "    }\n",
        "  }\n",
        "  '''))\n",
        "get_ipython().events.register('pre_run_cell', increase_font)"
      ],
      "metadata": {
        "id": "Xmmg82MnHxoq"
      },
      "execution_count": 1,
      "outputs": []
    },
    {
      "cell_type": "markdown",
      "metadata": {
        "id": "StaUQuEZKeww",
        "tags": []
      },
      "source": [
        "## Correlação e Regressão\n",
        "\n",
        "As técnicas de correlação e regressão analisam dados amostrais, procurando determinar como duas (ou mais) variáveis estão relacionadas umas com as outras.\n",
        "\n",
        "Exemplos:\n",
        "\n",
        "| Variável independente | Variável dependente |\n",
        "------------------------|----------------------\n",
        "|Horas de treinamento   | Número de acidentes |\n",
        "|Altura da pessoa       | Número do sapato    |\n",
        "|Cigarros por dia       | Capacidade pulmonar |\n",
        "|Meses do ano           | Volume de vendas    |\n",
        "|Peso da pessoa         |    QI               |\n"
      ]
    },
    {
      "cell_type": "markdown",
      "metadata": {
        "id": "mNYGzqkEKeww",
        "tags": []
      },
      "source": [
        "- **Independente**: Valores manipulados ou selecionados pelo pesquisador (altura, idade, mês). Podem ser ou não a “causa” da variável dependente.\n",
        "\n",
        "- **Dependente**: Valores observados, contados, ou medidos, que não estejam sob controle direto do pesquisador (velocidade, taxa de câmbio). Podem ser “causadas” ou não pela variável independente.\n",
        "\n",
        "- **OBS.**: Quando não há relação causal óbvia entre duas ou mais variáveis, qual é independente ‘ ou ‘dependente’ é uma questão de rótulo."
      ]
    },
    {
      "cell_type": "markdown",
      "metadata": {
        "id": "CfYF4arhKewx",
        "tags": []
      },
      "source": [
        "A análise de **correlação** tem como resultado um número que expressa o grau de relacionamento entre duas variáveis.\n",
        "\n",
        "A análise de **regressão** expressa o resultado em uma equação matemática, descrevendo o relacionamento entre as duas variáveis.\n",
        "\n",
        "Ambas análises são geralmente utilizadas em pesquisas exploratórias."
      ]
    },
    {
      "cell_type": "markdown",
      "metadata": {
        "id": "3mnoF0XZKewx",
        "tags": []
      },
      "source": [
        "## Regressão\n",
        "\n",
        "### A reta que liga dois pontos\n",
        "\n",
        "É simples encontrar a reta que liga dois pontos.\n",
        "\n",
        "A inclinação é:\n",
        "\n",
        "$$m = \\frac{y_2-y_1}{x_2-x_1}$$\n",
        "\n",
        "e o intercepto é:\n",
        "\n",
        "$$b = y_1 - mx_1$$"
      ]
    },
    {
      "cell_type": "code",
      "execution_count": 2,
      "metadata": {
        "colab": {
          "base_uri": "https://localhost:8080/",
          "height": 193
        },
        "id": "7CoDn707Kewx",
        "outputId": "037618d9-14f0-4198-9875-9392f8d6e87e",
        "tags": []
      },
      "outputs": [
        {
          "output_type": "display_data",
          "data": {
            "text/plain": [
              "<IPython.core.display.Javascript object>"
            ],
            "application/javascript": [
              "\n",
              "  for (rule of document.styleSheets[0].cssRules){\n",
              "    if (rule.selectorText=='body') {\n",
              "      rule.style.fontSize = '36px'\n",
              "      break\n",
              "    }\n",
              "  }\n",
              "  "
            ]
          },
          "metadata": {}
        },
        {
          "output_type": "display_data",
          "data": {
            "text/plain": [
              "<Figure size 640x480 with 1 Axes>"
            ],
            "image/png": "[encoded data removed]"
          },
          "metadata": {}
        }
      ],
      "source": [
        "import numpy as np\n",
        "import matplotlib.pyplot as plt\n",
        "\n",
        "plt.figure()\n",
        "plt.plot(-1, 3, marker = 'o', color = 'red')\n",
        "plt.plot(10, 31, marker = 'o', color = 'red')\n",
        "x = np.linspace(-1, 10, 50)\n",
        "m = 28/11\n",
        "b = 3+m\n",
        "y = m*x+b\n",
        "plt.plot(x, y, linestyle = '-', color = 'b')\n",
        "plt.grid()\n",
        "plt.show()\n"
      ]
    },
    {
      "cell_type": "markdown",
      "metadata": {
        "id": "QnOptU1qKewz",
        "tags": []
      },
      "source": [
        "### E se tivermos muitos pontos?\n",
        "\n",
        "Abaixo está o gráfico da grandeza y em função da grandeza x. Esse tipo de gráfico em cada par $x,y$ de dado é mostrado como um ponto (ou qualquer outro tipo marcador) é conhecido como **gráfico de dispersão**."
      ]
    },
    {
      "cell_type": "code",
      "execution_count": 3,
      "metadata": {
        "colab": {
          "base_uri": "https://localhost:8080/",
          "height": 192
        },
        "id": "Mnw4nvtSKewz",
        "outputId": "c1aae920-9449-46db-d63f-528cabc62971",
        "tags": []
      },
      "outputs": [
        {
          "output_type": "display_data",
          "data": {
            "text/plain": [
              "<IPython.core.display.Javascript object>"
            ],
            "application/javascript": [
              "\n",
              "  for (rule of document.styleSheets[0].cssRules){\n",
              "    if (rule.selectorText=='body') {\n",
              "      rule.style.fontSize = '36px'\n",
              "      break\n",
              "    }\n",
              "  }\n",
              "  "
            ]
          },
          "metadata": {}
        },
        {
          "output_type": "display_data",
          "data": {
            "text/plain": [
              "<Figure size 640x480 with 1 Axes>"
            ],
            "image/png": "[encoded data removed]"
          },
          "metadata": {}
        }
      ],
      "source": [
        "y = m*x+b+5*np.random.randn(len(x))\n",
        "plt.figure()\n",
        "plt.plot(x , y, marker='o', color='red', linestyle='')\n",
        "plt.grid()\n",
        "plt.show()\n"
      ]
    },
    {
      "cell_type": "markdown",
      "metadata": {
        "id": "tI8FxAj1Kew0",
        "tags": []
      },
      "source": [
        "### Qual seria a melhor reta que aproxima todos os pontos?\n",
        "\n",
        "A pergunta pode ser entendida como sendo: qual os melhores valores de $m$ e $b$ para que a reta aproxime todos os pontos? Existem infinitas retas no espaço bidimensional. Então qual delas melhor se ajusta a todos os pontos?"
      ]
    },
    {
      "cell_type": "code",
      "execution_count": 4,
      "metadata": {
        "colab": {
          "base_uri": "https://localhost:8080/",
          "height": 189
        },
        "id": "ossha7tBKew0",
        "outputId": "6c6cb97f-ffc9-46b9-fbab-cdeae7199434",
        "tags": []
      },
      "outputs": [
        {
          "output_type": "display_data",
          "data": {
            "text/plain": [
              "<IPython.core.display.Javascript object>"
            ],
            "application/javascript": [
              "\n",
              "  for (rule of document.styleSheets[0].cssRules){\n",
              "    if (rule.selectorText=='body') {\n",
              "      rule.style.fontSize = '36px'\n",
              "      break\n",
              "    }\n",
              "  }\n",
              "  "
            ]
          },
          "metadata": {}
        },
        {
          "output_type": "display_data",
          "data": {
            "text/plain": [
              "<Figure size 640x480 with 1 Axes>"
            ],
            "image/png": "[encoded data removed]"
          },
          "metadata": {}
        }
      ],
      "source": [
        "\n",
        "plt.figure()\n",
        "plt.plot(x , y, marker='o', color='red', linestyle='')\n",
        "rng = np.random.default_rng()\n",
        "for i in range(5):\n",
        "    mr = m + 5*rng.normal(size=1)\n",
        "    br = b + 5*rng.normal(size=1)\n",
        "    plt.plot(x, mr*x+br, linestyle = '-', color = 'blue')\n",
        "plt.grid()\n",
        "plt.show()"
      ]
    },
    {
      "cell_type": "markdown",
      "metadata": {
        "id": "q8QMIPHFKew0",
        "tags": []
      },
      "source": [
        "### Primeiro precisamos de um critério para decidir o que seria \"a melhor reta\"\n",
        "\n",
        "O critério normalmente escolhido é o erro de cada ponto para a reta estimada elevado ao qudadrado. A melhor reta então é a reta em que a soma dos desvios (na figura indicado pelas retas pretas) ao quadrado é a menor possível. Por este motivo, o método para encontrar a reta de regressão também é conhecido como **método dos mínimos quadrados**"
      ]
    },
    {
      "cell_type": "code",
      "execution_count": 5,
      "metadata": {
        "colab": {
          "base_uri": "https://localhost:8080/",
          "height": 192
        },
        "id": "3HQ06LduKew0",
        "outputId": "9eec355e-0c82-4c8e-d08a-bc456dcfbeb9",
        "tags": []
      },
      "outputs": [
        {
          "output_type": "display_data",
          "data": {
            "text/plain": [
              "<IPython.core.display.Javascript object>"
            ],
            "application/javascript": [
              "\n",
              "  for (rule of document.styleSheets[0].cssRules){\n",
              "    if (rule.selectorText=='body') {\n",
              "      rule.style.fontSize = '36px'\n",
              "      break\n",
              "    }\n",
              "  }\n",
              "  "
            ]
          },
          "metadata": {}
        },
        {
          "output_type": "display_data",
          "data": {
            "text/plain": [
              "<Figure size 640x480 with 1 Axes>"
            ],
            "image/png": "[encoded data removed]"
          },
          "metadata": {}
        }
      ],
      "source": [
        "plt.figure()\n",
        "plt.plot(x , y, marker='o', color='red', linestyle='')\n",
        "mr = m + 5*rng.normal(size=1)\n",
        "br = b + 5*rng.normal(size=1)\n",
        "plt.plot(x, mr*x+br, linestyle = '-', color = 'blue')\n",
        "plt.vlines(x, y, mr*x+br,\n",
        "             linestyle='-', color='black')\n",
        "plt.grid()\n",
        "plt.show()"
      ]
    },
    {
      "cell_type": "markdown",
      "metadata": {
        "id": "QbQjKx3mKew1",
        "tags": []
      },
      "source": [
        "### Regressão linear\n",
        "\n",
        "A reta encontrada seguindo o critério dos mínimos quadrados (ou seja, a reta que resulta no menor erro quadrático possível) é conhecida como reta de regressão linear. Os valores de $m$ e $b$, de acordo com esse critério, são (a demonstração dessas expresões estão muito além do escopo desta disciplina):\n",
        "\n",
        "$$m = \\frac{\\displaystyle\\sum_{i=0}^{n-1}(x[i]-\\bar{x})(y[i]-\\bar{y})}{\\displaystyle\\sum_{i=0}^{n-1}(x[i]-\\bar{x})^2} $$\n",
        "\n",
        "$$b = \\bar{y} - m\\bar{x} $$\n",
        "\n",
        "$$y = mx + b $$"
      ]
    },
    {
      "cell_type": "code",
      "execution_count": 6,
      "metadata": {
        "colab": {
          "base_uri": "https://localhost:8080/",
          "height": 82
        },
        "id": "G81Nhlk9Kew1",
        "outputId": "90af5f12-6916-4edf-e2a4-dc07ff01587f",
        "tags": []
      },
      "outputs": [
        {
          "output_type": "display_data",
          "data": {
            "text/plain": [
              "<IPython.core.display.Javascript object>"
            ],
            "application/javascript": [
              "\n",
              "  for (rule of document.styleSheets[0].cssRules){\n",
              "    if (rule.selectorText=='body') {\n",
              "      rule.style.fontSize = '36px'\n",
              "      break\n",
              "    }\n",
              "  }\n",
              "  "
            ]
          },
          "metadata": {}
        },
        {
          "output_type": "stream",
          "name": "stdout",
          "text": [
            "m=2.41 e b=6.88\n"
          ]
        }
      ],
      "source": [
        "mediaX = np.mean(x)\n",
        "mediaY = np.mean(y)\n",
        "desvioX = x - mediaX\n",
        "desvioY = y - mediaY\n",
        "m = np.sum(desvioX*desvioY)/np.sum(desvioX**2)\n",
        "b = mediaY - m*mediaX\n",
        "print(f'm={m:.2f} e b={b:.2f}')"
      ]
    },
    {
      "cell_type": "code",
      "execution_count": 7,
      "metadata": {
        "colab": {
          "base_uri": "https://localhost:8080/",
          "height": 192
        },
        "id": "RITYdE4zKew1",
        "outputId": "3fff07d9-d887-47f9-8cc3-9d491dfee7c4",
        "tags": []
      },
      "outputs": [
        {
          "output_type": "display_data",
          "data": {
            "text/plain": [
              "<IPython.core.display.Javascript object>"
            ],
            "application/javascript": [
              "\n",
              "  for (rule of document.styleSheets[0].cssRules){\n",
              "    if (rule.selectorText=='body') {\n",
              "      rule.style.fontSize = '36px'\n",
              "      break\n",
              "    }\n",
              "  }\n",
              "  "
            ]
          },
          "metadata": {}
        },
        {
          "output_type": "display_data",
          "data": {
            "text/plain": [
              "<Figure size 640x480 with 1 Axes>"
            ],
            "image/png": "[encoded data removed]"
          },
          "metadata": {}
        }
      ],
      "source": [
        "plt.figure()\n",
        "plt.plot(x , y, marker='o', color='red', linestyle='')\n",
        "plt.plot(x, m*x+b, linestyle = '-', color = 'blue')\n",
        "plt.grid()\n",
        "plt.show()"
      ]
    },
    {
      "cell_type": "markdown",
      "metadata": {
        "id": "Cgvh_X5tuPLe"
      },
      "source": [
        "O Numpy tem uma função pronta para fazer a regressão. É a função polyfit. Basta fornecer o vetor com a variável independente, o vetor com a variável dependente e a opção deg=1.\n"
      ]
    },
    {
      "cell_type": "code",
      "execution_count": 8,
      "metadata": {
        "id": "IlPRMyaMuPLe",
        "outputId": "1051f562-7976-47ed-976d-91a86ad6f01e",
        "colab": {
          "base_uri": "https://localhost:8080/",
          "height": 82
        }
      },
      "outputs": [
        {
          "output_type": "display_data",
          "data": {
            "text/plain": [
              "<IPython.core.display.Javascript object>"
            ],
            "application/javascript": [
              "\n",
              "  for (rule of document.styleSheets[0].cssRules){\n",
              "    if (rule.selectorText=='body') {\n",
              "      rule.style.fontSize = '36px'\n",
              "      break\n",
              "    }\n",
              "  }\n",
              "  "
            ]
          },
          "metadata": {}
        },
        {
          "output_type": "stream",
          "name": "stdout",
          "text": [
            "m=2.41 e b=6.88\n"
          ]
        }
      ],
      "source": [
        "m, b = np.polyfit(x, y, deg=1)\n",
        "print(f'm={m:.2f} e b={b:.2f}')"
      ]
    },
    {
      "cell_type": "markdown",
      "metadata": {
        "tags": [],
        "id": "LLw8AtCKuPLe"
      },
      "source": [
        "Abaixo é aberto o arquivo com informações de sujeitos que participaram de um experimento de postura."
      ]
    },
    {
      "cell_type": "code",
      "execution_count": 9,
      "metadata": {
        "id": "UDJzOuxduPLf",
        "outputId": "e3eb6d1b-7fbd-4683-94c8-611678b23b43",
        "colab": {
          "base_uri": "https://localhost:8080/",
          "height": 1000
        }
      },
      "outputs": [
        {
          "output_type": "display_data",
          "data": {
            "text/plain": [
              "<IPython.core.display.Javascript object>"
            ],
            "application/javascript": [
              "\n",
              "  for (rule of document.styleSheets[0].cssRules){\n",
              "    if (rule.selectorText=='body') {\n",
              "      rule.style.fontSize = '36px'\n",
              "      break\n",
              "    }\n",
              "  }\n",
              "  "
            ]
          },
          "metadata": {}
        },
        {
          "output_type": "execute_result",
          "data": {
            "text/plain": [
              "         Trial  Subject  Vision Surface        Age AgeGroup Gender  Height  \\\n",
              "0     BDS00001        1    Open    Firm  33.000000    Young      F   157.5   \n",
              "1     BDS00002        1    Open    Firm  33.000000    Young      F   157.5   \n",
              "2     BDS00003        1    Open    Firm  33.000000    Young      F   157.5   \n",
              "3     BDS00004        1  Closed    Firm  33.000000    Young      F   157.5   \n",
              "4     BDS00005        1  Closed    Firm  33.000000    Young      F   157.5   \n",
              "...        ...      ...     ...     ...        ...      ...    ...     ...   \n",
              "1925  BDS01952      163    Open    Firm  25.416667    Young      M   172.0   \n",
              "1926  BDS01953      163    Open    Firm  25.416667    Young      M   172.0   \n",
              "1927  BDS01954      163  Closed    Foam  25.416667    Young      M   172.0   \n",
              "1928  BDS01955      163  Closed    Foam  25.416667    Young      M   172.0   \n",
              "1929  BDS01956      163  Closed    Foam  25.416667    Young      M   172.0   \n",
              "\n",
              "      Weight        BMI  ...  Best_7 Best_8 Best_9  Best_10 Best_11 Best_12  \\\n",
              "0       54.2  21.849332  ...       2      2      2        2       2       2   \n",
              "1       54.2  21.849332  ...       2      2      2        2       2       2   \n",
              "2       54.2  21.849332  ...       2      2      2        2       2       2   \n",
              "3       54.2  21.849332  ...       2      2      2        2       2       2   \n",
              "4       54.2  21.849332  ...       2      2      2        2       2       2   \n",
              "...      ...        ...  ...     ...    ...    ...      ...     ...     ...   \n",
              "1925    74.6  25.216333  ...       2      2      2        2       2       2   \n",
              "1926    74.6  25.216333  ...       2      2      2        2       2       2   \n",
              "1927    74.6  25.216333  ...       2      2      2        2       2       2   \n",
              "1928    74.6  25.216333  ...       2      2      2        2       2       2   \n",
              "1929    74.6  25.216333  ...       2      2      2        2       2       2   \n",
              "\n",
              "     Best_13  Best_14 Best_T                     Date  \n",
              "0          2        1     25  2015-10-08 08:30:00.000  \n",
              "1          2        1     25  2015-10-08 08:30:00.000  \n",
              "2          2        1     25  2015-10-08 08:30:00.000  \n",
              "3          2        1     25  2015-10-08 08:30:00.000  \n",
              "4          2        1     25  2015-10-08 08:30:00.000  \n",
              "...      ...      ...    ...                      ...  \n",
              "1925       2        2     26  2016-03-11 10:49:57.538  \n",
              "1926       2        2     26  2016-03-11 10:49:57.538  \n",
              "1927       2        2     26  2016-03-11 10:49:57.538  \n",
              "1928       2        2     26  2016-03-11 10:49:57.538  \n",
              "1929       2        2     26  2016-03-11 10:49:57.538  \n",
              "\n",
              "[1930 rows x 64 columns]"
            ],
            "text/html": [
              "\n",
              "  <div id=\"df-63a7c3fb-dd72-441b-b453-481c6c9dd02d\" class=\"colab-df-container\">\n",
              "    <div>\n",
              "<style scoped>\n",
              "    .dataframe tbody tr th:only-of-type {\n",
              "        vertical-align: middle;\n",
              "    }\n",
              "\n",
              "    .dataframe tbody tr th {\n",
              "        vertical-align: top;\n",
              "    }\n",
              "\n",
              "    .dataframe thead th {\n",
              "        text-align: right;\n",
              "    }\n",
              "</style>\n",
              "<table border=\"1\" class=\"dataframe\">\n",
              "  <thead>\n",
              "    <tr style=\"text-align: right;\">\n",
              "      <th></th>\n",
              "      <th>Trial</th>\n",
              "      <th>Subject</th>\n",
              "      <th>Vision</th>\n",
              "      <th>Surface</th>\n",
              "      <th>Age</th>\n",
              "      <th>AgeGroup</th>\n",
              "      <th>Gender</th>\n",
              "      <th>Height</th>\n",
              "      <th>Weight</th>\n",
              "      <th>BMI</th>\n",
              "      <th>...</th>\n",
              "      <th>Best_7</th>\n",
              "      <th>Best_8</th>\n",
              "      <th>Best_9</th>\n",
              "      <th>Best_10</th>\n",
              "      <th>Best_11</th>\n",
              "      <th>Best_12</th>\n",
              "      <th>Best_13</th>\n",
              "      <th>Best_14</th>\n",
              "      <th>Best_T</th>\n",
              "      <th>Date</th>\n",
              "    </tr>\n",
              "  </thead>\n",
              "  <tbody>\n",
              "    <tr>\n",
              "      <th>0</th>\n",
              "      <td>BDS00001</td>\n",
              "      <td>1</td>\n",
              "      <td>Open</td>\n",
              "      <td>Firm</td>\n",
              "      <td>33.000000</td>\n",
              "      <td>Young</td>\n",
              "      <td>F</td>\n",
              "      <td>157.5</td>\n",
              "      <td>54.2</td>\n",
              "      <td>21.849332</td>\n",
              "      <td>...</td>\n",
              "      <td>2</td>\n",
              "      <td>2</td>\n",
              "      <td>2</td>\n",
              "      <td>2</td>\n",
              "      <td>2</td>\n",
              "      <td>2</td>\n",
              "      <td>2</td>\n",
              "      <td>1</td>\n",
              "      <td>25</td>\n",
              "      <td>2015-10-08 08:30:00.000</td>\n",
              "    </tr>\n",
              "    <tr>\n",
              "      <th>1</th>\n",
              "      <td>BDS00002</td>\n",
              "      <td>1</td>\n",
              "      <td>Open</td>\n",
              "      <td>Firm</td>\n",
              "      <td>33.000000</td>\n",
              "      <td>Young</td>\n",
              "      <td>F</td>\n",
              "      <td>157.5</td>\n",
              "      <td>54.2</td>\n",
              "      <td>21.849332</td>\n",
              "      <td>...</td>\n",
              "      <td>2</td>\n",
              "      <td>2</td>\n",
              "      <td>2</td>\n",
              "      <td>2</td>\n",
              "      <td>2</td>\n",
              "      <td>2</td>\n",
              "      <td>2</td>\n",
              "      <td>1</td>\n",
              "      <td>25</td>\n",
              "      <td>2015-10-08 08:30:00.000</td>\n",
              "    </tr>\n",
              "    <tr>\n",
              "      <th>2</th>\n",
              "      <td>BDS00003</td>\n",
              "      <td>1</td>\n",
              "      <td>Open</td>\n",
              "      <td>Firm</td>\n",
              "      <td>33.000000</td>\n",
              "      <td>Young</td>\n",
              "      <td>F</td>\n",
              "      <td>157.5</td>\n",
              "      <td>54.2</td>\n",
              "      <td>21.849332</td>\n",
              "      <td>...</td>\n",
              "      <td>2</td>\n",
              "      <td>2</td>\n",
              "      <td>2</td>\n",
              "      <td>2</td>\n",
              "      <td>2</td>\n",
              "      <td>2</td>\n",
              "      <td>2</td>\n",
              "      <td>1</td>\n",
              "      <td>25</td>\n",
              "      <td>2015-10-08 08:30:00.000</td>\n",
              "    </tr>\n",
              "    <tr>\n",
              "      <th>3</th>\n",
              "      <td>BDS00004</td>\n",
              "      <td>1</td>\n",
              "      <td>Closed</td>\n",
              "      <td>Firm</td>\n",
              "      <td>33.000000</td>\n",
              "      <td>Young</td>\n",
              "      <td>F</td>\n",
              "      <td>157.5</td>\n",
              "      <td>54.2</td>\n",
              "      <td>21.849332</td>\n",
              "      <td>...</td>\n",
              "      <td>2</td>\n",
              "      <td>2</td>\n",
              "      <td>2</td>\n",
              "      <td>2</td>\n",
              "      <td>2</td>\n",
              "      <td>2</td>\n",
              "      <td>2</td>\n",
              "      <td>1</td>\n",
              "      <td>25</td>\n",
              "      <td>2015-10-08 08:30:00.000</td>\n",
              "    </tr>\n",
              "    <tr>\n",
              "      <th>4</th>\n",
              "      <td>BDS00005</td>\n",
              "      <td>1</td>\n",
              "      <td>Closed</td>\n",
              "      <td>Firm</td>\n",
              "      <td>33.000000</td>\n",
              "      <td>Young</td>\n",
              "      <td>F</td>\n",
              "      <td>157.5</td>\n",
              "      <td>54.2</td>\n",
              "      <td>21.849332</td>\n",
              "      <td>...</td>\n",
              "      <td>2</td>\n",
              "      <td>2</td>\n",
              "      <td>2</td>\n",
              "      <td>2</td>\n",
              "      <td>2</td>\n",
              "      <td>2</td>\n",
              "      <td>2</td>\n",
              "      <td>1</td>\n",
              "      <td>25</td>\n",
              "      <td>2015-10-08 08:30:00.000</td>\n",
              "    </tr>\n",
              "    <tr>\n",
              "      <th>...</th>\n",
              "      <td>...</td>\n",
              "      <td>...</td>\n",
              "      <td>...</td>\n",
              "      <td>...</td>\n",
              "      <td>...</td>\n",
              "      <td>...</td>\n",
              "      <td>...</td>\n",
              "      <td>...</td>\n",
              "      <td>...</td>\n",
              "      <td>...</td>\n",
              "      <td>...</td>\n",
              "      <td>...</td>\n",
              "      <td>...</td>\n",
              "      <td>...</td>\n",
              "      <td>...</td>\n",
              "      <td>...</td>\n",
              "      <td>...</td>\n",
              "      <td>...</td>\n",
              "      <td>...</td>\n",
              "      <td>...</td>\n",
              "      <td>...</td>\n",
              "    </tr>\n",
              "    <tr>\n",
              "      <th>1925</th>\n",
              "      <td>BDS01952</td>\n",
              "      <td>163</td>\n",
              "      <td>Open</td>\n",
              "      <td>Firm</td>\n",
              "      <td>25.416667</td>\n",
              "      <td>Young</td>\n",
              "      <td>M</td>\n",
              "      <td>172.0</td>\n",
              "      <td>74.6</td>\n",
              "      <td>25.216333</td>\n",
              "      <td>...</td>\n",
              "      <td>2</td>\n",
              "      <td>2</td>\n",
              "      <td>2</td>\n",
              "      <td>2</td>\n",
              "      <td>2</td>\n",
              "      <td>2</td>\n",
              "      <td>2</td>\n",
              "      <td>2</td>\n",
              "      <td>26</td>\n",
              "      <td>2016-03-11 10:49:57.538</td>\n",
              "    </tr>\n",
              "    <tr>\n",
              "      <th>1926</th>\n",
              "      <td>BDS01953</td>\n",
              "      <td>163</td>\n",
              "      <td>Open</td>\n",
              "      <td>Firm</td>\n",
              "      <td>25.416667</td>\n",
              "      <td>Young</td>\n",
              "      <td>M</td>\n",
              "      <td>172.0</td>\n",
              "      <td>74.6</td>\n",
              "      <td>25.216333</td>\n",
              "      <td>...</td>\n",
              "      <td>2</td>\n",
              "      <td>2</td>\n",
              "      <td>2</td>\n",
              "      <td>2</td>\n",
              "      <td>2</td>\n",
              "      <td>2</td>\n",
              "      <td>2</td>\n",
              "      <td>2</td>\n",
              "      <td>26</td>\n",
              "      <td>2016-03-11 10:49:57.538</td>\n",
              "    </tr>\n",
              "    <tr>\n",
              "      <th>1927</th>\n",
              "      <td>BDS01954</td>\n",
              "      <td>163</td>\n",
              "      <td>Closed</td>\n",
              "      <td>Foam</td>\n",
              "      <td>25.416667</td>\n",
              "      <td>Young</td>\n",
              "      <td>M</td>\n",
              "      <td>172.0</td>\n",
              "      <td>74.6</td>\n",
              "      <td>25.216333</td>\n",
              "      <td>...</td>\n",
              "      <td>2</td>\n",
              "      <td>2</td>\n",
              "      <td>2</td>\n",
              "      <td>2</td>\n",
              "      <td>2</td>\n",
              "      <td>2</td>\n",
              "      <td>2</td>\n",
              "      <td>2</td>\n",
              "      <td>26</td>\n",
              "      <td>2016-03-11 10:49:57.538</td>\n",
              "    </tr>\n",
              "    <tr>\n",
              "      <th>1928</th>\n",
              "      <td>BDS01955</td>\n",
              "      <td>163</td>\n",
              "      <td>Closed</td>\n",
              "      <td>Foam</td>\n",
              "      <td>25.416667</td>\n",
              "      <td>Young</td>\n",
              "      <td>M</td>\n",
              "      <td>172.0</td>\n",
              "      <td>74.6</td>\n",
              "      <td>25.216333</td>\n",
              "      <td>...</td>\n",
              "      <td>2</td>\n",
              "      <td>2</td>\n",
              "      <td>2</td>\n",
              "      <td>2</td>\n",
              "      <td>2</td>\n",
              "      <td>2</td>\n",
              "      <td>2</td>\n",
              "      <td>2</td>\n",
              "      <td>26</td>\n",
              "      <td>2016-03-11 10:49:57.538</td>\n",
              "    </tr>\n",
              "    <tr>\n",
              "      <th>1929</th>\n",
              "      <td>BDS01956</td>\n",
              "      <td>163</td>\n",
              "      <td>Closed</td>\n",
              "      <td>Foam</td>\n",
              "      <td>25.416667</td>\n",
              "      <td>Young</td>\n",
              "      <td>M</td>\n",
              "      <td>172.0</td>\n",
              "      <td>74.6</td>\n",
              "      <td>25.216333</td>\n",
              "      <td>...</td>\n",
              "      <td>2</td>\n",
              "      <td>2</td>\n",
              "      <td>2</td>\n",
              "      <td>2</td>\n",
              "      <td>2</td>\n",
              "      <td>2</td>\n",
              "      <td>2</td>\n",
              "      <td>2</td>\n",
              "      <td>26</td>\n",
              "      <td>2016-03-11 10:49:57.538</td>\n",
              "    </tr>\n",
              "  </tbody>\n",
              "</table>\n",
              "<p>1930 rows × 64 columns</p>\n",
              "</div>\n",
              "    <div class=\"colab-df-buttons\">\n",
              "\n",
              "  <div class=\"colab-df-container\">\n",
              "    <button class=\"colab-df-convert\" onclick=\"convertToInteractive('df-63a7c3fb-dd72-441b-b453-481c6c9dd02d')\"\n",
              "            title=\"Convert this dataframe to an interactive table.\"\n",
              "            style=\"display:none;\">\n",
              "\n",
              "  <svg xmlns=\"http://www.w3.org/2000/svg\" height=\"24px\" viewBox=\"0 -960 960 960\">\n",
              "    <path d=\"M120-120v-720h720v720H120Zm60-500h600v-160H180v160Zm220 220h160v-160H400v160Zm0 220h160v-160H400v160ZM180-400h160v-160H180v160Zm440 0h160v-160H620v160ZM180-180h160v-160H180v160Zm440 0h160v-160H620v160Z\"/>\n",
              "  </svg>\n",
              "    </button>\n",
              "\n",
              "  <style>\n",
              "    .colab-df-container {\n",
              "      display:flex;\n",
              "      gap: 12px;\n",
              "    }\n",
              "\n",
              "    .colab-df-convert {\n",
              "      background-color: #E8F0FE;\n",
              "      border: none;\n",
              "      border-radius: 50%;\n",
              "      cursor: pointer;\n",
              "      display: none;\n",
              "      fill: #1967D2;\n",
              "      height: 32px;\n",
              "      padding: 0 0 0 0;\n",
              "      width: 32px;\n",
              "    }\n",
              "\n",
              "    .colab-df-convert:hover {\n",
              "      background-color: #E2EBFA;\n",
              "      box-shadow: 0px 1px 2px rgba(60, 64, 67, 0.3), 0px 1px 3px 1px rgba(60, 64, 67, 0.15);\n",
              "      fill: #174EA6;\n",
              "    }\n",
              "\n",
              "    .colab-df-buttons div {\n",
              "      margin-bottom: 4px;\n",
              "    }\n",
              "\n",
              "    [theme=dark] .colab-df-convert {\n",
              "      background-color: #3B4455;\n",
              "      fill: #D2E3FC;\n",
              "    }\n",
              "\n",
              "    [theme=dark] .colab-df-convert:hover {\n",
              "      background-color: #434B5C;\n",
              "      box-shadow: 0px 1px 3px 1px rgba(0, 0, 0, 0.15);\n",
              "      filter: drop-shadow(0px 1px 2px rgba(0, 0, 0, 0.3));\n",
              "      fill: #FFFFFF;\n",
              "    }\n",
              "  </style>\n",
              "\n",
              "    <script>\n",
              "      const buttonEl =\n",
              "        document.querySelector('#df-63a7c3fb-dd72-441b-b453-481c6c9dd02d button.colab-df-convert');\n",
              "      buttonEl.style.display =\n",
              "        google.colab.kernel.accessAllowed ? 'block' : 'none';\n",
              "\n",
              "      async function convertToInteractive(key) {\n",
              "        const element = document.querySelector('#df-63a7c3fb-dd72-441b-b453-481c6c9dd02d');\n",
              "        const dataTable =\n",
              "          await google.colab.kernel.invokeFunction('convertToInteractive',\n",
              "                                                    [key], {});\n",
              "        if (!dataTable) return;\n",
              "\n",
              "        const docLinkHtml = 'Like what you see? Visit the ' +\n",
              "          '<a target=\"_blank\" href=https://colab.research.google.com/notebooks/data_table.ipynb>data table notebook</a>'\n",
              "          + ' to learn more about interactive tables.';\n",
              "        element.innerHTML = '';\n",
              "        dataTable['output_type'] = 'display_data';\n",
              "        await google.colab.output.renderOutput(dataTable, element);\n",
              "        const docLink = document.createElement('div');\n",
              "        docLink.innerHTML = docLinkHtml;\n",
              "        element.appendChild(docLink);\n",
              "      }\n",
              "    </script>\n",
              "  </div>\n",
              "\n",
              "\n",
              "<div id=\"df-9b315602-e165-4ac9-b521-e35f4a76bf38\">\n",
              "  <button class=\"colab-df-quickchart\" onclick=\"quickchart('df-9b315602-e165-4ac9-b521-e35f4a76bf38')\"\n",
              "            title=\"Suggest charts\"\n",
              "            style=\"display:none;\">\n",
              "\n",
              "<svg xmlns=\"http://www.w3.org/2000/svg\" height=\"24px\"viewBox=\"0 0 24 24\"\n",
              "     width=\"24px\">\n",
              "    <g>\n",
              "        <path d=\"M19 3H5c-1.1 0-2 .9-2 2v14c0 1.1.9 2 2 2h14c1.1 0 2-.9 2-2V5c0-1.1-.9-2-2-2zM9 17H7v-7h2v7zm4 0h-2V7h2v10zm4 0h-2v-4h2v4z\"/>\n",
              "    </g>\n",
              "</svg>\n",
              "  </button>\n",
              "\n",
              "<style>\n",
              "  .colab-df-quickchart {\n",
              "      --bg-color: #E8F0FE;\n",
              "      --fill-color: #1967D2;\n",
              "      --hover-bg-color: #E2EBFA;\n",
              "      --hover-fill-color: #174EA6;\n",
              "      --disabled-fill-color: #AAA;\n",
              "      --disabled-bg-color: #DDD;\n",
              "  }\n",
              "\n",
              "  [theme=dark] .colab-df-quickchart {\n",
              "      --bg-color: #3B4455;\n",
              "      --fill-color: #D2E3FC;\n",
              "      --hover-bg-color: #434B5C;\n",
              "      --hover-fill-color: #FFFFFF;\n",
              "      --disabled-bg-color: #3B4455;\n",
              "      --disabled-fill-color: #666;\n",
              "  }\n",
              "\n",
              "  .colab-df-quickchart {\n",
              "    background-color: var(--bg-color);\n",
              "    border: none;\n",
              "    border-radius: 50%;\n",
              "    cursor: pointer;\n",
              "    display: none;\n",
              "    fill: var(--fill-color);\n",
              "    height: 32px;\n",
              "    padding: 0;\n",
              "    width: 32px;\n",
              "  }\n",
              "\n",
              "  .colab-df-quickchart:hover {\n",
              "    background-color: var(--hover-bg-color);\n",
              "    box-shadow: 0 1px 2px rgba(60, 64, 67, 0.3), 0 1px 3px 1px rgba(60, 64, 67, 0.15);\n",
              "    fill: var(--button-hover-fill-color);\n",
              "  }\n",
              "\n",
              "  .colab-df-quickchart-complete:disabled,\n",
              "  .colab-df-quickchart-complete:disabled:hover {\n",
              "    background-color: var(--disabled-bg-color);\n",
              "    fill: var(--disabled-fill-color);\n",
              "    box-shadow: none;\n",
              "  }\n",
              "\n",
              "  .colab-df-spinner {\n",
              "    border: 2px solid var(--fill-color);\n",
              "    border-color: transparent;\n",
              "    border-bottom-color: var(--fill-color);\n",
              "    animation:\n",
              "      spin 1s steps(1) infinite;\n",
              "  }\n",
              "\n",
              "  @keyframes spin {\n",
              "    0% {\n",
              "      border-color: transparent;\n",
              "      border-bottom-color: var(--fill-color);\n",
              "      border-left-color: var(--fill-color);\n",
              "    }\n",
              "    20% {\n",
              "      border-color: transparent;\n",
              "      border-left-color: var(--fill-color);\n",
              "      border-top-color: var(--fill-color);\n",
              "    }\n",
              "    30% {\n",
              "      border-color: transparent;\n",
              "      border-left-color: var(--fill-color);\n",
              "      border-top-color: var(--fill-color);\n",
              "      border-right-color: var(--fill-color);\n",
              "    }\n",
              "    40% {\n",
              "      border-color: transparent;\n",
              "      border-right-color: var(--fill-color);\n",
              "      border-top-color: var(--fill-color);\n",
              "    }\n",
              "    60% {\n",
              "      border-color: transparent;\n",
              "      border-right-color: var(--fill-color);\n",
              "    }\n",
              "    80% {\n",
              "      border-color: transparent;\n",
              "      border-right-color: var(--fill-color);\n",
              "      border-bottom-color: var(--fill-color);\n",
              "    }\n",
              "    90% {\n",
              "      border-color: transparent;\n",
              "      border-bottom-color: var(--fill-color);\n",
              "    }\n",
              "  }\n",
              "</style>\n",
              "\n",
              "  <script>\n",
              "    async function quickchart(key) {\n",
              "      const quickchartButtonEl =\n",
              "        document.querySelector('#' + key + ' button');\n",
              "      quickchartButtonEl.disabled = true;  // To prevent multiple clicks.\n",
              "      quickchartButtonEl.classList.add('colab-df-spinner');\n",
              "      try {\n",
              "        const charts = await google.colab.kernel.invokeFunction(\n",
              "            'suggestCharts', [key], {});\n",
              "      } catch (error) {\n",
              "        console.error('Error during call to suggestCharts:', error);\n",
              "      }\n",
              "      quickchartButtonEl.classList.remove('colab-df-spinner');\n",
              "      quickchartButtonEl.classList.add('colab-df-quickchart-complete');\n",
              "    }\n",
              "    (() => {\n",
              "      let quickchartButtonEl =\n",
              "        document.querySelector('#df-9b315602-e165-4ac9-b521-e35f4a76bf38 button');\n",
              "      quickchartButtonEl.style.display =\n",
              "        google.colab.kernel.accessAllowed ? 'block' : 'none';\n",
              "    })();\n",
              "  </script>\n",
              "</div>\n",
              "\n",
              "  <div id=\"id_f366d774-920f-4de1-af20-bb8598c3c902\">\n",
              "    <style>\n",
              "      .colab-df-generate {\n",
              "        background-color: #E8F0FE;\n",
              "        border: none;\n",
              "        border-radius: 50%;\n",
              "        cursor: pointer;\n",
              "        display: none;\n",
              "        fill: #1967D2;\n",
              "        height: 32px;\n",
              "        padding: 0 0 0 0;\n",
              "        width: 32px;\n",
              "      }\n",
              "\n",
              "      .colab-df-generate:hover {\n",
              "        background-color: #E2EBFA;\n",
              "        box-shadow: 0px 1px 2px rgba(60, 64, 67, 0.3), 0px 1px 3px 1px rgba(60, 64, 67, 0.15);\n",
              "        fill: #174EA6;\n",
              "      }\n",
              "\n",
              "      [theme=dark] .colab-df-generate {\n",
              "        background-color: #3B4455;\n",
              "        fill: #D2E3FC;\n",
              "      }\n",
              "\n",
              "      [theme=dark] .colab-df-generate:hover {\n",
              "        background-color: #434B5C;\n",
              "        box-shadow: 0px 1px 3px 1px rgba(0, 0, 0, 0.15);\n",
              "        filter: drop-shadow(0px 1px 2px rgba(0, 0, 0, 0.3));\n",
              "        fill: #FFFFFF;\n",
              "      }\n",
              "    </style>\n",
              "    <button class=\"colab-df-generate\" onclick=\"generateWithVariable('info_postura')\"\n",
              "            title=\"Generate code using this dataframe.\"\n",
              "            style=\"display:none;\">\n",
              "\n",
              "  <svg xmlns=\"http://www.w3.org/2000/svg\" height=\"24px\"viewBox=\"0 0 24 24\"\n",
              "       width=\"24px\">\n",
              "    <path d=\"M7,19H8.4L18.45,9,17,7.55,7,17.6ZM5,21V16.75L18.45,3.32a2,2,0,0,1,2.83,0l1.4,1.43a1.91,1.91,0,0,1,.58,1.4,1.91,1.91,0,0,1-.58,1.4L9.25,21ZM18.45,9,17,7.55Zm-12,3A5.31,5.31,0,0,0,4.9,8.1,5.31,5.31,0,0,0,1,6.5,5.31,5.31,0,0,0,4.9,4.9,5.31,5.31,0,0,0,6.5,1,5.31,5.31,0,0,0,8.1,4.9,5.31,5.31,0,0,0,12,6.5,5.46,5.46,0,0,0,6.5,12Z\"/>\n",
              "  </svg>\n",
              "    </button>\n",
              "    <script>\n",
              "      (() => {\n",
              "      const buttonEl =\n",
              "        document.querySelector('#id_f366d774-920f-4de1-af20-bb8598c3c902 button.colab-df-generate');\n",
              "      buttonEl.style.display =\n",
              "        google.colab.kernel.accessAllowed ? 'block' : 'none';\n",
              "\n",
              "      buttonEl.onclick = () => {\n",
              "        google.colab.notebook.generateWithVariable('info_postura');\n",
              "      }\n",
              "      })();\n",
              "    </script>\n",
              "  </div>\n",
              "\n",
              "    </div>\n",
              "  </div>\n"
            ],
            "application/vnd.google.colaboratory.intrinsic+json": {
              "type": "dataframe",
              "variable_name": "info_postura"
            }
          },
          "metadata": {},
          "execution_count": 9
        }
      ],
      "source": [
        "import pandas as pd\n",
        "info_postura = pd.read_csv('https://raw.githubusercontent.com/rnwatanabe/BasesComputacionais2021/main/dados/BDSinfo.csv', sep='\\t')\n",
        "info_postura"
      ]
    },
    {
      "cell_type": "markdown",
      "metadata": {
        "id": "LU-x73vguPLg"
      },
      "source": [
        "Abaixo os coeficientes da reta de regressão entre são calculados."
      ]
    },
    {
      "cell_type": "code",
      "execution_count": 10,
      "metadata": {
        "id": "JzY0jHVKuPLg",
        "outputId": "4f4588f1-9216-455d-83d2-961806176214",
        "colab": {
          "base_uri": "https://localhost:8080/",
          "height": 126
        }
      },
      "outputs": [
        {
          "output_type": "display_data",
          "data": {
            "text/plain": [
              "<IPython.core.display.Javascript object>"
            ],
            "application/javascript": [
              "\n",
              "  for (rule of document.styleSheets[0].cssRules){\n",
              "    if (rule.selectorText=='body') {\n",
              "      rule.style.fontSize = '36px'\n",
              "      break\n",
              "    }\n",
              "  }\n",
              "  "
            ]
          },
          "metadata": {}
        },
        {
          "output_type": "stream",
          "name": "stdout",
          "text": [
            "-0.22865345098174886\n",
            "173.278206974553\n"
          ]
        }
      ],
      "source": [
        "m, b = np.polyfit(info_postura['Age'], info_postura['Height'], deg=1)\n",
        "print(m)\n",
        "print(b)"
      ]
    },
    {
      "cell_type": "code",
      "execution_count": 11,
      "metadata": {
        "id": "RVYolWL6uPLg",
        "outputId": "de8e4871-ec80-4dd8-a194-2fe1895d86bc",
        "colab": {
          "base_uri": "https://localhost:8080/",
          "height": 192
        }
      },
      "outputs": [
        {
          "output_type": "display_data",
          "data": {
            "text/plain": [
              "<IPython.core.display.Javascript object>"
            ],
            "application/javascript": [
              "\n",
              "  for (rule of document.styleSheets[0].cssRules){\n",
              "    if (rule.selectorText=='body') {\n",
              "      rule.style.fontSize = '36px'\n",
              "      break\n",
              "    }\n",
              "  }\n",
              "  "
            ]
          },
          "metadata": {}
        },
        {
          "output_type": "display_data",
          "data": {
            "text/plain": [
              "<Figure size 640x480 with 1 Axes>"
            ],
            "image/png": "[encoded data removed]"
          },
          "metadata": {}
        }
      ],
      "source": [
        "plt.figure()\n",
        "plt.plot(info_postura['Age'], info_postura['Height'],\n",
        "         marker='o', color='red', linestyle='')\n",
        "plt.plot(info_postura['Age'], m*info_postura['Age'] + b)\n",
        "plt.xlabel('Idade (anos)')\n",
        "plt.ylabel('altura (m)')\n",
        "plt.show()\n"
      ]
    },
    {
      "cell_type": "markdown",
      "metadata": {
        "tags": [],
        "id": "7S2Qa8iQuPLi"
      },
      "source": [
        "#### Uso da regressão para estimar valores"
      ]
    },
    {
      "cell_type": "markdown",
      "metadata": {
        "tags": [],
        "id": "HaKL9GdkuPLi"
      },
      "source": [
        "A reta encontrada pode ser usada para, por exemplo, estimar o tamanho de uma pessoa dada a sua idade. Por exemplo, se a pessoa tiver 50 anos, a estimativa é que a altura da pessoa  seja:"
      ]
    },
    {
      "cell_type": "code",
      "execution_count": 12,
      "metadata": {
        "id": "a0E70mzJuPLj",
        "outputId": "1c4d0b08-3cff-41b0-8db3-2a7d7bad943b",
        "colab": {
          "base_uri": "https://localhost:8080/",
          "height": 62
        }
      },
      "outputs": [
        {
          "output_type": "display_data",
          "data": {
            "text/plain": [
              "<IPython.core.display.Javascript object>"
            ],
            "application/javascript": [
              "\n",
              "  for (rule of document.styleSheets[0].cssRules){\n",
              "    if (rule.selectorText=='body') {\n",
              "      rule.style.fontSize = '36px'\n",
              "      break\n",
              "    }\n",
              "  }\n",
              "  "
            ]
          },
          "metadata": {}
        },
        {
          "output_type": "stream",
          "name": "stdout",
          "text": [
            "161.85 cm\n"
          ]
        }
      ],
      "source": [
        "y = m*50+b\n",
        "print('%.2f cm' %y)"
      ]
    },
    {
      "cell_type": "markdown",
      "metadata": {
        "id": "Xu1jdc8QuPLk"
      },
      "source": [
        "Ou seja, o uso da regressão possibilita que generalizemos os dados. É claro que é necessário cuidado. Nem sempre o uso de uma relação linear é válida. É necessário que exista uma correlação entre as duas variáveis."
      ]
    },
    {
      "cell_type": "markdown",
      "metadata": {
        "id": "J1lR9FzHuPLk"
      },
      "source": [
        "### Regressão polinomial\n",
        "\n",
        "É possível ajustar os dados a polinômios com graus maiores do que um (reta) usando a função polyfit.\n",
        "\n",
        "Por exemplo, no dado abaixo, até uma certa idade (aproximadamente 40 anos) os anos de estudo aumentam com a idade. Para idades maiores, os anos de estudo caem com a idade."
      ]
    },
    {
      "cell_type": "code",
      "execution_count": 13,
      "metadata": {
        "id": "eiq4Z3JAuPLq",
        "outputId": "9683b9ac-19b9-467c-94a5-2fccbea13e02",
        "colab": {
          "base_uri": "https://localhost:8080/",
          "height": 195
        }
      },
      "outputs": [
        {
          "output_type": "display_data",
          "data": {
            "text/plain": [
              "<IPython.core.display.Javascript object>"
            ],
            "application/javascript": [
              "\n",
              "  for (rule of document.styleSheets[0].cssRules){\n",
              "    if (rule.selectorText=='body') {\n",
              "      rule.style.fontSize = '36px'\n",
              "      break\n",
              "    }\n",
              "  }\n",
              "  "
            ]
          },
          "metadata": {}
        },
        {
          "output_type": "display_data",
          "data": {
            "text/plain": [
              "<Figure size 640x480 with 1 Axes>"
            ],
            "image/png": "[encoded data removed]"
          },
          "metadata": {}
        }
      ],
      "source": [
        "plt.figure()\n",
        "plt.plot(info_postura['Age'], info_postura['Ystudy'],\n",
        "         marker='o', color='red', linestyle='')\n",
        "plt.xlabel('Idade (anos)')\n",
        "plt.ylabel('anos de estudo (anos)')\n",
        "plt.show()"
      ]
    },
    {
      "cell_type": "markdown",
      "metadata": {
        "id": "qQOvR5E-uPLr"
      },
      "source": [
        "Nesse caso, ajustar uma reta, embora possível, não faria sentido. Nesse caso podemos ajustar uma parábola (grau 2) para tentar pegar esse comportamento de subida e descida (uma reta só sobe ou só desce). Isso é feito com a opção deg=2 (para polinômios de grau maior é só mudar o número)."
      ]
    },
    {
      "cell_type": "markdown",
      "metadata": {
        "tags": [],
        "id": "FHl18IaquPLr"
      },
      "source": [
        "Para facilitar, podemos achar o valor de um polinômio com a função polyval. Se formos usar a função polyval, na hora de usar o polyfit podemos gravar tudo em uma variável só."
      ]
    },
    {
      "cell_type": "code",
      "execution_count": 14,
      "metadata": {
        "tags": [],
        "id": "3MISG_-juPLr",
        "outputId": "f461fe84-630a-4667-8f72-d866856ab865",
        "colab": {
          "base_uri": "https://localhost:8080/",
          "height": 195
        }
      },
      "outputs": [
        {
          "output_type": "display_data",
          "data": {
            "text/plain": [
              "<IPython.core.display.Javascript object>"
            ],
            "application/javascript": [
              "\n",
              "  for (rule of document.styleSheets[0].cssRules){\n",
              "    if (rule.selectorText=='body') {\n",
              "      rule.style.fontSize = '36px'\n",
              "      break\n",
              "    }\n",
              "  }\n",
              "  "
            ]
          },
          "metadata": {}
        },
        {
          "output_type": "display_data",
          "data": {
            "text/plain": [
              "<Figure size 640x480 with 1 Axes>"
            ],
            "image/png": "[encoded data removed]"
          },
          "metadata": {}
        }
      ],
      "source": [
        "p = np.polyfit(info_postura['Age'], info_postura['Ystudy'],\n",
        "                     deg=2)\n",
        "\n",
        "parabola_estimada = np.polyval(p, info_postura['Age'].sort_values())\n",
        "plt.figure()\n",
        "plt.plot(info_postura['Age'], info_postura['Ystudy'],\n",
        "         marker='o', color='red', linestyle='')\n",
        "plt.plot(info_postura['Age'].sort_values(),\n",
        "         parabola_estimada,\n",
        "         marker='', color='blue', linestyle='-')\n",
        "plt.xlabel('Idade (anos)')\n",
        "plt.ylabel('anos de estudo (anos)')\n",
        "plt.show()"
      ]
    },
    {
      "cell_type": "markdown",
      "metadata": {
        "id": "qG0sncbiuPLs"
      },
      "source": [
        "## Correlação\n",
        "\n",
        "A análise gráfica do comportamento entre as variáveis idade e altura mostra a existência de **correlação negativa**, pois à medida que a idade cresce, a altura decresce. O gráfico mostra que a altura esperada de uma pessoa é menor quanto maior a idade."
      ]
    },
    {
      "cell_type": "code",
      "execution_count": 15,
      "metadata": {
        "id": "6LWwidluuPLt",
        "outputId": "da8f1c81-33da-44f5-a943-d9b627457613",
        "colab": {
          "base_uri": "https://localhost:8080/",
          "height": 192
        }
      },
      "outputs": [
        {
          "output_type": "display_data",
          "data": {
            "text/plain": [
              "<IPython.core.display.Javascript object>"
            ],
            "application/javascript": [
              "\n",
              "  for (rule of document.styleSheets[0].cssRules){\n",
              "    if (rule.selectorText=='body') {\n",
              "      rule.style.fontSize = '36px'\n",
              "      break\n",
              "    }\n",
              "  }\n",
              "  "
            ]
          },
          "metadata": {}
        },
        {
          "output_type": "display_data",
          "data": {
            "text/plain": [
              "<Figure size 640x480 with 1 Axes>"
            ],
            "image/png": "[encoded data removed]"
          },
          "metadata": {}
        }
      ],
      "source": [
        "plt.figure()\n",
        "plt.plot(info_postura['Age'], info_postura['Height'],\n",
        "         marker='o', color='red', linestyle='')\n",
        "plt.xlabel('Idade (anos)')\n",
        "plt.ylabel('altura (cm)')\n",
        "plt.show()"
      ]
    },
    {
      "cell_type": "markdown",
      "metadata": {
        "id": "EI0eiCuauPLt"
      },
      "source": [
        "A análise gráfica do comportamento entre as variáveis tamanho do pé e altura mostra a existência de **correlação  positiva**, pois à medida que o tamanho do pé cresce, a altura também cresce."
      ]
    },
    {
      "cell_type": "code",
      "execution_count": 16,
      "metadata": {
        "tags": [],
        "id": "XgxTqTc-uPLt",
        "outputId": "c74f69fb-3895-427c-929b-e1f15b364841",
        "colab": {
          "base_uri": "https://localhost:8080/",
          "height": 192
        }
      },
      "outputs": [
        {
          "output_type": "display_data",
          "data": {
            "text/plain": [
              "<IPython.core.display.Javascript object>"
            ],
            "application/javascript": [
              "\n",
              "  for (rule of document.styleSheets[0].cssRules){\n",
              "    if (rule.selectorText=='body') {\n",
              "      rule.style.fontSize = '36px'\n",
              "      break\n",
              "    }\n",
              "  }\n",
              "  "
            ]
          },
          "metadata": {}
        },
        {
          "output_type": "display_data",
          "data": {
            "text/plain": [
              "<Figure size 640x480 with 1 Axes>"
            ],
            "image/png": "[encoded data removed]"
          },
          "metadata": {}
        }
      ],
      "source": [
        "plt.figure()\n",
        "plt.plot(info_postura['FootLen'], info_postura['Height'],\n",
        "         marker='o', color='red', linestyle='')\n",
        "plt.xlabel('Tamanho do pé (cm)')\n",
        "plt.ylabel('altura (cm)')\n",
        "plt.show()"
      ]
    },
    {
      "cell_type": "markdown",
      "metadata": {
        "id": "PkuJ8tiMuPLu"
      },
      "source": [
        "No gráfico abaixo, não há correlação linear entre idade e peso. O gráfico não mostra nenhuma relação entre a idade e o peso de uma pessoa.\n"
      ]
    },
    {
      "cell_type": "code",
      "execution_count": 17,
      "metadata": {
        "id": "_ZVlvDMEuPLu",
        "outputId": "dfc330ce-99f4-4d63-e21b-1badfcbe7c3c",
        "colab": {
          "base_uri": "https://localhost:8080/",
          "height": 195
        }
      },
      "outputs": [
        {
          "output_type": "display_data",
          "data": {
            "text/plain": [
              "<IPython.core.display.Javascript object>"
            ],
            "application/javascript": [
              "\n",
              "  for (rule of document.styleSheets[0].cssRules){\n",
              "    if (rule.selectorText=='body') {\n",
              "      rule.style.fontSize = '36px'\n",
              "      break\n",
              "    }\n",
              "  }\n",
              "  "
            ]
          },
          "metadata": {}
        },
        {
          "output_type": "display_data",
          "data": {
            "text/plain": [
              "<Figure size 640x480 with 1 Axes>"
            ],
            "image/png": "[encoded data removed]"
          },
          "metadata": {}
        }
      ],
      "source": [
        "plt.figure()\n",
        "plt.plot(info_postura['Age'], info_postura['Weight'],\n",
        "         marker='o', color='red', linestyle='')\n",
        "plt.xlabel('Idade (anos)')\n",
        "plt.ylabel('Peso (kg)')\n",
        "plt.show()"
      ]
    },
    {
      "cell_type": "markdown",
      "metadata": {
        "id": "s4syTGifKew3",
        "tags": []
      },
      "source": [
        "### Correlação linear\n",
        "\n",
        "Utilizar apenas um gráfico  para interpretar a existência de uma correlação pode ser uma tarefa bastante subjetiva.\n",
        "\n",
        "Como medida mais objetiva, utiliza-se o coeficiente de correlação para medir o grau e o tipo de uma correlação linear entre duas variáveis.\n",
        "\n",
        "$$r = \\frac{\\displaystyle\\sum_{i=0}^{n-1}(x[i]-\\bar{x})(y[i]-\\bar{y})}{\\sqrt{\\displaystyle\\sum_{i=0}^{n-1}(x[i]-\\bar{x})^2}\\sqrt{\\displaystyle\\sum_{i=0}^{n-1}(y[i]-\\bar{y})^2}} $$"
      ]
    },
    {
      "cell_type": "markdown",
      "metadata": {
        "tags": [],
        "id": "7Cp0gsRNuPLu"
      },
      "source": [
        "O Pandas tem uma função para calcular a correlação entre duas colunas. Para usar a função é primeira_coluna.corr(segunda_coluna). Por exemplo, para calcular a correlação entre idade da pessoa e sua altura."
      ]
    },
    {
      "cell_type": "code",
      "execution_count": 18,
      "metadata": {
        "tags": [],
        "id": "8YzpbF1kuPLu",
        "outputId": "98c2983e-510a-4bed-8f30-4978dfe64b92",
        "colab": {
          "base_uri": "https://localhost:8080/",
          "height": 82
        }
      },
      "outputs": [
        {
          "output_type": "display_data",
          "data": {
            "text/plain": [
              "<IPython.core.display.Javascript object>"
            ],
            "application/javascript": [
              "\n",
              "  for (rule of document.styleSheets[0].cssRules){\n",
              "    if (rule.selectorText=='body') {\n",
              "      rule.style.fontSize = '36px'\n",
              "      break\n",
              "    }\n",
              "  }\n",
              "  "
            ]
          },
          "metadata": {}
        },
        {
          "output_type": "execute_result",
          "data": {
            "text/plain": [
              "-0.5425089231963477"
            ]
          },
          "metadata": {},
          "execution_count": 18
        }
      ],
      "source": [
        "corr_idade_altura = info_postura['Age'].corr(info_postura['Height'])\n",
        "corr_idade_altura"
      ]
    },
    {
      "cell_type": "markdown",
      "metadata": {
        "tags": [],
        "id": "EErjbv88uPLv"
      },
      "source": [
        "Como esperado, é um número negativo, já que graficamente observamos que a correlação é negativa."
      ]
    },
    {
      "cell_type": "markdown",
      "metadata": {
        "id": "IH9RP9UVKew3",
        "tags": []
      },
      "source": [
        "O intervalo de variação do coeficiente de correlação $r$ está ente -1 à\n",
        "1.\n",
        "\n",
        "![corrcoef](https://github.com/BMClab/BasesComputacionais/blob/master/aula10/imagens/corr2.png?raw=1)"
      ]
    },
    {
      "cell_type": "markdown",
      "metadata": {
        "id": "A226LLMDKew3",
        "tags": []
      },
      "source": [
        "### Coeficiente de correlação\n",
        "\n",
        "![corr](https://github.com/BMClab/BasesComputacionais/blob/master/aula10/imagens/corr3.png?raw=1)"
      ]
    },
    {
      "cell_type": "markdown",
      "metadata": {
        "id": "LTtNsI-dKew3",
        "tags": []
      },
      "source": [
        "### Correlação e causalidade\n",
        "\n",
        "**Correlação não implica em causalidade**.\n",
        "\n",
        "O número de pessoas usando óculos-de-sol e a quantidade de sorvete consumido em um particular dia são altamente correlacionados.\n",
        "\n",
        "Isto não significa que usar óculos-de-sol causa a compra de sorvetes ou vice-versa!\n",
        "\n",
        "É extremamente difícil estabelecer relações causais a partir de dados observacionais. Precisamos realizar experimentos para obter mais evidências de uma relação causal.\n",
        "\n",
        "Veja [nesse site dados curiosos que apresentam correlação e com certeza não tem relação de causalidade!](https://www.tylervigen.com/spurious-correlations).\n",
        "\n",
        "![cegonha](https://github.com/BMClab/BasesComputacionais/blob/master/aula10/imagens/cegonha.png?raw=1)"
      ]
    },
    {
      "cell_type": "markdown",
      "metadata": {
        "id": "GeXq6Y6suPLw"
      },
      "source": [
        "## Coeficiente de determinação\n",
        "\n",
        "É possível avaliar a qualidade de uma regressão usando o o coeficiente de determinação, represntado nomalmente por $R²$.\n",
        "\n",
        "No caso de uma regressão linear, o coeficiente de determinação é o quadrado da correlação.\n",
        "\n",
        "Por exemplo, no caso da regressão entre a idade e a altura, o coeficiente de determinação é:"
      ]
    },
    {
      "cell_type": "code",
      "execution_count": 19,
      "metadata": {
        "tags": [],
        "id": "BV1-bAO8uPLx",
        "outputId": "3f9f809b-dc01-4c6d-943e-86c8f5c1af92",
        "colab": {
          "base_uri": "https://localhost:8080/",
          "height": 82
        }
      },
      "outputs": [
        {
          "output_type": "display_data",
          "data": {
            "text/plain": [
              "<IPython.core.display.Javascript object>"
            ],
            "application/javascript": [
              "\n",
              "  for (rule of document.styleSheets[0].cssRules){\n",
              "    if (rule.selectorText=='body') {\n",
              "      rule.style.fontSize = '36px'\n",
              "      break\n",
              "    }\n",
              "  }\n",
              "  "
            ]
          },
          "metadata": {}
        },
        {
          "output_type": "execute_result",
          "data": {
            "text/plain": [
              "0.2943159317476607"
            ]
          },
          "metadata": {},
          "execution_count": 19
        }
      ],
      "source": [
        "info_postura['Age'].corr(info_postura['Height'])**2"
      ]
    },
    {
      "cell_type": "markdown",
      "metadata": {
        "tags": [],
        "id": "xi_rrP1RuPLx"
      },
      "source": [
        "Normalmente, a interpretação desse número é qual a porcentagem da variável dependente  que é explicada pela regressão. Nesse caso, em torno de 29 % dos dados é explicada pela regressão linear."
      ]
    },
    {
      "cell_type": "markdown",
      "metadata": {
        "id": "N_iIXXY7Kew4",
        "tags": []
      },
      "source": [
        "## Cuidados ao interpretar a regressão e correlação\n",
        "\n",
        "Devemos ter cuidado ao interpretar os resultados de um ajuste de curva para determinar se o modelo ajustado captura verdadeiramente a relação entre a variável independente (preditor) e a variável dependente (resposta).\n",
        "\n",
        "Um exemplo ilustrativo para demonstrar que o resultado de um ajuste de curva não é necessariamente um indicador do fenômeno que está sendo modelado são os dados do quarteto de Anscombe. Esses quatro conjuntos de dados têm propriedades estatísticas básicas e parâmetros de ajuste linear muito semelhantes, mas são muito diferentes quando visualizados."
      ]
    },
    {
      "cell_type": "code",
      "execution_count": 20,
      "metadata": {
        "colab": {
          "base_uri": "https://localhost:8080/",
          "height": 17
        },
        "id": "VgOBx0wOKew4",
        "outputId": "3b9019ea-1562-4939-e8a3-417567a0c030",
        "tags": []
      },
      "outputs": [
        {
          "output_type": "display_data",
          "data": {
            "text/plain": [
              "<IPython.core.display.Javascript object>"
            ],
            "application/javascript": [
              "\n",
              "  for (rule of document.styleSheets[0].cssRules){\n",
              "    if (rule.selectorText=='body') {\n",
              "      rule.style.fontSize = '36px'\n",
              "      break\n",
              "    }\n",
              "  }\n",
              "  "
            ]
          },
          "metadata": {}
        }
      ],
      "source": [
        "# Dados do quarteto de Anscombe\n",
        "x =  np.array([[10, 8, 13, 9, 11, 14, 6, 4, 12, 7, 5],\n",
        "               [10, 8, 13, 9, 11, 14, 6, 4, 12, 7, 5],\n",
        "               [10, 8, 13, 9, 11, 14, 6, 4, 12, 7, 5],\n",
        "               [8,  8,  8, 8,  8,  8, 8, 19, 8, 8, 8]])\n",
        "y = np.array([[8.04, 6.95, 7.58, 8.81, 8.33, 9.96, 7.24, 4.26, 10.84, 4.82, 5.68],\n",
        "              [9.14, 8.14, 8.74, 8.77, 9.26, 8.10, 6.13, 3.10, 9.13, 7.26, 4.74],\n",
        "              [7.46, 6.77, 12.74, 7.11, 7.81, 8.84, 6.08, 5.39, 8.15, 6.42, 5.73],\n",
        "              [6.58, 5.76, 7.71, 8.84, 8.47, 7.04, 5.25, 12.50, 5.56, 7.91, 6.89]])"
      ]
    },
    {
      "cell_type": "markdown",
      "source": [
        "### Estatísticas descritivas básicas do quarteto de Anscombe\n",
        "\n",
        "Os dados do quarteto de Anscombe têm as mesmas estatísticas descritivas básicas."
      ],
      "metadata": {
        "id": "K4JRE9-tGhq2"
      }
    },
    {
      "cell_type": "code",
      "source": [
        "print('Média de x    :', np.mean(y, axis=1))\n",
        "print('Variância de x:', np.var(y, axis=1))\n",
        "print('Média de y    :', np.mean(y, axis=1))\n",
        "print('Variância de y:', np.var(y, axis=1))"
      ],
      "metadata": {
        "id": "eQL5VzhpGjWm",
        "outputId": "15257eda-6bcf-4817-e502-c5ae7e1ad62f",
        "colab": {
          "base_uri": "https://localhost:8080/",
          "height": 216
        }
      },
      "execution_count": 24,
      "outputs": [
        {
          "output_type": "display_data",
          "data": {
            "text/plain": [
              "<IPython.core.display.Javascript object>"
            ],
            "application/javascript": [
              "\n",
              "  for (rule of document.styleSheets[0].cssRules){\n",
              "    if (rule.selectorText=='body') {\n",
              "      rule.style.fontSize = '36px'\n",
              "      break\n",
              "    }\n",
              "  }\n",
              "  "
            ]
          },
          "metadata": {}
        },
        {
          "output_type": "stream",
          "name": "stdout",
          "text": [
            "Média de x    : [7.50090909 7.50090909 7.5        7.50090909]\n",
            "Variância de x: [3.75206281 3.75239008 3.74783636 3.74840826]\n",
            "Média de y    : [7.50090909 7.50090909 7.5        7.50090909]\n",
            "Variância de y: [3.75206281 3.75239008 3.74783636 3.74840826]\n"
          ]
        }
      ]
    },
    {
      "cell_type": "code",
      "execution_count": 22,
      "metadata": {
        "colab": {
          "base_uri": "https://localhost:8080/",
          "height": 764
        },
        "id": "UEFuZ5EbKew4",
        "outputId": "9ea6f9ea-6426-49da-fa7b-83507a098e63",
        "tags": []
      },
      "outputs": [
        {
          "output_type": "display_data",
          "data": {
            "text/plain": [
              "<IPython.core.display.Javascript object>"
            ],
            "application/javascript": [
              "\n",
              "  for (rule of document.styleSheets[0].cssRules){\n",
              "    if (rule.selectorText=='body') {\n",
              "      rule.style.fontSize = '36px'\n",
              "      break\n",
              "    }\n",
              "  }\n",
              "  "
            ]
          },
          "metadata": {}
        },
        {
          "output_type": "execute_result",
          "data": {
            "text/plain": [
              "              X1         X2         X3         X4         Y1         Y2  \\\n",
              "count  11.000000  11.000000  11.000000  11.000000  11.000000  11.000000   \n",
              "mean    9.000000   9.000000   9.000000   9.000000   7.500909   7.500909   \n",
              "std     3.316625   3.316625   3.316625   3.316625   2.031568   2.031657   \n",
              "min     4.000000   4.000000   4.000000   8.000000   4.260000   3.100000   \n",
              "25%     6.500000   6.500000   6.500000   8.000000   6.315000   6.695000   \n",
              "50%     9.000000   9.000000   9.000000   8.000000   7.580000   8.140000   \n",
              "75%    11.500000  11.500000  11.500000   8.000000   8.570000   8.950000   \n",
              "max    14.000000  14.000000  14.000000  19.000000  10.840000   9.260000   \n",
              "\n",
              "              Y3         Y4  \n",
              "count  11.000000  11.000000  \n",
              "mean    7.500000   7.500909  \n",
              "std     2.030424   2.030579  \n",
              "min     5.390000   5.250000  \n",
              "25%     6.250000   6.170000  \n",
              "50%     7.110000   7.040000  \n",
              "75%     7.980000   8.190000  \n",
              "max    12.740000  12.500000  "
            ],
            "text/html": [
              "\n",
              "  <div id=\"df-930fee84-79ea-4022-8ec7-d325c5584f91\" class=\"colab-df-container\">\n",
              "    <div>\n",
              "<style scoped>\n",
              "    .dataframe tbody tr th:only-of-type {\n",
              "        vertical-align: middle;\n",
              "    }\n",
              "\n",
              "    .dataframe tbody tr th {\n",
              "        vertical-align: top;\n",
              "    }\n",
              "\n",
              "    .dataframe thead th {\n",
              "        text-align: right;\n",
              "    }\n",
              "</style>\n",
              "<table border=\"1\" class=\"dataframe\">\n",
              "  <thead>\n",
              "    <tr style=\"text-align: right;\">\n",
              "      <th></th>\n",
              "      <th>X1</th>\n",
              "      <th>X2</th>\n",
              "      <th>X3</th>\n",
              "      <th>X4</th>\n",
              "      <th>Y1</th>\n",
              "      <th>Y2</th>\n",
              "      <th>Y3</th>\n",
              "      <th>Y4</th>\n",
              "    </tr>\n",
              "  </thead>\n",
              "  <tbody>\n",
              "    <tr>\n",
              "      <th>count</th>\n",
              "      <td>11.000000</td>\n",
              "      <td>11.000000</td>\n",
              "      <td>11.000000</td>\n",
              "      <td>11.000000</td>\n",
              "      <td>11.000000</td>\n",
              "      <td>11.000000</td>\n",
              "      <td>11.000000</td>\n",
              "      <td>11.000000</td>\n",
              "    </tr>\n",
              "    <tr>\n",
              "      <th>mean</th>\n",
              "      <td>9.000000</td>\n",
              "      <td>9.000000</td>\n",
              "      <td>9.000000</td>\n",
              "      <td>9.000000</td>\n",
              "      <td>7.500909</td>\n",
              "      <td>7.500909</td>\n",
              "      <td>7.500000</td>\n",
              "      <td>7.500909</td>\n",
              "    </tr>\n",
              "    <tr>\n",
              "      <th>std</th>\n",
              "      <td>3.316625</td>\n",
              "      <td>3.316625</td>\n",
              "      <td>3.316625</td>\n",
              "      <td>3.316625</td>\n",
              "      <td>2.031568</td>\n",
              "      <td>2.031657</td>\n",
              "      <td>2.030424</td>\n",
              "      <td>2.030579</td>\n",
              "    </tr>\n",
              "    <tr>\n",
              "      <th>min</th>\n",
              "      <td>4.000000</td>\n",
              "      <td>4.000000</td>\n",
              "      <td>4.000000</td>\n",
              "      <td>8.000000</td>\n",
              "      <td>4.260000</td>\n",
              "      <td>3.100000</td>\n",
              "      <td>5.390000</td>\n",
              "      <td>5.250000</td>\n",
              "    </tr>\n",
              "    <tr>\n",
              "      <th>25%</th>\n",
              "      <td>6.500000</td>\n",
              "      <td>6.500000</td>\n",
              "      <td>6.500000</td>\n",
              "      <td>8.000000</td>\n",
              "      <td>6.315000</td>\n",
              "      <td>6.695000</td>\n",
              "      <td>6.250000</td>\n",
              "      <td>6.170000</td>\n",
              "    </tr>\n",
              "    <tr>\n",
              "      <th>50%</th>\n",
              "      <td>9.000000</td>\n",
              "      <td>9.000000</td>\n",
              "      <td>9.000000</td>\n",
              "      <td>8.000000</td>\n",
              "      <td>7.580000</td>\n",
              "      <td>8.140000</td>\n",
              "      <td>7.110000</td>\n",
              "      <td>7.040000</td>\n",
              "    </tr>\n",
              "    <tr>\n",
              "      <th>75%</th>\n",
              "      <td>11.500000</td>\n",
              "      <td>11.500000</td>\n",
              "      <td>11.500000</td>\n",
              "      <td>8.000000</td>\n",
              "      <td>8.570000</td>\n",
              "      <td>8.950000</td>\n",
              "      <td>7.980000</td>\n",
              "      <td>8.190000</td>\n",
              "    </tr>\n",
              "    <tr>\n",
              "      <th>max</th>\n",
              "      <td>14.000000</td>\n",
              "      <td>14.000000</td>\n",
              "      <td>14.000000</td>\n",
              "      <td>19.000000</td>\n",
              "      <td>10.840000</td>\n",
              "      <td>9.260000</td>\n",
              "      <td>12.740000</td>\n",
              "      <td>12.500000</td>\n",
              "    </tr>\n",
              "  </tbody>\n",
              "</table>\n",
              "</div>\n",
              "    <div class=\"colab-df-buttons\">\n",
              "\n",
              "  <div class=\"colab-df-container\">\n",
              "    <button class=\"colab-df-convert\" onclick=\"convertToInteractive('df-930fee84-79ea-4022-8ec7-d325c5584f91')\"\n",
              "            title=\"Convert this dataframe to an interactive table.\"\n",
              "            style=\"display:none;\">\n",
              "\n",
              "  <svg xmlns=\"http://www.w3.org/2000/svg\" height=\"24px\" viewBox=\"0 -960 960 960\">\n",
              "    <path d=\"M120-120v-720h720v720H120Zm60-500h600v-160H180v160Zm220 220h160v-160H400v160Zm0 220h160v-160H400v160ZM180-400h160v-160H180v160Zm440 0h160v-160H620v160ZM180-180h160v-160H180v160Zm440 0h160v-160H620v160Z\"/>\n",
              "  </svg>\n",
              "    </button>\n",
              "\n",
              "  <style>\n",
              "    .colab-df-container {\n",
              "      display:flex;\n",
              "      gap: 12px;\n",
              "    }\n",
              "\n",
              "    .colab-df-convert {\n",
              "      background-color: #E8F0FE;\n",
              "      border: none;\n",
              "      border-radius: 50%;\n",
              "      cursor: pointer;\n",
              "      display: none;\n",
              "      fill: #1967D2;\n",
              "      height: 32px;\n",
              "      padding: 0 0 0 0;\n",
              "      width: 32px;\n",
              "    }\n",
              "\n",
              "    .colab-df-convert:hover {\n",
              "      background-color: #E2EBFA;\n",
              "      box-shadow: 0px 1px 2px rgba(60, 64, 67, 0.3), 0px 1px 3px 1px rgba(60, 64, 67, 0.15);\n",
              "      fill: #174EA6;\n",
              "    }\n",
              "\n",
              "    .colab-df-buttons div {\n",
              "      margin-bottom: 4px;\n",
              "    }\n",
              "\n",
              "    [theme=dark] .colab-df-convert {\n",
              "      background-color: #3B4455;\n",
              "      fill: #D2E3FC;\n",
              "    }\n",
              "\n",
              "    [theme=dark] .colab-df-convert:hover {\n",
              "      background-color: #434B5C;\n",
              "      box-shadow: 0px 1px 3px 1px rgba(0, 0, 0, 0.15);\n",
              "      filter: drop-shadow(0px 1px 2px rgba(0, 0, 0, 0.3));\n",
              "      fill: #FFFFFF;\n",
              "    }\n",
              "  </style>\n",
              "\n",
              "    <script>\n",
              "      const buttonEl =\n",
              "        document.querySelector('#df-930fee84-79ea-4022-8ec7-d325c5584f91 button.colab-df-convert');\n",
              "      buttonEl.style.display =\n",
              "        google.colab.kernel.accessAllowed ? 'block' : 'none';\n",
              "\n",
              "      async function convertToInteractive(key) {\n",
              "        const element = document.querySelector('#df-930fee84-79ea-4022-8ec7-d325c5584f91');\n",
              "        const dataTable =\n",
              "          await google.colab.kernel.invokeFunction('convertToInteractive',\n",
              "                                                    [key], {});\n",
              "        if (!dataTable) return;\n",
              "\n",
              "        const docLinkHtml = 'Like what you see? Visit the ' +\n",
              "          '<a target=\"_blank\" href=https://colab.research.google.com/notebooks/data_table.ipynb>data table notebook</a>'\n",
              "          + ' to learn more about interactive tables.';\n",
              "        element.innerHTML = '';\n",
              "        dataTable['output_type'] = 'display_data';\n",
              "        await google.colab.output.renderOutput(dataTable, element);\n",
              "        const docLink = document.createElement('div');\n",
              "        docLink.innerHTML = docLinkHtml;\n",
              "        element.appendChild(docLink);\n",
              "      }\n",
              "    </script>\n",
              "  </div>\n",
              "\n",
              "\n",
              "<div id=\"df-c2e5190e-5947-4a80-a93c-f0d5c308ea97\">\n",
              "  <button class=\"colab-df-quickchart\" onclick=\"quickchart('df-c2e5190e-5947-4a80-a93c-f0d5c308ea97')\"\n",
              "            title=\"Suggest charts\"\n",
              "            style=\"display:none;\">\n",
              "\n",
              "<svg xmlns=\"http://www.w3.org/2000/svg\" height=\"24px\"viewBox=\"0 0 24 24\"\n",
              "     width=\"24px\">\n",
              "    <g>\n",
              "        <path d=\"M19 3H5c-1.1 0-2 .9-2 2v14c0 1.1.9 2 2 2h14c1.1 0 2-.9 2-2V5c0-1.1-.9-2-2-2zM9 17H7v-7h2v7zm4 0h-2V7h2v10zm4 0h-2v-4h2v4z\"/>\n",
              "    </g>\n",
              "</svg>\n",
              "  </button>\n",
              "\n",
              "<style>\n",
              "  .colab-df-quickchart {\n",
              "      --bg-color: #E8F0FE;\n",
              "      --fill-color: #1967D2;\n",
              "      --hover-bg-color: #E2EBFA;\n",
              "      --hover-fill-color: #174EA6;\n",
              "      --disabled-fill-color: #AAA;\n",
              "      --disabled-bg-color: #DDD;\n",
              "  }\n",
              "\n",
              "  [theme=dark] .colab-df-quickchart {\n",
              "      --bg-color: #3B4455;\n",
              "      --fill-color: #D2E3FC;\n",
              "      --hover-bg-color: #434B5C;\n",
              "      --hover-fill-color: #FFFFFF;\n",
              "      --disabled-bg-color: #3B4455;\n",
              "      --disabled-fill-color: #666;\n",
              "  }\n",
              "\n",
              "  .colab-df-quickchart {\n",
              "    background-color: var(--bg-color);\n",
              "    border: none;\n",
              "    border-radius: 50%;\n",
              "    cursor: pointer;\n",
              "    display: none;\n",
              "    fill: var(--fill-color);\n",
              "    height: 32px;\n",
              "    padding: 0;\n",
              "    width: 32px;\n",
              "  }\n",
              "\n",
              "  .colab-df-quickchart:hover {\n",
              "    background-color: var(--hover-bg-color);\n",
              "    box-shadow: 0 1px 2px rgba(60, 64, 67, 0.3), 0 1px 3px 1px rgba(60, 64, 67, 0.15);\n",
              "    fill: var(--button-hover-fill-color);\n",
              "  }\n",
              "\n",
              "  .colab-df-quickchart-complete:disabled,\n",
              "  .colab-df-quickchart-complete:disabled:hover {\n",
              "    background-color: var(--disabled-bg-color);\n",
              "    fill: var(--disabled-fill-color);\n",
              "    box-shadow: none;\n",
              "  }\n",
              "\n",
              "  .colab-df-spinner {\n",
              "    border: 2px solid var(--fill-color);\n",
              "    border-color: transparent;\n",
              "    border-bottom-color: var(--fill-color);\n",
              "    animation:\n",
              "      spin 1s steps(1) infinite;\n",
              "  }\n",
              "\n",
              "  @keyframes spin {\n",
              "    0% {\n",
              "      border-color: transparent;\n",
              "      border-bottom-color: var(--fill-color);\n",
              "      border-left-color: var(--fill-color);\n",
              "    }\n",
              "    20% {\n",
              "      border-color: transparent;\n",
              "      border-left-color: var(--fill-color);\n",
              "      border-top-color: var(--fill-color);\n",
              "    }\n",
              "    30% {\n",
              "      border-color: transparent;\n",
              "      border-left-color: var(--fill-color);\n",
              "      border-top-color: var(--fill-color);\n",
              "      border-right-color: var(--fill-color);\n",
              "    }\n",
              "    40% {\n",
              "      border-color: transparent;\n",
              "      border-right-color: var(--fill-color);\n",
              "      border-top-color: var(--fill-color);\n",
              "    }\n",
              "    60% {\n",
              "      border-color: transparent;\n",
              "      border-right-color: var(--fill-color);\n",
              "    }\n",
              "    80% {\n",
              "      border-color: transparent;\n",
              "      border-right-color: var(--fill-color);\n",
              "      border-bottom-color: var(--fill-color);\n",
              "    }\n",
              "    90% {\n",
              "      border-color: transparent;\n",
              "      border-bottom-color: var(--fill-color);\n",
              "    }\n",
              "  }\n",
              "</style>\n",
              "\n",
              "  <script>\n",
              "    async function quickchart(key) {\n",
              "      const quickchartButtonEl =\n",
              "        document.querySelector('#' + key + ' button');\n",
              "      quickchartButtonEl.disabled = true;  // To prevent multiple clicks.\n",
              "      quickchartButtonEl.classList.add('colab-df-spinner');\n",
              "      try {\n",
              "        const charts = await google.colab.kernel.invokeFunction(\n",
              "            'suggestCharts', [key], {});\n",
              "      } catch (error) {\n",
              "        console.error('Error during call to suggestCharts:', error);\n",
              "      }\n",
              "      quickchartButtonEl.classList.remove('colab-df-spinner');\n",
              "      quickchartButtonEl.classList.add('colab-df-quickchart-complete');\n",
              "    }\n",
              "    (() => {\n",
              "      let quickchartButtonEl =\n",
              "        document.querySelector('#df-c2e5190e-5947-4a80-a93c-f0d5c308ea97 button');\n",
              "      quickchartButtonEl.style.display =\n",
              "        google.colab.kernel.accessAllowed ? 'block' : 'none';\n",
              "    })();\n",
              "  </script>\n",
              "</div>\n",
              "\n",
              "    </div>\n",
              "  </div>\n"
            ],
            "application/vnd.google.colaboratory.intrinsic+json": {
              "type": "dataframe",
              "summary": "{\n  \"name\": \"df\",\n  \"rows\": 8,\n  \"fields\": [\n    {\n      \"column\": \"X1\",\n      \"properties\": {\n        \"dtype\": \"number\",\n        \"std\": 3.7245296377380663,\n        \"min\": 3.3166247903554,\n        \"max\": 14.0,\n        \"num_unique_values\": 7,\n        \"samples\": [\n          11.0,\n          9.0,\n          11.5\n        ],\n        \"semantic_type\": \"\",\n        \"description\": \"\"\n      }\n    },\n    {\n      \"column\": \"X2\",\n      \"properties\": {\n        \"dtype\": \"number\",\n        \"std\": 3.7245296377380663,\n        \"min\": 3.3166247903554,\n        \"max\": 14.0,\n        \"num_unique_values\": 7,\n        \"samples\": [\n          11.0,\n          9.0,\n          11.5\n        ],\n        \"semantic_type\": \"\",\n        \"description\": \"\"\n      }\n    },\n    {\n      \"column\": \"X3\",\n      \"properties\": {\n        \"dtype\": \"number\",\n        \"std\": 3.7245296377380663,\n        \"min\": 3.3166247903554,\n        \"max\": 14.0,\n        \"num_unique_values\": 7,\n        \"samples\": [\n          11.0,\n          9.0,\n          11.5\n        ],\n        \"semantic_type\": \"\",\n        \"description\": \"\"\n      }\n    },\n    {\n      \"column\": \"X4\",\n      \"properties\": {\n        \"dtype\": \"number\",\n        \"std\": 4.466220997206086,\n        \"min\": 3.3166247903554,\n        \"max\": 19.0,\n        \"num_unique_values\": 5,\n        \"samples\": [\n          9.0,\n          19.0,\n          3.3166247903554\n        ],\n        \"semantic_type\": \"\",\n        \"description\": \"\"\n      }\n    },\n    {\n      \"column\": \"Y1\",\n      \"properties\": {\n        \"dtype\": \"number\",\n        \"std\": 3.06850414384754,\n        \"min\": 2.031568135925815,\n        \"max\": 11.0,\n        \"num_unique_values\": 8,\n        \"samples\": [\n          7.500909090909093,\n          7.58,\n          11.0\n        ],\n        \"semantic_type\": \"\",\n        \"description\": \"\"\n      }\n    },\n    {\n      \"column\": \"Y2\",\n      \"properties\": {\n        \"dtype\": \"number\",\n        \"std\": 3.0796725888152894,\n        \"min\": 2.0316567355016177,\n        \"max\": 11.0,\n        \"num_unique_values\": 8,\n        \"samples\": [\n          7.50090909090909,\n          8.14,\n          11.0\n        ],\n        \"semantic_type\": \"\",\n        \"description\": \"\"\n      }\n    },\n    {\n      \"column\": \"Y3\",\n      \"properties\": {\n        \"dtype\": \"number\",\n        \"std\": 3.2954723476897656,\n        \"min\": 2.030423601123667,\n        \"max\": 12.74,\n        \"num_unique_values\": 8,\n        \"samples\": [\n          7.5,\n          7.11,\n          11.0\n        ],\n        \"semantic_type\": \"\",\n        \"description\": \"\"\n      }\n    },\n    {\n      \"column\": \"Y4\",\n      \"properties\": {\n        \"dtype\": \"number\",\n        \"std\": 3.2660808969533455,\n        \"min\": 2.0305785113876023,\n        \"max\": 12.5,\n        \"num_unique_values\": 8,\n        \"samples\": [\n          7.500909090909091,\n          7.04,\n          11.0\n        ],\n        \"semantic_type\": \"\",\n        \"description\": \"\"\n      }\n    }\n  ]\n}"
            }
          },
          "metadata": {},
          "execution_count": 22
        }
      ],
      "source": [
        "df = pd.DataFrame(np.vstack((x, y)).T, columns=['X1', 'X2', 'X3', 'X4', 'Y1', 'Y2', 'Y3', 'Y4'])\n",
        "df.describe()"
      ]
    },
    {
      "cell_type": "code",
      "execution_count": 23,
      "metadata": {
        "colab": {
          "base_uri": "https://localhost:8080/",
          "height": 160
        },
        "id": "QYYioHQBKew4",
        "outputId": "7f1bb46c-62a3-4690-ae49-5eb3317f3f0c",
        "tags": []
      },
      "outputs": [
        {
          "output_type": "display_data",
          "data": {
            "text/plain": [
              "<IPython.core.display.Javascript object>"
            ],
            "application/javascript": [
              "\n",
              "  for (rule of document.styleSheets[0].cssRules){\n",
              "    if (rule.selectorText=='body') {\n",
              "      rule.style.fontSize = '36px'\n",
              "      break\n",
              "    }\n",
              "  }\n",
              "  "
            ]
          },
          "metadata": {}
        },
        {
          "output_type": "display_data",
          "data": {
            "text/plain": [
              "<Figure size 1000x600 with 4 Axes>"
            ],
            "image/png": "[encoded data removed]"
          },
          "metadata": {}
        }
      ],
      "source": [
        "# function for the linear fit to automate the process\n",
        "def linearfit(x, y):\n",
        "    p = np.polyfit(x, y, deg=1)  # coefficients and covariance matrix\n",
        "    yfit = np.polyval(p, x)          # evaluate the polynomial at x\n",
        "    R2 = np.corrcoef(x, y)[0, 1]**2  # coefficient of determination between x and y\n",
        "    resid = y - yfit\n",
        "\n",
        "    return yfit, p, R2, resid\n",
        "\n",
        "\n",
        "fig, ax = plt.subplots(2, 2, figsize=(10, 6), sharex=True, sharey=True)\n",
        "axs = ax.flatten()\n",
        "resid = np.empty_like(y)\n",
        "for i, ax in enumerate(axs):\n",
        "    yf, p, R2, resid[i, :] = linearfit(x[i, :], y[i, :])\n",
        "    ax.plot(x[i, :], y[i, :], color=[0, .2, 1, .8], marker='o', linestyle='', markersize=8)\n",
        "    ax.plot(x[i, :], yf, 'r', linewidth=3)\n",
        "    ax.set_title('$y = %.2f + %.2f x \\, [R^2=%.2f]$' %(p[1], p[0], R2), fontsize=18)\n",
        "    ax.grid()\n",
        "\n",
        "ax.set_xlim(0, 20)\n",
        "fig.subplots_adjust(bottom=0.1, left=.05, right=.95, hspace=.2, wspace=.05)\n",
        "plt.suptitle(\"Regressões lineares dos dados do quarteto de Anscombe\",\n",
        "             fontsize=18, y=1.02)\n",
        "plt.show()"
      ]
    },
    {
      "cell_type": "markdown",
      "metadata": {
        "id": "AIEMFeQeKew5",
        "tags": []
      },
      "source": [
        "## Exercícios\n",
        "\n",
        "- Escrever um notebook do Colab para fazer o que pedido a seguir.\n",
        "\n",
        "- O arquivo com as funções que calcula a regressão e a correlação devem ser importados no script. Se quiser, pode usar o arquivo [funcoesCompleta.py](funcoes/funcoesCompleta.py) com as duas funções.\n",
        "\n",
        "\n",
        "\n",
        "**1)** Faça o gráfico da Renda [dos jogos do campeonato brasileiro de 2018](../dados/tabelaBrasileirao2018.csv) em função do público de cada jogo. Calcule a correlação entre essas grandezas.\n",
        "\n"
      ]
    },
    {
      "cell_type": "markdown",
      "metadata": {
        "id": "qhYntMp_Kew5",
        "tags": []
      },
      "source": [
        "**2**) Para essa tarefa você deverá usar o [arquivo com vários dados pessoais de sujeitos que participaram de um experimento](../dados/BDSinfo.csv).\n",
        "\n",
        "Faça o gráfico de dispersão do tamanho do pé (FootLen) em função da altura da pessoa (Height). Calcule (e mostre na tela) a correlação e plote a reta de regressão entre esses dados.\n",
        "\n",
        "Dica: esse arquivo separa as suas colunas com uma tabulação. Para ler o arquivo a opção 'sep' deve ser '\\t'."
      ]
    },
    {
      "cell_type": "markdown",
      "metadata": {
        "id": "60CrDL8LKew5",
        "tags": []
      },
      "source": [
        " **3)** Para essa tarefa você deverá usar os arquivos com a [inflação anual](../dados/inflaAnual.csv) e com o [crescimento do PIB anual](../dados/pibAnual.csv).\n",
        "\n",
        "Faça o gráfico de dispersão entre o crescimento do PIB e a inflação anual de 1961 a 2018. Calcule e mostre na tela a correlação entre as duas grandezas."
      ]
    },
    {
      "cell_type": "markdown",
      "metadata": {
        "id": "MGY1VLzLKew5",
        "tags": []
      },
      "source": [
        "**4)**  Para essa tarefa você deverá usar o [arquivo com vários dados pessoais de sujeitos que participaram de um experimento](../dados/BDSinfo.csv).\n",
        "\n",
        "Faça o gráfico de dispersão do número de medicamentos que a pessoa toma (Nmedication) em função da idade da pessoa (Age). Calcule (e mostre na tela) a correlação e plote a reta de regressão entre esses dados.\n",
        "\n",
        "Dica: esse arquivo separa as suas colunas com uma tabulação. Para ler o arquivo a opção 'sep' deve ser '\\t'."
      ]
    },
    {
      "cell_type": "markdown",
      "metadata": {
        "id": "ME2ZmaTsKew5"
      },
      "source": [
        "## Referências\n",
        "\n",
        "- Chalco, JM, *Slides de Bases Computacionais da Ciência*, (2014)\n",
        "- Leite, S, *Slides de Bases Computacionais da Ciência*, (2018)\n",
        "- [Marietto, MGB et al.; **Bases computacionais da Ciência** (2013)](http://prograd.ufabc.edu.br/images/pdf/bases_computacionais_livro.pdf).\n",
        "- [Wikipedia](www.wikipedia.com.br)\n",
        "- [Balance](https://github.com/BMClab/datasets/tree/master/BDS)\n",
        "- [Pearl, J., Mackenzie, D., The book of why (2018)](https://www.amazon.com.br/Book-Why-Science-Effect-English-ebook/dp/B075DCKP7V/ref=tmm_kin_swatch_0?_encoding=UTF8&qid=&sr=)\n"
      ]
    },
    {
      "cell_type": "code",
      "source": [],
      "metadata": {
        "id": "HYB6Uq3mwjTd"
      },
      "execution_count": 23,
      "outputs": []
    }
  ],
  "metadata": {
    "colab": {
      "provenance": []
    },
    "kernelspec": {
      "display_name": "Python 3 (ipykernel)",
      "language": "python",
      "name": "python3"
    },
    "language_info": {
      "codemirror_mode": {
        "name": "ipython",
        "version": 3
      },
      "file_extension": ".py",
      "mimetype": "text/x-python",
      "name": "python",
      "nbconvert_exporter": "python",
      "pygments_lexer": "ipython3",
      "version": "3.9.15"
    },
    "latex_envs": {
      "LaTeX_envs_menu_present": true,
      "autoclose": false,
      "autocomplete": true,
      "bibliofile": "biblio.bib",
      "cite_by": "apalike",
      "current_citInitial": 1,
      "eqLabelWithNumbers": true,
      "eqNumInitial": 1,
      "hotkeys": {
        "equation": "Ctrl-E",
        "itemize": "Ctrl-I"
      },
      "labels_anchors": false,
      "latex_user_defs": false,
      "report_style_numbering": false,
      "user_envs_cfg": false
    },
    "livereveal": {
      "autolaunch": true
    },
    "nbTranslate": {
      "displayLangs": [
        "*"
      ],
      "hotkey": "alt-t",
      "langInMainMenu": true,
      "sourceLang": "en",
      "targetLang": "fr",
      "useGoogleTranslate": true
    },
    "toc": {
      "base_numbering": 1,
      "nav_menu": {},
      "number_sections": true,
      "sideBar": true,
      "skip_h1_title": true,
      "title_cell": "Contents",
      "title_sidebar": "Contents",
      "toc_cell": true,
      "toc_position": {},
      "toc_section_display": true,
      "toc_window_display": false
    },
    "varInspector": {
      "cols": {
        "lenName": 16,
        "lenType": 16,
        "lenVar": 40
      },
      "kernels_config": {
        "python": {
          "delete_cmd_postfix": "",
          "delete_cmd_prefix": "del ",
          "library": "var_list.py",
          "varRefreshCmd": "print(var_dic_list())"
        },
        "r": {
          "delete_cmd_postfix": ") ",
          "delete_cmd_prefix": "rm(",
          "library": "var_list.r",
          "varRefreshCmd": "cat(var_dic_list()) "
        }
      },
      "types_to_exclude": [
        "module",
        "function",
        "builtin_function_or_method",
        "instance",
        "_Feature"
      ],
      "window_display": false
    }
  },
  "nbformat": 4,
  "nbformat_minor": 0
}