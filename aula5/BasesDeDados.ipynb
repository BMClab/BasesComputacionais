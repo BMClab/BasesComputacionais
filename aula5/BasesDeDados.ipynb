{
 "cells": [
  {
   "cell_type": "markdown",
   "metadata": {
    "slideshow": {
     "slide_type": "slide"
    }
   },
   "source": [
    "# Bases de dados\n",
    "\n",
    "Renato Naville Watanabe"
   ]
  },
  {
   "cell_type": "markdown",
   "metadata": {
    "slideshow": {
     "slide_type": "slide"
    }
   },
   "source": [
    "## Bases de dados\n",
    "\n",
    "Termo utilizado para indicar um aglomerado, ou conjunto, de dados que deve ser manipulado pelo computador.\n",
    "\n",
    "Pode ser definida como qualquer conjunto de dados para o qual se deseja:\n",
    "\n",
    "- Armazenar\n",
    "\n",
    "- Recuperar\n",
    "\n",
    "- Visualizar\n",
    "\n",
    "conteúdo."
   ]
  },
  {
   "cell_type": "markdown",
   "metadata": {
    "slideshow": {
     "slide_type": "slide"
    }
   },
   "source": [
    "**Exemplo (sem uso de computador): Lista de supermercado**\n",
    "\n",
    "é uma base simples.\n",
    "\n",
    "- Armazenamento (persistência): permite uso futuro.\n",
    "\n",
    "- Recuperação: acesso deve ser rápido e preciso.\n",
    "\n",
    "- Visualização: forma de apresentação.\n",
    "\n"
   ]
  },
  {
   "cell_type": "code",
   "execution_count": null,
   "metadata": {},
   "outputs": [],
   "source": []
  }
 ],
 "metadata": {
  "celltoolbar": "Slideshow",
  "kernelspec": {
   "display_name": "Python 3",
   "language": "python",
   "name": "python3"
  },
  "language_info": {
   "codemirror_mode": {
    "name": "ipython",
    "version": 3
   },
   "file_extension": ".py",
   "mimetype": "text/x-python",
   "name": "python",
   "nbconvert_exporter": "python",
   "pygments_lexer": "ipython3",
   "version": "3.6.8"
  },
  "nbTranslate": {
   "displayLangs": [
    "*"
   ],
   "hotkey": "alt-t",
   "langInMainMenu": true,
   "sourceLang": "en",
   "targetLang": "fr",
   "useGoogleTranslate": true
  }
 },
 "nbformat": 4,
 "nbformat_minor": 2
}
