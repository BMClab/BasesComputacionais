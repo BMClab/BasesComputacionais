{
  "cells": [
    {
      "cell_type": "markdown",
      "metadata": {
        "id": "Di6ioVhW0BWZ"
      },
      "source": [
        "# Bases Computacionais: bases de dados\n",
        "\n",
        "Renato Naville Watanabe"
      ]
    },
    {
      "cell_type": "markdown",
      "metadata": {
        "id": "e6vh9NbM0BWc"
      },
      "source": [
        "## Bases de dados\n",
        "\n",
        "Termo utilizado para indicar um aglomerado, ou conjunto, de dados que deve ser manipulado pelo computador.\n",
        "\n",
        "Pode ser definida como qualquer conjunto de dados para o qual se deseja:\n",
        "\n",
        "- Armazenar\n",
        "\n",
        "- Recuperar\n",
        "\n",
        "- Visualizar\n",
        "\n",
        "conteúdo."
      ]
    },
    {
      "cell_type": "markdown",
      "metadata": {
        "id": "xIXkfj-j0BWd"
      },
      "source": [
        "**Exemplo (sem uso de computador): Lista de supermercado**\n",
        "\n",
        "é uma base simples.\n",
        "\n",
        "- Armazenamento (persistência): permite uso futuro.\n",
        "\n",
        "- Recuperação: acesso deve ser rápido e preciso.\n",
        "\n",
        "- Visualização: forma de apresentação.\n",
        "\n",
        "![lista](https://github.com/BMClab/BasesComputacionais/blob/master/aula5/imagens/shopping.png?raw=1)"
      ]
    },
    {
      "cell_type": "markdown",
      "metadata": {
        "id": "iNmIGcu20BWd"
      },
      "source": [
        "### Exemplos de base de dados (sistemas computacionais)\n",
        "\n",
        "- controle de clientes\n",
        "- correntistas\n",
        "- alunos\n",
        "- controle de estoque"
      ]
    },
    {
      "cell_type": "markdown",
      "metadata": {
        "id": "i7rIeS7A0BWd"
      },
      "source": [
        "### Tabelas\n",
        "\n",
        "Existem vários modos de organizar uma base de dados: quando representada por uma planilha, a base de dados pode ser vista como uma matriz de dados:\n",
        "\n",
        "- Facilita a visualização global dos dados.\n",
        "- Identifica a posição de cada item de dado (linhas).\n",
        "- Identifica os atributos dos dados (colunas).\n",
        "\n",
        "É muito comum chamar a matriz de tabela.\n",
        "Resultados de buscas e consultas em sistemas gerenciadores de bancos de dados são apresentados em forma de tabelas."
      ]
    },
    {
      "cell_type": "markdown",
      "metadata": {
        "id": "ny446CRD0BWe"
      },
      "source": [
        "### Exemplo de tabela"
      ]
    },
    {
      "cell_type": "code",
      "execution_count": 1,
      "metadata": {
        "id": "QV5DYBA_0BWe"
      },
      "outputs": [
        {
          "data": {
            "text/html": [
              "<div>\n",
              "<style scoped>\n",
              "    .dataframe tbody tr th:only-of-type {\n",
              "        vertical-align: middle;\n",
              "    }\n",
              "\n",
              "    .dataframe tbody tr th {\n",
              "        vertical-align: top;\n",
              "    }\n",
              "\n",
              "    .dataframe thead th {\n",
              "        text-align: right;\n",
              "    }\n",
              "</style>\n",
              "<table border=\"1\" class=\"dataframe\">\n",
              "  <thead>\n",
              "    <tr style=\"text-align: right;\">\n",
              "      <th></th>\n",
              "      <th>Produto</th>\n",
              "      <th>Fabricante</th>\n",
              "      <th>Qtd</th>\n",
              "      <th>Medida</th>\n",
              "      <th>Preço</th>\n",
              "      <th>Supermercado</th>\n",
              "      <th>Data</th>\n",
              "    </tr>\n",
              "  </thead>\n",
              "  <tbody>\n",
              "    <tr>\n",
              "      <th>0</th>\n",
              "      <td>Suco</td>\n",
              "      <td>ValeSuco</td>\n",
              "      <td>1</td>\n",
              "      <td>l</td>\n",
              "      <td>3.00</td>\n",
              "      <td>Arpoador</td>\n",
              "      <td>12/05/2011</td>\n",
              "    </tr>\n",
              "    <tr>\n",
              "      <th>1</th>\n",
              "      <td>Suco</td>\n",
              "      <td>Flash</td>\n",
              "      <td>1</td>\n",
              "      <td>l</td>\n",
              "      <td>4.50</td>\n",
              "      <td>Arpoador</td>\n",
              "      <td>18/05/2011</td>\n",
              "    </tr>\n",
              "    <tr>\n",
              "      <th>2</th>\n",
              "      <td>Tomate</td>\n",
              "      <td>-</td>\n",
              "      <td>1</td>\n",
              "      <td>kg</td>\n",
              "      <td>3.50</td>\n",
              "      <td>Noite</td>\n",
              "      <td>14/05/2011</td>\n",
              "    </tr>\n",
              "    <tr>\n",
              "      <th>3</th>\n",
              "      <td>Arroz</td>\n",
              "      <td>Tio José</td>\n",
              "      <td>4</td>\n",
              "      <td>kg</td>\n",
              "      <td>8.64</td>\n",
              "      <td>Noite</td>\n",
              "      <td>14/05/2011</td>\n",
              "    </tr>\n",
              "    <tr>\n",
              "      <th>4</th>\n",
              "      <td>Arroz</td>\n",
              "      <td>Sem Broto</td>\n",
              "      <td>5</td>\n",
              "      <td>kg</td>\n",
              "      <td>9.99</td>\n",
              "      <td>Arpoador</td>\n",
              "      <td>10/06/2011</td>\n",
              "    </tr>\n",
              "    <tr>\n",
              "      <th>5</th>\n",
              "      <td>Arroz</td>\n",
              "      <td>Da TV</td>\n",
              "      <td>1</td>\n",
              "      <td>kg</td>\n",
              "      <td>1.99</td>\n",
              "      <td>Noite</td>\n",
              "      <td>14/06/2011</td>\n",
              "    </tr>\n",
              "    <tr>\n",
              "      <th>6</th>\n",
              "      <td>Feijão</td>\n",
              "      <td>Sem Broto</td>\n",
              "      <td>1</td>\n",
              "      <td>kg</td>\n",
              "      <td>4.00</td>\n",
              "      <td>Arpoador</td>\n",
              "      <td>12/05/2011</td>\n",
              "    </tr>\n",
              "    <tr>\n",
              "      <th>7</th>\n",
              "      <td>Tomate</td>\n",
              "      <td>-</td>\n",
              "      <td>1</td>\n",
              "      <td>kg</td>\n",
              "      <td>2.99</td>\n",
              "      <td>Noite</td>\n",
              "      <td>16/05/2011</td>\n",
              "    </tr>\n",
              "    <tr>\n",
              "      <th>8</th>\n",
              "      <td>Ovo</td>\n",
              "      <td>A Granja</td>\n",
              "      <td>12</td>\n",
              "      <td>u</td>\n",
              "      <td>3.19</td>\n",
              "      <td>Arpoador</td>\n",
              "      <td>12/06/2011</td>\n",
              "    </tr>\n",
              "    <tr>\n",
              "      <th>9</th>\n",
              "      <td>Ovo</td>\n",
              "      <td>Caseiro</td>\n",
              "      <td>6</td>\n",
              "      <td>u</td>\n",
              "      <td>1.45</td>\n",
              "      <td>Noite</td>\n",
              "      <td>14/05/2011</td>\n",
              "    </tr>\n",
              "    <tr>\n",
              "      <th>10</th>\n",
              "      <td>Suco</td>\n",
              "      <td>Flash</td>\n",
              "      <td>1</td>\n",
              "      <td>l</td>\n",
              "      <td>3.99</td>\n",
              "      <td>Noite</td>\n",
              "      <td>21/07/2011</td>\n",
              "    </tr>\n",
              "  </tbody>\n",
              "</table>\n",
              "</div>"
            ],
            "text/plain": [
              "   Produto Fabricante  Qtd Medida  Preço Supermercado        Data\n",
              "0     Suco   ValeSuco    1      l   3.00     Arpoador  12/05/2011\n",
              "1     Suco      Flash    1      l   4.50     Arpoador  18/05/2011\n",
              "2   Tomate         -     1     kg   3.50        Noite  14/05/2011\n",
              "3    Arroz   Tio José    4     kg   8.64        Noite  14/05/2011\n",
              "4    Arroz  Sem Broto    5     kg   9.99     Arpoador  10/06/2011\n",
              "5    Arroz      Da TV    1     kg   1.99        Noite  14/06/2011\n",
              "6   Feijão  Sem Broto    1     kg   4.00     Arpoador  12/05/2011\n",
              "7   Tomate         -     1     kg   2.99        Noite  16/05/2011\n",
              "8      Ovo   A Granja   12      u   3.19     Arpoador  12/06/2011\n",
              "9      Ovo    Caseiro    6      u   1.45        Noite  14/05/2011\n",
              "10    Suco      Flash    1      l   3.99        Noite  21/07/2011"
            ]
          },
          "execution_count": 1,
          "metadata": {},
          "output_type": "execute_result"
        }
      ],
      "source": [
        "import pandas as pd\n",
        "compras = pd.read_csv('https://raw.githubusercontent.com/BMClab/BasesComputacionais/master/dados/compras.csv')\n",
        "compras"
      ]
    },
    {
      "cell_type": "markdown",
      "metadata": {
        "id": "A9cbICrK0BWf"
      },
      "source": [
        "### Organização de dados\n",
        "\n",
        "- **Linhas da tabela**: armazenam os itens dos dados.\n",
        "\n",
        "- **Colunas da tabela**: armazenam atributos (propriedades ou características) vinculados a cada item de dado armazenado nas linhas."
      ]
    },
    {
      "cell_type": "code",
      "execution_count": 2,
      "metadata": {
        "id": "Mfic0sSg0BWf"
      },
      "outputs": [
        {
          "data": {
            "text/html": [
              "<div>\n",
              "<style scoped>\n",
              "    .dataframe tbody tr th:only-of-type {\n",
              "        vertical-align: middle;\n",
              "    }\n",
              "\n",
              "    .dataframe tbody tr th {\n",
              "        vertical-align: top;\n",
              "    }\n",
              "\n",
              "    .dataframe thead th {\n",
              "        text-align: right;\n",
              "    }\n",
              "</style>\n",
              "<table border=\"1\" class=\"dataframe\">\n",
              "  <thead>\n",
              "    <tr style=\"text-align: right;\">\n",
              "      <th></th>\n",
              "      <th>Produto</th>\n",
              "      <th>Fabricante</th>\n",
              "      <th>Qtd</th>\n",
              "      <th>Medida</th>\n",
              "      <th>Preço</th>\n",
              "      <th>Supermercado</th>\n",
              "      <th>Data</th>\n",
              "    </tr>\n",
              "  </thead>\n",
              "  <tbody>\n",
              "    <tr>\n",
              "      <th>0</th>\n",
              "      <td>Suco</td>\n",
              "      <td>ValeSuco</td>\n",
              "      <td>1</td>\n",
              "      <td>l</td>\n",
              "      <td>3.0</td>\n",
              "      <td>Arpoador</td>\n",
              "      <td>12/05/2011</td>\n",
              "    </tr>\n",
              "    <tr>\n",
              "      <th>1</th>\n",
              "      <td>Suco</td>\n",
              "      <td>Flash</td>\n",
              "      <td>1</td>\n",
              "      <td>l</td>\n",
              "      <td>4.5</td>\n",
              "      <td>Arpoador</td>\n",
              "      <td>18/05/2011</td>\n",
              "    </tr>\n",
              "    <tr>\n",
              "      <th>2</th>\n",
              "      <td>Tomate</td>\n",
              "      <td>-</td>\n",
              "      <td>1</td>\n",
              "      <td>kg</td>\n",
              "      <td>3.5</td>\n",
              "      <td>Noite</td>\n",
              "      <td>14/05/2011</td>\n",
              "    </tr>\n",
              "  </tbody>\n",
              "</table>\n",
              "</div>"
            ],
            "text/plain": [
              "  Produto Fabricante  Qtd Medida  Preço Supermercado        Data\n",
              "0    Suco   ValeSuco    1      l    3.0     Arpoador  12/05/2011\n",
              "1    Suco      Flash    1      l    4.5     Arpoador  18/05/2011\n",
              "2  Tomate         -     1     kg    3.5        Noite  14/05/2011"
            ]
          },
          "execution_count": 2,
          "metadata": {},
          "output_type": "execute_result"
        }
      ],
      "source": [
        "compras.head(3)"
      ]
    },
    {
      "cell_type": "markdown",
      "metadata": {
        "id": "RjCbjJu40BWg"
      },
      "source": [
        "![tabela](https://github.com/BMClab/BasesComputacionais/blob/master/aula5/imagens/tabela.png?raw=1)\n",
        "\n",
        "- **Tabela**: conjunto de tuplas\n",
        "- **Colunas**: atributos\n",
        "- **Linhas**: tuplas, itens de dados ou instâncias\n",
        "- **Campos**: valores dos atributos"
      ]
    },
    {
      "cell_type": "markdown",
      "metadata": {
        "id": "EASR4gdy0BWg"
      },
      "source": [
        "### Tipos de dados\n",
        "\n",
        "Toda a base de dados deve reservar uma especial atenção para a escolha dos tipos de valores armazenados (tipos de dados).\n",
        "\n",
        "A escolha correta dos tipos de dados permite elevar o nível de qualidade da base:\n",
        "\n",
        "- Controlar possíveis erros de cadastramento de valores.\n",
        "- Previne inconsistências. Por exemplo:\n",
        "    + evita o armazenamento de letras em locais destinados a valores numéricos;\n",
        "    + evita datas escritas de forma incorreta."
      ]
    },
    {
      "cell_type": "markdown",
      "metadata": {
        "id": "83iwxk4M0BWg"
      },
      "source": [
        "### Pandas\n",
        "\n",
        "A biblioteca que utilizaremos para trabalhar com bases de dados é o [Pandas](https://pandas.pydata.org/). Esta biblioteca tem ferramentas para trabalhar com diferentes estruturas e realizar diferentes análises de dados. Para usar a biblioteca Pandas, devemos importá-la primeiro. A biblioteca Pandas trabalha muito bem junto com o Numpy. Todos os comandos que funcionam em vetores do Numpy funcionam também em DataFrames do Pandas."
      ]
    },
    {
      "cell_type": "markdown",
      "metadata": {
        "id": "lY4c09tl0BWg"
      },
      "source": [
        "Existem diversas formas de criar um DataFrame do Pandas. O primeiro é inserindo os dados (valores dos campos) de cada um dos campos. Isso é feito com o comando *pd.DataFrame*. Os dados de cada um dos atributos são inseridos com o comando *np.array*."
      ]
    },
    {
      "cell_type": "code",
      "execution_count": 3,
      "metadata": {
        "id": "ws1lzB1Z0BWg"
      },
      "outputs": [
        {
          "data": {
            "text/html": [
              "<div>\n",
              "<style scoped>\n",
              "    .dataframe tbody tr th:only-of-type {\n",
              "        vertical-align: middle;\n",
              "    }\n",
              "\n",
              "    .dataframe tbody tr th {\n",
              "        vertical-align: top;\n",
              "    }\n",
              "\n",
              "    .dataframe thead th {\n",
              "        text-align: right;\n",
              "    }\n",
              "</style>\n",
              "<table border=\"1\" class=\"dataframe\">\n",
              "  <thead>\n",
              "    <tr style=\"text-align: right;\">\n",
              "      <th></th>\n",
              "      <th>faltas</th>\n",
              "      <th>notas</th>\n",
              "    </tr>\n",
              "  </thead>\n",
              "  <tbody>\n",
              "    <tr>\n",
              "      <th>0</th>\n",
              "      <td>8</td>\n",
              "      <td>78</td>\n",
              "    </tr>\n",
              "    <tr>\n",
              "      <th>1</th>\n",
              "      <td>2</td>\n",
              "      <td>92</td>\n",
              "    </tr>\n",
              "    <tr>\n",
              "      <th>2</th>\n",
              "      <td>5</td>\n",
              "      <td>90</td>\n",
              "    </tr>\n",
              "    <tr>\n",
              "      <th>3</th>\n",
              "      <td>12</td>\n",
              "      <td>58</td>\n",
              "    </tr>\n",
              "    <tr>\n",
              "      <th>4</th>\n",
              "      <td>15</td>\n",
              "      <td>43</td>\n",
              "    </tr>\n",
              "    <tr>\n",
              "      <th>5</th>\n",
              "      <td>9</td>\n",
              "      <td>74</td>\n",
              "    </tr>\n",
              "    <tr>\n",
              "      <th>6</th>\n",
              "      <td>6</td>\n",
              "      <td>81</td>\n",
              "    </tr>\n",
              "  </tbody>\n",
              "</table>\n",
              "</div>"
            ],
            "text/plain": [
              "   faltas  notas\n",
              "0       8     78\n",
              "1       2     92\n",
              "2       5     90\n",
              "3      12     58\n",
              "4      15     43\n",
              "5       9     74\n",
              "6       6     81"
            ]
          },
          "execution_count": 3,
          "metadata": {},
          "output_type": "execute_result"
        }
      ],
      "source": [
        "import pandas as pd\n",
        "import numpy as np\n",
        "\n",
        "alunos = pd.DataFrame({'faltas':np.array([8, 2, 5, 12, 15, 9, 6]),\n",
        "                      'notas': np.array([78, 92, 90, 58, 43, 74, 81])})\n",
        "alunos"
      ]
    },
    {
      "cell_type": "markdown",
      "metadata": {
        "id": "1cJ_7EVN0BWg"
      },
      "source": [
        "### Acessando os valores de um campo\n",
        "\n",
        "Para acessar todos os valores de um campo, basta escrever o nome da variável em que o DataFrame, seguido de colchetes com o nome do campo entre aspas. Por exemplo, para acessar os valores do campo *faltas*, basta:"
      ]
    },
    {
      "cell_type": "code",
      "execution_count": 4,
      "metadata": {
        "id": "DXjVIsHP0BWg"
      },
      "outputs": [
        {
          "name": "stdout",
          "output_type": "stream",
          "text": [
            "0     8\n",
            "1     2\n",
            "2     5\n",
            "3    12\n",
            "4    15\n",
            "5     9\n",
            "6     6\n",
            "Name: faltas, dtype: int64\n"
          ]
        }
      ],
      "source": [
        "print(alunos['faltas'])"
      ]
    },
    {
      "cell_type": "markdown",
      "metadata": {
        "id": "j-Z8p4780BWh"
      },
      "source": [
        "E para acessar o campo *notas*:"
      ]
    },
    {
      "cell_type": "code",
      "execution_count": 5,
      "metadata": {
        "id": "0RXNMkFN0BWh"
      },
      "outputs": [
        {
          "name": "stdout",
          "output_type": "stream",
          "text": [
            "0    78\n",
            "1    92\n",
            "2    90\n",
            "3    58\n",
            "4    43\n",
            "5    74\n",
            "6    81\n",
            "Name: notas, dtype: int64\n"
          ]
        }
      ],
      "source": [
        "print(alunos['notas'])"
      ]
    },
    {
      "cell_type": "markdown",
      "metadata": {
        "id": "sIwn_LO00BWh"
      },
      "source": [
        "A biblioteca de gráficos Matplotlib também funciona com o Pandas. Para fazer o gráfico notas em função do número de faltas, pode-se usar o comando abaixo:"
      ]
    },
    {
      "cell_type": "code",
      "execution_count": 6,
      "metadata": {
        "id": "dkoBES2R0BWh"
      },
      "outputs": [
        {
          "data": {
            "image/png": "[encoded data removed]",
            "text/plain": [
              "<Figure size 640x480 with 1 Axes>"
            ]
          },
          "metadata": {},
          "output_type": "display_data"
        }
      ],
      "source": [
        "import matplotlib.pyplot as plt\n",
        "\n",
        "plt.figure()\n",
        "plt.plot(alunos['faltas'], alunos['notas'], marker = 'o', linestyle = '',\n",
        "         color = 'red', markersize = 15)\n",
        "plt.grid()\n",
        "plt.xlabel('Faltas')\n",
        "plt.ylabel('Notas')\n",
        "plt.show()\n"
      ]
    },
    {
      "cell_type": "markdown",
      "metadata": {
        "id": "S_X_8yEW0BWh"
      },
      "source": [
        "### Arquivos estruturados\n",
        "\n",
        "Arquivos estruturados (ou flat files) são arquivos de dados organizados sob uma estrutura rígida e pré-definida:\n",
        "\n",
        "- Os arquivos estruturados são muito usados para a troca de dados entre sistemas  computacionais diferentes que não mantêm, entre si, um canal direto de comunicação.\n",
        "- Definem-se caracteres (ou sequências de caracteres) que exercerão o papel de delimitadores de linha e de coluna.\n",
        "\n",
        "**[Exemplo](dados/compras.csv)**: Arquivo CSV (“Comma Separated Values”)\n",
        "\n",
        "Produto,Fabricante,Qtd,Medida,Preço,Supermercado,Data  \n",
        "Suco,ValeSuco,1,l,3.00,Arpoador,12/05/2011  \n",
        "Suco,Flash,1,l,4.50,Arpoador,12/05/2011  \n",
        "Tomate, - ,1,kg,3.50,Noite,14/05/2011  \n",
        "Arroz,Tio José,5,kg,8.64,Noite,14/05/2011  "
      ]
    },
    {
      "cell_type": "markdown",
      "metadata": {
        "id": "b7BUBLdV0BWh"
      },
      "source": [
        "### Carregando arquivos CSV\n",
        "\n",
        "A forma mais utilizada para criar DataFrames no Pandas é com dados disponíveis em arquivos com dados (por exemplo, arquivos CSV). Para fazer isso, basta usar o comando *pd.read_csv*."
      ]
    },
    {
      "cell_type": "code",
      "execution_count": 7,
      "metadata": {
        "id": "Yx5CqoZ60BWh"
      },
      "outputs": [
        {
          "data": {
            "text/html": [
              "<div>\n",
              "<style scoped>\n",
              "    .dataframe tbody tr th:only-of-type {\n",
              "        vertical-align: middle;\n",
              "    }\n",
              "\n",
              "    .dataframe tbody tr th {\n",
              "        vertical-align: top;\n",
              "    }\n",
              "\n",
              "    .dataframe thead th {\n",
              "        text-align: right;\n",
              "    }\n",
              "</style>\n",
              "<table border=\"1\" class=\"dataframe\">\n",
              "  <thead>\n",
              "    <tr style=\"text-align: right;\">\n",
              "      <th></th>\n",
              "      <th>Produto</th>\n",
              "      <th>Fabricante</th>\n",
              "      <th>Qtd</th>\n",
              "      <th>Medida</th>\n",
              "      <th>Preço</th>\n",
              "      <th>Supermercado</th>\n",
              "      <th>Data</th>\n",
              "    </tr>\n",
              "  </thead>\n",
              "  <tbody>\n",
              "    <tr>\n",
              "      <th>0</th>\n",
              "      <td>Suco</td>\n",
              "      <td>ValeSuco</td>\n",
              "      <td>1</td>\n",
              "      <td>l</td>\n",
              "      <td>3.00</td>\n",
              "      <td>Arpoador</td>\n",
              "      <td>12/05/2011</td>\n",
              "    </tr>\n",
              "    <tr>\n",
              "      <th>1</th>\n",
              "      <td>Suco</td>\n",
              "      <td>Flash</td>\n",
              "      <td>1</td>\n",
              "      <td>l</td>\n",
              "      <td>4.50</td>\n",
              "      <td>Arpoador</td>\n",
              "      <td>18/05/2011</td>\n",
              "    </tr>\n",
              "    <tr>\n",
              "      <th>2</th>\n",
              "      <td>Tomate</td>\n",
              "      <td>-</td>\n",
              "      <td>1</td>\n",
              "      <td>kg</td>\n",
              "      <td>3.50</td>\n",
              "      <td>Noite</td>\n",
              "      <td>14/05/2011</td>\n",
              "    </tr>\n",
              "    <tr>\n",
              "      <th>3</th>\n",
              "      <td>Arroz</td>\n",
              "      <td>Tio José</td>\n",
              "      <td>4</td>\n",
              "      <td>kg</td>\n",
              "      <td>8.64</td>\n",
              "      <td>Noite</td>\n",
              "      <td>14/05/2011</td>\n",
              "    </tr>\n",
              "    <tr>\n",
              "      <th>4</th>\n",
              "      <td>Arroz</td>\n",
              "      <td>Sem Broto</td>\n",
              "      <td>5</td>\n",
              "      <td>kg</td>\n",
              "      <td>9.99</td>\n",
              "      <td>Arpoador</td>\n",
              "      <td>10/06/2011</td>\n",
              "    </tr>\n",
              "    <tr>\n",
              "      <th>5</th>\n",
              "      <td>Arroz</td>\n",
              "      <td>Da TV</td>\n",
              "      <td>1</td>\n",
              "      <td>kg</td>\n",
              "      <td>1.99</td>\n",
              "      <td>Noite</td>\n",
              "      <td>14/06/2011</td>\n",
              "    </tr>\n",
              "    <tr>\n",
              "      <th>6</th>\n",
              "      <td>Feijão</td>\n",
              "      <td>Sem Broto</td>\n",
              "      <td>1</td>\n",
              "      <td>kg</td>\n",
              "      <td>4.00</td>\n",
              "      <td>Arpoador</td>\n",
              "      <td>12/05/2011</td>\n",
              "    </tr>\n",
              "    <tr>\n",
              "      <th>7</th>\n",
              "      <td>Tomate</td>\n",
              "      <td>-</td>\n",
              "      <td>1</td>\n",
              "      <td>kg</td>\n",
              "      <td>2.99</td>\n",
              "      <td>Noite</td>\n",
              "      <td>16/05/2011</td>\n",
              "    </tr>\n",
              "    <tr>\n",
              "      <th>8</th>\n",
              "      <td>Ovo</td>\n",
              "      <td>A Granja</td>\n",
              "      <td>12</td>\n",
              "      <td>u</td>\n",
              "      <td>3.19</td>\n",
              "      <td>Arpoador</td>\n",
              "      <td>12/06/2011</td>\n",
              "    </tr>\n",
              "    <tr>\n",
              "      <th>9</th>\n",
              "      <td>Ovo</td>\n",
              "      <td>Caseiro</td>\n",
              "      <td>6</td>\n",
              "      <td>u</td>\n",
              "      <td>1.45</td>\n",
              "      <td>Noite</td>\n",
              "      <td>14/05/2011</td>\n",
              "    </tr>\n",
              "    <tr>\n",
              "      <th>10</th>\n",
              "      <td>Suco</td>\n",
              "      <td>Flash</td>\n",
              "      <td>1</td>\n",
              "      <td>l</td>\n",
              "      <td>3.99</td>\n",
              "      <td>Noite</td>\n",
              "      <td>21/07/2011</td>\n",
              "    </tr>\n",
              "  </tbody>\n",
              "</table>\n",
              "</div>"
            ],
            "text/plain": [
              "   Produto Fabricante  Qtd Medida  Preço Supermercado        Data\n",
              "0     Suco   ValeSuco    1      l   3.00     Arpoador  12/05/2011\n",
              "1     Suco      Flash    1      l   4.50     Arpoador  18/05/2011\n",
              "2   Tomate         -     1     kg   3.50        Noite  14/05/2011\n",
              "3    Arroz   Tio José    4     kg   8.64        Noite  14/05/2011\n",
              "4    Arroz  Sem Broto    5     kg   9.99     Arpoador  10/06/2011\n",
              "5    Arroz      Da TV    1     kg   1.99        Noite  14/06/2011\n",
              "6   Feijão  Sem Broto    1     kg   4.00     Arpoador  12/05/2011\n",
              "7   Tomate         -     1     kg   2.99        Noite  16/05/2011\n",
              "8      Ovo   A Granja   12      u   3.19     Arpoador  12/06/2011\n",
              "9      Ovo    Caseiro    6      u   1.45        Noite  14/05/2011\n",
              "10    Suco      Flash    1      l   3.99        Noite  21/07/2011"
            ]
          },
          "execution_count": 7,
          "metadata": {},
          "output_type": "execute_result"
        }
      ],
      "source": [
        "compras = pd.read_csv('https://raw.githubusercontent.com/BMClab/BasesComputacionais/master/dados/compras.csv')\n",
        "compras"
      ]
    },
    {
      "cell_type": "markdown",
      "metadata": {
        "id": "MIzKcpty0BWi"
      },
      "source": [
        "Note que neste caso o endereço do arquivo é um endereço na internert (http://...).  \n",
        "O endereço do arquivo pode ser um endereço local no seu computador (por exemplo, 'c:\\user\\...'); é que o ambiente Google Colab não tem acesso direto ao seu computador local.  \n",
        "Outra possibilidade é você montar seu Google Drive e então acessar os arquivos de lá."
      ]
    },
    {
      "cell_type": "markdown",
      "metadata": {
        "id": "Y7CU-s4p0BWi"
      },
      "source": [
        "### Manipulação dos dados\n",
        "\n",
        "Duas operações importantes para recuperação (**Consultas**) e visualização (**Ordenação**) dos dados.\n",
        "\n",
        "- **Consultas**: é uma forma de recuperação de dados que consiste em realizar consultas sobre a base de dados, verificando valores e propriedades dos dados armazenados.\n",
        "\n",
        "- **Ordenação**: é uma operação comum quando se trabalha com dados. Dados ordenados facilitam a localização de informação e identificação de padrões. Além disso, a ordenação de dados pode ser considerada uma operação básica e presente em praticamente todos os sistemas que trabalham com visualização de dados."
      ]
    },
    {
      "cell_type": "markdown",
      "metadata": {
        "id": "3MAf4aTe0BWi"
      },
      "source": [
        "### Consultas\n",
        "\n",
        "É possivel fazer uma consulta (seleção ou filtragem) com a função query(). Na função query() você coloca toda a expressão entre aspas (duplas ou simples) e pode usar os operadores lógicos comuns (not, and  e or). Na função query() só é necessário colocar os nomes das colunas. Se uma das colunas for do tipo string, o conteúdo deve estar entre aspas (se você tiver colocado aspas duplas para a expressão, colocar aspas simples).\n",
        "\n",
        "Por exemplo, para selecionarmos todos os itens (tuplas) cujo campo Produto tenha o valor Arroz, basta usar o seguinte comando."
      ]
    },
    {
      "cell_type": "code",
      "execution_count": 8,
      "metadata": {
        "id": "V8YOrY6j0BWi"
      },
      "outputs": [
        {
          "data": {
            "text/html": [
              "<div>\n",
              "<style scoped>\n",
              "    .dataframe tbody tr th:only-of-type {\n",
              "        vertical-align: middle;\n",
              "    }\n",
              "\n",
              "    .dataframe tbody tr th {\n",
              "        vertical-align: top;\n",
              "    }\n",
              "\n",
              "    .dataframe thead th {\n",
              "        text-align: right;\n",
              "    }\n",
              "</style>\n",
              "<table border=\"1\" class=\"dataframe\">\n",
              "  <thead>\n",
              "    <tr style=\"text-align: right;\">\n",
              "      <th></th>\n",
              "      <th>Produto</th>\n",
              "      <th>Fabricante</th>\n",
              "      <th>Qtd</th>\n",
              "      <th>Medida</th>\n",
              "      <th>Preço</th>\n",
              "      <th>Supermercado</th>\n",
              "      <th>Data</th>\n",
              "    </tr>\n",
              "  </thead>\n",
              "  <tbody>\n",
              "    <tr>\n",
              "      <th>3</th>\n",
              "      <td>Arroz</td>\n",
              "      <td>Tio José</td>\n",
              "      <td>4</td>\n",
              "      <td>kg</td>\n",
              "      <td>8.64</td>\n",
              "      <td>Noite</td>\n",
              "      <td>14/05/2011</td>\n",
              "    </tr>\n",
              "    <tr>\n",
              "      <th>4</th>\n",
              "      <td>Arroz</td>\n",
              "      <td>Sem Broto</td>\n",
              "      <td>5</td>\n",
              "      <td>kg</td>\n",
              "      <td>9.99</td>\n",
              "      <td>Arpoador</td>\n",
              "      <td>10/06/2011</td>\n",
              "    </tr>\n",
              "    <tr>\n",
              "      <th>5</th>\n",
              "      <td>Arroz</td>\n",
              "      <td>Da TV</td>\n",
              "      <td>1</td>\n",
              "      <td>kg</td>\n",
              "      <td>1.99</td>\n",
              "      <td>Noite</td>\n",
              "      <td>14/06/2011</td>\n",
              "    </tr>\n",
              "  </tbody>\n",
              "</table>\n",
              "</div>"
            ],
            "text/plain": [
              "  Produto Fabricante  Qtd Medida  Preço Supermercado        Data\n",
              "3   Arroz   Tio José    4     kg   8.64        Noite  14/05/2011\n",
              "4   Arroz  Sem Broto    5     kg   9.99     Arpoador  10/06/2011\n",
              "5   Arroz      Da TV    1     kg   1.99        Noite  14/06/2011"
            ]
          },
          "execution_count": 8,
          "metadata": {},
          "output_type": "execute_result"
        }
      ],
      "source": [
        "arroz = compras.query(\"Produto == 'Arroz'\")\n",
        "arroz"
      ]
    },
    {
      "cell_type": "markdown",
      "metadata": {
        "id": "jem0IDZK0BWi"
      },
      "source": [
        "Repare que o nome da coluna `Arroz` está entre aspas simples. Isso ocorre porque Arroz é uma string."
      ]
    },
    {
      "cell_type": "markdown",
      "metadata": {
        "id": "l8u3KKho0BWi"
      },
      "source": [
        "Aqui selecionamos da tabela compras o produto Arroz e que tenha quantidade maior ou igual a 4."
      ]
    },
    {
      "cell_type": "code",
      "execution_count": 9,
      "metadata": {
        "id": "cXa1Gasj0BWi"
      },
      "outputs": [
        {
          "data": {
            "text/html": [
              "<div>\n",
              "<style scoped>\n",
              "    .dataframe tbody tr th:only-of-type {\n",
              "        vertical-align: middle;\n",
              "    }\n",
              "\n",
              "    .dataframe tbody tr th {\n",
              "        vertical-align: top;\n",
              "    }\n",
              "\n",
              "    .dataframe thead th {\n",
              "        text-align: right;\n",
              "    }\n",
              "</style>\n",
              "<table border=\"1\" class=\"dataframe\">\n",
              "  <thead>\n",
              "    <tr style=\"text-align: right;\">\n",
              "      <th></th>\n",
              "      <th>Produto</th>\n",
              "      <th>Fabricante</th>\n",
              "      <th>Qtd</th>\n",
              "      <th>Medida</th>\n",
              "      <th>Preço</th>\n",
              "      <th>Supermercado</th>\n",
              "      <th>Data</th>\n",
              "    </tr>\n",
              "  </thead>\n",
              "  <tbody>\n",
              "    <tr>\n",
              "      <th>3</th>\n",
              "      <td>Arroz</td>\n",
              "      <td>Tio José</td>\n",
              "      <td>4</td>\n",
              "      <td>kg</td>\n",
              "      <td>8.64</td>\n",
              "      <td>Noite</td>\n",
              "      <td>14/05/2011</td>\n",
              "    </tr>\n",
              "    <tr>\n",
              "      <th>4</th>\n",
              "      <td>Arroz</td>\n",
              "      <td>Sem Broto</td>\n",
              "      <td>5</td>\n",
              "      <td>kg</td>\n",
              "      <td>9.99</td>\n",
              "      <td>Arpoador</td>\n",
              "      <td>10/06/2011</td>\n",
              "    </tr>\n",
              "  </tbody>\n",
              "</table>\n",
              "</div>"
            ],
            "text/plain": [
              "  Produto Fabricante  Qtd Medida  Preço Supermercado        Data\n",
              "3   Arroz   Tio José    4     kg   8.64        Noite  14/05/2011\n",
              "4   Arroz  Sem Broto    5     kg   9.99     Arpoador  10/06/2011"
            ]
          },
          "execution_count": 9,
          "metadata": {},
          "output_type": "execute_result"
        }
      ],
      "source": [
        "arroz4 = compras.query(\"Produto == 'Arroz' and Qtd >= 4\")\n",
        "arroz4"
      ]
    },
    {
      "cell_type": "markdown",
      "metadata": {
        "id": "bHAddpZH0BWj"
      },
      "source": [
        "Note que o resultado da consulta foi gravado em outra variável, que também é um DataFrame do Pandas."
      ]
    },
    {
      "cell_type": "markdown",
      "metadata": {},
      "source": [
        "É possível utilizar o valor de uma variável dentro da função `query`. Para isso deve-se colocar @ antes do nome da variável, como no exemplo abaixo."
      ]
    },
    {
      "cell_type": "code",
      "execution_count": 10,
      "metadata": {},
      "outputs": [
        {
          "data": {
            "text/html": [
              "<div>\n",
              "<style scoped>\n",
              "    .dataframe tbody tr th:only-of-type {\n",
              "        vertical-align: middle;\n",
              "    }\n",
              "\n",
              "    .dataframe tbody tr th {\n",
              "        vertical-align: top;\n",
              "    }\n",
              "\n",
              "    .dataframe thead th {\n",
              "        text-align: right;\n",
              "    }\n",
              "</style>\n",
              "<table border=\"1\" class=\"dataframe\">\n",
              "  <thead>\n",
              "    <tr style=\"text-align: right;\">\n",
              "      <th></th>\n",
              "      <th>Produto</th>\n",
              "      <th>Fabricante</th>\n",
              "      <th>Qtd</th>\n",
              "      <th>Medida</th>\n",
              "      <th>Preço</th>\n",
              "      <th>Supermercado</th>\n",
              "      <th>Data</th>\n",
              "    </tr>\n",
              "  </thead>\n",
              "  <tbody>\n",
              "    <tr>\n",
              "      <th>0</th>\n",
              "      <td>Suco</td>\n",
              "      <td>ValeSuco</td>\n",
              "      <td>1</td>\n",
              "      <td>l</td>\n",
              "      <td>3.00</td>\n",
              "      <td>Arpoador</td>\n",
              "      <td>12/05/2011</td>\n",
              "    </tr>\n",
              "    <tr>\n",
              "      <th>1</th>\n",
              "      <td>Suco</td>\n",
              "      <td>Flash</td>\n",
              "      <td>1</td>\n",
              "      <td>l</td>\n",
              "      <td>4.50</td>\n",
              "      <td>Arpoador</td>\n",
              "      <td>18/05/2011</td>\n",
              "    </tr>\n",
              "    <tr>\n",
              "      <th>2</th>\n",
              "      <td>Tomate</td>\n",
              "      <td>-</td>\n",
              "      <td>1</td>\n",
              "      <td>kg</td>\n",
              "      <td>3.50</td>\n",
              "      <td>Noite</td>\n",
              "      <td>14/05/2011</td>\n",
              "    </tr>\n",
              "    <tr>\n",
              "      <th>5</th>\n",
              "      <td>Arroz</td>\n",
              "      <td>Da TV</td>\n",
              "      <td>1</td>\n",
              "      <td>kg</td>\n",
              "      <td>1.99</td>\n",
              "      <td>Noite</td>\n",
              "      <td>14/06/2011</td>\n",
              "    </tr>\n",
              "    <tr>\n",
              "      <th>6</th>\n",
              "      <td>Feijão</td>\n",
              "      <td>Sem Broto</td>\n",
              "      <td>1</td>\n",
              "      <td>kg</td>\n",
              "      <td>4.00</td>\n",
              "      <td>Arpoador</td>\n",
              "      <td>12/05/2011</td>\n",
              "    </tr>\n",
              "    <tr>\n",
              "      <th>7</th>\n",
              "      <td>Tomate</td>\n",
              "      <td>-</td>\n",
              "      <td>1</td>\n",
              "      <td>kg</td>\n",
              "      <td>2.99</td>\n",
              "      <td>Noite</td>\n",
              "      <td>16/05/2011</td>\n",
              "    </tr>\n",
              "    <tr>\n",
              "      <th>8</th>\n",
              "      <td>Ovo</td>\n",
              "      <td>A Granja</td>\n",
              "      <td>12</td>\n",
              "      <td>u</td>\n",
              "      <td>3.19</td>\n",
              "      <td>Arpoador</td>\n",
              "      <td>12/06/2011</td>\n",
              "    </tr>\n",
              "    <tr>\n",
              "      <th>9</th>\n",
              "      <td>Ovo</td>\n",
              "      <td>Caseiro</td>\n",
              "      <td>6</td>\n",
              "      <td>u</td>\n",
              "      <td>1.45</td>\n",
              "      <td>Noite</td>\n",
              "      <td>14/05/2011</td>\n",
              "    </tr>\n",
              "    <tr>\n",
              "      <th>10</th>\n",
              "      <td>Suco</td>\n",
              "      <td>Flash</td>\n",
              "      <td>1</td>\n",
              "      <td>l</td>\n",
              "      <td>3.99</td>\n",
              "      <td>Noite</td>\n",
              "      <td>21/07/2011</td>\n",
              "    </tr>\n",
              "  </tbody>\n",
              "</table>\n",
              "</div>"
            ],
            "text/plain": [
              "   Produto Fabricante  Qtd Medida  Preço Supermercado        Data\n",
              "0     Suco   ValeSuco    1      l   3.00     Arpoador  12/05/2011\n",
              "1     Suco      Flash    1      l   4.50     Arpoador  18/05/2011\n",
              "2   Tomate         -     1     kg   3.50        Noite  14/05/2011\n",
              "5    Arroz      Da TV    1     kg   1.99        Noite  14/06/2011\n",
              "6   Feijão  Sem Broto    1     kg   4.00     Arpoador  12/05/2011\n",
              "7   Tomate         -     1     kg   2.99        Noite  16/05/2011\n",
              "8      Ovo   A Granja   12      u   3.19     Arpoador  12/06/2011\n",
              "9      Ovo    Caseiro    6      u   1.45        Noite  14/05/2011\n",
              "10    Suco      Flash    1      l   3.99        Noite  21/07/2011"
            ]
          },
          "execution_count": 10,
          "metadata": {},
          "output_type": "execute_result"
        }
      ],
      "source": [
        "valor_max = 5\n",
        "compras.query(\"Preço <= @valor_max\")\n"
      ]
    },
    {
      "cell_type": "markdown",
      "metadata": {
        "id": "OZTE3oQ70BWj"
      },
      "source": [
        "### Ordenação\n",
        "\n",
        "Para ordenar uma tabela (DataFrame), basta usar o comando *sort_values*. Como argumento da função sort_values, deve vir qual (ou quais) campo você deseja usar para a ordenação.\n",
        "\n",
        "Por exemplo, para ordenar de acordo com o campo Preço, utiliza-se o seguinte comando:"
      ]
    },
    {
      "cell_type": "code",
      "execution_count": null,
      "metadata": {
        "id": "BxazDrcV0BWj"
      },
      "outputs": [],
      "source": [
        "compras.sort_values(['Preço'])"
      ]
    },
    {
      "cell_type": "markdown",
      "metadata": {
        "id": "wBdnR1xH0BWj"
      },
      "source": [
        "Para ordenar por ordem descendente dos valores, utiliza-se:"
      ]
    },
    {
      "cell_type": "code",
      "execution_count": null,
      "metadata": {
        "id": "Uel1RqaL0BWj"
      },
      "outputs": [],
      "source": [
        "compras.sort_values(['Preço'], ascending=False)"
      ]
    },
    {
      "cell_type": "markdown",
      "metadata": {
        "id": "lbN2LW3d0BWj"
      },
      "source": [
        "Se você colocar mais de um campo como argumento da função sort_values, a ordenação ocorrerá seguindo a ordem de prioridade igual à ordem em que os campos aparecem no argumento da função sort_values.\n",
        "\n",
        "Por exemplo, no comando abaixo a ordenação ocorre seguindo a ordem crescente do campo Preço. Quando o valor do campo Preço é igual, a ordenação ocorre seguindo o valor do campo Qtd."
      ]
    },
    {
      "cell_type": "code",
      "execution_count": null,
      "metadata": {
        "id": "1UflHeWD0BWj"
      },
      "outputs": [],
      "source": [
        "compras.sort_values(['Preço', 'Qtd'])"
      ]
    },
    {
      "cell_type": "markdown",
      "metadata": {
        "id": "T1Ak5Y5c0BWm"
      },
      "source": [
        "### Lidando com datas\n",
        "\n",
        "Normalmente após ler algum arquivo que contenha algum campo com datas, a data é entendida como uma string (sequência de caracteres). Isso significa que não é possível ordenar de acordo com a data nem fazer um gráfico em que um dos eixos seja a coluna com datas."
      ]
    },
    {
      "cell_type": "markdown",
      "metadata": {
        "id": "8e9WoLDz0BWn"
      },
      "source": [
        "É necessário converter a string para o formato de datas. Isso é feito com o comando *pd.to_datetime*. Por exemplo, para converter a coluna Data para o formato de data, faz-se:"
      ]
    },
    {
      "cell_type": "code",
      "execution_count": null,
      "metadata": {
        "id": "gMpP4R5C0BWn"
      },
      "outputs": [],
      "source": [
        "compras['Data'] = pd.to_datetime(compras['Data'], format = '%d/%m/%Y')\n",
        "compras"
      ]
    },
    {
      "cell_type": "markdown",
      "metadata": {
        "id": "Nzg68DIf0BWn"
      },
      "source": [
        "Dentro do comando *to_datetime*, na opção dada pela palavra-chave *format* deve estar contido o formato em que a data está escrita. O %d significa dia, %m, significa mês e %Y significa ano com quatro dígitos (se fosse ano com 2 dígitos seria %y)."
      ]
    },
    {
      "cell_type": "markdown",
      "metadata": {
        "id": "NoyJYlmQ0BWn"
      },
      "source": [
        "Agora é possível ordenar de acordo com a Data."
      ]
    },
    {
      "cell_type": "code",
      "execution_count": null,
      "metadata": {
        "id": "9YpC6dSH0BWn"
      },
      "outputs": [],
      "source": [
        "compras = compras.sort_values(['Data', 'Preço'])\n",
        "compras"
      ]
    },
    {
      "cell_type": "markdown",
      "metadata": {
        "id": "YSc--rcV0BWn"
      },
      "source": [
        "Agora que o Pandas entende que o dado contido no campo 'Data' é uma data você pode extrair informações como o dia ou o mês.\n",
        "\n",
        "Por exemplo, para extrair a informação do ano de cada uma das datas, basta:"
      ]
    },
    {
      "cell_type": "code",
      "execution_count": null,
      "metadata": {
        "id": "AMwsHOYf0BWn"
      },
      "outputs": [],
      "source": [
        "print(compras['Data'].dt.year)"
      ]
    },
    {
      "cell_type": "markdown",
      "metadata": {
        "id": "OueKTmMW0BWo"
      },
      "source": [
        "De forma similar, para extrair a informação do dia e do mês:"
      ]
    },
    {
      "cell_type": "code",
      "execution_count": null,
      "metadata": {
        "id": "uqCPRE6W0BWo"
      },
      "outputs": [],
      "source": [
        "print(compras['Data'].dt.day)\n",
        "print(compras['Data'].dt.month)"
      ]
    },
    {
      "cell_type": "markdown",
      "metadata": {
        "id": "rohe1viS0BWo"
      },
      "source": [
        "### Contando valores iguais\n",
        "\n",
        "É possível contar quantas vezes os valores de um campo específico aparecem. Isso é feito com o comando *value_counts*."
      ]
    },
    {
      "cell_type": "code",
      "execution_count": null,
      "metadata": {
        "id": "om99xtnX0BWo"
      },
      "outputs": [],
      "source": [
        "compras['Produto'].value_counts()\n"
      ]
    },
    {
      "cell_type": "markdown",
      "metadata": {
        "id": "FQF9Tnki0BWo"
      },
      "source": [
        "### Criando uma nova coluna\n",
        "\n",
        "É possível criar novas colunas em um DataFrame. Por exemplo, para criar uma nova coluna 'Preço/Un', e atribuir valores iguais aos valores contidos em Preço divididos pelos valores contidos em Qtd, deve-se digitar a seguinte instrução:"
      ]
    },
    {
      "cell_type": "code",
      "execution_count": null,
      "metadata": {
        "id": "PNY2ysrC0BWo"
      },
      "outputs": [],
      "source": [
        "compras['Preço/Un'] = compras['Preço']/compras['Qtd']\n",
        "compras"
      ]
    },
    {
      "cell_type": "markdown",
      "metadata": {
        "id": "qjixdfcA0BWo"
      },
      "source": [
        "Cuidado: se a coluna já existir, os valores já existentes serão sobrepostos pelos novos."
      ]
    },
    {
      "cell_type": "markdown",
      "metadata": {
        "id": "WVyyOzvD0BWo"
      },
      "source": [
        "### Selecionando um valor de uma coluna\n",
        "\n",
        "Adicionando '.at' após ter selecionado a coluna e colocando entre colchetes o valor do índice da linha correspondente (o valor em negrito, na primeira coluna do DataFrame):"
      ]
    },
    {
      "cell_type": "markdown",
      "metadata": {
        "id": "DIb26Q7w0BWp"
      },
      "source": [
        "Então, para selecionar o valor da coluna 'Preço' da linha cujo índice é 4, fazemos:"
      ]
    },
    {
      "cell_type": "code",
      "execution_count": null,
      "metadata": {
        "id": "oXBEkOXW0BWp"
      },
      "outputs": [],
      "source": [
        "print(compras['Preço'].at[4])"
      ]
    },
    {
      "cell_type": "markdown",
      "metadata": {
        "id": "VzKS-qv90BWp"
      },
      "source": [
        "### Mostrando o começo ou o fim de uma tabela\n",
        "\n",
        "Com o comando '.head()' acrescentado após o nome do DataFrame é mostrado o começo da tabela."
      ]
    },
    {
      "cell_type": "code",
      "execution_count": null,
      "metadata": {
        "id": "tf7bS3aI0BWp"
      },
      "outputs": [],
      "source": [
        "compras.head()"
      ]
    },
    {
      "cell_type": "markdown",
      "metadata": {
        "id": "M_X3hkjp0BWp"
      },
      "source": [
        "Por default (padrão), o número de linhas mostradas é cinco. Se você quiser outro número, é só especificar o número entre os parênteses. Por exemplo, para mostrar as primeiras três linhas:"
      ]
    },
    {
      "cell_type": "code",
      "execution_count": null,
      "metadata": {
        "id": "IxQj0GEW0BWp"
      },
      "outputs": [],
      "source": [
        "compras.head(3)"
      ]
    },
    {
      "cell_type": "markdown",
      "metadata": {
        "id": "rzbUMBeg0BWp"
      },
      "source": [
        "Com o comando '.tail()' acrescentado após o nome do DataFrame é mostrado o fim da tabela."
      ]
    },
    {
      "cell_type": "code",
      "execution_count": null,
      "metadata": {
        "id": "dmebV6BR0BWq"
      },
      "outputs": [],
      "source": [
        "compras.tail()"
      ]
    },
    {
      "cell_type": "markdown",
      "metadata": {
        "id": "bJ9GD_th0BWq"
      },
      "source": [
        "Por default (padrão), o número de linhas mostradas é cinco. Se você quiser outro número, é só especificar o número entre os parênteses. Por exemplo, para mostrar as duas últimas linhas:"
      ]
    },
    {
      "cell_type": "code",
      "execution_count": null,
      "metadata": {
        "id": "l7qXgSlp0BWq"
      },
      "outputs": [],
      "source": [
        "compras.tail(2)"
      ]
    },
    {
      "cell_type": "markdown",
      "metadata": {
        "id": "i7-kwZ790BWq"
      },
      "source": [
        "### Contando os itens de uma tabela do Pandas\n",
        "\n",
        "Existem diversas maneiras de saber quantos itens existem em um DataFrame do Pandas.\n",
        "\n",
        "A primeira é com o comando 'len()' (na verdade o comando len serve para qualquer tipo de variável do Python que tenha diversos elementos, como um vetor do Numpy):"
      ]
    },
    {
      "cell_type": "code",
      "execution_count": null,
      "metadata": {
        "id": "Jz97kTQG0BWq"
      },
      "outputs": [],
      "source": [
        "print(len(compras))"
      ]
    },
    {
      "cell_type": "markdown",
      "metadata": {
        "id": "gzp-TopR0BWq"
      },
      "source": [
        "Uma outra maneira é acrescentando '.shape'. Ele vai retornar um conjunto com dois valores: o número de linhas e o número de colunas."
      ]
    },
    {
      "cell_type": "code",
      "execution_count": null,
      "metadata": {
        "id": "arOp6vql0BWq"
      },
      "outputs": [],
      "source": [
        "forma = compras.shape\n",
        "print(forma)"
      ]
    },
    {
      "cell_type": "markdown",
      "metadata": {
        "id": "OEAo5yaq0BWq"
      },
      "source": [
        "O comando '.shape' retorna esse conjunto com dois elementos (técnicamente conhecida como tupla). Portanto, para saber o número de linhas basta pegar o primeiro dos elementos (índice 0). Para saber o número de colunas, basta pegar o segundo elemento (índice 1)."
      ]
    },
    {
      "cell_type": "code",
      "execution_count": null,
      "metadata": {
        "id": "1XqnZm3e0BWr"
      },
      "outputs": [],
      "source": [
        "linhas = forma[0]\n",
        "colunas = forma[1]\n",
        "print('O número de linhas é', linhas)\n",
        "print('O número de colunas é', colunas)"
      ]
    },
    {
      "cell_type": "markdown",
      "metadata": {
        "id": "j1Kr1vUN0BWr",
        "tags": []
      },
      "source": [
        "### Tipos de dados\n",
        "\n",
        "Toda a base de dados deve reservar uma especial atenção para a escolha dos tipos de valores armazenados (tipos de dados).\n",
        "\n",
        "A escolha correta dos tipos de dados permite elevar o nível de qualidade da base:\n",
        "\n",
        "- Controlar possíveis erros de cadastramento de valores.\n",
        "- Previne inconsistências. Por exemplo:\n",
        "    + evita o armazenamento de letras em locais destinados a valores numéricos;\n",
        "    + evita datas escritas de forma incorreta."
      ]
    },
    {
      "cell_type": "markdown",
      "metadata": {
        "id": "inPVQGvz0BWr",
        "tags": []
      },
      "source": [
        "### Visualizando os tipos de cada campo\n",
        "\n",
        "Para visualizar o tipo de dado de cada um dos campos de um DataFrame do Pandas basta acrescentar '.info()' após o nome da variável que armazena o DataFrame."
      ]
    },
    {
      "cell_type": "code",
      "execution_count": null,
      "metadata": {
        "id": "6zj22l260BWr"
      },
      "outputs": [],
      "source": [
        "print(compras.info())"
      ]
    },
    {
      "cell_type": "markdown",
      "metadata": {
        "id": "KJhyuV_m0BWr"
      },
      "source": [
        "No Pandas, *object* significa que o dado é uma string (sequência de caracteres), *int64* o dado é inteiro, float64 o dado é ponto flutuante (número real) e datetime64 significa que o dado é uma data."
      ]
    },
    {
      "cell_type": "markdown",
      "metadata": {
        "id": "ciJ8C6Sf0BWr",
        "tags": []
      },
      "source": [
        "### Agrupamento\n",
        "\n",
        "Podemos querer agrupar o dado de acordo com alguma categoria e fazer alguma medida (por exemplo soma ou média). Para isso existe a função groupby('colunaParaAgrupar')['colunaParaMostrar'].operação()."
      ]
    },
    {
      "cell_type": "markdown",
      "metadata": {
        "id": "PLj44JhT0BWr",
        "tags": []
      },
      "source": [
        "Por exemplo, para agrupar pela coluna Produto, mostrar a coluna Preço e somar os valores dessa coluna dentro de cada grupo:"
      ]
    },
    {
      "cell_type": "code",
      "execution_count": null,
      "metadata": {
        "id": "HAi93XH70BWr"
      },
      "outputs": [],
      "source": [
        "compras.groupby('Produto')['Preço'].sum()"
      ]
    },
    {
      "cell_type": "markdown",
      "metadata": {
        "id": "dP4dCLb40BWs",
        "tags": []
      },
      "source": [
        "Para agrupar pela coluna Supermercado e contar quantos produtos tem em cada supermercado:"
      ]
    },
    {
      "cell_type": "code",
      "execution_count": null,
      "metadata": {
        "id": "YBYtaHCi0BWs",
        "tags": []
      },
      "outputs": [],
      "source": [
        "compras.groupby('Supermercado')['Produto'].count()"
      ]
    },
    {
      "cell_type": "markdown",
      "metadata": {
        "id": "lQe8rdUE0BWs",
        "tags": []
      },
      "source": [
        "#### As funções possíveis de se usar com o comando groupby() são:\n",
        "\n",
        "- **mean()** - calcula média\n",
        "- **sum()** - calcula a soma\n",
        "- **size()** - calcula o tamanho de cada grupo\n",
        "- **count()** - calcula quantos elementos cada grupo tem\n",
        "- **std()** - calcula o desvio padrão\n",
        "- **var()** - calcula a variância\n",
        "- **sem()** - calcula o erro padrão da média\n",
        "- **describe()** - exibe várias estatísticas descritivas para cada grupo\n",
        "- **first()** - computa o primeiro valor de  cada grupo\n",
        "- **last()** - computa o último valor de cada grupo  \n",
        "- **nth()** - computa o enésimo valor de cada grupo  \n",
        "- **min()** - computa o valor mínimo de cada grupo  \n",
        "- **max()** - computa o valor máximo de cada grupo"
      ]
    },
    {
      "cell_type": "markdown",
      "metadata": {
        "id": "xbNhJPP00BWs"
      },
      "source": [
        "### Tarefa (para agora)\n",
        "\n",
        "- Escrever um notebook do Colab para fazer o que pedido a seguir.\n",
        "\n",
        "- Colocar o seu nome na primeira célula do Notebook.\n",
        "\n",
        "- O notebook deve estar com texto explicando o Notebook.\n",
        "\n",
        "- Todos os resultados devem ser mostrados ao executar o notebook.\n",
        "\n",
        "- Coloque no seu repositório do Github o arquivo '.ipynb' contendo o notebook feito por você com o nome \"Tarefa9SeuNome.ipynb\".\n",
        "\n",
        "- **1)** Para este item você deverá usar o arquivo com a [porcentagem da população brasileira que é analfabeta, dividida por unidade da federação, de 1981 a 2014 (analfabetismo.csv, encontrado na pasta aula5/dados)](https://raw.githubusercontent.com/BMClab/BasesComputacionais/master/dados/analfabetismo.csv) (dados disponibilizados por Ipeadata).\n",
        "\n",
        "   + Faça um gráfico da taxa de analfabetismo em São Paulo em função do tempo (anos).\n"
      ]
    },
    {
      "cell_type": "markdown",
      "metadata": {
        "id": "SbBoEqfQ0BWs"
      },
      "source": [
        "### Tarefa (para antes da próxima aula)\n",
        "\n",
        "- Escrever um notebook do Colab para fazer o que pedido a seguir.\n",
        "\n",
        "- Colocar o seu nome na primeira célula do Notebook.\n",
        "\n",
        "- O notebook deve estar com texto explicando o Notebook.\n",
        "\n",
        "- Todos os resultados devem ser mostrados ao executar o notebook.\n",
        "\n",
        "- Não se esqueça de indicar o significado de cada eixo, colocando a unidade da abscissa e da ordenada nos gráficos.\n",
        "\n",
        "- Coloque no seu repositório do Github o arquivo '.ipynb' contendo o  notebook feito por você com o nome \"Tarefa10SeuNome.py\"."
      ]
    },
    {
      "cell_type": "markdown",
      "metadata": {
        "id": "-ciTR2AM0BWs"
      },
      "source": [
        "**1)** Para este item você deverá usar o arquivo [com todos os resultados do campeonato Brasileiro de futebol de 2018 (tabelaBrasileirao2018.csv encontrado na pasta aula5/dados)](https://raw.githubusercontent.com/BMClab/BasesComputacionais/master/dados/tabelaBrasileirao2018.csv) (dados obtidos [desta](<https://pt.wikipedia.org/wiki/Resultados_do_Campeonato_Brasileiro_de_Futebol_de_2018_-_S%C3%A9rie_A_(primeiro_turno)>) e [desta](<https://pt.wikipedia.org/wiki/Resultados_do_Campeonato_Brasileiro_de_Futebol_de_2018_-_S%C3%A9rie_A_(segundo_turno)>) página da Wikipedia).\n",
        "\n",
        "- Calcule (e mostre o resultado) a porcentagem de jogos que o time da casa (mandante) ganhou o jogo.\n",
        "\n",
        "- Calcule (e mostre o resultado) a porcentagem de jogos que o time da casa (mandante) não perdeu o jogo.\n",
        "\n",
        "Como o nome da coluna tem espaço em branco, ao usar o query,  colocar o nome da coluna entre ``."
      ]
    },
    {
      "cell_type": "markdown",
      "metadata": {
        "id": "uUhmEzvh0BWs"
      },
      "source": [
        "**2)**  Para este item você deverá usar o arquivo com a [taxa de inflação mensal (IGP-DI) no Brasil de fevereiro de 1944 a junho de 2019](https://raw.githubusercontent.com/BMClab/BasesComputacionais/master/dados/inflacaoMensal.csv) (dados disponibilizados por Ipeadata).\n",
        "\n",
        "- Faça um gráfico da taxa de inflação mensal em função do tempo.\n",
        "- Mostre em que mês e ano e qual foi a maior taxa de inflação mensal medida neste período (fevereiro de 1944 a junho de 2019).\n",
        "\n",
        "Dica: para fazer o gráfico, note que um mês corresponde a um doze avos de ano. Para facilitar a criação do gráfico você pode criar uma outra coluna que corresponda ao ano adicionado da fração correspondente ao mês."
      ]
    },
    {
      "cell_type": "markdown",
      "metadata": {
        "id": "JHDxCEhq0BWs"
      },
      "source": [
        "**3)** Para este item você pode usar [esse histórico de visualização do Netflix](https://raw.githubusercontent.com/BMClab/BasesComputacionais/master/dados/netflix.csv) ou, se você tiver acesso ao Netflix, usar o seu [histórico](https://www.netflix.com/viewingactivity) (após entrar com a sua senha, role até o final da página e clique em \"Baixar tudo\").\n",
        "\n",
        "   + Mostre quais são os 10 programas mais vistos.\n",
        "   + Em qual mês do ano foi assistido mais programas?\n",
        "    \n",
        "Sugestão: No seu notebook, depois do comando para carregar o arquivo, coloque a seguinte sequência de instruções:\n",
        "\n",
        "```python\n",
        "data['Categoria'] = 'Filme'  \n",
        "data['Categoria'][data['Title'].str.contains(\": Temporada|: Stranger|: Parte\")] = 'Série'  \n",
        "data['Programa'] = data['Title']  \n",
        "data[['Programa','Episódio']] = data[data['Categoria']=='Série']['Title'].str.split(pat = ': Temporada|: Stranger Things|: Parte', expand = True, n = 1)   \n",
        "data.loc[data['Categoria']=='Filme', 'Programa'] = data.loc[data['Categoria']=='Filme', 'Title']  \n",
        "data = data.drop(columns = 'Title')  \n",
        "```\n",
        "A sequência de instruções acima cria uma coluna com o tipo do programa (Filme/Série), uma coluna com o nome do programa e uma outra coluna com o nome do episódio (no caso de ser uma série). Isso facilitará realizar a tarefa.\n",
        "\n",
        "Na sequência acima, *data* é o nome da variável na qual foi guardado o DataFrame com a informação vinda do arquivo de histórico. Se você der outro nome, mude o nome da variável no código acima.\n",
        "\n",
        "Pode ser que o seu arquivo esteja em português. Nesse caso, o campo 'Title' terá o nome 'Título' e você deverá alterar o código acima substituindo 'Title' por 'Título'."
      ]
    },
    {
      "cell_type": "markdown",
      "metadata": {
        "id": "ns7cYUC70BWt",
        "tags": []
      },
      "source": [
        "**4)** Para este item você deverá usar o arquivo [com todos os resultados do campeonato Brasileiro de futebol de 2018 (tabelaBrasileirao2018.csv encontrado na pasta aula5/dados)](https://raw.githubusercontent.com/BMClab/BasesComputacionais/master/dados/tabelaBrasileirao2018.csv) (dados obtidos [desta](<https://pt.wikipedia.org/wiki/Resultados_do_Campeonato_Brasileiro_de_Futebol_de_2018_-_S%C3%A9rie_A_(primeiro_turno)>) e [desta](<https://pt.wikipedia.org/wiki/Resultados_do_Campeonato_Brasileiro_de_Futebol_de_2018_-_S%C3%A9rie_A_(segundo_turno)>) página da Wikipedia).\n",
        "\n",
        "- Calcule qual foi a média de Renda para cada Estádio.\n"
      ]
    },
    {
      "cell_type": "markdown",
      "metadata": {
        "id": "oKwJLxXJ0BWt"
      },
      "source": [
        "### Referências\n",
        "\n",
        "- Chalco, JM, *Slides de Bases Computacionais da Ciência*, (2014)\n",
        "- Leite, S, *Slides de Bases Computacionais da Ciência*, (2018)\n",
        "- [Marietto, MGB et al.; **Bases computacionais da Ciência** (2013)](http://prograd.ufabc.edu.br/images/pdf/bases_computacionais_livro.pdf).\n",
        "- [Pandas documentation](https://pandas.pydata.org/pandas-docs/stable/)\n",
        "- [Ipeadata](http://www.ipeadata.gov.br)\n",
        "- [Wikipedia](https://pt.wikipedia.org/wiki/Wikip%C3%A9dia:P%C3%A1gina_principal)"
      ]
    }
  ],
  "metadata": {
    "colab": {
      "provenance": []
    },
    "kernelspec": {
      "display_name": "Python 3 (ipykernel)",
      "language": "python",
      "name": "python3"
    },
    "language_info": {
      "codemirror_mode": {
        "name": "ipython",
        "version": 3
      },
      "file_extension": ".py",
      "mimetype": "text/x-python",
      "name": "python",
      "nbconvert_exporter": "python",
      "pygments_lexer": "ipython3",
      "version": "3.10.13"
    },
    "latex_envs": {
      "LaTeX_envs_menu_present": true,
      "autoclose": false,
      "autocomplete": true,
      "bibliofile": "biblio.bib",
      "cite_by": "apalike",
      "current_citInitial": 1,
      "eqLabelWithNumbers": true,
      "eqNumInitial": 1,
      "hotkeys": {
        "equation": "Ctrl-E",
        "itemize": "Ctrl-I"
      },
      "labels_anchors": false,
      "latex_user_defs": false,
      "report_style_numbering": false,
      "user_envs_cfg": false
    },
    "livereveal": {
      "autolaunch": true
    },
    "nbTranslate": {
      "displayLangs": [
        "*"
      ],
      "hotkey": "alt-t",
      "langInMainMenu": true,
      "sourceLang": "en",
      "targetLang": "fr",
      "useGoogleTranslate": true
    },
    "toc": {
      "base_numbering": 1,
      "nav_menu": {},
      "number_sections": true,
      "sideBar": true,
      "skip_h1_title": true,
      "title_cell": "Contents",
      "title_sidebar": "Contents",
      "toc_cell": true,
      "toc_position": {},
      "toc_section_display": true,
      "toc_window_display": false
    },
    "varInspector": {
      "cols": {
        "lenName": 16,
        "lenType": 16,
        "lenVar": 40
      },
      "kernels_config": {
        "python": {
          "delete_cmd_postfix": "",
          "delete_cmd_prefix": "del ",
          "library": "var_list.py",
          "varRefreshCmd": "print(var_dic_list())"
        },
        "r": {
          "delete_cmd_postfix": ") ",
          "delete_cmd_prefix": "rm(",
          "library": "var_list.r",
          "varRefreshCmd": "cat(var_dic_list()) "
        }
      },
      "types_to_exclude": [
        "module",
        "function",
        "builtin_function_or_method",
        "instance",
        "_Feature"
      ],
      "window_display": false
    }
  },
  "nbformat": 4,
  "nbformat_minor": 0
}
