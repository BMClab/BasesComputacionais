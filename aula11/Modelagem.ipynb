{
  "cells": [
    {
      "cell_type": "markdown",
      "metadata": {
        "id": "xngGlTau3r7O"
      },
      "source": [
        "# Exemplos de Modelagem Computacional\n",
        "\n",
        "Renato Naville Watanabe"
      ]
    },
    {
      "cell_type": "markdown",
      "metadata": {
        "id": "qNPKfg7H3r7V"
      },
      "source": [
        "### Motivação\n",
        "\n",
        "A Modelagem e Simulação Computacional está cada vez mais presente em diversas áreas.\n",
        "Permitem estudar sistemas reais de maneira aproximada, através modelos matemáticos que os representam.\n",
        "\n",
        "Tais modelos são implementados em simulações computacionais, que são executadas visando obter um melhor entendimento do sistema real."
      ]
    },
    {
      "cell_type": "markdown",
      "metadata": {
        "id": "VbPh2qfM3r7W"
      },
      "source": [
        "Desta forma, a Modelagem e Simulação Computacional configuram-se como uma poderosa ferramenta para:\n",
        "\n",
        "- Observar comportamentos;\n",
        "- Testar teorias e hipóteses;\n",
        "- Predizer comportamentos e ações futuras;"
      ]
    },
    {
      "cell_type": "markdown",
      "metadata": {
        "id": "dKWZXcCZ3r7X"
      },
      "source": [
        "### Sistema\n",
        "\n",
        "Um sistema é uma combinação de componentes agindo em conjunto para realizar um objetivo específico.\n",
        "\n",
        "Não é limitado aos fenômenos físicos. O conceito de um sistema pode ser estendido a fenômenos abstratos, tais como aqueles encontrados em economia, transporte, crescimento populacional e biologia."
      ]
    },
    {
      "cell_type": "markdown",
      "metadata": {
        "id": "UrF-R8fv3r7X"
      },
      "source": [
        "### Formas de se estudar um sistema\n",
        "\n",
        "Há algumas formas de se estudar um sistema:\n",
        "    \n",
        "- Experimentos com o Sistema Real.\n",
        "- Experimentos com Modelos Físicos.\n",
        "- Experimentos com Modelos Matemáticos."
      ]
    },
    {
      "cell_type": "markdown",
      "metadata": {
        "id": "ekBda6RO3r7Y"
      },
      "source": [
        "### Experimentos com o Sistema Real\n",
        "\n",
        "Podem ser empregados quando é possível trabalhar diretamente com o sistema real, atuando em seus elementos e/ou alterando sua configuração.\n",
        "\n",
        "Como exemplo tem-se um experimento real de teste de impacto (ou crash-test).\n",
        "<table><tr>\n",
        "<td>    <img src=\"https://github.com/BMClab/BasesComputacionais/blob/master/aula11/figuras/crash2.jpg?raw=1\" width=\"400\" /></td>\n",
        "</tr></table>\n"
      ]
    },
    {
      "cell_type": "markdown",
      "metadata": {
        "id": "hsuMIszx3r7Z"
      },
      "source": [
        "Tratar diretamente com o sistema real pode não ser possível:\n",
        "O experimento pode ser muito caro ou perigoso. Por exemplo, analisar pessoas em uma situação de incêndio.\n",
        "\n",
        "<table><tr>\n",
        "<td>    <img src=\"https://github.com/BMClab/BasesComputacionais/blob/master/aula11/figuras/fogo.png?raw=1\" width=\"400\" /></td>\n",
        "</tr></table>\n"
      ]
    },
    {
      "cell_type": "markdown",
      "metadata": {
        "id": "TFHWVdNC3r7a"
      },
      "source": [
        "Pode ser impossível tratar diretamente com sistemas reais.\n",
        "\n",
        "Exemplo: a análise dos buracos negros, ou situações onde não há evidências da existência do sistema.\n",
        "\n",
        "<table><tr>\n",
        "<td>    <img src=\"https://github.com/BMClab/BasesComputacionais/blob/master/aula11/figuras/black_hole.jpg?raw=1\" width=\"400\" /></td>\n",
        "</tr></table>\n"
      ]
    },
    {
      "cell_type": "markdown",
      "metadata": {
        "id": "1fGtjY4V3r7b"
      },
      "source": [
        "Em muitas situações é necessário construir um modelo que represente parcialmente o sistema e realizar experimento com este modelo.\n",
        "\n",
        "Desta forma, é possível estudar o sistema real de maneira indireta, deixando-o inalterado.\n",
        "\n",
        "Um **modelo** é uma representação parcial de um objeto, sistema ou ideia."
      ]
    },
    {
      "cell_type": "markdown",
      "metadata": {
        "id": "SqZCZpeu3r7b"
      },
      "source": [
        "### Modelos físicos\n",
        "\n",
        "Os modelos físicos consideram: experimentos com objetos reais\n",
        "tais objetos atuam como representações parciais do sistema que se\n",
        "deseja estudar\n",
        "\n",
        "Como exemplo: mapas, maquetes e modelos animais.\n",
        "    \n",
        "<table><tr>\n",
        "<td>    <img src=\"https://github.com/BMClab/BasesComputacionais/blob/master/aula11/figuras/model.jpg?raw=1\" width=\"300\" /></td>\n",
        "<td>    <img src=\"https://github.com/BMClab/BasesComputacionais/blob/master/aula11/figuras/plane_model.jpg?raw=1\" width=\"300\" /></td>\n",
        "<td>    <img src=\"https://github.com/BMClab/BasesComputacionais/blob/master/aula11/figuras/animal.jpg?raw=1\" width=\"300\" /></td>\n",
        "</tr></table>"
      ]
    },
    {
      "cell_type": "markdown",
      "metadata": {
        "id": "63SBqyvE3r7c"
      },
      "source": [
        "### Modelo matemático\n",
        "\n",
        "Modelos matemáticos usam símbolos em lugar de dispositivos físicos, procurando representar  as principais características e comportamentos do sistema alvo que se deseja analisar.\n",
        "\n",
        "Há duas formas de solução de modelos matemáticos:\n",
        "\n",
        "- Solução analítica;\n",
        "- **Solução numérica (via simulação computacional).**"
      ]
    },
    {
      "cell_type": "markdown",
      "metadata": {
        "id": "4EegHdbT3r7f"
      },
      "source": [
        "### Exemplo: Monte Carlo\n",
        "\n",
        "Iremos ilustrar simulação computacional com o \"Método de Monte Carlo\" para estimar o\n",
        "valor de $\\pi$.\n",
        "\n",
        "O Método de Monte Carlo foi primeiro usado por Metropolis, Von Neumann, e Ulam em 1940,\n",
        "durante o projeto Manhattan (bomba atômica).\n",
        "\n",
        "Consiste na geração de números aleatórios para calcular propriedades de interesse."
      ]
    },
    {
      "cell_type": "markdown",
      "source": [
        "#### Geração de números aleatórios\n",
        "\n",
        "A geração de números aleatórios em um computador se baseia em geradores de números pseudo-aleatórios. Esses geradores não geram números realmente aleatórios, mas geram números que tem propriedades que se aproximam muito de números realmente aleatórios (vindos de uma roleta, por exemplo). Para mais informações de como esses geradores de números pseudo-aleatórios, veja, por exemplo [o apêndice B do livro de Morettin e Singer (2021)](https://www.ime.usp.br/~pam/cdadosf3.pdf). A biblioteca Numpy tem geradores de números pseudo-aleatórios já implementados. Para utilizar esses geradores, deve-se usar a seguinte linha."
      ],
      "metadata": {
        "id": "an1rcDc2Jro9"
      }
    },
    {
      "cell_type": "code",
      "source": [
        "import numpy as np\n",
        "rng = np.random.default_rng()"
      ],
      "metadata": {
        "id": "Hx-O5-B5YrIO"
      },
      "execution_count": 1,
      "outputs": []
    },
    {
      "cell_type": "markdown",
      "source": [
        "A variavel `rng` é um conjunto de geradores de números pseudo-aleatórios. Aqui, iremos utilizar um gerador com distribuição uniforme dos números gerados. Esse gerador produz números entre 0 e 1 com igual probabilidade para qualquer número nesse intervalo. Por exemplo, para gerar 10 números com essa distribuição, executar a linha abaixo (cada vez que a linha for executada, serão gherados números diferentes):"
      ],
      "metadata": {
        "id": "wJszGrXmY0EZ"
      }
    },
    {
      "cell_type": "code",
      "source": [
        "x = rng.uniform(size=10)\n",
        "x"
      ],
      "metadata": {
        "id": "IhevJVjKdaIT",
        "outputId": "c46f0932-9951-410a-ba61-e78eb96c0669",
        "colab": {
          "base_uri": "https://localhost:8080/"
        }
      },
      "execution_count": 3,
      "outputs": [
        {
          "output_type": "execute_result",
          "data": {
            "text/plain": [
              "array([0.21076654, 0.35782479, 0.32931675, 0.60052511, 0.3022012 ,\n",
              "       0.56498488, 0.11479967, 0.81243315, 0.43243288, 0.64427921])"
            ]
          },
          "metadata": {},
          "execution_count": 3
        }
      ]
    },
    {
      "cell_type": "markdown",
      "source": [
        "Para ver que os números gerados têm de fato uma distriubuição uniforme, pdemos utilizar um histograma. Abaixo um histograma com 10000 números gerados:"
      ],
      "metadata": {
        "id": "u65vzrbsdmZY"
      }
    },
    {
      "cell_type": "code",
      "source": [
        "import matplotlib.pyplot as plt\n",
        "x = rng.uniform(size=10000)\n",
        "plt.hist(x)"
      ],
      "metadata": {
        "id": "l6ExWQMUdzCq",
        "outputId": "7987ea66-33b4-4fe3-df49-e7a6d1bb6cac",
        "colab": {
          "base_uri": "https://localhost:8080/",
          "height": 540
        }
      },
      "execution_count": 7,
      "outputs": [
        {
          "output_type": "execute_result",
          "data": {
            "text/plain": [
              "(array([1042.,  967.,  986.,  962., 1005., 1047.,  991., 1024.,  988.,\n",
              "         988.]),\n",
              " array([6.87709753e-05, 1.00054572e-01, 2.00040374e-01, 3.00026175e-01,\n",
              "        4.00011976e-01, 4.99997777e-01, 5.99983579e-01, 6.99969380e-01,\n",
              "        7.99955181e-01, 8.99940982e-01, 9.99926784e-01]),\n",
              " <BarContainer object of 10 artists>)"
            ]
          },
          "metadata": {},
          "execution_count": 7
        },
        {
          "output_type": "display_data",
          "data": {
            "text/plain": [
              "<Figure size 640x480 with 1 Axes>"
            ],
            "image/png": "[encoded data removed]"
          },
          "metadata": {}
        }
      ]
    },
    {
      "cell_type": "markdown",
      "source": [
        "Note que todas as barras do histograma têm aproximadamente os mesmos valores, conforme esperado na distribuição uniforme."
      ],
      "metadata": {
        "id": "cQnpjQ83eC1l"
      }
    },
    {
      "cell_type": "markdown",
      "metadata": {
        "id": "_N4uiWB53r7f"
      },
      "source": [
        "#### Estimativa do valor de $\\pi$\n",
        "\n",
        "Considere um quadrado com um circulo circunscrito:\n",
        "\n",
        "![circ](https://github.com/BMClab/BasesComputacionais/blob/master/aula11/figuras/circulo.png?raw=1)\n",
        "\n",
        "Sabe-se que:\n",
        "\n",
        "- **Área do quadrado**:\n",
        "$$A_Q = l^2 = (2r)^2 = 4r^2$$\n",
        "\n",
        "- **Área do círculo**:\n",
        "\n",
        "$$A_C = \\pi r^2$$\n",
        "\n",
        "Desta forma, temos:\n",
        "\n",
        "$$\\frac{A_C}{A_Q} = \\frac{\\pi r^2}{4r^2} \\rightarrow \\pi = 4\\frac{A_C}{A_Q} $$"
      ]
    },
    {
      "cell_type": "markdown",
      "metadata": {
        "id": "sdaZlGvI3r7f"
      },
      "source": [
        "O método de Monte Carlo é utilizado para estimar a relação entre as áreas da circunferência e do quadrado. Ou seja, para estimar:\n",
        "\n",
        "$$\\frac{A_C}{A_Q}$$\n",
        "\n",
        "Para tornar os cálculos mais simples, assume-se que o quadrado tenha um lado de tamanho $l = 1$. Assim, o raio da circunferência é $r = \\frac{1}{2}$."
      ]
    },
    {
      "cell_type": "markdown",
      "metadata": {
        "id": "aYCplZPX3r7g"
      },
      "source": [
        "Utilizando um computador sorteamos aleatoriamente alguns pares de números aleatórios no intervalo [0, 1].\n",
        "\n",
        "Cada par de números representará as coordenadas x e y de um ponto que pertence à área do quadrado.\n",
        "\n",
        "\n",
        "\n",
        "Podemos estimar a proporção entre as áreas do círculo e do quadrado contando quantos pontos caem sobre cada uma das figuras.\n",
        "\n",
        "$$\\frac{A_C}{A_Q} \\approx \\frac{\\text{número de pontos dentro do círculo}}{\\text{total de pontos}}$$\n",
        "\n",
        "\n",
        "<table><tr>\n",
        "<td>   <img src=\"https://github.com/BMClab/BasesComputacionais/blob/master/aula11/figuras/circ3.png?raw=1\" width=\"400\" /></td>\n",
        "</tr></table>\n",
        "\n"
      ]
    },
    {
      "cell_type": "markdown",
      "metadata": {
        "id": "Ppr7V3uw3r7g"
      },
      "source": [
        "Dadas as coordenadas $(x, y)$ de um ponto A qualquer, oriundas de um sorteio aleatório, podemos saber se o ponto está dentro ou fora do círculo, calculando a distância Euclideana entre A e o centro do círculo C (com coordenadas $x_C = 0.5$ e $y_C = 0.5$).\n",
        "\n",
        "![dist](https://github.com/BMClab/BasesComputacionais/blob/master/aula11/figuras/circ4.png?raw=1)\n",
        "\n",
        "$$d = \\sqrt{\\Delta x^2 + \\Delta y^2} = \\sqrt{(x_C-x_A)^2 + (y_C-y_A)^2}$$\n",
        "\n",
        "\n",
        "\n",
        "Se a distância $d$ for menor ou igual a $r$, o ponto está dentro do círculo."
      ]
    },
    {
      "cell_type": "markdown",
      "metadata": {
        "id": "ttC8JS4P3r7l"
      },
      "source": [
        "### Referências\n",
        "\n",
        "- Chalco, JM, *Slides de Bases Computacionais da Ciência*, (2014)\n",
        "- Leite, S, *Slides de Bases Computacionais da Ciência*, (2018)\n",
        "- [Marietto, MGB et al.; **Bases computacionais da Ciência** (2013)](http://prograd.ufabc.edu.br/images/pdf/bases_computacionais_livro.pdf).\n",
        "- Ogata, K; *Dynamical systems* (2014)\n",
        "- Morettin e Singer, Estatística Básica (2023)"
      ]
    },
    {
      "cell_type": "markdown",
      "source": [
        "## Apêndice\n",
        "\n",
        "###  Código para produção do gráfico de pontos do círculo"
      ],
      "metadata": {
        "id": "70dQpoev3wm7"
      }
    },
    {
      "cell_type": "code",
      "source": [
        "import numpy as np\n",
        "import matplotlib.pyplot as plt\n",
        "rng = np.random.default_rng()\n",
        "N = 1000\n",
        "x = rng.uniform(size=N)\n",
        "y = rng.uniform(size=N)\n",
        "d = np.sqrt((x-0.5)**2+(y-0.5)**2)\n",
        "plt.figure(figsize=(4,4))\n",
        "plt.plot(x, y, '.')\n",
        "plt.plot(x[d<0.5], y[d<0.5], color='red',\n",
        "         marker='.',\n",
        "         linestyle='')\n",
        "theta = np.arange(0, 2*np.pi, 0.01)\n",
        "r = 0.5\n",
        "xcirc = r*np.cos(theta)+0.5\n",
        "ycirc = r*np.sin(theta)+0.5\n",
        "plt.plot(xcirc, ycirc, color='black',\n",
        "         linestyle='-')\n",
        "plt.xlim(0,1)\n",
        "plt.ylim(0,1)\n",
        "plt.show()"
      ],
      "metadata": {
        "id": "SUCZqPgn32u_",
        "outputId": "3768a550-1600-4e46-f7e6-a0c5b0828ee7",
        "colab": {
          "base_uri": "https://localhost:8080/",
          "height": 374
        }
      },
      "execution_count": 11,
      "outputs": [
        {
          "output_type": "display_data",
          "data": {
            "text/plain": [
              "<Figure size 400x400 with 1 Axes>"
            ],
            "image/png": "[encoded data removed]"
          },
          "metadata": {}
        }
      ]
    },
    {
      "cell_type": "code",
      "source": [],
      "metadata": {
        "id": "Hd-uB8Gd33p3"
      },
      "execution_count": null,
      "outputs": []
    }
  ],
  "metadata": {
    "kernelspec": {
      "display_name": "Python 3 (ipykernel)",
      "language": "python",
      "name": "python3"
    },
    "language_info": {
      "codemirror_mode": {
        "name": "ipython",
        "version": 3
      },
      "file_extension": ".py",
      "mimetype": "text/x-python",
      "name": "python",
      "nbconvert_exporter": "python",
      "pygments_lexer": "ipython3",
      "version": "3.9.15"
    },
    "latex_envs": {
      "LaTeX_envs_menu_present": true,
      "autoclose": false,
      "autocomplete": true,
      "bibliofile": "biblio.bib",
      "cite_by": "apalike",
      "current_citInitial": 1,
      "eqLabelWithNumbers": true,
      "eqNumInitial": 1,
      "hotkeys": {
        "equation": "Ctrl-E",
        "itemize": "Ctrl-I"
      },
      "labels_anchors": false,
      "latex_user_defs": false,
      "report_style_numbering": false,
      "user_envs_cfg": false
    },
    "livereveal": {
      "autolaunch": true
    },
    "nbTranslate": {
      "displayLangs": [
        "*"
      ],
      "hotkey": "alt-t",
      "langInMainMenu": true,
      "sourceLang": "en",
      "targetLang": "fr",
      "useGoogleTranslate": true
    },
    "toc": {
      "base_numbering": 1,
      "nav_menu": {},
      "number_sections": true,
      "sideBar": true,
      "skip_h1_title": true,
      "title_cell": "Contents",
      "title_sidebar": "Contents",
      "toc_cell": true,
      "toc_position": {},
      "toc_section_display": true,
      "toc_window_display": false
    },
    "varInspector": {
      "cols": {
        "lenName": 16,
        "lenType": 16,
        "lenVar": 40
      },
      "kernels_config": {
        "python": {
          "delete_cmd_postfix": "",
          "delete_cmd_prefix": "del ",
          "library": "var_list.py",
          "varRefreshCmd": "print(var_dic_list())"
        },
        "r": {
          "delete_cmd_postfix": ") ",
          "delete_cmd_prefix": "rm(",
          "library": "var_list.r",
          "varRefreshCmd": "cat(var_dic_list()) "
        }
      },
      "types_to_exclude": [
        "module",
        "function",
        "builtin_function_or_method",
        "instance",
        "_Feature"
      ],
      "window_display": false
    },
    "colab": {
      "provenance": []
    }
  },
  "nbformat": 4,
  "nbformat_minor": 0
}