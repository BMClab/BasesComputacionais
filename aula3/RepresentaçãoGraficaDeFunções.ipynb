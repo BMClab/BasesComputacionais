{
 "cells": [
  {
   "cell_type": "markdown",
   "metadata": {
    "slideshow": {
     "slide_type": "slide"
    }
   },
   "source": [
    "# Representação gráfica de funções\n",
    "\n",
    "Renato Naville Watanabe"
   ]
  },
  {
   "cell_type": "markdown",
   "metadata": {
    "slideshow": {
     "slide_type": "slide"
    }
   },
   "source": [
    "## Modelando fenômenos\n",
    "\n",
    "- Em diferentes áreas da Ciência busca-se modelar fenômenos por médio de funções matemáticas a fim de reproduzir os comportamentos observados na natureza.\n",
    "\n",
    "- Dado um modelo, muitas vezes, temos a necessidade de visualizar o comportamento do mesmo.\n",
    "\n",
    "- Gráficos de funções auxiliam o entendimento dos  fenômenos.\n",
    "\n",
    "![lorentz](https://upload.wikimedia.org/wikipedia/commons/e/ef/Lorenz_Ro28-200px.png)"
   ]
  },
  {
   "cell_type": "markdown",
   "metadata": {
    "slideshow": {
     "slide_type": "slide"
    }
   },
   "source": [
    "O uso de funções decorre da necessidade de:\n",
    "\n",
    "- Analisar fenômenos, visualizando o comportamento de um sistema.\n",
    "\n",
    "- Interpretar interdependências, entendendo como uma variável comporta-se com relação à outra.\n",
    "\n",
    "- Encontrar soluções de problemas.\n",
    "\n",
    "- Descrever regularidades.\n",
    "\n",
    "- Generalizar."
   ]
  },
  {
   "cell_type": "markdown",
   "metadata": {
    "slideshow": {
     "slide_type": "slide"
    }
   },
   "source": [
    "## Vetores\n",
    "\n",
    "Com o Numpy você pode criar vetores. \n",
    "Com o comando 'np.array' você cria vetores digitando cada elemento pertencente ao vetor:"
   ]
  },
  {
   "cell_type": "code",
   "execution_count": 2,
   "metadata": {
    "slideshow": {
     "slide_type": "fragment"
    }
   },
   "outputs": [
    {
     "data": {
      "text/plain": [
       "array([1, 2, 3, 4, 5])"
      ]
     },
     "execution_count": 2,
     "metadata": {},
     "output_type": "execute_result"
    }
   ],
   "source": [
    "import numpy as np\n",
    "x = np.array([1,2,3,4,5])\n",
    "x"
   ]
  },
  {
   "cell_type": "markdown",
   "metadata": {
    "slideshow": {
     "slide_type": "fragment"
    }
   },
   "source": [
    "Com o comando 'np.arange', você cria vetores especificando os limites e o intervalo entre os elementos. Por exemplo, para criar um vetor que vai de 0 a 12 com intervalo entre os elementos de 0,2, deve-se digitar:"
   ]
  },
  {
   "cell_type": "code",
   "execution_count": 3,
   "metadata": {
    "slideshow": {
     "slide_type": "fragment"
    }
   },
   "outputs": [
    {
     "data": {
      "text/plain": [
       "array([ 0. ,  0.2,  0.4,  0.6,  0.8,  1. ,  1.2,  1.4,  1.6,  1.8,  2. ,\n",
       "        2.2,  2.4,  2.6,  2.8,  3. ,  3.2,  3.4,  3.6,  3.8,  4. ,  4.2,\n",
       "        4.4,  4.6,  4.8,  5. ,  5.2,  5.4,  5.6,  5.8,  6. ,  6.2,  6.4,\n",
       "        6.6,  6.8,  7. ,  7.2,  7.4,  7.6,  7.8,  8. ,  8.2,  8.4,  8.6,\n",
       "        8.8,  9. ,  9.2,  9.4,  9.6,  9.8, 10. , 10.2, 10.4, 10.6, 10.8,\n",
       "       11. , 11.2, 11.4, 11.6, 11.8])"
      ]
     },
     "execution_count": 3,
     "metadata": {},
     "output_type": "execute_result"
    }
   ],
   "source": [
    "y = np.arange(0, 12, 0.2)\n",
    "y"
   ]
  },
  {
   "cell_type": "markdown",
   "metadata": {
    "slideshow": {
     "slide_type": "fragment"
    }
   },
   "source": [
    "Com o comando 'np.linspace', você cria vetores especificando os limites e o número de elementos. Por exemplo, para criar um vetor que vai de 0 a 11 com 130 elementos, deve-se digitar:"
   ]
  },
  {
   "cell_type": "code",
   "execution_count": 4,
   "metadata": {
    "scrolled": false,
    "slideshow": {
     "slide_type": "fragment"
    }
   },
   "outputs": [
    {
     "data": {
      "text/plain": [
       "array([ 0.        ,  0.08527132,  0.17054264,  0.25581395,  0.34108527,\n",
       "        0.42635659,  0.51162791,  0.59689922,  0.68217054,  0.76744186,\n",
       "        0.85271318,  0.9379845 ,  1.02325581,  1.10852713,  1.19379845,\n",
       "        1.27906977,  1.36434109,  1.4496124 ,  1.53488372,  1.62015504,\n",
       "        1.70542636,  1.79069767,  1.87596899,  1.96124031,  2.04651163,\n",
       "        2.13178295,  2.21705426,  2.30232558,  2.3875969 ,  2.47286822,\n",
       "        2.55813953,  2.64341085,  2.72868217,  2.81395349,  2.89922481,\n",
       "        2.98449612,  3.06976744,  3.15503876,  3.24031008,  3.3255814 ,\n",
       "        3.41085271,  3.49612403,  3.58139535,  3.66666667,  3.75193798,\n",
       "        3.8372093 ,  3.92248062,  4.00775194,  4.09302326,  4.17829457,\n",
       "        4.26356589,  4.34883721,  4.43410853,  4.51937984,  4.60465116,\n",
       "        4.68992248,  4.7751938 ,  4.86046512,  4.94573643,  5.03100775,\n",
       "        5.11627907,  5.20155039,  5.28682171,  5.37209302,  5.45736434,\n",
       "        5.54263566,  5.62790698,  5.71317829,  5.79844961,  5.88372093,\n",
       "        5.96899225,  6.05426357,  6.13953488,  6.2248062 ,  6.31007752,\n",
       "        6.39534884,  6.48062016,  6.56589147,  6.65116279,  6.73643411,\n",
       "        6.82170543,  6.90697674,  6.99224806,  7.07751938,  7.1627907 ,\n",
       "        7.24806202,  7.33333333,  7.41860465,  7.50387597,  7.58914729,\n",
       "        7.6744186 ,  7.75968992,  7.84496124,  7.93023256,  8.01550388,\n",
       "        8.10077519,  8.18604651,  8.27131783,  8.35658915,  8.44186047,\n",
       "        8.52713178,  8.6124031 ,  8.69767442,  8.78294574,  8.86821705,\n",
       "        8.95348837,  9.03875969,  9.12403101,  9.20930233,  9.29457364,\n",
       "        9.37984496,  9.46511628,  9.5503876 ,  9.63565891,  9.72093023,\n",
       "        9.80620155,  9.89147287,  9.97674419, 10.0620155 , 10.14728682,\n",
       "       10.23255814, 10.31782946, 10.40310078, 10.48837209, 10.57364341,\n",
       "       10.65891473, 10.74418605, 10.82945736, 10.91472868, 11.        ])"
      ]
     },
     "execution_count": 4,
     "metadata": {},
     "output_type": "execute_result"
    }
   ],
   "source": [
    "z = np.linspace(0, 11, 130)\n",
    "z"
   ]
  },
  {
   "cell_type": "markdown",
   "metadata": {
    "slideshow": {
     "slide_type": "fragment"
    }
   },
   "source": [
    "Para saber qual o tamanho de um vetor, use o comando 'len'."
   ]
  },
  {
   "cell_type": "code",
   "execution_count": 5,
   "metadata": {
    "slideshow": {
     "slide_type": "fragment"
    }
   },
   "outputs": [
    {
     "data": {
      "text/plain": [
       "130"
      ]
     },
     "execution_count": 5,
     "metadata": {},
     "output_type": "execute_result"
    }
   ],
   "source": [
    "len(z)"
   ]
  },
  {
   "cell_type": "markdown",
   "metadata": {
    "slideshow": {
     "slide_type": "slide"
    }
   },
   "source": [
    "## Funções matemáticas\n",
    "\n",
    "As funções na biblioteca Numpy também se aplicam a vetores. Neste caso, a função é aplicada a cada um dos elementos do vetor e tem como resultado um vetor do mesmo tamanho do vetor original.\n"
   ]
  },
  {
   "cell_type": "markdown",
   "metadata": {
    "slideshow": {
     "slide_type": "fragment"
    }
   },
   "source": [
    "**Potência**\n"
   ]
  },
  {
   "cell_type": "code",
   "execution_count": 13,
   "metadata": {
    "slideshow": {
     "slide_type": "fragment"
    }
   },
   "outputs": [
    {
     "data": {
      "text/plain": [
       "array([ 1,  4,  9, 16, 25])"
      ]
     },
     "execution_count": 13,
     "metadata": {},
     "output_type": "execute_result"
    }
   ],
   "source": [
    "x**2"
   ]
  },
  {
   "cell_type": "markdown",
   "metadata": {
    "slideshow": {
     "slide_type": "fragment"
    }
   },
   "source": [
    "**Exponencial**: exp($x$)=$e^x$ em que $e=2,7182...$ "
   ]
  },
  {
   "cell_type": "code",
   "execution_count": 10,
   "metadata": {
    "slideshow": {
     "slide_type": "fragment"
    }
   },
   "outputs": [
    {
     "data": {
      "text/plain": [
       "array([  2.71828183,   7.3890561 ,  20.08553692,  54.59815003,\n",
       "       148.4131591 ])"
      ]
     },
     "execution_count": 10,
     "metadata": {},
     "output_type": "execute_result"
    }
   ],
   "source": [
    "np.exp(x)"
   ]
  },
  {
   "cell_type": "markdown",
   "metadata": {
    "slideshow": {
     "slide_type": "fragment"
    }
   },
   "source": [
    "**Raiz quadrada**"
   ]
  },
  {
   "cell_type": "code",
   "execution_count": 11,
   "metadata": {
    "slideshow": {
     "slide_type": "fragment"
    }
   },
   "outputs": [
    {
     "data": {
      "text/plain": [
       "array([1.        , 1.41421356, 1.73205081, 2.        , 2.23606798])"
      ]
     },
     "execution_count": 11,
     "metadata": {},
     "output_type": "execute_result"
    }
   ],
   "source": [
    "s = np.sqrt(x)\n",
    "s"
   ]
  },
  {
   "cell_type": "markdown",
   "metadata": {
    "slideshow": {
     "slide_type": "fragment"
    }
   },
   "source": [
    "**Funções trigonométricas**\n",
    "\n",
    "Em todas as funções trigonométricas, o ângulo deve estar em radianos."
   ]
  },
  {
   "cell_type": "code",
   "execution_count": 12,
   "metadata": {
    "slideshow": {
     "slide_type": "fragment"
    }
   },
   "outputs": [
    {
     "name": "stdout",
     "output_type": "stream",
     "text": [
      "[ 0.84147098  0.90929743  0.14112001 -0.7568025  -0.95892427]\n",
      "[ 0.54030231 -0.41614684 -0.9899925  -0.65364362  0.28366219]\n"
     ]
    }
   ],
   "source": [
    "d = np.sin(x)\n",
    "g = np.cos(x)\n",
    "print(d)\n",
    "print(g)"
   ]
  },
  {
   "cell_type": "markdown",
   "metadata": {
    "slideshow": {
     "slide_type": "slide"
    }
   },
   "source": [
    "## Gráfico de funções\n",
    "\n",
    "Para fazer um gráfico no Python, deve-se importar a biblioteca matplotlib:"
   ]
  },
  {
   "cell_type": "code",
   "execution_count": 6,
   "metadata": {
    "slideshow": {
     "slide_type": "fragment"
    }
   },
   "outputs": [],
   "source": [
    "import matplotlib.pyplot as plt"
   ]
  },
  {
   "cell_type": "markdown",
   "metadata": {
    "slideshow": {
     "slide_type": "fragment"
    }
   },
   "source": [
    "Vamos considerar a função $y = x^2$.  Todas as operações vistas anteriormente se aplicam a vetores. Os comandos operam em cada elemento do vetor e retornam um vetor do mesmo tamanho do vetor no qual a operação foi aplicada."
   ]
  },
  {
   "cell_type": "code",
   "execution_count": 7,
   "metadata": {
    "slideshow": {
     "slide_type": "fragment"
    }
   },
   "outputs": [],
   "source": [
    "y = x**2"
   ]
  },
  {
   "cell_type": "markdown",
   "metadata": {
    "slideshow": {
     "slide_type": "fragment"
    }
   },
   "source": [
    "Para fazer o gráfico, utilizamos a sequência de comandos plt.figure(), plt.plot e plt.show().\n",
    "\n",
    "Na chamada do comando plt.plot, deve ser colocado entre os parênteses o vetor contendo os dados da abscissa e depois o vetor contendo os dados da ordenada."
   ]
  },
  {
   "cell_type": "code",
   "execution_count": 8,
   "metadata": {
    "slideshow": {
     "slide_type": "fragment"
    }
   },
   "outputs": [
    {
     "data": {
      "image/png": "[encoded data removed]",
      "text/plain": [
       "<Figure size 432x288 with 1 Axes>"
      ]
     },
     "metadata": {
      "needs_background": "light"
     },
     "output_type": "display_data"
    }
   ],
   "source": [
    "plt.figure()\n",
    "plt.plot(x, y)\n",
    "plt.show()"
   ]
  },
  {
   "cell_type": "markdown",
   "metadata": {
    "slideshow": {
     "slide_type": "fragment"
    }
   },
   "source": [
    "É possível também controlar a aparência do gráfico. Por exemplo, para "
   ]
  },
  {
   "cell_type": "code",
   "execution_count": 9,
   "metadata": {
    "slideshow": {
     "slide_type": "fragment"
    }
   },
   "outputs": [
    {
     "data": {
      "image/png": "[encoded data removed]",
      "text/plain": [
       "<Figure size 432x288 with 1 Axes>"
      ]
     },
     "metadata": {
      "needs_background": "light"
     },
     "output_type": "display_data"
    }
   ],
   "source": [
    "plt.figure()\n",
    "plt.plot(x, y, 'd-', color='crimson')\n",
    "plt.show()"
   ]
  },
  {
   "cell_type": "markdown",
   "metadata": {
    "slideshow": {
     "slide_type": "slide"
    }
   },
   "source": [
    "## Tarefa (para agora)\n",
    "\n"
   ]
  },
  {
   "cell_type": "markdown",
   "metadata": {
    "slideshow": {
     "slide_type": "slide"
    }
   },
   "source": [
    "## Tarefa (para antes da próxima aula)\n",
    "\n",
    "- Escrever um script de Python e executá-lo no Spyder para calcular as expressões abaixo.\n",
    "\n",
    "\n",
    "- **1)** Uma bola é lançada ao ar. Suponha que sua altura $h(t)$, em metros, t segundos após o lançamento, seja $h(t) = −t^2 + 4t + 6$. Faça o gráfico da altura em função do tempo, e, tendo como base este gráfico,\n",
    "determine (aproximadamente):\n",
    "    \n",
    "    a) A altura máxima atingida pela bola;\n",
    "    \n",
    "    b) Quantos segundos depois do lançamento ela toca o solo.\n",
    "    \n",
    "O intervalo do gráfico será de −1 até 5 com incremento de 0.1.\n",
    "\n",
    "- **2)** "
   ]
  },
  {
   "cell_type": "markdown",
   "metadata": {
    "slideshow": {
     "slide_type": "slide"
    }
   },
   "source": [
    "## Referências\n",
    "\n",
    "- Chalco, JM, *Slides de Bases Computacionais da Ciência*, (2014)\n",
    "- Leite, S, *Slides de Bases Computacionais da Ciência*, (2018)\n",
    "- [Marietto, MGB et al.; **Bases computacionais da Ciência** (2013)](http://prograd.ufabc.edu.br/images/pdf/bases_computacionais_livro.pdf).\n",
    "- [Duarte, M, *Python para computação científica* (2017)](https://nbviewer.jupyter.org/github/BMClab/bmc/blob/master/notebooks/PT-BR/PythonForScientificComputing_PT-BR.ipynb)\n",
    "- [Matplotlib Gallery](https://matplotlib.org/3.1.0/gallery/index.html)"
   ]
  },
  {
   "cell_type": "code",
   "execution_count": null,
   "metadata": {},
   "outputs": [],
   "source": []
  }
 ],
 "metadata": {
  "celltoolbar": "Slideshow",
  "kernelspec": {
   "display_name": "Python 3",
   "language": "python",
   "name": "python3"
  },
  "language_info": {
   "codemirror_mode": {
    "name": "ipython",
    "version": 3
   },
   "file_extension": ".py",
   "mimetype": "text/x-python",
   "name": "python",
   "nbconvert_exporter": "python",
   "pygments_lexer": "ipython3",
   "version": "3.6.8"
  },
  "nbTranslate": {
   "displayLangs": [
    "*"
   ],
   "hotkey": "alt-t",
   "langInMainMenu": true,
   "sourceLang": "en",
   "targetLang": "fr",
   "useGoogleTranslate": true
  }
 },
 "nbformat": 4,
 "nbformat_minor": 2
}
