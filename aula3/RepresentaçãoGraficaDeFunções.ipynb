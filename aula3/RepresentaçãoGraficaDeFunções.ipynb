{
  "cells": [
    {
      "cell_type": "markdown",
      "metadata": {
        "id": "5RKNrLi4uCzr"
      },
      "source": [
        "# Representação gráfica de funções matemáticas\n",
        "\n",
        "Renato Naville Watanabe"
      ]
    },
    {
      "cell_type": "markdown",
      "source": [
        "## Preparação do ambiente"
      ],
      "metadata": {
        "id": "BZdB_-m2vz3z"
      }
    },
    {
      "cell_type": "code",
      "source": [
        "def increase_font(): # importante ao dar aula. aumenta o tamanho da fonte\n",
        "  from IPython.display import Javascript\n",
        "  display(Javascript('''\n",
        "  for (rule of document.styleSheets[0].cssRules){\n",
        "    if (rule.selectorText=='body') {\n",
        "      rule.style.fontSize = '36px'\n",
        "      break\n",
        "    }\n",
        "  }\n",
        "  '''))\n",
        "get_ipython().events.register('pre_run_cell', increase_font)"
      ],
      "metadata": {
        "id": "hp15suLLvwnh",
        "outputId": "d3b406b2-a22e-416c-80af-e97261df1d7d",
        "colab": {
          "base_uri": "https://localhost:8080/",
          "height": 17
        }
      },
      "execution_count": null,
      "outputs": [
        {
          "output_type": "display_data",
          "data": {
            "text/plain": [
              "<IPython.core.display.Javascript object>"
            ],
            "application/javascript": [
              "\n",
              "  for (rule of document.styleSheets[0].cssRules){\n",
              "    if (rule.selectorText=='body') {\n",
              "      rule.style.fontSize = '36px'\n",
              "      break\n",
              "    }\n",
              "  }\n",
              "  "
            ]
          },
          "metadata": {}
        }
      ]
    },
    {
      "cell_type": "markdown",
      "metadata": {
        "id": "vdqqnDdZuCzw"
      },
      "source": [
        "## Modelando fenômenos\n",
        "\n",
        "- Em diferentes áreas da Ciência busca-se modelar fenômenos por meio de funções matemáticas para reproduzir os comportamentos observados na natureza.\n",
        "\n",
        "- Dado um modelo, muitas vezes, temos a necessidade de visualizar o comportamento do mesmo.\n",
        "\n",
        "- Gráficos de funções auxiliam o entendimento dos fenômenos.\n",
        "\n",
        "![covid](https://imgs.xkcd.com/comics/coronavirus_charts.png)"
      ]
    },
    {
      "cell_type": "markdown",
      "metadata": {
        "id": "Uj8Ka8HQuCzw"
      },
      "source": [
        "O uso de funções decorre da necessidade de:\n",
        "\n",
        "- Analisar fenômenos, visualizando o comportamento de um sistema.\n",
        "\n",
        "- Interpretar interdependências, entendendo como uma variável comporta-se com relação à outra.\n",
        "\n",
        "- Encontrar soluções de problemas.\n",
        "\n",
        "- Descrever regularidades.\n",
        "\n",
        "- Generalizar."
      ]
    },
    {
      "cell_type": "markdown",
      "metadata": {
        "id": "ZeAYg-druCzx"
      },
      "source": [
        "## Vetores\n",
        "\n",
        "Com o Numpy você pode criar vetores.\n",
        "Com o comando 'np.array' você cria vetores (entenda vetor como uma lista de números) digitando cada elemento pertencente ao vetor, separado por vírgula entre os elementos:"
      ]
    },
    {
      "cell_type": "code",
      "execution_count": null,
      "metadata": {
        "id": "T9aRuRdauCzy",
        "outputId": "e0e00d79-f4c8-45c4-db4b-74291480d595",
        "colab": {
          "base_uri": "https://localhost:8080/",
          "height": 62
        }
      },
      "outputs": [
        {
          "output_type": "display_data",
          "data": {
            "text/plain": [
              "<IPython.core.display.Javascript object>"
            ],
            "application/javascript": [
              "\n",
              "  for (rule of document.styleSheets[0].cssRules){\n",
              "    if (rule.selectorText=='body') {\n",
              "      rule.style.fontSize = '36px'\n",
              "      break\n",
              "    }\n",
              "  }\n",
              "  "
            ]
          },
          "metadata": {}
        },
        {
          "output_type": "display_data",
          "data": {
            "text/plain": [
              "<IPython.core.display.Javascript object>"
            ],
            "application/javascript": [
              "\n",
              "  for (rule of document.styleSheets[0].cssRules){\n",
              "    if (rule.selectorText=='body') {\n",
              "      rule.style.fontSize = '36px'\n",
              "      break\n",
              "    }\n",
              "  }\n",
              "  "
            ]
          },
          "metadata": {}
        },
        {
          "output_type": "execute_result",
          "data": {
            "text/plain": [
              "array([1, 2, 3, 4, 5])"
            ]
          },
          "metadata": {},
          "execution_count": 4
        }
      ],
      "source": [
        "import numpy as np\n",
        "x = np.array([1, 2, 3, 4, 5])\n",
        "x"
      ]
    },
    {
      "cell_type": "markdown",
      "metadata": {
        "id": "aSjiEStCuCzz"
      },
      "source": [
        "Com o comando 'np.arange', você cria vetores especificando os limites e o intervalo entre os elementos. Por exemplo, para criar um vetor que vai de 0 a 12 com intervalo entre os elementos de 0,2, deve-se digitar:"
      ]
    },
    {
      "cell_type": "code",
      "execution_count": null,
      "metadata": {
        "id": "0qJLvzvFuCz0",
        "outputId": "cb9fa753-82f1-4163-e6b1-2776964db7fe",
        "colab": {
          "base_uri": "https://localhost:8080/",
          "height": 285
        }
      },
      "outputs": [
        {
          "output_type": "display_data",
          "data": {
            "text/plain": [
              "<IPython.core.display.Javascript object>"
            ],
            "application/javascript": [
              "\n",
              "  for (rule of document.styleSheets[0].cssRules){\n",
              "    if (rule.selectorText=='body') {\n",
              "      rule.style.fontSize = '36px'\n",
              "      break\n",
              "    }\n",
              "  }\n",
              "  "
            ]
          },
          "metadata": {}
        },
        {
          "output_type": "display_data",
          "data": {
            "text/plain": [
              "<IPython.core.display.Javascript object>"
            ],
            "application/javascript": [
              "\n",
              "  for (rule of document.styleSheets[0].cssRules){\n",
              "    if (rule.selectorText=='body') {\n",
              "      rule.style.fontSize = '36px'\n",
              "      break\n",
              "    }\n",
              "  }\n",
              "  "
            ]
          },
          "metadata": {}
        },
        {
          "output_type": "execute_result",
          "data": {
            "text/plain": [
              "array([ 0. ,  0.2,  0.4,  0.6,  0.8,  1. ,  1.2,  1.4,  1.6,  1.8,  2. ,\n",
              "        2.2,  2.4,  2.6,  2.8,  3. ,  3.2,  3.4,  3.6,  3.8,  4. ,  4.2,\n",
              "        4.4,  4.6,  4.8,  5. ,  5.2,  5.4,  5.6,  5.8,  6. ,  6.2,  6.4,\n",
              "        6.6,  6.8,  7. ,  7.2,  7.4,  7.6,  7.8,  8. ,  8.2,  8.4,  8.6,\n",
              "        8.8,  9. ,  9.2,  9.4,  9.6,  9.8, 10. , 10.2, 10.4, 10.6, 10.8,\n",
              "       11. , 11.2, 11.4, 11.6, 11.8])"
            ]
          },
          "metadata": {},
          "execution_count": 5
        }
      ],
      "source": [
        "y = np.arange(0, 12, 0.2)\n",
        "y"
      ]
    },
    {
      "cell_type": "markdown",
      "metadata": {
        "id": "Yj8LiZzkuCz1"
      },
      "source": [
        "Com o comando 'np.linspace', você cria vetores especificando os limites e o número de elementos. Por exemplo, para criar um vetor que vai de 0 a 11 com 130 elementos, deve-se digitar:"
      ]
    },
    {
      "cell_type": "code",
      "execution_count": null,
      "metadata": {
        "id": "44DnLZnCuCz3",
        "outputId": "0936e262-bdf3-468a-98e2-b00f2c65ba58",
        "colab": {
          "base_uri": "https://localhost:8080/",
          "height": 1000
        }
      },
      "outputs": [
        {
          "output_type": "display_data",
          "data": {
            "text/plain": [
              "<IPython.core.display.Javascript object>"
            ],
            "application/javascript": [
              "\n",
              "  for (rule of document.styleSheets[0].cssRules){\n",
              "    if (rule.selectorText=='body') {\n",
              "      rule.style.fontSize = '36px'\n",
              "      break\n",
              "    }\n",
              "  }\n",
              "  "
            ]
          },
          "metadata": {}
        },
        {
          "output_type": "display_data",
          "data": {
            "text/plain": [
              "<IPython.core.display.Javascript object>"
            ],
            "application/javascript": [
              "\n",
              "  for (rule of document.styleSheets[0].cssRules){\n",
              "    if (rule.selectorText=='body') {\n",
              "      rule.style.fontSize = '36px'\n",
              "      break\n",
              "    }\n",
              "  }\n",
              "  "
            ]
          },
          "metadata": {}
        },
        {
          "output_type": "execute_result",
          "data": {
            "text/plain": [
              "array([ 0.        ,  0.08527132,  0.17054264,  0.25581395,  0.34108527,\n",
              "        0.42635659,  0.51162791,  0.59689922,  0.68217054,  0.76744186,\n",
              "        0.85271318,  0.9379845 ,  1.02325581,  1.10852713,  1.19379845,\n",
              "        1.27906977,  1.36434109,  1.4496124 ,  1.53488372,  1.62015504,\n",
              "        1.70542636,  1.79069767,  1.87596899,  1.96124031,  2.04651163,\n",
              "        2.13178295,  2.21705426,  2.30232558,  2.3875969 ,  2.47286822,\n",
              "        2.55813953,  2.64341085,  2.72868217,  2.81395349,  2.89922481,\n",
              "        2.98449612,  3.06976744,  3.15503876,  3.24031008,  3.3255814 ,\n",
              "        3.41085271,  3.49612403,  3.58139535,  3.66666667,  3.75193798,\n",
              "        3.8372093 ,  3.92248062,  4.00775194,  4.09302326,  4.17829457,\n",
              "        4.26356589,  4.34883721,  4.43410853,  4.51937984,  4.60465116,\n",
              "        4.68992248,  4.7751938 ,  4.86046512,  4.94573643,  5.03100775,\n",
              "        5.11627907,  5.20155039,  5.28682171,  5.37209302,  5.45736434,\n",
              "        5.54263566,  5.62790698,  5.71317829,  5.79844961,  5.88372093,\n",
              "        5.96899225,  6.05426357,  6.13953488,  6.2248062 ,  6.31007752,\n",
              "        6.39534884,  6.48062016,  6.56589147,  6.65116279,  6.73643411,\n",
              "        6.82170543,  6.90697674,  6.99224806,  7.07751938,  7.1627907 ,\n",
              "        7.24806202,  7.33333333,  7.41860465,  7.50387597,  7.58914729,\n",
              "        7.6744186 ,  7.75968992,  7.84496124,  7.93023256,  8.01550388,\n",
              "        8.10077519,  8.18604651,  8.27131783,  8.35658915,  8.44186047,\n",
              "        8.52713178,  8.6124031 ,  8.69767442,  8.78294574,  8.86821705,\n",
              "        8.95348837,  9.03875969,  9.12403101,  9.20930233,  9.29457364,\n",
              "        9.37984496,  9.46511628,  9.5503876 ,  9.63565891,  9.72093023,\n",
              "        9.80620155,  9.89147287,  9.97674419, 10.0620155 , 10.14728682,\n",
              "       10.23255814, 10.31782946, 10.40310078, 10.48837209, 10.57364341,\n",
              "       10.65891473, 10.74418605, 10.82945736, 10.91472868, 11.        ])"
            ]
          },
          "metadata": {},
          "execution_count": 6
        }
      ],
      "source": [
        "z = np.linspace(0, 11, 130)\n",
        "z"
      ]
    },
    {
      "cell_type": "markdown",
      "metadata": {
        "id": "on-RI6gGuCz4"
      },
      "source": [
        "Para saber qual o tamanho de um vetor, use o comando 'len'."
      ]
    },
    {
      "cell_type": "code",
      "execution_count": null,
      "metadata": {
        "id": "2kaC0NR2uCz5",
        "outputId": "7c2178ba-7d65-499c-b5ef-cbf0815cfc43",
        "colab": {
          "base_uri": "https://localhost:8080/",
          "height": 62
        }
      },
      "outputs": [
        {
          "output_type": "display_data",
          "data": {
            "text/plain": [
              "<IPython.core.display.Javascript object>"
            ],
            "application/javascript": [
              "\n",
              "  for (rule of document.styleSheets[0].cssRules){\n",
              "    if (rule.selectorText=='body') {\n",
              "      rule.style.fontSize = '36px'\n",
              "      break\n",
              "    }\n",
              "  }\n",
              "  "
            ]
          },
          "metadata": {}
        },
        {
          "output_type": "display_data",
          "data": {
            "text/plain": [
              "<IPython.core.display.Javascript object>"
            ],
            "application/javascript": [
              "\n",
              "  for (rule of document.styleSheets[0].cssRules){\n",
              "    if (rule.selectorText=='body') {\n",
              "      rule.style.fontSize = '36px'\n",
              "      break\n",
              "    }\n",
              "  }\n",
              "  "
            ]
          },
          "metadata": {}
        },
        {
          "output_type": "execute_result",
          "data": {
            "text/plain": [
              "130"
            ]
          },
          "metadata": {},
          "execution_count": 7
        }
      ],
      "source": [
        "len(z)"
      ]
    },
    {
      "cell_type": "markdown",
      "metadata": {
        "id": "vNm0140wuCz5"
      },
      "source": [
        "## Funções matemáticas\n",
        "\n",
        "As funções na biblioteca Numpy também se aplicam a vetores. Neste caso, a função é aplicada a cada um dos elementos do vetor e tem como resultado um vetor do mesmo tamanho do vetor original.\n"
      ]
    },
    {
      "cell_type": "markdown",
      "metadata": {
        "id": "cNwqYuZbuCz6"
      },
      "source": [
        "**Potência**\n"
      ]
    },
    {
      "cell_type": "code",
      "execution_count": null,
      "metadata": {
        "id": "RmM6w4iWuCz6",
        "outputId": "142e4451-4749-4410-f531-5c8c713a8358",
        "colab": {
          "base_uri": "https://localhost:8080/",
          "height": 106
        }
      },
      "outputs": [
        {
          "output_type": "display_data",
          "data": {
            "text/plain": [
              "<IPython.core.display.Javascript object>"
            ],
            "application/javascript": [
              "\n",
              "  for (rule of document.styleSheets[0].cssRules){\n",
              "    if (rule.selectorText=='body') {\n",
              "      rule.style.fontSize = '36px'\n",
              "      break\n",
              "    }\n",
              "  }\n",
              "  "
            ]
          },
          "metadata": {}
        },
        {
          "output_type": "display_data",
          "data": {
            "text/plain": [
              "<IPython.core.display.Javascript object>"
            ],
            "application/javascript": [
              "\n",
              "  for (rule of document.styleSheets[0].cssRules){\n",
              "    if (rule.selectorText=='body') {\n",
              "      rule.style.fontSize = '36px'\n",
              "      break\n",
              "    }\n",
              "  }\n",
              "  "
            ]
          },
          "metadata": {}
        },
        {
          "output_type": "stream",
          "name": "stdout",
          "text": [
            "[1 2 3 4 5]\n"
          ]
        },
        {
          "output_type": "execute_result",
          "data": {
            "text/plain": [
              "array([ 1,  4,  9, 16, 25])"
            ]
          },
          "metadata": {},
          "execution_count": 8
        }
      ],
      "source": [
        "print(x)\n",
        "x**2"
      ]
    },
    {
      "cell_type": "markdown",
      "metadata": {
        "id": "MhoSX-7uuCz6"
      },
      "source": [
        "**Exponencial**: exp($x$)=$e^x$ em que $e=2,7182...$"
      ]
    },
    {
      "cell_type": "code",
      "execution_count": null,
      "metadata": {
        "id": "0XyxmhGDuCz7",
        "outputId": "3514abbc-d415-4883-cac7-fa105dbe1845",
        "colab": {
          "base_uri": "https://localhost:8080/",
          "height": 106
        }
      },
      "outputs": [
        {
          "output_type": "display_data",
          "data": {
            "text/plain": [
              "<IPython.core.display.Javascript object>"
            ],
            "application/javascript": [
              "\n",
              "  for (rule of document.styleSheets[0].cssRules){\n",
              "    if (rule.selectorText=='body') {\n",
              "      rule.style.fontSize = '36px'\n",
              "      break\n",
              "    }\n",
              "  }\n",
              "  "
            ]
          },
          "metadata": {}
        },
        {
          "output_type": "display_data",
          "data": {
            "text/plain": [
              "<IPython.core.display.Javascript object>"
            ],
            "application/javascript": [
              "\n",
              "  for (rule of document.styleSheets[0].cssRules){\n",
              "    if (rule.selectorText=='body') {\n",
              "      rule.style.fontSize = '36px'\n",
              "      break\n",
              "    }\n",
              "  }\n",
              "  "
            ]
          },
          "metadata": {}
        },
        {
          "output_type": "execute_result",
          "data": {
            "text/plain": [
              "array([  2.71828183,   7.3890561 ,  20.08553692,  54.59815003,\n",
              "       148.4131591 ])"
            ]
          },
          "metadata": {},
          "execution_count": 9
        }
      ],
      "source": [
        "np.exp(x)"
      ]
    },
    {
      "cell_type": "markdown",
      "metadata": {
        "id": "3QlqAo4DuCz7"
      },
      "source": [
        "**Raiz quadrada**"
      ]
    },
    {
      "cell_type": "code",
      "execution_count": null,
      "metadata": {
        "id": "gIX_r2ECuCz7",
        "outputId": "e7b758dd-efc5-4383-a1d2-b2930ca670e3",
        "colab": {
          "base_uri": "https://localhost:8080/",
          "height": 62
        }
      },
      "outputs": [
        {
          "output_type": "display_data",
          "data": {
            "text/plain": [
              "<IPython.core.display.Javascript object>"
            ],
            "application/javascript": [
              "\n",
              "  for (rule of document.styleSheets[0].cssRules){\n",
              "    if (rule.selectorText=='body') {\n",
              "      rule.style.fontSize = '36px'\n",
              "      break\n",
              "    }\n",
              "  }\n",
              "  "
            ]
          },
          "metadata": {}
        },
        {
          "output_type": "display_data",
          "data": {
            "text/plain": [
              "<IPython.core.display.Javascript object>"
            ],
            "application/javascript": [
              "\n",
              "  for (rule of document.styleSheets[0].cssRules){\n",
              "    if (rule.selectorText=='body') {\n",
              "      rule.style.fontSize = '36px'\n",
              "      break\n",
              "    }\n",
              "  }\n",
              "  "
            ]
          },
          "metadata": {}
        },
        {
          "output_type": "execute_result",
          "data": {
            "text/plain": [
              "array([1.        , 1.41421356, 1.73205081, 2.        , 2.23606798])"
            ]
          },
          "metadata": {},
          "execution_count": 10
        }
      ],
      "source": [
        "s = np.sqrt(x)\n",
        "s"
      ]
    },
    {
      "cell_type": "markdown",
      "metadata": {
        "id": "ivuJF-s-uCz8"
      },
      "source": [
        "**Funções trigonométricas**\n",
        "\n",
        "Em todas as funções trigonométricas, o ângulo deve estar em radianos."
      ]
    },
    {
      "cell_type": "code",
      "execution_count": null,
      "metadata": {
        "id": "3S_FAVjUuCz8",
        "outputId": "d8bfabad-4cd0-4ac0-9885-a139da5a2775",
        "colab": {
          "base_uri": "https://localhost:8080/",
          "height": 106
        }
      },
      "outputs": [
        {
          "output_type": "display_data",
          "data": {
            "text/plain": [
              "<IPython.core.display.Javascript object>"
            ],
            "application/javascript": [
              "\n",
              "  for (rule of document.styleSheets[0].cssRules){\n",
              "    if (rule.selectorText=='body') {\n",
              "      rule.style.fontSize = '36px'\n",
              "      break\n",
              "    }\n",
              "  }\n",
              "  "
            ]
          },
          "metadata": {}
        },
        {
          "output_type": "display_data",
          "data": {
            "text/plain": [
              "<IPython.core.display.Javascript object>"
            ],
            "application/javascript": [
              "\n",
              "  for (rule of document.styleSheets[0].cssRules){\n",
              "    if (rule.selectorText=='body') {\n",
              "      rule.style.fontSize = '36px'\n",
              "      break\n",
              "    }\n",
              "  }\n",
              "  "
            ]
          },
          "metadata": {}
        },
        {
          "output_type": "stream",
          "name": "stdout",
          "text": [
            "[ 0.84147098  0.90929743  0.14112001 -0.7568025  -0.95892427]\n",
            "[ 0.54030231 -0.41614684 -0.9899925  -0.65364362  0.28366219]\n"
          ]
        }
      ],
      "source": [
        "d = np.sin(x)\n",
        "g = np.cos(x)\n",
        "print(d)\n",
        "print(g)"
      ]
    },
    {
      "cell_type": "markdown",
      "metadata": {
        "id": "zRl_JP5ruCz8"
      },
      "source": [
        "**Conversão entre radianos e graus**\n",
        "\n",
        "Use as funções 'np.rad2deg' e 'np deg2rad' para fazer a conversão entre radianos e graus."
      ]
    },
    {
      "cell_type": "code",
      "execution_count": null,
      "metadata": {
        "id": "cMomXhgNuCz9",
        "outputId": "0a3e78a2-779b-4ff7-88a1-7545044c40ee",
        "colab": {
          "base_uri": "https://localhost:8080/",
          "height": 106
        }
      },
      "outputs": [
        {
          "output_type": "display_data",
          "data": {
            "text/plain": [
              "<IPython.core.display.Javascript object>"
            ],
            "application/javascript": [
              "\n",
              "  for (rule of document.styleSheets[0].cssRules){\n",
              "    if (rule.selectorText=='body') {\n",
              "      rule.style.fontSize = '36px'\n",
              "      break\n",
              "    }\n",
              "  }\n",
              "  "
            ]
          },
          "metadata": {}
        },
        {
          "output_type": "display_data",
          "data": {
            "text/plain": [
              "<IPython.core.display.Javascript object>"
            ],
            "application/javascript": [
              "\n",
              "  for (rule of document.styleSheets[0].cssRules){\n",
              "    if (rule.selectorText=='body') {\n",
              "      rule.style.fontSize = '36px'\n",
              "      break\n",
              "    }\n",
              "  }\n",
              "  "
            ]
          },
          "metadata": {}
        },
        {
          "output_type": "stream",
          "name": "stdout",
          "text": [
            "90.0\n",
            "3.141592653589793\n"
          ]
        }
      ],
      "source": [
        "print(np.rad2deg(np.pi/2))\n",
        "print(np.deg2rad(180))"
      ]
    },
    {
      "cell_type": "markdown",
      "metadata": {
        "id": "_tIIsnUvuCz9"
      },
      "source": [
        "**Valor absoluto**"
      ]
    },
    {
      "cell_type": "code",
      "execution_count": null,
      "metadata": {
        "id": "5z6j30cduCz-",
        "outputId": "31e534d0-a540-4b89-c429-86a33ba5372f",
        "colab": {
          "base_uri": "https://localhost:8080/",
          "height": 106
        }
      },
      "outputs": [
        {
          "output_type": "display_data",
          "data": {
            "text/plain": [
              "<IPython.core.display.Javascript object>"
            ],
            "application/javascript": [
              "\n",
              "  for (rule of document.styleSheets[0].cssRules){\n",
              "    if (rule.selectorText=='body') {\n",
              "      rule.style.fontSize = '36px'\n",
              "      break\n",
              "    }\n",
              "  }\n",
              "  "
            ]
          },
          "metadata": {}
        },
        {
          "output_type": "display_data",
          "data": {
            "text/plain": [
              "<IPython.core.display.Javascript object>"
            ],
            "application/javascript": [
              "\n",
              "  for (rule of document.styleSheets[0].cssRules){\n",
              "    if (rule.selectorText=='body') {\n",
              "      rule.style.fontSize = '36px'\n",
              "      break\n",
              "    }\n",
              "  }\n",
              "  "
            ]
          },
          "metadata": {}
        },
        {
          "output_type": "stream",
          "name": "stdout",
          "text": [
            "[ 0.84147098  0.90929743  0.14112001 -0.7568025  -0.95892427]\n",
            "[0.84147098 0.90929743 0.14112001 0.7568025  0.95892427]\n"
          ]
        }
      ],
      "source": [
        "a = np.abs(d)\n",
        "print(d)\n",
        "print(a)"
      ]
    },
    {
      "cell_type": "markdown",
      "metadata": {
        "id": "6bRlT39juCz-"
      },
      "source": [
        "## Operações entre vetores\n",
        "\n",
        "As operações aritméticas básicas (+, -, /, $*$, %, $**$ ) também podem ser utilizados entre vetores que tenham o mesmo formato. Neste caso, as operações são realizadas entre os elementos que correspondem à mesma posição nos dois vetores."
      ]
    },
    {
      "cell_type": "code",
      "execution_count": null,
      "metadata": {
        "id": "fM5TwpjkuCz-",
        "outputId": "950d5972-848d-48b0-a6ca-1527c77c6b36",
        "colab": {
          "base_uri": "https://localhost:8080/",
          "height": 62
        }
      },
      "outputs": [
        {
          "output_type": "display_data",
          "data": {
            "text/plain": [
              "<IPython.core.display.Javascript object>"
            ],
            "application/javascript": [
              "\n",
              "  for (rule of document.styleSheets[0].cssRules){\n",
              "    if (rule.selectorText=='body') {\n",
              "      rule.style.fontSize = '36px'\n",
              "      break\n",
              "    }\n",
              "  }\n",
              "  "
            ]
          },
          "metadata": {}
        },
        {
          "output_type": "display_data",
          "data": {
            "text/plain": [
              "<IPython.core.display.Javascript object>"
            ],
            "application/javascript": [
              "\n",
              "  for (rule of document.styleSheets[0].cssRules){\n",
              "    if (rule.selectorText=='body') {\n",
              "      rule.style.fontSize = '36px'\n",
              "      break\n",
              "    }\n",
              "  }\n",
              "  "
            ]
          },
          "metadata": {}
        },
        {
          "output_type": "stream",
          "name": "stdout",
          "text": [
            "[ 7  9 11 13 15]\n"
          ]
        }
      ],
      "source": [
        "x = np.array([1, 2, 3, 4, 5])\n",
        "y = np.array([6, 7, 8, 9, 10])\n",
        "\n",
        "z = x + y\n",
        "print(z)"
      ]
    },
    {
      "cell_type": "code",
      "execution_count": null,
      "metadata": {
        "id": "K4NtLavvuCz_",
        "outputId": "a52579f2-069e-496c-fc09-fb29ffe021a1",
        "colab": {
          "base_uri": "https://localhost:8080/",
          "height": 62
        }
      },
      "outputs": [
        {
          "output_type": "display_data",
          "data": {
            "text/plain": [
              "<IPython.core.display.Javascript object>"
            ],
            "application/javascript": [
              "\n",
              "  for (rule of document.styleSheets[0].cssRules){\n",
              "    if (rule.selectorText=='body') {\n",
              "      rule.style.fontSize = '36px'\n",
              "      break\n",
              "    }\n",
              "  }\n",
              "  "
            ]
          },
          "metadata": {}
        },
        {
          "output_type": "display_data",
          "data": {
            "text/plain": [
              "<IPython.core.display.Javascript object>"
            ],
            "application/javascript": [
              "\n",
              "  for (rule of document.styleSheets[0].cssRules){\n",
              "    if (rule.selectorText=='body') {\n",
              "      rule.style.fontSize = '36px'\n",
              "      break\n",
              "    }\n",
              "  }\n",
              "  "
            ]
          },
          "metadata": {}
        },
        {
          "output_type": "stream",
          "name": "stdout",
          "text": [
            "[ 6 14 24 36 50]\n"
          ]
        }
      ],
      "source": [
        "w = x * y\n",
        "print(w)"
      ]
    },
    {
      "cell_type": "code",
      "execution_count": null,
      "metadata": {
        "id": "4Aa8SnxXuCz_",
        "outputId": "3c8e8cee-e9ab-46b1-f5bb-9701d7f45177",
        "colab": {
          "base_uri": "https://localhost:8080/",
          "height": 62
        }
      },
      "outputs": [
        {
          "output_type": "display_data",
          "data": {
            "text/plain": [
              "<IPython.core.display.Javascript object>"
            ],
            "application/javascript": [
              "\n",
              "  for (rule of document.styleSheets[0].cssRules){\n",
              "    if (rule.selectorText=='body') {\n",
              "      rule.style.fontSize = '36px'\n",
              "      break\n",
              "    }\n",
              "  }\n",
              "  "
            ]
          },
          "metadata": {}
        },
        {
          "output_type": "display_data",
          "data": {
            "text/plain": [
              "<IPython.core.display.Javascript object>"
            ],
            "application/javascript": [
              "\n",
              "  for (rule of document.styleSheets[0].cssRules){\n",
              "    if (rule.selectorText=='body') {\n",
              "      rule.style.fontSize = '36px'\n",
              "      break\n",
              "    }\n",
              "  }\n",
              "  "
            ]
          },
          "metadata": {}
        },
        {
          "output_type": "stream",
          "name": "stdout",
          "text": [
            "[-5 -5 -5 -5 -5]\n"
          ]
        }
      ],
      "source": [
        "k = x - y\n",
        "print(k)"
      ]
    },
    {
      "cell_type": "code",
      "execution_count": null,
      "metadata": {
        "id": "2LLUFwM6uCz_",
        "outputId": "9db2b502-4d8f-4b40-f50b-6c291f7ee560",
        "colab": {
          "base_uri": "https://localhost:8080/",
          "height": 62
        }
      },
      "outputs": [
        {
          "output_type": "display_data",
          "data": {
            "text/plain": [
              "<IPython.core.display.Javascript object>"
            ],
            "application/javascript": [
              "\n",
              "  for (rule of document.styleSheets[0].cssRules){\n",
              "    if (rule.selectorText=='body') {\n",
              "      rule.style.fontSize = '36px'\n",
              "      break\n",
              "    }\n",
              "  }\n",
              "  "
            ]
          },
          "metadata": {}
        },
        {
          "output_type": "display_data",
          "data": {
            "text/plain": [
              "<IPython.core.display.Javascript object>"
            ],
            "application/javascript": [
              "\n",
              "  for (rule of document.styleSheets[0].cssRules){\n",
              "    if (rule.selectorText=='body') {\n",
              "      rule.style.fontSize = '36px'\n",
              "      break\n",
              "    }\n",
              "  }\n",
              "  "
            ]
          },
          "metadata": {}
        },
        {
          "output_type": "stream",
          "name": "stdout",
          "text": [
            "[6.         3.5        2.66666667 2.25       2.        ]\n"
          ]
        }
      ],
      "source": [
        "m = y/x\n",
        "print(m)"
      ]
    },
    {
      "cell_type": "code",
      "execution_count": null,
      "metadata": {
        "id": "5dheOFMPuC0A",
        "outputId": "9a79cfc6-e39a-4905-f1f3-da7a936ba7aa",
        "colab": {
          "base_uri": "https://localhost:8080/",
          "height": 62
        }
      },
      "outputs": [
        {
          "output_type": "display_data",
          "data": {
            "text/plain": [
              "<IPython.core.display.Javascript object>"
            ],
            "application/javascript": [
              "\n",
              "  for (rule of document.styleSheets[0].cssRules){\n",
              "    if (rule.selectorText=='body') {\n",
              "      rule.style.fontSize = '36px'\n",
              "      break\n",
              "    }\n",
              "  }\n",
              "  "
            ]
          },
          "metadata": {}
        },
        {
          "output_type": "display_data",
          "data": {
            "text/plain": [
              "<IPython.core.display.Javascript object>"
            ],
            "application/javascript": [
              "\n",
              "  for (rule of document.styleSheets[0].cssRules){\n",
              "    if (rule.selectorText=='body') {\n",
              "      rule.style.fontSize = '36px'\n",
              "      break\n",
              "    }\n",
              "  }\n",
              "  "
            ]
          },
          "metadata": {}
        },
        {
          "output_type": "stream",
          "name": "stdout",
          "text": [
            "[0 1 2 1 0]\n"
          ]
        }
      ],
      "source": [
        "r = y%x\n",
        "print(r)"
      ]
    },
    {
      "cell_type": "code",
      "execution_count": null,
      "metadata": {
        "id": "gEhaHCf9uC0A",
        "outputId": "0ed10ec1-8030-4732-affe-5dc93a32f80c",
        "colab": {
          "base_uri": "https://localhost:8080/",
          "height": 151
        }
      },
      "outputs": [
        {
          "output_type": "display_data",
          "data": {
            "text/plain": [
              "<IPython.core.display.Javascript object>"
            ],
            "application/javascript": [
              "\n",
              "  for (rule of document.styleSheets[0].cssRules){\n",
              "    if (rule.selectorText=='body') {\n",
              "      rule.style.fontSize = '36px'\n",
              "      break\n",
              "    }\n",
              "  }\n",
              "  "
            ]
          },
          "metadata": {}
        },
        {
          "output_type": "display_data",
          "data": {
            "text/plain": [
              "<IPython.core.display.Javascript object>"
            ],
            "application/javascript": [
              "\n",
              "  for (rule of document.styleSheets[0].cssRules){\n",
              "    if (rule.selectorText=='body') {\n",
              "      rule.style.fontSize = '36px'\n",
              "      break\n",
              "    }\n",
              "  }\n",
              "  "
            ]
          },
          "metadata": {}
        },
        {
          "output_type": "stream",
          "name": "stdout",
          "text": [
            "[1 2 3 4 5]\n",
            "[ 6  7  8  9 10]\n",
            "[      1     128    6561  262144 9765625]\n"
          ]
        }
      ],
      "source": [
        "p = x**y\n",
        "print(x)\n",
        "print(y)\n",
        "print(p)"
      ]
    },
    {
      "cell_type": "markdown",
      "metadata": {
        "id": "mHUOXSSluC0B"
      },
      "source": [
        "##  Operações em vetores\n",
        "\n",
        "Existem algumas funções da biblioteca Numpy que funcionam apenas em vetores.\n",
        "\n",
        "**Função máximo e função mínimo**"
      ]
    },
    {
      "cell_type": "code",
      "execution_count": null,
      "metadata": {
        "id": "5GgFOOhnuC0B",
        "outputId": "204566aa-940e-493c-8116-eb0264d79f39",
        "colab": {
          "base_uri": "https://localhost:8080/",
          "height": 106
        }
      },
      "outputs": [
        {
          "output_type": "display_data",
          "data": {
            "text/plain": [
              "<IPython.core.display.Javascript object>"
            ],
            "application/javascript": [
              "\n",
              "  for (rule of document.styleSheets[0].cssRules){\n",
              "    if (rule.selectorText=='body') {\n",
              "      rule.style.fontSize = '36px'\n",
              "      break\n",
              "    }\n",
              "  }\n",
              "  "
            ]
          },
          "metadata": {}
        },
        {
          "output_type": "display_data",
          "data": {
            "text/plain": [
              "<IPython.core.display.Javascript object>"
            ],
            "application/javascript": [
              "\n",
              "  for (rule of document.styleSheets[0].cssRules){\n",
              "    if (rule.selectorText=='body') {\n",
              "      rule.style.fontSize = '36px'\n",
              "      break\n",
              "    }\n",
              "  }\n",
              "  "
            ]
          },
          "metadata": {}
        },
        {
          "output_type": "stream",
          "name": "stdout",
          "text": [
            "O máximo de x é 41\n",
            "O mínimo de x é 2\n"
          ]
        }
      ],
      "source": [
        "x = np.array([10, 2, 32, 41, 15])\n",
        "\n",
        "y = np.max(x)\n",
        "z = np.min(x)\n",
        "\n",
        "print(f'O máximo de x é {y}')\n",
        "print(f'O mínimo de x é {z}')"
      ]
    },
    {
      "cell_type": "markdown",
      "metadata": {
        "id": "maDGTiaduC0I"
      },
      "source": [
        "**Função soma**\n",
        "\n",
        "Obtém a somatória de todos os elementos do vetor."
      ]
    },
    {
      "cell_type": "code",
      "execution_count": null,
      "metadata": {
        "id": "_wqapPKquC0J",
        "outputId": "dda152a0-ad91-4ddf-ce30-fd1a99a6fd08",
        "colab": {
          "base_uri": "https://localhost:8080/",
          "height": 62
        }
      },
      "outputs": [
        {
          "output_type": "display_data",
          "data": {
            "text/plain": [
              "<IPython.core.display.Javascript object>"
            ],
            "application/javascript": [
              "\n",
              "  for (rule of document.styleSheets[0].cssRules){\n",
              "    if (rule.selectorText=='body') {\n",
              "      rule.style.fontSize = '36px'\n",
              "      break\n",
              "    }\n",
              "  }\n",
              "  "
            ]
          },
          "metadata": {}
        },
        {
          "output_type": "display_data",
          "data": {
            "text/plain": [
              "<IPython.core.display.Javascript object>"
            ],
            "application/javascript": [
              "\n",
              "  for (rule of document.styleSheets[0].cssRules){\n",
              "    if (rule.selectorText=='body') {\n",
              "      rule.style.fontSize = '36px'\n",
              "      break\n",
              "    }\n",
              "  }\n",
              "  "
            ]
          },
          "metadata": {}
        },
        {
          "output_type": "stream",
          "name": "stdout",
          "text": [
            "A somatória dos elementos de x é 100\n"
          ]
        }
      ],
      "source": [
        "x = np.array([10, 2, 32, 41, 15])\n",
        "y = np.sum(x)\n",
        "print(f'A somatória dos elementos de x é {y}')"
      ]
    },
    {
      "cell_type": "markdown",
      "metadata": {
        "id": "kLYLPk6buC0J"
      },
      "source": [
        "### Acessar um elemento de um vetor\n",
        "\n",
        "Para acessar um elemento específico de um vetor basta digitar o nome do vetor e a posição do elemento no vetor.\n",
        "\n",
        "O primeiro elemento de um vetor tem a posição 0:"
      ]
    },
    {
      "cell_type": "code",
      "execution_count": null,
      "metadata": {
        "id": "NWH6fMijuC0J",
        "outputId": "8472e3bc-e1a1-4426-d39f-c69ba1ad927c",
        "colab": {
          "base_uri": "https://localhost:8080/",
          "height": 62
        }
      },
      "outputs": [
        {
          "output_type": "display_data",
          "data": {
            "text/plain": [
              "<IPython.core.display.Javascript object>"
            ],
            "application/javascript": [
              "\n",
              "  for (rule of document.styleSheets[0].cssRules){\n",
              "    if (rule.selectorText=='body') {\n",
              "      rule.style.fontSize = '36px'\n",
              "      break\n",
              "    }\n",
              "  }\n",
              "  "
            ]
          },
          "metadata": {}
        },
        {
          "output_type": "display_data",
          "data": {
            "text/plain": [
              "<IPython.core.display.Javascript object>"
            ],
            "application/javascript": [
              "\n",
              "  for (rule of document.styleSheets[0].cssRules){\n",
              "    if (rule.selectorText=='body') {\n",
              "      rule.style.fontSize = '36px'\n",
              "      break\n",
              "    }\n",
              "  }\n",
              "  "
            ]
          },
          "metadata": {}
        },
        {
          "output_type": "stream",
          "name": "stdout",
          "text": [
            "4\n"
          ]
        }
      ],
      "source": [
        "x = np.array([4, 7, 21, 87, 2, -10])\n",
        "\n",
        "print(x[0])"
      ]
    },
    {
      "cell_type": "markdown",
      "metadata": {
        "id": "QWBgSS0AuC0K"
      },
      "source": [
        "Para acessar o terceiro elemento do vetor (posição 2), basta:"
      ]
    },
    {
      "cell_type": "code",
      "execution_count": null,
      "metadata": {
        "id": "offn0ovfuC0K",
        "outputId": "b3f084ab-e44e-434c-e1fd-93b35855dca4",
        "colab": {
          "base_uri": "https://localhost:8080/",
          "height": 62
        }
      },
      "outputs": [
        {
          "output_type": "display_data",
          "data": {
            "text/plain": [
              "<IPython.core.display.Javascript object>"
            ],
            "application/javascript": [
              "\n",
              "  for (rule of document.styleSheets[0].cssRules){\n",
              "    if (rule.selectorText=='body') {\n",
              "      rule.style.fontSize = '36px'\n",
              "      break\n",
              "    }\n",
              "  }\n",
              "  "
            ]
          },
          "metadata": {}
        },
        {
          "output_type": "display_data",
          "data": {
            "text/plain": [
              "<IPython.core.display.Javascript object>"
            ],
            "application/javascript": [
              "\n",
              "  for (rule of document.styleSheets[0].cssRules){\n",
              "    if (rule.selectorText=='body') {\n",
              "      rule.style.fontSize = '36px'\n",
              "      break\n",
              "    }\n",
              "  }\n",
              "  "
            ]
          },
          "metadata": {}
        },
        {
          "output_type": "execute_result",
          "data": {
            "text/plain": [
              "21"
            ]
          },
          "metadata": {},
          "execution_count": 23
        }
      ],
      "source": [
        "x[2]"
      ]
    },
    {
      "cell_type": "markdown",
      "metadata": {
        "id": "wJDMKbNWuC0K"
      },
      "source": [
        "O último elemento de um vetor é acessado usando o índice -1:"
      ]
    },
    {
      "cell_type": "code",
      "execution_count": null,
      "metadata": {
        "id": "wcfaT_RAuC0K",
        "outputId": "f9dafadd-3986-41b7-d1d8-686190a95731",
        "colab": {
          "base_uri": "https://localhost:8080/",
          "height": 62
        }
      },
      "outputs": [
        {
          "output_type": "display_data",
          "data": {
            "text/plain": [
              "<IPython.core.display.Javascript object>"
            ],
            "application/javascript": [
              "\n",
              "  for (rule of document.styleSheets[0].cssRules){\n",
              "    if (rule.selectorText=='body') {\n",
              "      rule.style.fontSize = '36px'\n",
              "      break\n",
              "    }\n",
              "  }\n",
              "  "
            ]
          },
          "metadata": {}
        },
        {
          "output_type": "display_data",
          "data": {
            "text/plain": [
              "<IPython.core.display.Javascript object>"
            ],
            "application/javascript": [
              "\n",
              "  for (rule of document.styleSheets[0].cssRules){\n",
              "    if (rule.selectorText=='body') {\n",
              "      rule.style.fontSize = '36px'\n",
              "      break\n",
              "    }\n",
              "  }\n",
              "  "
            ]
          },
          "metadata": {}
        },
        {
          "output_type": "execute_result",
          "data": {
            "text/plain": [
              "-10"
            ]
          },
          "metadata": {},
          "execution_count": 24
        }
      ],
      "source": [
        "x[-1]"
      ]
    },
    {
      "cell_type": "markdown",
      "metadata": {
        "id": "_EMmI-RuuC0L"
      },
      "source": [
        "## Gráfico de funções\n",
        "\n",
        "Para construir um gráfico é necessário ter a correspondência entre os pontos da abscissa e da ordenada.\n",
        "\n",
        "\n",
        "\n",
        "![grafico](https://github.com/BMClab/BasesComputacionais/blob/master/aula3/imagens/grafico.png?raw=1)\n",
        "\n",
        "Para fazer isso, pode-se colocar os valores em vetores. Os valores da abscissa devem estar em um vetor e os da ordenada devem estar em outro vetor."
      ]
    },
    {
      "cell_type": "markdown",
      "metadata": {
        "tags": [],
        "id": "fLbSsHevuC0L"
      },
      "source": [
        "### Bibliotecas de gráficos\n",
        "\n",
        "Existem muitas bibliotecas que permitem que façamos gráficos no Python:\n",
        "\n",
        "- **Matplotlib**\n",
        "- Seaborn\n",
        "- Plotly\n",
        "- Bokeh\n",
        "- Pygal\n",
        "- Altair\n"
      ]
    },
    {
      "cell_type": "markdown",
      "metadata": {
        "id": "weRaQ9FwuC0L"
      },
      "source": [
        "### Uso básico da biblioteca Matplotlib\n",
        "\n",
        "Neste curso será utilizada biblioteca Matplotlib. Para importar a biblioteca, use o seguinte comando:"
      ]
    },
    {
      "cell_type": "code",
      "execution_count": null,
      "metadata": {
        "id": "LUFvm4aauC0L",
        "outputId": "6fc7fad1-8062-4ea0-c171-6ad5032dd0a4",
        "colab": {
          "base_uri": "https://localhost:8080/",
          "height": 17
        }
      },
      "outputs": [
        {
          "output_type": "display_data",
          "data": {
            "text/plain": [
              "<IPython.core.display.Javascript object>"
            ],
            "application/javascript": [
              "\n",
              "  for (rule of document.styleSheets[0].cssRules){\n",
              "    if (rule.selectorText=='body') {\n",
              "      rule.style.fontSize = '36px'\n",
              "      break\n",
              "    }\n",
              "  }\n",
              "  "
            ]
          },
          "metadata": {}
        },
        {
          "output_type": "display_data",
          "data": {
            "text/plain": [
              "<IPython.core.display.Javascript object>"
            ],
            "application/javascript": [
              "\n",
              "  for (rule of document.styleSheets[0].cssRules){\n",
              "    if (rule.selectorText=='body') {\n",
              "      rule.style.fontSize = '36px'\n",
              "      break\n",
              "    }\n",
              "  }\n",
              "  "
            ]
          },
          "metadata": {}
        }
      ],
      "source": [
        "import matplotlib.pyplot as plt"
      ]
    },
    {
      "cell_type": "markdown",
      "metadata": {
        "id": "Jn2miHxkuC0M"
      },
      "source": [
        "Vamos considerar a função $y = x^2$."
      ]
    },
    {
      "cell_type": "code",
      "execution_count": null,
      "metadata": {
        "id": "fTxO3lJBuC0M",
        "outputId": "0951e6ef-8e37-4f0d-b406-1a2b281c403c",
        "colab": {
          "base_uri": "https://localhost:8080/",
          "height": 62
        }
      },
      "outputs": [
        {
          "output_type": "display_data",
          "data": {
            "text/plain": [
              "<IPython.core.display.Javascript object>"
            ],
            "application/javascript": [
              "\n",
              "  for (rule of document.styleSheets[0].cssRules){\n",
              "    if (rule.selectorText=='body') {\n",
              "      rule.style.fontSize = '36px'\n",
              "      break\n",
              "    }\n",
              "  }\n",
              "  "
            ]
          },
          "metadata": {}
        },
        {
          "output_type": "display_data",
          "data": {
            "text/plain": [
              "<IPython.core.display.Javascript object>"
            ],
            "application/javascript": [
              "\n",
              "  for (rule of document.styleSheets[0].cssRules){\n",
              "    if (rule.selectorText=='body') {\n",
              "      rule.style.fontSize = '36px'\n",
              "      break\n",
              "    }\n",
              "  }\n",
              "  "
            ]
          },
          "metadata": {}
        },
        {
          "output_type": "stream",
          "name": "stdout",
          "text": [
            "[25 16  9  4  1  0  1  4  9 16 25]\n"
          ]
        }
      ],
      "source": [
        "x = np.array([-5, -4, -3, -2, -1, 0, 1, 2, 3, 4, 5])\n",
        "y = x**2\n",
        "print(y)"
      ]
    },
    {
      "cell_type": "markdown",
      "metadata": {
        "id": "ynxPKOPluC0N"
      },
      "source": [
        "Para fazer o gráfico, utilizamos a sequência de comandos plt.figure(), plt.plot e plt.show().\n",
        "\n",
        "Na chamada do comando plt.plot, deve ser colocado entre os parênteses o vetor contendo os dados da abscissa e depois o vetor contendo os dados da ordenada."
      ]
    },
    {
      "cell_type": "code",
      "execution_count": null,
      "metadata": {
        "id": "eXMkeaS5uC0N",
        "outputId": "75d0c902-6ba0-42c6-ae04-d2d45d83e681",
        "colab": {
          "base_uri": "https://localhost:8080/",
          "height": 430
        }
      },
      "outputs": [
        {
          "output_type": "display_data",
          "data": {
            "text/plain": [
              "<IPython.core.display.Javascript object>"
            ],
            "application/javascript": [
              "\n",
              "  for (rule of document.styleSheets[0].cssRules){\n",
              "    if (rule.selectorText=='body') {\n",
              "      rule.style.fontSize = '36px'\n",
              "      break\n",
              "    }\n",
              "  }\n",
              "  "
            ]
          },
          "metadata": {}
        },
        {
          "output_type": "display_data",
          "data": {
            "text/plain": [
              "<IPython.core.display.Javascript object>"
            ],
            "application/javascript": [
              "\n",
              "  for (rule of document.styleSheets[0].cssRules){\n",
              "    if (rule.selectorText=='body') {\n",
              "      rule.style.fontSize = '36px'\n",
              "      break\n",
              "    }\n",
              "  }\n",
              "  "
            ]
          },
          "metadata": {}
        },
        {
          "output_type": "display_data",
          "data": {
            "text/plain": [
              "<Figure size 640x480 with 1 Axes>"
            ],
            "image/png": "[encoded data removed]"
          },
          "metadata": {}
        }
      ],
      "source": [
        "plt.figure()\n",
        "plt.plot(x, y)\n",
        "plt.show()"
      ]
    },
    {
      "cell_type": "markdown",
      "metadata": {
        "id": "dzmMyF7juC0O"
      },
      "source": [
        "É possível também controlar a aparência do gráfico. Por exemplo, para deixar a cor do gráfico vermelho com losangos marcando a posição dos pontos dados pelos vetores x e y e linha tracejada, utiliza-se:"
      ]
    },
    {
      "cell_type": "code",
      "execution_count": null,
      "metadata": {
        "id": "POWm_FLQuC0O",
        "outputId": "032a0cf2-6e06-4e07-b743-a00ebdd26127",
        "colab": {
          "base_uri": "https://localhost:8080/",
          "height": 430
        }
      },
      "outputs": [
        {
          "output_type": "display_data",
          "data": {
            "text/plain": [
              "<IPython.core.display.Javascript object>"
            ],
            "application/javascript": [
              "\n",
              "  for (rule of document.styleSheets[0].cssRules){\n",
              "    if (rule.selectorText=='body') {\n",
              "      rule.style.fontSize = '36px'\n",
              "      break\n",
              "    }\n",
              "  }\n",
              "  "
            ]
          },
          "metadata": {}
        },
        {
          "output_type": "display_data",
          "data": {
            "text/plain": [
              "<IPython.core.display.Javascript object>"
            ],
            "application/javascript": [
              "\n",
              "  for (rule of document.styleSheets[0].cssRules){\n",
              "    if (rule.selectorText=='body') {\n",
              "      rule.style.fontSize = '36px'\n",
              "      break\n",
              "    }\n",
              "  }\n",
              "  "
            ]
          },
          "metadata": {}
        },
        {
          "output_type": "display_data",
          "data": {
            "text/plain": [
              "<Figure size 640x480 with 1 Axes>"
            ],
            "image/png": "[encoded data removed]"
          },
          "metadata": {}
        }
      ],
      "source": [
        "plt.figure()\n",
        "plt.plot(x, y, marker='d', color='red', linestyle='--')\n",
        "plt.show()"
      ]
    },
    {
      "cell_type": "markdown",
      "metadata": {
        "id": "K0WYFkLQuC0O"
      },
      "source": [
        "[Neste site](https://matplotlib.org/stable/gallery/color/named_colors.html#sphx-glr-gallery-color-named-colors-py) são mostradas  todas as opções de cores do Matplotlib.\n",
        "\n",
        "[Aqui](https://matplotlib.org/stable/api/markers_api.html?highlight=markers#module-matplotlib.markers) são mostradas as opções de marcadores dos pontos aceitos no Matplotlib.\n",
        "\n",
        "[Nesta página](https://matplotlib.org/stable/gallery/lines_bars_and_markers/linestyles.html#sphx-glr-gallery-lines-bars-and-markers-linestyles-py) é possível ver todas as opções de estilo de linha.\n",
        "\n",
        "E [neste site](https://matplotlib.org/cheatsheets/) algumas listas de dicas no Matplotlib."
      ]
    },
    {
      "cell_type": "markdown",
      "metadata": {
        "id": "1L7SF1dfuC0P"
      },
      "source": [
        "Outra possibilidade é acrescentar textos nos eixos e um título para o gráfico."
      ]
    },
    {
      "cell_type": "code",
      "execution_count": null,
      "metadata": {
        "id": "y05D-qZMuC0P",
        "outputId": "d3614c46-405d-4285-b66b-8936818b291e",
        "colab": {
          "base_uri": "https://localhost:8080/",
          "height": 472
        }
      },
      "outputs": [
        {
          "output_type": "display_data",
          "data": {
            "text/plain": [
              "<IPython.core.display.Javascript object>"
            ],
            "application/javascript": [
              "\n",
              "  for (rule of document.styleSheets[0].cssRules){\n",
              "    if (rule.selectorText=='body') {\n",
              "      rule.style.fontSize = '36px'\n",
              "      break\n",
              "    }\n",
              "  }\n",
              "  "
            ]
          },
          "metadata": {}
        },
        {
          "output_type": "display_data",
          "data": {
            "text/plain": [
              "<IPython.core.display.Javascript object>"
            ],
            "application/javascript": [
              "\n",
              "  for (rule of document.styleSheets[0].cssRules){\n",
              "    if (rule.selectorText=='body') {\n",
              "      rule.style.fontSize = '36px'\n",
              "      break\n",
              "    }\n",
              "  }\n",
              "  "
            ]
          },
          "metadata": {}
        },
        {
          "output_type": "display_data",
          "data": {
            "text/plain": [
              "<Figure size 640x480 with 1 Axes>"
            ],
            "image/png": "[encoded data removed]"
          },
          "metadata": {}
        }
      ],
      "source": [
        "plt.figure()\n",
        "plt.plot(x, y, marker='s', color='orange', linestyle='-.')\n",
        "plt.xlabel('x')\n",
        "plt.ylabel('y')\n",
        "plt.title('Parábola')\n",
        "plt.show()"
      ]
    },
    {
      "cell_type": "markdown",
      "metadata": {
        "id": "QXUODjE0uC0P"
      },
      "source": [
        "É possível também fazer mais de uma curva em um mesmo gráfico:"
      ]
    },
    {
      "cell_type": "code",
      "execution_count": null,
      "metadata": {
        "id": "-n22HuR5uC0P",
        "outputId": "463ed9b9-3efb-4aae-c79d-efebd6b2bc0c",
        "colab": {
          "base_uri": "https://localhost:8080/",
          "height": 430
        }
      },
      "outputs": [
        {
          "output_type": "display_data",
          "data": {
            "text/plain": [
              "<IPython.core.display.Javascript object>"
            ],
            "application/javascript": [
              "\n",
              "  for (rule of document.styleSheets[0].cssRules){\n",
              "    if (rule.selectorText=='body') {\n",
              "      rule.style.fontSize = '36px'\n",
              "      break\n",
              "    }\n",
              "  }\n",
              "  "
            ]
          },
          "metadata": {}
        },
        {
          "output_type": "display_data",
          "data": {
            "text/plain": [
              "<IPython.core.display.Javascript object>"
            ],
            "application/javascript": [
              "\n",
              "  for (rule of document.styleSheets[0].cssRules){\n",
              "    if (rule.selectorText=='body') {\n",
              "      rule.style.fontSize = '36px'\n",
              "      break\n",
              "    }\n",
              "  }\n",
              "  "
            ]
          },
          "metadata": {}
        },
        {
          "output_type": "display_data",
          "data": {
            "text/plain": [
              "<Figure size 640x480 with 1 Axes>"
            ],
            "image/png": "[encoded data removed]"
          },
          "metadata": {}
        }
      ],
      "source": [
        "x = np.linspace(0.1, 10, 100)\n",
        "\n",
        "y = x**2\n",
        "z = 40*np.cos(x)\n",
        "w = 30*np.log10(x)\n",
        "\n",
        "plt.figure()\n",
        "plt.plot(x, y, color = 'blue', linestyle = '-.')\n",
        "plt.plot(x, z, color = 'lightgreen', linestyle = '-')\n",
        "plt.plot(x, w, color = 'salmon', linestyle = '--')\n",
        "plt.show()"
      ]
    },
    {
      "cell_type": "markdown",
      "metadata": {
        "tags": [],
        "id": "ocjvrm3kuC0Q"
      },
      "source": [
        "### Anotações\n",
        "\n",
        "É possível escrever texto dentro dos gráficos. Basta usar o comando **plt.annotate(texto, (x, y))**, em que x é a coordenada horizontal e y é a coordenada vertical e texto é a string."
      ]
    },
    {
      "cell_type": "code",
      "execution_count": null,
      "metadata": {
        "tags": [],
        "id": "6RZtcr9yuC0Q",
        "outputId": "d407225b-8eb3-4324-b9ac-95eb351d9348",
        "colab": {
          "base_uri": "https://localhost:8080/",
          "height": 449
        }
      },
      "outputs": [
        {
          "output_type": "display_data",
          "data": {
            "text/plain": [
              "<IPython.core.display.Javascript object>"
            ],
            "application/javascript": [
              "\n",
              "  for (rule of document.styleSheets[0].cssRules){\n",
              "    if (rule.selectorText=='body') {\n",
              "      rule.style.fontSize = '36px'\n",
              "      break\n",
              "    }\n",
              "  }\n",
              "  "
            ]
          },
          "metadata": {}
        },
        {
          "output_type": "display_data",
          "data": {
            "text/plain": [
              "<IPython.core.display.Javascript object>"
            ],
            "application/javascript": [
              "\n",
              "  for (rule of document.styleSheets[0].cssRules){\n",
              "    if (rule.selectorText=='body') {\n",
              "      rule.style.fontSize = '36px'\n",
              "      break\n",
              "    }\n",
              "  }\n",
              "  "
            ]
          },
          "metadata": {}
        },
        {
          "output_type": "display_data",
          "data": {
            "text/plain": [
              "<Figure size 640x480 with 1 Axes>"
            ],
            "image/png": "[encoded data removed]"
          },
          "metadata": {}
        }
      ],
      "source": [
        "plt.figure()\n",
        "plt.plot(x, y, color = 'blue', linestyle = '-.')\n",
        "plt.plot(x, z, color = 'lightgreen', linestyle = '-')\n",
        "plt.plot(x, w, color = 'salmon', linestyle = '--')\n",
        "plt.annotate('logaritmo',(2, 30))\n",
        "plt.xlabel('x')\n",
        "plt.ylabel('y')\n",
        "plt.show()"
      ]
    },
    {
      "cell_type": "markdown",
      "metadata": {
        "tags": [],
        "id": "9NWP6OB-uC0Q"
      },
      "source": [
        "Também é possível fazer uma seta, com o comando **plt.annotate(texto, (x,y), xytext=(x,y),arrowprops=dict(facecolor=color))**"
      ]
    },
    {
      "cell_type": "code",
      "execution_count": null,
      "metadata": {
        "tags": [],
        "id": "otePUQOGuC0Q",
        "outputId": "d98deaf3-a3e7-4849-a5c1-4d24e3f9b857",
        "colab": {
          "base_uri": "https://localhost:8080/",
          "height": 449
        }
      },
      "outputs": [
        {
          "output_type": "display_data",
          "data": {
            "text/plain": [
              "<IPython.core.display.Javascript object>"
            ],
            "application/javascript": [
              "\n",
              "  for (rule of document.styleSheets[0].cssRules){\n",
              "    if (rule.selectorText=='body') {\n",
              "      rule.style.fontSize = '36px'\n",
              "      break\n",
              "    }\n",
              "  }\n",
              "  "
            ]
          },
          "metadata": {}
        },
        {
          "output_type": "display_data",
          "data": {
            "text/plain": [
              "<IPython.core.display.Javascript object>"
            ],
            "application/javascript": [
              "\n",
              "  for (rule of document.styleSheets[0].cssRules){\n",
              "    if (rule.selectorText=='body') {\n",
              "      rule.style.fontSize = '36px'\n",
              "      break\n",
              "    }\n",
              "  }\n",
              "  "
            ]
          },
          "metadata": {}
        },
        {
          "output_type": "display_data",
          "data": {
            "text/plain": [
              "<Figure size 640x480 with 1 Axes>"
            ],
            "image/png": "[encoded data removed]"
          },
          "metadata": {}
        }
      ],
      "source": [
        "plt.figure()\n",
        "plt.plot(x, y, color = 'blue', linestyle = '-.')\n",
        "plt.plot(x, z, color = 'lightgreen', linestyle = '-')\n",
        "plt.plot(x, w, color = 'salmon', linestyle = '--')\n",
        "plt.annotate('logaritmo',(3, 20), xytext=(2,40),\n",
        "             arrowprops=dict(facecolor='blue'))\n",
        "plt.annotate('parábola',(8, 60), xytext=(3,80),\n",
        "             arrowprops=dict(facecolor='green', connectionstyle='Angle3'))\n",
        "plt.annotate('cosseno',(5, 0), xytext=(6,-20),\n",
        "             arrowprops=dict(facecolor='purple', connectionstyle='Angle3'))\n",
        "plt.xlabel('x')\n",
        "plt.ylabel('y')\n",
        "plt.show()"
      ]
    },
    {
      "cell_type": "markdown",
      "metadata": {
        "tags": [],
        "id": "LufMs9yVuC0R"
      },
      "source": [
        "### Outras opções\n",
        "\n",
        "É possível colocar um *grid* com a função **plt.grid()**. Dentro do **plt.figure()** é possível colcara opção **figsize=(lx,ly)** para mudar o tamanho do gráfico, em que lx é o tamanho horizontal e ly o tamanho vertical, em polegadas. Além disso, em toda função feita para escrever um texto, é possível mudar o tamanho da fonte com a opção **fontsize=s** em que s é o tamanho da fonte."
      ]
    },
    {
      "cell_type": "code",
      "execution_count": null,
      "metadata": {
        "id": "6ynMXYgWuC0R",
        "outputId": "a27ed45b-24e3-4a6d-d2bb-0b2fb3e925cc",
        "colab": {
          "base_uri": "https://localhost:8080/",
          "height": 639
        }
      },
      "outputs": [
        {
          "output_type": "display_data",
          "data": {
            "text/plain": [
              "<IPython.core.display.Javascript object>"
            ],
            "application/javascript": [
              "\n",
              "  for (rule of document.styleSheets[0].cssRules){\n",
              "    if (rule.selectorText=='body') {\n",
              "      rule.style.fontSize = '36px'\n",
              "      break\n",
              "    }\n",
              "  }\n",
              "  "
            ]
          },
          "metadata": {}
        },
        {
          "output_type": "display_data",
          "data": {
            "text/plain": [
              "<IPython.core.display.Javascript object>"
            ],
            "application/javascript": [
              "\n",
              "  for (rule of document.styleSheets[0].cssRules){\n",
              "    if (rule.selectorText=='body') {\n",
              "      rule.style.fontSize = '36px'\n",
              "      break\n",
              "    }\n",
              "  }\n",
              "  "
            ]
          },
          "metadata": {}
        },
        {
          "output_type": "display_data",
          "data": {
            "text/plain": [
              "<Figure size 900x700 with 1 Axes>"
            ],
            "image/png": "[encoded data removed]"
          },
          "metadata": {}
        }
      ],
      "source": [
        "plt.figure(figsize=(9,7))\n",
        "plt.plot(x, y, color = 'blue', linestyle = '-.')\n",
        "plt.plot(x, z, color = 'lightgreen', linestyle = '-')\n",
        "plt.plot(x, w, color = 'salmon', linestyle = '--')\n",
        "plt.annotate('logaritmo',(3, 15), xytext=(2,40),\n",
        "             arrowprops=dict(facecolor='blue'),\n",
        "             fontsize=20)\n",
        "plt.annotate('parábola',(7.6, 60), xytext=(3,80),\n",
        "             arrowprops=dict(facecolor='green', connectionstyle='Angle3'), fontsize=20)\n",
        "plt.annotate('cosseno',(4.8, 0), xytext=(6,-20),\n",
        "             arrowprops=dict(facecolor='purple', connectionstyle='Angle3'),\n",
        "             fontsize=20)\n",
        "plt.xlabel('x', fontsize=25)\n",
        "plt.ylabel('y', fontsize=25)\n",
        "plt.grid()\n",
        "plt.show()"
      ]
    },
    {
      "cell_type": "markdown",
      "metadata": {
        "tags": [],
        "id": "JEbtl8VguC0R"
      },
      "source": [
        "Existem diversas outras opções para os gráficos. Você pode ver todas as opções e alguns exemplos em [Matplotlib Gallery](https://matplotlib.org/stable/gallery/index.html)."
      ]
    },
    {
      "cell_type": "markdown",
      "metadata": {
        "id": "etnpliUvuC0R"
      },
      "source": [
        "\n",
        "\n",
        "## Exercícios\n",
        "\n",
        "Escrever um notebook do Colab para fazer o que pedido a seguir.\n",
        "\n",
        "\n",
        "\n"
      ]
    },
    {
      "cell_type": "markdown",
      "metadata": {
        "id": "JMxrSWQEuC0S"
      },
      "source": [
        "- **1)** A tensão elétrica medida em um circuito, em volts, tem a seguinte expressão no instante $t$, em segundos:\n",
        "\n",
        "$$v(t) = e^{-0.5t}\\cos\\left(2\\pi0.8t\\right)$$\n",
        "\n",
        "- Faça o gráfico da tensão em função do tempo.\n",
        "    \n",
        "Sugestão: fazer o gráfico com tempo entre 0 e 10 s com incremento de 0.05 s."
      ]
    },
    {
      "cell_type": "markdown",
      "metadata": {
        "id": "TiuXO1aXuC0S"
      },
      "source": []
    },
    {
      "cell_type": "markdown",
      "metadata": {
        "id": "uwo5-eQhuC0T"
      },
      "source": [
        "- **2)** Entre os anos de 1994 e 2022, a população de uma cidade cresce aproximadamente de acordo com a seguinte função:\n",
        "\n",
        "$$P(a) = 800000e^{\\frac{a - 1994}{40}}$$\n",
        "\n",
        "em que $a$ é o ano e $P$ é o número de habitantes.\n",
        "\n",
        "- Faça o gráfico do número de habitantes entre 1994 e 2022.\n",
        "\n"
      ]
    },
    {
      "cell_type": "markdown",
      "metadata": {
        "id": "24RJfYvHuC0T"
      },
      "source": [
        "## Referências\n",
        "\n",
        "- Chalco, JM, *Slides de Bases Computacionais da Ciência*, (2014)\n",
        "- Leite, S, *Slides de Bases Computacionais da Ciência*, (2018)\n",
        "- [Marietto, MGB et al.; **Bases computacionais da Ciência** (2013)](http://prograd.ufabc.edu.br/images/pdf/bases_computacionais_livro.pdf).\n",
        "- [Duarte, M, *Python para computação científica* (2017)](https://nbviewer.jupyter.org/github/BMClab/bmc/blob/master/notebooks/PT-BR/PythonForScientificComputing_PT-BR.ipynb)\n",
        "- [Matplotlib Gallery](https://matplotlib.org/3.1.0/gallery/index.html)"
      ]
    }
  ],
  "metadata": {
    "kernelspec": {
      "display_name": "Python 3 (ipykernel)",
      "language": "python",
      "name": "python3"
    },
    "language_info": {
      "codemirror_mode": {
        "name": "ipython",
        "version": 3
      },
      "file_extension": ".py",
      "mimetype": "text/x-python",
      "name": "python",
      "nbconvert_exporter": "python",
      "pygments_lexer": "ipython3",
      "version": "3.9.13"
    },
    "latex_envs": {
      "LaTeX_envs_menu_present": true,
      "autoclose": false,
      "autocomplete": true,
      "bibliofile": "biblio.bib",
      "cite_by": "apalike",
      "current_citInitial": 1,
      "eqLabelWithNumbers": true,
      "eqNumInitial": 1,
      "hotkeys": {
        "equation": "Ctrl-E",
        "itemize": "Ctrl-I"
      },
      "labels_anchors": false,
      "latex_user_defs": false,
      "report_style_numbering": false,
      "user_envs_cfg": false
    },
    "livereveal": {
      "autolaunch": true
    },
    "nbTranslate": {
      "displayLangs": [
        "*"
      ],
      "hotkey": "alt-t",
      "langInMainMenu": true,
      "sourceLang": "en",
      "targetLang": "fr",
      "useGoogleTranslate": true
    },
    "toc": {
      "base_numbering": 1,
      "nav_menu": {},
      "number_sections": true,
      "sideBar": true,
      "skip_h1_title": true,
      "title_cell": "Contents",
      "title_sidebar": "Contents",
      "toc_cell": true,
      "toc_position": {},
      "toc_section_display": true,
      "toc_window_display": false
    },
    "varInspector": {
      "cols": {
        "lenName": 16,
        "lenType": 16,
        "lenVar": 40
      },
      "kernels_config": {
        "python": {
          "delete_cmd_postfix": "",
          "delete_cmd_prefix": "del ",
          "library": "var_list.py",
          "varRefreshCmd": "print(var_dic_list())"
        },
        "r": {
          "delete_cmd_postfix": ") ",
          "delete_cmd_prefix": "rm(",
          "library": "var_list.r",
          "varRefreshCmd": "cat(var_dic_list()) "
        }
      },
      "types_to_exclude": [
        "module",
        "function",
        "builtin_function_or_method",
        "instance",
        "_Feature"
      ],
      "window_display": false
    },
    "colab": {
      "provenance": []
    }
  },
  "nbformat": 4,
  "nbformat_minor": 0
}