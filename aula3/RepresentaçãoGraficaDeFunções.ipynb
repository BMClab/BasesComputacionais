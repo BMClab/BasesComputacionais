{
 "cells": [
  {
   "cell_type": "markdown",
   "metadata": {
    "slideshow": {
     "slide_type": "slide"
    }
   },
   "source": [
    "# Bases Computacionais: representação gráfica de funções\n",
    "\n",
    "Renato Naville Watanabe"
   ]
  },
  {
   "cell_type": "markdown",
   "metadata": {
    "slideshow": {
     "slide_type": "slide"
    },
    "toc": true
   },
   "source": [
    "<h1>Contents<span class=\"tocSkip\"></span></h1>\n",
    "<div class=\"toc\"><ul class=\"toc-item\"><li><span><a href=\"#Modelando-fenômenos\" data-toc-modified-id=\"Modelando-fenômenos-1\"><span class=\"toc-item-num\">1&nbsp;&nbsp;</span>Modelando fenômenos</a></span></li><li><span><a href=\"#Vetores\" data-toc-modified-id=\"Vetores-2\"><span class=\"toc-item-num\">2&nbsp;&nbsp;</span>Vetores</a></span></li><li><span><a href=\"#Funções-matemáticas\" data-toc-modified-id=\"Funções-matemáticas-3\"><span class=\"toc-item-num\">3&nbsp;&nbsp;</span>Funções matemáticas</a></span></li><li><span><a href=\"#Operações-entre-vetores\" data-toc-modified-id=\"Operações-entre-vetores-4\"><span class=\"toc-item-num\">4&nbsp;&nbsp;</span>Operações entre vetores</a></span></li><li><span><a href=\"#Operações-em-vetores\" data-toc-modified-id=\"Operações-em-vetores-5\"><span class=\"toc-item-num\">5&nbsp;&nbsp;</span>Operações em vetores</a></span><ul class=\"toc-item\"><li><span><a href=\"#Acessar-um-elemento-de-um-vetor\" data-toc-modified-id=\"Acessar-um-elemento-de-um-vetor-5.1\"><span class=\"toc-item-num\">5.1&nbsp;&nbsp;</span>Acessar um elemento de um vetor</a></span></li></ul></li><li><span><a href=\"#Gráfico-de-funções\" data-toc-modified-id=\"Gráfico-de-funções-6\"><span class=\"toc-item-num\">6&nbsp;&nbsp;</span>Gráfico de funções</a></span></li><li><span><a href=\"#Tarefa-(para-agora)\" data-toc-modified-id=\"Tarefa-(para-agora)-7\"><span class=\"toc-item-num\">7&nbsp;&nbsp;</span>Tarefa (para agora)</a></span></li><li><span><a href=\"#Tarefa-(para-antes-da-próxima-aula)\" data-toc-modified-id=\"Tarefa-(para-antes-da-próxima-aula)-8\"><span class=\"toc-item-num\">8&nbsp;&nbsp;</span>Tarefa (para antes da próxima aula)</a></span></li><li><span><a href=\"#Referências\" data-toc-modified-id=\"Referências-9\"><span class=\"toc-item-num\">9&nbsp;&nbsp;</span>Referências</a></span></li></ul></div>"
   ]
  },
  {
   "cell_type": "markdown",
   "metadata": {
    "slideshow": {
     "slide_type": "slide"
    }
   },
   "source": [
    "## Modelando fenômenos\n",
    "\n",
    "- Em diferentes áreas da Ciência busca-se modelar fenômenos por meio de funções matemáticas para reproduzir os comportamentos observados na natureza.\n",
    "\n",
    "- Dado um modelo, muitas vezes, temos a necessidade de visualizar o comportamento do mesmo.\n",
    "\n",
    "- Gráficos de funções auxiliam o entendimento dos fenômenos.\n",
    "\n",
    "![graphic](https://imgs.xkcd.com/comics/fatal_crash_rate.png)"
   ]
  },
  {
   "cell_type": "markdown",
   "metadata": {
    "slideshow": {
     "slide_type": "slide"
    }
   },
   "source": [
    "O uso de funções decorre da necessidade de:\n",
    "\n",
    "- Analisar fenômenos, visualizando o comportamento de um sistema.\n",
    "\n",
    "- Interpretar interdependências, entendendo como uma variável comporta-se com relação à outra.\n",
    "\n",
    "- Encontrar soluções de problemas.\n",
    "\n",
    "- Descrever regularidades.\n",
    "\n",
    "- Generalizar."
   ]
  },
  {
   "cell_type": "markdown",
   "metadata": {
    "slideshow": {
     "slide_type": "slide"
    }
   },
   "source": [
    "## Vetores\n",
    "\n",
    "Com o Numpy você pode criar vetores. \n",
    "Com o comando 'np.array' você cria vetores (entenda vetor como uma lista de números) digitando cada elemento pertencente ao vetor, separado por vírgula enytre os elementos:"
   ]
  },
  {
   "cell_type": "code",
   "execution_count": null,
   "metadata": {
    "slideshow": {
     "slide_type": "fragment"
    }
   },
   "outputs": [],
   "source": [
    "import numpy as np\n",
    "x = np.array([1, 2, 3, 4, 5])\n",
    "x"
   ]
  },
  {
   "cell_type": "markdown",
   "metadata": {
    "slideshow": {
     "slide_type": "slide"
    }
   },
   "source": [
    "Com o comando 'np.arange', você cria vetores especificando os limites e o intervalo entre os elementos. Por exemplo, para criar um vetor que vai de 0 a 12 com intervalo entre os elementos de 0,2, deve-se digitar:"
   ]
  },
  {
   "cell_type": "code",
   "execution_count": null,
   "metadata": {
    "slideshow": {
     "slide_type": "fragment"
    }
   },
   "outputs": [],
   "source": [
    "y = np.arange(0, 12, 0.2)\n",
    "y"
   ]
  },
  {
   "cell_type": "markdown",
   "metadata": {
    "slideshow": {
     "slide_type": "slide"
    }
   },
   "source": [
    "Com o comando 'np.linspace', você cria vetores especificando os limites e o número de elementos. Por exemplo, para criar um vetor que vai de 0 a 11 com 130 elementos, deve-se digitar:"
   ]
  },
  {
   "cell_type": "code",
   "execution_count": null,
   "metadata": {
    "slideshow": {
     "slide_type": "fragment"
    }
   },
   "outputs": [],
   "source": [
    "z = np.linspace(0, 11, 130)\n",
    "z"
   ]
  },
  {
   "cell_type": "markdown",
   "metadata": {
    "slideshow": {
     "slide_type": "slide"
    }
   },
   "source": [
    "Para saber qual o tamanho de um vetor, use o comando 'len'."
   ]
  },
  {
   "cell_type": "code",
   "execution_count": null,
   "metadata": {
    "slideshow": {
     "slide_type": "fragment"
    }
   },
   "outputs": [],
   "source": [
    "len(z)"
   ]
  },
  {
   "cell_type": "markdown",
   "metadata": {
    "slideshow": {
     "slide_type": "slide"
    }
   },
   "source": [
    "## Funções matemáticas\n",
    "\n",
    "As funções na biblioteca Numpy também se aplicam a vetores. Neste caso, a função é aplicada a cada um dos elementos do vetor e tem como resultado um vetor do mesmo tamanho do vetor original.\n"
   ]
  },
  {
   "cell_type": "markdown",
   "metadata": {
    "slideshow": {
     "slide_type": "slide"
    }
   },
   "source": [
    "**Potência**\n"
   ]
  },
  {
   "cell_type": "code",
   "execution_count": null,
   "metadata": {
    "slideshow": {
     "slide_type": "fragment"
    }
   },
   "outputs": [],
   "source": [
    "x**2"
   ]
  },
  {
   "cell_type": "markdown",
   "metadata": {
    "slideshow": {
     "slide_type": "slide"
    }
   },
   "source": [
    "**Exponencial**: exp($x$)=$e^x$ em que $e=2,7182...$ "
   ]
  },
  {
   "cell_type": "code",
   "execution_count": null,
   "metadata": {
    "slideshow": {
     "slide_type": "fragment"
    }
   },
   "outputs": [],
   "source": [
    "np.exp(x)"
   ]
  },
  {
   "cell_type": "markdown",
   "metadata": {
    "slideshow": {
     "slide_type": "slide"
    }
   },
   "source": [
    "**Raiz quadrada**"
   ]
  },
  {
   "cell_type": "code",
   "execution_count": null,
   "metadata": {
    "slideshow": {
     "slide_type": "fragment"
    }
   },
   "outputs": [],
   "source": [
    "s = np.sqrt(x)\n",
    "s"
   ]
  },
  {
   "cell_type": "markdown",
   "metadata": {
    "slideshow": {
     "slide_type": "slide"
    }
   },
   "source": [
    "**Funções trigonométricas**\n",
    "\n",
    "Em todas as funções trigonométricas, o ângulo deve estar em radianos."
   ]
  },
  {
   "cell_type": "code",
   "execution_count": null,
   "metadata": {
    "slideshow": {
     "slide_type": "fragment"
    }
   },
   "outputs": [],
   "source": [
    "d = np.sin(x)\n",
    "g = np.cos(x)\n",
    "print(d)\n",
    "print(g)"
   ]
  },
  {
   "cell_type": "markdown",
   "metadata": {
    "slideshow": {
     "slide_type": "slide"
    }
   },
   "source": [
    "**Conversão entre radianos e graus**\n",
    "\n",
    "Use as funções 'np.rad2deg' e 'np deg2rad' para fazer a conversão entre radianos e graus."
   ]
  },
  {
   "cell_type": "code",
   "execution_count": null,
   "metadata": {
    "slideshow": {
     "slide_type": "fragment"
    }
   },
   "outputs": [],
   "source": [
    "print(np.rad2deg(np.pi/2))\n",
    "print(np.deg2rad(180))"
   ]
  },
  {
   "cell_type": "markdown",
   "metadata": {
    "slideshow": {
     "slide_type": "slide"
    }
   },
   "source": [
    "**Valor absoluto**"
   ]
  },
  {
   "cell_type": "code",
   "execution_count": null,
   "metadata": {
    "slideshow": {
     "slide_type": "fragment"
    }
   },
   "outputs": [],
   "source": [
    "a = np.abs(d)\n",
    "print(a)"
   ]
  },
  {
   "cell_type": "markdown",
   "metadata": {
    "slideshow": {
     "slide_type": "slide"
    }
   },
   "source": [
    "## Operações entre vetores\n",
    "\n",
    "As operações aritméticas básicas (+, -, /, $*$, %, $**$ ) também podem ser utilizados entre vetores que tenham o mesmo formato. Neste caso, as operações são realizadas entre os elementos que correspondem à mesma posição nos dois vetores."
   ]
  },
  {
   "cell_type": "code",
   "execution_count": null,
   "metadata": {
    "slideshow": {
     "slide_type": "fragment"
    }
   },
   "outputs": [],
   "source": [
    "x = np.array([1, 2, 3, 4, 5])\n",
    "y = np.array([6, 7, 8, 9, 10])\n",
    "\n",
    "z = x + y\n",
    "print(z)"
   ]
  },
  {
   "cell_type": "code",
   "execution_count": null,
   "metadata": {
    "slideshow": {
     "slide_type": "slide"
    }
   },
   "outputs": [],
   "source": [
    "w = x * y\n",
    "print(w)"
   ]
  },
  {
   "cell_type": "code",
   "execution_count": null,
   "metadata": {
    "slideshow": {
     "slide_type": "fragment"
    }
   },
   "outputs": [],
   "source": [
    "k = x - y\n",
    "print(k)"
   ]
  },
  {
   "cell_type": "code",
   "execution_count": null,
   "metadata": {
    "slideshow": {
     "slide_type": "fragment"
    }
   },
   "outputs": [],
   "source": [
    "m = y/x\n",
    "print(m)"
   ]
  },
  {
   "cell_type": "code",
   "execution_count": null,
   "metadata": {
    "slideshow": {
     "slide_type": "fragment"
    }
   },
   "outputs": [],
   "source": [
    "r = y%x\n",
    "print(r)"
   ]
  },
  {
   "cell_type": "code",
   "execution_count": null,
   "metadata": {
    "slideshow": {
     "slide_type": "fragment"
    }
   },
   "outputs": [],
   "source": [
    "p = x**y\n",
    "print(p)"
   ]
  },
  {
   "cell_type": "markdown",
   "metadata": {
    "slideshow": {
     "slide_type": "slide"
    }
   },
   "source": [
    "##  Operações em vetores\n",
    "\n",
    "Existem algumas funções da biblioteca Numpy que funcionam apenas em vetores.\n",
    "\n",
    "**Função máximo e função mínimo**"
   ]
  },
  {
   "cell_type": "code",
   "execution_count": null,
   "metadata": {
    "slideshow": {
     "slide_type": "fragment"
    }
   },
   "outputs": [],
   "source": [
    "x = np.array([10, 2, 32, 41, 15])\n",
    "\n",
    "y = np.max(x)\n",
    "z = np.min(x)\n",
    "\n",
    "print('O máximo de x é', y)\n",
    "print('O mínimo de x é', z)"
   ]
  },
  {
   "cell_type": "markdown",
   "metadata": {
    "slideshow": {
     "slide_type": "slide"
    }
   },
   "source": [
    "**Função soma**\n",
    "\n",
    "Obtém a somatória de todos os elementos do vetor."
   ]
  },
  {
   "cell_type": "code",
   "execution_count": null,
   "metadata": {
    "slideshow": {
     "slide_type": "fragment"
    }
   },
   "outputs": [],
   "source": [
    "x = np.array([10, 2, 32, 41, 15])\n",
    "\n",
    "y = np.sum(x)\n",
    "\n",
    "print('A somatória dos elementos de x é', y)"
   ]
  },
  {
   "cell_type": "markdown",
   "metadata": {
    "slideshow": {
     "slide_type": "slide"
    }
   },
   "source": [
    "### Acessar um elemento de um vetor\n",
    "\n",
    "Para acessar um elemento específico de um vetor basta digitar o nome do vetor e a posição do elemento no vetor. \n",
    "\n",
    "O primeiro elemento de um vetor tem a posição 0:"
   ]
  },
  {
   "cell_type": "code",
   "execution_count": null,
   "metadata": {
    "slideshow": {
     "slide_type": "fragment"
    }
   },
   "outputs": [],
   "source": [
    "x = np.array([4, 7, 21, 87, 2, -10])\n",
    "\n",
    "print(x[0])"
   ]
  },
  {
   "cell_type": "markdown",
   "metadata": {
    "slideshow": {
     "slide_type": "fragment"
    }
   },
   "source": [
    "Para acessar o terceiro elemento do vetor (posição 2), basta:"
   ]
  },
  {
   "cell_type": "code",
   "execution_count": null,
   "metadata": {
    "slideshow": {
     "slide_type": "fragment"
    }
   },
   "outputs": [],
   "source": [
    "x[2]"
   ]
  },
  {
   "cell_type": "markdown",
   "metadata": {
    "slideshow": {
     "slide_type": "fragment"
    }
   },
   "source": [
    "O último elemento de um vetor é acessado usando o índice -1:"
   ]
  },
  {
   "cell_type": "code",
   "execution_count": null,
   "metadata": {
    "slideshow": {
     "slide_type": "slide"
    }
   },
   "outputs": [],
   "source": [
    "x[-1]"
   ]
  },
  {
   "cell_type": "markdown",
   "metadata": {
    "slideshow": {
     "slide_type": "slide"
    }
   },
   "source": [
    "## Gráfico de funções\n",
    "\n",
    "Para construir um gráfico é necessário ter a correspondência entre os pontos da abscissa e da ordenada. \n",
    "\n",
    "\n",
    "\n",
    "![grafico](./imagens/grafico.png)\n",
    "\n",
    "Para fazer isso, pode-se colocar os valores em vetores. Os valores da abscissa devem estar em um vetor e os da ordenada devem estar em outro vetor. "
   ]
  },
  {
   "cell_type": "markdown",
   "metadata": {
    "slideshow": {
     "slide_type": "slide"
    }
   },
   "source": [
    "Para fazer um gráfico no Python, deve-se importar a biblioteca matplotlib:"
   ]
  },
  {
   "cell_type": "code",
   "execution_count": null,
   "metadata": {
    "slideshow": {
     "slide_type": "fragment"
    }
   },
   "outputs": [],
   "source": [
    "import matplotlib.pyplot as plt"
   ]
  },
  {
   "cell_type": "markdown",
   "metadata": {
    "slideshow": {
     "slide_type": "fragment"
    }
   },
   "source": [
    "Vamos considerar a função $y = x^2$. "
   ]
  },
  {
   "cell_type": "code",
   "execution_count": null,
   "metadata": {
    "slideshow": {
     "slide_type": "fragment"
    }
   },
   "outputs": [],
   "source": [
    "x = np.array([1, 2, 3, 4, 5])\n",
    "y = x**2\n",
    "print(y)"
   ]
  },
  {
   "cell_type": "markdown",
   "metadata": {
    "slideshow": {
     "slide_type": "slide"
    }
   },
   "source": [
    "Para fazer o gráfico, utilizamos a sequência de comandos plt.figure(), plt.plot e plt.show().\n",
    "\n",
    "Na chamada do comando plt.plot, deve ser colocado entre os parênteses o vetor contendo os dados da abscissa e depois o vetor contendo os dados da ordenada."
   ]
  },
  {
   "cell_type": "code",
   "execution_count": null,
   "metadata": {
    "slideshow": {
     "slide_type": "fragment"
    }
   },
   "outputs": [],
   "source": [
    "plt.figure()\n",
    "plt.plot(x, y)\n",
    "plt.show()"
   ]
  },
  {
   "cell_type": "markdown",
   "metadata": {
    "slideshow": {
     "slide_type": "slide"
    }
   },
   "source": [
    "É possível também controlar a aparência do gráfico. Por exemplo, para deixar a cor do gráfico vermelho com losangos marcando a posição dos pontos dados pelos vetores x e y e linha tracejada, utiliza-se:"
   ]
  },
  {
   "cell_type": "code",
   "execution_count": null,
   "metadata": {
    "slideshow": {
     "slide_type": "fragment"
    }
   },
   "outputs": [],
   "source": [
    "plt.figure()\n",
    "plt.plot(x, y, marker='d', color='red', linestyle='--')\n",
    "plt.show()"
   ]
  },
  {
   "cell_type": "markdown",
   "metadata": {
    "slideshow": {
     "slide_type": "slide"
    }
   },
   "source": [
    "[Neste site](https://matplotlib.org/stable/gallery/color/named_colors.html#sphx-glr-gallery-color-named-colors-py) são mostradas  todas as opções de cores do Matplotlib.\n",
    "\n",
    "[Aqui](https://matplotlib.org/stable/api/markers_api.html?highlight=markers#module-matplotlib.markers) são mostradas as opções de marcadores dos pontos aceitos no Matplotlib.\n",
    "\n",
    "[Nesta página](https://matplotlib.org/stable/gallery/lines_bars_and_markers/linestyles.html#sphx-glr-gallery-lines-bars-and-markers-linestyles-py) é possível ver todas as opções de estilo de linha.\n",
    "\n",
    "E [neste site](https://matplotlib.org/cheatsheets/) algumas listas de dicas no matplotrlib."
   ]
  },
  {
   "cell_type": "markdown",
   "metadata": {
    "slideshow": {
     "slide_type": "slide"
    }
   },
   "source": [
    "Outra possibilidade é acrescentar textos nos eixos e um título para o gráfico."
   ]
  },
  {
   "cell_type": "code",
   "execution_count": null,
   "metadata": {
    "slideshow": {
     "slide_type": "fragment"
    }
   },
   "outputs": [],
   "source": [
    "plt.figure()\n",
    "plt.plot(x, y, marker='s', color='orange', linestyle='-.')\n",
    "plt.xlabel('x')\n",
    "plt.ylabel('y')\n",
    "plt.title('Parábola')\n",
    "plt.show()"
   ]
  },
  {
   "cell_type": "markdown",
   "metadata": {
    "slideshow": {
     "slide_type": "slide"
    }
   },
   "source": [
    "É possível também fazer mais de uma curva em um mesmo gráfico:"
   ]
  },
  {
   "cell_type": "code",
   "execution_count": null,
   "metadata": {
    "slideshow": {
     "slide_type": "fragment"
    }
   },
   "outputs": [],
   "source": [
    "x = np.linspace(0.1, 10, 100)\n",
    "\n",
    "y = x**2\n",
    "z = 40*np.cos(x)\n",
    "w = 30*np.log10(x)\n",
    "\n",
    "plt.figure()\n",
    "plt.plot(x, y, color = 'blue', linestyle = '-.')\n",
    "plt.plot(x, z, color = 'lightgreen', linestyle = '-')\n",
    "plt.plot(x, w, color = 'salmon', linestyle = '--')\n",
    "plt.show()"
   ]
  },
  {
   "cell_type": "markdown",
   "metadata": {
    "slideshow": {
     "slide_type": "slide"
    }
   },
   "source": [
    "## Tarefa (para agora)\n",
    "\n",
    "- Escrever um notebook do Colab para fazer o que pedido a seguir.\n",
    "\n",
    "- Colocar o seu nome na primeira célula do Notebook.\n",
    "\n",
    "- O notebook deve estar com texto explicando o Notebook. \n",
    "\n",
    "- Todos os resultados devem ser mostrados ao executar o  Notebook.\n",
    "\n",
    "- Coloque no seu repositório do Github o arquivo '.ipynb' contendo o script feito por você com o nome \"Tarefa5SeuNome.ipynb\".\n",
    "\n",
    "- **1)** Uma bola é lançada ao ar. Suponha que sua altura $h(t)$, em metros, t segundos após o lançamento, seja:\n",
    "$$h(t) = −t^2 + 4t$$\n",
    "    \n",
    "    + a) Faça o gráfico da altura em função do tempo. Não se esqueça de indicar o significado de cada eixo, colocando a unidade da altura e do tempo.\n",
    "    \n",
    "    + b) Calcule a altura máxima atingida pela bola.\n",
    "    \n",
    "    \n",
    "Sugestão: fazer o gráfico com o tempo entre 0 s e 5 s com incrementos de 0.1 s.\n"
   ]
  },
  {
   "cell_type": "markdown",
   "metadata": {
    "slideshow": {
     "slide_type": "slide"
    }
   },
   "source": [
    "## Tarefa (para antes da próxima aula)\n",
    "\n",
    "- Escrever um Notebook do Colab para calcular as quatro expressões a seguir.\n",
    "\n",
    "- Colocar o seu nome e na primeira célula do Notebook.\n",
    "\n",
    "- O notebook deve conter textos explicando o que o notebook faz.\n",
    "\n",
    "- Todos os resultados devem ser mostrados ao executar o o Notebook.\n",
    "\n",
    "- Coloque no seu repositório do Github o arquivo '.ipynb' contendo o script feito por você com o nome \"Tarefa6SeuNome.ipynb\"."
   ]
  },
  {
   "cell_type": "markdown",
   "metadata": {
    "slideshow": {
     "slide_type": "slide"
    }
   },
   "source": [
    "- **1)** A tensão elétrica medida em um circuito, em volts, tem a seguinte expressão no instante $t$, em segundos:\n",
    "\n",
    "$$v(t) = e^{-0.5t}\\cos\\left(2\\pi0.8t\\right)$$\n",
    "\n",
    "- Faça o gráfico da tensão em função do tempo.\n",
    "    \n",
    "Sugestão: fazer o gráfico com tempo entre 0 e 10 s com incremento de 0.05 s."
   ]
  },
  {
   "cell_type": "markdown",
   "metadata": {
    "slideshow": {
     "slide_type": "slide"
    }
   },
   "source": [
    "- **2)** Faça um gráfico da equivalência da temperatura em Fahrenheits em função da temperatura em Celsius:\n",
    "\n",
    "$$F = \\frac{9}{5}C + 32 $$\n",
    "\n",
    "Faça o gráfico tomando 100 pontos entre -20 $^\\circ$C e 100 $^\\circ$C."
   ]
  },
  {
   "cell_type": "markdown",
   "metadata": {
    "slideshow": {
     "slide_type": "slide"
    }
   },
   "source": [
    "- **3)** Entre os anos de 1994 e 2022, a população de uma cidade cresce aproximadamente de acordo com a seguinte função:\n",
    "\n",
    "$$P(a) = 800000e^{\\frac{a - 1994}{40}}$$\n",
    "\n",
    "em que $a$ é o ano e $P$ é o número de habitantes.\n",
    "\n",
    "- Faça o gráfico do número de habitantes entre 1994 e 2022.\n",
    "\n"
   ]
  },
  {
   "cell_type": "markdown",
   "metadata": {
    "slideshow": {
     "slide_type": "slide"
    }
   },
   "source": [
    "## Referências\n",
    "\n",
    "- Chalco, JM, *Slides de Bases Computacionais da Ciência*, (2014)\n",
    "- Leite, S, *Slides de Bases Computacionais da Ciência*, (2018)\n",
    "- [Marietto, MGB et al.; **Bases computacionais da Ciência** (2013)](http://prograd.ufabc.edu.br/images/pdf/bases_computacionais_livro.pdf).\n",
    "- [Duarte, M, *Python para computação científica* (2017)](https://nbviewer.jupyter.org/github/BMClab/bmc/blob/master/notebooks/PT-BR/PythonForScientificComputing_PT-BR.ipynb)\n",
    "- [Matplotlib Gallery](https://matplotlib.org/3.1.0/gallery/index.html)"
   ]
  }
 ],
 "metadata": {
  "kernelspec": {
   "display_name": "Python 3 (ipykernel)",
   "language": "python",
   "name": "python3"
  },
  "language_info": {
   "codemirror_mode": {
    "name": "ipython",
    "version": 3
   },
   "file_extension": ".py",
   "mimetype": "text/x-python",
   "name": "python",
   "nbconvert_exporter": "python",
   "pygments_lexer": "ipython3",
   "version": "3.9.13"
  },
  "latex_envs": {
   "LaTeX_envs_menu_present": true,
   "autoclose": false,
   "autocomplete": true,
   "bibliofile": "biblio.bib",
   "cite_by": "apalike",
   "current_citInitial": 1,
   "eqLabelWithNumbers": true,
   "eqNumInitial": 1,
   "hotkeys": {
    "equation": "Ctrl-E",
    "itemize": "Ctrl-I"
   },
   "labels_anchors": false,
   "latex_user_defs": false,
   "report_style_numbering": false,
   "user_envs_cfg": false
  },
  "nbTranslate": {
   "displayLangs": [
    "*"
   ],
   "hotkey": "alt-t",
   "langInMainMenu": true,
   "sourceLang": "en",
   "targetLang": "fr",
   "useGoogleTranslate": true
  },
  "toc": {
   "base_numbering": 1,
   "nav_menu": {},
   "number_sections": true,
   "sideBar": true,
   "skip_h1_title": true,
   "title_cell": "Contents",
   "title_sidebar": "Contents",
   "toc_cell": true,
   "toc_position": {},
   "toc_section_display": true,
   "toc_window_display": false
  },
  "varInspector": {
   "cols": {
    "lenName": 16,
    "lenType": 16,
    "lenVar": 40
   },
   "kernels_config": {
    "python": {
     "delete_cmd_postfix": "",
     "delete_cmd_prefix": "del ",
     "library": "var_list.py",
     "varRefreshCmd": "print(var_dic_list())"
    },
    "r": {
     "delete_cmd_postfix": ") ",
     "delete_cmd_prefix": "rm(",
     "library": "var_list.r",
     "varRefreshCmd": "cat(var_dic_list()) "
    }
   },
   "types_to_exclude": [
    "module",
    "function",
    "builtin_function_or_method",
    "instance",
    "_Feature"
   ],
   "window_display": false
  }
 },
 "nbformat": 4,
 "nbformat_minor": 4
}
