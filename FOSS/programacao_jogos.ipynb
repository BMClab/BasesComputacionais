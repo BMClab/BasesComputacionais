{
  "nbformat": 4,
  "nbformat_minor": 0,
  "metadata": {
    "colab": {
      "provenance": [],
      "authorship_tag": "ABX9TyNxgGkDUUPMWjuq0XyZ1heH",
      "include_colab_link": true
    },
    "kernelspec": {
      "name": "python3",
      "display_name": "Python 3"
    },
    "language_info": {
      "name": "python"
    }
  },
  "cells": [
    {
      "cell_type": "markdown",
      "metadata": {
        "id": "view-in-github",
        "colab_type": "text"
      },
      "source": [
        "<a href=\"https://colab.research.google.com/github/robertatambasco/BCC21RobertaTambasco/blob/main/BCC21ProjetoFinalRobertaTambasco.ipynb\" target=\"_parent\"><img src=\"https://colab.research.google.com/assets/colab-badge.svg\" alt=\"Open In Colab\"/></a>"
      ]
    },
    {
      "cell_type": "markdown",
      "source": [
        "## OPEN SOURCE E A INTRODUÇÃO À PROGRAMAÇÃO DE JOGOS\n",
        "> Roberta Miglioli Tambasco - 11202231703\n",
        ">\n",
        ">Universidade Federal do ABC - UFABC\n",
        ">\n",
        ">BASES COMPUTACIONAIS DA CIÊNCIA\n",
        ">\n",
        "> Professor Marcos Duarte"
      ],
      "metadata": {
        "id": "_tp0DTwo3zLb"
      }
    },
    {
      "cell_type": "markdown",
      "source": [
        "#  Introdução à Programação de Jogos\n",
        "\n",
        "Disciplina focada na história dos videogames, fundamentos de programação em jogos, apresentação a engines de jogos, game design, áudio e animação de personagens.\n",
        "\n",
        "\n"
      ],
      "metadata": {
        "id": "gdNGzFzg5ZVw"
      }
    },
    {
      "cell_type": "markdown",
      "source": [
        "# Open Source\n",
        "\n",
        "Tendo como tradução \"Código Aberto\", é exatamente isso: um software com código aberto, grátis e disponível para edição e uso, geralmente contando com a colaboração de outros desenvolvedores para melhorar o projeto."
      ],
      "metadata": {
        "id": "Rj1M3D7LLjig"
      }
    },
    {
      "cell_type": "markdown",
      "source": [
        "# <i>\"Quanto mais jogos open source houverem, mais podemos aprender uns com os outros e melhores poderemos ser todos.\"</i>\n",
        "Harmony Honey, criador de jogos, numa entrevista para The ReadME Project."
      ],
      "metadata": {
        "id": "Cr_ZpyGsNERi"
      }
    },
    {
      "cell_type": "markdown",
      "source": [
        "# Godot Engine\n",
        "\n",
        "* Criação de jogos 2D e 3D para Android, iOS, PC, web e console.\n",
        "* Linguagens: Script próprio do Godot com base em Python (GDScript), C#, C++, e opção de usar outras linguagens com o GDNative.\n",
        "* Debugger incluído\n",
        "* [Documentação](https://docs.godotengine.org/en/stable/)"
      ],
      "metadata": {
        "id": "mJgiMkEVN4kE"
      }
    },
    {
      "cell_type": "markdown",
      "source": [
        "<center><img src=\"https://godotengine.org/themes/godotengine/assets/logo.svg\" alt=\"godot\"></center> \n",
        "\n",
        "\n",
        "\n",
        "\n"
      ],
      "metadata": {
        "id": "Rb1NT_SBSmnW"
      }
    },
    {
      "cell_type": "markdown",
      "source": [
        "# Phaser\n",
        "\n",
        "* Criação de jogos 2D em HTML5 para celular e desktop\n",
        "* Executado no Python\n",
        "* Jogos podem ser compilados para iOS, Androis e apps nativos\n",
        "* Uma das mais \"estreladas\" ferramentas de criação de jogos no GitHub\n",
        "* Tutoriais publicados toda semana, além de mais de 700 [tutoriais](https://phaser.io/learn) já disponíveis no site oficial\n",
        "* Plataforma utilizada para a criação de alguns jogos da Microsoft, como Mahjong\n",
        "* [Documentação](https://photonstorm.github.io/phaser3-docs/)"
      ],
      "metadata": {
        "id": "HKXGlj8KSp5i"
      }
    },
    {
      "cell_type": "markdown",
      "source": [
        "<center><img src=\"https://cdn.tutsplus.com/cdn-cgi/image/width=600/gamedev/uploads/2013/12/header.jpg\" alt=\"phaser\"></center> \n",
        "\n",
        "\n"
      ],
      "metadata": {
        "id": "KwJuwuZMS0E4"
      }
    },
    {
      "cell_type": "markdown",
      "source": [
        "# <i>\"Eu ainda dependo enormemente da comunidade para financiar Phaser e melhorá-lo, o que não teria acontecido se ele não fosse open source.\"</i>\n",
        "Richard Davey, criador do Phaser, numa entrevista para The ReadME Project."
      ],
      "metadata": {
        "id": "iXNYVBccUaAG"
      }
    },
    {
      "cell_type": "markdown",
      "source": [
        "# Pygame\n",
        "\n",
        "* Biblioteca digital open-source com ferramentas para arte digital, jogos, música e uma comunidade ativa \n",
        "* Cursores, fontes, sprites, pixelarts, áudio e muito mais\n",
        "* Possibilita a criação de jogos open source e comerciais\n",
        "* Linguagem: Python\n",
        "* Código simples\n",
        "* Ideal para iniciantes: possui inúmeros tutoriais e introduções\n",
        "* Jogos feitos no Pygame já foram publicados e finalistas em festivais de jogos independentes \n",
        "* [Documentação](https://www.pygame.org/docs/)\n",
        "* [Tutorial do freeCodeCamp para criar Stardew Valley usando o Pygame](https://www.freecodecamp.org/news/create-stardew-valley-using-python-and-pygame/)\n"
      ],
      "metadata": {
        "id": "9yTeXi0YXJzZ"
      }
    },
    {
      "cell_type": "markdown",
      "source": [
        "**Instalação**\n",
        "\n",
        "* O pacote é instalado com o <i>[pip](https://pip.pypa.io/en/stable/)</i> (já presente nas novas versões do Python)"
      ],
      "metadata": {
        "id": "vMWp1ue3XZ0N"
      }
    },
    {
      "cell_type": "code",
      "source": [
        "python3 -m pip install -U pygame --user"
      ],
      "metadata": {
        "id": "9KZDbjvvXu5R"
      },
      "execution_count": null,
      "outputs": []
    },
    {
      "cell_type": "markdown",
      "source": [
        "Para ver se funciona, basta executar um dos exemplos inclusos na documentação."
      ],
      "metadata": {
        "id": "55hlJgIVXy1g"
      }
    },
    {
      "cell_type": "code",
      "source": [
        "python3 -m pygame.examples.aliens"
      ],
      "metadata": {
        "id": "o3Y5noZ9X4ZP"
      },
      "execution_count": null,
      "outputs": []
    },
    {
      "cell_type": "markdown",
      "source": [
        "<center><img src=\"https://camo.githubusercontent.com/1971c0a4f776fb5351c765c37e59630c83cabd52/68747470733a2f2f7777772e707967616d652e6f72672f696d616765732f6c6f676f2e706e67\" alt=\"pygame\"></center>\n"
      ],
      "metadata": {
        "id": "U5EsbflnmOwr"
      }
    },
    {
      "cell_type": "markdown",
      "source": [
        "# Referências\n",
        "\n",
        "* https://github.com/readme/featured/open-source-democratizing-video-games\n",
        "* https://www.goodfirms.co/game-development-software/blog/best-free-open-source-game-development-software-solutions\n",
        "* https://github.com/Kavex/GameDev-Resources\n",
        "* https://www.freecodecamp.org/"
      ],
      "metadata": {
        "id": "tfvvPKrELxku"
      }
    }
  ]
}