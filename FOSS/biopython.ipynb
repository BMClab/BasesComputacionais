{
  "nbformat": 4,
  "nbformat_minor": 0,
  "metadata": {
    "colab": {
      "provenance": []
    },
    "kernelspec": {
      "name": "python3",
      "display_name": "Python 3"
    },
    "language_info": {
      "name": "python"
    }
  },
  "cells": [
    {
      "cell_type": "markdown",
      "source": [
        "Lucas Cecilio da Silva"
      ],
      "metadata": {
        "id": "QNeAc8RW0ZUW"
      }
    },
    {
      "cell_type": "markdown",
      "source": [
        "RA: 11202231220"
      ],
      "metadata": {
        "id": "GQS9_0nB0ZRV"
      }
    },
    {
      "cell_type": "markdown",
      "source": [
        "# **Projeto Final de Bases Computacionais da Ciência (BCC)**"
      ],
      "metadata": {
        "id": "n81NH43x0ZOX"
      }
    },
    {
      "cell_type": "markdown",
      "source": [
        "### O uso da biblioteca Biopython com o Google Colab na matéria de Evolução e Diversificação da Vida na Terra"
      ],
      "metadata": {
        "id": "rwIS7rowYLak"
      }
    },
    {
      "cell_type": "markdown",
      "source": [
        "*O Notebook se baseia em como aplicar algumas funções da biblioteca Biopython na aula da Semana 6 de Evolução e Diversificação da Vida na Terra, onde fomos introduzidos aos conceitos de DNA e RNA, bem como sua replicação, transcrição e tradução.*"
      ],
      "metadata": {
        "id": "XYINiDZnYu7N"
      }
    },
    {
      "cell_type": "markdown",
      "source": [
        "## **Sumário**\n",
        "\n",
        "\n",
        "1.   Introdução ao Biopython;\n",
        "2.   Manipulação de sequências;\n",
        "1.   Operações básicas com sequências;\n",
        "2.   Concatenar (Juntar uma string na outra);\n",
        "1.   Comparar objetos de sequência;\n",
        "2.   Leitura e gravação de arquivos;\n",
        "1.   Bioinformática estrutural de proteínas;\n",
        "2.   Conclusão;\n",
        "1.   Referências.\n",
        "\n",
        "\n",
        "\n"
      ],
      "metadata": {
        "id": "B2v0t2LG6Tre"
      }
    },
    {
      "cell_type": "markdown",
      "source": [
        "### **Introdução ao Biopython**"
      ],
      "metadata": {
        "id": "eUN-BIRaabh4"
      }
    },
    {
      "cell_type": "markdown",
      "source": [
        "O primeiro passo para inicializar a biblioteca Biopython no Google Colab é instalá-la.\n",
        "\n",
        "Para isso devemos realizar a aplicação do seguinte código:\n",
        "\n"
      ],
      "metadata": {
        "id": "SbO7biJ6a9qJ"
      }
    },
    {
      "cell_type": "code",
      "execution_count": null,
      "metadata": {
        "id": "3LxFCTum0Q2C",
        "colab": {
          "base_uri": "https://localhost:8080/"
        },
        "outputId": "34b6a947-36e3-45b6-bf95-2bc738bccec5"
      },
      "outputs": [
        {
          "output_type": "stream",
          "name": "stdout",
          "text": [
            "Looking in indexes: https://pypi.org/simple, https://us-python.pkg.dev/colab-wheels/public/simple/\n",
            "Requirement already satisfied: biopython in /usr/local/lib/python3.8/dist-packages (1.80)\n",
            "Requirement already satisfied: numpy in /usr/local/lib/python3.8/dist-packages (from biopython) (1.21.6)\n"
          ]
        }
      ],
      "source": [
        "!pip3 install biopython"
      ]
    },
    {
      "cell_type": "markdown",
      "source": [
        "Depois de instalado, há uma série de utilidades no Biopython que são possíveis para a área da biologia como um todo.\n",
        "\n",
        "Neste notebook iremos abordar somente as que podem ser utilizadas para os fins educacionais da matéria de EDVT relacionadas a uma determinada sequência de DNA. \n",
        "\n"
      ],
      "metadata": {
        "id": "QCFp4Z88bxKJ"
      }
    },
    {
      "cell_type": "markdown",
      "source": [
        "### **Manipulação de sequências**"
      ],
      "metadata": {
        "id": "OF3JgwqKc811"
      }
    },
    {
      "cell_type": "markdown",
      "source": [
        "Uma das funções básicas do Biopython é a análise de sequências. Para realizá-la, é necessário importar o módulo Seq com o comando:"
      ],
      "metadata": {
        "id": "QKIohLtfcqO3"
      }
    },
    {
      "cell_type": "code",
      "source": [
        "from Bio.Seq import Seq"
      ],
      "metadata": {
        "id": "cYGp7hZ2c3T1"
      },
      "execution_count": null,
      "outputs": []
    },
    {
      "cell_type": "markdown",
      "source": [
        "Em Biopython, sequências devem ser declaradas com o método Seq( ):\n",
        "\n",
        "Por exemplo, podemos adicionar uma sequência aleatória (tendo em vista o conceito básico de sequências, onde aprendemos em aula que elas são formadas por quatro letras: \"A\", \"C\", \"G\", \"T\").\n",
        "\n"
      ],
      "metadata": {
        "id": "ROFvLoUudXcG"
      }
    },
    {
      "cell_type": "markdown",
      "source": [
        "Essa será a sequência inicial:"
      ],
      "metadata": {
        "id": "o8LRg7Old_M5"
      }
    },
    {
      "cell_type": "code",
      "source": [
        "seq_1 = Seq(\"ACGTACGACGTATGATAATAGATAG\")\n",
        "print('Sequência inicial:', seq_1)"
      ],
      "metadata": {
        "colab": {
          "base_uri": "https://localhost:8080/"
        },
        "id": "EKCh4EIWOBnq",
        "outputId": "f069ebcc-6f04-41d2-953b-4c9ce0bda2b6"
      },
      "execution_count": null,
      "outputs": [
        {
          "output_type": "stream",
          "name": "stdout",
          "text": [
            "Sequência inicial: ACGTACGACGTATGATAATAGATAG\n"
          ]
        }
      ]
    },
    {
      "cell_type": "markdown",
      "source": [
        "Após declarada, a sequência pode ser manipulada como um objeto do tipo Seq. Por exemplo, para obter o **reverso complementar** da sequência declarada anteriormente, utilizamos o seguinte comando:"
      ],
      "metadata": {
        "id": "d7E8C9mFeI-8"
      }
    },
    {
      "cell_type": "code",
      "source": [
        "rev_compl = seq_1.reverse_complement()\n",
        "print('Reverso complementar:', rev_compl)"
      ],
      "metadata": {
        "id": "Zwt0NO9POB3P",
        "colab": {
          "base_uri": "https://localhost:8080/"
        },
        "outputId": "1770abd2-5673-4797-ebf6-2065bada5f5e"
      },
      "execution_count": null,
      "outputs": [
        {
          "output_type": "stream",
          "name": "stdout",
          "text": [
            "Reverso complementar: CTATCTATTATCATACGTCGTACGT\n"
          ]
        }
      ]
    },
    {
      "cell_type": "markdown",
      "source": [
        "Podemos ainda obter a sequência transcrita utilizando o comando transcribe():"
      ],
      "metadata": {
        "id": "6OiTx0K6e1NH"
      }
    },
    {
      "cell_type": "code",
      "source": [
        "rna = seq_1.transcribe()\n",
        "print('Sequência transcrita:', rna)"
      ],
      "metadata": {
        "colab": {
          "base_uri": "https://localhost:8080/"
        },
        "id": "XBSi_7nUPk4N",
        "outputId": "557b6f8e-a238-418f-8666-4fa10b3c04a1"
      },
      "execution_count": null,
      "outputs": [
        {
          "output_type": "stream",
          "name": "stdout",
          "text": [
            "Sequência transcrita: ACGUACGACGUAUGAUAAUAGAUAG\n"
          ]
        }
      ]
    },
    {
      "cell_type": "markdown",
      "source": [
        "Além disso, por fim, podemos obter a sequência de aminoácidos a partir da tradução da sequência, utilizando o seguinte comando:"
      ],
      "metadata": {
        "id": "41XSpoMwe7pC"
      }
    },
    {
      "cell_type": "code",
      "source": [
        "protein = seq_1.translate()\n",
        "print('Sequência da proteína:', protein)"
      ],
      "metadata": {
        "colab": {
          "base_uri": "https://localhost:8080/"
        },
        "id": "i764JuKePpEM",
        "outputId": "43bf0b35-d59a-4532-8a2e-117595088b10"
      },
      "execution_count": null,
      "outputs": [
        {
          "output_type": "stream",
          "name": "stdout",
          "text": [
            "Sequência da proteína: TYDV***I\n"
          ]
        },
        {
          "output_type": "stream",
          "name": "stderr",
          "text": [
            "/usr/local/lib/python3.8/dist-packages/Bio/Seq.py:3482: BiopythonWarning: Partial codon, len(sequence) not a multiple of three. Explicitly trim the sequence or add trailing N before translation. This may become an error in future.\n",
            "  warnings.warn(\n"
          ]
        }
      ]
    },
    {
      "cell_type": "markdown",
      "source": [
        "### **Operações básicas com sequências**"
      ],
      "metadata": {
        "id": "aTgL1a4sgPfr"
      }
    },
    {
      "cell_type": "markdown",
      "source": [
        "É possível realizar operações básicas com objetos do tipo Seq como se fossem do tipo string. Para realizar buscas de fragmentos de sequências dentro de uma sequência, utilizamos o seguinte comando:\n"
      ],
      "metadata": {
        "id": "eI13Hs9GgPc1"
      }
    },
    {
      "cell_type": "code",
      "source": [
        "print(seq_1.count('TACGA'))"
      ],
      "metadata": {
        "colab": {
          "base_uri": "https://localhost:8080/"
        },
        "id": "c4vEtp2CgnDl",
        "outputId": "747cc642-8844-46ef-c474-867652ce899b"
      },
      "execution_count": null,
      "outputs": [
        {
          "output_type": "stream",
          "name": "stdout",
          "text": [
            "1\n"
          ]
        }
      ]
    },
    {
      "cell_type": "markdown",
      "source": [
        "Para enumerar uma sequência colocando uma linha para cada letra, utilizamos o seguinte comando:"
      ],
      "metadata": {
        "id": "r80X9O70RMSg"
      }
    },
    {
      "cell_type": "code",
      "source": [
        "for i, n in enumerate(seq_1):\n",
        "  print(i, n)"
      ],
      "metadata": {
        "colab": {
          "base_uri": "https://localhost:8080/"
        },
        "id": "-5UM0A7hPqbv",
        "outputId": "7d9e107e-1e73-49d7-e72c-38bc485f88ec"
      },
      "execution_count": null,
      "outputs": [
        {
          "output_type": "stream",
          "name": "stdout",
          "text": [
            "0 A\n",
            "1 C\n",
            "2 G\n",
            "3 T\n",
            "4 A\n",
            "5 C\n",
            "6 G\n",
            "7 A\n",
            "8 C\n",
            "9 G\n",
            "10 T\n",
            "11 A\n",
            "12 T\n",
            "13 G\n",
            "14 A\n",
            "15 T\n",
            "16 A\n",
            "17 A\n",
            "18 T\n",
            "19 A\n",
            "20 G\n",
            "21 A\n",
            "22 T\n",
            "23 A\n",
            "24 G\n"
          ]
        }
      ]
    },
    {
      "cell_type": "markdown",
      "source": [
        "Podemos ainda reverter sequências da mesma forma que revertemos strings, usando seq_1[::-1] para tal."
      ],
      "metadata": {
        "id": "JyW8Aht3Ri8K"
      }
    },
    {
      "cell_type": "markdown",
      "source": [
        "Nesse caso, os valores inseridos em colchetes indicam:\n",
        "\n",
        "[posição de início : posição final : passo]\n",
        "\n",
        "Como os valores de posição de início e fim foram deixados em branco, todas as letras da string são utilizadas. O valor de passo -1 indica que a sequência deve receber o valor reverso."
      ],
      "metadata": {
        "id": "oKRRIU9QiPNh"
      }
    },
    {
      "cell_type": "code",
      "source": [
        "print('Sequência string original:',seq_1)\n",
        "print('Sequência string reversa:', seq_1[::-1])"
      ],
      "metadata": {
        "colab": {
          "base_uri": "https://localhost:8080/"
        },
        "id": "Vd1vreyZRmBk",
        "outputId": "90dc367b-994c-414a-e6e3-e86167485dbc"
      },
      "execution_count": null,
      "outputs": [
        {
          "output_type": "stream",
          "name": "stdout",
          "text": [
            "Sequência string original: ACGTACGACGTATGATAATAGATAG\n",
            "Sequência string reversa: GATAGATAATAGTATGCAGCATGCA\n"
          ]
        }
      ]
    },
    {
      "cell_type": "markdown",
      "source": [
        "Se quisermos calcular o conteúdo GC (Guaninas e Citosinas) na sequência, a primeira coisa a se fazer é importar GC pela biblioteca Bio.SeqUtils:"
      ],
      "metadata": {
        "id": "XkWTUG6hSLz5"
      }
    },
    {
      "cell_type": "code",
      "source": [
        "from Bio.SeqUtils import GC"
      ],
      "metadata": {
        "id": "zEr9AiyUldrc"
      },
      "execution_count": null,
      "outputs": []
    },
    {
      "cell_type": "markdown",
      "source": [
        "Depois de importada a biblioteca, utilizamos o seguinte comando:"
      ],
      "metadata": {
        "id": "ua5Zg09kk_bV"
      }
    },
    {
      "cell_type": "code",
      "source": [
        "print(GC(seq_1))"
      ],
      "metadata": {
        "colab": {
          "base_uri": "https://localhost:8080/"
        },
        "id": "0S9dClksQ02J",
        "outputId": "06e35d3b-3aea-4efb-a3cb-8fd038a5087c"
      },
      "execution_count": null,
      "outputs": [
        {
          "output_type": "stream",
          "name": "stdout",
          "text": [
            "36.0\n"
          ]
        },
        {
          "output_type": "stream",
          "name": "stderr",
          "text": [
            "/usr/local/lib/python3.8/dist-packages/Bio/SeqUtils/__init__.py:144: BiopythonDeprecationWarning: GC is deprecated; please use gc_fraction instead.\n",
            "  warnings.warn(\n"
          ]
        }
      ]
    },
    {
      "cell_type": "markdown",
      "source": [
        "Podemos também converter objetos de sequência em strings usando a função str(). Para testar isso, vamos criar uma nova variável chamada seq2:"
      ],
      "metadata": {
        "id": "LAirntccSmuJ"
      }
    },
    {
      "cell_type": "code",
      "source": [
        "seq_2 = str(seq_1)\n",
        "type(seq_2)\n",
        "print(type(seq_2))"
      ],
      "metadata": {
        "colab": {
          "base_uri": "https://localhost:8080/"
        },
        "id": "-tUg_8KfQ0zq",
        "outputId": "f7292f3a-d129-4650-ed43-19b29fc536ff"
      },
      "execution_count": null,
      "outputs": [
        {
          "output_type": "stream",
          "name": "stdout",
          "text": [
            "<class 'str'>\n"
          ]
        }
      ]
    },
    {
      "cell_type": "markdown",
      "source": [
        "Além disso, é possível converter a string em um objeto de sequência do Biopython usando a função Seq():\n"
      ],
      "metadata": {
        "id": "F6fTW9ygjUhQ"
      }
    },
    {
      "cell_type": "code",
      "source": [
        "seq_2 = Seq(seq_2)\n",
        "print(type(seq_2))"
      ],
      "metadata": {
        "colab": {
          "base_uri": "https://localhost:8080/"
        },
        "id": "XquYtzDPjVGv",
        "outputId": "27ed2294-6237-4551-94c3-e594c7607761"
      },
      "execution_count": null,
      "outputs": [
        {
          "output_type": "stream",
          "name": "stdout",
          "text": [
            "<class 'Bio.Seq.Seq'>\n"
          ]
        }
      ]
    },
    {
      "cell_type": "markdown",
      "source": [
        "### **Concatenar (juntar uma string na outra)**"
      ],
      "metadata": {
        "id": "_MuFIOqpTdPV"
      }
    },
    {
      "cell_type": "markdown",
      "source": [
        "É possível unir sequências diferentes usando o operador de concatenação (+):"
      ],
      "metadata": {
        "id": "jaH1GjRxjy_g"
      }
    },
    {
      "cell_type": "code",
      "source": [
        "seq_x = seq_1 + seq_2 \n",
        "print(seq_x)\n",
        "print(type(seq_x))"
      ],
      "metadata": {
        "colab": {
          "base_uri": "https://localhost:8080/"
        },
        "id": "sxS8yKEFQ0wp",
        "outputId": "9f76a858-2264-49a7-c3a3-99dc74714f21"
      },
      "execution_count": null,
      "outputs": [
        {
          "output_type": "stream",
          "name": "stdout",
          "text": [
            "ACGTACGACGTATGATAATAGATAGACGTACGACGTATGATAATAGATAG\n",
            "<class 'Bio.Seq.Seq'>\n"
          ]
        }
      ]
    },
    {
      "cell_type": "markdown",
      "source": [
        "### **Comparar objetos de sequência**"
      ],
      "metadata": {
        "id": "DjU0gkxwkNJ1"
      }
    },
    {
      "cell_type": "markdown",
      "source": [
        "É possível também comparar objetos de sequência usando o operador de igualdade (==), obtendo assim uma resposta True (caso verídico) ou uma resposta False (caso falso):"
      ],
      "metadata": {
        "id": "Ui63nGQwkZkV"
      }
    },
    {
      "cell_type": "code",
      "source": [
        "seq_1 == seq_2"
      ],
      "metadata": {
        "colab": {
          "base_uri": "https://localhost:8080/"
        },
        "id": "Ir9b79CPkM5l",
        "outputId": "5a28a3ad-20e6-429d-aee5-a3c8f877812a"
      },
      "execution_count": null,
      "outputs": [
        {
          "output_type": "execute_result",
          "data": {
            "text/plain": [
              "True"
            ]
          },
          "metadata": {},
          "execution_count": 81
        }
      ]
    },
    {
      "cell_type": "markdown",
      "source": [
        "### **Leitura e gravação de arquivos**"
      ],
      "metadata": {
        "id": "cfrthbKtT5uE"
      }
    },
    {
      "cell_type": "markdown",
      "source": [
        "Podemos ler dados reais de arquivos DNA com a biblioteca ensinada em aula, a pandas:"
      ],
      "metadata": {
        "id": "VeFOZ3lUWYr5"
      }
    },
    {
      "cell_type": "code",
      "source": [
        "import pandas as pd\n",
        "Informações_DNA_Reais = pd.read_csv('http://bioinfo.dcc.ufmg.br/betagdb/data/betagdb_glucose_tolerant_sequences.fasta')"
      ],
      "metadata": {
        "id": "cdVhWz5UT5kN"
      },
      "execution_count": null,
      "outputs": []
    },
    {
      "cell_type": "code",
      "source": [
        "Informações_DNA_Reais['>Chamoli et al. (2016) tr|I3QIG4|I3QIG4_BACIU 6-phospho-beta-glucosidase (Fragment) OS=Bacillus subtilis GN=bg1 PE=3 SV=1 ']"
      ],
      "metadata": {
        "colab": {
          "base_uri": "https://localhost:8080/"
        },
        "id": "kUjMGF-vQ0tS",
        "outputId": "775b9463-ce79-4077-e890-6941950eef23"
      },
      "execution_count": null,
      "outputs": [
        {
          "output_type": "execute_result",
          "data": {
            "text/plain": [
              "0      MSSNEKRFPEGFLWGGAVAANQVEGAYNEGGKGLSTADVSPNGIMS...\n",
              "1      GIDFYHRYKEDIALFAEMGFKAFRTSIAWTRIFPNGDEEEPNEEGL...\n",
              "2      IEPVVTISHYEMPLGLVKNYGGWKNRKVIEFYERYAKTVFKRYQHK...\n",
              "3      HAPFTGGGLVFEEGENKLNAMYQAAHHQFVASALAVKAGHDIIPDS...\n",
              "4      TSKPEDVFAAMENERKTLFFSDVQARGAYPGYMKRYLAENNIEIEM...\n",
              "                             ...                        \n",
              "217    NKGDRNNLTLWNNGDNLIKAVADANENTVVVIHSVGPVLMNEWINH...\n",
              "218    ESGNSLADIVLGKVNPSGRLPYTIAKNHDDYNVHPDPADNVVYSEK...\n",
              "219    PLFPFGHGLSYTSFKYSGIKVKAKKKNDSVTVTASVMVKNSGKLPG...\n",
              "220    GEPPKTLRGFEKVFIKKDSSSKVEFEFTKTELSIWDTKTKSWVIPS...\n",
              "221                                             RQTATFTL\n",
              "Name: >Chamoli et al. (2016) tr|I3QIG4|I3QIG4_BACIU 6-phospho-beta-glucosidase (Fragment) OS=Bacillus subtilis GN=bg1 PE=3 SV=1 , Length: 222, dtype: object"
            ]
          },
          "metadata": {},
          "execution_count": 83
        }
      ]
    },
    {
      "cell_type": "markdown",
      "source": [
        "### **Bioinformática estrutural de proteínas**"
      ],
      "metadata": {
        "id": "oYDoQ991wZPe"
      }
    },
    {
      "cell_type": "markdown",
      "source": [
        "A blibioteca Biopython fornece o módulo Bio.PDB que permite a leitura e manipulação de estruturas de proteínas diretamente do Protein Data Bank (PDB). Para utilizá-lo, deve-se inicialmente importar o módulo Bio.PDB:"
      ],
      "metadata": {
        "id": "Qdhumrspwbwm"
      }
    },
    {
      "cell_type": "code",
      "source": [
        "from Bio.PDB import *"
      ],
      "metadata": {
        "id": "_y0D3XUUQ0gV"
      },
      "execution_count": null,
      "outputs": []
    },
    {
      "cell_type": "markdown",
      "source": [
        "Para fazer o download de um arquivo PDB, utilizamos o método retrieve_pdb_file() informando o código identificador de quatro dígitos. Porém, deve-se incialmente obter a lista atualizada de arquivos do PDB usando o comando PDBList(). Por exemplo, para realizar o download da estrutura da proteína beta-glicosidase de PDB ID 4MDP, fazemos:"
      ],
      "metadata": {
        "id": "Ay-27LoFwxuO"
      }
    },
    {
      "cell_type": "code",
      "source": [
        "pdb = PDBList()\n",
        "pdb.retrieve_pdb_file('4MDP')"
      ],
      "metadata": {
        "colab": {
          "base_uri": "https://localhost:8080/",
          "height": 70
        },
        "id": "apROUeZ8wuej",
        "outputId": "c858e074-b6cd-4072-c748-0aa2ae490313"
      },
      "execution_count": null,
      "outputs": [
        {
          "output_type": "stream",
          "name": "stdout",
          "text": [
            "Structure exists: '/content/md/4mdp.cif' \n"
          ]
        },
        {
          "output_type": "stream",
          "name": "stderr",
          "text": [
            "WARNING: The default download format has changed from PDB to PDBx/mmCif\n"
          ]
        },
        {
          "output_type": "execute_result",
          "data": {
            "text/plain": [
              "'/content/md/4mdp.cif'"
            ],
            "application/vnd.google.colaboratory.intrinsic+json": {
              "type": "string"
            }
          },
          "metadata": {},
          "execution_count": 85
        }
      ]
    },
    {
      "cell_type": "markdown",
      "source": [
        "Para ver os dados da estrutura da proteína (passando pelos modelos disponíveis, pelas cadeias, resíduos e átomos) utilizamos a seguinte sequência de códigos:"
      ],
      "metadata": {
        "id": "1x_yFuSJxZEE"
      }
    },
    {
      "cell_type": "code",
      "source": [
        "# O método Parser() converte o arquivo de sequência em um iterador (objeto que permite percorrer uma coleção de elementos, particularmente listas) que retorna os SeqRecords (gravações feitas na sequência).\n",
        "parser = MMCIFParser()\n",
        "estrutura = parser.get_structure('4mdp', 'md/4mdp.cif')\n",
        "\n",
        "print(estrutura)\n"
      ],
      "metadata": {
        "colab": {
          "base_uri": "https://localhost:8080/"
        },
        "id": "VLVVsH752quE",
        "outputId": "729e33d1-1197-4c59-ffaf-1c6085bc6fb4"
      },
      "execution_count": null,
      "outputs": [
        {
          "output_type": "stream",
          "name": "stdout",
          "text": [
            "<Structure id=4mdp>\n"
          ]
        }
      ]
    },
    {
      "cell_type": "code",
      "source": [
        "# estrutura -> modelos -> cadeias -> resíduos -> átomos\n",
        "\n",
        "for modelo in estrutura:\n",
        "  print(modelo)\n",
        "  for cadeia in modelo:\n",
        "    print(cadeia)\n",
        "    for residuo in cadeia:\n",
        "      nome = residuo.get_resname()\n",
        "      if nome != 'HOH':\n",
        "        print(nome, residuo.id[1])"
      ],
      "metadata": {
        "colab": {
          "base_uri": "https://localhost:8080/"
        },
        "id": "HBK-ZiLFwucz",
        "outputId": "deafc80c-1c9a-464f-cc57-d192e0c8093f"
      },
      "execution_count": null,
      "outputs": [
        {
          "output_type": "stream",
          "name": "stdout",
          "text": [
            "<Model id=0>\n",
            "<Chain id=A>\n",
            "SER 0\n",
            "MET 1\n",
            "SER 2\n",
            "LEU 3\n",
            "PRO 4\n",
            "PRO 5\n",
            "ASP 6\n",
            "PHE 7\n",
            "LYS 8\n",
            "TRP 9\n",
            "GLY 10\n",
            "PHE 11\n",
            "ALA 12\n",
            "THR 13\n",
            "ALA 14\n",
            "ALA 15\n",
            "TYR 16\n",
            "GLN 17\n",
            "ILE 18\n",
            "GLU 19\n",
            "GLY 20\n",
            "SER 21\n",
            "VAL 22\n",
            "ASN 23\n",
            "GLU 24\n",
            "ASP 25\n",
            "GLY 26\n",
            "ARG 27\n",
            "GLY 28\n",
            "PRO 29\n",
            "SER 30\n",
            "ILE 31\n",
            "TRP 32\n",
            "ASP 33\n",
            "THR 34\n",
            "PHE 35\n",
            "CYS 36\n",
            "ALA 37\n",
            "ILE 38\n",
            "PRO 39\n",
            "GLY 40\n",
            "LYS 41\n",
            "ILE 42\n",
            "ALA 43\n",
            "ASP 44\n",
            "GLY 45\n",
            "SER 46\n",
            "SER 47\n",
            "GLY 48\n",
            "ALA 49\n",
            "VAL 50\n",
            "ALA 51\n",
            "CYS 52\n",
            "ASP 53\n",
            "SER 54\n",
            "TYR 55\n",
            "LYS 56\n",
            "ARG 57\n",
            "THR 58\n",
            "LYS 59\n",
            "GLU 60\n",
            "ASP 61\n",
            "ILE 62\n",
            "ALA 63\n",
            "LEU 64\n",
            "LEU 65\n",
            "LYS 66\n",
            "GLU 67\n",
            "LEU 68\n",
            "GLY 69\n",
            "ALA 70\n",
            "ASN 71\n",
            "SER 72\n",
            "TYR 73\n",
            "ARG 74\n",
            "PHE 75\n",
            "SER 76\n",
            "ILE 77\n",
            "SER 78\n",
            "TRP 79\n",
            "SER 80\n",
            "ARG 81\n",
            "ILE 82\n",
            "ILE 83\n",
            "PRO 84\n",
            "LEU 85\n",
            "GLY 86\n",
            "GLY 87\n",
            "ARG 88\n",
            "ASN 89\n",
            "ASP 90\n",
            "PRO 91\n",
            "ILE 92\n",
            "ASN 93\n",
            "GLN 94\n",
            "LYS 95\n",
            "GLY 96\n",
            "ILE 97\n",
            "ASP 98\n",
            "HIS 99\n",
            "TYR 100\n",
            "VAL 101\n",
            "LYS 102\n",
            "PHE 103\n",
            "VAL 104\n",
            "ASP 105\n",
            "ASP 106\n",
            "LEU 107\n",
            "ILE 108\n",
            "GLU 109\n",
            "ALA 110\n",
            "GLY 111\n",
            "ILE 112\n",
            "THR 113\n",
            "PRO 114\n",
            "PHE 115\n",
            "ILE 116\n",
            "THR 117\n",
            "LEU 118\n",
            "PHE 119\n",
            "HIS 120\n",
            "TRP 121\n",
            "ASP 122\n",
            "LEU 123\n",
            "PRO 124\n",
            "ASP 125\n",
            "ALA 126\n",
            "LEU 127\n",
            "ASP 128\n",
            "LYS 129\n",
            "ARG 130\n",
            "TYR 131\n",
            "GLY 132\n",
            "GLY 133\n",
            "PHE 134\n",
            "LEU 135\n",
            "ASN 136\n",
            "LYS 137\n",
            "GLU 138\n",
            "GLU 139\n",
            "PHE 140\n",
            "ALA 141\n",
            "ALA 142\n",
            "ASP 143\n",
            "PHE 144\n",
            "GLU 145\n",
            "ASN 146\n",
            "TYR 147\n",
            "ALA 148\n",
            "ARG 149\n",
            "ILE 150\n",
            "MET 151\n",
            "PHE 152\n",
            "LYS 153\n",
            "ALA 154\n",
            "ILE 155\n",
            "PRO 156\n",
            "LYS 157\n",
            "CYS 158\n",
            "LYS 159\n",
            "HIS 160\n",
            "TRP 161\n",
            "ILE 162\n",
            "THR 163\n",
            "PHE 164\n",
            "ASN 165\n",
            "GLU 166\n",
            "PRO 167\n",
            "TRP 168\n",
            "CYS 169\n",
            "SER 170\n",
            "ALA 171\n",
            "ILE 172\n",
            "LEU 173\n",
            "GLY 174\n",
            "TYR 175\n",
            "ASN 176\n",
            "THR 177\n",
            "GLY 178\n",
            "TYR 179\n",
            "PHE 180\n",
            "ALA 181\n",
            "PRO 182\n",
            "GLY 183\n",
            "HIS 184\n",
            "THR 185\n",
            "SER 186\n",
            "ASP 187\n",
            "ARG 188\n",
            "SER 189\n",
            "LYS 190\n",
            "SER 191\n",
            "PRO 192\n",
            "VAL 193\n",
            "GLY 194\n",
            "ASP 195\n",
            "SER 196\n",
            "ALA 197\n",
            "ARG 198\n",
            "GLU 199\n",
            "PRO 200\n",
            "TRP 201\n",
            "ILE 202\n",
            "VAL 203\n",
            "GLY 204\n",
            "HIS 205\n",
            "ASN 206\n",
            "ILE 207\n",
            "LEU 208\n",
            "ILE 209\n",
            "ALA 210\n",
            "HIS 211\n",
            "ALA 212\n",
            "ARG 213\n",
            "ALA 214\n",
            "VAL 215\n",
            "LYS 216\n",
            "ALA 217\n",
            "TYR 218\n",
            "ARG 219\n",
            "GLU 220\n",
            "ASP 221\n",
            "PHE 222\n",
            "LYS 223\n",
            "PRO 224\n",
            "THR 225\n",
            "GLN 226\n",
            "GLY 227\n",
            "GLY 228\n",
            "GLU 229\n",
            "ILE 230\n",
            "GLY 231\n",
            "ILE 232\n",
            "THR 233\n",
            "LEU 234\n",
            "ASN 235\n",
            "GLY 236\n",
            "ASP 237\n",
            "ALA 238\n",
            "THR 239\n",
            "LEU 240\n",
            "PRO 241\n",
            "TRP 242\n",
            "ASP 243\n",
            "PRO 244\n",
            "GLU 245\n",
            "ASP 246\n",
            "PRO 247\n",
            "ALA 248\n",
            "ASP 249\n",
            "ILE 250\n",
            "GLU 251\n",
            "ALA 252\n",
            "CYS 253\n",
            "ASP 254\n",
            "ARG 255\n",
            "LYS 256\n",
            "ILE 257\n",
            "GLU 258\n",
            "PHE 259\n",
            "ALA 260\n",
            "ILE 261\n",
            "SER 262\n",
            "TRP 263\n",
            "PHE 264\n",
            "ALA 265\n",
            "ASP 266\n",
            "PRO 267\n",
            "ILE 268\n",
            "TYR 269\n",
            "PHE 270\n",
            "GLY 271\n",
            "LYS 272\n",
            "TYR 273\n",
            "PRO 274\n",
            "ASP 275\n",
            "SER 276\n",
            "MET 277\n",
            "ARG 278\n",
            "LYS 279\n",
            "GLN 280\n",
            "LEU 281\n",
            "GLY 282\n",
            "ASP 283\n",
            "ARG 284\n",
            "LEU 285\n",
            "PRO 286\n",
            "GLU 287\n",
            "PHE 288\n",
            "THR 289\n",
            "PRO 290\n",
            "GLU 291\n",
            "GLU 292\n",
            "VAL 293\n",
            "ALA 294\n",
            "LEU 295\n",
            "VAL 296\n",
            "LYS 297\n",
            "GLY 298\n",
            "SER 299\n",
            "ASN 300\n",
            "ASP 301\n",
            "PHE 302\n",
            "TYR 303\n",
            "GLY 304\n",
            "MET 305\n",
            "ASN 306\n",
            "HIS 307\n",
            "TYR 308\n",
            "THR 309\n",
            "ALA 310\n",
            "ASN 311\n",
            "TYR 312\n",
            "ILE 313\n",
            "LYS 314\n",
            "HIS 315\n",
            "LYS 316\n",
            "THR 317\n",
            "GLY 318\n",
            "VAL 319\n",
            "PRO 320\n",
            "PRO 321\n",
            "GLU 322\n",
            "ASP 323\n",
            "ASP 324\n",
            "PHE 325\n",
            "LEU 326\n",
            "GLY 327\n",
            "ASN 328\n",
            "LEU 329\n",
            "GLU 330\n",
            "THR 331\n",
            "LEU 332\n",
            "PHE 333\n",
            "TYR 334\n",
            "ASN 335\n",
            "LYS 336\n",
            "TYR 337\n",
            "GLY 338\n",
            "ASP 339\n",
            "CYS 340\n",
            "ILE 341\n",
            "GLY 342\n",
            "PRO 343\n",
            "GLU 344\n",
            "THR 345\n",
            "GLN 346\n",
            "SER 347\n",
            "PHE 348\n",
            "TRP 349\n",
            "LEU 350\n",
            "ARG 351\n",
            "PRO 352\n",
            "HIS 353\n",
            "ALA 354\n",
            "GLN 355\n",
            "GLY 356\n",
            "PHE 357\n",
            "ARG 358\n",
            "ASP 359\n",
            "LEU 360\n",
            "LEU 361\n",
            "ASN 362\n",
            "TRP 363\n",
            "LEU 364\n",
            "SER 365\n",
            "LYS 366\n",
            "ARG 367\n",
            "TYR 368\n",
            "GLY 369\n",
            "TYR 370\n",
            "PRO 371\n",
            "LYS 372\n",
            "ILE 373\n",
            "TYR 374\n",
            "VAL 375\n",
            "THR 376\n",
            "GLU 377\n",
            "ASN 378\n",
            "GLY 379\n",
            "THR 380\n",
            "SER 381\n",
            "LEU 382\n",
            "LYS 383\n",
            "GLY 384\n",
            "GLU 385\n",
            "ASN 386\n",
            "ASP 387\n",
            "MET 388\n",
            "PRO 389\n",
            "LEU 390\n",
            "GLU 391\n",
            "GLN 392\n",
            "VAL 393\n",
            "LEU 394\n",
            "GLU 395\n",
            "ASP 396\n",
            "ASP 397\n",
            "PHE 398\n",
            "ARG 399\n",
            "VAL 400\n",
            "LYS 401\n",
            "TYR 402\n",
            "PHE 403\n",
            "ASN 404\n",
            "ASP 405\n",
            "TYR 406\n",
            "VAL 407\n",
            "ARG 408\n",
            "ALA 409\n",
            "MET 410\n",
            "ALA 411\n",
            "ALA 412\n",
            "ALA 413\n",
            "VAL 414\n",
            "ALA 415\n",
            "GLU 416\n",
            "ASP 417\n",
            "GLY 418\n",
            "CYS 419\n",
            "ASN 420\n",
            "VAL 421\n",
            "ARG 422\n",
            "GLY 423\n",
            "TYR 424\n",
            "LEU 425\n",
            "ALA 426\n",
            "TRP 427\n",
            "SER 428\n",
            "LEU 429\n",
            "LEU 430\n",
            "ASP 431\n",
            "ASN 432\n",
            "PHE 433\n",
            "GLU 434\n",
            "TRP 435\n",
            "ALA 436\n",
            "GLU 437\n",
            "GLY 438\n",
            "TYR 439\n",
            "GLU 440\n",
            "THR 441\n",
            "ARG 442\n",
            "PHE 443\n",
            "GLY 444\n",
            "VAL 445\n",
            "THR 446\n",
            "TYR 447\n",
            "VAL 448\n",
            "ASP 449\n",
            "TYR 450\n",
            "ALA 451\n",
            "ASN 452\n",
            "ASP 453\n",
            "GLN 454\n",
            "LYS 455\n",
            "ARG 456\n",
            "TYR 457\n",
            "PRO 458\n",
            "LYS 459\n",
            "LYS 460\n",
            "SER 461\n",
            "ALA 462\n",
            "LYS 463\n",
            "SER 464\n",
            "LEU 465\n",
            "LYS 466\n",
            "PRO 467\n",
            "LEU 468\n",
            "PHE 469\n",
            "ASP 470\n",
            "SER 471\n",
            "LEU 472\n",
            "ILE 473\n",
            "ARG 474\n",
            "LYS 475\n",
            "GLU 476\n",
            "BGC 501\n",
            "PEG 502\n",
            "PEG 503\n",
            "PEG 504\n",
            "PO4 505\n",
            "PO4 506\n",
            "GOL 507\n"
          ]
        }
      ]
    },
    {
      "cell_type": "markdown",
      "source": [
        "### **Conclusão:**"
      ],
      "metadata": {
        "id": "BpOLXPIs2_83"
      }
    },
    {
      "cell_type": "markdown",
      "source": [
        "Há uma série de utilidades no Biopython que são possíveis para a área da biologia como um todo. \n",
        "\n",
        "\n",
        "O objetivo deste notebook foi apresentar com alguns exemplos práticos, uma utilidade do Biopython para os fins educacionais da matéria de Evolução e Diversificação da Vida na Terra (EDVT) relacionadas a uma determinada sequência de DNA (Matéria da Semana 6). \n",
        "\n",
        "\n",
        "É possível acessar o site oficial do Biopython, e conferir também outras das suas demasiadas utilidades, utilizando o link: https://biopython.org."
      ],
      "metadata": {
        "id": "Ci-DV47Q4xLP"
      }
    },
    {
      "cell_type": "markdown",
      "source": [
        "### **Referências:**"
      ],
      "metadata": {
        "id": "6GOumkSV5r1V"
      }
    },
    {
      "cell_type": "markdown",
      "source": [
        "https://biopython.org/\n",
        "\n",
        "\n",
        "https://moodle.ufabc.edu.br/mod/page/view.php?id=198141\n",
        "\n",
        "\n",
        "https://www.youtube.com/watch?time_continue=26&v=U1hnrmyxk1M\n",
        "\n",
        "\n",
        "https://bioinfo.com.br/biopython-uma-breve-introducao-a-manipulacao-de-dados-biologicos-em-python-usando-colab/\n",
        "\n",
        "\n",
        "https://colab.research.google.com/github/BMClab/BasesComputacionais/blob/master/aula5/BasesDeDados.ipynb"
      ],
      "metadata": {
        "id": "fDykU1Fo5xKO"
      }
    }
  ]
}