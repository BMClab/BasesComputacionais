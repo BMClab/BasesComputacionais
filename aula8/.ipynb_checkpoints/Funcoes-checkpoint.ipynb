{
 "cells": [
  {
   "cell_type": "markdown",
   "metadata": {
    "slideshow": {
     "slide_type": "slide"
    }
   },
   "source": [
    "# Funções\n",
    "\n",
    "Renato Naville Watanabe"
   ]
  },
  {
   "cell_type": "markdown",
   "metadata": {
    "slideshow": {
     "slide_type": "slide"
    }
   },
   "source": [
    "### Função\n",
    "\n",
    "Uma função é um conjunto de instruções que são executadas quando a função é chamada."
   ]
  },
  {
   "cell_type": "markdown",
   "metadata": {
    "slideshow": {
     "slide_type": "fragment"
    }
   },
   "source": [
    "Uma função pode ter qualquer número de entradas e qualquer número de saídas.\n",
    "\n",
    "![função](imagens/function.png)"
   ]
  },
  {
   "cell_type": "markdown",
   "metadata": {
    "slideshow": {
     "slide_type": "fragment"
    }
   },
   "source": [
    "Ao usar uma função não é necessário saber quais instruções a função executa. A única coisa que importa são os dados de entrada e o que a função retorna."
   ]
  },
  {
   "cell_type": "markdown",
   "metadata": {
    "slideshow": {
     "slide_type": "slide"
    }
   },
   "source": [
    "Ao longo do curso já foram utilizadas diversas funções. Por exemplo, a função que calcula o seno de um ângulo em radianos:"
   ]
  },
  {
   "cell_type": "code",
   "execution_count": 1,
   "metadata": {
    "slideshow": {
     "slide_type": "fragment"
    }
   },
   "outputs": [
    {
     "name": "stdout",
     "output_type": "stream",
     "text": [
      "0.49999999999999994\n"
     ]
    }
   ],
   "source": [
    "import numpy as np\n",
    "theta = np.pi/6\n",
    "senoTheta = np.sin(theta)\n",
    "print(senoTheta)"
   ]
  },
  {
   "cell_type": "markdown",
   "metadata": {
    "slideshow": {
     "slide_type": "fragment"
    }
   },
   "source": [
    "Note que não é necessário sabermos como a função 'np.sin' calcula o seno do ângulo. É necessário apenas saber que temos que fornecer um ângulo em radianos e que ela retorna o seno do ângulo."
   ]
  },
  {
   "cell_type": "markdown",
   "metadata": {
    "slideshow": {
     "slide_type": "slide"
    }
   },
   "source": [
    "### Definição de uma função no Python\n",
    "\n",
    "def NOME_DA_FUNÇÃO():  \n",
    "&nbsp;&nbsp;&nbsp;&nbsp;&nbsp;&nbsp;&nbsp;&nbsp;&nbsp;&nbsp;&nbsp;&nbsp;INSTRUÇÕES  \n",
    "\n",
    "Por exemplo, para definir uma função que imprime uma mensagem:"
   ]
  },
  {
   "cell_type": "code",
   "execution_count": 2,
   "metadata": {
    "slideshow": {
     "slide_type": "fragment"
    }
   },
   "outputs": [],
   "source": [
    "def imprimeMensagemBoasVindas():\n",
    "    print('Bem vindo')"
   ]
  },
  {
   "cell_type": "markdown",
   "metadata": {
    "slideshow": {
     "slide_type": "slide"
    }
   },
   "source": [
    "### Chamando uma função\n",
    "\n",
    "Ao definir a função a sequência de instruções da função não é executada. Para isso é necessário chamar essa função."
   ]
  },
  {
   "cell_type": "code",
   "execution_count": 3,
   "metadata": {
    "slideshow": {
     "slide_type": "fragment"
    }
   },
   "outputs": [
    {
     "name": "stdout",
     "output_type": "stream",
     "text": [
      "Bem vindo\n"
     ]
    }
   ],
   "source": [
    "imprimeMensagemBoasVindas()"
   ]
  },
  {
   "cell_type": "markdown",
   "metadata": {
    "slideshow": {
     "slide_type": "slide"
    }
   },
   "source": [
    "### Definição de uma função no Python que recebe uma entrada como parâmetro\n",
    "\n",
    "Uma função pode receber parâmetros como entrada. Esses parâmetros podem ser usados dentro da função.\n",
    "\n",
    "\n",
    "def NOME_DA_FUNÇÃO(varIn1):  \n",
    "&nbsp;&nbsp;&nbsp;&nbsp;&nbsp;&nbsp;&nbsp;&nbsp;&nbsp;&nbsp;&nbsp;&nbsp;INSTRUÇÕES  \n",
    "\n",
    "Por exemplo, uma função que recebe um número inteiro e mostra se esse número é par ou ímpar."
   ]
  },
  {
   "cell_type": "code",
   "execution_count": 1,
   "metadata": {
    "slideshow": {
     "slide_type": "fragment"
    }
   },
   "outputs": [],
   "source": [
    "def parOuImpar(n):\n",
    "    if n%2 == 0:\n",
    "        print(n, 'é par.')\n",
    "    else:\n",
    "        print(n, 'é ímpar.')"
   ]
  },
  {
   "cell_type": "markdown",
   "metadata": {
    "slideshow": {
     "slide_type": "fragment"
    }
   },
   "source": [
    "Agora, para chamar a função para testar para os número 5 e 12"
   ]
  },
  {
   "cell_type": "code",
   "execution_count": 2,
   "metadata": {
    "slideshow": {
     "slide_type": "fragment"
    }
   },
   "outputs": [
    {
     "name": "stdout",
     "output_type": "stream",
     "text": [
      "5 é ímpar.\n",
      "12 é par.\n"
     ]
    }
   ],
   "source": [
    "n1 = 5\n",
    "parOuImpar(n1)\n",
    "n2 = 12\n",
    "parOuImpar(n2)"
   ]
  },
  {
   "cell_type": "markdown",
   "metadata": {
    "slideshow": {
     "slide_type": "slide"
    }
   },
   "source": [
    "### Definição de uma função no Python que recebe entrada como parâmetro e retorna um número\n",
    "\n",
    "As funções também podem retornar uma variável para ser utilizada fora da função. Isso é feito com o comando 'return' seguido pela variável.\n",
    "\n",
    "def NOME_DA_FUNÇÃO(varIn1):  \n",
    "&nbsp;&nbsp;&nbsp;&nbsp;&nbsp;&nbsp;&nbsp;&nbsp;&nbsp;&nbsp;&nbsp;&nbsp;INSTRUÇÕES  \n",
    "&nbsp;&nbsp;&nbsp;&nbsp;&nbsp;&nbsp;&nbsp;&nbsp;&nbsp;&nbsp;&nbsp;&nbsp;return varOut1\n",
    "\n",
    "Por exemplo, uma função que calcula converte a temperatura de graus Celsius para Fahrenheit."
   ]
  },
  {
   "cell_type": "code",
   "execution_count": 3,
   "metadata": {
    "slideshow": {
     "slide_type": "fragment"
    }
   },
   "outputs": [],
   "source": [
    "import numpy as np\n",
    "def CelsiusParaFahrenheit(C):\n",
    "    F = C*9.0/5.0 + 32.0\n",
    "    print(C, 'Celsius é', F, 'Fahrenheit')\n",
    "    return F"
   ]
  },
  {
   "cell_type": "code",
   "execution_count": 4,
   "metadata": {
    "slideshow": {
     "slide_type": "fragment"
    }
   },
   "outputs": [
    {
     "name": "stdout",
     "output_type": "stream",
     "text": [
      "11 Celsius é 51.8 Fahrenheit\n",
      "31 Celsius é 87.8 Fahrenheit\n",
      "87.8 : esse print está fora da função\n"
     ]
    }
   ],
   "source": [
    "C1 = 11\n",
    "F1 = CelsiusParaFahrenheit(C1)\n",
    "C2 = 31\n",
    "F2 = CelsiusParaFahrenheit(C2)\n",
    "print(F2, ': esse print está fora da função')"
   ]
  },
  {
   "cell_type": "markdown",
   "metadata": {
    "slideshow": {
     "slide_type": "slide"
    }
   },
   "source": [
    "### Definição de uma função no Python que recebe mais de uma entrada como parâmetro e retorna mais de uma variável\n",
    "\n",
    "As variáveis de entrada e de saída são separadas por vírgula.\n",
    "\n",
    "def NOME_DA_FUNÇÃO(varIn1, varIn2, ..., varInn):  \n",
    "&nbsp;&nbsp;&nbsp;&nbsp;&nbsp;&nbsp;&nbsp;&nbsp;&nbsp;&nbsp;&nbsp;&nbsp;INSTRUÇÕES  \n",
    "&nbsp;&nbsp;&nbsp;&nbsp;&nbsp;&nbsp;&nbsp;&nbsp;&nbsp;&nbsp;&nbsp;&nbsp;return varOut1, varOut2, ..., varOutn\n",
    "\n",
    "Por exemplo, a seguinte função que calcula a área e a diagonal de um retângulo, com lados a e b:"
   ]
  },
  {
   "cell_type": "code",
   "execution_count": 5,
   "metadata": {
    "slideshow": {
     "slide_type": "fragment"
    }
   },
   "outputs": [],
   "source": [
    "def calculaAreaEDiagonal(a, b):\n",
    "    A = a*b # área\n",
    "    d = np.sqrt(a**2 + b**2) # diagonal\n",
    "    return A, d"
   ]
  },
  {
   "cell_type": "code",
   "execution_count": 6,
   "metadata": {
    "slideshow": {
     "slide_type": "fragment"
    }
   },
   "outputs": [
    {
     "name": "stdout",
     "output_type": "stream",
     "text": [
      "Área =  12 e diagonal =  5.0\n"
     ]
    }
   ],
   "source": [
    "a1 = 3\n",
    "b1 = 4\n",
    "A1, d1 = calculaAreaEDiagonal(a1, b1)\n",
    "print('Área = ', A1, 'e diagonal = ', d1)"
   ]
  },
  {
   "cell_type": "markdown",
   "metadata": {
    "slideshow": {
     "slide_type": "slide"
    }
   },
   "source": [
    "### Uma variável que é criada dentro de uma função só existe dentro da função\n",
    "\n",
    "Uma variável criada dentro de uma função existe apenas enquanto a função está sendo executada. Se você quiser que um valor calculado seja usado fora da função ele deve ser retornado com o comando return."
   ]
  },
  {
   "cell_type": "code",
   "execution_count": 7,
   "metadata": {
    "slideshow": {
     "slide_type": "fragment"
    }
   },
   "outputs": [],
   "source": [
    "def calculaAreaEDiagonal(a, b):\n",
    "    A = a*b # área\n",
    "    termo1quadrado = a**2\n",
    "    termo2quadrado = b**2\n",
    "    d = np.sqrt(termo1quadrado + termo2quadrado) # diagonal\n",
    "    return A, d"
   ]
  },
  {
   "cell_type": "code",
   "execution_count": 8,
   "metadata": {
    "slideshow": {
     "slide_type": "fragment"
    }
   },
   "outputs": [
    {
     "name": "stdout",
     "output_type": "stream",
     "text": [
      "12.719999999999999 m²,  5.818075283115543 m\n"
     ]
    },
    {
     "ename": "NameError",
     "evalue": "name 'termo1quadrado' is not defined",
     "output_type": "error",
     "traceback": [
      "\u001b[0;31m---------------------------------------------------------------------------\u001b[0m",
      "\u001b[0;31mNameError\u001b[0m                                 Traceback (most recent call last)",
      "Cell \u001b[0;32mIn [8], line 5\u001b[0m\n\u001b[1;32m      3\u001b[0m A3, d3 \u001b[38;5;241m=\u001b[39m calculaAreaEDiagonal(a3, b3)\n\u001b[1;32m      4\u001b[0m \u001b[38;5;28mprint\u001b[39m(A3, \u001b[38;5;124m'\u001b[39m\u001b[38;5;124mm², \u001b[39m\u001b[38;5;124m'\u001b[39m, d3, \u001b[38;5;124m'\u001b[39m\u001b[38;5;124mm\u001b[39m\u001b[38;5;124m'\u001b[39m)\n\u001b[0;32m----> 5\u001b[0m \u001b[38;5;28mprint\u001b[39m(\u001b[43mtermo1quadrado\u001b[49m)\n",
      "\u001b[0;31mNameError\u001b[0m: name 'termo1quadrado' is not defined"
     ]
    }
   ],
   "source": [
    "a3 = 2.4\n",
    "b3 = 5.3\n",
    "A3, d3 = calculaAreaEDiagonal(a3, b3)\n",
    "print(A3, 'm², ', d3, 'm')\n",
    "print(termo1quadrado)"
   ]
  },
  {
   "cell_type": "markdown",
   "metadata": {
    "slideshow": {
     "slide_type": "fragment"
    }
   },
   "source": [
    "A variável termo1quadrado não existe fora da função 'calculaAreaEDiagonal'. Por isso esta variável não foi encontrada."
   ]
  },
  {
   "cell_type": "markdown",
   "metadata": {
    "slideshow": {
     "slide_type": "slide"
    }
   },
   "source": [
    "### Uma função chamando uma função\n",
    "\n",
    "Uma função pode chamar uma outra função. Por exemplo, no caso abaixo, a função 'aproximaPi', que calcula o valor de $\\pi$ utilizando a fórmula de Leibniz (ver [aula 6](https://nbviewer.jupyter.org/format/slides/github/rnwatanabe/BasesComputacionais2019/blob/master/aula6/EstruturasDeRepeticao.ipynb#/19)) com n termos, chama a função 'ePar' que retorna True se o número for par e False se o número for ímpar."
   ]
  },
  {
   "cell_type": "code",
   "execution_count": 9,
   "metadata": {
    "slideshow": {
     "slide_type": "fragment"
    }
   },
   "outputs": [],
   "source": [
    "def ePar(n):    \n",
    "    if n%2 == 0:\n",
    "        par = True\n",
    "    else:\n",
    "        par = False\n",
    "    return par\n",
    "\n",
    "def aproximaPi(n):\n",
    "    PI = 0\n",
    "    for i in range(n):\n",
    "        if ePar(i):\n",
    "            sinal = 1\n",
    "        else:\n",
    "            sinal = -1\n",
    "        PI = PI + sinal*4/(2*i+1)\n",
    "    return PI"
   ]
  },
  {
   "cell_type": "code",
   "execution_count": 10,
   "metadata": {
    "slideshow": {
     "slide_type": "fragment"
    }
   },
   "outputs": [
    {
     "name": "stdout",
     "output_type": "stream",
     "text": [
      "3.1415826535897198\n"
     ]
    }
   ],
   "source": [
    "PI = aproximaPi(100000)\n",
    "print(PI)"
   ]
  },
  {
   "cell_type": "markdown",
   "metadata": {
    "slideshow": {
     "slide_type": "slide"
    }
   },
   "source": [
    "### Comentário de uma função\n",
    "\n",
    "Ao fazer o comentário de uma função deve ser descrito o que ela faz (geralmente não se explica o como faz). Particularmente devem ser descritos os parâmetros de entrada e o que a função retorna. Por exemplo a função 'ePar' e 'aproximaPi':"
   ]
  },
  {
   "cell_type": "code",
   "execution_count": 11,
   "metadata": {
    "slideshow": {
     "slide_type": "fragment"
    }
   },
   "outputs": [],
   "source": [
    "def ePar(n):  \n",
    "    '''\n",
    "    Retorna True se n é par e False se n é impar.\n",
    "    \n",
    "    Parâmetros:\n",
    "    -----------------------------\n",
    "    n: int\n",
    "       número inteiro no qual será feita a verificação.\n",
    "    \n",
    "    Retorna\n",
    "    ----------------------------\n",
    "    par: boolean\n",
    "         True indica que n é par. False indica que n é ímpar.\n",
    "    '''\n",
    "    if n%2 == 0:\n",
    "        par = True\n",
    "    else:\n",
    "        par = False\n",
    "    return par"
   ]
  },
  {
   "cell_type": "code",
   "execution_count": 12,
   "metadata": {
    "slideshow": {
     "slide_type": "slide"
    }
   },
   "outputs": [],
   "source": [
    "def aproximaPi(n):\n",
    "    '''\n",
    "    Aproxima o valor de pi utilizando a fórmula de Leibniz.\n",
    "    \n",
    "    Parâmetros:\n",
    "    -----------------------------\n",
    "    n: int\n",
    "       número de termos utilizados na fórmula de Leibniz\n",
    "    \n",
    "    Retorna\n",
    "    ----------------------------\n",
    "    PI: float\n",
    "         Aproximação de pi.\n",
    "    '''\n",
    "    PI = 0\n",
    "    for i in range(n):\n",
    "        if ePar(i):\n",
    "            sinal = 1\n",
    "        else:\n",
    "            sinal = -1\n",
    "        PI = PI + sinal*4/(2*i+1)\n",
    "    return PI"
   ]
  },
  {
   "cell_type": "markdown",
   "metadata": {
    "slideshow": {
     "slide_type": "slide"
    }
   },
   "source": [
    "Você pode ler o comentário escrito na função com o comando 'help()'."
   ]
  },
  {
   "cell_type": "code",
   "execution_count": 13,
   "metadata": {
    "slideshow": {
     "slide_type": "fragment"
    }
   },
   "outputs": [
    {
     "name": "stdout",
     "output_type": "stream",
     "text": [
      "Help on function aproximaPi in module __main__:\n",
      "\n",
      "aproximaPi(n)\n",
      "    Aproxima o valor de pi utilizando a fórmula de Leibniz.\n",
      "    \n",
      "    Parâmetros:\n",
      "    -----------------------------\n",
      "    n: int\n",
      "       número de termos utilizados na fórmula de Leibniz\n",
      "    \n",
      "    Retorna\n",
      "    ----------------------------\n",
      "    PI: float\n",
      "         Aproximação de pi.\n",
      "\n"
     ]
    }
   ],
   "source": [
    "help(aproximaPi)"
   ]
  },
  {
   "cell_type": "markdown",
   "metadata": {
    "slideshow": {
     "slide_type": "slide"
    }
   },
   "source": [
    "Você pode ler a documentação de qualquer função pré-existente no Python e suas bibliotecas com o comando 'help()'. Por exemplo, a função 'np.linspace()'."
   ]
  },
  {
   "cell_type": "code",
   "execution_count": 14,
   "metadata": {
    "slideshow": {
     "slide_type": "fragment"
    }
   },
   "outputs": [
    {
     "name": "stdout",
     "output_type": "stream",
     "text": [
      "Help on function linspace in module numpy:\n",
      "\n",
      "linspace(start, stop, num=50, endpoint=True, retstep=False, dtype=None, axis=0)\n",
      "    Return evenly spaced numbers over a specified interval.\n",
      "    \n",
      "    Returns `num` evenly spaced samples, calculated over the\n",
      "    interval [`start`, `stop`].\n",
      "    \n",
      "    The endpoint of the interval can optionally be excluded.\n",
      "    \n",
      "    .. versionchanged:: 1.16.0\n",
      "        Non-scalar `start` and `stop` are now supported.\n",
      "    \n",
      "    .. versionchanged:: 1.20.0\n",
      "        Values are rounded towards ``-inf`` instead of ``0`` when an\n",
      "        integer ``dtype`` is specified. The old behavior can\n",
      "        still be obtained with ``np.linspace(start, stop, num).astype(int)``\n",
      "    \n",
      "    Parameters\n",
      "    ----------\n",
      "    start : array_like\n",
      "        The starting value of the sequence.\n",
      "    stop : array_like\n",
      "        The end value of the sequence, unless `endpoint` is set to False.\n",
      "        In that case, the sequence consists of all but the last of ``num + 1``\n",
      "        evenly spaced samples, so that `stop` is excluded.  Note that the step\n",
      "        size changes when `endpoint` is False.\n",
      "    num : int, optional\n",
      "        Number of samples to generate. Default is 50. Must be non-negative.\n",
      "    endpoint : bool, optional\n",
      "        If True, `stop` is the last sample. Otherwise, it is not included.\n",
      "        Default is True.\n",
      "    retstep : bool, optional\n",
      "        If True, return (`samples`, `step`), where `step` is the spacing\n",
      "        between samples.\n",
      "    dtype : dtype, optional\n",
      "        The type of the output array.  If `dtype` is not given, the data type\n",
      "        is inferred from `start` and `stop`. The inferred dtype will never be\n",
      "        an integer; `float` is chosen even if the arguments would produce an\n",
      "        array of integers.\n",
      "    \n",
      "        .. versionadded:: 1.9.0\n",
      "    \n",
      "    axis : int, optional\n",
      "        The axis in the result to store the samples.  Relevant only if start\n",
      "        or stop are array-like.  By default (0), the samples will be along a\n",
      "        new axis inserted at the beginning. Use -1 to get an axis at the end.\n",
      "    \n",
      "        .. versionadded:: 1.16.0\n",
      "    \n",
      "    Returns\n",
      "    -------\n",
      "    samples : ndarray\n",
      "        There are `num` equally spaced samples in the closed interval\n",
      "        ``[start, stop]`` or the half-open interval ``[start, stop)``\n",
      "        (depending on whether `endpoint` is True or False).\n",
      "    step : float, optional\n",
      "        Only returned if `retstep` is True\n",
      "    \n",
      "        Size of spacing between samples.\n",
      "    \n",
      "    \n",
      "    See Also\n",
      "    --------\n",
      "    arange : Similar to `linspace`, but uses a step size (instead of the\n",
      "             number of samples).\n",
      "    geomspace : Similar to `linspace`, but with numbers spaced evenly on a log\n",
      "                scale (a geometric progression).\n",
      "    logspace : Similar to `geomspace`, but with the end points specified as\n",
      "               logarithms.\n",
      "    \n",
      "    Examples\n",
      "    --------\n",
      "    >>> np.linspace(2.0, 3.0, num=5)\n",
      "    array([2.  , 2.25, 2.5 , 2.75, 3.  ])\n",
      "    >>> np.linspace(2.0, 3.0, num=5, endpoint=False)\n",
      "    array([2. ,  2.2,  2.4,  2.6,  2.8])\n",
      "    >>> np.linspace(2.0, 3.0, num=5, retstep=True)\n",
      "    (array([2.  ,  2.25,  2.5 ,  2.75,  3.  ]), 0.25)\n",
      "    \n",
      "    Graphical illustration:\n",
      "    \n",
      "    >>> import matplotlib.pyplot as plt\n",
      "    >>> N = 8\n",
      "    >>> y = np.zeros(N)\n",
      "    >>> x1 = np.linspace(0, 10, N, endpoint=True)\n",
      "    >>> x2 = np.linspace(0, 10, N, endpoint=False)\n",
      "    >>> plt.plot(x1, y, 'o')\n",
      "    [<matplotlib.lines.Line2D object at 0x...>]\n",
      "    >>> plt.plot(x2, y + 0.5, 'o')\n",
      "    [<matplotlib.lines.Line2D object at 0x...>]\n",
      "    >>> plt.ylim([-0.5, 1])\n",
      "    (-0.5, 1)\n",
      "    >>> plt.show()\n",
      "\n"
     ]
    }
   ],
   "source": [
    "help(np.linspace)"
   ]
  },
  {
   "cell_type": "markdown",
   "metadata": {
    "slideshow": {
     "slide_type": "slide"
    }
   },
   "source": [
    "### Qual a utilidade de usar funções\n",
    "\n",
    "São duas as principais razões de usar funções ao escrever um programa de computador:\n",
    "\n",
    "- Reuso: você consegue usar o mesmo código diversas vezes. Isso te poupa de ficar reescrevendo a mesma coisa várias vezes. Além disso, se você encontrar um erro,  é necessário corrigi-lo em apenas um lugar.\n",
    "\n",
    "- Modularidade: cada pequena parte do código fica separada da outra. Isso torna mais fácil encontrar erros. Além disso é mais fácil a leitura do código por uma pessoa."
   ]
  },
  {
   "cell_type": "markdown",
   "metadata": {
    "slideshow": {
     "slide_type": "slide"
    }
   },
   "source": [
    "### Tarefa (para agora)\n",
    "\n",
    "- Escrever um notebook do Colab para fazer o que pedido a seguir.\n",
    "\n",
    "- Colocar o seu nome na primeira célula do Notebook.\n",
    "\n",
    "- O notebook deve estar com texto explicando o Notebook. \n",
    "\n",
    "- Todos os resultados devem ser mostrados ao executar o notebook.\n",
    "\n",
    "- Coloque no seu repositório do Github o arquivo '.ipynb' contendo o notebook feito por você com o nome \"Tarefa15SeuNome.ipynb\".\n",
    "\n",
    "**1)** Faça uma função que receba um número **a**, um número **b** e um número **x**. Esta função deve retornar **True** se **x** estiver entre **a** e **b** e **False** caso contrário. Além disso a função deve mostrar uma mensagem dizendo se **x** está no intervalo entre **a** e **b** ou não.\n",
    "\n",
    "Teste para \n",
    "- a) a = -2.5, b = 6.3 e x = 9.1; \n",
    "- b) a = -10, b = 7 e x = 2.2\n",
    "- c) a = 67.2, b = 87.2 e x = 8.1\n",
    "\n",
    "Sugestão: \n",
    "\n",
    "a função pode ter a seguinte estrutura:\n",
    "```python\n",
    "def estaNoIntervalo(a, b, x):\n",
    "    ...\n",
    "    return resposta\n",
    "```"
   ]
  },
  {
   "cell_type": "markdown",
   "metadata": {
    "slideshow": {
     "slide_type": "slide"
    }
   },
   "source": [
    "### Tarefa (para antes da próxima aula)\n",
    "\n",
    "- Escrever um notebook do Colab para fazer o que pedido a seguir.\n",
    "\n",
    "- Colocar o seu nome na primeira célula do Notebook.\n",
    "\n",
    "- O notebook deve estar com texto explicando o Notebook. \n",
    "\n",
    "- Todos os resultados devem ser mostrados ao executar o notebook.\n",
    "\n",
    "- Não se esqueça de indicar o significado de cada eixo, colocando a unidade da abscissa e da ordenada nos gráficos.\n",
    "\n",
    "- Coloque no seu repositório do Github o arquivo '.ipynb' contendo o notebook feito por você com o nome \"Tarefa16SeuNome.ipynb\"."
   ]
  },
  {
   "cell_type": "markdown",
   "metadata": {
    "slideshow": {
     "slide_type": "slide"
    }
   },
   "source": [
    "**1)** Faça uma função que receba um vetor **t**,um valor **A**, um valor **b** e um valor **c** e retorne um outro vetor **x**.\n",
    "\n",
    "$$x(t)  = A\\sqrt{1+bt^2} + c$$\n",
    "\n",
    "Além disso a função deve plotar o gráfico de **x** em função de **t**.\n",
    "\n",
    "Teste para \n",
    "- *a)* t indo de 0 a 10 com 1000 pontos, A = 2, b = 0.5, c = 0; \n",
    "- *b)* t indo de 0 a 15 com intervalo de 0.2 entre os valores do vetor, A = 10, b = 0.2, c = 1\n",
    "- *c*) t indo de -0,5 a 0,5 com 500 pontos, A = -3, b = -1.5, c = -10; "
   ]
  },
  {
   "cell_type": "markdown",
   "metadata": {
    "slideshow": {
     "slide_type": "slide"
    }
   },
   "source": [
    "**2)** Faça uma função que ao ser executada sorteia um número entre 0 e 1. Se esse número for menor do que 0,5 apareça na tela a mensagem 'Cara'. Se esse número for maior do que 0,5  apareça a mensagem 'Coroa'. Uma sugestão do nome da função é 'cara_ou_coroa'.\n",
    "\n",
    "Teste a função chamando 10 vezes a função que você fez. \n",
    "\n",
    "Dica: o comando 'np.random.rand(n)' gera n números aleatórios entre 0 e 1."
   ]
  },
  {
   "cell_type": "markdown",
   "metadata": {
    "slideshow": {
     "slide_type": "slide"
    }
   },
   "source": [
    "**3)** Faça uma função que retorne a **moda** (ver [aula 7](https://nbviewer.jupyter.org/format/slides/github/rnwatanabe/BasesComputacionais2019/blob/master/aula7/Estatistica.ipynb#/12)) de uma **coluna** de um **DataFrame do Pandas**. As entradas devem ser o **DataFrame do Pandas** e o **nome da coluna**. Além de retornar a **moda**, a função deve mostrar na tela qual é a moda encontrada\n",
    "\n",
    "Para testar a função, compute a moda dos Estádios no campeonato brasileiro de futebol de 2018. Para isso, use o arquivo [com todos os resultados do campeonato Brasileiro de futebol de 2018 (tabelaBrasileirao2018.csv encontrado na pasta aula7/dados)](dados/tabelaBrasileirao2018.csv) (dados obtidos [desta](<https://pt.wikipedia.org/wiki/Resultados_do_Campeonato_Brasileiro_de_Futebol_de_2018_-_S%C3%A9rie_A_(primeiro_turno)>) e [desta](<https://pt.wikipedia.org/wiki/Resultados_do_Campeonato_Brasileiro_de_Futebol_de_2018_-_S%C3%A9rie_A_(segundo_turno)>) página da Wikipedia).\n",
    "\n"
   ]
  },
  {
   "cell_type": "markdown",
   "metadata": {
    "slideshow": {
     "slide_type": "slide"
    }
   },
   "source": [
    "**4)** Dados valores **x1**, **y1**, **x2**, **y2**, sendo esses valores das coordenadas $(x_1, y_1)$ e $(x_2, y_2)$ de dois pontos. \n",
    "\n",
    "Fazer uma função que encontre a inclinação da reta **m** e o ponto **b** em que a reta cruza o eixo y da reta $y = mx+b$ que passa pelos dois pontos. Além disso deve ser feito o gráfico da reta encontrada com **N** pontos, além de mostrar os dois pontos dados como entrada, indicados com marcadores quadrados.\n",
    "\n",
    "Essa função deve retornar **m** e **b** e receber como parâmetros **x1**, **y1**, **x2**, **y2** e **N**.\n",
    "\n",
    "Dica: a inclinação de uma reta, dados dois pontos é:\n",
    "\n",
    "$$m = \\frac{y_2-y_1}{x_2-x_1} $$\n",
    "\n",
    "e o ponto que cruza o eixo y é:\n",
    "\n",
    "$$b = y_1 - mx_1$$\n",
    "\n",
    "Teste para: \n",
    "\n",
    "- a) x1 = -19, y1 = 2, x2 = 10, y2 = -10, N = 1000\n",
    "- b) x1 = -2, y1 = 8, x2 = 20, y2 = 43, N = 2000\n",
    "- c) x1 = 7, y1 = 13, x2 = 1, y2 = 2, N = 500"
   ]
  },
  {
   "cell_type": "markdown",
   "metadata": {
    "slideshow": {
     "slide_type": "slide"
    }
   },
   "source": [
    "### Referências\n",
    "\n",
    "- Chalco, JM, *Slides de Bases Computacionais da Ciência*, (2014)\n",
    "- Leite, S, *Slides de Bases Computacionais da Ciência*, (2018)\n",
    "- [Marietto, MGB et al.; **Bases computacionais da Ciência** (2013)](http://prograd.ufabc.edu.br/images/pdf/bases_computacionais_livro.pdf).\n",
    "- Miller, B, Ranum, D; [**Funções In:Como pensar como um Cientista da Computação**](https://panda.ime.usp.br/pensepy/static/pensepy/05-Funcoes/funcoes.html)\n",
    "- [Wikipedia](www.wikipedia.com.br)"
   ]
  },
  {
   "cell_type": "code",
   "execution_count": null,
   "metadata": {},
   "outputs": [],
   "source": []
  }
 ],
 "metadata": {
  "celltoolbar": "Slideshow",
  "kernelspec": {
   "display_name": "Python 3 (ipykernel)",
   "language": "python",
   "name": "python3"
  },
  "language_info": {
   "codemirror_mode": {
    "name": "ipython",
    "version": 3
   },
   "file_extension": ".py",
   "mimetype": "text/x-python",
   "name": "python",
   "nbconvert_exporter": "python",
   "pygments_lexer": "ipython3",
   "version": "3.9.13"
  },
  "latex_envs": {
   "LaTeX_envs_menu_present": true,
   "autoclose": false,
   "autocomplete": true,
   "bibliofile": "biblio.bib",
   "cite_by": "apalike",
   "current_citInitial": 1,
   "eqLabelWithNumbers": true,
   "eqNumInitial": 1,
   "hotkeys": {
    "equation": "Ctrl-E",
    "itemize": "Ctrl-I"
   },
   "labels_anchors": false,
   "latex_user_defs": false,
   "report_style_numbering": false,
   "user_envs_cfg": false
  },
  "nbTranslate": {
   "displayLangs": [
    "*"
   ],
   "hotkey": "alt-t",
   "langInMainMenu": true,
   "sourceLang": "en",
   "targetLang": "fr",
   "useGoogleTranslate": true
  }
 },
 "nbformat": 4,
 "nbformat_minor": 4
}
