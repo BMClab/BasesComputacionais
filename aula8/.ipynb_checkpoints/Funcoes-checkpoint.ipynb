{
 "cells": [
  {
   "cell_type": "markdown",
   "metadata": {
    "slideshow": {
     "slide_type": "slide"
    }
   },
   "source": [
    "# Funções\n",
    "\n",
    "Renato Naville Watanabe"
   ]
  },
  {
   "cell_type": "markdown",
   "metadata": {
    "slideshow": {
     "slide_type": "slide"
    }
   },
   "source": [
    "### Função\n",
    "\n",
    "Uma função é um conjunto de instruções que são executadas quando a função é chamada."
   ]
  },
  {
   "cell_type": "markdown",
   "metadata": {
    "slideshow": {
     "slide_type": "slide"
    }
   },
   "source": [
    "### Definição de uma função no Python\n",
    "\n",
    "def NOME_DA_FUNÇÃO():  \n",
    "&nbsp;&nbsp;&nbsp;&nbsp;&nbsp;&nbsp;&nbsp;&nbsp;&nbsp;&nbsp;&nbsp;&nbsp;INSTRUÇÕES  \n",
    "\n",
    "Por exemplo, para definir uma função que imprime uma mensagem:"
   ]
  },
  {
   "cell_type": "code",
   "execution_count": 27,
   "metadata": {
    "slideshow": {
     "slide_type": "fragment"
    }
   },
   "outputs": [],
   "source": [
    "def imprimeMensagemBoasVindas():\n",
    "    print('Bem vindo')"
   ]
  },
  {
   "cell_type": "markdown",
   "metadata": {
    "slideshow": {
     "slide_type": "slide"
    }
   },
   "source": [
    "### Chamando uma função\n",
    "\n",
    "Ao definir a função a sequência de instruções da função não é executada. Para isso é necessário chamar essa função."
   ]
  },
  {
   "cell_type": "code",
   "execution_count": 28,
   "metadata": {
    "slideshow": {
     "slide_type": "fragment"
    }
   },
   "outputs": [
    {
     "name": "stdout",
     "output_type": "stream",
     "text": [
      "Bem vindo\n"
     ]
    }
   ],
   "source": [
    "imprimeMensagemBoasVindas()"
   ]
  },
  {
   "cell_type": "markdown",
   "metadata": {
    "slideshow": {
     "slide_type": "slide"
    }
   },
   "source": [
    "### Definição de uma função no Python que recebe uma entrada como parâmetro\n",
    "\n",
    "Uma função pode receber parâmetros como entrada. Esses parâmetros podem ser usados dentro da função.\n",
    "\n",
    "\n",
    "def NOME_DA_FUNÇÃO(varIn1):  \n",
    "&nbsp;&nbsp;&nbsp;&nbsp;&nbsp;&nbsp;&nbsp;&nbsp;&nbsp;&nbsp;&nbsp;&nbsp;INSTRUÇÕES  \n",
    "\n",
    "Por exemplo, uma função que recebe um número inteiro e mostra se esse número é par ou ímpar."
   ]
  },
  {
   "cell_type": "code",
   "execution_count": 29,
   "metadata": {
    "slideshow": {
     "slide_type": "fragment"
    }
   },
   "outputs": [],
   "source": [
    "def parOuImpar(n):\n",
    "    if n%2 == 0:\n",
    "        print(n, 'é par.')\n",
    "    else:\n",
    "        print(n, 'é ímpar.')"
   ]
  },
  {
   "cell_type": "markdown",
   "metadata": {
    "slideshow": {
     "slide_type": "fragment"
    }
   },
   "source": [
    "Agora, para chamar a função para testar para os número 5 e 12"
   ]
  },
  {
   "cell_type": "code",
   "execution_count": 30,
   "metadata": {
    "slideshow": {
     "slide_type": "fragment"
    }
   },
   "outputs": [
    {
     "name": "stdout",
     "output_type": "stream",
     "text": [
      "5 é ímpar.\n",
      "12 é par.\n"
     ]
    }
   ],
   "source": [
    "n1 = 5\n",
    "parOuImpar(n1)\n",
    "n2 = 12\n",
    "parOuImpar(n2)"
   ]
  },
  {
   "cell_type": "markdown",
   "metadata": {
    "slideshow": {
     "slide_type": "slide"
    }
   },
   "source": [
    "### Definição de uma função no Python que recebe entrada como parâmetro e retorna um número\n",
    "\n",
    "As funções também podem retornar uma variável para ser utilizada fora da função. Isso é feito com o comando 'return' seguido pela variável.\n",
    "\n",
    "def NOME_DA_FUNÇÃO(varIn1):  \n",
    "&nbsp;&nbsp;&nbsp;&nbsp;&nbsp;&nbsp;&nbsp;&nbsp;&nbsp;&nbsp;&nbsp;&nbsp;INSTRUÇÕES  \n",
    "&nbsp;&nbsp;&nbsp;&nbsp;&nbsp;&nbsp;&nbsp;&nbsp;&nbsp;&nbsp;&nbsp;&nbsp;return varOut1\n",
    "\n",
    "Por exemplo, uma função que calcula converte a temperatura de graus Celsius para Fahrenheit."
   ]
  },
  {
   "cell_type": "code",
   "execution_count": 35,
   "metadata": {
    "slideshow": {
     "slide_type": "fragment"
    }
   },
   "outputs": [],
   "source": [
    "import numpy as np\n",
    "def CelsiusParaFahrenheit(C):\n",
    "    F = C*9.0/5.0 + 32.0\n",
    "    print(C, 'Celsius é', F, 'Fahrenheit')\n",
    "    return F"
   ]
  },
  {
   "cell_type": "code",
   "execution_count": 36,
   "metadata": {
    "slideshow": {
     "slide_type": "fragment"
    }
   },
   "outputs": [
    {
     "name": "stdout",
     "output_type": "stream",
     "text": [
      "11 Celsius é 51.8 Fahrenheit\n",
      "31 Celsius é 87.8 Fahrenheit\n",
      "87.8 : isso está fora da função\n"
     ]
    }
   ],
   "source": [
    "C1 = 11\n",
    "F1 = CelsiusParaFahrenheit(C1)\n",
    "C2 = 31\n",
    "F2 = CelsiusParaFahrenheit(C2)\n",
    "print(F2, ': isso está fora da função')"
   ]
  },
  {
   "cell_type": "markdown",
   "metadata": {
    "slideshow": {
     "slide_type": "slide"
    }
   },
   "source": [
    "### Definição de uma função no Python que recebe mais de uma entrada como parâmetro e retorna mais de uma variável\n",
    "\n",
    "As variáveis de entrada e de saída são separadas por vírgula.\n",
    "\n",
    "def NOME_DA_FUNÇÃO(varIn1, varIn2, ..., varInn):  \n",
    "&nbsp;&nbsp;&nbsp;&nbsp;&nbsp;&nbsp;&nbsp;&nbsp;&nbsp;&nbsp;&nbsp;&nbsp;INSTRUÇÕES  \n",
    "&nbsp;&nbsp;&nbsp;&nbsp;&nbsp;&nbsp;&nbsp;&nbsp;&nbsp;&nbsp;&nbsp;&nbsp;return varOut1, varOut2, ..., varOutn\n",
    "\n",
    "Por exemplo, a seguinte função que calcula a área e a diagonal de um retângulo, com lados a e b:"
   ]
  },
  {
   "cell_type": "code",
   "execution_count": 37,
   "metadata": {
    "slideshow": {
     "slide_type": "fragment"
    }
   },
   "outputs": [],
   "source": [
    "def calculaAreaEDiagonal(a, b):\n",
    "    A = a*b # área\n",
    "    d = np.sqrt(a**2 + b**2) # diagonal\n",
    "    return A, d"
   ]
  },
  {
   "cell_type": "code",
   "execution_count": 38,
   "metadata": {
    "slideshow": {
     "slide_type": "fragment"
    }
   },
   "outputs": [
    {
     "name": "stdout",
     "output_type": "stream",
     "text": [
      "Área =  12 e diagonal =  5.0\n"
     ]
    }
   ],
   "source": [
    "a1 = 3\n",
    "b1 = 4\n",
    "A1, d1 = calculaAreaEDiagonal(a1, b1)\n",
    "print('Área = ', A1, 'e diagonal = ', d1)"
   ]
  },
  {
   "cell_type": "markdown",
   "metadata": {
    "slideshow": {
     "slide_type": "slide"
    }
   },
   "source": [
    "### Uma variável que é criada dentro de uma função só existe dentro da função\n",
    "\n",
    "Uma variável criada dentro de uma função existe apenas enquanto a função está sendo executada. Se você quiser que um valor calculado seja usado fora da função ele deve ser retornado com o comando return."
   ]
  },
  {
   "cell_type": "code",
   "execution_count": 49,
   "metadata": {
    "slideshow": {
     "slide_type": "fragment"
    }
   },
   "outputs": [],
   "source": [
    "def calculaAreaEDiagonal(a, b):\n",
    "    A = a*b # área\n",
    "    termo1quadrado = a**2\n",
    "    termo2quadrado = b**2\n",
    "    d = np.sqrt(termo1quadrado + termo2quadrado) # diagonal\n",
    "    return A, d"
   ]
  },
  {
   "cell_type": "code",
   "execution_count": null,
   "metadata": {},
   "outputs": [],
   "source": [
    "\n",
    "A, d = calculaAreaEDiagonal()"
   ]
  },
  {
   "cell_type": "markdown",
   "metadata": {
    "slideshow": {
     "slide_type": "slide"
    }
   },
   "source": [
    "### Uma função chamando uma função\n",
    "\n",
    "Uma função pode chamar uma outra função. Por exemplo, no caso abaixo, a função 'aproximaPi', que calcula o valor de $\\pi$ utilizando a fórmula de Leibniz (ver [aula 6](https://nbviewer.jupyter.org/format/slides/github/rnwatanabe/BasesComputacionais2019/blob/master/aula6/EstruturasDeRepeticao.ipynb#/19)) com n termos, chama a função 'ePar' que retorna True se o número for par e False se o número for ímpar."
   ]
  },
  {
   "cell_type": "code",
   "execution_count": 40,
   "metadata": {
    "slideshow": {
     "slide_type": "fragment"
    }
   },
   "outputs": [],
   "source": [
    "def ePar(n):    \n",
    "    if n%2 == 0:\n",
    "        par = True\n",
    "    else:\n",
    "        par = False\n",
    "    return par\n",
    "\n",
    "def aproximaPi(n):\n",
    "    PI = 0\n",
    "    for i in range(n):\n",
    "        if ePar(i):\n",
    "            sinal = 1\n",
    "        else:\n",
    "            sinal = -1\n",
    "        PI = PI + sinal*4/(2*i+1)\n",
    "    return PI"
   ]
  },
  {
   "cell_type": "code",
   "execution_count": 41,
   "metadata": {
    "slideshow": {
     "slide_type": "fragment"
    }
   },
   "outputs": [
    {
     "name": "stdout",
     "output_type": "stream",
     "text": [
      "3.1415826535897198\n"
     ]
    }
   ],
   "source": [
    "PI = aproximaPi(100000)\n",
    "print(PI)"
   ]
  },
  {
   "cell_type": "markdown",
   "metadata": {
    "slideshow": {
     "slide_type": "slide"
    }
   },
   "source": [
    "### Comentário de uma função\n",
    "\n",
    "Ao fazer o comentário de uma função deve ser descrito o que ela faz (geralmente não se explica o como faz). Particularmente devem ser descritos os parâmetros de entrada e o que a função retorna. Por exemplo a função 'ePar' e 'aproximaPi':"
   ]
  },
  {
   "cell_type": "code",
   "execution_count": 42,
   "metadata": {
    "slideshow": {
     "slide_type": "fragment"
    }
   },
   "outputs": [],
   "source": [
    "def ePar(n):  \n",
    "    '''\n",
    "    Retorna True se n é par e False se n é impar.\n",
    "    \n",
    "    Parâmetros:\n",
    "    -----------------------------\n",
    "    n: int\n",
    "       número inteiro no qual será feita a verificação.\n",
    "    \n",
    "    Retorna\n",
    "    ----------------------------\n",
    "    par: boolean\n",
    "         True indica que n é par. False indica que n é ímpar.\n",
    "    '''\n",
    "    if n%2 == 0:\n",
    "        par = True\n",
    "    else:\n",
    "        par = False\n",
    "    return par"
   ]
  },
  {
   "cell_type": "code",
   "execution_count": 43,
   "metadata": {
    "slideshow": {
     "slide_type": "slide"
    }
   },
   "outputs": [],
   "source": [
    "def aproximaPi(n):\n",
    "    '''\n",
    "    Aproxima o valor de pi utilizando a fórmula de Leibniz.\n",
    "    \n",
    "    Parâmetros:\n",
    "    -----------------------------\n",
    "    n: int\n",
    "       número de termos utilizados na fórmula de Leibniz\n",
    "    \n",
    "    Retorna\n",
    "    ----------------------------\n",
    "    PI: float\n",
    "         Aproximação de pi.\n",
    "    '''\n",
    "    PI = 0\n",
    "    for i in range(n):\n",
    "        if ePar(i):\n",
    "            sinal = 1\n",
    "        else:\n",
    "            sinal = -1\n",
    "        PI = PI + sinal*4/(2*i+1)\n",
    "    return PI"
   ]
  },
  {
   "cell_type": "markdown",
   "metadata": {
    "slideshow": {
     "slide_type": "slide"
    }
   },
   "source": [
    "Você pode ler o comentário escrito na função com o comando 'help()'."
   ]
  },
  {
   "cell_type": "code",
   "execution_count": 48,
   "metadata": {
    "slideshow": {
     "slide_type": "slide"
    }
   },
   "outputs": [
    {
     "name": "stdout",
     "output_type": "stream",
     "text": [
      "Help on function aproximaPi in module __main__:\n",
      "\n",
      "aproximaPi(n)\n",
      "    Aproxima o valor de pi utilizando a fórmula de Leibniz.\n",
      "    \n",
      "    Parâmetros:\n",
      "    -----------------------------\n",
      "    n: int\n",
      "       número de termos utilizados na fórmula de Leibniz\n",
      "    \n",
      "    Retorna\n",
      "    ----------------------------\n",
      "    PI: float\n",
      "         Aproximação de pi.\n",
      "\n"
     ]
    }
   ],
   "source": [
    "help(aproximaPi)"
   ]
  },
  {
   "cell_type": "markdown",
   "metadata": {
    "slideshow": {
     "slide_type": "slide"
    }
   },
   "source": [
    "#### Tarefa (para agora)\n",
    "\n",
    "- Escrever um script de Python e executá-lo no Spyder para fazer o que é pedido a seguir.\n",
    "\n",
    "- O script deve estar com comentários explicando as funções do script.\n",
    "\n",
    "- Todos os resultados devem ser mostrados no Console ao executar o script.\n",
    "\n",
    "- Coloque no seu repositório do Github o arquivo '.py' contendo o script feito por você com o nome \"Tarefa15SeuNome.py\".\n",
    "\n",
    "**1)** \n"
   ]
  },
  {
   "cell_type": "markdown",
   "metadata": {
    "slideshow": {
     "slide_type": "slide"
    }
   },
   "source": [
    "### Tarefa (para antes da próxima aula)\n",
    "\n",
    "- Escrever um script de Python e executá-lo no Spyder para fazer o que é pedido a seguir.\n",
    "\n",
    "- O script deve estar com comentários explicando as funções do script.\n",
    "\n",
    "- Todos os resultados devem ser mostrados no Console e todos os gráficos devem ser mostrados na tela ao executar o script.\n",
    "\n",
    "- Não se esqueça de indicar o significado de cada eixo, colocando a unidade da abscissa e da ordenada nos gráficos.\n",
    "\n",
    "- Coloque no seu repositório do Github o arquivo '.py' contendo o script feito por você com o nome \"Tarefa16SeuNome.py\"."
   ]
  },
  {
   "cell_type": "markdown",
   "metadata": {
    "slideshow": {
     "slide_type": "slide"
    }
   },
   "source": [
    "**1)** Faça uma função que dada a massa e altura de uma pessoa retorne o valor do IMC e mostre na tela a classificação do IMC (ver [aula 4](https://nbviewer.jupyter.org/format/slides/github/rnwatanabe/BasesComputacionais2019/blob/master/aula4/EstruturasCondicionais.ipynb#/27))."
   ]
  },
  {
   "cell_type": "markdown",
   "metadata": {
    "slideshow": {
     "slide_type": "slide"
    }
   },
   "source": [
    "**2)** Faça uma função que retorne a moda de uma coluna de um DataFrame do Pandas. As entradas devem ser o DataFrame do Pandas e o nome da coluna. Além de retornar a moda a função deve mostrar na tela qual a moda."
   ]
  },
  {
   "cell_type": "markdown",
   "metadata": {
    "slideshow": {
     "slide_type": "slide"
    }
   },
   "source": [
    "**3)** Faça uma função que ao ser executada sorteia um número entre 0 e 1. Se esse número for menor do que 0,5 apareça na tela a mensagem 'Cara'. Se esse número for maior do que 0,5  apareça a mensagem 'Coroa'.\n",
    "\n",
    "Dica: o comando 'np.random.rand(n)' gera n números aleatórios entre 0 e 1."
   ]
  },
  {
   "cell_type": "markdown",
   "metadata": {
    "slideshow": {
     "slide_type": "slide"
    }
   },
   "source": [
    "**4)**"
   ]
  },
  {
   "cell_type": "markdown",
   "metadata": {
    "slideshow": {
     "slide_type": "slide"
    }
   },
   "source": [
    "### Referências\n",
    "\n",
    "- Chalco, JM, *Slides de Bases Computacionais da Ciência*, (2014)\n",
    "- Leite, S, *Slides de Bases Computacionais da Ciência*, (2018)\n",
    "- [Marietto, MGB et al.; **Bases computacionais da Ciência** (2013)](http://prograd.ufabc.edu.br/images/pdf/bases_computacionais_livro.pdf).\n",
    "- Miller, B, Ranum, D; [**Funções In:Como pensar como um Cientista da Computação**](https://panda.ime.usp.br/pensepy/static/pensepy/05-Funcoes/funcoes.html)"
   ]
  }
 ],
 "metadata": {
  "celltoolbar": "Slideshow",
  "kernelspec": {
   "display_name": "Python 3",
   "language": "python",
   "name": "python3"
  },
  "language_info": {
   "codemirror_mode": {
    "name": "ipython",
    "version": 3
   },
   "file_extension": ".py",
   "mimetype": "text/x-python",
   "name": "python",
   "nbconvert_exporter": "python",
   "pygments_lexer": "ipython3",
   "version": "3.6.8"
  },
  "latex_envs": {
   "LaTeX_envs_menu_present": true,
   "autoclose": false,
   "autocomplete": true,
   "bibliofile": "biblio.bib",
   "cite_by": "apalike",
   "current_citInitial": 1,
   "eqLabelWithNumbers": true,
   "eqNumInitial": 1,
   "hotkeys": {
    "equation": "Ctrl-E",
    "itemize": "Ctrl-I"
   },
   "labels_anchors": false,
   "latex_user_defs": false,
   "report_style_numbering": false,
   "user_envs_cfg": false
  },
  "nbTranslate": {
   "displayLangs": [
    "*"
   ],
   "hotkey": "alt-t",
   "langInMainMenu": true,
   "sourceLang": "en",
   "targetLang": "fr",
   "useGoogleTranslate": true
  }
 },
 "nbformat": 4,
 "nbformat_minor": 2
}
