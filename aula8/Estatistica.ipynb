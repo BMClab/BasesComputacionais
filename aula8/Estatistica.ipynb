{
  "cells": [
    {
      "cell_type": "markdown",
      "metadata": {
        "id": "Tyizz5_Ax7GL",
        "tags": []
      },
      "source": [
        "# Bases Computacionais: noções de estatística\n",
        "\n",
        "Renato Naville Watanabe"
      ]
    },
    {
      "cell_type": "markdown",
      "metadata": {
        "id": "RaG2sb6Kx7GU"
      },
      "source": [
        "## Estatística\n",
        "\n",
        "A análise estatística pode ser dividida em duas áreas:\n",
        "\n",
        "- 1) **Estatística descritiva**: Esta interessada na redução, análise e\n",
        "interpretação dos dados. Pode incluir a construção de gráficos,\n",
        "tabelas, e computação de várias medidas:medidas de tendência\n",
        "central (ex. a média), de dispersão (ex. a variância), de\n",
        "frequência (ex. percentagem), etc.\n",
        "    + Gráfico com a distribuição da idade dos ingressantes nos bacharelados interdisciplinares da UFABC."
      ]
    },
    {
      "cell_type": "markdown",
      "metadata": {
        "id": "4s7Z4sfvx7GU"
      },
      "source": [
        "- 2) **Estatística indutiva / inferencial**: Voltada a realizar\n",
        "estimativas a partir de uma amostra ou testar ideias teóricas\n",
        "(hipóteses) com dados experimentais.\n",
        "    + Estimativa da porcentagem da população que votará para um determinado candidato em uma eleição, junto com uma margem de erro (“intervalo de confiança”);\n",
        "    "
      ]
    },
    {
      "cell_type": "markdown",
      "metadata": {
        "id": "aphG3yRMx7GV"
      },
      "source": [
        "## Conceitos básicos\n",
        "\n",
        "- **População**: População pode ser definido como o conjunto de elementos que têm em comum uma determinada característica.\n",
        "    + indivíduos com dengue;\n",
        "    + aparelhos de televisão fabricados em uma fábrica;\n",
        "   "
      ]
    },
    {
      "cell_type": "markdown",
      "metadata": {
        "id": "XtIn-554x7GW"
      },
      "source": [
        "- **Amostra**: Uma amostra é um subgrupo de uma população, ou seja, é todo subconjunto com menor número de elementos que o conjunto definido como população."
      ]
    },
    {
      "cell_type": "markdown",
      "metadata": {
        "id": "lOuQRiFkx7GX"
      },
      "source": [
        "- **Variáveis**: É toda característica que, observada em uma unidade experimental, pode variar de um indivíduo para outro.\n",
        "    + Exemplos: gênero, cor da pele, altura, idade, salário, nível de hemoglobina no sangue.\n",
        "    + Podem ser divididas em: Qualitativas e Quantitativas"
      ]
    },
    {
      "cell_type": "markdown",
      "metadata": {
        "id": "EOR2HjP2x7GY"
      },
      "source": [
        "### Tipos de variáveis\n",
        "\n",
        "- Qualitativas:\n",
        "    + **Nominal**: Uma categoria se diferencia da outra somente pela denominação que recebem. Ex.: gênero feminino ou masculino, estado civil, nacionalidade.\n",
        "    + **Ordinal**: É possível reconhecer graus de intensidade entre as categorias. Ex.: nível sócio-econômico (baixo, médio, alto), avaliação de um serviço (ruim, regular, bom)."
      ]
    },
    {
      "cell_type": "markdown",
      "metadata": {
        "id": "IWWsfzE9x7GZ"
      },
      "source": [
        "- Quantitativas:\n",
        "    + **Discretas**: São aquelas em que os dados somente podem apresentar determinados valores, em geral, números inteiros.\n",
        "    Ex.: número de filhos, número de baixas hospitalares.\n",
        "    + **Contínuas**: Aquelas cujos dados somente podem apresentar qualquer valor dentro de um intervalo de variação possível.\n",
        "    Ex.: altura, peso, níveis de hemoglobina no sangue."
      ]
    },
    {
      "cell_type": "markdown",
      "metadata": {
        "id": "6o-XGhuqx7Ga"
      },
      "source": [
        "## Medidas estatísticas\n",
        "\n",
        "É conveniente dispor de medidas que informem sobre a amostra de maneira mais resumida do que os dados brutos são capazes de fazer. Dão uma visão global dos dados, podendo ser:\n",
        "\n",
        "- **Tendência central**: São aquelas que produzem um valor em torno do qual os dados observados se distribuem, e que visam sintetizar em um único número o conjunto de dados.\n",
        "    Ex: Média aritmética, Mediana e Moda.\n",
        "- **Dispersão**: É a variabilidade que os dados apresentam entre si.\n",
        "    Ex: Variância, Desvio-padrão e intervalo inter-quartil."
      ]
    },
    {
      "cell_type": "markdown",
      "metadata": {
        "id": "ohVXzLCYx7Ga"
      },
      "source": [
        "## Medidas de tendência central\n",
        "\n",
        "\n",
        "São aquelas que produzem um valor em torno do qual os dados observados se distribuem, e que visam sintetizar em um único número o conjunto de dados."
      ]
    },
    {
      "cell_type": "markdown",
      "metadata": {
        "id": "aK8toksxx7Gb"
      },
      "source": [
        "### Média\n",
        "\n",
        "É a medida de tendência central mais conhecida e usada. É definida com a somatória de todas as amostras e a divisão pelo número de elementos. Normalmente é representada com uma barra em cima do nome da variável ($\\bar{x}$).\n",
        "\n",
        "$$\\bar{x} = \\frac{x[0]+x[1]+x[2]+...+x[N-1]}{N} = \\frac{\\displaystyle\\sum_{i = 0}^{N-1}x[i]}{N}$$"
      ]
    },
    {
      "cell_type": "markdown",
      "source": [
        "Como exemplo, vamos considerar os seguintes números: 1.2, 1.7, -0.6, 9, 5.3, 9.2, 1.9 . Podemos guardá-los em um array do Numpy."
      ],
      "metadata": {
        "id": "fXXY85R0vOe0"
      }
    },
    {
      "cell_type": "code",
      "execution_count": 2,
      "metadata": {
        "colab": {
          "base_uri": "https://localhost:8080/"
        },
        "id": "yGHK_EN-x7Gb",
        "outputId": "8ed7ee6e-22b7-4fd8-fc34-24131dd9bf32"
      },
      "outputs": [
        {
          "output_type": "execute_result",
          "data": {
            "text/plain": [
              "3.957142857142857"
            ]
          },
          "metadata": {},
          "execution_count": 2
        }
      ],
      "source": [
        "import numpy as np\n",
        "\n",
        "x = np.array([1.2, 1.7, -0.6, 9, 5.3, 9.2, 1.9])\n"
      ]
    },
    {
      "cell_type": "markdown",
      "source": [
        "A média é a soma desses números divida pela quantidade de valores:"
      ],
      "metadata": {
        "id": "NkaN22Aj3kLP"
      }
    },
    {
      "cell_type": "code",
      "source": [
        "mediaX = np.sum(x)/len(x)\n",
        "mediaX"
      ],
      "metadata": {
        "id": "ypMydezH3ku9",
        "outputId": "468aeef6-9a33-466f-873f-e80e50536980",
        "colab": {
          "base_uri": "https://localhost:8080/"
        }
      },
      "execution_count": 4,
      "outputs": [
        {
          "output_type": "execute_result",
          "data": {
            "text/plain": [
              "3.957142857142857"
            ]
          },
          "metadata": {},
          "execution_count": 4
        }
      ]
    },
    {
      "cell_type": "markdown",
      "source": [
        "Uma outra maneira, é utilizar a função `np.mean`:"
      ],
      "metadata": {
        "id": "S0VeVeUg3yOP"
      }
    },
    {
      "cell_type": "code",
      "source": [
        "mediaX = np.mean(x)\n",
        "mediaX"
      ],
      "metadata": {
        "id": "T2aqWSRj3xRE",
        "outputId": "701bdda9-8b26-49a0-ac2d-e12879ba168a",
        "colab": {
          "base_uri": "https://localhost:8080/"
        }
      },
      "execution_count": 5,
      "outputs": [
        {
          "output_type": "execute_result",
          "data": {
            "text/plain": [
              "3.957142857142857"
            ]
          },
          "metadata": {},
          "execution_count": 5
        }
      ]
    },
    {
      "cell_type": "markdown",
      "metadata": {
        "id": "QrEsB0zRx7Ge"
      },
      "source": [
        "É possível calcular a média de uma coluna de um DataFrame do Pandas."
      ]
    },
    {
      "cell_type": "code",
      "execution_count": 7,
      "metadata": {
        "colab": {
          "base_uri": "https://localhost:8080/",
          "height": 394
        },
        "id": "Pc8S6jkgx7Ge",
        "outputId": "b860c605-a12c-4638-9c08-13cf5db2e173"
      },
      "outputs": [
        {
          "output_type": "execute_result",
          "data": {
            "text/plain": [
              "   Produto Fabricante  Qtd Medida  Preço Supermercado        Data\n",
              "0     Suco   ValeSuco    1      l   3.00     Arpoador  12/05/2011\n",
              "1     Suco      Flash    1      l   4.50     Arpoador  18/05/2011\n",
              "2   Tomate         -     1     kg   3.50        Noite  14/05/2011\n",
              "3    Arroz   Tio José    4     kg   8.64        Noite  14/05/2011\n",
              "4    Arroz  Sem Broto    5     kg   9.99     Arpoador  10/06/2011\n",
              "5    Arroz      Da TV    1     kg   1.99        Noite  14/06/2011\n",
              "6   Feijão  Sem Broto    1     kg   4.00     Arpoador  12/05/2011\n",
              "7   Tomate         -     1     kg   2.99        Noite  16/05/2011\n",
              "8      Ovo   A Granja   12      u   3.19     Arpoador  12/06/2011\n",
              "9      Ovo    Caseiro    6      u   1.45        Noite  14/05/2011\n",
              "10    Suco      Flash    1      l   3.99        Noite  21/07/2011"
            ],
            "text/html": [
              "\n",
              "  <div id=\"df-02291885-0371-485d-8466-651cf9eb5edc\" class=\"colab-df-container\">\n",
              "    <div>\n",
              "<style scoped>\n",
              "    .dataframe tbody tr th:only-of-type {\n",
              "        vertical-align: middle;\n",
              "    }\n",
              "\n",
              "    .dataframe tbody tr th {\n",
              "        vertical-align: top;\n",
              "    }\n",
              "\n",
              "    .dataframe thead th {\n",
              "        text-align: right;\n",
              "    }\n",
              "</style>\n",
              "<table border=\"1\" class=\"dataframe\">\n",
              "  <thead>\n",
              "    <tr style=\"text-align: right;\">\n",
              "      <th></th>\n",
              "      <th>Produto</th>\n",
              "      <th>Fabricante</th>\n",
              "      <th>Qtd</th>\n",
              "      <th>Medida</th>\n",
              "      <th>Preço</th>\n",
              "      <th>Supermercado</th>\n",
              "      <th>Data</th>\n",
              "    </tr>\n",
              "  </thead>\n",
              "  <tbody>\n",
              "    <tr>\n",
              "      <th>0</th>\n",
              "      <td>Suco</td>\n",
              "      <td>ValeSuco</td>\n",
              "      <td>1</td>\n",
              "      <td>l</td>\n",
              "      <td>3.00</td>\n",
              "      <td>Arpoador</td>\n",
              "      <td>12/05/2011</td>\n",
              "    </tr>\n",
              "    <tr>\n",
              "      <th>1</th>\n",
              "      <td>Suco</td>\n",
              "      <td>Flash</td>\n",
              "      <td>1</td>\n",
              "      <td>l</td>\n",
              "      <td>4.50</td>\n",
              "      <td>Arpoador</td>\n",
              "      <td>18/05/2011</td>\n",
              "    </tr>\n",
              "    <tr>\n",
              "      <th>2</th>\n",
              "      <td>Tomate</td>\n",
              "      <td>-</td>\n",
              "      <td>1</td>\n",
              "      <td>kg</td>\n",
              "      <td>3.50</td>\n",
              "      <td>Noite</td>\n",
              "      <td>14/05/2011</td>\n",
              "    </tr>\n",
              "    <tr>\n",
              "      <th>3</th>\n",
              "      <td>Arroz</td>\n",
              "      <td>Tio José</td>\n",
              "      <td>4</td>\n",
              "      <td>kg</td>\n",
              "      <td>8.64</td>\n",
              "      <td>Noite</td>\n",
              "      <td>14/05/2011</td>\n",
              "    </tr>\n",
              "    <tr>\n",
              "      <th>4</th>\n",
              "      <td>Arroz</td>\n",
              "      <td>Sem Broto</td>\n",
              "      <td>5</td>\n",
              "      <td>kg</td>\n",
              "      <td>9.99</td>\n",
              "      <td>Arpoador</td>\n",
              "      <td>10/06/2011</td>\n",
              "    </tr>\n",
              "    <tr>\n",
              "      <th>5</th>\n",
              "      <td>Arroz</td>\n",
              "      <td>Da TV</td>\n",
              "      <td>1</td>\n",
              "      <td>kg</td>\n",
              "      <td>1.99</td>\n",
              "      <td>Noite</td>\n",
              "      <td>14/06/2011</td>\n",
              "    </tr>\n",
              "    <tr>\n",
              "      <th>6</th>\n",
              "      <td>Feijão</td>\n",
              "      <td>Sem Broto</td>\n",
              "      <td>1</td>\n",
              "      <td>kg</td>\n",
              "      <td>4.00</td>\n",
              "      <td>Arpoador</td>\n",
              "      <td>12/05/2011</td>\n",
              "    </tr>\n",
              "    <tr>\n",
              "      <th>7</th>\n",
              "      <td>Tomate</td>\n",
              "      <td>-</td>\n",
              "      <td>1</td>\n",
              "      <td>kg</td>\n",
              "      <td>2.99</td>\n",
              "      <td>Noite</td>\n",
              "      <td>16/05/2011</td>\n",
              "    </tr>\n",
              "    <tr>\n",
              "      <th>8</th>\n",
              "      <td>Ovo</td>\n",
              "      <td>A Granja</td>\n",
              "      <td>12</td>\n",
              "      <td>u</td>\n",
              "      <td>3.19</td>\n",
              "      <td>Arpoador</td>\n",
              "      <td>12/06/2011</td>\n",
              "    </tr>\n",
              "    <tr>\n",
              "      <th>9</th>\n",
              "      <td>Ovo</td>\n",
              "      <td>Caseiro</td>\n",
              "      <td>6</td>\n",
              "      <td>u</td>\n",
              "      <td>1.45</td>\n",
              "      <td>Noite</td>\n",
              "      <td>14/05/2011</td>\n",
              "    </tr>\n",
              "    <tr>\n",
              "      <th>10</th>\n",
              "      <td>Suco</td>\n",
              "      <td>Flash</td>\n",
              "      <td>1</td>\n",
              "      <td>l</td>\n",
              "      <td>3.99</td>\n",
              "      <td>Noite</td>\n",
              "      <td>21/07/2011</td>\n",
              "    </tr>\n",
              "  </tbody>\n",
              "</table>\n",
              "</div>\n",
              "    <div class=\"colab-df-buttons\">\n",
              "\n",
              "  <div class=\"colab-df-container\">\n",
              "    <button class=\"colab-df-convert\" onclick=\"convertToInteractive('df-02291885-0371-485d-8466-651cf9eb5edc')\"\n",
              "            title=\"Convert this dataframe to an interactive table.\"\n",
              "            style=\"display:none;\">\n",
              "\n",
              "  <svg xmlns=\"http://www.w3.org/2000/svg\" height=\"24px\" viewBox=\"0 -960 960 960\">\n",
              "    <path d=\"M120-120v-720h720v720H120Zm60-500h600v-160H180v160Zm220 220h160v-160H400v160Zm0 220h160v-160H400v160ZM180-400h160v-160H180v160Zm440 0h160v-160H620v160ZM180-180h160v-160H180v160Zm440 0h160v-160H620v160Z\"/>\n",
              "  </svg>\n",
              "    </button>\n",
              "\n",
              "  <style>\n",
              "    .colab-df-container {\n",
              "      display:flex;\n",
              "      gap: 12px;\n",
              "    }\n",
              "\n",
              "    .colab-df-convert {\n",
              "      background-color: #E8F0FE;\n",
              "      border: none;\n",
              "      border-radius: 50%;\n",
              "      cursor: pointer;\n",
              "      display: none;\n",
              "      fill: #1967D2;\n",
              "      height: 32px;\n",
              "      padding: 0 0 0 0;\n",
              "      width: 32px;\n",
              "    }\n",
              "\n",
              "    .colab-df-convert:hover {\n",
              "      background-color: #E2EBFA;\n",
              "      box-shadow: 0px 1px 2px rgba(60, 64, 67, 0.3), 0px 1px 3px 1px rgba(60, 64, 67, 0.15);\n",
              "      fill: #174EA6;\n",
              "    }\n",
              "\n",
              "    .colab-df-buttons div {\n",
              "      margin-bottom: 4px;\n",
              "    }\n",
              "\n",
              "    [theme=dark] .colab-df-convert {\n",
              "      background-color: #3B4455;\n",
              "      fill: #D2E3FC;\n",
              "    }\n",
              "\n",
              "    [theme=dark] .colab-df-convert:hover {\n",
              "      background-color: #434B5C;\n",
              "      box-shadow: 0px 1px 3px 1px rgba(0, 0, 0, 0.15);\n",
              "      filter: drop-shadow(0px 1px 2px rgba(0, 0, 0, 0.3));\n",
              "      fill: #FFFFFF;\n",
              "    }\n",
              "  </style>\n",
              "\n",
              "    <script>\n",
              "      const buttonEl =\n",
              "        document.querySelector('#df-02291885-0371-485d-8466-651cf9eb5edc button.colab-df-convert');\n",
              "      buttonEl.style.display =\n",
              "        google.colab.kernel.accessAllowed ? 'block' : 'none';\n",
              "\n",
              "      async function convertToInteractive(key) {\n",
              "        const element = document.querySelector('#df-02291885-0371-485d-8466-651cf9eb5edc');\n",
              "        const dataTable =\n",
              "          await google.colab.kernel.invokeFunction('convertToInteractive',\n",
              "                                                    [key], {});\n",
              "        if (!dataTable) return;\n",
              "\n",
              "        const docLinkHtml = 'Like what you see? Visit the ' +\n",
              "          '<a target=\"_blank\" href=https://colab.research.google.com/notebooks/data_table.ipynb>data table notebook</a>'\n",
              "          + ' to learn more about interactive tables.';\n",
              "        element.innerHTML = '';\n",
              "        dataTable['output_type'] = 'display_data';\n",
              "        await google.colab.output.renderOutput(dataTable, element);\n",
              "        const docLink = document.createElement('div');\n",
              "        docLink.innerHTML = docLinkHtml;\n",
              "        element.appendChild(docLink);\n",
              "      }\n",
              "    </script>\n",
              "  </div>\n",
              "\n",
              "\n",
              "<div id=\"df-53424a3d-a3dd-41cb-8cc5-0718dce1b132\">\n",
              "  <button class=\"colab-df-quickchart\" onclick=\"quickchart('df-53424a3d-a3dd-41cb-8cc5-0718dce1b132')\"\n",
              "            title=\"Suggest charts\"\n",
              "            style=\"display:none;\">\n",
              "\n",
              "<svg xmlns=\"http://www.w3.org/2000/svg\" height=\"24px\"viewBox=\"0 0 24 24\"\n",
              "     width=\"24px\">\n",
              "    <g>\n",
              "        <path d=\"M19 3H5c-1.1 0-2 .9-2 2v14c0 1.1.9 2 2 2h14c1.1 0 2-.9 2-2V5c0-1.1-.9-2-2-2zM9 17H7v-7h2v7zm4 0h-2V7h2v10zm4 0h-2v-4h2v4z\"/>\n",
              "    </g>\n",
              "</svg>\n",
              "  </button>\n",
              "\n",
              "<style>\n",
              "  .colab-df-quickchart {\n",
              "      --bg-color: #E8F0FE;\n",
              "      --fill-color: #1967D2;\n",
              "      --hover-bg-color: #E2EBFA;\n",
              "      --hover-fill-color: #174EA6;\n",
              "      --disabled-fill-color: #AAA;\n",
              "      --disabled-bg-color: #DDD;\n",
              "  }\n",
              "\n",
              "  [theme=dark] .colab-df-quickchart {\n",
              "      --bg-color: #3B4455;\n",
              "      --fill-color: #D2E3FC;\n",
              "      --hover-bg-color: #434B5C;\n",
              "      --hover-fill-color: #FFFFFF;\n",
              "      --disabled-bg-color: #3B4455;\n",
              "      --disabled-fill-color: #666;\n",
              "  }\n",
              "\n",
              "  .colab-df-quickchart {\n",
              "    background-color: var(--bg-color);\n",
              "    border: none;\n",
              "    border-radius: 50%;\n",
              "    cursor: pointer;\n",
              "    display: none;\n",
              "    fill: var(--fill-color);\n",
              "    height: 32px;\n",
              "    padding: 0;\n",
              "    width: 32px;\n",
              "  }\n",
              "\n",
              "  .colab-df-quickchart:hover {\n",
              "    background-color: var(--hover-bg-color);\n",
              "    box-shadow: 0 1px 2px rgba(60, 64, 67, 0.3), 0 1px 3px 1px rgba(60, 64, 67, 0.15);\n",
              "    fill: var(--button-hover-fill-color);\n",
              "  }\n",
              "\n",
              "  .colab-df-quickchart-complete:disabled,\n",
              "  .colab-df-quickchart-complete:disabled:hover {\n",
              "    background-color: var(--disabled-bg-color);\n",
              "    fill: var(--disabled-fill-color);\n",
              "    box-shadow: none;\n",
              "  }\n",
              "\n",
              "  .colab-df-spinner {\n",
              "    border: 2px solid var(--fill-color);\n",
              "    border-color: transparent;\n",
              "    border-bottom-color: var(--fill-color);\n",
              "    animation:\n",
              "      spin 1s steps(1) infinite;\n",
              "  }\n",
              "\n",
              "  @keyframes spin {\n",
              "    0% {\n",
              "      border-color: transparent;\n",
              "      border-bottom-color: var(--fill-color);\n",
              "      border-left-color: var(--fill-color);\n",
              "    }\n",
              "    20% {\n",
              "      border-color: transparent;\n",
              "      border-left-color: var(--fill-color);\n",
              "      border-top-color: var(--fill-color);\n",
              "    }\n",
              "    30% {\n",
              "      border-color: transparent;\n",
              "      border-left-color: var(--fill-color);\n",
              "      border-top-color: var(--fill-color);\n",
              "      border-right-color: var(--fill-color);\n",
              "    }\n",
              "    40% {\n",
              "      border-color: transparent;\n",
              "      border-right-color: var(--fill-color);\n",
              "      border-top-color: var(--fill-color);\n",
              "    }\n",
              "    60% {\n",
              "      border-color: transparent;\n",
              "      border-right-color: var(--fill-color);\n",
              "    }\n",
              "    80% {\n",
              "      border-color: transparent;\n",
              "      border-right-color: var(--fill-color);\n",
              "      border-bottom-color: var(--fill-color);\n",
              "    }\n",
              "    90% {\n",
              "      border-color: transparent;\n",
              "      border-bottom-color: var(--fill-color);\n",
              "    }\n",
              "  }\n",
              "</style>\n",
              "\n",
              "  <script>\n",
              "    async function quickchart(key) {\n",
              "      const quickchartButtonEl =\n",
              "        document.querySelector('#' + key + ' button');\n",
              "      quickchartButtonEl.disabled = true;  // To prevent multiple clicks.\n",
              "      quickchartButtonEl.classList.add('colab-df-spinner');\n",
              "      try {\n",
              "        const charts = await google.colab.kernel.invokeFunction(\n",
              "            'suggestCharts', [key], {});\n",
              "      } catch (error) {\n",
              "        console.error('Error during call to suggestCharts:', error);\n",
              "      }\n",
              "      quickchartButtonEl.classList.remove('colab-df-spinner');\n",
              "      quickchartButtonEl.classList.add('colab-df-quickchart-complete');\n",
              "    }\n",
              "    (() => {\n",
              "      let quickchartButtonEl =\n",
              "        document.querySelector('#df-53424a3d-a3dd-41cb-8cc5-0718dce1b132 button');\n",
              "      quickchartButtonEl.style.display =\n",
              "        google.colab.kernel.accessAllowed ? 'block' : 'none';\n",
              "    })();\n",
              "  </script>\n",
              "</div>\n",
              "\n",
              "  <div id=\"id_490bbe18-9b41-4e17-bf25-689b1f02bbb6\">\n",
              "    <style>\n",
              "      .colab-df-generate {\n",
              "        background-color: #E8F0FE;\n",
              "        border: none;\n",
              "        border-radius: 50%;\n",
              "        cursor: pointer;\n",
              "        display: none;\n",
              "        fill: #1967D2;\n",
              "        height: 32px;\n",
              "        padding: 0 0 0 0;\n",
              "        width: 32px;\n",
              "      }\n",
              "\n",
              "      .colab-df-generate:hover {\n",
              "        background-color: #E2EBFA;\n",
              "        box-shadow: 0px 1px 2px rgba(60, 64, 67, 0.3), 0px 1px 3px 1px rgba(60, 64, 67, 0.15);\n",
              "        fill: #174EA6;\n",
              "      }\n",
              "\n",
              "      [theme=dark] .colab-df-generate {\n",
              "        background-color: #3B4455;\n",
              "        fill: #D2E3FC;\n",
              "      }\n",
              "\n",
              "      [theme=dark] .colab-df-generate:hover {\n",
              "        background-color: #434B5C;\n",
              "        box-shadow: 0px 1px 3px 1px rgba(0, 0, 0, 0.15);\n",
              "        filter: drop-shadow(0px 1px 2px rgba(0, 0, 0, 0.3));\n",
              "        fill: #FFFFFF;\n",
              "      }\n",
              "    </style>\n",
              "    <button class=\"colab-df-generate\" onclick=\"generateWithVariable('compras')\"\n",
              "            title=\"Generate code using this dataframe.\"\n",
              "            style=\"display:none;\">\n",
              "\n",
              "  <svg xmlns=\"http://www.w3.org/2000/svg\" height=\"24px\"viewBox=\"0 0 24 24\"\n",
              "       width=\"24px\">\n",
              "    <path d=\"M7,19H8.4L18.45,9,17,7.55,7,17.6ZM5,21V16.75L18.45,3.32a2,2,0,0,1,2.83,0l1.4,1.43a1.91,1.91,0,0,1,.58,1.4,1.91,1.91,0,0,1-.58,1.4L9.25,21ZM18.45,9,17,7.55Zm-12,3A5.31,5.31,0,0,0,4.9,8.1,5.31,5.31,0,0,0,1,6.5,5.31,5.31,0,0,0,4.9,4.9,5.31,5.31,0,0,0,6.5,1,5.31,5.31,0,0,0,8.1,4.9,5.31,5.31,0,0,0,12,6.5,5.46,5.46,0,0,0,6.5,12Z\"/>\n",
              "  </svg>\n",
              "    </button>\n",
              "    <script>\n",
              "      (() => {\n",
              "      const buttonEl =\n",
              "        document.querySelector('#id_490bbe18-9b41-4e17-bf25-689b1f02bbb6 button.colab-df-generate');\n",
              "      buttonEl.style.display =\n",
              "        google.colab.kernel.accessAllowed ? 'block' : 'none';\n",
              "\n",
              "      buttonEl.onclick = () => {\n",
              "        google.colab.notebook.generateWithVariable('compras');\n",
              "      }\n",
              "      })();\n",
              "    </script>\n",
              "  </div>\n",
              "\n",
              "    </div>\n",
              "  </div>\n"
            ],
            "application/vnd.google.colaboratory.intrinsic+json": {
              "type": "dataframe",
              "variable_name": "compras",
              "summary": "{\n  \"name\": \"compras\",\n  \"rows\": 11,\n  \"fields\": [\n    {\n      \"column\": \"Produto\",\n      \"properties\": {\n        \"dtype\": \"category\",\n        \"num_unique_values\": 5,\n        \"samples\": [\n          \"Tomate\",\n          \"Ovo\",\n          \"Arroz\"\n        ],\n        \"semantic_type\": \"\",\n        \"description\": \"\"\n      }\n    },\n    {\n      \"column\": \"Fabricante\",\n      \"properties\": {\n        \"dtype\": \"string\",\n        \"num_unique_values\": 8,\n        \"samples\": [\n          \"Flash\",\n          \"Da TV\",\n          \"ValeSuco\"\n        ],\n        \"semantic_type\": \"\",\n        \"description\": \"\"\n      }\n    },\n    {\n      \"column\": \"Qtd\",\n      \"properties\": {\n        \"dtype\": \"number\",\n        \"std\": 3,\n        \"min\": 1,\n        \"max\": 12,\n        \"num_unique_values\": 5,\n        \"samples\": [\n          4,\n          6,\n          5\n        ],\n        \"semantic_type\": \"\",\n        \"description\": \"\"\n      }\n    },\n    {\n      \"column\": \"Medida\",\n      \"properties\": {\n        \"dtype\": \"category\",\n        \"num_unique_values\": 3,\n        \"samples\": [\n          \"l\",\n          \"kg\",\n          \"u\"\n        ],\n        \"semantic_type\": \"\",\n        \"description\": \"\"\n      }\n    },\n    {\n      \"column\": \"Pre\\u00e7o\",\n      \"properties\": {\n        \"dtype\": \"number\",\n        \"std\": 2.6490427087397577,\n        \"min\": 1.45,\n        \"max\": 9.99,\n        \"num_unique_values\": 11,\n        \"samples\": [\n          1.99,\n          3.0,\n          1.45\n        ],\n        \"semantic_type\": \"\",\n        \"description\": \"\"\n      }\n    },\n    {\n      \"column\": \"Supermercado\",\n      \"properties\": {\n        \"dtype\": \"category\",\n        \"num_unique_values\": 2,\n        \"samples\": [\n          \"Noite\",\n          \"Arpoador\"\n        ],\n        \"semantic_type\": \"\",\n        \"description\": \"\"\n      }\n    },\n    {\n      \"column\": \"Data\",\n      \"properties\": {\n        \"dtype\": \"string\",\n        \"num_unique_values\": 8,\n        \"samples\": [\n          \"18/05/2011\",\n          \"16/05/2011\"\n        ],\n        \"semantic_type\": \"\",\n        \"description\": \"\"\n      }\n    }\n  ]\n}"
            }
          },
          "metadata": {},
          "execution_count": 7
        }
      ],
      "source": [
        "import pandas as pd\n",
        "\n",
        "compras = pd.read_csv('https://raw.githubusercontent.com/BMClab/BasesComputacionais/master/dados/compras.csv')\n",
        "compras"
      ]
    },
    {
      "cell_type": "markdown",
      "metadata": {
        "id": "kN1m8YyAx7Gf"
      },
      "source": [
        "Isso é feito acrescentando '.mean()' após o nome da coluna. Por exemplo, para calcular a média da coluna 'Preços':"
      ]
    },
    {
      "cell_type": "code",
      "execution_count": 8,
      "metadata": {
        "colab": {
          "base_uri": "https://localhost:8080/"
        },
        "id": "FjoC8Jwmx7Gf",
        "outputId": "a7d3eb58-2444-4311-eb53-dd6239a2e722"
      },
      "outputs": [
        {
          "output_type": "execute_result",
          "data": {
            "text/plain": [
              "4.294545454545455"
            ]
          },
          "metadata": {},
          "execution_count": 8
        }
      ],
      "source": [
        "mediaPreco = compras['Preço'].mean()\n",
        "mediaPreco"
      ]
    },
    {
      "cell_type": "markdown",
      "metadata": {
        "id": "0xC1Zwzax7Gg"
      },
      "source": [
        "Outro exemplo, para calcular a média da coluna 'Preço' quando a coluna 'Produto' é 'Arroz'."
      ]
    },
    {
      "cell_type": "code",
      "execution_count": 10,
      "metadata": {
        "colab": {
          "base_uri": "https://localhost:8080/",
          "height": 115
        },
        "id": "u2V1ZZrfx7Gg",
        "outputId": "5add9df9-1ab0-4023-ab61-13aa01e3b60b"
      },
      "outputs": [
        {
          "output_type": "execute_result",
          "data": {
            "text/plain": [
              "Preço    6.873333\n",
              "dtype: float64"
            ],
            "text/html": [
              "<div>\n",
              "<style scoped>\n",
              "    .dataframe tbody tr th:only-of-type {\n",
              "        vertical-align: middle;\n",
              "    }\n",
              "\n",
              "    .dataframe tbody tr th {\n",
              "        vertical-align: top;\n",
              "    }\n",
              "\n",
              "    .dataframe thead th {\n",
              "        text-align: right;\n",
              "    }\n",
              "</style>\n",
              "<table border=\"1\" class=\"dataframe\">\n",
              "  <thead>\n",
              "    <tr style=\"text-align: right;\">\n",
              "      <th></th>\n",
              "      <th>0</th>\n",
              "    </tr>\n",
              "  </thead>\n",
              "  <tbody>\n",
              "    <tr>\n",
              "      <th>Preço</th>\n",
              "      <td>6.873333</td>\n",
              "    </tr>\n",
              "  </tbody>\n",
              "</table>\n",
              "</div><br><label><b>dtype:</b> float64</label>"
            ]
          },
          "metadata": {},
          "execution_count": 10
        }
      ],
      "source": [
        "mediaPrecoArroz = compras.query(\"Produto == 'Arroz'\")[['Preço']].mean()\n",
        "mediaPrecoArroz"
      ]
    },
    {
      "cell_type": "markdown",
      "metadata": {
        "id": "xGTRq22vx7Gg"
      },
      "source": [
        "Também é possível calcular a média do conteúdo de uma coluna dividida por algum critério, por exemplo outra coluna, usando a função `groupby`. Por exemplo, a instrução abaixo calcula a média da coluna *Preço* para cada *Fabricante*."
      ]
    },
    {
      "cell_type": "code",
      "execution_count": 12,
      "metadata": {
        "id": "M_dd6Tjkx7Gh",
        "outputId": "0023fa97-d705-4d5b-db73-dffa26d31306",
        "colab": {
          "base_uri": "https://localhost:8080/",
          "height": 366
        }
      },
      "outputs": [
        {
          "output_type": "execute_result",
          "data": {
            "text/plain": [
              "Fabricante\n",
              " -           3.245\n",
              "A Granja     3.190\n",
              "Caseiro      1.450\n",
              "Da TV        1.990\n",
              "Flash        4.245\n",
              "Sem Broto    6.995\n",
              "Tio José     8.640\n",
              "ValeSuco     3.000\n",
              "Name: Preço, dtype: float64"
            ],
            "text/html": [
              "<div>\n",
              "<style scoped>\n",
              "    .dataframe tbody tr th:only-of-type {\n",
              "        vertical-align: middle;\n",
              "    }\n",
              "\n",
              "    .dataframe tbody tr th {\n",
              "        vertical-align: top;\n",
              "    }\n",
              "\n",
              "    .dataframe thead th {\n",
              "        text-align: right;\n",
              "    }\n",
              "</style>\n",
              "<table border=\"1\" class=\"dataframe\">\n",
              "  <thead>\n",
              "    <tr style=\"text-align: right;\">\n",
              "      <th></th>\n",
              "      <th>Preço</th>\n",
              "    </tr>\n",
              "    <tr>\n",
              "      <th>Fabricante</th>\n",
              "      <th></th>\n",
              "    </tr>\n",
              "  </thead>\n",
              "  <tbody>\n",
              "    <tr>\n",
              "      <th>-</th>\n",
              "      <td>3.245</td>\n",
              "    </tr>\n",
              "    <tr>\n",
              "      <th>A Granja</th>\n",
              "      <td>3.190</td>\n",
              "    </tr>\n",
              "    <tr>\n",
              "      <th>Caseiro</th>\n",
              "      <td>1.450</td>\n",
              "    </tr>\n",
              "    <tr>\n",
              "      <th>Da TV</th>\n",
              "      <td>1.990</td>\n",
              "    </tr>\n",
              "    <tr>\n",
              "      <th>Flash</th>\n",
              "      <td>4.245</td>\n",
              "    </tr>\n",
              "    <tr>\n",
              "      <th>Sem Broto</th>\n",
              "      <td>6.995</td>\n",
              "    </tr>\n",
              "    <tr>\n",
              "      <th>Tio José</th>\n",
              "      <td>8.640</td>\n",
              "    </tr>\n",
              "    <tr>\n",
              "      <th>ValeSuco</th>\n",
              "      <td>3.000</td>\n",
              "    </tr>\n",
              "  </tbody>\n",
              "</table>\n",
              "</div><br><label><b>dtype:</b> float64</label>"
            ]
          },
          "metadata": {},
          "execution_count": 12
        }
      ],
      "source": [
        "preco_fabricante = compras.groupby('Fabricante')['Preço'].mean()\n",
        "preco_fabricante"
      ]
    },
    {
      "cell_type": "markdown",
      "metadata": {
        "id": "j9Cay48Ux7Gh"
      },
      "source": [
        "### Mediana\n",
        "\n",
        "É definida como o valor que divide as amostras na metade. É necessário que as amostras estejam ordenadas.\n",
        "\n",
        "Por exemplo, no caso do vetor abaixo:"
      ]
    },
    {
      "cell_type": "code",
      "execution_count": null,
      "metadata": {
        "colab": {
          "base_uri": "https://localhost:8080/"
        },
        "id": "VDAg4jcex7Gh",
        "outputId": "ca6840c2-9a66-4cc2-a323-39217eafa277"
      },
      "outputs": [
        {
          "data": {
            "text/plain": [
              "array([ 1.2e+00,  1.7e+00, -6.0e-01,  9.0e+00,  5.3e+00,  9.2e+03,\n",
              "        1.9e+00])"
            ]
          },
          "execution_count": 9,
          "metadata": {},
          "output_type": "execute_result"
        }
      ],
      "source": [
        "import numpy as np\n",
        "\n",
        "x = np.array([1.2, 1.7, -0.6, 9, 5.3, 9200, 1.9])\n",
        "x"
      ]
    },
    {
      "cell_type": "markdown",
      "metadata": {
        "id": "na8scU4Vx7Gi"
      },
      "source": [
        "Ordenando:"
      ]
    },
    {
      "cell_type": "code",
      "execution_count": null,
      "metadata": {
        "colab": {
          "base_uri": "https://localhost:8080/"
        },
        "id": "3rIxCLEDx7Gi",
        "outputId": "27f966d7-514b-4e90-cb1c-0db9207a72c9"
      },
      "outputs": [
        {
          "data": {
            "text/plain": [
              "array([-6.0e-01,  1.2e+00,  1.7e+00,  1.9e+00,  5.3e+00,  9.0e+00,\n",
              "        9.2e+03])"
            ]
          },
          "execution_count": 10,
          "metadata": {},
          "output_type": "execute_result"
        }
      ],
      "source": [
        "np.sort(x)"
      ]
    },
    {
      "cell_type": "markdown",
      "metadata": {
        "id": "XT2UU8QBx7Gj"
      },
      "source": [
        "O número que divide as amostras em dois é o 1.9 (três elementos à esquerda e três elementos à direita).\n",
        "\n",
        "Isso é possível fazer com o comando 'np.median()'. Ao usar o comando np.median"
      ]
    },
    {
      "cell_type": "code",
      "execution_count": 14,
      "metadata": {
        "colab": {
          "base_uri": "https://localhost:8080/"
        },
        "id": "NeMoO2wRx7Gj",
        "outputId": "94a40b37-6cd7-4d72-8233-5efe9352da27"
      },
      "outputs": [
        {
          "output_type": "execute_result",
          "data": {
            "text/plain": [
              "1.9"
            ]
          },
          "metadata": {},
          "execution_count": 14
        }
      ],
      "source": [
        "medianaX = np.median(x)\n",
        "medianaX"
      ]
    },
    {
      "cell_type": "markdown",
      "metadata": {
        "id": "U5fNg3yyx7Gj"
      },
      "source": [
        "Se o número de amostras for par, a mediana é a média dos dois elementos centrais."
      ]
    },
    {
      "cell_type": "code",
      "execution_count": 16,
      "metadata": {
        "id": "FW8EKLs2x7Gk",
        "outputId": "67064552-8065-48ce-d2c4-d35eb776262f",
        "colab": {
          "base_uri": "https://localhost:8080/"
        }
      },
      "outputs": [
        {
          "output_type": "execute_result",
          "data": {
            "text/plain": [
              "array([-3.2, -0.6,  1.2,  1.7,  1.9,  5.3,  9. ,  9.2])"
            ]
          },
          "metadata": {},
          "execution_count": 16
        }
      ],
      "source": [
        "x = np.array([1.2, 1.7, -0.6, 9, 5.3,-3.2, 9.2, 1.9])\n",
        "np.sort(x)"
      ]
    },
    {
      "cell_type": "markdown",
      "metadata": {
        "id": "hTSZ8o50x7Gk"
      },
      "source": [
        "A mediana será a média entre 1.7 e 1.9 (1.8)."
      ]
    },
    {
      "cell_type": "code",
      "execution_count": 17,
      "metadata": {
        "id": "DUL8qP3Wx7Gk",
        "outputId": "21691800-bae7-42cb-8683-801640ad746e",
        "colab": {
          "base_uri": "https://localhost:8080/"
        }
      },
      "outputs": [
        {
          "output_type": "execute_result",
          "data": {
            "text/plain": [
              "1.7999999999999998"
            ]
          },
          "metadata": {},
          "execution_count": 17
        }
      ],
      "source": [
        "medianaX = np.median(x)\n",
        "medianaX"
      ]
    },
    {
      "cell_type": "markdown",
      "metadata": {
        "id": "WfAVMm6Ax7Gl"
      },
      "source": [
        "É possível calcular a mediana de um DataFrame do Pandas. Abaixo é mostrado a tabela com todos os jogos do Campeonato Brasileiro de Futebol de 2018."
      ]
    },
    {
      "cell_type": "code",
      "execution_count": 70,
      "metadata": {
        "colab": {
          "base_uri": "https://localhost:8080/",
          "height": 310
        },
        "id": "yn6iz2WPx7Gl",
        "outputId": "8a99261c-0c73-4de4-bf79-49d1c4125177"
      },
      "outputs": [
        {
          "output_type": "execute_result",
          "data": {
            "text/plain": [
              "         Data  Turno         Mandante  Placar do Mandante  \\\n",
              "0  14/04/2018      1         Cruzeiro                   0   \n",
              "1  14/04/2018      1          Vitória                   2   \n",
              "2  14/04/2018      1           Santos                   2   \n",
              "3  15/04/2018      1  América Mineiro                   3   \n",
              "4  15/04/2018      1    Internacional                   2   \n",
              "\n",
              "   Placar do Visitante Visitante                                Estádio  \\\n",
              "0                    1    Grêmio       Estádio Mineirão, Belo Horizonte   \n",
              "1                    2  Flamengo             Estádio Barradão, Salvador   \n",
              "2                    0     Ceará         Estádio do Pacaembu, São Paulo   \n",
              "3                    0     Sport  Estádio Independência, Belo Horizonte   \n",
              "4                    0     Bahia        Estádio Beira-Rio, Porto Alegre   \n",
              "\n",
              "  Horário                Gols do Mandante           Gols do Visitante  \\\n",
              "0   16:00                             NaN                   54' André   \n",
              "1   19:00     Yago 13' (pen) Denílson 76'  1' Lucas Paquetá 72' Réver   \n",
              "2   21:00             Pio 41' Rodrygo 49'                         NaN   \n",
              "3   11:00  Serginho 1', 40' Carlinhos 36'                         NaN   \n",
              "4   16:00             Nico López 37', 60'                         NaN   \n",
              "\n",
              "   Público                              Árbitro  Renda (R$)  \n",
              "0    15446            PR Rodolpho Toski Marques    418305.0  \n",
              "1    12669                      MT Wagner Reway    238994.0  \n",
              "2    12268         SC Rodrigo D'Alonso Ferreira    526550.0  \n",
              "3     3230             DF Sávio Pereira Sampaio     36293.0  \n",
              "4    18460   GO Eduardo Tomaz de Aquino Valadão    796275.0  "
            ],
            "text/html": [
              "\n",
              "  <div id=\"df-4d70706a-f4e4-4c57-a680-9305347bd736\" class=\"colab-df-container\">\n",
              "    <div>\n",
              "<style scoped>\n",
              "    .dataframe tbody tr th:only-of-type {\n",
              "        vertical-align: middle;\n",
              "    }\n",
              "\n",
              "    .dataframe tbody tr th {\n",
              "        vertical-align: top;\n",
              "    }\n",
              "\n",
              "    .dataframe thead th {\n",
              "        text-align: right;\n",
              "    }\n",
              "</style>\n",
              "<table border=\"1\" class=\"dataframe\">\n",
              "  <thead>\n",
              "    <tr style=\"text-align: right;\">\n",
              "      <th></th>\n",
              "      <th>Data</th>\n",
              "      <th>Turno</th>\n",
              "      <th>Mandante</th>\n",
              "      <th>Placar do Mandante</th>\n",
              "      <th>Placar do Visitante</th>\n",
              "      <th>Visitante</th>\n",
              "      <th>Estádio</th>\n",
              "      <th>Horário</th>\n",
              "      <th>Gols do Mandante</th>\n",
              "      <th>Gols do Visitante</th>\n",
              "      <th>Público</th>\n",
              "      <th>Árbitro</th>\n",
              "      <th>Renda (R$)</th>\n",
              "    </tr>\n",
              "  </thead>\n",
              "  <tbody>\n",
              "    <tr>\n",
              "      <th>0</th>\n",
              "      <td>14/04/2018</td>\n",
              "      <td>1</td>\n",
              "      <td>Cruzeiro</td>\n",
              "      <td>0</td>\n",
              "      <td>1</td>\n",
              "      <td>Grêmio</td>\n",
              "      <td>Estádio Mineirão, Belo Horizonte</td>\n",
              "      <td>16:00</td>\n",
              "      <td>NaN</td>\n",
              "      <td>54' André</td>\n",
              "      <td>15446</td>\n",
              "      <td>PR Rodolpho Toski Marques</td>\n",
              "      <td>418305.0</td>\n",
              "    </tr>\n",
              "    <tr>\n",
              "      <th>1</th>\n",
              "      <td>14/04/2018</td>\n",
              "      <td>1</td>\n",
              "      <td>Vitória</td>\n",
              "      <td>2</td>\n",
              "      <td>2</td>\n",
              "      <td>Flamengo</td>\n",
              "      <td>Estádio Barradão, Salvador</td>\n",
              "      <td>19:00</td>\n",
              "      <td>Yago 13' (pen) Denílson 76'</td>\n",
              "      <td>1' Lucas Paquetá 72' Réver</td>\n",
              "      <td>12669</td>\n",
              "      <td>MT Wagner Reway</td>\n",
              "      <td>238994.0</td>\n",
              "    </tr>\n",
              "    <tr>\n",
              "      <th>2</th>\n",
              "      <td>14/04/2018</td>\n",
              "      <td>1</td>\n",
              "      <td>Santos</td>\n",
              "      <td>2</td>\n",
              "      <td>0</td>\n",
              "      <td>Ceará</td>\n",
              "      <td>Estádio do Pacaembu, São Paulo</td>\n",
              "      <td>21:00</td>\n",
              "      <td>Pio 41' Rodrygo 49'</td>\n",
              "      <td>NaN</td>\n",
              "      <td>12268</td>\n",
              "      <td>SC Rodrigo D'Alonso Ferreira</td>\n",
              "      <td>526550.0</td>\n",
              "    </tr>\n",
              "    <tr>\n",
              "      <th>3</th>\n",
              "      <td>15/04/2018</td>\n",
              "      <td>1</td>\n",
              "      <td>América Mineiro</td>\n",
              "      <td>3</td>\n",
              "      <td>0</td>\n",
              "      <td>Sport</td>\n",
              "      <td>Estádio Independência, Belo Horizonte</td>\n",
              "      <td>11:00</td>\n",
              "      <td>Serginho 1', 40' Carlinhos 36'</td>\n",
              "      <td>NaN</td>\n",
              "      <td>3230</td>\n",
              "      <td>DF Sávio Pereira Sampaio</td>\n",
              "      <td>36293.0</td>\n",
              "    </tr>\n",
              "    <tr>\n",
              "      <th>4</th>\n",
              "      <td>15/04/2018</td>\n",
              "      <td>1</td>\n",
              "      <td>Internacional</td>\n",
              "      <td>2</td>\n",
              "      <td>0</td>\n",
              "      <td>Bahia</td>\n",
              "      <td>Estádio Beira-Rio, Porto Alegre</td>\n",
              "      <td>16:00</td>\n",
              "      <td>Nico López 37', 60'</td>\n",
              "      <td>NaN</td>\n",
              "      <td>18460</td>\n",
              "      <td>GO Eduardo Tomaz de Aquino Valadão</td>\n",
              "      <td>796275.0</td>\n",
              "    </tr>\n",
              "  </tbody>\n",
              "</table>\n",
              "</div>\n",
              "    <div class=\"colab-df-buttons\">\n",
              "\n",
              "  <div class=\"colab-df-container\">\n",
              "    <button class=\"colab-df-convert\" onclick=\"convertToInteractive('df-4d70706a-f4e4-4c57-a680-9305347bd736')\"\n",
              "            title=\"Convert this dataframe to an interactive table.\"\n",
              "            style=\"display:none;\">\n",
              "\n",
              "  <svg xmlns=\"http://www.w3.org/2000/svg\" height=\"24px\" viewBox=\"0 -960 960 960\">\n",
              "    <path d=\"M120-120v-720h720v720H120Zm60-500h600v-160H180v160Zm220 220h160v-160H400v160Zm0 220h160v-160H400v160ZM180-400h160v-160H180v160Zm440 0h160v-160H620v160ZM180-180h160v-160H180v160Zm440 0h160v-160H620v160Z\"/>\n",
              "  </svg>\n",
              "    </button>\n",
              "\n",
              "  <style>\n",
              "    .colab-df-container {\n",
              "      display:flex;\n",
              "      gap: 12px;\n",
              "    }\n",
              "\n",
              "    .colab-df-convert {\n",
              "      background-color: #E8F0FE;\n",
              "      border: none;\n",
              "      border-radius: 50%;\n",
              "      cursor: pointer;\n",
              "      display: none;\n",
              "      fill: #1967D2;\n",
              "      height: 32px;\n",
              "      padding: 0 0 0 0;\n",
              "      width: 32px;\n",
              "    }\n",
              "\n",
              "    .colab-df-convert:hover {\n",
              "      background-color: #E2EBFA;\n",
              "      box-shadow: 0px 1px 2px rgba(60, 64, 67, 0.3), 0px 1px 3px 1px rgba(60, 64, 67, 0.15);\n",
              "      fill: #174EA6;\n",
              "    }\n",
              "\n",
              "    .colab-df-buttons div {\n",
              "      margin-bottom: 4px;\n",
              "    }\n",
              "\n",
              "    [theme=dark] .colab-df-convert {\n",
              "      background-color: #3B4455;\n",
              "      fill: #D2E3FC;\n",
              "    }\n",
              "\n",
              "    [theme=dark] .colab-df-convert:hover {\n",
              "      background-color: #434B5C;\n",
              "      box-shadow: 0px 1px 3px 1px rgba(0, 0, 0, 0.15);\n",
              "      filter: drop-shadow(0px 1px 2px rgba(0, 0, 0, 0.3));\n",
              "      fill: #FFFFFF;\n",
              "    }\n",
              "  </style>\n",
              "\n",
              "    <script>\n",
              "      const buttonEl =\n",
              "        document.querySelector('#df-4d70706a-f4e4-4c57-a680-9305347bd736 button.colab-df-convert');\n",
              "      buttonEl.style.display =\n",
              "        google.colab.kernel.accessAllowed ? 'block' : 'none';\n",
              "\n",
              "      async function convertToInteractive(key) {\n",
              "        const element = document.querySelector('#df-4d70706a-f4e4-4c57-a680-9305347bd736');\n",
              "        const dataTable =\n",
              "          await google.colab.kernel.invokeFunction('convertToInteractive',\n",
              "                                                    [key], {});\n",
              "        if (!dataTable) return;\n",
              "\n",
              "        const docLinkHtml = 'Like what you see? Visit the ' +\n",
              "          '<a target=\"_blank\" href=https://colab.research.google.com/notebooks/data_table.ipynb>data table notebook</a>'\n",
              "          + ' to learn more about interactive tables.';\n",
              "        element.innerHTML = '';\n",
              "        dataTable['output_type'] = 'display_data';\n",
              "        await google.colab.output.renderOutput(dataTable, element);\n",
              "        const docLink = document.createElement('div');\n",
              "        docLink.innerHTML = docLinkHtml;\n",
              "        element.appendChild(docLink);\n",
              "      }\n",
              "    </script>\n",
              "  </div>\n",
              "\n",
              "\n",
              "<div id=\"df-af1fe4a4-4001-4f68-83f2-dc01d42b1904\">\n",
              "  <button class=\"colab-df-quickchart\" onclick=\"quickchart('df-af1fe4a4-4001-4f68-83f2-dc01d42b1904')\"\n",
              "            title=\"Suggest charts\"\n",
              "            style=\"display:none;\">\n",
              "\n",
              "<svg xmlns=\"http://www.w3.org/2000/svg\" height=\"24px\"viewBox=\"0 0 24 24\"\n",
              "     width=\"24px\">\n",
              "    <g>\n",
              "        <path d=\"M19 3H5c-1.1 0-2 .9-2 2v14c0 1.1.9 2 2 2h14c1.1 0 2-.9 2-2V5c0-1.1-.9-2-2-2zM9 17H7v-7h2v7zm4 0h-2V7h2v10zm4 0h-2v-4h2v4z\"/>\n",
              "    </g>\n",
              "</svg>\n",
              "  </button>\n",
              "\n",
              "<style>\n",
              "  .colab-df-quickchart {\n",
              "      --bg-color: #E8F0FE;\n",
              "      --fill-color: #1967D2;\n",
              "      --hover-bg-color: #E2EBFA;\n",
              "      --hover-fill-color: #174EA6;\n",
              "      --disabled-fill-color: #AAA;\n",
              "      --disabled-bg-color: #DDD;\n",
              "  }\n",
              "\n",
              "  [theme=dark] .colab-df-quickchart {\n",
              "      --bg-color: #3B4455;\n",
              "      --fill-color: #D2E3FC;\n",
              "      --hover-bg-color: #434B5C;\n",
              "      --hover-fill-color: #FFFFFF;\n",
              "      --disabled-bg-color: #3B4455;\n",
              "      --disabled-fill-color: #666;\n",
              "  }\n",
              "\n",
              "  .colab-df-quickchart {\n",
              "    background-color: var(--bg-color);\n",
              "    border: none;\n",
              "    border-radius: 50%;\n",
              "    cursor: pointer;\n",
              "    display: none;\n",
              "    fill: var(--fill-color);\n",
              "    height: 32px;\n",
              "    padding: 0;\n",
              "    width: 32px;\n",
              "  }\n",
              "\n",
              "  .colab-df-quickchart:hover {\n",
              "    background-color: var(--hover-bg-color);\n",
              "    box-shadow: 0 1px 2px rgba(60, 64, 67, 0.3), 0 1px 3px 1px rgba(60, 64, 67, 0.15);\n",
              "    fill: var(--button-hover-fill-color);\n",
              "  }\n",
              "\n",
              "  .colab-df-quickchart-complete:disabled,\n",
              "  .colab-df-quickchart-complete:disabled:hover {\n",
              "    background-color: var(--disabled-bg-color);\n",
              "    fill: var(--disabled-fill-color);\n",
              "    box-shadow: none;\n",
              "  }\n",
              "\n",
              "  .colab-df-spinner {\n",
              "    border: 2px solid var(--fill-color);\n",
              "    border-color: transparent;\n",
              "    border-bottom-color: var(--fill-color);\n",
              "    animation:\n",
              "      spin 1s steps(1) infinite;\n",
              "  }\n",
              "\n",
              "  @keyframes spin {\n",
              "    0% {\n",
              "      border-color: transparent;\n",
              "      border-bottom-color: var(--fill-color);\n",
              "      border-left-color: var(--fill-color);\n",
              "    }\n",
              "    20% {\n",
              "      border-color: transparent;\n",
              "      border-left-color: var(--fill-color);\n",
              "      border-top-color: var(--fill-color);\n",
              "    }\n",
              "    30% {\n",
              "      border-color: transparent;\n",
              "      border-left-color: var(--fill-color);\n",
              "      border-top-color: var(--fill-color);\n",
              "      border-right-color: var(--fill-color);\n",
              "    }\n",
              "    40% {\n",
              "      border-color: transparent;\n",
              "      border-right-color: var(--fill-color);\n",
              "      border-top-color: var(--fill-color);\n",
              "    }\n",
              "    60% {\n",
              "      border-color: transparent;\n",
              "      border-right-color: var(--fill-color);\n",
              "    }\n",
              "    80% {\n",
              "      border-color: transparent;\n",
              "      border-right-color: var(--fill-color);\n",
              "      border-bottom-color: var(--fill-color);\n",
              "    }\n",
              "    90% {\n",
              "      border-color: transparent;\n",
              "      border-bottom-color: var(--fill-color);\n",
              "    }\n",
              "  }\n",
              "</style>\n",
              "\n",
              "  <script>\n",
              "    async function quickchart(key) {\n",
              "      const quickchartButtonEl =\n",
              "        document.querySelector('#' + key + ' button');\n",
              "      quickchartButtonEl.disabled = true;  // To prevent multiple clicks.\n",
              "      quickchartButtonEl.classList.add('colab-df-spinner');\n",
              "      try {\n",
              "        const charts = await google.colab.kernel.invokeFunction(\n",
              "            'suggestCharts', [key], {});\n",
              "      } catch (error) {\n",
              "        console.error('Error during call to suggestCharts:', error);\n",
              "      }\n",
              "      quickchartButtonEl.classList.remove('colab-df-spinner');\n",
              "      quickchartButtonEl.classList.add('colab-df-quickchart-complete');\n",
              "    }\n",
              "    (() => {\n",
              "      let quickchartButtonEl =\n",
              "        document.querySelector('#df-af1fe4a4-4001-4f68-83f2-dc01d42b1904 button');\n",
              "      quickchartButtonEl.style.display =\n",
              "        google.colab.kernel.accessAllowed ? 'block' : 'none';\n",
              "    })();\n",
              "  </script>\n",
              "</div>\n",
              "\n",
              "    </div>\n",
              "  </div>\n"
            ],
            "application/vnd.google.colaboratory.intrinsic+json": {
              "type": "dataframe",
              "variable_name": "brasileirao",
              "summary": "{\n  \"name\": \"brasileirao\",\n  \"rows\": 380,\n  \"fields\": [\n    {\n      \"column\": \"Data\",\n      \"properties\": {\n        \"dtype\": \"object\",\n        \"num_unique_values\": 107,\n        \"samples\": [\n          \"6/10/2018\",\n          \"5/05/2018\",\n          \"22/04/2018\"\n        ],\n        \"semantic_type\": \"\",\n        \"description\": \"\"\n      }\n    },\n    {\n      \"column\": \"Turno\",\n      \"properties\": {\n        \"dtype\": \"number\",\n        \"std\": 0,\n        \"min\": 1,\n        \"max\": 2,\n        \"num_unique_values\": 2,\n        \"samples\": [\n          2,\n          1\n        ],\n        \"semantic_type\": \"\",\n        \"description\": \"\"\n      }\n    },\n    {\n      \"column\": \"Mandante\",\n      \"properties\": {\n        \"dtype\": \"category\",\n        \"num_unique_values\": 20,\n        \"samples\": [\n          \"Cruzeiro\",\n          \"Palmeiras\"\n        ],\n        \"semantic_type\": \"\",\n        \"description\": \"\"\n      }\n    },\n    {\n      \"column\": \"Placar do Mandante\",\n      \"properties\": {\n        \"dtype\": \"number\",\n        \"std\": 1,\n        \"min\": 0,\n        \"max\": 5,\n        \"num_unique_values\": 6,\n        \"samples\": [\n          0,\n          2\n        ],\n        \"semantic_type\": \"\",\n        \"description\": \"\"\n      }\n    },\n    {\n      \"column\": \"Placar do Visitante\",\n      \"properties\": {\n        \"dtype\": \"number\",\n        \"std\": 0,\n        \"min\": 0,\n        \"max\": 4,\n        \"num_unique_values\": 5,\n        \"samples\": [\n          2,\n          3\n        ],\n        \"semantic_type\": \"\",\n        \"description\": \"\"\n      }\n    },\n    {\n      \"column\": \"Visitante\",\n      \"properties\": {\n        \"dtype\": \"category\",\n        \"num_unique_values\": 20,\n        \"samples\": [\n          \"Gr\\u00eamio\",\n          \"Internacional\"\n        ],\n        \"semantic_type\": \"\",\n        \"description\": \"\"\n      }\n    },\n    {\n      \"column\": \"Est\\u00e1dio\",\n      \"properties\": {\n        \"dtype\": \"category\",\n        \"num_unique_values\": 25,\n        \"samples\": [\n          \"Est\\u00e1dio Engenh\\u00e3o, Rio de Janeiro\",\n          \"Est\\u00e1dio Ilha do Retiro, Recife\"\n        ],\n        \"semantic_type\": \"\",\n        \"description\": \"\"\n      }\n    },\n    {\n      \"column\": \"Hor\\u00e1rio\",\n      \"properties\": {\n        \"dtype\": \"object\",\n        \"num_unique_values\": 11,\n        \"samples\": [\n          \"19:30\",\n          \"16:00\"\n        ],\n        \"semantic_type\": \"\",\n        \"description\": \"\"\n      }\n    },\n    {\n      \"column\": \"Gols do Mandante\",\n      \"properties\": {\n        \"dtype\": \"string\",\n        \"num_unique_values\": 291,\n        \"samples\": [\n          \"Diego 20' Felipe Vizeu 65'\",\n          \"Leandro Dami\\u00e3o 23' Eden\\u00edlson 45'\"\n        ],\n        \"semantic_type\": \"\",\n        \"description\": \"\"\n      }\n    },\n    {\n      \"column\": \"Gols do Visitante\",\n      \"properties\": {\n        \"dtype\": \"string\",\n        \"num_unique_values\": 208,\n        \"samples\": [\n          \"54' Arthur\",\n          \"78' R\\u00edos\"\n        ],\n        \"semantic_type\": \"\",\n        \"description\": \"\"\n      }\n    },\n    {\n      \"column\": \"P\\u00fablico\",\n      \"properties\": {\n        \"dtype\": \"number\",\n        \"std\": 13770,\n        \"min\": 931,\n        \"max\": 62994,\n        \"num_unique_values\": 379,\n        \"samples\": [\n          29394,\n          10841\n        ],\n        \"semantic_type\": \"\",\n        \"description\": \"\"\n      }\n    },\n    {\n      \"column\": \"\\u00c1rbitro\",\n      \"properties\": {\n        \"dtype\": \"category\",\n        \"num_unique_values\": 40,\n        \"samples\": [\n          \" PR Rafael Traci\",\n          \" PR Paulo Roberto Alves J\\u00fanior\"\n        ],\n        \"semantic_type\": \"\",\n        \"description\": \"\"\n      }\n    },\n    {\n      \"column\": \"Renda (R$)\",\n      \"properties\": {\n        \"dtype\": \"number\",\n        \"std\": 640697.9177476433,\n        \"min\": 15030.0,\n        \"max\": 3514618.3,\n        \"num_unique_values\": 380,\n        \"samples\": [\n          285760.0,\n          99755.0\n        ],\n        \"semantic_type\": \"\",\n        \"description\": \"\"\n      }\n    }\n  ]\n}"
            }
          },
          "metadata": {},
          "execution_count": 70
        }
      ],
      "source": [
        "import pandas as pd\n",
        "brasileirao = pd.read_csv('https://raw.githubusercontent.com/BMClab/BasesComputacionais/master/dados/tabelaBrasileirao2018.csv')\n",
        "brasileirao.head()"
      ]
    },
    {
      "cell_type": "markdown",
      "metadata": {
        "id": "RA66YQNgx7Gl"
      },
      "source": [
        "Para calcular a mediana de uma coluna, basta acrescentar '.median()' após a chamada da coluna. Por exemplo, abaixo são calculadas a mediana e a média de Público dos jogos:"
      ]
    },
    {
      "cell_type": "code",
      "execution_count": 71,
      "metadata": {
        "colab": {
          "base_uri": "https://localhost:8080/"
        },
        "id": "NWsK_tW2x7Gm",
        "outputId": "38aa6f02-c28d-4e52-ce9f-6102e1fffede"
      },
      "outputs": [
        {
          "output_type": "stream",
          "name": "stdout",
          "text": [
            "A média de público é 18863.31842105263 e a mediana de público é 14689.5\n"
          ]
        }
      ],
      "source": [
        "medianaPublico = brasileirao['Público'].median()\n",
        "mediaPublico = brasileirao['Público'].mean()\n",
        "print(f'A média de público é {mediaPublico} e a mediana de público é {medianaPublico}')"
      ]
    },
    {
      "cell_type": "markdown",
      "metadata": {
        "id": "NI2yYLo5x7Gm"
      },
      "source": [
        "Um outro exemplo, para calcular a mediana da coluna 'Público' nos itens em que a coluna 'Mandante' seja 'Corinthians':"
      ]
    },
    {
      "cell_type": "code",
      "execution_count": 73,
      "metadata": {
        "id": "wKz1MWPNx7Gm",
        "outputId": "d0790b8d-7ceb-4824-f7df-80e969c599de",
        "colab": {
          "base_uri": "https://localhost:8080/"
        }
      },
      "outputs": [
        {
          "output_type": "execute_result",
          "data": {
            "text/plain": [
              "29371.0"
            ]
          },
          "metadata": {},
          "execution_count": 73
        }
      ],
      "source": [
        "medianaPublicoCorinthians = brasileirao.query(\"Mandante == 'Corinthians'\")['Público'].median()\n",
        "medianaPublicoCorinthians"
      ]
    },
    {
      "cell_type": "markdown",
      "metadata": {
        "id": "mKiUy5JOx7Gn"
      },
      "source": [
        "Também é possível calcular a mediana do conteúdo de uma coluna dividida por algum critério, por exemplo outra coluna, usando a função groupby. Por exemplo, a instrução abaixo calcula a mediana da coluna *Público* para cada time *Mandante*."
      ]
    },
    {
      "cell_type": "code",
      "execution_count": 75,
      "metadata": {
        "colab": {
          "base_uri": "https://localhost:8080/",
          "height": 742
        },
        "id": "HkUoN5vux7Gn",
        "outputId": "367c66a0-810c-4991-9deb-1727ac31cdd6"
      },
      "outputs": [
        {
          "output_type": "execute_result",
          "data": {
            "text/plain": [
              "Mandante\n",
              "América Mineiro         4062.0\n",
              "Atlético Mineiro       18688.0\n",
              "Atlético Paranaense     9204.0\n",
              "Bahia                  17448.0\n",
              "Botafogo                8498.0\n",
              "Ceará                  29186.0\n",
              "Chapecoense             8075.0\n",
              "Corinthians            29371.0\n",
              "Cruzeiro               13160.0\n",
              "Flamengo               48894.0\n",
              "Fluminense             10031.0\n",
              "Grêmio                 19865.0\n",
              "Internacional          27535.0\n",
              "Palmeiras              32841.0\n",
              "Paraná                  4504.0\n",
              "Santos                 10792.0\n",
              "Sport                  11699.0\n",
              "São Paulo              32612.0\n",
              "Vasco da Gama          10571.0\n",
              "Vitória                 8371.0\n",
              "Name: Público, dtype: float64"
            ],
            "text/html": [
              "<div>\n",
              "<style scoped>\n",
              "    .dataframe tbody tr th:only-of-type {\n",
              "        vertical-align: middle;\n",
              "    }\n",
              "\n",
              "    .dataframe tbody tr th {\n",
              "        vertical-align: top;\n",
              "    }\n",
              "\n",
              "    .dataframe thead th {\n",
              "        text-align: right;\n",
              "    }\n",
              "</style>\n",
              "<table border=\"1\" class=\"dataframe\">\n",
              "  <thead>\n",
              "    <tr style=\"text-align: right;\">\n",
              "      <th></th>\n",
              "      <th>Público</th>\n",
              "    </tr>\n",
              "    <tr>\n",
              "      <th>Mandante</th>\n",
              "      <th></th>\n",
              "    </tr>\n",
              "  </thead>\n",
              "  <tbody>\n",
              "    <tr>\n",
              "      <th>América Mineiro</th>\n",
              "      <td>4062.0</td>\n",
              "    </tr>\n",
              "    <tr>\n",
              "      <th>Atlético Mineiro</th>\n",
              "      <td>18688.0</td>\n",
              "    </tr>\n",
              "    <tr>\n",
              "      <th>Atlético Paranaense</th>\n",
              "      <td>9204.0</td>\n",
              "    </tr>\n",
              "    <tr>\n",
              "      <th>Bahia</th>\n",
              "      <td>17448.0</td>\n",
              "    </tr>\n",
              "    <tr>\n",
              "      <th>Botafogo</th>\n",
              "      <td>8498.0</td>\n",
              "    </tr>\n",
              "    <tr>\n",
              "      <th>Ceará</th>\n",
              "      <td>29186.0</td>\n",
              "    </tr>\n",
              "    <tr>\n",
              "      <th>Chapecoense</th>\n",
              "      <td>8075.0</td>\n",
              "    </tr>\n",
              "    <tr>\n",
              "      <th>Corinthians</th>\n",
              "      <td>29371.0</td>\n",
              "    </tr>\n",
              "    <tr>\n",
              "      <th>Cruzeiro</th>\n",
              "      <td>13160.0</td>\n",
              "    </tr>\n",
              "    <tr>\n",
              "      <th>Flamengo</th>\n",
              "      <td>48894.0</td>\n",
              "    </tr>\n",
              "    <tr>\n",
              "      <th>Fluminense</th>\n",
              "      <td>10031.0</td>\n",
              "    </tr>\n",
              "    <tr>\n",
              "      <th>Grêmio</th>\n",
              "      <td>19865.0</td>\n",
              "    </tr>\n",
              "    <tr>\n",
              "      <th>Internacional</th>\n",
              "      <td>27535.0</td>\n",
              "    </tr>\n",
              "    <tr>\n",
              "      <th>Palmeiras</th>\n",
              "      <td>32841.0</td>\n",
              "    </tr>\n",
              "    <tr>\n",
              "      <th>Paraná</th>\n",
              "      <td>4504.0</td>\n",
              "    </tr>\n",
              "    <tr>\n",
              "      <th>Santos</th>\n",
              "      <td>10792.0</td>\n",
              "    </tr>\n",
              "    <tr>\n",
              "      <th>Sport</th>\n",
              "      <td>11699.0</td>\n",
              "    </tr>\n",
              "    <tr>\n",
              "      <th>São Paulo</th>\n",
              "      <td>32612.0</td>\n",
              "    </tr>\n",
              "    <tr>\n",
              "      <th>Vasco da Gama</th>\n",
              "      <td>10571.0</td>\n",
              "    </tr>\n",
              "    <tr>\n",
              "      <th>Vitória</th>\n",
              "      <td>8371.0</td>\n",
              "    </tr>\n",
              "  </tbody>\n",
              "</table>\n",
              "</div><br><label><b>dtype:</b> float64</label>"
            ]
          },
          "metadata": {},
          "execution_count": 75
        }
      ],
      "source": [
        "brasileirao.groupby('Mandante')['Público'].median()"
      ]
    },
    {
      "cell_type": "markdown",
      "metadata": {
        "id": "JgT32Xzrx7Gn"
      },
      "source": [
        "### Moda\n",
        "\n",
        "É o elemento mais comum entre as amostras. É a única medida de tendência central que pode ser usada em variáveis qualitativas."
      ]
    },
    {
      "cell_type": "markdown",
      "metadata": {
        "id": "3tL4YpwFx7Gn"
      },
      "source": [
        "No Pandas, existe a função 'mode()'. Por exemplo, para saber qual o árbitro que mais apitou no Campeonato Brasilero de Futebol de 2018:"
      ]
    },
    {
      "cell_type": "code",
      "execution_count": 76,
      "metadata": {
        "colab": {
          "base_uri": "https://localhost:8080/",
          "height": 115
        },
        "id": "ukHK7w71x7Go",
        "outputId": "296d8f08-71fc-4ea0-f2ca-178f118aab04"
      },
      "outputs": [
        {
          "output_type": "execute_result",
          "data": {
            "text/plain": [
              "0     SP Raphael Claus\n",
              "Name: Árbitro, dtype: object"
            ],
            "text/html": [
              "<div>\n",
              "<style scoped>\n",
              "    .dataframe tbody tr th:only-of-type {\n",
              "        vertical-align: middle;\n",
              "    }\n",
              "\n",
              "    .dataframe tbody tr th {\n",
              "        vertical-align: top;\n",
              "    }\n",
              "\n",
              "    .dataframe thead th {\n",
              "        text-align: right;\n",
              "    }\n",
              "</style>\n",
              "<table border=\"1\" class=\"dataframe\">\n",
              "  <thead>\n",
              "    <tr style=\"text-align: right;\">\n",
              "      <th></th>\n",
              "      <th>Árbitro</th>\n",
              "    </tr>\n",
              "  </thead>\n",
              "  <tbody>\n",
              "    <tr>\n",
              "      <th>0</th>\n",
              "      <td>SP Raphael Claus</td>\n",
              "    </tr>\n",
              "  </tbody>\n",
              "</table>\n",
              "</div><br><label><b>dtype:</b> object</label>"
            ]
          },
          "metadata": {},
          "execution_count": 76
        }
      ],
      "source": [
        "brasileirao['Árbitro'].mode()"
      ]
    },
    {
      "cell_type": "markdown",
      "metadata": {
        "id": "KUViElgbx7Go"
      },
      "source": [
        "Um outro exemplo mais complexo. Na tabela abaixo estão as visualizações de um usuário do Netflix, com as datas. O objetivo é saber qual o mês que mais se viu no Netflix."
      ]
    },
    {
      "cell_type": "code",
      "execution_count": 25,
      "metadata": {
        "id": "4svRuuPgx7Go",
        "outputId": "c56f9c11-f4b9-49bd-86a7-14b855e64577",
        "colab": {
          "base_uri": "https://localhost:8080/",
          "height": 423
        }
      },
      "outputs": [
        {
          "output_type": "execute_result",
          "data": {
            "text/plain": [
              "                                                 Title        Date\n",
              "0                                     Meu Amigo Totoro  23/07/2024\n",
              "1    Peppa Pig: Temporada 5: A Cidade da Batata / A...  30/06/2024\n",
              "2    Peppa Pig: Temporada 4: O computador do Vovô P...  29/06/2024\n",
              "3                  Ponyo - Uma Amizade que Veio do Mar  22/06/2024\n",
              "4                        O Serviço de Entregas da Kiki  17/06/2024\n",
              "..                                                 ...         ...\n",
              "973                                      Os miseráveis  07/07/2013\n",
              "974  Além da imaginação (Série original): Temporada...  07/07/2013\n",
              "975  Além da imaginação (Série original): Temporada...  05/07/2013\n",
              "976                                      Jogos Vorazes  05/07/2013\n",
              "977                     Arquivo X: Temporada 1: Piloto  05/07/2013\n",
              "\n",
              "[978 rows x 2 columns]"
            ],
            "text/html": [
              "\n",
              "  <div id=\"df-bbd43470-4982-4bd9-abb1-a8b72cecf663\" class=\"colab-df-container\">\n",
              "    <div>\n",
              "<style scoped>\n",
              "    .dataframe tbody tr th:only-of-type {\n",
              "        vertical-align: middle;\n",
              "    }\n",
              "\n",
              "    .dataframe tbody tr th {\n",
              "        vertical-align: top;\n",
              "    }\n",
              "\n",
              "    .dataframe thead th {\n",
              "        text-align: right;\n",
              "    }\n",
              "</style>\n",
              "<table border=\"1\" class=\"dataframe\">\n",
              "  <thead>\n",
              "    <tr style=\"text-align: right;\">\n",
              "      <th></th>\n",
              "      <th>Title</th>\n",
              "      <th>Date</th>\n",
              "    </tr>\n",
              "  </thead>\n",
              "  <tbody>\n",
              "    <tr>\n",
              "      <th>0</th>\n",
              "      <td>Meu Amigo Totoro</td>\n",
              "      <td>23/07/2024</td>\n",
              "    </tr>\n",
              "    <tr>\n",
              "      <th>1</th>\n",
              "      <td>Peppa Pig: Temporada 5: A Cidade da Batata / A...</td>\n",
              "      <td>30/06/2024</td>\n",
              "    </tr>\n",
              "    <tr>\n",
              "      <th>2</th>\n",
              "      <td>Peppa Pig: Temporada 4: O computador do Vovô P...</td>\n",
              "      <td>29/06/2024</td>\n",
              "    </tr>\n",
              "    <tr>\n",
              "      <th>3</th>\n",
              "      <td>Ponyo - Uma Amizade que Veio do Mar</td>\n",
              "      <td>22/06/2024</td>\n",
              "    </tr>\n",
              "    <tr>\n",
              "      <th>4</th>\n",
              "      <td>O Serviço de Entregas da Kiki</td>\n",
              "      <td>17/06/2024</td>\n",
              "    </tr>\n",
              "    <tr>\n",
              "      <th>...</th>\n",
              "      <td>...</td>\n",
              "      <td>...</td>\n",
              "    </tr>\n",
              "    <tr>\n",
              "      <th>973</th>\n",
              "      <td>Os miseráveis</td>\n",
              "      <td>07/07/2013</td>\n",
              "    </tr>\n",
              "    <tr>\n",
              "      <th>974</th>\n",
              "      <td>Além da imaginação (Série original): Temporada...</td>\n",
              "      <td>07/07/2013</td>\n",
              "    </tr>\n",
              "    <tr>\n",
              "      <th>975</th>\n",
              "      <td>Além da imaginação (Série original): Temporada...</td>\n",
              "      <td>05/07/2013</td>\n",
              "    </tr>\n",
              "    <tr>\n",
              "      <th>976</th>\n",
              "      <td>Jogos Vorazes</td>\n",
              "      <td>05/07/2013</td>\n",
              "    </tr>\n",
              "    <tr>\n",
              "      <th>977</th>\n",
              "      <td>Arquivo X: Temporada 1: Piloto</td>\n",
              "      <td>05/07/2013</td>\n",
              "    </tr>\n",
              "  </tbody>\n",
              "</table>\n",
              "<p>978 rows × 2 columns</p>\n",
              "</div>\n",
              "    <div class=\"colab-df-buttons\">\n",
              "\n",
              "  <div class=\"colab-df-container\">\n",
              "    <button class=\"colab-df-convert\" onclick=\"convertToInteractive('df-bbd43470-4982-4bd9-abb1-a8b72cecf663')\"\n",
              "            title=\"Convert this dataframe to an interactive table.\"\n",
              "            style=\"display:none;\">\n",
              "\n",
              "  <svg xmlns=\"http://www.w3.org/2000/svg\" height=\"24px\" viewBox=\"0 -960 960 960\">\n",
              "    <path d=\"M120-120v-720h720v720H120Zm60-500h600v-160H180v160Zm220 220h160v-160H400v160Zm0 220h160v-160H400v160ZM180-400h160v-160H180v160Zm440 0h160v-160H620v160ZM180-180h160v-160H180v160Zm440 0h160v-160H620v160Z\"/>\n",
              "  </svg>\n",
              "    </button>\n",
              "\n",
              "  <style>\n",
              "    .colab-df-container {\n",
              "      display:flex;\n",
              "      gap: 12px;\n",
              "    }\n",
              "\n",
              "    .colab-df-convert {\n",
              "      background-color: #E8F0FE;\n",
              "      border: none;\n",
              "      border-radius: 50%;\n",
              "      cursor: pointer;\n",
              "      display: none;\n",
              "      fill: #1967D2;\n",
              "      height: 32px;\n",
              "      padding: 0 0 0 0;\n",
              "      width: 32px;\n",
              "    }\n",
              "\n",
              "    .colab-df-convert:hover {\n",
              "      background-color: #E2EBFA;\n",
              "      box-shadow: 0px 1px 2px rgba(60, 64, 67, 0.3), 0px 1px 3px 1px rgba(60, 64, 67, 0.15);\n",
              "      fill: #174EA6;\n",
              "    }\n",
              "\n",
              "    .colab-df-buttons div {\n",
              "      margin-bottom: 4px;\n",
              "    }\n",
              "\n",
              "    [theme=dark] .colab-df-convert {\n",
              "      background-color: #3B4455;\n",
              "      fill: #D2E3FC;\n",
              "    }\n",
              "\n",
              "    [theme=dark] .colab-df-convert:hover {\n",
              "      background-color: #434B5C;\n",
              "      box-shadow: 0px 1px 3px 1px rgba(0, 0, 0, 0.15);\n",
              "      filter: drop-shadow(0px 1px 2px rgba(0, 0, 0, 0.3));\n",
              "      fill: #FFFFFF;\n",
              "    }\n",
              "  </style>\n",
              "\n",
              "    <script>\n",
              "      const buttonEl =\n",
              "        document.querySelector('#df-bbd43470-4982-4bd9-abb1-a8b72cecf663 button.colab-df-convert');\n",
              "      buttonEl.style.display =\n",
              "        google.colab.kernel.accessAllowed ? 'block' : 'none';\n",
              "\n",
              "      async function convertToInteractive(key) {\n",
              "        const element = document.querySelector('#df-bbd43470-4982-4bd9-abb1-a8b72cecf663');\n",
              "        const dataTable =\n",
              "          await google.colab.kernel.invokeFunction('convertToInteractive',\n",
              "                                                    [key], {});\n",
              "        if (!dataTable) return;\n",
              "\n",
              "        const docLinkHtml = 'Like what you see? Visit the ' +\n",
              "          '<a target=\"_blank\" href=https://colab.research.google.com/notebooks/data_table.ipynb>data table notebook</a>'\n",
              "          + ' to learn more about interactive tables.';\n",
              "        element.innerHTML = '';\n",
              "        dataTable['output_type'] = 'display_data';\n",
              "        await google.colab.output.renderOutput(dataTable, element);\n",
              "        const docLink = document.createElement('div');\n",
              "        docLink.innerHTML = docLinkHtml;\n",
              "        element.appendChild(docLink);\n",
              "      }\n",
              "    </script>\n",
              "  </div>\n",
              "\n",
              "\n",
              "<div id=\"df-a838dc9e-50c8-4933-8283-54df9dc52ac1\">\n",
              "  <button class=\"colab-df-quickchart\" onclick=\"quickchart('df-a838dc9e-50c8-4933-8283-54df9dc52ac1')\"\n",
              "            title=\"Suggest charts\"\n",
              "            style=\"display:none;\">\n",
              "\n",
              "<svg xmlns=\"http://www.w3.org/2000/svg\" height=\"24px\"viewBox=\"0 0 24 24\"\n",
              "     width=\"24px\">\n",
              "    <g>\n",
              "        <path d=\"M19 3H5c-1.1 0-2 .9-2 2v14c0 1.1.9 2 2 2h14c1.1 0 2-.9 2-2V5c0-1.1-.9-2-2-2zM9 17H7v-7h2v7zm4 0h-2V7h2v10zm4 0h-2v-4h2v4z\"/>\n",
              "    </g>\n",
              "</svg>\n",
              "  </button>\n",
              "\n",
              "<style>\n",
              "  .colab-df-quickchart {\n",
              "      --bg-color: #E8F0FE;\n",
              "      --fill-color: #1967D2;\n",
              "      --hover-bg-color: #E2EBFA;\n",
              "      --hover-fill-color: #174EA6;\n",
              "      --disabled-fill-color: #AAA;\n",
              "      --disabled-bg-color: #DDD;\n",
              "  }\n",
              "\n",
              "  [theme=dark] .colab-df-quickchart {\n",
              "      --bg-color: #3B4455;\n",
              "      --fill-color: #D2E3FC;\n",
              "      --hover-bg-color: #434B5C;\n",
              "      --hover-fill-color: #FFFFFF;\n",
              "      --disabled-bg-color: #3B4455;\n",
              "      --disabled-fill-color: #666;\n",
              "  }\n",
              "\n",
              "  .colab-df-quickchart {\n",
              "    background-color: var(--bg-color);\n",
              "    border: none;\n",
              "    border-radius: 50%;\n",
              "    cursor: pointer;\n",
              "    display: none;\n",
              "    fill: var(--fill-color);\n",
              "    height: 32px;\n",
              "    padding: 0;\n",
              "    width: 32px;\n",
              "  }\n",
              "\n",
              "  .colab-df-quickchart:hover {\n",
              "    background-color: var(--hover-bg-color);\n",
              "    box-shadow: 0 1px 2px rgba(60, 64, 67, 0.3), 0 1px 3px 1px rgba(60, 64, 67, 0.15);\n",
              "    fill: var(--button-hover-fill-color);\n",
              "  }\n",
              "\n",
              "  .colab-df-quickchart-complete:disabled,\n",
              "  .colab-df-quickchart-complete:disabled:hover {\n",
              "    background-color: var(--disabled-bg-color);\n",
              "    fill: var(--disabled-fill-color);\n",
              "    box-shadow: none;\n",
              "  }\n",
              "\n",
              "  .colab-df-spinner {\n",
              "    border: 2px solid var(--fill-color);\n",
              "    border-color: transparent;\n",
              "    border-bottom-color: var(--fill-color);\n",
              "    animation:\n",
              "      spin 1s steps(1) infinite;\n",
              "  }\n",
              "\n",
              "  @keyframes spin {\n",
              "    0% {\n",
              "      border-color: transparent;\n",
              "      border-bottom-color: var(--fill-color);\n",
              "      border-left-color: var(--fill-color);\n",
              "    }\n",
              "    20% {\n",
              "      border-color: transparent;\n",
              "      border-left-color: var(--fill-color);\n",
              "      border-top-color: var(--fill-color);\n",
              "    }\n",
              "    30% {\n",
              "      border-color: transparent;\n",
              "      border-left-color: var(--fill-color);\n",
              "      border-top-color: var(--fill-color);\n",
              "      border-right-color: var(--fill-color);\n",
              "    }\n",
              "    40% {\n",
              "      border-color: transparent;\n",
              "      border-right-color: var(--fill-color);\n",
              "      border-top-color: var(--fill-color);\n",
              "    }\n",
              "    60% {\n",
              "      border-color: transparent;\n",
              "      border-right-color: var(--fill-color);\n",
              "    }\n",
              "    80% {\n",
              "      border-color: transparent;\n",
              "      border-right-color: var(--fill-color);\n",
              "      border-bottom-color: var(--fill-color);\n",
              "    }\n",
              "    90% {\n",
              "      border-color: transparent;\n",
              "      border-bottom-color: var(--fill-color);\n",
              "    }\n",
              "  }\n",
              "</style>\n",
              "\n",
              "  <script>\n",
              "    async function quickchart(key) {\n",
              "      const quickchartButtonEl =\n",
              "        document.querySelector('#' + key + ' button');\n",
              "      quickchartButtonEl.disabled = true;  // To prevent multiple clicks.\n",
              "      quickchartButtonEl.classList.add('colab-df-spinner');\n",
              "      try {\n",
              "        const charts = await google.colab.kernel.invokeFunction(\n",
              "            'suggestCharts', [key], {});\n",
              "      } catch (error) {\n",
              "        console.error('Error during call to suggestCharts:', error);\n",
              "      }\n",
              "      quickchartButtonEl.classList.remove('colab-df-spinner');\n",
              "      quickchartButtonEl.classList.add('colab-df-quickchart-complete');\n",
              "    }\n",
              "    (() => {\n",
              "      let quickchartButtonEl =\n",
              "        document.querySelector('#df-a838dc9e-50c8-4933-8283-54df9dc52ac1 button');\n",
              "      quickchartButtonEl.style.display =\n",
              "        google.colab.kernel.accessAllowed ? 'block' : 'none';\n",
              "    })();\n",
              "  </script>\n",
              "</div>\n",
              "\n",
              "  <div id=\"id_6a8be493-1eb2-42b4-afa2-ac2de6ff2e51\">\n",
              "    <style>\n",
              "      .colab-df-generate {\n",
              "        background-color: #E8F0FE;\n",
              "        border: none;\n",
              "        border-radius: 50%;\n",
              "        cursor: pointer;\n",
              "        display: none;\n",
              "        fill: #1967D2;\n",
              "        height: 32px;\n",
              "        padding: 0 0 0 0;\n",
              "        width: 32px;\n",
              "      }\n",
              "\n",
              "      .colab-df-generate:hover {\n",
              "        background-color: #E2EBFA;\n",
              "        box-shadow: 0px 1px 2px rgba(60, 64, 67, 0.3), 0px 1px 3px 1px rgba(60, 64, 67, 0.15);\n",
              "        fill: #174EA6;\n",
              "      }\n",
              "\n",
              "      [theme=dark] .colab-df-generate {\n",
              "        background-color: #3B4455;\n",
              "        fill: #D2E3FC;\n",
              "      }\n",
              "\n",
              "      [theme=dark] .colab-df-generate:hover {\n",
              "        background-color: #434B5C;\n",
              "        box-shadow: 0px 1px 3px 1px rgba(0, 0, 0, 0.15);\n",
              "        filter: drop-shadow(0px 1px 2px rgba(0, 0, 0, 0.3));\n",
              "        fill: #FFFFFF;\n",
              "      }\n",
              "    </style>\n",
              "    <button class=\"colab-df-generate\" onclick=\"generateWithVariable('netflix')\"\n",
              "            title=\"Generate code using this dataframe.\"\n",
              "            style=\"display:none;\">\n",
              "\n",
              "  <svg xmlns=\"http://www.w3.org/2000/svg\" height=\"24px\"viewBox=\"0 0 24 24\"\n",
              "       width=\"24px\">\n",
              "    <path d=\"M7,19H8.4L18.45,9,17,7.55,7,17.6ZM5,21V16.75L18.45,3.32a2,2,0,0,1,2.83,0l1.4,1.43a1.91,1.91,0,0,1,.58,1.4,1.91,1.91,0,0,1-.58,1.4L9.25,21ZM18.45,9,17,7.55Zm-12,3A5.31,5.31,0,0,0,4.9,8.1,5.31,5.31,0,0,0,1,6.5,5.31,5.31,0,0,0,4.9,4.9,5.31,5.31,0,0,0,6.5,1,5.31,5.31,0,0,0,8.1,4.9,5.31,5.31,0,0,0,12,6.5,5.46,5.46,0,0,0,6.5,12Z\"/>\n",
              "  </svg>\n",
              "    </button>\n",
              "    <script>\n",
              "      (() => {\n",
              "      const buttonEl =\n",
              "        document.querySelector('#id_6a8be493-1eb2-42b4-afa2-ac2de6ff2e51 button.colab-df-generate');\n",
              "      buttonEl.style.display =\n",
              "        google.colab.kernel.accessAllowed ? 'block' : 'none';\n",
              "\n",
              "      buttonEl.onclick = () => {\n",
              "        google.colab.notebook.generateWithVariable('netflix');\n",
              "      }\n",
              "      })();\n",
              "    </script>\n",
              "  </div>\n",
              "\n",
              "    </div>\n",
              "  </div>\n"
            ],
            "application/vnd.google.colaboratory.intrinsic+json": {
              "type": "dataframe",
              "variable_name": "netflix",
              "summary": "{\n  \"name\": \"netflix\",\n  \"rows\": 978,\n  \"fields\": [\n    {\n      \"column\": \"Title\",\n      \"properties\": {\n        \"dtype\": \"string\",\n        \"num_unique_values\": 978,\n        \"samples\": [\n          \"The Crown: Temporada 4: Terra de ningu\\u00e9m\",\n          \"Perdidos no Espa\\u00e7o: Temporada 1: Diamantes no c\\u00e9u\",\n          \"Aggretsuko: Temporada 4: Encontro\"\n        ],\n        \"semantic_type\": \"\",\n        \"description\": \"\"\n      }\n    },\n    {\n      \"column\": \"Date\",\n      \"properties\": {\n        \"dtype\": \"object\",\n        \"num_unique_values\": 580,\n        \"samples\": [\n          \"14/07/2013\",\n          \"25/01/2019\",\n          \"22/03/2021\"\n        ],\n        \"semantic_type\": \"\",\n        \"description\": \"\"\n      }\n    }\n  ]\n}"
            }
          },
          "metadata": {},
          "execution_count": 25
        }
      ],
      "source": [
        "netflix = pd.read_csv('https://raw.githubusercontent.com/BMClab/BasesComputacionais/master/dados/netflix.csv')\n",
        "netflix"
      ]
    },
    {
      "cell_type": "markdown",
      "metadata": {
        "id": "iHgbzj0Wx7Go"
      },
      "source": [
        "Primeiro se cria uma coluna com o mês."
      ]
    },
    {
      "cell_type": "code",
      "execution_count": 26,
      "metadata": {
        "id": "wURGMk-bx7Gp",
        "outputId": "c836646b-eca4-47f6-c599-5d42ec52e84a",
        "colab": {
          "base_uri": "https://localhost:8080/",
          "height": 423
        }
      },
      "outputs": [
        {
          "output_type": "execute_result",
          "data": {
            "text/plain": [
              "                                                 Title       Date   Mês\n",
              "0                                     Meu Amigo Totoro 2024-07-23  July\n",
              "1    Peppa Pig: Temporada 5: A Cidade da Batata / A... 2024-06-30  June\n",
              "2    Peppa Pig: Temporada 4: O computador do Vovô P... 2024-06-29  June\n",
              "3                  Ponyo - Uma Amizade que Veio do Mar 2024-06-22  June\n",
              "4                        O Serviço de Entregas da Kiki 2024-06-17  June\n",
              "..                                                 ...        ...   ...\n",
              "973                                      Os miseráveis 2013-07-07  July\n",
              "974  Além da imaginação (Série original): Temporada... 2013-07-07  July\n",
              "975  Além da imaginação (Série original): Temporada... 2013-07-05  July\n",
              "976                                      Jogos Vorazes 2013-07-05  July\n",
              "977                     Arquivo X: Temporada 1: Piloto 2013-07-05  July\n",
              "\n",
              "[978 rows x 3 columns]"
            ],
            "text/html": [
              "\n",
              "  <div id=\"df-e579ed48-6bb4-4142-b57a-f54aa5169c4b\" class=\"colab-df-container\">\n",
              "    <div>\n",
              "<style scoped>\n",
              "    .dataframe tbody tr th:only-of-type {\n",
              "        vertical-align: middle;\n",
              "    }\n",
              "\n",
              "    .dataframe tbody tr th {\n",
              "        vertical-align: top;\n",
              "    }\n",
              "\n",
              "    .dataframe thead th {\n",
              "        text-align: right;\n",
              "    }\n",
              "</style>\n",
              "<table border=\"1\" class=\"dataframe\">\n",
              "  <thead>\n",
              "    <tr style=\"text-align: right;\">\n",
              "      <th></th>\n",
              "      <th>Title</th>\n",
              "      <th>Date</th>\n",
              "      <th>Mês</th>\n",
              "    </tr>\n",
              "  </thead>\n",
              "  <tbody>\n",
              "    <tr>\n",
              "      <th>0</th>\n",
              "      <td>Meu Amigo Totoro</td>\n",
              "      <td>2024-07-23</td>\n",
              "      <td>July</td>\n",
              "    </tr>\n",
              "    <tr>\n",
              "      <th>1</th>\n",
              "      <td>Peppa Pig: Temporada 5: A Cidade da Batata / A...</td>\n",
              "      <td>2024-06-30</td>\n",
              "      <td>June</td>\n",
              "    </tr>\n",
              "    <tr>\n",
              "      <th>2</th>\n",
              "      <td>Peppa Pig: Temporada 4: O computador do Vovô P...</td>\n",
              "      <td>2024-06-29</td>\n",
              "      <td>June</td>\n",
              "    </tr>\n",
              "    <tr>\n",
              "      <th>3</th>\n",
              "      <td>Ponyo - Uma Amizade que Veio do Mar</td>\n",
              "      <td>2024-06-22</td>\n",
              "      <td>June</td>\n",
              "    </tr>\n",
              "    <tr>\n",
              "      <th>4</th>\n",
              "      <td>O Serviço de Entregas da Kiki</td>\n",
              "      <td>2024-06-17</td>\n",
              "      <td>June</td>\n",
              "    </tr>\n",
              "    <tr>\n",
              "      <th>...</th>\n",
              "      <td>...</td>\n",
              "      <td>...</td>\n",
              "      <td>...</td>\n",
              "    </tr>\n",
              "    <tr>\n",
              "      <th>973</th>\n",
              "      <td>Os miseráveis</td>\n",
              "      <td>2013-07-07</td>\n",
              "      <td>July</td>\n",
              "    </tr>\n",
              "    <tr>\n",
              "      <th>974</th>\n",
              "      <td>Além da imaginação (Série original): Temporada...</td>\n",
              "      <td>2013-07-07</td>\n",
              "      <td>July</td>\n",
              "    </tr>\n",
              "    <tr>\n",
              "      <th>975</th>\n",
              "      <td>Além da imaginação (Série original): Temporada...</td>\n",
              "      <td>2013-07-05</td>\n",
              "      <td>July</td>\n",
              "    </tr>\n",
              "    <tr>\n",
              "      <th>976</th>\n",
              "      <td>Jogos Vorazes</td>\n",
              "      <td>2013-07-05</td>\n",
              "      <td>July</td>\n",
              "    </tr>\n",
              "    <tr>\n",
              "      <th>977</th>\n",
              "      <td>Arquivo X: Temporada 1: Piloto</td>\n",
              "      <td>2013-07-05</td>\n",
              "      <td>July</td>\n",
              "    </tr>\n",
              "  </tbody>\n",
              "</table>\n",
              "<p>978 rows × 3 columns</p>\n",
              "</div>\n",
              "    <div class=\"colab-df-buttons\">\n",
              "\n",
              "  <div class=\"colab-df-container\">\n",
              "    <button class=\"colab-df-convert\" onclick=\"convertToInteractive('df-e579ed48-6bb4-4142-b57a-f54aa5169c4b')\"\n",
              "            title=\"Convert this dataframe to an interactive table.\"\n",
              "            style=\"display:none;\">\n",
              "\n",
              "  <svg xmlns=\"http://www.w3.org/2000/svg\" height=\"24px\" viewBox=\"0 -960 960 960\">\n",
              "    <path d=\"M120-120v-720h720v720H120Zm60-500h600v-160H180v160Zm220 220h160v-160H400v160Zm0 220h160v-160H400v160ZM180-400h160v-160H180v160Zm440 0h160v-160H620v160ZM180-180h160v-160H180v160Zm440 0h160v-160H620v160Z\"/>\n",
              "  </svg>\n",
              "    </button>\n",
              "\n",
              "  <style>\n",
              "    .colab-df-container {\n",
              "      display:flex;\n",
              "      gap: 12px;\n",
              "    }\n",
              "\n",
              "    .colab-df-convert {\n",
              "      background-color: #E8F0FE;\n",
              "      border: none;\n",
              "      border-radius: 50%;\n",
              "      cursor: pointer;\n",
              "      display: none;\n",
              "      fill: #1967D2;\n",
              "      height: 32px;\n",
              "      padding: 0 0 0 0;\n",
              "      width: 32px;\n",
              "    }\n",
              "\n",
              "    .colab-df-convert:hover {\n",
              "      background-color: #E2EBFA;\n",
              "      box-shadow: 0px 1px 2px rgba(60, 64, 67, 0.3), 0px 1px 3px 1px rgba(60, 64, 67, 0.15);\n",
              "      fill: #174EA6;\n",
              "    }\n",
              "\n",
              "    .colab-df-buttons div {\n",
              "      margin-bottom: 4px;\n",
              "    }\n",
              "\n",
              "    [theme=dark] .colab-df-convert {\n",
              "      background-color: #3B4455;\n",
              "      fill: #D2E3FC;\n",
              "    }\n",
              "\n",
              "    [theme=dark] .colab-df-convert:hover {\n",
              "      background-color: #434B5C;\n",
              "      box-shadow: 0px 1px 3px 1px rgba(0, 0, 0, 0.15);\n",
              "      filter: drop-shadow(0px 1px 2px rgba(0, 0, 0, 0.3));\n",
              "      fill: #FFFFFF;\n",
              "    }\n",
              "  </style>\n",
              "\n",
              "    <script>\n",
              "      const buttonEl =\n",
              "        document.querySelector('#df-e579ed48-6bb4-4142-b57a-f54aa5169c4b button.colab-df-convert');\n",
              "      buttonEl.style.display =\n",
              "        google.colab.kernel.accessAllowed ? 'block' : 'none';\n",
              "\n",
              "      async function convertToInteractive(key) {\n",
              "        const element = document.querySelector('#df-e579ed48-6bb4-4142-b57a-f54aa5169c4b');\n",
              "        const dataTable =\n",
              "          await google.colab.kernel.invokeFunction('convertToInteractive',\n",
              "                                                    [key], {});\n",
              "        if (!dataTable) return;\n",
              "\n",
              "        const docLinkHtml = 'Like what you see? Visit the ' +\n",
              "          '<a target=\"_blank\" href=https://colab.research.google.com/notebooks/data_table.ipynb>data table notebook</a>'\n",
              "          + ' to learn more about interactive tables.';\n",
              "        element.innerHTML = '';\n",
              "        dataTable['output_type'] = 'display_data';\n",
              "        await google.colab.output.renderOutput(dataTable, element);\n",
              "        const docLink = document.createElement('div');\n",
              "        docLink.innerHTML = docLinkHtml;\n",
              "        element.appendChild(docLink);\n",
              "      }\n",
              "    </script>\n",
              "  </div>\n",
              "\n",
              "\n",
              "<div id=\"df-fee32ec3-f7ea-4b59-8829-9a3da59a2220\">\n",
              "  <button class=\"colab-df-quickchart\" onclick=\"quickchart('df-fee32ec3-f7ea-4b59-8829-9a3da59a2220')\"\n",
              "            title=\"Suggest charts\"\n",
              "            style=\"display:none;\">\n",
              "\n",
              "<svg xmlns=\"http://www.w3.org/2000/svg\" height=\"24px\"viewBox=\"0 0 24 24\"\n",
              "     width=\"24px\">\n",
              "    <g>\n",
              "        <path d=\"M19 3H5c-1.1 0-2 .9-2 2v14c0 1.1.9 2 2 2h14c1.1 0 2-.9 2-2V5c0-1.1-.9-2-2-2zM9 17H7v-7h2v7zm4 0h-2V7h2v10zm4 0h-2v-4h2v4z\"/>\n",
              "    </g>\n",
              "</svg>\n",
              "  </button>\n",
              "\n",
              "<style>\n",
              "  .colab-df-quickchart {\n",
              "      --bg-color: #E8F0FE;\n",
              "      --fill-color: #1967D2;\n",
              "      --hover-bg-color: #E2EBFA;\n",
              "      --hover-fill-color: #174EA6;\n",
              "      --disabled-fill-color: #AAA;\n",
              "      --disabled-bg-color: #DDD;\n",
              "  }\n",
              "\n",
              "  [theme=dark] .colab-df-quickchart {\n",
              "      --bg-color: #3B4455;\n",
              "      --fill-color: #D2E3FC;\n",
              "      --hover-bg-color: #434B5C;\n",
              "      --hover-fill-color: #FFFFFF;\n",
              "      --disabled-bg-color: #3B4455;\n",
              "      --disabled-fill-color: #666;\n",
              "  }\n",
              "\n",
              "  .colab-df-quickchart {\n",
              "    background-color: var(--bg-color);\n",
              "    border: none;\n",
              "    border-radius: 50%;\n",
              "    cursor: pointer;\n",
              "    display: none;\n",
              "    fill: var(--fill-color);\n",
              "    height: 32px;\n",
              "    padding: 0;\n",
              "    width: 32px;\n",
              "  }\n",
              "\n",
              "  .colab-df-quickchart:hover {\n",
              "    background-color: var(--hover-bg-color);\n",
              "    box-shadow: 0 1px 2px rgba(60, 64, 67, 0.3), 0 1px 3px 1px rgba(60, 64, 67, 0.15);\n",
              "    fill: var(--button-hover-fill-color);\n",
              "  }\n",
              "\n",
              "  .colab-df-quickchart-complete:disabled,\n",
              "  .colab-df-quickchart-complete:disabled:hover {\n",
              "    background-color: var(--disabled-bg-color);\n",
              "    fill: var(--disabled-fill-color);\n",
              "    box-shadow: none;\n",
              "  }\n",
              "\n",
              "  .colab-df-spinner {\n",
              "    border: 2px solid var(--fill-color);\n",
              "    border-color: transparent;\n",
              "    border-bottom-color: var(--fill-color);\n",
              "    animation:\n",
              "      spin 1s steps(1) infinite;\n",
              "  }\n",
              "\n",
              "  @keyframes spin {\n",
              "    0% {\n",
              "      border-color: transparent;\n",
              "      border-bottom-color: var(--fill-color);\n",
              "      border-left-color: var(--fill-color);\n",
              "    }\n",
              "    20% {\n",
              "      border-color: transparent;\n",
              "      border-left-color: var(--fill-color);\n",
              "      border-top-color: var(--fill-color);\n",
              "    }\n",
              "    30% {\n",
              "      border-color: transparent;\n",
              "      border-left-color: var(--fill-color);\n",
              "      border-top-color: var(--fill-color);\n",
              "      border-right-color: var(--fill-color);\n",
              "    }\n",
              "    40% {\n",
              "      border-color: transparent;\n",
              "      border-right-color: var(--fill-color);\n",
              "      border-top-color: var(--fill-color);\n",
              "    }\n",
              "    60% {\n",
              "      border-color: transparent;\n",
              "      border-right-color: var(--fill-color);\n",
              "    }\n",
              "    80% {\n",
              "      border-color: transparent;\n",
              "      border-right-color: var(--fill-color);\n",
              "      border-bottom-color: var(--fill-color);\n",
              "    }\n",
              "    90% {\n",
              "      border-color: transparent;\n",
              "      border-bottom-color: var(--fill-color);\n",
              "    }\n",
              "  }\n",
              "</style>\n",
              "\n",
              "  <script>\n",
              "    async function quickchart(key) {\n",
              "      const quickchartButtonEl =\n",
              "        document.querySelector('#' + key + ' button');\n",
              "      quickchartButtonEl.disabled = true;  // To prevent multiple clicks.\n",
              "      quickchartButtonEl.classList.add('colab-df-spinner');\n",
              "      try {\n",
              "        const charts = await google.colab.kernel.invokeFunction(\n",
              "            'suggestCharts', [key], {});\n",
              "      } catch (error) {\n",
              "        console.error('Error during call to suggestCharts:', error);\n",
              "      }\n",
              "      quickchartButtonEl.classList.remove('colab-df-spinner');\n",
              "      quickchartButtonEl.classList.add('colab-df-quickchart-complete');\n",
              "    }\n",
              "    (() => {\n",
              "      let quickchartButtonEl =\n",
              "        document.querySelector('#df-fee32ec3-f7ea-4b59-8829-9a3da59a2220 button');\n",
              "      quickchartButtonEl.style.display =\n",
              "        google.colab.kernel.accessAllowed ? 'block' : 'none';\n",
              "    })();\n",
              "  </script>\n",
              "</div>\n",
              "\n",
              "  <div id=\"id_e59ff29a-82b6-4030-a191-a8c6c11463b6\">\n",
              "    <style>\n",
              "      .colab-df-generate {\n",
              "        background-color: #E8F0FE;\n",
              "        border: none;\n",
              "        border-radius: 50%;\n",
              "        cursor: pointer;\n",
              "        display: none;\n",
              "        fill: #1967D2;\n",
              "        height: 32px;\n",
              "        padding: 0 0 0 0;\n",
              "        width: 32px;\n",
              "      }\n",
              "\n",
              "      .colab-df-generate:hover {\n",
              "        background-color: #E2EBFA;\n",
              "        box-shadow: 0px 1px 2px rgba(60, 64, 67, 0.3), 0px 1px 3px 1px rgba(60, 64, 67, 0.15);\n",
              "        fill: #174EA6;\n",
              "      }\n",
              "\n",
              "      [theme=dark] .colab-df-generate {\n",
              "        background-color: #3B4455;\n",
              "        fill: #D2E3FC;\n",
              "      }\n",
              "\n",
              "      [theme=dark] .colab-df-generate:hover {\n",
              "        background-color: #434B5C;\n",
              "        box-shadow: 0px 1px 3px 1px rgba(0, 0, 0, 0.15);\n",
              "        filter: drop-shadow(0px 1px 2px rgba(0, 0, 0, 0.3));\n",
              "        fill: #FFFFFF;\n",
              "      }\n",
              "    </style>\n",
              "    <button class=\"colab-df-generate\" onclick=\"generateWithVariable('netflix')\"\n",
              "            title=\"Generate code using this dataframe.\"\n",
              "            style=\"display:none;\">\n",
              "\n",
              "  <svg xmlns=\"http://www.w3.org/2000/svg\" height=\"24px\"viewBox=\"0 0 24 24\"\n",
              "       width=\"24px\">\n",
              "    <path d=\"M7,19H8.4L18.45,9,17,7.55,7,17.6ZM5,21V16.75L18.45,3.32a2,2,0,0,1,2.83,0l1.4,1.43a1.91,1.91,0,0,1,.58,1.4,1.91,1.91,0,0,1-.58,1.4L9.25,21ZM18.45,9,17,7.55Zm-12,3A5.31,5.31,0,0,0,4.9,8.1,5.31,5.31,0,0,0,1,6.5,5.31,5.31,0,0,0,4.9,4.9,5.31,5.31,0,0,0,6.5,1,5.31,5.31,0,0,0,8.1,4.9,5.31,5.31,0,0,0,12,6.5,5.46,5.46,0,0,0,6.5,12Z\"/>\n",
              "  </svg>\n",
              "    </button>\n",
              "    <script>\n",
              "      (() => {\n",
              "      const buttonEl =\n",
              "        document.querySelector('#id_e59ff29a-82b6-4030-a191-a8c6c11463b6 button.colab-df-generate');\n",
              "      buttonEl.style.display =\n",
              "        google.colab.kernel.accessAllowed ? 'block' : 'none';\n",
              "\n",
              "      buttonEl.onclick = () => {\n",
              "        google.colab.notebook.generateWithVariable('netflix');\n",
              "      }\n",
              "      })();\n",
              "    </script>\n",
              "  </div>\n",
              "\n",
              "    </div>\n",
              "  </div>\n"
            ],
            "application/vnd.google.colaboratory.intrinsic+json": {
              "type": "dataframe",
              "variable_name": "netflix",
              "summary": "{\n  \"name\": \"netflix\",\n  \"rows\": 978,\n  \"fields\": [\n    {\n      \"column\": \"Title\",\n      \"properties\": {\n        \"dtype\": \"string\",\n        \"num_unique_values\": 978,\n        \"samples\": [\n          \"The Crown: Temporada 4: Terra de ningu\\u00e9m\",\n          \"Perdidos no Espa\\u00e7o: Temporada 1: Diamantes no c\\u00e9u\",\n          \"Aggretsuko: Temporada 4: Encontro\"\n        ],\n        \"semantic_type\": \"\",\n        \"description\": \"\"\n      }\n    },\n    {\n      \"column\": \"Date\",\n      \"properties\": {\n        \"dtype\": \"date\",\n        \"min\": \"2013-07-05 00:00:00\",\n        \"max\": \"2024-07-23 00:00:00\",\n        \"num_unique_values\": 580,\n        \"samples\": [\n          \"2013-07-14 00:00:00\",\n          \"2019-01-25 00:00:00\",\n          \"2021-03-22 00:00:00\"\n        ],\n        \"semantic_type\": \"\",\n        \"description\": \"\"\n      }\n    },\n    {\n      \"column\": \"M\\u00eas\",\n      \"properties\": {\n        \"dtype\": \"category\",\n        \"num_unique_values\": 12,\n        \"samples\": [\n          \"November\",\n          \"August\",\n          \"July\"\n        ],\n        \"semantic_type\": \"\",\n        \"description\": \"\"\n      }\n    }\n  ]\n}"
            }
          },
          "metadata": {},
          "execution_count": 26
        }
      ],
      "source": [
        "netflix['Date']=pd.to_datetime(netflix['Date'], format=\"%d/%m/%Y\")\n",
        "netflix['Mês'] = netflix['Date'].dt.month_name()\n",
        "netflix"
      ]
    },
    {
      "cell_type": "markdown",
      "metadata": {
        "id": "BJJ4OKHUx7Gp"
      },
      "source": [
        "E finalmente se usa a função mode para saber o mês em que o usuário mais viu filmes e  séries no Netflix."
      ]
    },
    {
      "cell_type": "code",
      "execution_count": 27,
      "metadata": {
        "id": "lE_fTT6mx7Gp",
        "outputId": "e2c6d815-4bd3-4ed8-ac65-95a8bc3c8114",
        "colab": {
          "base_uri": "https://localhost:8080/",
          "height": 115
        }
      },
      "outputs": [
        {
          "output_type": "execute_result",
          "data": {
            "text/plain": [
              "0    March\n",
              "Name: Mês, dtype: object"
            ],
            "text/html": [
              "<div>\n",
              "<style scoped>\n",
              "    .dataframe tbody tr th:only-of-type {\n",
              "        vertical-align: middle;\n",
              "    }\n",
              "\n",
              "    .dataframe tbody tr th {\n",
              "        vertical-align: top;\n",
              "    }\n",
              "\n",
              "    .dataframe thead th {\n",
              "        text-align: right;\n",
              "    }\n",
              "</style>\n",
              "<table border=\"1\" class=\"dataframe\">\n",
              "  <thead>\n",
              "    <tr style=\"text-align: right;\">\n",
              "      <th></th>\n",
              "      <th>Mês</th>\n",
              "    </tr>\n",
              "  </thead>\n",
              "  <tbody>\n",
              "    <tr>\n",
              "      <th>0</th>\n",
              "      <td>March</td>\n",
              "    </tr>\n",
              "  </tbody>\n",
              "</table>\n",
              "</div><br><label><b>dtype:</b> object</label>"
            ]
          },
          "metadata": {},
          "execution_count": 27
        }
      ],
      "source": [
        "netflix['Mês'].mode()"
      ]
    },
    {
      "cell_type": "markdown",
      "metadata": {
        "id": "bXMy8ub7x7Gq"
      },
      "source": [
        "## Medidas de dispersão\n",
        "\n",
        "O processo de trabalhar com dados introduz uma variabilidade nos resultados obtidos,  pois cada individuo de uma amostra vai ter características ligeiramente diferentes.\n",
        "\n",
        "Essa variabilidade é medida através das medidas de dispersão.\n",
        "\n",
        "Dentre as medidas de dispersão tem-se:\n",
        "\n",
        "- **Variância**\n",
        "- **Desvio-padrão**\n",
        "- **Percentil**"
      ]
    },
    {
      "cell_type": "markdown",
      "metadata": {
        "id": "0ewDNDSSx7Gq"
      },
      "source": [
        "### Variância\n",
        "\n",
        "Para explicar a variância, vamos considerar um conjunto de valores, descritos abaixo.\n",
        "\n",
        "$$\n",
        "\\begin{array}{|c|}\n",
        "    \\hline\n",
        "    \\text{Valores de } x\\\\\n",
        "    \\hline\n",
        "    0&\\\\\n",
        "    5&\\\\\n",
        "    8&\\\\\n",
        "    -2&\\\\\n",
        "    -10&\\\\\n",
        "    2&\\\\\n",
        "    \\hline\n",
        "    \\hline\n",
        "    \\bar{x} = 0.5\\\\\n",
        "    \\hline\n",
        "\\end{array}\n",
        "$$\n",
        "\n",
        "A média da amostra é 0,5."
      ]
    },
    {
      "cell_type": "markdown",
      "metadata": {
        "id": "uATn428Zx7Gs"
      },
      "source": [
        "É possível ver a dispersão dos valores em torno da média."
      ]
    },
    {
      "cell_type": "code",
      "execution_count": 29,
      "metadata": {
        "id": "vHmngdwyx7Gs",
        "outputId": "a09b27a7-ec97-495f-d9a2-0126437c315b",
        "colab": {
          "base_uri": "https://localhost:8080/",
          "height": 430
        }
      },
      "outputs": [
        {
          "output_type": "display_data",
          "data": {
            "text/plain": [
              "<Figure size 640x480 with 1 Axes>"
            ],
            "image/png": "[encoded data removed]"
          },
          "metadata": {}
        }
      ],
      "source": [
        "import numpy as np\n",
        "import pandas as pd\n",
        "import matplotlib.pyplot as plt\n",
        "\n",
        "\n",
        "x = np.array([0,5,8,-2,-10,2])\n",
        "mediaX = np.mean(x)\n",
        "\n",
        "plt.figure()\n",
        "plt.plot(np.linspace(0,5,6), x, marker = 'o', linestyle = '', label='amostras',\n",
        "         color = 'black')\n",
        "plt.plot(np.linspace(0,5,6), mediaX*np.ones((6)), marker = '',\n",
        "         linestyle = '-', color = 'red', label='média')\n",
        "plt.legend()\n",
        "plt.show()"
      ]
    },
    {
      "cell_type": "markdown",
      "metadata": {
        "id": "5zxEt-gcx7Gt"
      },
      "source": [
        "Podemos calcular o quanto cada elemento desvia da média da amostra.\n",
        "\n",
        "$$\n",
        "\\begin{array}{|c|c|}\n",
        "    \\hline\n",
        "    \\text{Valores de } x&\\text{Desvio } (x - \\bar{x})\\\\\n",
        "    \\hline\n",
        "    0&-0.5\\\\\n",
        "    5&4.5\\\\\n",
        "    8&7.5\\\\\n",
        "    -2&-2.5\\\\\n",
        "    -10&-10.5\\\\\n",
        "    2&1.5\\\\\n",
        "    \\hline\n",
        "    \\hline\n",
        "    \\bar{x} = 0.5&\\displaystyle\\sum (x-\\bar{x}) = 0\\\\\n",
        "    \\hline\n",
        "\\end{array}\n",
        "$$\n",
        "\n",
        "Num primeiro momento, podemos achar que a soma é uma boa medida da dispersão dos valores da amostra. Porém os desvios negativos cancelam os desvios positivos. Por exemplo, no exemplo acima a soma dos desvios é zero, mas observando o gráfico anterior zero claramente não é um bom número para representar a dispersão dos valores (zero seria um bom número se todos os valores da amostra tivessem o mesmo valor)."
      ]
    },
    {
      "cell_type": "markdown",
      "metadata": {
        "id": "bclLZP-yx7Gt"
      },
      "source": [
        "Isso faz com que seja necessário elevar ao quadrado os desvios. Isso faz com os valores das diferenças fiquem positivos."
      ]
    },
    {
      "cell_type": "markdown",
      "metadata": {
        "id": "2HMSCJHwx7Gt"
      },
      "source": [
        "Com isso é possível definir a variância.\n",
        "\n",
        "**Variância** é definida como a somatória dos desvios da média elevados ao quadrado dividia pelo número de elementos menos um.\n",
        "\n",
        "$$\n",
        "\\begin{array}{|c|c|c|}\n",
        "    \\hline\n",
        "    \\text{Valores de } x&\\text{Desvio } (x - \\bar{x})&\\text{Desvio ao quadrado } (x-\\bar{x})^2\\\\\n",
        "    \\hline\n",
        "    0&-0.5&0.25\\\\\n",
        "    5&4.5&20.25\\\\\n",
        "    8&7.5&56.25\\\\\n",
        "    -2&-2.5&6.25\\\\\n",
        "    -10&-10.5&110.25\\\\\n",
        "    2&1.5&2.25\\\\\n",
        "    \\hline\n",
        "    \\hline\n",
        "    \\bar{x} = 0.5&\\displaystyle\\sum (x-\\bar{x}) = 0&\\displaystyle\\sum (x-\\bar{x})^2 = 195.5\\\\\n",
        "    \\hline\n",
        "\\end{array}\n",
        "$$\n",
        "\n",
        "Observe que a soma dos desvios é igual a zero. Isso aconteceu pelo cancelamento que os desvios negativos causam nos desvios positivos. Por isso a necessidade de elevar ao quadrado para ter uma real medida dos desvios das amostras."
      ]
    },
    {
      "cell_type": "markdown",
      "metadata": {
        "id": "lj8-zRh1x7Gt"
      },
      "source": [
        "Então, a expressão da variância amostral, representada por $S^2$, é:\n",
        "\n",
        "$$Variance = S^2 = \\frac{\\displaystyle\\sum_{i=0}^{N-1}(x-\\bar{x})^2}{N-1} $$"
      ]
    },
    {
      "cell_type": "markdown",
      "metadata": {
        "id": "ZL6A5derx7Gu"
      },
      "source": [
        "Para calcular a variância dos elementos em um vetor x do Numpy, usa-se 'np.var(x, ddof=1)'."
      ]
    },
    {
      "cell_type": "code",
      "execution_count": 30,
      "metadata": {
        "id": "CU3Iqpjzx7Gu",
        "outputId": "5dfcc5c9-1349-4d10-fa6e-332482f7f372",
        "colab": {
          "base_uri": "https://localhost:8080/"
        }
      },
      "outputs": [
        {
          "output_type": "execute_result",
          "data": {
            "text/plain": [
              "39.1"
            ]
          },
          "metadata": {},
          "execution_count": 30
        }
      ],
      "source": [
        "varianceX = np.var(x, ddof=1)\n",
        "varianceX"
      ]
    },
    {
      "cell_type": "markdown",
      "metadata": {
        "id": "DTnIvSP2x7Gu"
      },
      "source": [
        "Também é possível calcular a variância de uma coluna de um DataFrame do Pandas."
      ]
    },
    {
      "cell_type": "markdown",
      "metadata": {
        "id": "eHN_BdlKx7Gv"
      },
      "source": [
        "Para calcular a variância da altura dos participantes de um experimento que tem as características de seus partipantes no arquivo `https://raw.githubusercontent.com/BMClab/BasesComputacionais/master/dados/BDSinfo.csv`, basta acrescentar `.var()` após a seleção da coluna desejada ('Height' nesse caso). Esse arquivo, diferentemente dos arquivos padrão CSV, tem as colunas separadas por uma tabulação. Por isso é necessário acrescentar `sep='\\t'` na função `read_csv`:"
      ]
    },
    {
      "cell_type": "code",
      "execution_count": 55,
      "metadata": {
        "id": "U7ViPNeEx7Gv",
        "outputId": "6f7b3b07-1b42-46fb-a093-b2e140ebc847",
        "colab": {
          "base_uri": "https://localhost:8080/",
          "height": 597
        }
      },
      "outputs": [
        {
          "output_type": "execute_result",
          "data": {
            "text/plain": [
              "         Trial  Subject  Vision Surface        Age AgeGroup Gender  Height  \\\n",
              "0     BDS00001        1    Open    Firm  33.000000    Young      F   157.5   \n",
              "1     BDS00002        1    Open    Firm  33.000000    Young      F   157.5   \n",
              "2     BDS00003        1    Open    Firm  33.000000    Young      F   157.5   \n",
              "3     BDS00004        1  Closed    Firm  33.000000    Young      F   157.5   \n",
              "4     BDS00005        1  Closed    Firm  33.000000    Young      F   157.5   \n",
              "...        ...      ...     ...     ...        ...      ...    ...     ...   \n",
              "1925  BDS01952      163    Open    Firm  25.416667    Young      M   172.0   \n",
              "1926  BDS01953      163    Open    Firm  25.416667    Young      M   172.0   \n",
              "1927  BDS01954      163  Closed    Foam  25.416667    Young      M   172.0   \n",
              "1928  BDS01955      163  Closed    Foam  25.416667    Young      M   172.0   \n",
              "1929  BDS01956      163  Closed    Foam  25.416667    Young      M   172.0   \n",
              "\n",
              "      Weight        BMI  ...  Best_7 Best_8 Best_9  Best_10 Best_11 Best_12  \\\n",
              "0       54.2  21.849332  ...       2      2      2        2       2       2   \n",
              "1       54.2  21.849332  ...       2      2      2        2       2       2   \n",
              "2       54.2  21.849332  ...       2      2      2        2       2       2   \n",
              "3       54.2  21.849332  ...       2      2      2        2       2       2   \n",
              "4       54.2  21.849332  ...       2      2      2        2       2       2   \n",
              "...      ...        ...  ...     ...    ...    ...      ...     ...     ...   \n",
              "1925    74.6  25.216333  ...       2      2      2        2       2       2   \n",
              "1926    74.6  25.216333  ...       2      2      2        2       2       2   \n",
              "1927    74.6  25.216333  ...       2      2      2        2       2       2   \n",
              "1928    74.6  25.216333  ...       2      2      2        2       2       2   \n",
              "1929    74.6  25.216333  ...       2      2      2        2       2       2   \n",
              "\n",
              "     Best_13  Best_14 Best_T                     Date  \n",
              "0          2        1     25  2015-10-08 08:30:00.000  \n",
              "1          2        1     25  2015-10-08 08:30:00.000  \n",
              "2          2        1     25  2015-10-08 08:30:00.000  \n",
              "3          2        1     25  2015-10-08 08:30:00.000  \n",
              "4          2        1     25  2015-10-08 08:30:00.000  \n",
              "...      ...      ...    ...                      ...  \n",
              "1925       2        2     26  2016-03-11 10:49:57.538  \n",
              "1926       2        2     26  2016-03-11 10:49:57.538  \n",
              "1927       2        2     26  2016-03-11 10:49:57.538  \n",
              "1928       2        2     26  2016-03-11 10:49:57.538  \n",
              "1929       2        2     26  2016-03-11 10:49:57.538  \n",
              "\n",
              "[1930 rows x 64 columns]"
            ],
            "text/html": [
              "\n",
              "  <div id=\"df-176bb4ee-e45e-4bfe-b7ae-3ceef26fd598\" class=\"colab-df-container\">\n",
              "    <div>\n",
              "<style scoped>\n",
              "    .dataframe tbody tr th:only-of-type {\n",
              "        vertical-align: middle;\n",
              "    }\n",
              "\n",
              "    .dataframe tbody tr th {\n",
              "        vertical-align: top;\n",
              "    }\n",
              "\n",
              "    .dataframe thead th {\n",
              "        text-align: right;\n",
              "    }\n",
              "</style>\n",
              "<table border=\"1\" class=\"dataframe\">\n",
              "  <thead>\n",
              "    <tr style=\"text-align: right;\">\n",
              "      <th></th>\n",
              "      <th>Trial</th>\n",
              "      <th>Subject</th>\n",
              "      <th>Vision</th>\n",
              "      <th>Surface</th>\n",
              "      <th>Age</th>\n",
              "      <th>AgeGroup</th>\n",
              "      <th>Gender</th>\n",
              "      <th>Height</th>\n",
              "      <th>Weight</th>\n",
              "      <th>BMI</th>\n",
              "      <th>...</th>\n",
              "      <th>Best_7</th>\n",
              "      <th>Best_8</th>\n",
              "      <th>Best_9</th>\n",
              "      <th>Best_10</th>\n",
              "      <th>Best_11</th>\n",
              "      <th>Best_12</th>\n",
              "      <th>Best_13</th>\n",
              "      <th>Best_14</th>\n",
              "      <th>Best_T</th>\n",
              "      <th>Date</th>\n",
              "    </tr>\n",
              "  </thead>\n",
              "  <tbody>\n",
              "    <tr>\n",
              "      <th>0</th>\n",
              "      <td>BDS00001</td>\n",
              "      <td>1</td>\n",
              "      <td>Open</td>\n",
              "      <td>Firm</td>\n",
              "      <td>33.000000</td>\n",
              "      <td>Young</td>\n",
              "      <td>F</td>\n",
              "      <td>157.5</td>\n",
              "      <td>54.2</td>\n",
              "      <td>21.849332</td>\n",
              "      <td>...</td>\n",
              "      <td>2</td>\n",
              "      <td>2</td>\n",
              "      <td>2</td>\n",
              "      <td>2</td>\n",
              "      <td>2</td>\n",
              "      <td>2</td>\n",
              "      <td>2</td>\n",
              "      <td>1</td>\n",
              "      <td>25</td>\n",
              "      <td>2015-10-08 08:30:00.000</td>\n",
              "    </tr>\n",
              "    <tr>\n",
              "      <th>1</th>\n",
              "      <td>BDS00002</td>\n",
              "      <td>1</td>\n",
              "      <td>Open</td>\n",
              "      <td>Firm</td>\n",
              "      <td>33.000000</td>\n",
              "      <td>Young</td>\n",
              "      <td>F</td>\n",
              "      <td>157.5</td>\n",
              "      <td>54.2</td>\n",
              "      <td>21.849332</td>\n",
              "      <td>...</td>\n",
              "      <td>2</td>\n",
              "      <td>2</td>\n",
              "      <td>2</td>\n",
              "      <td>2</td>\n",
              "      <td>2</td>\n",
              "      <td>2</td>\n",
              "      <td>2</td>\n",
              "      <td>1</td>\n",
              "      <td>25</td>\n",
              "      <td>2015-10-08 08:30:00.000</td>\n",
              "    </tr>\n",
              "    <tr>\n",
              "      <th>2</th>\n",
              "      <td>BDS00003</td>\n",
              "      <td>1</td>\n",
              "      <td>Open</td>\n",
              "      <td>Firm</td>\n",
              "      <td>33.000000</td>\n",
              "      <td>Young</td>\n",
              "      <td>F</td>\n",
              "      <td>157.5</td>\n",
              "      <td>54.2</td>\n",
              "      <td>21.849332</td>\n",
              "      <td>...</td>\n",
              "      <td>2</td>\n",
              "      <td>2</td>\n",
              "      <td>2</td>\n",
              "      <td>2</td>\n",
              "      <td>2</td>\n",
              "      <td>2</td>\n",
              "      <td>2</td>\n",
              "      <td>1</td>\n",
              "      <td>25</td>\n",
              "      <td>2015-10-08 08:30:00.000</td>\n",
              "    </tr>\n",
              "    <tr>\n",
              "      <th>3</th>\n",
              "      <td>BDS00004</td>\n",
              "      <td>1</td>\n",
              "      <td>Closed</td>\n",
              "      <td>Firm</td>\n",
              "      <td>33.000000</td>\n",
              "      <td>Young</td>\n",
              "      <td>F</td>\n",
              "      <td>157.5</td>\n",
              "      <td>54.2</td>\n",
              "      <td>21.849332</td>\n",
              "      <td>...</td>\n",
              "      <td>2</td>\n",
              "      <td>2</td>\n",
              "      <td>2</td>\n",
              "      <td>2</td>\n",
              "      <td>2</td>\n",
              "      <td>2</td>\n",
              "      <td>2</td>\n",
              "      <td>1</td>\n",
              "      <td>25</td>\n",
              "      <td>2015-10-08 08:30:00.000</td>\n",
              "    </tr>\n",
              "    <tr>\n",
              "      <th>4</th>\n",
              "      <td>BDS00005</td>\n",
              "      <td>1</td>\n",
              "      <td>Closed</td>\n",
              "      <td>Firm</td>\n",
              "      <td>33.000000</td>\n",
              "      <td>Young</td>\n",
              "      <td>F</td>\n",
              "      <td>157.5</td>\n",
              "      <td>54.2</td>\n",
              "      <td>21.849332</td>\n",
              "      <td>...</td>\n",
              "      <td>2</td>\n",
              "      <td>2</td>\n",
              "      <td>2</td>\n",
              "      <td>2</td>\n",
              "      <td>2</td>\n",
              "      <td>2</td>\n",
              "      <td>2</td>\n",
              "      <td>1</td>\n",
              "      <td>25</td>\n",
              "      <td>2015-10-08 08:30:00.000</td>\n",
              "    </tr>\n",
              "    <tr>\n",
              "      <th>...</th>\n",
              "      <td>...</td>\n",
              "      <td>...</td>\n",
              "      <td>...</td>\n",
              "      <td>...</td>\n",
              "      <td>...</td>\n",
              "      <td>...</td>\n",
              "      <td>...</td>\n",
              "      <td>...</td>\n",
              "      <td>...</td>\n",
              "      <td>...</td>\n",
              "      <td>...</td>\n",
              "      <td>...</td>\n",
              "      <td>...</td>\n",
              "      <td>...</td>\n",
              "      <td>...</td>\n",
              "      <td>...</td>\n",
              "      <td>...</td>\n",
              "      <td>...</td>\n",
              "      <td>...</td>\n",
              "      <td>...</td>\n",
              "      <td>...</td>\n",
              "    </tr>\n",
              "    <tr>\n",
              "      <th>1925</th>\n",
              "      <td>BDS01952</td>\n",
              "      <td>163</td>\n",
              "      <td>Open</td>\n",
              "      <td>Firm</td>\n",
              "      <td>25.416667</td>\n",
              "      <td>Young</td>\n",
              "      <td>M</td>\n",
              "      <td>172.0</td>\n",
              "      <td>74.6</td>\n",
              "      <td>25.216333</td>\n",
              "      <td>...</td>\n",
              "      <td>2</td>\n",
              "      <td>2</td>\n",
              "      <td>2</td>\n",
              "      <td>2</td>\n",
              "      <td>2</td>\n",
              "      <td>2</td>\n",
              "      <td>2</td>\n",
              "      <td>2</td>\n",
              "      <td>26</td>\n",
              "      <td>2016-03-11 10:49:57.538</td>\n",
              "    </tr>\n",
              "    <tr>\n",
              "      <th>1926</th>\n",
              "      <td>BDS01953</td>\n",
              "      <td>163</td>\n",
              "      <td>Open</td>\n",
              "      <td>Firm</td>\n",
              "      <td>25.416667</td>\n",
              "      <td>Young</td>\n",
              "      <td>M</td>\n",
              "      <td>172.0</td>\n",
              "      <td>74.6</td>\n",
              "      <td>25.216333</td>\n",
              "      <td>...</td>\n",
              "      <td>2</td>\n",
              "      <td>2</td>\n",
              "      <td>2</td>\n",
              "      <td>2</td>\n",
              "      <td>2</td>\n",
              "      <td>2</td>\n",
              "      <td>2</td>\n",
              "      <td>2</td>\n",
              "      <td>26</td>\n",
              "      <td>2016-03-11 10:49:57.538</td>\n",
              "    </tr>\n",
              "    <tr>\n",
              "      <th>1927</th>\n",
              "      <td>BDS01954</td>\n",
              "      <td>163</td>\n",
              "      <td>Closed</td>\n",
              "      <td>Foam</td>\n",
              "      <td>25.416667</td>\n",
              "      <td>Young</td>\n",
              "      <td>M</td>\n",
              "      <td>172.0</td>\n",
              "      <td>74.6</td>\n",
              "      <td>25.216333</td>\n",
              "      <td>...</td>\n",
              "      <td>2</td>\n",
              "      <td>2</td>\n",
              "      <td>2</td>\n",
              "      <td>2</td>\n",
              "      <td>2</td>\n",
              "      <td>2</td>\n",
              "      <td>2</td>\n",
              "      <td>2</td>\n",
              "      <td>26</td>\n",
              "      <td>2016-03-11 10:49:57.538</td>\n",
              "    </tr>\n",
              "    <tr>\n",
              "      <th>1928</th>\n",
              "      <td>BDS01955</td>\n",
              "      <td>163</td>\n",
              "      <td>Closed</td>\n",
              "      <td>Foam</td>\n",
              "      <td>25.416667</td>\n",
              "      <td>Young</td>\n",
              "      <td>M</td>\n",
              "      <td>172.0</td>\n",
              "      <td>74.6</td>\n",
              "      <td>25.216333</td>\n",
              "      <td>...</td>\n",
              "      <td>2</td>\n",
              "      <td>2</td>\n",
              "      <td>2</td>\n",
              "      <td>2</td>\n",
              "      <td>2</td>\n",
              "      <td>2</td>\n",
              "      <td>2</td>\n",
              "      <td>2</td>\n",
              "      <td>26</td>\n",
              "      <td>2016-03-11 10:49:57.538</td>\n",
              "    </tr>\n",
              "    <tr>\n",
              "      <th>1929</th>\n",
              "      <td>BDS01956</td>\n",
              "      <td>163</td>\n",
              "      <td>Closed</td>\n",
              "      <td>Foam</td>\n",
              "      <td>25.416667</td>\n",
              "      <td>Young</td>\n",
              "      <td>M</td>\n",
              "      <td>172.0</td>\n",
              "      <td>74.6</td>\n",
              "      <td>25.216333</td>\n",
              "      <td>...</td>\n",
              "      <td>2</td>\n",
              "      <td>2</td>\n",
              "      <td>2</td>\n",
              "      <td>2</td>\n",
              "      <td>2</td>\n",
              "      <td>2</td>\n",
              "      <td>2</td>\n",
              "      <td>2</td>\n",
              "      <td>26</td>\n",
              "      <td>2016-03-11 10:49:57.538</td>\n",
              "    </tr>\n",
              "  </tbody>\n",
              "</table>\n",
              "<p>1930 rows × 64 columns</p>\n",
              "</div>\n",
              "    <div class=\"colab-df-buttons\">\n",
              "\n",
              "  <div class=\"colab-df-container\">\n",
              "    <button class=\"colab-df-convert\" onclick=\"convertToInteractive('df-176bb4ee-e45e-4bfe-b7ae-3ceef26fd598')\"\n",
              "            title=\"Convert this dataframe to an interactive table.\"\n",
              "            style=\"display:none;\">\n",
              "\n",
              "  <svg xmlns=\"http://www.w3.org/2000/svg\" height=\"24px\" viewBox=\"0 -960 960 960\">\n",
              "    <path d=\"M120-120v-720h720v720H120Zm60-500h600v-160H180v160Zm220 220h160v-160H400v160Zm0 220h160v-160H400v160ZM180-400h160v-160H180v160Zm440 0h160v-160H620v160ZM180-180h160v-160H180v160Zm440 0h160v-160H620v160Z\"/>\n",
              "  </svg>\n",
              "    </button>\n",
              "\n",
              "  <style>\n",
              "    .colab-df-container {\n",
              "      display:flex;\n",
              "      gap: 12px;\n",
              "    }\n",
              "\n",
              "    .colab-df-convert {\n",
              "      background-color: #E8F0FE;\n",
              "      border: none;\n",
              "      border-radius: 50%;\n",
              "      cursor: pointer;\n",
              "      display: none;\n",
              "      fill: #1967D2;\n",
              "      height: 32px;\n",
              "      padding: 0 0 0 0;\n",
              "      width: 32px;\n",
              "    }\n",
              "\n",
              "    .colab-df-convert:hover {\n",
              "      background-color: #E2EBFA;\n",
              "      box-shadow: 0px 1px 2px rgba(60, 64, 67, 0.3), 0px 1px 3px 1px rgba(60, 64, 67, 0.15);\n",
              "      fill: #174EA6;\n",
              "    }\n",
              "\n",
              "    .colab-df-buttons div {\n",
              "      margin-bottom: 4px;\n",
              "    }\n",
              "\n",
              "    [theme=dark] .colab-df-convert {\n",
              "      background-color: #3B4455;\n",
              "      fill: #D2E3FC;\n",
              "    }\n",
              "\n",
              "    [theme=dark] .colab-df-convert:hover {\n",
              "      background-color: #434B5C;\n",
              "      box-shadow: 0px 1px 3px 1px rgba(0, 0, 0, 0.15);\n",
              "      filter: drop-shadow(0px 1px 2px rgba(0, 0, 0, 0.3));\n",
              "      fill: #FFFFFF;\n",
              "    }\n",
              "  </style>\n",
              "\n",
              "    <script>\n",
              "      const buttonEl =\n",
              "        document.querySelector('#df-176bb4ee-e45e-4bfe-b7ae-3ceef26fd598 button.colab-df-convert');\n",
              "      buttonEl.style.display =\n",
              "        google.colab.kernel.accessAllowed ? 'block' : 'none';\n",
              "\n",
              "      async function convertToInteractive(key) {\n",
              "        const element = document.querySelector('#df-176bb4ee-e45e-4bfe-b7ae-3ceef26fd598');\n",
              "        const dataTable =\n",
              "          await google.colab.kernel.invokeFunction('convertToInteractive',\n",
              "                                                    [key], {});\n",
              "        if (!dataTable) return;\n",
              "\n",
              "        const docLinkHtml = 'Like what you see? Visit the ' +\n",
              "          '<a target=\"_blank\" href=https://colab.research.google.com/notebooks/data_table.ipynb>data table notebook</a>'\n",
              "          + ' to learn more about interactive tables.';\n",
              "        element.innerHTML = '';\n",
              "        dataTable['output_type'] = 'display_data';\n",
              "        await google.colab.output.renderOutput(dataTable, element);\n",
              "        const docLink = document.createElement('div');\n",
              "        docLink.innerHTML = docLinkHtml;\n",
              "        element.appendChild(docLink);\n",
              "      }\n",
              "    </script>\n",
              "  </div>\n",
              "\n",
              "\n",
              "<div id=\"df-ea8287e0-45f5-4f63-83c6-68d98cfddb53\">\n",
              "  <button class=\"colab-df-quickchart\" onclick=\"quickchart('df-ea8287e0-45f5-4f63-83c6-68d98cfddb53')\"\n",
              "            title=\"Suggest charts\"\n",
              "            style=\"display:none;\">\n",
              "\n",
              "<svg xmlns=\"http://www.w3.org/2000/svg\" height=\"24px\"viewBox=\"0 0 24 24\"\n",
              "     width=\"24px\">\n",
              "    <g>\n",
              "        <path d=\"M19 3H5c-1.1 0-2 .9-2 2v14c0 1.1.9 2 2 2h14c1.1 0 2-.9 2-2V5c0-1.1-.9-2-2-2zM9 17H7v-7h2v7zm4 0h-2V7h2v10zm4 0h-2v-4h2v4z\"/>\n",
              "    </g>\n",
              "</svg>\n",
              "  </button>\n",
              "\n",
              "<style>\n",
              "  .colab-df-quickchart {\n",
              "      --bg-color: #E8F0FE;\n",
              "      --fill-color: #1967D2;\n",
              "      --hover-bg-color: #E2EBFA;\n",
              "      --hover-fill-color: #174EA6;\n",
              "      --disabled-fill-color: #AAA;\n",
              "      --disabled-bg-color: #DDD;\n",
              "  }\n",
              "\n",
              "  [theme=dark] .colab-df-quickchart {\n",
              "      --bg-color: #3B4455;\n",
              "      --fill-color: #D2E3FC;\n",
              "      --hover-bg-color: #434B5C;\n",
              "      --hover-fill-color: #FFFFFF;\n",
              "      --disabled-bg-color: #3B4455;\n",
              "      --disabled-fill-color: #666;\n",
              "  }\n",
              "\n",
              "  .colab-df-quickchart {\n",
              "    background-color: var(--bg-color);\n",
              "    border: none;\n",
              "    border-radius: 50%;\n",
              "    cursor: pointer;\n",
              "    display: none;\n",
              "    fill: var(--fill-color);\n",
              "    height: 32px;\n",
              "    padding: 0;\n",
              "    width: 32px;\n",
              "  }\n",
              "\n",
              "  .colab-df-quickchart:hover {\n",
              "    background-color: var(--hover-bg-color);\n",
              "    box-shadow: 0 1px 2px rgba(60, 64, 67, 0.3), 0 1px 3px 1px rgba(60, 64, 67, 0.15);\n",
              "    fill: var(--button-hover-fill-color);\n",
              "  }\n",
              "\n",
              "  .colab-df-quickchart-complete:disabled,\n",
              "  .colab-df-quickchart-complete:disabled:hover {\n",
              "    background-color: var(--disabled-bg-color);\n",
              "    fill: var(--disabled-fill-color);\n",
              "    box-shadow: none;\n",
              "  }\n",
              "\n",
              "  .colab-df-spinner {\n",
              "    border: 2px solid var(--fill-color);\n",
              "    border-color: transparent;\n",
              "    border-bottom-color: var(--fill-color);\n",
              "    animation:\n",
              "      spin 1s steps(1) infinite;\n",
              "  }\n",
              "\n",
              "  @keyframes spin {\n",
              "    0% {\n",
              "      border-color: transparent;\n",
              "      border-bottom-color: var(--fill-color);\n",
              "      border-left-color: var(--fill-color);\n",
              "    }\n",
              "    20% {\n",
              "      border-color: transparent;\n",
              "      border-left-color: var(--fill-color);\n",
              "      border-top-color: var(--fill-color);\n",
              "    }\n",
              "    30% {\n",
              "      border-color: transparent;\n",
              "      border-left-color: var(--fill-color);\n",
              "      border-top-color: var(--fill-color);\n",
              "      border-right-color: var(--fill-color);\n",
              "    }\n",
              "    40% {\n",
              "      border-color: transparent;\n",
              "      border-right-color: var(--fill-color);\n",
              "      border-top-color: var(--fill-color);\n",
              "    }\n",
              "    60% {\n",
              "      border-color: transparent;\n",
              "      border-right-color: var(--fill-color);\n",
              "    }\n",
              "    80% {\n",
              "      border-color: transparent;\n",
              "      border-right-color: var(--fill-color);\n",
              "      border-bottom-color: var(--fill-color);\n",
              "    }\n",
              "    90% {\n",
              "      border-color: transparent;\n",
              "      border-bottom-color: var(--fill-color);\n",
              "    }\n",
              "  }\n",
              "</style>\n",
              "\n",
              "  <script>\n",
              "    async function quickchart(key) {\n",
              "      const quickchartButtonEl =\n",
              "        document.querySelector('#' + key + ' button');\n",
              "      quickchartButtonEl.disabled = true;  // To prevent multiple clicks.\n",
              "      quickchartButtonEl.classList.add('colab-df-spinner');\n",
              "      try {\n",
              "        const charts = await google.colab.kernel.invokeFunction(\n",
              "            'suggestCharts', [key], {});\n",
              "      } catch (error) {\n",
              "        console.error('Error during call to suggestCharts:', error);\n",
              "      }\n",
              "      quickchartButtonEl.classList.remove('colab-df-spinner');\n",
              "      quickchartButtonEl.classList.add('colab-df-quickchart-complete');\n",
              "    }\n",
              "    (() => {\n",
              "      let quickchartButtonEl =\n",
              "        document.querySelector('#df-ea8287e0-45f5-4f63-83c6-68d98cfddb53 button');\n",
              "      quickchartButtonEl.style.display =\n",
              "        google.colab.kernel.accessAllowed ? 'block' : 'none';\n",
              "    })();\n",
              "  </script>\n",
              "</div>\n",
              "\n",
              "  <div id=\"id_e8e623ea-c119-40bd-aa38-4b14662e7670\">\n",
              "    <style>\n",
              "      .colab-df-generate {\n",
              "        background-color: #E8F0FE;\n",
              "        border: none;\n",
              "        border-radius: 50%;\n",
              "        cursor: pointer;\n",
              "        display: none;\n",
              "        fill: #1967D2;\n",
              "        height: 32px;\n",
              "        padding: 0 0 0 0;\n",
              "        width: 32px;\n",
              "      }\n",
              "\n",
              "      .colab-df-generate:hover {\n",
              "        background-color: #E2EBFA;\n",
              "        box-shadow: 0px 1px 2px rgba(60, 64, 67, 0.3), 0px 1px 3px 1px rgba(60, 64, 67, 0.15);\n",
              "        fill: #174EA6;\n",
              "      }\n",
              "\n",
              "      [theme=dark] .colab-df-generate {\n",
              "        background-color: #3B4455;\n",
              "        fill: #D2E3FC;\n",
              "      }\n",
              "\n",
              "      [theme=dark] .colab-df-generate:hover {\n",
              "        background-color: #434B5C;\n",
              "        box-shadow: 0px 1px 3px 1px rgba(0, 0, 0, 0.15);\n",
              "        filter: drop-shadow(0px 1px 2px rgba(0, 0, 0, 0.3));\n",
              "        fill: #FFFFFF;\n",
              "      }\n",
              "    </style>\n",
              "    <button class=\"colab-df-generate\" onclick=\"generateWithVariable('tabela')\"\n",
              "            title=\"Generate code using this dataframe.\"\n",
              "            style=\"display:none;\">\n",
              "\n",
              "  <svg xmlns=\"http://www.w3.org/2000/svg\" height=\"24px\"viewBox=\"0 0 24 24\"\n",
              "       width=\"24px\">\n",
              "    <path d=\"M7,19H8.4L18.45,9,17,7.55,7,17.6ZM5,21V16.75L18.45,3.32a2,2,0,0,1,2.83,0l1.4,1.43a1.91,1.91,0,0,1,.58,1.4,1.91,1.91,0,0,1-.58,1.4L9.25,21ZM18.45,9,17,7.55Zm-12,3A5.31,5.31,0,0,0,4.9,8.1,5.31,5.31,0,0,0,1,6.5,5.31,5.31,0,0,0,4.9,4.9,5.31,5.31,0,0,0,6.5,1,5.31,5.31,0,0,0,8.1,4.9,5.31,5.31,0,0,0,12,6.5,5.46,5.46,0,0,0,6.5,12Z\"/>\n",
              "  </svg>\n",
              "    </button>\n",
              "    <script>\n",
              "      (() => {\n",
              "      const buttonEl =\n",
              "        document.querySelector('#id_e8e623ea-c119-40bd-aa38-4b14662e7670 button.colab-df-generate');\n",
              "      buttonEl.style.display =\n",
              "        google.colab.kernel.accessAllowed ? 'block' : 'none';\n",
              "\n",
              "      buttonEl.onclick = () => {\n",
              "        google.colab.notebook.generateWithVariable('tabela');\n",
              "      }\n",
              "      })();\n",
              "    </script>\n",
              "  </div>\n",
              "\n",
              "    </div>\n",
              "  </div>\n"
            ],
            "application/vnd.google.colaboratory.intrinsic+json": {
              "type": "dataframe",
              "variable_name": "tabela"
            }
          },
          "metadata": {},
          "execution_count": 55
        }
      ],
      "source": [
        "tabela = pd.read_csv('https://raw.githubusercontent.com/BMClab/BasesComputacionais/master/dados/BDSinfo.csv', sep='\\t')\n",
        "tabela\n"
      ]
    },
    {
      "cell_type": "code",
      "source": [
        "print(f\"A variância da altura é {tabela['Height'].var()} cm²\")"
      ],
      "metadata": {
        "id": "xMQaS9GdHbQX",
        "outputId": "1db3f5d2-6c78-4f87-9d44-2c56a78e20d0",
        "colab": {
          "base_uri": "https://localhost:8080/"
        }
      },
      "execution_count": 61,
      "outputs": [
        {
          "output_type": "stream",
          "name": "stdout",
          "text": [
            "A variância da altura é 93.0031902513316 cm²\n"
          ]
        }
      ]
    },
    {
      "cell_type": "markdown",
      "metadata": {
        "id": "tA9epH3Ix7Gv"
      },
      "source": [
        "### Desvio-padrão\n",
        "\n",
        "O desvio-padrão é a raiz quadrada da variância.\n",
        "\n",
        "$$S = \\sqrt{\\frac{\\displaystyle\\sum_{i=0}^{N-1}(x-\\bar{x})^2}{N-1}}$$\n",
        "\n",
        "A medida mais utilizada para descrever a dispersão das amostras é o desvio-padrão, já que ele tem a mesma unidade das amostras (a variância tem a unidade das amostras ao quadrado)."
      ]
    },
    {
      "cell_type": "markdown",
      "metadata": {
        "id": "K2y7lJpQx7Gv"
      },
      "source": [
        "Para calcular o desvio-padrão dos valores de uma coluna de um DataFrame do Pandas basta acrescentar '.std()' ao nome da coluna."
      ]
    },
    {
      "cell_type": "code",
      "execution_count": 35,
      "metadata": {
        "id": "vXoEFuHax7Gw",
        "outputId": "6bd0b908-e8d8-434f-e7df-f3541ed10d80",
        "colab": {
          "base_uri": "https://localhost:8080/"
        }
      },
      "outputs": [
        {
          "output_type": "execute_result",
          "data": {
            "text/plain": [
              "9.643816166400706"
            ]
          },
          "metadata": {},
          "execution_count": 35
        }
      ],
      "source": [
        "tabela['Height'].std()"
      ]
    },
    {
      "cell_type": "markdown",
      "metadata": {
        "id": "4qjNnfwHx7Gw"
      },
      "source": [
        "Uma maneira muito comum de representar a média e o desvio-padrão de uma amostra é representar a média com uma linha e outras duas linhas, cada uma com  o valor de $\\bar{x}+S$ e $\\bar{x}-S$. Isso permite visualizar qual o intervalo a amostra em análise se distribui."
      ]
    },
    {
      "cell_type": "code",
      "execution_count": 62,
      "metadata": {
        "id": "he_59sB2x7Gw",
        "outputId": "e7b982a5-a0e3-4120-c659-950d62b4b1ce",
        "colab": {
          "base_uri": "https://localhost:8080/",
          "height": 450
        }
      },
      "outputs": [
        {
          "output_type": "display_data",
          "data": {
            "text/plain": [
              "<Figure size 640x480 with 1 Axes>"
            ],
            "image/png": "[encoded data removed]"
          },
          "metadata": {}
        }
      ],
      "source": [
        "stdX = tabela['Height'].std()\n",
        "\n",
        "plt.figure()\n",
        "plt.plot(np.arange(0,len(tabela)), tabela['Height'], marker = 'o', linestyle = '', label='amostras', color = 'black')\n",
        "plt.axhline(tabela['Height'].mean(), marker = '',\n",
        "         linestyle = '-', color = 'red', label='média')\n",
        "plt.axhline(tabela['Height'].mean() + stdX, marker = '',\n",
        "         linestyle = '--', color = 'blue', label='desvio-padrão')\n",
        "plt.axhline(tabela['Height'].mean() - stdX, marker = '',\n",
        "         linestyle = '--', color = 'blue')\n",
        "plt.legend()\n",
        "plt.ylabel('Altura (cm)')\n",
        "plt.xlabel('Número do sujeito')\n",
        "plt.show()"
      ]
    },
    {
      "cell_type": "markdown",
      "metadata": {
        "id": "P6qq0tTFx7Gw"
      },
      "source": [
        "### Percentil\n",
        "\n",
        "Uma outra maneira de mostrar a dispersão do dado é usando os percentis. Para encontrar os percentis, podemos dividir a sua amostra em 100 partes após ordenar a amostra do menor valor para o maior valor. O percentil 1 (1 % do dado) será o valor encontrado na primeira parte. O percentil 50 é o valor encontrado na quinquagésima parte (e é igual a mediana). Podemos encontrar o percentil usando o comando quantile(p), em que p é o percentil, dado de 0 a 1 (1 é 100 %, 0,5 é 50%, 0,01 é 1% e assim por diante).\n",
        "\n",
        "Por exemplo, o percentil 25 da altura dos participantes é:"
      ]
    },
    {
      "cell_type": "code",
      "execution_count": 38,
      "metadata": {
        "id": "Ed8zeJKbx7Gx",
        "outputId": "1ad18243-33e9-40ff-8544-deaf12bb545a",
        "colab": {
          "base_uri": "https://localhost:8080/"
        }
      },
      "outputs": [
        {
          "output_type": "execute_result",
          "data": {
            "text/plain": [
              "155.0"
            ]
          },
          "metadata": {},
          "execution_count": 38
        }
      ],
      "source": [
        "tabela['Height'].quantile(0.25)"
      ]
    },
    {
      "cell_type": "markdown",
      "metadata": {
        "id": "WBv2vG01x7Gx"
      },
      "source": [
        "Aqui é mostrado o dado da Renda dos jogos com as linhas mostrando os percentis 25%, 50%, 75% e 90%. Isso permite que se tenha uma ideia da distribuição do dado."
      ]
    },
    {
      "cell_type": "code",
      "execution_count": 44,
      "metadata": {
        "id": "wmTv0SNjx7Gx",
        "outputId": "2b853763-8845-4d29-8997-60c0ae1d7191",
        "colab": {
          "base_uri": "https://localhost:8080/",
          "height": 450
        }
      },
      "outputs": [
        {
          "output_type": "display_data",
          "data": {
            "text/plain": [
              "<Figure size 640x480 with 1 Axes>"
            ],
            "image/png": "[encoded data removed]"
          },
          "metadata": {}
        }
      ],
      "source": [
        "plt.figure()\n",
        "plt.plot(np.arange(0,len(tabela)), tabela['Height'], marker = 'o',\n",
        "         linestyle = '', label='amostras', color='black')\n",
        "plt.axhline(tabela['Height'].quantile(0.1), marker='', linestyle='-', color = 'yellow', label='percentil 10')\n",
        "plt.axhline(tabela['Height'].quantile(0.25), marker='', linestyle='-', color = 'red', label='percentil 25')\n",
        "plt.axhline(tabela['Height'].quantile(0.5), marker='', linestyle='-', color = 'green', label='percentil 50')\n",
        "plt.axhline(tabela['Height'].quantile(0.75), marker='', linestyle='-', color = 'blue', label='percentil 75')\n",
        "plt.axhline(tabela['Height'].quantile(0.9), marker='', linestyle='-', color = 'purple', label='percentil 90')\n",
        "plt.legend()\n",
        "plt.ylabel('Altura (cm)')\n",
        "plt.xlabel('Número do sujeito')\n",
        "plt.show()"
      ]
    },
    {
      "cell_type": "markdown",
      "source": [
        "Usando a função `describe()`, é possível obter as diferentes medidas descritivas dobre o dado de uma coluna de uma tabela. Por exemplo, para os dados da altura:"
      ],
      "metadata": {
        "id": "ODVI8e2XBZur"
      }
    },
    {
      "cell_type": "code",
      "execution_count": 50,
      "metadata": {
        "colab": {
          "base_uri": "https://localhost:8080/",
          "height": 335
        },
        "id": "uYjrqCJdfKat",
        "outputId": "6ce0e24e-9986-4a8c-cdf5-1f2553d7ec06"
      },
      "outputs": [
        {
          "output_type": "execute_result",
          "data": {
            "text/plain": [
              "count    1930.000000\n",
              "mean      162.340052\n",
              "std         9.643816\n",
              "min       140.000000\n",
              "25%       155.000000\n",
              "50%       161.800000\n",
              "75%       168.800000\n",
              "max       189.800000\n",
              "Name: Height, dtype: float64"
            ],
            "text/html": [
              "<div>\n",
              "<style scoped>\n",
              "    .dataframe tbody tr th:only-of-type {\n",
              "        vertical-align: middle;\n",
              "    }\n",
              "\n",
              "    .dataframe tbody tr th {\n",
              "        vertical-align: top;\n",
              "    }\n",
              "\n",
              "    .dataframe thead th {\n",
              "        text-align: right;\n",
              "    }\n",
              "</style>\n",
              "<table border=\"1\" class=\"dataframe\">\n",
              "  <thead>\n",
              "    <tr style=\"text-align: right;\">\n",
              "      <th></th>\n",
              "      <th>Height</th>\n",
              "    </tr>\n",
              "  </thead>\n",
              "  <tbody>\n",
              "    <tr>\n",
              "      <th>count</th>\n",
              "      <td>1930.000000</td>\n",
              "    </tr>\n",
              "    <tr>\n",
              "      <th>mean</th>\n",
              "      <td>162.340052</td>\n",
              "    </tr>\n",
              "    <tr>\n",
              "      <th>std</th>\n",
              "      <td>9.643816</td>\n",
              "    </tr>\n",
              "    <tr>\n",
              "      <th>min</th>\n",
              "      <td>140.000000</td>\n",
              "    </tr>\n",
              "    <tr>\n",
              "      <th>25%</th>\n",
              "      <td>155.000000</td>\n",
              "    </tr>\n",
              "    <tr>\n",
              "      <th>50%</th>\n",
              "      <td>161.800000</td>\n",
              "    </tr>\n",
              "    <tr>\n",
              "      <th>75%</th>\n",
              "      <td>168.800000</td>\n",
              "    </tr>\n",
              "    <tr>\n",
              "      <th>max</th>\n",
              "      <td>189.800000</td>\n",
              "    </tr>\n",
              "  </tbody>\n",
              "</table>\n",
              "</div><br><label><b>dtype:</b> float64</label>"
            ]
          },
          "metadata": {},
          "execution_count": 50
        }
      ],
      "source": [
        "tabela['Height'].describe()"
      ]
    },
    {
      "cell_type": "markdown",
      "metadata": {
        "id": "GtDEgyFjx7Gy"
      },
      "source": [
        "## Gráficos"
      ]
    },
    {
      "cell_type": "markdown",
      "metadata": {
        "id": "cneDEm4Ux7Gy"
      },
      "source": [
        "### Histograma\n",
        "\n",
        "O histograma é um tipo de gráfico que permite visualizar a forma da distribuição dos valores dos elementos de uma amostra.\n",
        "\n",
        "Para construir um histograma, divide-se a faixa numérica da variável em intervalos. Em seguida, são contadas quantos elementos estão em cada intervalo."
      ]
    },
    {
      "cell_type": "markdown",
      "metadata": {
        "id": "f4CSsZ-3x7Gy"
      },
      "source": [
        "É possível construir um histograma com o comando do matplotlib `plt.hist(x)`, em que x é o vetor contendo os elementos da sua amostra."
      ]
    },
    {
      "cell_type": "code",
      "execution_count": 45,
      "metadata": {
        "colab": {
          "base_uri": "https://localhost:8080/",
          "height": 449
        },
        "id": "IHe8z050x7Gy",
        "outputId": "22f2f7cb-fe96-4911-bc4b-d8cc3173b858"
      },
      "outputs": [
        {
          "output_type": "display_data",
          "data": {
            "text/plain": [
              "<Figure size 640x480 with 1 Axes>"
            ],
            "image/png": "[encoded data removed]"
          },
          "metadata": {}
        }
      ],
      "source": [
        "plt.figure()\n",
        "plt.hist(tabela['Height'])\n",
        "plt.xlabel('Altura (cm)')\n",
        "plt.grid()\n",
        "plt.show()"
      ]
    },
    {
      "cell_type": "markdown",
      "metadata": {
        "id": "kSqaR507x7Gy"
      },
      "source": [
        "Outra maneira de construir um histograma é, a partir de um DataFrame do Pandas, adicionar `.hist()`."
      ]
    },
    {
      "cell_type": "code",
      "execution_count": 46,
      "metadata": {
        "id": "A2zXjDw4x7Gz",
        "outputId": "a2d49897-70a1-4738-c323-de12c559d73b",
        "colab": {
          "base_uri": "https://localhost:8080/",
          "height": 449
        }
      },
      "outputs": [
        {
          "output_type": "display_data",
          "data": {
            "text/plain": [
              "<Figure size 640x480 with 1 Axes>"
            ],
            "image/png": "[encoded data removed]"
          },
          "metadata": {}
        }
      ],
      "source": [
        "plt.figure()\n",
        "tabela['Height'].hist()\n",
        "plt.xlabel('Altura')\n",
        "plt.show()"
      ]
    },
    {
      "cell_type": "markdown",
      "source": [
        "Um outro exemplo, agora do peso dos participantes."
      ],
      "metadata": {
        "id": "xkCtswCGBPny"
      }
    },
    {
      "cell_type": "code",
      "execution_count": 48,
      "metadata": {
        "colab": {
          "base_uri": "https://localhost:8080/",
          "height": 449
        },
        "id": "2DZCS58UfBRw",
        "outputId": "16d860b0-765b-4452-c232-a7926c0a5a1a"
      },
      "outputs": [
        {
          "output_type": "display_data",
          "data": {
            "text/plain": [
              "<Figure size 640x480 with 1 Axes>"
            ],
            "image/png": "[encoded data removed]"
          },
          "metadata": {}
        }
      ],
      "source": [
        "plt.figure()\n",
        "tabela['Weight'].hist()\n",
        "plt.xlabel('Peso (kg)')\n",
        "plt.show()"
      ]
    },
    {
      "cell_type": "markdown",
      "metadata": {
        "id": "sEixk-uXx7Gz"
      },
      "source": [
        "### Boxplot\n",
        "\n",
        "Um outro tipo de gráfico que mostra a dispersão do dado é o boxplot. Ele mostra diversos elementos:\n",
        "\n",
        "- A linha dentro da caixa é a mediana do dado (percentil 50)\n",
        "- A linha do limite inferior da caixa  é o percentil 25 (conhecido também como quartil 1 ou Q1)\n",
        "- A linha do limite superior da caixa é o percentil 75 (conhecido também como quartil 3 ou Q3\n",
        "- A linha de cima é o valor $Q_3 + 1,5(Q3-Q1)$\n",
        "- A linha de baixo é o valor $Q_1 - 1,5(Q3-Q1)$\n",
        "- Os pontos acima da linha superior e abaixo da linha inferior são os outliers (pontos discrepantes). Os outliers normalmente são interpretados como não sendo parte do resto do conjunto. Em muitas análises os outliers são descartados.\n"
      ]
    },
    {
      "cell_type": "markdown",
      "metadata": {
        "id": "BRgYxDHEx7Gz"
      },
      "source": [
        "É possível fazer um boxplot usando o comando boxplot('nome_da_coluna') após o nome do Dataframe do Pandas."
      ]
    },
    {
      "cell_type": "code",
      "execution_count": 51,
      "metadata": {
        "id": "lT1NZPRTx7Gz",
        "outputId": "7e21388a-5992-4aef-c2b5-7ee33b2f34dc",
        "colab": {
          "base_uri": "https://localhost:8080/",
          "height": 430
        }
      },
      "outputs": [
        {
          "output_type": "display_data",
          "data": {
            "text/plain": [
              "<Figure size 640x480 with 1 Axes>"
            ],
            "image/png": "[encoded data removed]"
          },
          "metadata": {}
        }
      ],
      "source": [
        "plt.figure()\n",
        "tabela.boxplot('Height')\n",
        "plt.show()"
      ]
    },
    {
      "cell_type": "markdown",
      "metadata": {
        "id": "V_g4a_rSx7G0"
      },
      "source": [
        "### Quando não usar a média como medida de tendência central\n",
        "\n",
        "Quando temos valores que distoam muito da maioria (esses pontos são conhecidos como 'outliers') não devemos usar a média.\n",
        "\n",
        "Por exemplo, se tivermos os seguintes valores:"
      ]
    },
    {
      "cell_type": "code",
      "execution_count": null,
      "metadata": {
        "id": "M2d2q_sFx7G0"
      },
      "outputs": [],
      "source": [
        "x = np.array([-2.5, -4.3, -7.1, -6.2, -4.1, 0.2])"
      ]
    },
    {
      "cell_type": "markdown",
      "metadata": {
        "id": "xu-YJULax7G0"
      },
      "source": [
        "A média e a mediana são muito próximas uma da outra. Qualquer uma das medidas poderiam ser utilizadas como medida de tendência central."
      ]
    },
    {
      "cell_type": "code",
      "execution_count": null,
      "metadata": {
        "id": "Y5VcCGEix7G0",
        "outputId": "192ca242-18cd-4af2-bd67-d05195a7a216"
      },
      "outputs": [
        {
          "name": "stdout",
          "output_type": "stream",
          "text": [
            "Média de x é -4.00\n",
            "Mediana de x é -4.20\n"
          ]
        }
      ],
      "source": [
        "print(f'Média de x é {np.mean(x):.2f}')\n",
        "print(f'Mediana de x é {np.median(x):.2f}')"
      ]
    },
    {
      "cell_type": "markdown",
      "metadata": {
        "id": "_3RqN-rgx7G0"
      },
      "source": [
        "Agora, acrescentando um valor muito diferente do resto do conjunto:"
      ]
    },
    {
      "cell_type": "code",
      "execution_count": null,
      "metadata": {
        "id": "oUIZnheUx7G1"
      },
      "outputs": [],
      "source": [
        "x = np.array([-2.5, -4.3, -7.1, -6.2, -4.1, 0.2, 105.3])"
      ]
    },
    {
      "cell_type": "markdown",
      "metadata": {
        "id": "obNexSv7x7G1"
      },
      "source": [
        "A média e a mediana são valores muito diferentes. Nesse caso, a média não é representativa do conjunto enquanto a mediana é."
      ]
    },
    {
      "cell_type": "code",
      "execution_count": null,
      "metadata": {
        "id": "nXbJz9jAx7G1",
        "outputId": "7da95b8b-32f4-466d-d5d7-06d503d8a238"
      },
      "outputs": [
        {
          "name": "stdout",
          "output_type": "stream",
          "text": [
            "Média de x é 11.61\n",
            "Mediana de x é -4.10\n"
          ]
        }
      ],
      "source": [
        "print(f'Média de x é {np.mean(x):.2f}')\n",
        "print(f'Mediana de x é {np.median(x):.2f}')"
      ]
    },
    {
      "cell_type": "markdown",
      "metadata": {
        "id": "QED_nZgdx7G1"
      },
      "source": [
        "Uma outra situação é quando a distribuição dos dados não for simétrica. Isso é possível de se ver usando tanto o histograma quanto o boxplot.\n",
        "\n"
      ]
    },
    {
      "cell_type": "markdown",
      "metadata": {
        "id": "PbUuaOifx7G2"
      },
      "source": [
        "Uma das colunas que a tabela com as informações demográficas  tem é o tamanho do pé da pessoa, em cm (FootLen). Se fizermos o histograma e o boxplot, vemos que o dado se distribui de forma razoavelmente simétrica em torno do pico do histograma e em torno da mediana no boxplot."
      ]
    },
    {
      "cell_type": "code",
      "execution_count": 52,
      "metadata": {
        "id": "7li49kQXx7G2",
        "outputId": "4e725fb5-a6cc-4cf0-87aa-bfd9b88bd71e",
        "colab": {
          "base_uri": "https://localhost:8080/",
          "height": 599
        }
      },
      "outputs": [
        {
          "output_type": "display_data",
          "data": {
            "text/plain": [
              "<Figure size 1200x700 with 2 Axes>"
            ],
            "image/png": "[encoded data removed]"
          },
          "metadata": {}
        }
      ],
      "source": [
        "plt.figure(figsize=(12,7))\n",
        "plt.subplot(1,2,1)\n",
        "tabela['FootLen'].hist()\n",
        "plt.subplot(1,2,2)\n",
        "tabela.boxplot('FootLen')\n",
        "plt.show()"
      ]
    },
    {
      "cell_type": "markdown",
      "metadata": {
        "id": "aJKRQgUyx7G2"
      },
      "source": [
        "Nesse caso, a média e a mediana são aproximadamente iguais."
      ]
    },
    {
      "cell_type": "code",
      "execution_count": 54,
      "metadata": {
        "id": "tBp1eJ1Ax7G3",
        "outputId": "8b599eb8-f05f-453e-cfbd-c82adb7288a3",
        "colab": {
          "base_uri": "https://localhost:8080/"
        }
      },
      "outputs": [
        {
          "output_type": "stream",
          "name": "stdout",
          "text": [
            "média = 22.97355718782791\n",
            "mediana = 22.95\n"
          ]
        }
      ],
      "source": [
        "print(f\"média = {tabela['FootLen'].mean()}\")\n",
        "print(f\"mediana = {tabela['FootLen'].median():.2f}\")"
      ]
    },
    {
      "cell_type": "markdown",
      "metadata": {
        "id": "L9KfJB_9x7G3"
      },
      "source": [
        "Já neste caso abaixo, considerando a coluna `Renda (R$)` dos jogo do cameponato Brasileiro de 2018, os dados além de serem bastante assimétricos em torno do pico do histograma, têm vários outliers, mostrados no boxplot."
      ]
    },
    {
      "cell_type": "code",
      "execution_count": 77,
      "metadata": {
        "id": "WJyGJYuwx7G3",
        "outputId": "1e06b1d5-bfae-4db2-e176-b4ca485bf4e3",
        "colab": {
          "base_uri": "https://localhost:8080/",
          "height": 633
        }
      },
      "outputs": [
        {
          "output_type": "display_data",
          "data": {
            "text/plain": [
              "<Figure size 1200x700 with 2 Axes>"
            ],
            "image/png": "[encoded data removed]"
          },
          "metadata": {}
        }
      ],
      "source": [
        "plt.figure(figsize=(12,7))\n",
        "plt.subplot(1,2,1)\n",
        "brasileirao['Renda (R$)'].hist()\n",
        "plt.subplot(1,2,2)\n",
        "brasileirao.boxplot('Renda (R$)')\n",
        "plt.show()"
      ]
    },
    {
      "cell_type": "markdown",
      "metadata": {
        "id": "lqrDKNhsx7G3"
      },
      "source": [
        "Neste caso, a média e a mediana são bem diferentes, mas claramente o valor da mediana é uma medida melhor da tendência central do dado (mais próximo do pico do histograma)."
      ]
    },
    {
      "cell_type": "code",
      "execution_count": 79,
      "metadata": {
        "id": "l61jq5GFx7G3",
        "outputId": "16776c5b-ca62-4fad-ce6b-672ad71aa861",
        "colab": {
          "base_uri": "https://localhost:8080/"
        }
      },
      "outputs": [
        {
          "output_type": "stream",
          "name": "stdout",
          "text": [
            "média = 570256.19\n",
            "mediana = 302502.50\n"
          ]
        }
      ],
      "source": [
        "print(f\"média = {brasileirao['Renda (R$)'].mean():.2f}\")\n",
        "print(f\"mediana = {brasileirao['Renda (R$)'].median():.2f}\")"
      ]
    },
    {
      "cell_type": "markdown",
      "metadata": {
        "id": "FneBX6fAx7G4"
      },
      "source": [
        "### Exercícios\n",
        "\n",
        "- Escrever um notebook do Colab para fazer o que pedido a seguir.\n",
        "\n",
        "\n",
        "\n",
        "**1)** Para este item você deverá usar o arquivo [com todos os resultados do campeonato Brasileiro de futebol de 2018](https://raw.githubusercontent.com/BMClab/BasesComputacionais/master/dados/tabelaBrasileirao2018.csv).\n",
        "\n",
        "\n",
        "- Escolha um time e faça o histograma da distribuição do público nos jogos em que este time foi o mandante.\n",
        "\n",
        "- Calcule qual foi o público médio nos jogos em que o time escolhido foi o mandante."
      ]
    },
    {
      "cell_type": "markdown",
      "metadata": {
        "id": "XP1scwmkx7G4"
      },
      "source": [
        "**2)** Para este item você deverá usar o arquivo [com dados de força e torque medidos no chão enquanto uma pessoa tenta ficar em pé durante um minuto](https://raw.githubusercontent.com/BMClab/BasesComputacionais/master/dados/balance.csv).\n",
        "\n",
        "- Faça o gráfico do torque na direção y (My [Nm]) em função do tempo (Time [s]).\n",
        "\n",
        "- Mostre na tela a média e o desvio-padrão do torque na direção y."
      ]
    },
    {
      "cell_type": "markdown",
      "metadata": {
        "id": "td5bjVS2x7G4"
      },
      "source": [
        "**3)**  Para este item você deverá usar o arquivo com a [taxa de inflação mensal (IGP-DI) no Brasil de fevereiro de 1944 a junho de 2019](https://raw.githubusercontent.com/BMClab/BasesComputacionais/master/dados/inflacaoMensal.csv) (dados disponibilizados por Ipeadata).\n",
        "\n",
        "- Calcule a mediana da inflação mensal nos meses de março.\n",
        "\n",
        "- Calcule a média da inflação mensal nos meses de março.\n",
        "\n",
        "- Calcule o desvio-padrão da inflação mensal nos meses de março.\n",
        "\n",
        "- Faça o histograma da inflação mensal nos meses de março.\n"
      ]
    },
    {
      "cell_type": "markdown",
      "metadata": {
        "id": "7cgxwacAx7G5"
      },
      "source": [
        "**4)**  Para este item você deverá usar o arquivo com a [taxa de inflação mensal (IGP-DI) no Brasil de fevereiro de 1944 a junho de 2019](https://raw.githubusercontent.com/BMClab/BasesComputacionais/master/dados/inflacaoMensal.csv) (dados disponibilizados por Ipeadata).\n",
        "\n",
        "- Calcule a mediana da inflação mensal nos meses de março a partir de 1995.\n",
        "\n",
        "- Calcule a média da inflação mensal nos meses de março a partir de 1995.\n",
        "\n",
        "- Calcule o desvio-padrão da inflação mensal nos meses de março a partir de 1995.\n",
        "\n",
        "- Faça o histograma da inflação mensal nos meses de março a partir de 1995.\n",
        "\n",
        "- Coloque um comentário no seu script comentando a razão da diferença entre a média e a mediana ser alta no segundo item e baixa no terceiro item."
      ]
    },
    {
      "cell_type": "markdown",
      "metadata": {
        "id": "6JhG5Eubx7G5"
      },
      "source": [
        "**5)** Use a sequência de instruções abaixo para gerar N números aleatórios entre 0 e 1.\n",
        "\n",
        "`rng = np.random.default_rng()`  \n",
        "`x = rng.uniform(size=N)`\n",
        "\n",
        "Faça o histograma e calcule (e mostre na tela) a média dos valores gerados.\n",
        "\n",
        "Faça isso para a) N = 100, N = 1000, c) N = 10000, d) N = 100000"
      ]
    },
    {
      "cell_type": "markdown",
      "metadata": {
        "id": "heZbP-E_x7G5"
      },
      "source": [
        "### Referências\n",
        "\n",
        "- Chalco, JM, *Slides de Bases Computacionais da Ciência*, (2014)\n",
        "- Leite, S, *Slides de Bases Computacionais da Ciência*, (2018)\n",
        "- [Marietto, MGB et al.; **Bases computacionais da Ciência** (2013)](http://prograd.ufabc.edu.br/images/pdf/bases_computacionais_livro.pdf).\n",
        "- [BDS: Balance Data Set](https://github.com/BMClab/datasets/tree/master/Balance)\n",
        "- [Ipeadata](http://www.ipeadata.gov.br)"
      ]
    }
  ],
  "metadata": {
    "colab": {
      "provenance": []
    },
    "kernelspec": {
      "display_name": "Python 3 (ipykernel)",
      "language": "python",
      "name": "python3"
    },
    "language_info": {
      "codemirror_mode": {
        "name": "ipython",
        "version": 3
      },
      "file_extension": ".py",
      "mimetype": "text/x-python",
      "name": "python",
      "nbconvert_exporter": "python",
      "pygments_lexer": "ipython3",
      "version": "3.9.13"
    },
    "latex_envs": {
      "LaTeX_envs_menu_present": true,
      "autoclose": false,
      "autocomplete": true,
      "bibliofile": "biblio.bib",
      "cite_by": "apalike",
      "current_citInitial": 1,
      "eqLabelWithNumbers": true,
      "eqNumInitial": 1,
      "hotkeys": {
        "equation": "Ctrl-E",
        "itemize": "Ctrl-I"
      },
      "labels_anchors": false,
      "latex_user_defs": false,
      "report_style_numbering": false,
      "user_envs_cfg": false
    },
    "livereveal": {
      "autolaunch": true
    },
    "nbTranslate": {
      "displayLangs": [
        "*"
      ],
      "hotkey": "alt-t",
      "langInMainMenu": true,
      "sourceLang": "en",
      "targetLang": "fr",
      "useGoogleTranslate": true
    },
    "toc": {
      "base_numbering": 1,
      "nav_menu": {},
      "number_sections": true,
      "sideBar": true,
      "skip_h1_title": true,
      "title_cell": "Contents",
      "title_sidebar": "Contents",
      "toc_cell": true,
      "toc_position": {},
      "toc_section_display": true,
      "toc_window_display": false
    },
    "varInspector": {
      "cols": {
        "lenName": 16,
        "lenType": 16,
        "lenVar": 40
      },
      "kernels_config": {
        "python": {
          "delete_cmd_postfix": "",
          "delete_cmd_prefix": "del ",
          "library": "var_list.py",
          "varRefreshCmd": "print(var_dic_list())"
        },
        "r": {
          "delete_cmd_postfix": ") ",
          "delete_cmd_prefix": "rm(",
          "library": "var_list.r",
          "varRefreshCmd": "cat(var_dic_list()) "
        }
      },
      "types_to_exclude": [
        "module",
        "function",
        "builtin_function_or_method",
        "instance",
        "_Feature"
      ],
      "window_display": false
    }
  },
  "nbformat": 4,
  "nbformat_minor": 0
}